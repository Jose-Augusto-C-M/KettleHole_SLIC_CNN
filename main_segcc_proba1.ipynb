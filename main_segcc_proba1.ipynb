{
  "cells": [
    {
      "cell_type": "markdown",
      "metadata": {
        "id": "view-in-github",
        "colab_type": "text"
      },
      "source": [
        "<a href=\"https://colab.research.google.com/github/Jose-Augusto-C-M/KettleHole_SLIC_CNN/blob/main/main_segcc_proba1.ipynb\" target=\"_parent\"><img src=\"https://colab.research.google.com/assets/colab-badge.svg\" alt=\"Open In Colab\"/></a>"
      ]
    },
    {
      "cell_type": "code",
      "execution_count": null,
      "metadata": {
        "colab": {
          "base_uri": "https://localhost:8080/"
        },
        "id": "nsgPLE9je_Nf",
        "outputId": "cf16860e-73ba-4c4a-e1d9-ec6b8d2f326c"
      },
      "outputs": [
        {
          "name": "stdout",
          "output_type": "stream",
          "text": [
            "Drive already mounted at /content/drive; to attempt to forcibly remount, call drive.mount(\"/content/drive\", force_remount=True).\n"
          ]
        }
      ],
      "source": [
        "from google.colab import drive\n",
        "drive.mount('/content/drive')"
      ]
    },
    {
      "cell_type": "code",
      "execution_count": null,
      "metadata": {
        "id": "NcwxhlG9A5iq"
      },
      "outputs": [],
      "source": [
        "import cv2\n",
        "import matplotlib.pyplot as plt\n",
        "from PIL import Image\n",
        "from tensorflow.keras import applications \n",
        "from keras.preprocessing.image import ImageDataGenerator\n",
        "from keras import optimizers\n",
        "from keras.models import Model, load_model\n",
        "from numpy import resize, expand_dims\n",
        "from keras.preprocessing.image import load_img, img_to_array\n",
        "from tensorflow.keras.models import load_model\n",
        "from tensorflow.keras.applications.xception import decode_predictions\n",
        "from keras import backend as K\n",
        "import glob\n",
        "from skimage import segmentation\n",
        "from skimage.segmentation import mark_boundaries\n",
        "from skimage.util import img_as_float, img_as_ubyte\n",
        "import tensorflow as tf\n",
        "from skimage import io\n",
        "import numpy as np\n",
        "from skimage.util import img_as_float, img_as_ubyte\n",
        "from PIL import Image\n",
        "from numpy import resize, expand_dims\n",
        "from IPython.display import HTML, display\n",
        "from keras.preprocessing.image import ImageDataGenerator\n",
        "import pylab\n",
        "from tqdm import tqdm\n",
        "import time\n",
        "import csv\n",
        "import os\n",
        "import functools\n",
        "import multiprocessing\n",
        "from multiprocessing import Process, Manager\n",
        "import threading\n",
        "import tensorflow as tf\n",
        "import matplotlib.image as mpimg\n",
        "import scipy"
      ]
    },
    {
      "cell_type": "code",
      "execution_count": null,
      "metadata": {
        "colab": {
          "background_save": true,
          "base_uri": "https://localhost:8080/"
        },
        "id": "KwgjfxaD3_hL",
        "outputId": "e653ae9f-30a6-4082-b289-3d11caf59339"
      },
      "outputs": [
        {
          "name": "stderr",
          "output_type": "stream",
          "text": [
            "\rtqdm() Progress Bar Models:   0%|          | 0/1 [00:00<?, ?it/s]"
          ]
        },
        {
          "name": "stdout",
          "output_type": "stream",
          "text": [
            "Load Model H5:Xception_transfer_learning_adagrad.h5\n"
          ]
        },
        {
          "name": "stderr",
          "output_type": "stream",
          "text": [
            "\n",
            "tqdm() Progress Bar Files: 0it [00:00, ?it/s]\u001b[A"
          ]
        },
        {
          "name": "stdout",
          "output_type": "stream",
          "text": [
            "/content/drive/MyDrive/datasets/dataset_anette/data_labelme/image/100_0002_0033.png\n"
          ]
        },
        {
          "name": "stderr",
          "output_type": "stream",
          "text": [
            "/usr/local/lib/python3.7/dist-packages/ipykernel_launcher.py:57: FutureWarning: skimage.measure.label's indexing starts from 0. In future version it will start from 1. To disable this warning, explicitely set the `start_label` parameter to 1.\n"
          ]
        },
        {
          "name": "stdout",
          "output_type": "stream",
          "text": [
            "Processando os superpixels da imagem\n"
          ]
        },
        {
          "name": "stderr",
          "output_type": "stream",
          "text": [
            "\n",
            "\n",
            "tqdm() Progress Bar Segments: 0it [00:00, ?it/s]\u001b[A\u001b[A"
          ]
        },
        {
          "name": "stdout",
          "output_type": "stream",
          "text": [
            "[[4.8357807e-02 4.3031373e-03 1.4399826e-04 1.1305815e-03 2.5265820e-03\n",
            "  3.6620453e-02 2.4950312e-04 1.0525674e-02 7.5627565e-02 2.1717454e-04\n",
            "  8.2029754e-01]]\n"
          ]
        },
        {
          "name": "stderr",
          "output_type": "stream",
          "text": [
            "\n",
            "\n",
            "tqdm() Progress Bar Segments: 1it [00:01,  1.34s/it]\u001b[A\u001b[A"
          ]
        },
        {
          "name": "stdout",
          "output_type": "stream",
          "text": [
            "[[1.7707337e-02 5.4630749e-02 5.2362558e-04 1.0839608e-03 1.4922201e-02\n",
            "  3.9366420e-02 3.0707871e-03 1.8683231e-02 1.4872758e-01 6.7942170e-04\n",
            "  7.0060462e-01]]\n"
          ]
        },
        {
          "name": "stderr",
          "output_type": "stream",
          "text": [
            "\n",
            "\n",
            "tqdm() Progress Bar Segments: 2it [00:01,  1.18it/s]\u001b[A\u001b[A"
          ]
        },
        {
          "name": "stdout",
          "output_type": "stream",
          "text": [
            "[[3.44688334e-02 2.02554595e-02 7.76682689e-04 1.63798872e-03\n",
            "  1.23917805e-02 7.63830123e-03 2.47936288e-04 1.79767609e-02\n",
            "  1.91885922e-02 1.34049013e-04 8.85283589e-01]]\n"
          ]
        },
        {
          "name": "stderr",
          "output_type": "stream",
          "text": [
            "\n",
            "\n",
            "tqdm() Progress Bar Segments: 3it [00:02,  1.44it/s]\u001b[A\u001b[A"
          ]
        },
        {
          "name": "stdout",
          "output_type": "stream",
          "text": [
            "[[2.27525341e-03 4.42643068e-05 1.36669705e-05 3.10229894e-04\n",
            "  1.42740915e-04 3.48408706e-04 3.48878857e-05 5.10412756e-05\n",
            "  2.73907110e-02 9.93457252e-06 9.69378829e-01]]\n"
          ]
        },
        {
          "name": "stderr",
          "output_type": "stream",
          "text": [
            "\n",
            "\n",
            "tqdm() Progress Bar Segments: 4it [00:02,  1.60it/s]\u001b[A\u001b[A"
          ]
        },
        {
          "name": "stdout",
          "output_type": "stream",
          "text": [
            "[[4.4604372e-03 3.1562524e-03 4.5518980e-05 1.9872331e-03 1.2478019e-02\n",
            "  2.6022131e-03 6.9724751e-04 5.0347219e-03 6.8611509e-01 5.9083640e-04\n",
            "  2.8283241e-01]]\n"
          ]
        },
        {
          "name": "stderr",
          "output_type": "stream",
          "text": [
            "\n",
            "\n",
            "tqdm() Progress Bar Segments: 5it [00:03,  1.66it/s]\u001b[A\u001b[A"
          ]
        },
        {
          "name": "stdout",
          "output_type": "stream",
          "text": [
            "[[0.01150651 0.02176221 0.00146127 0.00899024 0.02966874 0.02001141\n",
            "  0.00597503 0.01354157 0.20110637 0.00255069 0.683426  ]]\n"
          ]
        },
        {
          "name": "stderr",
          "output_type": "stream",
          "text": [
            "\n",
            "\n",
            "tqdm() Progress Bar Segments: 6it [00:03,  1.74it/s]\u001b[A\u001b[A"
          ]
        },
        {
          "name": "stdout",
          "output_type": "stream",
          "text": [
            "[[0.00554947 0.01346115 0.00142934 0.03582053 0.08398529 0.07711634\n",
            "  0.11343417 0.01190616 0.45195606 0.00711694 0.19822459]]\n"
          ]
        },
        {
          "name": "stderr",
          "output_type": "stream",
          "text": [
            "\n",
            "\n",
            "tqdm() Progress Bar Segments: 7it [00:04,  1.80it/s]\u001b[A\u001b[A"
          ]
        },
        {
          "name": "stdout",
          "output_type": "stream",
          "text": [
            "[[1.79199479e-03 2.30286125e-04 7.33992201e-04 2.82361754e-03\n",
            "  2.56544679e-01 1.59803238e-02 6.08998910e-02 1.03143364e-04\n",
            "  4.96445373e-02 1.47249782e-04 6.11100197e-01]]\n"
          ]
        },
        {
          "name": "stderr",
          "output_type": "stream",
          "text": [
            "\n",
            "\n",
            "tqdm() Progress Bar Segments: 8it [00:04,  1.84it/s]\u001b[A\u001b[A"
          ]
        },
        {
          "name": "stdout",
          "output_type": "stream",
          "text": [
            "[[8.8352512e-04 2.3031419e-03 3.2380526e-04 1.7066731e-03 1.6812298e-01\n",
            "  7.2451130e-02 4.0096554e-01 1.7994628e-03 2.8617930e-01 2.2957870e-03\n",
            "  6.2968701e-02]]\n"
          ]
        },
        {
          "name": "stderr",
          "output_type": "stream",
          "text": [
            "\n",
            "\n",
            "tqdm() Progress Bar Segments: 9it [00:05,  1.85it/s]\u001b[A\u001b[A"
          ]
        },
        {
          "name": "stdout",
          "output_type": "stream",
          "text": [
            "[[3.9494219e-03 1.0391684e-03 5.8084639e-04 2.5299401e-03 5.7964988e-02\n",
            "  2.8498836e-02 3.2525934e-02 5.9554068e-04 1.7507933e-01 4.3258423e-04\n",
            "  6.9680333e-01]]\n"
          ]
        },
        {
          "name": "stderr",
          "output_type": "stream",
          "text": [
            "\n",
            "\n",
            "tqdm() Progress Bar Segments: 10it [00:06,  1.76it/s]\u001b[A\u001b[A"
          ]
        },
        {
          "name": "stdout",
          "output_type": "stream",
          "text": [
            "[[1.6198441e-03 1.2911315e-04 4.8024408e-04 1.2645998e-02 3.6473146e-01\n",
            "  5.7721450e-03 2.2390094e-02 5.0415882e-05 5.1975954e-02 1.4698321e-04\n",
            "  5.4005778e-01]]\n"
          ]
        },
        {
          "name": "stderr",
          "output_type": "stream",
          "text": [
            "\n",
            "\n",
            "tqdm() Progress Bar Segments: 11it [00:06,  1.80it/s]\u001b[A\u001b[A"
          ]
        },
        {
          "name": "stdout",
          "output_type": "stream",
          "text": [
            "[[1.0289802e-04 5.0942730e-05 3.9865125e-05 7.7510410e-04 9.6176767e-01\n",
            "  1.0990610e-03 1.4392929e-02 8.6932514e-06 1.7093917e-02 3.3898494e-05\n",
            "  4.6349885e-03]]\n"
          ]
        },
        {
          "name": "stderr",
          "output_type": "stream",
          "text": [
            "\n",
            "\n",
            "tqdm() Progress Bar Segments: 12it [00:07,  1.82it/s]\u001b[A\u001b[A"
          ]
        },
        {
          "name": "stdout",
          "output_type": "stream",
          "text": [
            "[[0.00991556 0.00079173 0.00378953 0.10722728 0.3543061  0.09919287\n",
            "  0.2592424  0.00053017 0.04729332 0.00486734 0.11284374]]\n"
          ]
        },
        {
          "name": "stderr",
          "output_type": "stream",
          "text": [
            "\n",
            "\n",
            "tqdm() Progress Bar Segments: 13it [00:07,  1.86it/s]\u001b[A\u001b[A"
          ]
        },
        {
          "name": "stdout",
          "output_type": "stream",
          "text": [
            "[[4.6781115e-03 8.1326428e-04 9.5295010e-04 1.1337245e-02 3.0097160e-01\n",
            "  3.7612300e-02 8.8894218e-02 3.1531739e-04 2.2356971e-01 9.8253821e-04\n",
            "  3.2987282e-01]]\n"
          ]
        },
        {
          "name": "stderr",
          "output_type": "stream",
          "text": [
            "\n",
            "\n",
            "tqdm() Progress Bar Segments: 14it [00:08,  1.89it/s]\u001b[A\u001b[A"
          ]
        },
        {
          "name": "stdout",
          "output_type": "stream",
          "text": [
            "[[0.00509581 0.00630013 0.00352479 0.06839349 0.15677604 0.14554417\n",
            "  0.24010319 0.00167489 0.2636629  0.01443566 0.09448892]]\n"
          ]
        },
        {
          "name": "stderr",
          "output_type": "stream",
          "text": [
            "\n",
            "\n",
            "tqdm() Progress Bar Segments: 15it [00:08,  1.91it/s]\u001b[A\u001b[A"
          ]
        },
        {
          "name": "stdout",
          "output_type": "stream",
          "text": [
            "[[2.4064754e-03 4.0664340e-04 1.0660914e-03 6.3053384e-02 7.1059644e-01\n",
            "  1.9562738e-02 6.4025596e-02 1.1745198e-04 4.1720279e-02 5.5193983e-04\n",
            "  9.6493073e-02]]\n"
          ]
        },
        {
          "name": "stderr",
          "output_type": "stream",
          "text": [
            "\n",
            "\n",
            "tqdm() Progress Bar Segments: 16it [00:09,  1.92it/s]\u001b[A\u001b[A"
          ]
        },
        {
          "name": "stdout",
          "output_type": "stream",
          "text": [
            "[[1.0556150e-03 4.2292688e-04 4.6801954e-04 8.1477635e-02 1.9071697e-01\n",
            "  1.9914057e-02 5.1934969e-01 3.3123430e-04 1.6809259e-01 1.2083608e-02\n",
            "  6.0876645e-03]]\n"
          ]
        },
        {
          "name": "stderr",
          "output_type": "stream",
          "text": [
            "\n",
            "\n",
            "tqdm() Progress Bar Segments: 17it [00:09,  1.94it/s]\u001b[A\u001b[A"
          ]
        },
        {
          "name": "stdout",
          "output_type": "stream",
          "text": [
            "[[4.1477763e-04 4.6964240e-04 1.8528328e-04 1.6339490e-02 6.0018021e-01\n",
            "  6.8847067e-03 6.3768066e-02 8.9381050e-05 2.9204512e-01 1.5825320e-03\n",
            "  1.8040782e-02]]\n"
          ]
        },
        {
          "name": "stderr",
          "output_type": "stream",
          "text": [
            "\n",
            "\n",
            "tqdm() Progress Bar Segments: 18it [00:10,  1.93it/s]\u001b[A\u001b[A"
          ]
        },
        {
          "name": "stdout",
          "output_type": "stream",
          "text": [
            "[[1.9103648e-04 2.5550527e-05 1.4414774e-04 5.4754486e-04 9.6142220e-01\n",
            "  1.0157304e-03 7.7407937e-03 5.0067479e-06 1.5233314e-03 9.0253488e-06\n",
            "  2.7375493e-02]]\n"
          ]
        },
        {
          "name": "stderr",
          "output_type": "stream",
          "text": [
            "\n",
            "\n",
            "tqdm() Progress Bar Segments: 19it [00:10,  1.93it/s]\u001b[A\u001b[A"
          ]
        },
        {
          "name": "stdout",
          "output_type": "stream",
          "text": [
            "[[3.3418721e-04 1.2507144e-04 9.9565506e-05 3.2369629e-03 9.0904766e-01\n",
            "  4.0004635e-03 3.6167514e-02 3.1275253e-05 4.1753653e-02 2.7965996e-04\n",
            "  4.9240249e-03]]\n"
          ]
        },
        {
          "name": "stderr",
          "output_type": "stream",
          "text": [
            "\n",
            "\n",
            "tqdm() Progress Bar Segments: 20it [00:11,  1.91it/s]\u001b[A\u001b[A"
          ]
        },
        {
          "name": "stdout",
          "output_type": "stream",
          "text": [
            "[[1.0172094e-03 3.0507465e-04 8.3627645e-04 1.4411353e-02 6.7302305e-01\n",
            "  1.4200892e-02 1.7928039e-01 1.2523569e-04 7.3667534e-02 6.3068385e-04\n",
            "  4.2502299e-02]]\n"
          ]
        },
        {
          "name": "stderr",
          "output_type": "stream",
          "text": [
            "\n",
            "\n",
            "tqdm() Progress Bar Segments: 21it [00:11,  1.91it/s]\u001b[A\u001b[A"
          ]
        },
        {
          "name": "stdout",
          "output_type": "stream",
          "text": [
            "[[4.2081671e-03 1.0638234e-03 1.8919632e-03 7.5472265e-02 6.4484388e-01\n",
            "  3.2378118e-02 1.1402528e-01 5.8731815e-04 6.1856292e-02 2.3620124e-03\n",
            "  6.1310980e-02]]\n"
          ]
        },
        {
          "name": "stderr",
          "output_type": "stream",
          "text": [
            "\n",
            "\n",
            "tqdm() Progress Bar Segments: 22it [00:12,  1.92it/s]\u001b[A\u001b[A"
          ]
        },
        {
          "name": "stdout",
          "output_type": "stream",
          "text": [
            "[[2.0765689e-04 6.8962152e-05 3.1390664e-05 3.8690188e-03 1.2979206e-01\n",
            "  7.6583709e-04 1.1320481e-02 5.7876401e-05 8.2959491e-01 4.2475478e-04\n",
            "  2.3867087e-02]]\n"
          ]
        },
        {
          "name": "stderr",
          "output_type": "stream",
          "text": [
            "\n",
            "\n",
            "tqdm() Progress Bar Segments: 23it [00:12,  1.92it/s]\u001b[A\u001b[A"
          ]
        },
        {
          "name": "stdout",
          "output_type": "stream",
          "text": [
            "[[2.3700022e-03 3.9846724e-04 2.9167489e-04 1.0561267e-02 5.3903234e-01\n",
            "  1.8558316e-02 2.4066886e-02 7.9975602e-05 1.8656194e-01 2.5804600e-04\n",
            "  2.1782106e-01]]\n"
          ]
        },
        {
          "name": "stderr",
          "output_type": "stream",
          "text": [
            "\n",
            "\n",
            "tqdm() Progress Bar Segments: 24it [00:13,  1.92it/s]\u001b[A\u001b[A"
          ]
        },
        {
          "name": "stdout",
          "output_type": "stream",
          "text": [
            "[[2.3329121e-04 5.6164929e-05 1.8694096e-04 7.6773921e-03 6.8723947e-01\n",
            "  2.1715593e-03 2.0658949e-01 2.1569213e-05 8.7895490e-02 4.3107316e-04\n",
            "  7.4975928e-03]]\n"
          ]
        },
        {
          "name": "stderr",
          "output_type": "stream",
          "text": [
            "\n",
            "\n",
            "tqdm() Progress Bar Segments: 25it [00:13,  1.93it/s]\u001b[A\u001b[A"
          ]
        },
        {
          "name": "stdout",
          "output_type": "stream",
          "text": [
            "[[9.52139846e-04 1.37211260e-04 2.21110007e-04 1.30117163e-02\n",
            "  1.62432760e-01 4.62254789e-03 1.24617524e-01 1.74339846e-04\n",
            "  6.80037141e-01 4.16281121e-03 9.63073969e-03]]\n"
          ]
        },
        {
          "name": "stderr",
          "output_type": "stream",
          "text": [
            "\n",
            "\n",
            "tqdm() Progress Bar Segments: 26it [00:14,  1.93it/s]\u001b[A\u001b[A"
          ]
        },
        {
          "name": "stdout",
          "output_type": "stream",
          "text": [
            "[[2.1643615e-03 2.3883987e-04 5.2600802e-04 1.4941011e-02 4.2473447e-01\n",
            "  1.6166165e-02 1.1166250e-01 9.7566714e-05 2.1041438e-01 7.6694787e-04\n",
            "  2.1828780e-01]]\n"
          ]
        },
        {
          "name": "stderr",
          "output_type": "stream",
          "text": [
            "\n",
            "\n",
            "tqdm() Progress Bar Segments: 27it [00:14,  1.94it/s]\u001b[A\u001b[A"
          ]
        },
        {
          "name": "stdout",
          "output_type": "stream",
          "text": [
            "[[3.4532726e-03 5.9086643e-04 6.8319164e-04 1.2890832e-01 4.4993511e-01\n",
            "  3.3951089e-02 1.9230181e-01 3.4039811e-04 1.6930492e-01 7.6677939e-03\n",
            "  1.2863237e-02]]\n"
          ]
        },
        {
          "name": "stderr",
          "output_type": "stream",
          "text": [
            "\n",
            "\n",
            "tqdm() Progress Bar Segments: 28it [00:15,  1.94it/s]\u001b[A\u001b[A"
          ]
        },
        {
          "name": "stdout",
          "output_type": "stream",
          "text": [
            "[[1.23407482e-03 1.01321551e-04 3.11268086e-04 1.07907578e-01\n",
            "  3.01082343e-01 4.69771586e-03 1.93137780e-01 1.14092945e-04\n",
            "  3.64707172e-01 5.39129460e-03 2.13153791e-02]]\n"
          ]
        },
        {
          "name": "stderr",
          "output_type": "stream",
          "text": [
            "\n",
            "\n",
            "tqdm() Progress Bar Segments: 29it [00:16,  1.88it/s]\u001b[A\u001b[A"
          ]
        },
        {
          "name": "stdout",
          "output_type": "stream",
          "text": [
            "[[1.5118605e-04 9.0279336e-06 3.8177583e-05 4.4190709e-02 8.9480174e-01\n",
            "  6.2914426e-04 3.4818377e-02 8.3638179e-06 1.9222235e-02 8.6653323e-05\n",
            "  6.0443915e-03]]\n"
          ]
        },
        {
          "name": "stderr",
          "output_type": "stream",
          "text": [
            "\n",
            "\n",
            "tqdm() Progress Bar Segments: 30it [00:16,  1.89it/s]\u001b[A\u001b[A"
          ]
        },
        {
          "name": "stdout",
          "output_type": "stream",
          "text": [
            "[[4.9616899e-03 4.8068014e-04 1.0569862e-03 2.6982775e-01 2.2621430e-01\n",
            "  1.0465893e-02 7.7761747e-02 3.3762259e-04 3.4668797e-01 8.5760010e-03\n",
            "  5.3629290e-02]]\n"
          ]
        },
        {
          "name": "stderr",
          "output_type": "stream",
          "text": [
            "\n",
            "\n",
            "tqdm() Progress Bar Segments: 31it [00:17,  1.90it/s]\u001b[A\u001b[A"
          ]
        },
        {
          "name": "stdout",
          "output_type": "stream",
          "text": [
            "[[1.3290227e-05 5.5110077e-06 6.5511404e-06 1.2711016e-03 9.8700047e-01\n",
            "  1.1719265e-04 3.0208619e-03 7.4777307e-07 6.6935029e-03 1.8482049e-05\n",
            "  1.8523199e-03]]\n"
          ]
        },
        {
          "name": "stderr",
          "output_type": "stream",
          "text": [
            "\n",
            "\n",
            "tqdm() Progress Bar Segments: 32it [00:17,  1.88it/s]\u001b[A\u001b[A"
          ]
        },
        {
          "name": "stdout",
          "output_type": "stream",
          "text": [
            "[[2.3734407e-03 1.0962455e-04 5.9607290e-05 9.6047474e-03 1.3835588e-01\n",
            "  8.2959728e-03 5.8250460e-03 9.6474112e-05 7.8492469e-01 1.0971308e-03\n",
            "  4.9257420e-02]]\n"
          ]
        },
        {
          "name": "stderr",
          "output_type": "stream",
          "text": [
            "\n",
            "\n",
            "tqdm() Progress Bar Segments: 33it [00:18,  1.89it/s]\u001b[A\u001b[A"
          ]
        },
        {
          "name": "stdout",
          "output_type": "stream",
          "text": [
            "[[0.00706268 0.00113158 0.00208896 0.5301316  0.26489043 0.01879445\n",
            "  0.04415579 0.00073066 0.09835652 0.0069614  0.02569599]]\n"
          ]
        },
        {
          "name": "stderr",
          "output_type": "stream",
          "text": [
            "\n",
            "\n",
            "tqdm() Progress Bar Segments: 34it [00:18,  1.89it/s]\u001b[A\u001b[A"
          ]
        },
        {
          "name": "stdout",
          "output_type": "stream",
          "text": [
            "[[3.8291272e-03 1.1518310e-04 5.0997408e-04 7.7477269e-02 7.2788632e-01\n",
            "  3.6768084e-03 4.5320136e-03 3.0797753e-05 3.8682699e-02 1.6268443e-04\n",
            "  1.4309713e-01]]\n"
          ]
        },
        {
          "name": "stderr",
          "output_type": "stream",
          "text": [
            "\n",
            "\n",
            "tqdm() Progress Bar Segments: 35it [00:19,  1.83it/s]\u001b[A\u001b[A"
          ]
        },
        {
          "name": "stdout",
          "output_type": "stream",
          "text": [
            "[[5.50162105e-04 3.08214439e-05 7.85226803e-05 7.90243372e-02\n",
            "  8.25529754e-01 1.77111535e-03 8.63257051e-03 1.05703275e-05\n",
            "  7.16196001e-02 3.66982014e-04 1.23856096e-02]]\n"
          ]
        },
        {
          "name": "stderr",
          "output_type": "stream",
          "text": [
            "\n",
            "\n",
            "tqdm() Progress Bar Segments: 36it [00:19,  1.86it/s]\u001b[A\u001b[A"
          ]
        },
        {
          "name": "stdout",
          "output_type": "stream",
          "text": [
            "[[4.9678632e-04 6.9712762e-05 1.4108604e-04 7.6749384e-02 8.9239532e-01\n",
            "  1.9447744e-03 2.5398615e-03 1.0392081e-05 1.0242785e-02 7.9994781e-05\n",
            "  1.5329950e-02]]\n"
          ]
        },
        {
          "name": "stderr",
          "output_type": "stream",
          "text": [
            "\n",
            "\n",
            "tqdm() Progress Bar Segments: 37it [00:20,  1.86it/s]\u001b[A\u001b[A"
          ]
        },
        {
          "name": "stdout",
          "output_type": "stream",
          "text": [
            "[[1.12886655e-05 5.36442985e-06 2.38673442e-06 9.67423490e-04\n",
            "  9.36440527e-01 1.21752244e-04 1.14088384e-02 7.56421059e-07\n",
            "  5.03287949e-02 4.93360239e-05 6.63522631e-04]]\n"
          ]
        },
        {
          "name": "stderr",
          "output_type": "stream",
          "text": [
            "\n",
            "\n",
            "tqdm() Progress Bar Segments: 38it [00:20,  1.87it/s]\u001b[A\u001b[A"
          ]
        },
        {
          "name": "stdout",
          "output_type": "stream",
          "text": [
            "[[2.9976954e-04 8.1699982e-05 4.3200969e-05 1.0318778e-02 6.6044468e-01\n",
            "  9.6670398e-04 1.2717450e-02 1.7110800e-05 2.6986849e-01 2.0889640e-04\n",
            "  4.5033149e-02]]\n"
          ]
        },
        {
          "name": "stderr",
          "output_type": "stream",
          "text": [
            "\n",
            "\n",
            "tqdm() Progress Bar Segments: 39it [00:21,  1.86it/s]\u001b[A\u001b[A"
          ]
        },
        {
          "name": "stdout",
          "output_type": "stream",
          "text": [
            "[[0.00466242 0.00066439 0.00116145 0.16381666 0.29815078 0.02198386\n",
            "  0.2767765  0.00116529 0.20045777 0.01440008 0.01676078]]\n"
          ]
        },
        {
          "name": "stderr",
          "output_type": "stream",
          "text": [
            "\n",
            "\n",
            "tqdm() Progress Bar Segments: 40it [00:21,  1.87it/s]\u001b[A\u001b[A"
          ]
        },
        {
          "name": "stdout",
          "output_type": "stream",
          "text": [
            "[[9.2875125e-06 2.6583350e-06 2.0426801e-06 1.6476718e-03 9.6330786e-01\n",
            "  3.0780007e-05 2.7153755e-03 6.5676403e-07 3.0338230e-02 1.0451975e-05\n",
            "  1.9349586e-03]]\n"
          ]
        },
        {
          "name": "stderr",
          "output_type": "stream",
          "text": [
            "\n",
            "\n",
            "tqdm() Progress Bar Segments: 41it [00:22,  1.89it/s]\u001b[A\u001b[A"
          ]
        },
        {
          "name": "stdout",
          "output_type": "stream",
          "text": [
            "[[5.2688300e-04 1.5453834e-05 3.0347070e-05 1.1003190e-01 7.2944927e-01\n",
            "  9.2383189e-04 1.9946739e-03 4.5613492e-06 8.9264490e-02 2.9980303e-05\n",
            "  6.7728654e-02]]\n"
          ]
        },
        {
          "name": "stderr",
          "output_type": "stream",
          "text": [
            "\n",
            "\n",
            "tqdm() Progress Bar Segments: 42it [00:22,  1.91it/s]\u001b[A\u001b[A"
          ]
        },
        {
          "name": "stdout",
          "output_type": "stream",
          "text": [
            "[[8.72602046e-04 5.93164819e-04 3.87677806e-04 3.09954342e-02\n",
            "  7.86350667e-01 8.45116377e-03 3.88579145e-02 1.30782442e-04\n",
            "  1.14871606e-01 1.78546109e-03 1.67035386e-02]]\n"
          ]
        },
        {
          "name": "stderr",
          "output_type": "stream",
          "text": [
            "\n",
            "\n",
            "tqdm() Progress Bar Segments: 43it [00:23,  1.91it/s]\u001b[A\u001b[A"
          ]
        },
        {
          "name": "stdout",
          "output_type": "stream",
          "text": [
            "[[2.2168075e-04 3.7243313e-05 2.3994984e-05 7.1441932e-03 8.7795043e-01\n",
            "  1.3298334e-03 1.0165577e-03 5.6461290e-06 3.6377586e-02 3.1587195e-05\n",
            "  7.5861320e-02]]\n"
          ]
        },
        {
          "name": "stderr",
          "output_type": "stream",
          "text": [
            "\n",
            "\n",
            "tqdm() Progress Bar Segments: 44it [00:24,  1.92it/s]\u001b[A\u001b[A"
          ]
        },
        {
          "name": "stdout",
          "output_type": "stream",
          "text": [
            "[[6.41239225e-04 8.70643940e-04 1.08880275e-04 2.39842013e-03\n",
            "  5.03450334e-01 3.93980183e-02 2.57223230e-02 3.30064504e-04\n",
            "  3.49237233e-01 1.45267858e-03 7.63901696e-02]]\n"
          ]
        },
        {
          "name": "stderr",
          "output_type": "stream",
          "text": [
            "\n",
            "\n",
            "tqdm() Progress Bar Segments: 45it [00:24,  1.91it/s]\u001b[A\u001b[A"
          ]
        },
        {
          "name": "stdout",
          "output_type": "stream",
          "text": [
            "[[1.3357450e-03 3.3779172e-04 3.4174125e-04 3.5387427e-03 6.8776923e-01\n",
            "  3.5034221e-02 5.0038133e-02 1.0551010e-04 1.6790518e-01 1.2201248e-03\n",
            "  5.2373528e-02]]\n"
          ]
        },
        {
          "name": "stderr",
          "output_type": "stream",
          "text": [
            "\n",
            "\n",
            "tqdm() Progress Bar Segments: 46it [00:25,  1.91it/s]\u001b[A\u001b[A"
          ]
        },
        {
          "name": "stdout",
          "output_type": "stream",
          "text": [
            "[[1.3644810e-04 2.6562544e-05 3.5296132e-05 9.1500366e-03 9.7470438e-01\n",
            "  4.6465744e-04 1.9670341e-03 3.2694820e-06 8.7063424e-03 3.8063459e-05\n",
            "  4.7679325e-03]]\n"
          ]
        },
        {
          "name": "stderr",
          "output_type": "stream",
          "text": [
            "\n",
            "\n",
            "tqdm() Progress Bar Segments: 47it [00:25,  1.90it/s]\u001b[A\u001b[A"
          ]
        },
        {
          "name": "stdout",
          "output_type": "stream",
          "text": [
            "[[7.5984499e-03 1.3209360e-04 5.6240708e-04 9.1026145e-01 2.7218636e-02\n",
            "  5.6580277e-03 3.9482545e-03 2.0577872e-04 2.4943501e-02 1.2385972e-03\n",
            "  1.8232906e-02]]\n"
          ]
        },
        {
          "name": "stderr",
          "output_type": "stream",
          "text": [
            "\n",
            "\n",
            "tqdm() Progress Bar Segments: 48it [00:26,  1.89it/s]\u001b[A\u001b[A"
          ]
        },
        {
          "name": "stdout",
          "output_type": "stream",
          "text": [
            "[[2.7498438e-03 1.7021442e-04 5.7981373e-04 6.6777125e-02 7.7461636e-01\n",
            "  8.7488834e-03 1.6946847e-02 5.7394827e-05 5.2822053e-02 7.3145609e-04\n",
            "  7.5800002e-02]]\n"
          ]
        },
        {
          "name": "stderr",
          "output_type": "stream",
          "text": [
            "\n",
            "\n",
            "tqdm() Progress Bar Segments: 49it [00:26,  1.82it/s]\u001b[A\u001b[A"
          ]
        },
        {
          "name": "stdout",
          "output_type": "stream",
          "text": [
            "[[5.5753486e-04 7.2266579e-05 1.9029887e-04 2.2991255e-02 8.8002753e-01\n",
            "  9.3373749e-03 1.8489718e-02 1.2160853e-05 4.1659933e-02 1.2945723e-04\n",
            "  2.6532428e-02]]\n"
          ]
        },
        {
          "name": "stderr",
          "output_type": "stream",
          "text": [
            "\n",
            "\n",
            "tqdm() Progress Bar Segments: 50it [00:27,  1.85it/s]\u001b[A\u001b[A"
          ]
        },
        {
          "name": "stdout",
          "output_type": "stream",
          "text": [
            "[[6.5352081e-04 6.0695063e-05 1.0429766e-04 2.0821941e-01 6.4787883e-01\n",
            "  2.9260460e-03 1.0382158e-02 2.0548909e-05 8.1984520e-02 1.5691419e-04\n",
            "  4.7612954e-02]]\n"
          ]
        },
        {
          "name": "stderr",
          "output_type": "stream",
          "text": [
            "\n",
            "\n",
            "tqdm() Progress Bar Segments: 51it [00:27,  1.87it/s]\u001b[A\u001b[A"
          ]
        },
        {
          "name": "stdout",
          "output_type": "stream",
          "text": [
            "[[1.4823638e-05 1.3985336e-06 6.2091317e-06 1.7115865e-02 9.7774374e-01\n",
            "  2.7673399e-05 7.8741380e-04 3.8836689e-07 3.5198468e-03 3.2793455e-06\n",
            "  7.7941816e-04]]\n"
          ]
        },
        {
          "name": "stderr",
          "output_type": "stream",
          "text": [
            "\n",
            "\n",
            "tqdm() Progress Bar Segments: 52it [00:28,  1.89it/s]\u001b[A\u001b[A"
          ]
        },
        {
          "name": "stdout",
          "output_type": "stream",
          "text": [
            "[[2.4355193e-05 2.9532907e-06 7.2611770e-06 4.4453093e-03 9.8553455e-01\n",
            "  2.6900714e-04 2.6745454e-03 5.4233891e-07 4.4870563e-03 8.2827009e-06\n",
            "  2.5460622e-03]]\n"
          ]
        },
        {
          "name": "stderr",
          "output_type": "stream",
          "text": [
            "\n",
            "\n",
            "tqdm() Progress Bar Segments: 53it [00:28,  1.91it/s]\u001b[A\u001b[A"
          ]
        },
        {
          "name": "stdout",
          "output_type": "stream",
          "text": [
            "[[1.6487819e-03 3.7237922e-05 3.9851465e-04 6.9360793e-01 2.8085658e-01\n",
            "  8.7719515e-04 3.8953337e-03 2.1959126e-05 8.7295864e-03 1.8131921e-04\n",
            "  9.7455252e-03]]\n"
          ]
        },
        {
          "name": "stderr",
          "output_type": "stream",
          "text": [
            "\n",
            "\n",
            "tqdm() Progress Bar Segments: 54it [00:29,  1.91it/s]\u001b[A\u001b[A"
          ]
        },
        {
          "name": "stdout",
          "output_type": "stream",
          "text": [
            "[[1.5236102e-03 7.1196417e-05 4.2458443e-04 3.7147604e-02 7.5922173e-01\n",
            "  7.4488786e-03 1.2932017e-01 3.5746143e-05 4.0173493e-02 1.6368298e-03\n",
            "  2.2996243e-02]]\n"
          ]
        },
        {
          "name": "stderr",
          "output_type": "stream",
          "text": [
            "\n",
            "\n",
            "tqdm() Progress Bar Segments: 55it [00:29,  1.92it/s]\u001b[A\u001b[A"
          ]
        },
        {
          "name": "stdout",
          "output_type": "stream",
          "text": [
            "[[1.4773154e-03 1.3131804e-04 6.6657970e-04 1.0296922e-01 8.0179471e-01\n",
            "  8.0942297e-03 5.2948363e-02 2.9134446e-05 1.6552286e-02 7.3603797e-04\n",
            "  1.4600819e-02]]\n"
          ]
        },
        {
          "name": "stderr",
          "output_type": "stream",
          "text": [
            "\n",
            "\n",
            "tqdm() Progress Bar Segments: 56it [00:30,  1.93it/s]\u001b[A\u001b[A"
          ]
        },
        {
          "name": "stdout",
          "output_type": "stream",
          "text": [
            "[[1.64798554e-02 1.59916468e-04 1.52030133e-03 5.38307369e-01\n",
            "  2.55371273e-01 1.18830595e-02 1.35612907e-02 1.23275953e-04\n",
            "  3.26104872e-02 1.24910916e-03 1.28734156e-01]]\n"
          ]
        },
        {
          "name": "stderr",
          "output_type": "stream",
          "text": [
            "\n",
            "\n",
            "tqdm() Progress Bar Segments: 57it [00:30,  1.91it/s]\u001b[A\u001b[A"
          ]
        },
        {
          "name": "stdout",
          "output_type": "stream",
          "text": [
            "[[0.01590868 0.00095511 0.00314182 0.26234734 0.14332476 0.02911718\n",
            "  0.38797113 0.0007078  0.09987698 0.02252979 0.0341194 ]]\n"
          ]
        },
        {
          "name": "stderr",
          "output_type": "stream",
          "text": [
            "\n",
            "\n",
            "tqdm() Progress Bar Segments: 58it [00:31,  1.91it/s]\u001b[A\u001b[A"
          ]
        },
        {
          "name": "stdout",
          "output_type": "stream",
          "text": [
            "[[4.5071971e-02 2.9022022e-04 3.5778815e-03 4.4197083e-01 3.1337318e-01\n",
            "  9.3166120e-03 6.0489714e-02 4.0791949e-04 6.6825435e-02 6.2893382e-03\n",
            "  5.2386932e-02]]\n"
          ]
        },
        {
          "name": "stderr",
          "output_type": "stream",
          "text": [
            "\n",
            "\n",
            "tqdm() Progress Bar Segments: 59it [00:31,  1.89it/s]\u001b[A\u001b[A"
          ]
        },
        {
          "name": "stdout",
          "output_type": "stream",
          "text": [
            "[[0.02022149 0.00046257 0.00293789 0.43662915 0.15831083 0.03120678\n",
            "  0.17960498 0.00043679 0.11219215 0.01525506 0.04274234]]\n"
          ]
        },
        {
          "name": "stderr",
          "output_type": "stream",
          "text": [
            "\n",
            "\n",
            "tqdm() Progress Bar Segments: 60it [00:32,  1.87it/s]\u001b[A\u001b[A"
          ]
        },
        {
          "name": "stdout",
          "output_type": "stream",
          "text": [
            "[[0.00244452 0.00048094 0.0005743  0.24092862 0.30657402 0.03152975\n",
            "  0.27178574 0.00031026 0.11818754 0.01759544 0.00958895]]\n"
          ]
        },
        {
          "name": "stderr",
          "output_type": "stream",
          "text": [
            "\n",
            "\n",
            "tqdm() Progress Bar Segments: 61it [00:33,  1.88it/s]\u001b[A\u001b[A"
          ]
        },
        {
          "name": "stdout",
          "output_type": "stream",
          "text": [
            "[[5.3926557e-03 3.3685681e-04 8.7981147e-04 1.5615062e-01 3.3881623e-01\n",
            "  7.1430415e-02 1.6371712e-01 3.6287136e-04 1.6328944e-01 5.3529041e-03\n",
            "  9.4271034e-02]]\n"
          ]
        },
        {
          "name": "stderr",
          "output_type": "stream",
          "text": [
            "\n",
            "\n",
            "tqdm() Progress Bar Segments: 62it [00:33,  1.89it/s]\u001b[A\u001b[A"
          ]
        },
        {
          "name": "stdout",
          "output_type": "stream",
          "text": [
            "[[6.6309789e-05 1.6255957e-05 7.6104196e-05 4.6707742e-04 9.8798478e-01\n",
            "  1.0619248e-03 5.8674822e-03 2.0896753e-06 4.4713926e-04 5.4293209e-06\n",
            "  4.0054331e-03]]\n"
          ]
        },
        {
          "name": "stderr",
          "output_type": "stream",
          "text": [
            "\n",
            "\n",
            "tqdm() Progress Bar Segments: 63it [00:34,  1.90it/s]\u001b[A\u001b[A"
          ]
        },
        {
          "name": "stdout",
          "output_type": "stream",
          "text": [
            "[[3.7885953e-03 4.6686438e-04 9.9781982e-04 1.2558150e-02 5.5155820e-01\n",
            "  1.2022095e-01 7.6363109e-02 9.9612022e-05 7.6830298e-02 1.4331613e-03\n",
            "  1.5568326e-01]]\n"
          ]
        },
        {
          "name": "stderr",
          "output_type": "stream",
          "text": [
            "\n",
            "\n",
            "tqdm() Progress Bar Segments: 64it [00:34,  1.91it/s]\u001b[A\u001b[A"
          ]
        },
        {
          "name": "stdout",
          "output_type": "stream",
          "text": [
            "[[5.2880975e-03 2.8335096e-04 1.6789440e-03 6.1996382e-01 2.9724020e-01\n",
            "  5.2477261e-03 2.7008638e-02 1.2808014e-04 2.1459550e-02 1.6200864e-03\n",
            "  2.0081531e-02]]\n"
          ]
        },
        {
          "name": "stderr",
          "output_type": "stream",
          "text": [
            "\n",
            "\n",
            "tqdm() Progress Bar Segments: 65it [00:35,  1.91it/s]\u001b[A\u001b[A"
          ]
        },
        {
          "name": "stdout",
          "output_type": "stream",
          "text": [
            "[[5.80513943e-03 9.57485026e-05 8.08435609e-04 5.97746707e-02\n",
            "  7.62403131e-01 1.65869556e-02 1.02279797e-01 3.69831869e-05\n",
            "  1.41720325e-02 7.64054188e-04 3.72730233e-02]]\n"
          ]
        },
        {
          "name": "stderr",
          "output_type": "stream",
          "text": [
            "\n",
            "\n",
            "tqdm() Progress Bar Segments: 66it [00:35,  1.91it/s]\u001b[A\u001b[A"
          ]
        },
        {
          "name": "stdout",
          "output_type": "stream",
          "text": [
            "[[9.3515860e-03 6.3988089e-05 1.2661966e-03 7.1387279e-01 2.0824072e-01\n",
            "  6.6731316e-03 1.7334806e-02 4.1008181e-05 8.0706328e-03 4.8335621e-04\n",
            "  3.4601681e-02]]\n"
          ]
        },
        {
          "name": "stderr",
          "output_type": "stream",
          "text": [
            "\n",
            "\n",
            "tqdm() Progress Bar Segments: 67it [00:36,  1.91it/s]\u001b[A\u001b[A"
          ]
        },
        {
          "name": "stdout",
          "output_type": "stream",
          "text": [
            "[[9.0324264e-03 4.8003951e-04 1.8723723e-03 4.0957496e-01 2.0834798e-01\n",
            "  2.1606436e-02 1.9907075e-01 2.3838335e-04 9.1647394e-02 1.0833990e-02\n",
            "  4.7295198e-02]]\n"
          ]
        },
        {
          "name": "stderr",
          "output_type": "stream",
          "text": [
            "\n",
            "\n",
            "tqdm() Progress Bar Segments: 68it [00:36,  1.91it/s]\u001b[A\u001b[A"
          ]
        },
        {
          "name": "stdout",
          "output_type": "stream",
          "text": [
            "[[4.7525610e-03 8.1786951e-05 1.0528754e-03 2.9486820e-01 6.0341710e-01\n",
            "  6.2458375e-03 4.2955618e-02 6.5034219e-05 1.4106051e-02 5.2850571e-04\n",
            "  3.1926438e-02]]\n"
          ]
        },
        {
          "name": "stderr",
          "output_type": "stream",
          "text": [
            "\n",
            "\n",
            "tqdm() Progress Bar Segments: 69it [00:37,  1.89it/s]\u001b[A\u001b[A"
          ]
        },
        {
          "name": "stdout",
          "output_type": "stream",
          "text": [
            "[[9.1174031e-03 2.1586417e-04 1.0742992e-03 8.5322994e-01 3.7470993e-02\n",
            "  7.0289909e-03 1.4559179e-02 2.6716720e-04 5.6949735e-02 5.2586826e-03\n",
            "  1.4827781e-02]]\n"
          ]
        },
        {
          "name": "stderr",
          "output_type": "stream",
          "text": [
            "\n",
            "\n",
            "tqdm() Progress Bar Segments: 70it [00:37,  1.89it/s]\u001b[A\u001b[A"
          ]
        },
        {
          "name": "stdout",
          "output_type": "stream",
          "text": [
            "[[1.4585349e-02 2.0213456e-04 8.8399206e-04 8.8876092e-01 3.4141243e-02\n",
            "  5.5423682e-03 5.1328111e-03 1.7796326e-04 2.9919215e-02 2.9422173e-03\n",
            "  1.7711729e-02]]\n"
          ]
        },
        {
          "name": "stderr",
          "output_type": "stream",
          "text": [
            "\n",
            "\n",
            "tqdm() Progress Bar Segments: 71it [00:38,  1.89it/s]\u001b[A\u001b[A"
          ]
        },
        {
          "name": "stdout",
          "output_type": "stream",
          "text": [
            "[[4.7202453e-02 4.4753024e-04 2.8714617e-03 3.5473973e-01 3.3245164e-01\n",
            "  3.5708487e-02 8.5492600e-03 2.1645112e-04 2.9761309e-02 5.9433415e-04\n",
            "  1.8745732e-01]]\n"
          ]
        },
        {
          "name": "stderr",
          "output_type": "stream",
          "text": [
            "\n",
            "\n",
            "tqdm() Progress Bar Segments: 72it [00:38,  1.89it/s]\u001b[A\u001b[A"
          ]
        },
        {
          "name": "stdout",
          "output_type": "stream",
          "text": [
            "[[3.9664605e-03 1.7518211e-04 7.3220953e-04 1.0225855e-01 8.0831420e-01\n",
            "  9.6111232e-03 4.6902318e-03 1.9213925e-05 7.9712793e-03 1.9081817e-04\n",
            "  6.2070698e-02]]\n"
          ]
        },
        {
          "name": "stderr",
          "output_type": "stream",
          "text": [
            "\n",
            "\n",
            "tqdm() Progress Bar Segments: 73it [00:39,  1.88it/s]\u001b[A\u001b[A"
          ]
        },
        {
          "name": "stdout",
          "output_type": "stream",
          "text": [
            "[[5.5379070e-02 1.3962018e-03 4.0374808e-03 5.2304375e-01 2.3405570e-01\n",
            "  9.1663964e-02 7.6883328e-03 2.2784753e-04 2.0271542e-02 3.9986293e-03\n",
            "  5.8237504e-02]]\n"
          ]
        },
        {
          "name": "stderr",
          "output_type": "stream",
          "text": [
            "\n",
            "\n",
            "tqdm() Progress Bar Segments: 74it [00:39,  1.89it/s]\u001b[A\u001b[A"
          ]
        },
        {
          "name": "stdout",
          "output_type": "stream",
          "text": [
            "[[0.2122962  0.00290959 0.0065115  0.07046121 0.04288192 0.08576932\n",
            "  0.00165413 0.00086367 0.03204926 0.0007828  0.54382044]]\n"
          ]
        },
        {
          "name": "stderr",
          "output_type": "stream",
          "text": [
            "\n",
            "\n",
            "tqdm() Progress Bar Segments: 75it [00:40,  1.89it/s]\u001b[A\u001b[A"
          ]
        },
        {
          "name": "stdout",
          "output_type": "stream",
          "text": [
            "[[3.93980835e-03 1.60396623e-04 2.24345888e-04 1.02702454e-01\n",
            "  2.54373372e-01 3.35828727e-03 7.10057747e-03 9.85013467e-05\n",
            "  4.12974209e-01 3.26998212e-04 2.14741021e-01]]\n"
          ]
        },
        {
          "name": "stderr",
          "output_type": "stream",
          "text": [
            "\n",
            "\n",
            "tqdm() Progress Bar Segments: 76it [00:40,  1.90it/s]\u001b[A\u001b[A"
          ]
        },
        {
          "name": "stdout",
          "output_type": "stream",
          "text": [
            "[[9.1187496e-05 7.8091880e-06 1.2960486e-05 9.2021702e-03 6.9952166e-01\n",
            "  2.6209868e-04 2.6293769e-02 4.0935697e-06 2.5833035e-01 3.5002758e-04\n",
            "  5.9238710e-03]]\n"
          ]
        },
        {
          "name": "stderr",
          "output_type": "stream",
          "text": [
            "\n",
            "\n",
            "tqdm() Progress Bar Segments: 77it [00:41,  1.91it/s]\u001b[A\u001b[A"
          ]
        },
        {
          "name": "stdout",
          "output_type": "stream",
          "text": [
            "[[1.12944983e-01 3.20018409e-03 2.04468928e-02 9.37035158e-02\n",
            "  2.69303232e-01 6.77630529e-02 2.90244096e-03 3.58085555e-04\n",
            "  1.47538325e-02 4.00717719e-04 4.14223105e-01]]\n"
          ]
        },
        {
          "name": "stderr",
          "output_type": "stream",
          "text": [
            "\n",
            "\n",
            "tqdm() Progress Bar Segments: 78it [00:42,  1.83it/s]\u001b[A\u001b[A"
          ]
        },
        {
          "name": "stdout",
          "output_type": "stream",
          "text": [
            "[[7.5242664e-05 8.0086729e-06 2.1403052e-05 4.8063476e-02 9.4756126e-01\n",
            "  1.5441605e-04 1.0764091e-03 1.9755594e-06 2.4223456e-03 3.7213274e-05\n",
            "  5.7821977e-04]]\n"
          ]
        },
        {
          "name": "stderr",
          "output_type": "stream",
          "text": [
            "\n",
            "\n",
            "tqdm() Progress Bar Segments: 79it [00:42,  1.85it/s]\u001b[A\u001b[A"
          ]
        },
        {
          "name": "stdout",
          "output_type": "stream",
          "text": [
            "[[1.9822555e-04 3.0890988e-05 4.4628468e-05 2.5102528e-02 9.7016990e-01\n",
            "  2.1932927e-04 5.4494047e-04 4.5695406e-06 2.8718903e-03 4.8785201e-05\n",
            "  7.6427677e-04]]\n"
          ]
        },
        {
          "name": "stderr",
          "output_type": "stream",
          "text": [
            "\n",
            "\n",
            "tqdm() Progress Bar Segments: 80it [00:43,  1.88it/s]\u001b[A\u001b[A"
          ]
        },
        {
          "name": "stdout",
          "output_type": "stream",
          "text": [
            "[[1.8262047e-04 2.1419744e-05 6.3476531e-05 9.6948454e-03 9.7420812e-01\n",
            "  4.6979266e-04 2.4703587e-03 3.8900371e-06 6.4382288e-03 2.3688093e-05\n",
            "  6.4235432e-03]]\n"
          ]
        },
        {
          "name": "stderr",
          "output_type": "stream",
          "text": [
            "\n",
            "\n",
            "tqdm() Progress Bar Segments: 81it [00:43,  1.89it/s]\u001b[A\u001b[A"
          ]
        },
        {
          "name": "stdout",
          "output_type": "stream",
          "text": [
            "[[3.1474751e-04 4.6253437e-05 1.4324910e-04 4.2468068e-01 5.1348400e-01\n",
            "  1.6729335e-03 4.2566031e-02 3.6410944e-05 1.3921137e-02 1.2019406e-03\n",
            "  1.9326747e-03]]\n"
          ]
        },
        {
          "name": "stderr",
          "output_type": "stream",
          "text": [
            "\n",
            "\n",
            "tqdm() Progress Bar Segments: 82it [00:44,  1.91it/s]\u001b[A\u001b[A"
          ]
        },
        {
          "name": "stdout",
          "output_type": "stream",
          "text": [
            "[[8.5033232e-04 9.9169280e-05 5.6347257e-04 2.3270824e-03 6.1225212e-01\n",
            "  4.1804495e-03 2.2647962e-02 3.4253491e-05 2.3468716e-02 8.6524364e-05\n",
            "  3.3348992e-01]]\n"
          ]
        },
        {
          "name": "stderr",
          "output_type": "stream",
          "text": [
            "\n",
            "\n",
            "tqdm() Progress Bar Segments: 83it [00:44,  1.92it/s]\u001b[A\u001b[A"
          ]
        },
        {
          "name": "stdout",
          "output_type": "stream",
          "text": [
            "[[3.0102246e-03 2.8237037e-04 6.9357821e-04 5.7720272e-03 6.5391201e-01\n",
            "  8.2868189e-03 2.0066874e-02 1.9875604e-04 8.9324467e-02 2.2588519e-04\n",
            "  2.1822703e-01]]\n"
          ]
        },
        {
          "name": "stderr",
          "output_type": "stream",
          "text": [
            "\n",
            "\n",
            "tqdm() Progress Bar Segments: 84it [00:45,  1.92it/s]\u001b[A\u001b[A"
          ]
        },
        {
          "name": "stdout",
          "output_type": "stream",
          "text": [
            "[[2.5883862e-06 1.0473757e-06 7.2637300e-07 4.2215786e-03 9.5208621e-01\n",
            "  1.0073018e-05 4.5254915e-03 3.3996693e-07 3.8735688e-02 2.9513949e-05\n",
            "  3.8676974e-04]]\n"
          ]
        },
        {
          "name": "stderr",
          "output_type": "stream",
          "text": [
            "\n",
            "\n",
            "tqdm() Progress Bar Segments: 85it [00:45,  1.92it/s]\u001b[A\u001b[A"
          ]
        },
        {
          "name": "stdout",
          "output_type": "stream",
          "text": [
            "[[2.2742114e-04 2.1707869e-05 2.2804348e-05 3.6730489e-03 9.5711136e-01\n",
            "  1.5212869e-03 2.4817316e-03 3.9612523e-06 2.8429683e-02 7.4302421e-05\n",
            "  6.4327554e-03]]\n"
          ]
        },
        {
          "name": "stderr",
          "output_type": "stream",
          "text": [
            "\n",
            "\n",
            "tqdm() Progress Bar Segments: 86it [00:46,  1.92it/s]\u001b[A\u001b[A"
          ]
        },
        {
          "name": "stdout",
          "output_type": "stream",
          "text": [
            "[[6.9964443e-08 4.1957513e-08 9.5000843e-08 9.5883530e-05 9.9937856e-01\n",
            "  7.5263927e-07 4.4475758e-04 4.0233084e-09 7.2523988e-05 5.7420593e-08\n",
            "  7.1076256e-06]]\n"
          ]
        },
        {
          "name": "stderr",
          "output_type": "stream",
          "text": [
            "\n",
            "\n",
            "tqdm() Progress Bar Segments: 87it [00:46,  1.93it/s]\u001b[A\u001b[A"
          ]
        },
        {
          "name": "stdout",
          "output_type": "stream",
          "text": [
            "[[3.3980023e-06 9.5465577e-07 7.5715991e-07 5.5592333e-04 9.9766290e-01\n",
            "  2.7223155e-05 6.4514315e-04 1.1800893e-07 9.4243611e-04 1.1640112e-06\n",
            "  1.5992568e-04]]\n"
          ]
        },
        {
          "name": "stderr",
          "output_type": "stream",
          "text": [
            "\n",
            "\n",
            "tqdm() Progress Bar Segments: 88it [00:47,  1.93it/s]\u001b[A\u001b[A"
          ]
        },
        {
          "name": "stdout",
          "output_type": "stream",
          "text": [
            "[[1.34764111e-03 1.21194265e-04 9.61696671e-04 7.60758668e-02\n",
            "  8.54072273e-01 4.41585062e-03 4.81303371e-02 4.56091075e-05\n",
            "  5.24224713e-03 3.73441173e-04 9.21393093e-03]]\n"
          ]
        },
        {
          "name": "stderr",
          "output_type": "stream",
          "text": [
            "\n",
            "\n",
            "tqdm() Progress Bar Segments: 89it [00:47,  1.93it/s]\u001b[A\u001b[A"
          ]
        },
        {
          "name": "stdout",
          "output_type": "stream",
          "text": [
            "[[3.6150526e-02 2.9489319e-03 2.9943438e-04 1.6945373e-03 2.2357316e-03\n",
            "  1.4262673e-02 5.6901673e-04 4.0539312e-03 1.3631384e-01 4.1948500e-04\n",
            "  8.0105186e-01]]\n"
          ]
        },
        {
          "name": "stderr",
          "output_type": "stream",
          "text": [
            "\n",
            "\n",
            "tqdm() Progress Bar Segments: 90it [00:48,  1.92it/s]\u001b[A\u001b[A"
          ]
        },
        {
          "name": "stdout",
          "output_type": "stream",
          "text": [
            "[[4.1617596e-04 2.4928393e-06 4.8275226e-05 9.6277153e-01 3.5924233e-02\n",
            "  3.4358378e-05 3.5103665e-05 2.2644740e-06 3.3045613e-04 4.7669892e-06\n",
            "  4.3029888e-04]]\n"
          ]
        },
        {
          "name": "stderr",
          "output_type": "stream",
          "text": [
            "\n",
            "\n",
            "tqdm() Progress Bar Segments: 91it [00:48,  1.92it/s]\u001b[A\u001b[A"
          ]
        },
        {
          "name": "stdout",
          "output_type": "stream",
          "text": [
            "[[3.7947134e-03 1.0184275e-03 8.2919185e-05 3.5509648e-04 4.0308163e-03\n",
            "  3.1097603e-03 4.6791160e-04 1.0481466e-03 3.8296703e-02 7.1560600e-05\n",
            "  9.4772398e-01]]\n"
          ]
        },
        {
          "name": "stderr",
          "output_type": "stream",
          "text": [
            "\n",
            "\n",
            "tqdm() Progress Bar Segments: 92it [00:49,  1.93it/s]\u001b[A\u001b[A"
          ]
        },
        {
          "name": "stdout",
          "output_type": "stream",
          "text": [
            "[[7.0857059e-06 7.0036490e-06 6.2047125e-06 7.9642283e-03 9.7133970e-01\n",
            "  1.0759175e-04 1.4631635e-02 8.2796578e-07 4.7079646e-03 2.3917499e-05\n",
            "  1.2038311e-03]]\n"
          ]
        },
        {
          "name": "stderr",
          "output_type": "stream",
          "text": [
            "\n",
            "\n",
            "tqdm() Progress Bar Segments: 93it [00:49,  1.92it/s]\u001b[A\u001b[A"
          ]
        },
        {
          "name": "stdout",
          "output_type": "stream",
          "text": [
            "[[1.9663067e-04 3.7343118e-05 5.3013708e-05 2.4778615e-03 9.6390909e-01\n",
            "  1.6897055e-03 6.0669729e-03 9.9160452e-06 1.6619613e-02 4.5927562e-05\n",
            "  8.8939518e-03]]\n"
          ]
        },
        {
          "name": "stderr",
          "output_type": "stream",
          "text": [
            "\n",
            "\n",
            "tqdm() Progress Bar Segments: 94it [00:50,  1.93it/s]\u001b[A\u001b[A"
          ]
        },
        {
          "name": "stdout",
          "output_type": "stream",
          "text": [
            "[[1.1431705e-03 6.0365441e-05 2.0890608e-05 2.5222430e-04 8.7977073e-04\n",
            "  2.8192074e-04 7.7523924e-05 9.8393859e-05 3.0607082e-02 1.4219348e-05\n",
            "  9.6656448e-01]]\n"
          ]
        },
        {
          "name": "stderr",
          "output_type": "stream",
          "text": [
            "\n",
            "\n",
            "tqdm() Progress Bar Segments: 95it [00:50,  1.93it/s]\u001b[A\u001b[A"
          ]
        },
        {
          "name": "stdout",
          "output_type": "stream",
          "text": [
            "[[0.00396049 0.00472093 0.0010726  0.00196822 0.08319973 0.05777096\n",
            "  0.04161566 0.00113518 0.07678605 0.00081543 0.72695476]]\n"
          ]
        },
        {
          "name": "stderr",
          "output_type": "stream",
          "text": [
            "\n",
            "\n",
            "tqdm() Progress Bar Segments: 96it [00:51,  1.93it/s]\u001b[A\u001b[A"
          ]
        },
        {
          "name": "stdout",
          "output_type": "stream",
          "text": [
            "[[2.88149386e-05 3.37284655e-06 1.20364275e-05 2.59965286e-03\n",
            "  9.90647376e-01 1.29360735e-04 2.06463016e-03 6.93796892e-07\n",
            "  1.43027131e-03 4.16082867e-06 3.07965977e-03]]\n"
          ]
        },
        {
          "name": "stderr",
          "output_type": "stream",
          "text": [
            "\n",
            "\n",
            "tqdm() Progress Bar Segments: 97it [00:51,  1.93it/s]\u001b[A\u001b[A"
          ]
        },
        {
          "name": "stdout",
          "output_type": "stream",
          "text": [
            "[[2.8792555e-02 3.5205472e-04 3.7670673e-03 3.7405065e-01 3.7127462e-01\n",
            "  1.1700804e-02 7.0794418e-02 2.0340513e-04 3.4416679e-02 1.9512790e-03\n",
            "  1.0269649e-01]]\n"
          ]
        },
        {
          "name": "stderr",
          "output_type": "stream",
          "text": [
            "\n",
            "\n",
            "tqdm() Progress Bar Segments: 98it [00:52,  1.93it/s]\u001b[A\u001b[A"
          ]
        },
        {
          "name": "stdout",
          "output_type": "stream",
          "text": [
            "[[2.8789002e-03 3.8810205e-04 4.7628182e-05 3.4999993e-04 8.5644238e-04\n",
            "  8.5797679e-04 1.6678688e-04 7.4124598e-04 5.9013553e-02 3.9896866e-05\n",
            "  9.3465948e-01]]\n"
          ]
        },
        {
          "name": "stderr",
          "output_type": "stream",
          "text": [
            "\n",
            "\n",
            "tqdm() Progress Bar Segments: 99it [00:52,  1.92it/s]\u001b[A\u001b[A"
          ]
        },
        {
          "name": "stdout",
          "output_type": "stream",
          "text": [
            "[[2.6156476e-03 2.3467877e-04 7.1508402e-04 1.2066492e-02 7.9041594e-01\n",
            "  1.6181419e-02 2.5380796e-02 7.3380215e-05 4.8905101e-02 3.8885215e-04\n",
            "  1.0302254e-01]]\n"
          ]
        },
        {
          "name": "stderr",
          "output_type": "stream",
          "text": [
            "\n",
            "\n",
            "tqdm() Progress Bar Segments: 100it [00:53,  1.93it/s]\u001b[A\u001b[A"
          ]
        },
        {
          "name": "stdout",
          "output_type": "stream",
          "text": [
            "[[3.0687143e-04 5.6741206e-05 2.1743619e-04 6.9745176e-02 8.5342735e-01\n",
            "  3.0141338e-03 5.5314634e-02 2.8751698e-05 1.2476110e-02 5.5865623e-04\n",
            "  4.8541217e-03]]\n"
          ]
        },
        {
          "name": "stderr",
          "output_type": "stream",
          "text": [
            "\n",
            "\n",
            "tqdm() Progress Bar Segments: 101it [00:53,  1.95it/s]\u001b[A\u001b[A"
          ]
        },
        {
          "name": "stdout",
          "output_type": "stream",
          "text": [
            "[[1.00136909e-03 4.06320651e-05 3.76641256e-04 2.25340307e-01\n",
            "  7.62519300e-01 1.04385812e-03 5.60400682e-03 1.39168142e-05\n",
            "  2.53492501e-03 1.19033575e-04 1.40610011e-03]]\n"
          ]
        },
        {
          "name": "stderr",
          "output_type": "stream",
          "text": [
            "\n",
            "\n",
            "tqdm() Progress Bar Segments: 102it [00:54,  1.94it/s]\u001b[A\u001b[A"
          ]
        },
        {
          "name": "stdout",
          "output_type": "stream",
          "text": [
            "[[1.1638969e-03 1.3166586e-04 2.3600030e-04 2.2835911e-03 2.2252086e-01\n",
            "  1.8537183e-03 5.5138592e-02 7.7731398e-05 1.7209992e-01 1.1532611e-04\n",
            "  5.4437876e-01]]\n"
          ]
        },
        {
          "name": "stderr",
          "output_type": "stream",
          "text": [
            "\n",
            "\n",
            "tqdm() Progress Bar Segments: 103it [00:54,  1.94it/s]\u001b[A\u001b[A"
          ]
        },
        {
          "name": "stdout",
          "output_type": "stream",
          "text": [
            "[[2.4805815e-04 8.3273029e-05 2.0568783e-04 2.0619603e-02 7.6217890e-01\n",
            "  8.8537019e-04 7.2099857e-02 3.1003969e-05 1.3469274e-01 4.8423221e-04\n",
            "  8.4713595e-03]]\n"
          ]
        },
        {
          "name": "stderr",
          "output_type": "stream",
          "text": [
            "\n",
            "\n",
            "tqdm() Progress Bar Segments: 104it [00:55,  1.93it/s]\u001b[A\u001b[A"
          ]
        },
        {
          "name": "stdout",
          "output_type": "stream",
          "text": [
            "[[1.43293350e-03 2.51438876e-04 1.13923673e-03 2.64498796e-02\n",
            "  5.48967600e-01 1.00445235e-02 2.45521173e-01 1.71693362e-04\n",
            "  7.07461983e-02 7.61766685e-04 9.45135728e-02]]\n"
          ]
        },
        {
          "name": "stderr",
          "output_type": "stream",
          "text": [
            "\n",
            "\n",
            "tqdm() Progress Bar Segments: 105it [00:56,  1.90it/s]\u001b[A\u001b[A"
          ]
        },
        {
          "name": "stdout",
          "output_type": "stream",
          "text": [
            "[[5.9522972e-06 1.4246085e-06 2.1746480e-06 3.1478479e-04 9.9677902e-01\n",
            "  4.0213446e-05 5.2342238e-04 2.2325018e-07 1.4965544e-03 1.6443872e-06\n",
            "  8.3471334e-04]]\n"
          ]
        },
        {
          "name": "stderr",
          "output_type": "stream",
          "text": [
            "\n",
            "\n",
            "tqdm() Progress Bar Segments: 106it [00:56,  1.90it/s]\u001b[A\u001b[A"
          ]
        },
        {
          "name": "stdout",
          "output_type": "stream",
          "text": [
            "[[1.3155978e-04 3.1205363e-05 4.1943738e-05 9.9739956e-04 9.7079778e-01\n",
            "  6.3188543e-04 3.1687091e-03 5.3142562e-06 1.3826732e-02 3.2570752e-05\n",
            "  1.0334926e-02]]\n"
          ]
        },
        {
          "name": "stderr",
          "output_type": "stream",
          "text": [
            "\n",
            "\n",
            "tqdm() Progress Bar Segments: 107it [00:57,  1.91it/s]\u001b[A\u001b[A"
          ]
        },
        {
          "name": "stdout",
          "output_type": "stream",
          "text": [
            "[[8.1752187e-06 1.6188192e-06 1.6281460e-06 8.2593173e-04 9.7281802e-01\n",
            "  2.7902337e-05 1.0362968e-03 3.3303829e-07 1.9008182e-02 2.4741410e-06\n",
            "  6.2694913e-03]]\n"
          ]
        },
        {
          "name": "stderr",
          "output_type": "stream",
          "text": [
            "\n",
            "\n",
            "tqdm() Progress Bar Segments: 108it [00:57,  1.90it/s]\u001b[A\u001b[A"
          ]
        },
        {
          "name": "stdout",
          "output_type": "stream",
          "text": [
            "[[4.2289740e-04 2.1970165e-05 7.4706004e-05 2.4474060e-02 9.4883567e-01\n",
            "  1.0364302e-03 2.7599081e-03 9.5758560e-06 8.7435804e-03 4.3785618e-05\n",
            "  1.3577322e-02]]\n"
          ]
        },
        {
          "name": "stderr",
          "output_type": "stream",
          "text": [
            "\n",
            "\n",
            "tqdm() Progress Bar Segments: 109it [00:58,  1.91it/s]\u001b[A\u001b[A"
          ]
        },
        {
          "name": "stdout",
          "output_type": "stream",
          "text": [
            "[[1.18194311e-03 7.68855316e-05 3.35273857e-04 1.79636657e-01\n",
            "  7.86917865e-01 4.33902675e-03 1.38556585e-02 4.08347260e-05\n",
            "  9.75194667e-03 5.18696033e-04 3.34531139e-03]]\n"
          ]
        },
        {
          "name": "stderr",
          "output_type": "stream",
          "text": [
            "\n",
            "\n",
            "tqdm() Progress Bar Segments: 110it [00:58,  1.91it/s]\u001b[A\u001b[A"
          ]
        },
        {
          "name": "stdout",
          "output_type": "stream",
          "text": [
            "[[1.1361738e-03 1.5238633e-03 3.0686773e-04 1.1637609e-03 1.8710883e-01\n",
            "  7.7136979e-03 9.5160954e-02 6.5467670e-04 5.3387243e-01 6.0906878e-04\n",
            "  1.7074974e-01]]\n"
          ]
        },
        {
          "name": "stderr",
          "output_type": "stream",
          "text": [
            "\n",
            "\n",
            "tqdm() Progress Bar Segments: 111it [00:59,  1.92it/s]\u001b[A\u001b[A"
          ]
        },
        {
          "name": "stdout",
          "output_type": "stream",
          "text": [
            "[[9.3253067e-05 3.0028010e-05 6.5376815e-05 4.9066367e-03 9.7938687e-01\n",
            "  7.8366668e-04 5.2826344e-03 4.4317176e-06 4.7021774e-03 3.7022081e-05\n",
            "  4.7078133e-03]]\n"
          ]
        },
        {
          "name": "stderr",
          "output_type": "stream",
          "text": [
            "\n",
            "\n",
            "tqdm() Progress Bar Segments: 112it [00:59,  1.93it/s]\u001b[A\u001b[A"
          ]
        },
        {
          "name": "stdout",
          "output_type": "stream",
          "text": [
            "[[4.1931443e-04 2.2002343e-05 1.3092053e-04 1.9031275e-02 9.1408080e-01\n",
            "  1.0960363e-03 2.5569409e-02 1.1459888e-05 3.5075702e-02 1.6025535e-04\n",
            "  4.4029769e-03]]\n"
          ]
        },
        {
          "name": "stderr",
          "output_type": "stream",
          "text": [
            "\n",
            "\n",
            "tqdm() Progress Bar Segments: 113it [01:00,  1.93it/s]\u001b[A\u001b[A"
          ]
        },
        {
          "name": "stdout",
          "output_type": "stream",
          "text": [
            "[[3.9325992e-04 6.0917624e-05 2.2361953e-04 8.6741991e-02 8.1831783e-01\n",
            "  4.0058396e-03 7.4714303e-02 2.6708871e-05 1.2519116e-02 4.6077260e-04\n",
            "  2.5356153e-03]]\n"
          ]
        },
        {
          "name": "stderr",
          "output_type": "stream",
          "text": [
            "\n",
            "\n",
            "tqdm() Progress Bar Segments: 114it [01:00,  1.93it/s]\u001b[A\u001b[A"
          ]
        },
        {
          "name": "stdout",
          "output_type": "stream",
          "text": [
            "[[1.17021686e-04 3.34789293e-05 1.21018435e-04 2.42059026e-03\n",
            "  9.09216404e-01 8.11458391e-04 6.13519289e-02 1.32770665e-05\n",
            "  1.88494604e-02 8.03326911e-05 6.98504224e-03]]\n"
          ]
        },
        {
          "name": "stderr",
          "output_type": "stream",
          "text": [
            "\n",
            "\n",
            "tqdm() Progress Bar Segments: 115it [01:01,  1.94it/s]\u001b[A\u001b[A"
          ]
        },
        {
          "name": "stdout",
          "output_type": "stream",
          "text": [
            "[[1.0982153e-04 7.0536844e-05 4.4862594e-05 4.7011819e-02 7.6385349e-01\n",
            "  1.5492665e-03 9.4553269e-02 3.0233597e-05 8.8880271e-02 8.4625080e-04\n",
            "  3.0500523e-03]]\n"
          ]
        },
        {
          "name": "stderr",
          "output_type": "stream",
          "text": [
            "\n",
            "\n",
            "tqdm() Progress Bar Segments: 116it [01:01,  1.95it/s]\u001b[A\u001b[A"
          ]
        },
        {
          "name": "stdout",
          "output_type": "stream",
          "text": [
            "[[2.4796522e-03 5.1160291e-04 7.4211712e-04 4.9932089e-02 8.2362992e-01\n",
            "  1.9323973e-02 1.0883098e-02 1.0470185e-04 2.8254336e-02 4.8284861e-04\n",
            "  6.3655682e-02]]\n"
          ]
        },
        {
          "name": "stderr",
          "output_type": "stream",
          "text": [
            "\n",
            "\n",
            "tqdm() Progress Bar Segments: 117it [01:02,  1.95it/s]\u001b[A\u001b[A"
          ]
        },
        {
          "name": "stdout",
          "output_type": "stream",
          "text": [
            "[[9.3175290e-04 1.3124336e-04 2.1579105e-04 1.0009911e-02 8.7240541e-01\n",
            "  9.3978290e-03 3.6013521e-02 4.4461663e-05 3.0064678e-02 1.4164345e-04\n",
            "  4.0643793e-02]]\n"
          ]
        },
        {
          "name": "stderr",
          "output_type": "stream",
          "text": [
            "\n",
            "\n",
            "tqdm() Progress Bar Segments: 118it [01:02,  1.93it/s]\u001b[A\u001b[A"
          ]
        },
        {
          "name": "stdout",
          "output_type": "stream",
          "text": [
            "[[4.59223927e-04 1.17144096e-04 2.26102828e-04 3.98656027e-03\n",
            "  9.51728344e-01 7.20080687e-03 9.97154508e-03 1.47230858e-05\n",
            "  4.15789569e-03 6.08462760e-05 2.20766701e-02]]\n"
          ]
        },
        {
          "name": "stderr",
          "output_type": "stream",
          "text": [
            "\n",
            "\n",
            "tqdm() Progress Bar Segments: 119it [01:03,  1.93it/s]\u001b[A\u001b[A"
          ]
        },
        {
          "name": "stdout",
          "output_type": "stream",
          "text": [
            "[[1.6112588e-05 3.1695029e-06 3.5878882e-06 9.8413019e-04 9.8327094e-01\n",
            "  6.3697720e-05 4.3875230e-03 8.6815635e-07 1.0455985e-02 1.9868952e-05\n",
            "  7.9417514e-04]]\n"
          ]
        },
        {
          "name": "stderr",
          "output_type": "stream",
          "text": [
            "\n",
            "\n",
            "tqdm() Progress Bar Segments: 120it [01:03,  1.92it/s]\u001b[A\u001b[A"
          ]
        },
        {
          "name": "stdout",
          "output_type": "stream",
          "text": [
            "[[1.3454463e-02 8.7125702e-03 1.6798459e-04 1.3096940e-03 5.1627653e-03\n",
            "  1.6537234e-02 5.0160714e-04 1.2253180e-01 2.4201531e-02 1.4212792e-04\n",
            "  8.0727822e-01]]\n"
          ]
        },
        {
          "name": "stderr",
          "output_type": "stream",
          "text": [
            "\n",
            "\n",
            "tqdm() Progress Bar Segments: 121it [01:04,  1.93it/s]\u001b[A\u001b[A"
          ]
        },
        {
          "name": "stdout",
          "output_type": "stream",
          "text": [
            "[[4.9204065e-04 3.7608133e-05 3.6997101e-04 3.2911468e-02 8.6576909e-01\n",
            "  2.3998392e-03 7.0651479e-02 5.4931585e-05 1.4078929e-02 2.9804170e-04\n",
            "  1.2936634e-02]]\n"
          ]
        },
        {
          "name": "stderr",
          "output_type": "stream",
          "text": [
            "\n",
            "\n",
            "tqdm() Progress Bar Segments: 122it [01:04,  1.93it/s]\u001b[A\u001b[A"
          ]
        },
        {
          "name": "stdout",
          "output_type": "stream",
          "text": [
            "[[0.00825545 0.0033162  0.00276311 0.06689903 0.36041167 0.09442133\n",
            "  0.18935175 0.00137135 0.1625617  0.00976081 0.10088752]]\n"
          ]
        },
        {
          "name": "stderr",
          "output_type": "stream",
          "text": [
            "\n",
            "\n",
            "tqdm() Progress Bar Segments: 123it [01:05,  1.94it/s]\u001b[A\u001b[A"
          ]
        },
        {
          "name": "stdout",
          "output_type": "stream",
          "text": [
            "[[6.3017937e-03 2.0647184e-04 7.8915100e-04 6.8605900e-01 2.7736935e-01\n",
            "  8.6856922e-03 8.8860597e-03 4.3670359e-05 4.1685458e-03 6.1230629e-04\n",
            "  6.8779858e-03]]\n"
          ]
        },
        {
          "name": "stderr",
          "output_type": "stream",
          "text": [
            "\n",
            "\n",
            "tqdm() Progress Bar Segments: 124it [01:05,  1.94it/s]\u001b[A\u001b[A"
          ]
        },
        {
          "name": "stdout",
          "output_type": "stream",
          "text": [
            "[[3.4768186e-03 5.3908210e-04 5.1348185e-04 1.3518174e-03 7.5919680e-02\n",
            "  1.8398905e-02 2.4035126e-02 1.7299697e-04 3.0498788e-02 1.2120785e-04\n",
            "  8.4497213e-01]]\n"
          ]
        },
        {
          "name": "stderr",
          "output_type": "stream",
          "text": [
            "\n",
            "\n",
            "tqdm() Progress Bar Segments: 125it [01:06,  1.94it/s]\u001b[A\u001b[A"
          ]
        },
        {
          "name": "stdout",
          "output_type": "stream",
          "text": [
            "[[1.4177035e-03 9.4115378e-05 4.1240352e-04 4.8612179e-03 8.4125870e-01\n",
            "  7.9344604e-03 1.3414358e-02 1.2448414e-05 2.5902448e-02 1.2470604e-04\n",
            "  1.0456744e-01]]\n"
          ]
        },
        {
          "name": "stderr",
          "output_type": "stream",
          "text": [
            "\n",
            "\n",
            "tqdm() Progress Bar Segments: 126it [01:06,  1.93it/s]\u001b[A\u001b[A"
          ]
        },
        {
          "name": "stdout",
          "output_type": "stream",
          "text": [
            "[[8.0804707e-04 2.1663762e-04 2.6043708e-04 9.3094651e-03 8.3946472e-01\n",
            "  9.6012568e-03 5.4551270e-02 3.2211887e-05 5.6598682e-02 3.6621280e-04\n",
            "  2.8791001e-02]]\n"
          ]
        },
        {
          "name": "stderr",
          "output_type": "stream",
          "text": [
            "\n",
            "\n",
            "tqdm() Progress Bar Segments: 127it [01:07,  1.88it/s]\u001b[A\u001b[A"
          ]
        },
        {
          "name": "stdout",
          "output_type": "stream",
          "text": [
            "[[2.3766348e-05 4.2843234e-07 2.2230288e-06 9.8586035e-01 1.3425952e-02\n",
            "  2.7585186e-06 2.3143029e-05 4.6942213e-07 5.2685797e-04 1.7573601e-06\n",
            "  1.3237410e-04]]\n"
          ]
        },
        {
          "name": "stderr",
          "output_type": "stream",
          "text": [
            "\n",
            "\n",
            "tqdm() Progress Bar Segments: 128it [01:08,  1.89it/s]\u001b[A\u001b[A"
          ]
        },
        {
          "name": "stdout",
          "output_type": "stream",
          "text": [
            "[[1.6699937e-03 3.9365215e-04 5.1377679e-04 1.3475421e-02 6.8055183e-01\n",
            "  1.4892940e-02 5.2213244e-02 1.0628755e-04 1.3058996e-01 6.3333422e-04\n",
            "  1.0495952e-01]]\n"
          ]
        },
        {
          "name": "stderr",
          "output_type": "stream",
          "text": [
            "\n",
            "\n",
            "tqdm() Progress Bar Segments: 129it [01:08,  1.90it/s]\u001b[A\u001b[A"
          ]
        },
        {
          "name": "stdout",
          "output_type": "stream",
          "text": [
            "[[2.5528853e-03 7.0664231e-05 3.8533541e-04 8.6822730e-01 6.0550369e-02\n",
            "  1.0159906e-03 2.1180438e-02 6.1962710e-05 3.4844059e-02 2.2459102e-03\n",
            "  8.8650733e-03]]\n"
          ]
        },
        {
          "name": "stderr",
          "output_type": "stream",
          "text": [
            "\n",
            "\n",
            "tqdm() Progress Bar Segments: 130it [01:09,  1.90it/s]\u001b[A\u001b[A"
          ]
        },
        {
          "name": "stdout",
          "output_type": "stream",
          "text": [
            "[[1.1825983e-04 1.8842647e-05 1.8754030e-05 2.5820262e-03 5.9513235e-01\n",
            "  6.6620519e-04 4.5203984e-02 1.1732716e-05 3.5295597e-01 3.5215239e-04\n",
            "  2.9397209e-03]]\n"
          ]
        },
        {
          "name": "stderr",
          "output_type": "stream",
          "text": [
            "\n",
            "\n",
            "tqdm() Progress Bar Segments: 131it [01:09,  1.90it/s]\u001b[A\u001b[A"
          ]
        },
        {
          "name": "stdout",
          "output_type": "stream",
          "text": [
            "[[4.5868260e-04 4.8184582e-05 4.8931481e-05 1.3873832e-02 7.3566818e-01\n",
            "  6.7514338e-04 1.5664273e-03 1.4087710e-05 1.4543527e-01 1.2534154e-04\n",
            "  1.0208590e-01]]\n"
          ]
        },
        {
          "name": "stderr",
          "output_type": "stream",
          "text": [
            "\n",
            "\n",
            "tqdm() Progress Bar Segments: 132it [01:10,  1.89it/s]\u001b[A\u001b[A"
          ]
        },
        {
          "name": "stdout",
          "output_type": "stream",
          "text": [
            "[[2.8670352e-04 3.5414723e-05 1.2340694e-04 1.6859382e-03 9.3617517e-01\n",
            "  2.8564066e-03 1.6402096e-02 6.2484355e-06 6.3302293e-03 4.9322469e-05\n",
            "  3.6049072e-02]]\n"
          ]
        },
        {
          "name": "stderr",
          "output_type": "stream",
          "text": [
            "\n",
            "\n",
            "tqdm() Progress Bar Segments: 133it [01:10,  1.90it/s]\u001b[A\u001b[A"
          ]
        },
        {
          "name": "stdout",
          "output_type": "stream",
          "text": [
            "[[7.8535239e-05 3.2960408e-05 3.4390254e-05 2.7271165e-02 9.5703030e-01\n",
            "  4.5797776e-04 7.7193961e-03 6.3422399e-06 6.1379364e-03 7.8373407e-05\n",
            "  1.1526728e-03]]\n"
          ]
        },
        {
          "name": "stderr",
          "output_type": "stream",
          "text": [
            "\n",
            "\n",
            "tqdm() Progress Bar Segments: 134it [01:11,  1.91it/s]\u001b[A\u001b[A"
          ]
        },
        {
          "name": "stdout",
          "output_type": "stream",
          "text": [
            "[[7.1399656e-05 9.4927100e-06 1.1404285e-05 6.5368849e-01 1.8474469e-01\n",
            "  1.2617056e-04 2.3452668e-02 2.7802138e-05 1.3616796e-01 1.4610959e-03\n",
            "  2.3877442e-04]]\n"
          ]
        },
        {
          "name": "stderr",
          "output_type": "stream",
          "text": [
            "\n",
            "\n",
            "tqdm() Progress Bar Segments: 135it [01:11,  1.91it/s]\u001b[A\u001b[A"
          ]
        },
        {
          "name": "stdout",
          "output_type": "stream",
          "text": [
            "[[4.7872800e-04 2.2832084e-05 2.5930398e-04 8.2809245e-03 9.3875903e-01\n",
            "  1.4358553e-03 3.8409628e-02 8.3693412e-06 4.4247392e-03 5.2405252e-05\n",
            "  7.8681307e-03]]\n"
          ]
        },
        {
          "name": "stderr",
          "output_type": "stream",
          "text": [
            "\n",
            "\n",
            "tqdm() Progress Bar Segments: 136it [01:12,  1.92it/s]\u001b[A\u001b[A"
          ]
        },
        {
          "name": "stdout",
          "output_type": "stream",
          "text": [
            "[[5.7427455e-03 1.7634564e-04 1.1915171e-03 2.1950933e-01 6.4837199e-01\n",
            "  7.6292041e-03 8.3628185e-02 1.4106426e-04 1.4568100e-02 1.3572404e-03\n",
            "  1.7684393e-02]]\n"
          ]
        },
        {
          "name": "stderr",
          "output_type": "stream",
          "text": [
            "\n",
            "\n",
            "tqdm() Progress Bar Segments: 137it [01:12,  1.92it/s]\u001b[A\u001b[A"
          ]
        },
        {
          "name": "stdout",
          "output_type": "stream",
          "text": [
            "[[1.5021148e-05 1.6314953e-06 5.4503744e-06 1.0868301e-02 8.8105553e-01\n",
            "  2.7175389e-05 4.6188556e-02 2.0547352e-06 6.1364245e-02 1.0510757e-04\n",
            "  3.6691077e-04]]\n"
          ]
        },
        {
          "name": "stderr",
          "output_type": "stream",
          "text": [
            "\n",
            "\n",
            "tqdm() Progress Bar Segments: 138it [01:13,  1.92it/s]\u001b[A\u001b[A"
          ]
        },
        {
          "name": "stdout",
          "output_type": "stream",
          "text": [
            "[[2.1225102e-03 2.2986432e-04 1.5765931e-03 7.1831897e-02 5.0967073e-01\n",
            "  1.0259638e-02 3.5227549e-01 1.2191958e-04 3.7186403e-02 2.4605237e-03\n",
            "  1.2264502e-02]]\n"
          ]
        },
        {
          "name": "stderr",
          "output_type": "stream",
          "text": [
            "\n",
            "\n",
            "tqdm() Progress Bar Segments: 139it [01:13,  1.92it/s]\u001b[A\u001b[A"
          ]
        },
        {
          "name": "stdout",
          "output_type": "stream",
          "text": [
            "[[0.01201758 0.00466952 0.00213449 0.01931569 0.15713304 0.06237565\n",
            "  0.02969243 0.00297525 0.16272084 0.00231555 0.54464996]]\n"
          ]
        },
        {
          "name": "stderr",
          "output_type": "stream",
          "text": [
            "\n",
            "\n",
            "tqdm() Progress Bar Segments: 140it [01:14,  1.93it/s]\u001b[A\u001b[A"
          ]
        },
        {
          "name": "stdout",
          "output_type": "stream",
          "text": [
            "[[9.5605450e-03 6.0388295e-05 1.1790260e-03 1.9542515e-01 7.5884449e-01\n",
            "  3.9247791e-03 1.0834456e-03 1.7201324e-05 5.5638589e-03 4.6771562e-05\n",
            "  2.4294361e-02]]\n"
          ]
        },
        {
          "name": "stderr",
          "output_type": "stream",
          "text": [
            "\n",
            "\n",
            "tqdm() Progress Bar Segments: 141it [01:14,  1.93it/s]\u001b[A\u001b[A"
          ]
        },
        {
          "name": "stdout",
          "output_type": "stream",
          "text": [
            "[[2.45723670e-04 3.16350197e-05 1.09089146e-04 9.99991149e-02\n",
            "  8.92133653e-01 2.14863467e-04 1.35264720e-03 1.16193978e-05\n",
            "  3.81062087e-03 5.20476169e-05 2.03880481e-03]]\n"
          ]
        },
        {
          "name": "stderr",
          "output_type": "stream",
          "text": [
            "\n",
            "\n",
            "tqdm() Progress Bar Segments: 142it [01:15,  1.93it/s]\u001b[A\u001b[A"
          ]
        },
        {
          "name": "stdout",
          "output_type": "stream",
          "text": [
            "[[1.1784045e-03 8.5084241e-05 3.0826655e-04 1.3171402e-01 7.6983124e-01\n",
            "  7.1725575e-03 6.7078911e-02 2.4003279e-05 1.0726324e-02 4.7325471e-04\n",
            "  1.1407860e-02]]\n"
          ]
        },
        {
          "name": "stderr",
          "output_type": "stream",
          "text": [
            "\n",
            "\n",
            "tqdm() Progress Bar Segments: 143it [01:15,  1.93it/s]\u001b[A\u001b[A"
          ]
        },
        {
          "name": "stdout",
          "output_type": "stream",
          "text": [
            "[[4.69008199e-04 1.49889165e-05 1.29921857e-04 4.00802463e-01\n",
            "  5.92530966e-01 3.78978439e-04 6.67244487e-04 2.64717733e-06\n",
            "  1.29892118e-03 1.37169154e-05 3.69106582e-03]]\n"
          ]
        },
        {
          "name": "stderr",
          "output_type": "stream",
          "text": [
            "\n",
            "\n",
            "tqdm() Progress Bar Segments: 144it [01:16,  1.91it/s]\u001b[A\u001b[A"
          ]
        },
        {
          "name": "stdout",
          "output_type": "stream",
          "text": [
            "[[1.5385575e-03 1.0241460e-04 3.7555691e-04 4.6549138e-01 4.1602427e-01\n",
            "  1.6303106e-03 6.4541966e-02 5.6955032e-05 4.0824998e-02 1.5602047e-03\n",
            "  7.8535192e-03]]\n"
          ]
        },
        {
          "name": "stderr",
          "output_type": "stream",
          "text": [
            "\n",
            "\n",
            "tqdm() Progress Bar Segments: 145it [01:16,  1.91it/s]\u001b[A\u001b[A"
          ]
        },
        {
          "name": "stdout",
          "output_type": "stream",
          "text": [
            "[[5.1947311e-04 2.9751862e-04 2.0361328e-04 4.2633959e-03 8.9336669e-01\n",
            "  6.6314642e-03 4.6362251e-02 1.0379356e-04 3.4584511e-02 6.1962748e-04\n",
            "  1.3047614e-02]]\n"
          ]
        },
        {
          "name": "stderr",
          "output_type": "stream",
          "text": [
            "\n",
            "\n",
            "tqdm() Progress Bar Segments: 146it [01:17,  1.91it/s]\u001b[A\u001b[A"
          ]
        },
        {
          "name": "stdout",
          "output_type": "stream",
          "text": [
            "[[1.4661496e-04 4.9121968e-06 3.3495380e-05 4.5187064e-02 9.5235556e-01\n",
            "  1.3111233e-04 5.3733727e-04 1.1701700e-06 9.8825281e-04 7.9943802e-06\n",
            "  6.0659333e-04]]\n"
          ]
        },
        {
          "name": "stderr",
          "output_type": "stream",
          "text": [
            "\n",
            "\n",
            "tqdm() Progress Bar Segments: 147it [01:17,  1.89it/s]\u001b[A\u001b[A"
          ]
        },
        {
          "name": "stdout",
          "output_type": "stream",
          "text": [
            "[[7.3736976e-03 4.6671741e-04 6.5627851e-04 2.5906531e-02 3.8811141e-01\n",
            "  1.2681832e-02 1.8750854e-03 7.7328172e-05 6.6353090e-02 1.7695919e-04\n",
            "  4.9632111e-01]]\n"
          ]
        },
        {
          "name": "stderr",
          "output_type": "stream",
          "text": [
            "\n",
            "\n",
            "tqdm() Progress Bar Segments: 148it [01:18,  1.89it/s]\u001b[A\u001b[A"
          ]
        },
        {
          "name": "stdout",
          "output_type": "stream",
          "text": [
            "[[8.79264917e-05 1.08204085e-05 1.92956286e-05 1.52613409e-03\n",
            "  9.65832829e-01 7.43964920e-04 1.15077151e-03 1.41537373e-06\n",
            "  4.33979463e-03 3.79197604e-06 2.62832791e-02]]\n"
          ]
        },
        {
          "name": "stderr",
          "output_type": "stream",
          "text": [
            "\n",
            "\n",
            "tqdm() Progress Bar Segments: 149it [01:18,  1.90it/s]\u001b[A\u001b[A"
          ]
        },
        {
          "name": "stdout",
          "output_type": "stream",
          "text": [
            "[[1.4040012e-02 1.5755773e-04 2.3843898e-03 3.4783223e-01 3.5820806e-01\n",
            "  9.8467385e-03 2.5700206e-02 7.4782380e-05 3.2386009e-02 4.6847961e-04\n",
            "  2.0890146e-01]]\n"
          ]
        },
        {
          "name": "stderr",
          "output_type": "stream",
          "text": [
            "\n",
            "\n",
            "tqdm() Progress Bar Segments: 150it [01:19,  1.90it/s]\u001b[A\u001b[A"
          ]
        },
        {
          "name": "stdout",
          "output_type": "stream",
          "text": [
            "[[3.6551102e-04 1.1236863e-05 7.0257527e-05 9.9206924e-02 8.8862985e-01\n",
            "  4.5012889e-04 5.9122272e-04 3.2044852e-06 4.4710007e-03 1.3954899e-05\n",
            "  6.1868327e-03]]\n"
          ]
        },
        {
          "name": "stderr",
          "output_type": "stream",
          "text": [
            "\n",
            "\n",
            "tqdm() Progress Bar Segments: 151it [01:20,  1.91it/s]\u001b[A\u001b[A"
          ]
        },
        {
          "name": "stdout",
          "output_type": "stream",
          "text": [
            "[[1.0366627e-03 4.8875867e-04 1.7182693e-04 6.6856695e-03 1.5452634e-01\n",
            "  2.4476530e-02 9.5238522e-02 5.3928857e-04 6.8928981e-01 3.1617195e-03\n",
            "  2.4384890e-02]]\n"
          ]
        },
        {
          "name": "stderr",
          "output_type": "stream",
          "text": [
            "\n",
            "\n",
            "tqdm() Progress Bar Segments: 152it [01:20,  1.92it/s]\u001b[A\u001b[A"
          ]
        },
        {
          "name": "stdout",
          "output_type": "stream",
          "text": [
            "[[1.49034295e-05 7.26051553e-07 2.38777329e-06 3.06770653e-02\n",
            "  9.41634893e-01 1.81210744e-05 1.16103748e-03 7.92548065e-07\n",
            "  2.43843403e-02 2.50596040e-05 2.08073133e-03]]\n"
          ]
        },
        {
          "name": "stderr",
          "output_type": "stream",
          "text": [
            "\n",
            "\n",
            "tqdm() Progress Bar Segments: 153it [01:21,  1.92it/s]\u001b[A\u001b[A"
          ]
        },
        {
          "name": "stdout",
          "output_type": "stream",
          "text": [
            "[[2.8024579e-06 1.8832549e-06 8.9200773e-07 2.1242348e-03 9.4616306e-01\n",
            "  2.2680100e-05 1.8792462e-02 8.5641801e-07 3.2728251e-02 4.5433513e-05\n",
            "  1.1742913e-04]]\n"
          ]
        },
        {
          "name": "stderr",
          "output_type": "stream",
          "text": [
            "\n",
            "\n",
            "tqdm() Progress Bar Segments: 154it [01:21,  1.92it/s]\u001b[A\u001b[A"
          ]
        },
        {
          "name": "stdout",
          "output_type": "stream",
          "text": [
            "[[4.2422643e-04 1.1652807e-04 3.0425703e-04 5.6011010e-02 3.7037191e-01\n",
            "  1.4688353e-03 3.2874039e-01 2.2540287e-04 2.3820400e-01 1.6494710e-03\n",
            "  2.4840150e-03]]\n"
          ]
        },
        {
          "name": "stderr",
          "output_type": "stream",
          "text": [
            "\n",
            "\n",
            "tqdm() Progress Bar Segments: 155it [01:22,  1.93it/s]\u001b[A\u001b[A"
          ]
        },
        {
          "name": "stdout",
          "output_type": "stream",
          "text": [
            "[[2.0462882e-03 4.6925779e-05 4.0078761e-05 1.3583981e-01 1.9644380e-02\n",
            "  1.1971181e-03 1.1380524e-03 6.9984919e-05 7.4887562e-01 2.1148252e-04\n",
            "  9.0890251e-02]]\n"
          ]
        },
        {
          "name": "stderr",
          "output_type": "stream",
          "text": [
            "\n",
            "\n",
            "tqdm() Progress Bar Segments: 156it [01:22,  1.92it/s]\u001b[A\u001b[A"
          ]
        },
        {
          "name": "stdout",
          "output_type": "stream",
          "text": [
            "[[3.8672041e-04 1.8087585e-05 3.1928968e-05 1.7322196e-01 7.0760208e-01\n",
            "  4.4081372e-04 1.1492779e-03 5.4631837e-06 4.8585135e-02 3.9686554e-05\n",
            "  6.8518765e-02]]\n"
          ]
        },
        {
          "name": "stderr",
          "output_type": "stream",
          "text": [
            "\n",
            "\n",
            "tqdm() Progress Bar Segments: 157it [01:23,  1.93it/s]\u001b[A\u001b[A"
          ]
        },
        {
          "name": "stdout",
          "output_type": "stream",
          "text": [
            "[[0.00211133 0.00042221 0.00054862 0.09101645 0.33532324 0.00552801\n",
            "  0.1398853  0.00065809 0.39358374 0.00336089 0.02756216]]\n"
          ]
        },
        {
          "name": "stderr",
          "output_type": "stream",
          "text": [
            "\n",
            "\n",
            "tqdm() Progress Bar Segments: 158it [01:23,  1.92it/s]\u001b[A\u001b[A"
          ]
        },
        {
          "name": "stdout",
          "output_type": "stream",
          "text": [
            "[[2.7480381e-04 5.1665647e-06 5.1502597e-05 2.0213695e-02 9.6063018e-01\n",
            "  1.3119754e-04 4.6128893e-04 1.5399550e-06 4.3503796e-03 4.0579139e-06\n",
            "  1.3876167e-02]]\n"
          ]
        },
        {
          "name": "stderr",
          "output_type": "stream",
          "text": [
            "\n",
            "\n",
            "tqdm() Progress Bar Segments: 159it [01:24,  1.92it/s]\u001b[A\u001b[A"
          ]
        },
        {
          "name": "stdout",
          "output_type": "stream",
          "text": [
            "[[4.1468890e-04 7.9528172e-06 7.8812154e-05 9.5752388e-02 8.9683288e-01\n",
            "  3.3832077e-04 4.2609510e-04 1.0842956e-06 1.3422845e-03 3.4070442e-06\n",
            "  4.8020300e-03]]\n"
          ]
        },
        {
          "name": "stderr",
          "output_type": "stream",
          "text": [
            "\n",
            "\n",
            "tqdm() Progress Bar Segments: 160it [01:24,  1.92it/s]\u001b[A\u001b[A"
          ]
        },
        {
          "name": "stdout",
          "output_type": "stream",
          "text": [
            "[[8.72679614e-03 1.68420622e-04 9.41976439e-04 6.87977135e-01\n",
            "  2.08122864e-01 2.72414531e-03 1.18529459e-03 1.04193576e-04\n",
            "  1.33324983e-02 1.79229814e-04 7.65374228e-02]]\n"
          ]
        },
        {
          "name": "stderr",
          "output_type": "stream",
          "text": [
            "\n",
            "\n",
            "tqdm() Progress Bar Segments: 161it [01:25,  1.92it/s]\u001b[A\u001b[A"
          ]
        },
        {
          "name": "stdout",
          "output_type": "stream",
          "text": [
            "[[7.9058729e-05 1.5947664e-05 2.7734815e-05 8.9793903e-04 9.4670564e-01\n",
            "  2.5947884e-04 6.1534727e-03 3.4906336e-06 1.6547063e-02 8.2596707e-06\n",
            "  2.9301802e-02]]\n"
          ]
        },
        {
          "name": "stderr",
          "output_type": "stream",
          "text": [
            "\n",
            "\n",
            "tqdm() Progress Bar Segments: 162it [01:25,  1.92it/s]\u001b[A\u001b[A"
          ]
        },
        {
          "name": "stdout",
          "output_type": "stream",
          "text": [
            "[[1.00038685e-02 8.95248158e-05 2.39148363e-03 7.44010270e-01\n",
            "  2.28574529e-01 1.58592651e-03 2.28195320e-04 1.68192728e-05\n",
            "  8.25860014e-04 2.06968998e-05 1.22527946e-02]]\n"
          ]
        },
        {
          "name": "stderr",
          "output_type": "stream",
          "text": [
            "\n",
            "\n",
            "tqdm() Progress Bar Segments: 163it [01:26,  1.92it/s]\u001b[A\u001b[A"
          ]
        },
        {
          "name": "stdout",
          "output_type": "stream",
          "text": [
            "[[6.8256646e-02 5.7480969e-03 2.6434462e-04 1.0013713e-02 3.4702125e-03\n",
            "  1.4118259e-02 3.2191959e-04 2.1075241e-02 1.3307253e-01 4.2404651e-04\n",
            "  7.4323505e-01]]\n"
          ]
        },
        {
          "name": "stderr",
          "output_type": "stream",
          "text": [
            "\n",
            "\n",
            "tqdm() Progress Bar Segments: 164it [01:26,  1.86it/s]\u001b[A\u001b[A"
          ]
        },
        {
          "name": "stdout",
          "output_type": "stream",
          "text": [
            "[[1.2208831e-03 2.8944141e-04 2.1360080e-04 2.0328820e-02 6.2177807e-01\n",
            "  7.9758503e-03 3.0110704e-02 6.9138616e-05 2.4124287e-01 3.9208372e-04\n",
            "  7.6378532e-02]]\n"
          ]
        },
        {
          "name": "stderr",
          "output_type": "stream",
          "text": [
            "\n",
            "\n",
            "tqdm() Progress Bar Segments: 165it [01:27,  1.88it/s]\u001b[A\u001b[A"
          ]
        },
        {
          "name": "stdout",
          "output_type": "stream",
          "text": [
            "[[1.9783993e-06 2.7424781e-07 1.7068047e-06 9.7002565e-05 9.9886203e-01\n",
            "  1.4330726e-05 4.0950408e-04 6.3069237e-08 1.3964015e-04 1.1206545e-07\n",
            "  4.7338774e-04]]\n"
          ]
        },
        {
          "name": "stderr",
          "output_type": "stream",
          "text": [
            "\n",
            "\n",
            "tqdm() Progress Bar Segments: 166it [01:27,  1.90it/s]\u001b[A\u001b[A"
          ]
        },
        {
          "name": "stdout",
          "output_type": "stream",
          "text": [
            "[[4.28957259e-03 8.09530247e-05 7.11881381e-04 1.05771475e-01\n",
            "  8.47832978e-01 6.02345029e-03 2.98547908e-03 2.20379607e-05\n",
            "  5.09913312e-03 6.16923935e-05 2.71213017e-02]]\n"
          ]
        },
        {
          "name": "stderr",
          "output_type": "stream",
          "text": [
            "\n",
            "\n",
            "tqdm() Progress Bar Segments: 167it [01:28,  1.91it/s]\u001b[A\u001b[A"
          ]
        },
        {
          "name": "stdout",
          "output_type": "stream",
          "text": [
            "[[3.3923823e-02 2.6284880e-04 3.6935101e-03 4.8933583e-01 3.6621556e-01\n",
            "  1.1129006e-02 4.6570650e-03 9.6116346e-05 1.1288022e-02 3.9220383e-04\n",
            "  7.9005979e-02]]\n"
          ]
        },
        {
          "name": "stderr",
          "output_type": "stream",
          "text": [
            "\n",
            "\n",
            "tqdm() Progress Bar Segments: 168it [01:28,  1.91it/s]\u001b[A\u001b[A"
          ]
        },
        {
          "name": "stdout",
          "output_type": "stream",
          "text": [
            "[[6.3238395e-03 3.6198059e-03 1.4552765e-04 1.4498028e-03 3.4328401e-03\n",
            "  3.9963089e-03 5.1349925e-04 3.9399168e-03 9.2041925e-02 1.5865300e-04\n",
            "  8.8437790e-01]]\n"
          ]
        },
        {
          "name": "stderr",
          "output_type": "stream",
          "text": [
            "\n",
            "\n",
            "tqdm() Progress Bar Segments: 169it [01:29,  1.92it/s]\u001b[A\u001b[A"
          ]
        },
        {
          "name": "stdout",
          "output_type": "stream",
          "text": [
            "[[9.4386330e-04 1.0349784e-05 4.6332036e-05 3.3075050e-02 1.3764712e-01\n",
            "  7.3510362e-04 1.4079787e-03 1.0179885e-05 1.0419998e-01 1.6300923e-05\n",
            "  7.2190779e-01]]\n"
          ]
        },
        {
          "name": "stderr",
          "output_type": "stream",
          "text": [
            "\n",
            "\n",
            "tqdm() Progress Bar Segments: 170it [01:29,  1.93it/s]\u001b[A\u001b[A"
          ]
        },
        {
          "name": "stdout",
          "output_type": "stream",
          "text": [
            "[[8.2511702e-05 2.8603008e-05 3.9208251e-05 1.0704893e-03 9.6863651e-01\n",
            "  7.6507631e-04 6.4066937e-03 2.6348655e-06 1.1453371e-02 1.8933924e-05\n",
            "  1.1495944e-02]]\n"
          ]
        },
        {
          "name": "stderr",
          "output_type": "stream",
          "text": [
            "\n",
            "\n",
            "tqdm() Progress Bar Segments: 171it [01:30,  1.94it/s]\u001b[A\u001b[A"
          ]
        },
        {
          "name": "stdout",
          "output_type": "stream",
          "text": [
            "[[3.0350473e-05 5.0921190e-06 2.1919957e-05 1.4965222e-04 9.9678755e-01\n",
            "  2.8323891e-04 8.6929533e-04 3.2930174e-07 2.2351468e-04 7.6509326e-07\n",
            "  1.6283930e-03]]\n"
          ]
        },
        {
          "name": "stderr",
          "output_type": "stream",
          "text": [
            "\n",
            "\n",
            "tqdm() Progress Bar Segments: 172it [01:30,  1.95it/s]\u001b[A\u001b[A"
          ]
        },
        {
          "name": "stdout",
          "output_type": "stream",
          "text": [
            "[[3.2103952e-05 2.2631407e-06 7.7932436e-06 1.0399766e-02 9.6335518e-01\n",
            "  1.1965504e-04 3.9438554e-03 8.7250436e-07 1.7426848e-02 1.9285262e-05\n",
            "  4.6922965e-03]]\n"
          ]
        },
        {
          "name": "stderr",
          "output_type": "stream",
          "text": [
            "\n",
            "\n",
            "tqdm() Progress Bar Segments: 173it [01:31,  1.95it/s]\u001b[A\u001b[A"
          ]
        },
        {
          "name": "stdout",
          "output_type": "stream",
          "text": [
            "[[5.0009246e-04 2.3908709e-05 1.4640525e-04 1.2515232e-02 9.1132605e-01\n",
            "  8.1653544e-04 6.3941851e-03 8.5607844e-06 1.1318393e-02 2.8857812e-05\n",
            "  5.6921780e-02]]\n"
          ]
        },
        {
          "name": "stderr",
          "output_type": "stream",
          "text": [
            "\n",
            "\n",
            "tqdm() Progress Bar Segments: 174it [01:31,  1.95it/s]\u001b[A\u001b[A"
          ]
        },
        {
          "name": "stdout",
          "output_type": "stream",
          "text": [
            "[[1.8853126e-02 2.7198225e-04 2.4702596e-03 4.1820163e-01 1.6573186e-01\n",
            "  1.6802387e-02 2.7009246e-01 1.8943344e-04 5.5756878e-02 4.8019211e-03\n",
            "  4.6828110e-02]]\n"
          ]
        },
        {
          "name": "stderr",
          "output_type": "stream",
          "text": [
            "\n",
            "\n",
            "tqdm() Progress Bar Segments: 175it [01:32,  1.94it/s]\u001b[A\u001b[A"
          ]
        },
        {
          "name": "stdout",
          "output_type": "stream",
          "text": [
            "[[1.4820250e-03 2.4870711e-05 1.6428107e-04 9.0290558e-01 8.1375770e-02\n",
            "  5.3980883e-04 7.7432743e-04 1.4347370e-05 5.8610868e-03 6.7196022e-05\n",
            "  6.7906496e-03]]\n"
          ]
        },
        {
          "name": "stderr",
          "output_type": "stream",
          "text": [
            "\n",
            "\n",
            "tqdm() Progress Bar Segments: 176it [01:33,  1.94it/s]\u001b[A\u001b[A"
          ]
        },
        {
          "name": "stdout",
          "output_type": "stream",
          "text": [
            "[[1.5965539e-04 2.5104914e-06 3.9549643e-05 1.6830896e-01 8.2849860e-01\n",
            "  9.8603523e-05 1.4707429e-03 1.1270523e-06 8.5351861e-04 1.5956275e-05\n",
            "  5.5072102e-04]]\n"
          ]
        },
        {
          "name": "stderr",
          "output_type": "stream",
          "text": [
            "\n",
            "\n",
            "tqdm() Progress Bar Segments: 177it [01:33,  1.92it/s]\u001b[A\u001b[A"
          ]
        },
        {
          "name": "stdout",
          "output_type": "stream",
          "text": [
            "[[1.39872567e-03 5.64453017e-04 4.67633916e-04 2.19388604e-02\n",
            "  7.44219840e-01 1.18937045e-02 6.89837858e-02 1.48731357e-04\n",
            "  1.14017949e-01 1.21757027e-03 3.51486988e-02]]\n"
          ]
        },
        {
          "name": "stderr",
          "output_type": "stream",
          "text": [
            "\n",
            "\n",
            "tqdm() Progress Bar Segments: 178it [01:34,  1.92it/s]\u001b[A\u001b[A"
          ]
        },
        {
          "name": "stdout",
          "output_type": "stream",
          "text": [
            "[[1.6734819e-05 1.4756929e-06 1.7383709e-05 1.2627424e-03 9.9692351e-01\n",
            "  2.8192122e-05 1.1755499e-03 5.7351332e-07 3.4663745e-04 8.7565422e-07\n",
            "  2.2628813e-04]]\n"
          ]
        },
        {
          "name": "stderr",
          "output_type": "stream",
          "text": [
            "\n",
            "\n",
            "tqdm() Progress Bar Segments: 179it [01:34,  1.93it/s]\u001b[A\u001b[A"
          ]
        },
        {
          "name": "stdout",
          "output_type": "stream",
          "text": [
            "[[2.9445530e-03 6.2935823e-04 8.6726621e-04 2.2555860e-03 1.4556150e-01\n",
            "  5.1301736e-03 5.6060985e-02 3.1646210e-04 1.0612985e-01 2.9616363e-04\n",
            "  6.7980808e-01]]\n"
          ]
        },
        {
          "name": "stderr",
          "output_type": "stream",
          "text": [
            "\n",
            "\n",
            "tqdm() Progress Bar Segments: 180it [01:35,  1.93it/s]\u001b[A\u001b[A"
          ]
        },
        {
          "name": "stdout",
          "output_type": "stream",
          "text": [
            "[[1.8795427e-03 1.6262487e-04 7.7904353e-04 4.5275968e-01 4.5901263e-01\n",
            "  4.5356024e-03 3.9000817e-02 5.8025184e-05 2.6621465e-02 1.2590523e-03\n",
            "  1.3931570e-02]]\n"
          ]
        },
        {
          "name": "stderr",
          "output_type": "stream",
          "text": [
            "\n",
            "\n",
            "tqdm() Progress Bar Segments: 181it [01:35,  1.93it/s]\u001b[A\u001b[A"
          ]
        },
        {
          "name": "stdout",
          "output_type": "stream",
          "text": [
            "[[2.9224115e-05 5.8050819e-06 9.0542790e-06 1.5518976e-03 9.7946292e-01\n",
            "  1.9843933e-04 9.7751161e-03 2.3936784e-06 8.4249731e-03 2.5222667e-05\n",
            "  5.1500677e-04]]\n"
          ]
        },
        {
          "name": "stderr",
          "output_type": "stream",
          "text": [
            "\n",
            "\n",
            "tqdm() Progress Bar Segments: 182it [01:36,  1.92it/s]\u001b[A\u001b[A"
          ]
        },
        {
          "name": "stdout",
          "output_type": "stream",
          "text": [
            "[[1.0713812e-05 1.6436151e-06 3.8610906e-06 5.4473634e-04 9.8708797e-01\n",
            "  6.4310902e-05 1.4773392e-03 5.2105634e-07 6.6839918e-03 1.0214098e-05\n",
            "  4.1147787e-03]]\n"
          ]
        },
        {
          "name": "stderr",
          "output_type": "stream",
          "text": [
            "\n",
            "\n",
            "tqdm() Progress Bar Segments: 183it [01:36,  1.92it/s]\u001b[A\u001b[A"
          ]
        },
        {
          "name": "stdout",
          "output_type": "stream",
          "text": [
            "[[4.78020776e-03 5.44571143e-04 2.44728173e-03 9.82155055e-02\n",
            "  5.10156095e-01 3.01938616e-02 1.71370476e-01 2.84806767e-04\n",
            "  6.74368143e-02 1.69671571e-03 1.12873636e-01]]\n"
          ]
        },
        {
          "name": "stderr",
          "output_type": "stream",
          "text": [
            "\n",
            "\n",
            "tqdm() Progress Bar Segments: 184it [01:37,  1.92it/s]\u001b[A\u001b[A"
          ]
        },
        {
          "name": "stdout",
          "output_type": "stream",
          "text": [
            "[[3.3025652e-05 5.0927733e-06 1.2426679e-05 2.1322169e-03 9.9458909e-01\n",
            "  1.4982896e-04 1.0967583e-03 1.0540185e-06 9.8149118e-04 4.2343559e-06\n",
            "  9.9474599e-04]]\n"
          ]
        },
        {
          "name": "stderr",
          "output_type": "stream",
          "text": [
            "\n",
            "\n",
            "tqdm() Progress Bar Segments: 185it [01:37,  1.93it/s]\u001b[A\u001b[A"
          ]
        },
        {
          "name": "stdout",
          "output_type": "stream",
          "text": [
            "[[6.7517854e-04 3.9267432e-04 2.1285731e-04 2.1485284e-02 7.0252973e-01\n",
            "  9.8512359e-03 1.1490857e-01 2.1204163e-04 1.4132504e-01 3.5869698e-03\n",
            "  4.8204469e-03]]\n"
          ]
        },
        {
          "name": "stderr",
          "output_type": "stream",
          "text": [
            "\n",
            "\n",
            "tqdm() Progress Bar Segments: 186it [01:38,  1.93it/s]\u001b[A\u001b[A"
          ]
        },
        {
          "name": "stdout",
          "output_type": "stream",
          "text": [
            "[[0.00840642 0.00201054 0.00308492 0.06122763 0.34261346 0.05511077\n",
            "  0.08831611 0.00120862 0.23324986 0.00480235 0.19996935]]\n"
          ]
        },
        {
          "name": "stderr",
          "output_type": "stream",
          "text": [
            "\n",
            "\n",
            "tqdm() Progress Bar Segments: 187it [01:38,  1.92it/s]\u001b[A\u001b[A"
          ]
        },
        {
          "name": "stdout",
          "output_type": "stream",
          "text": [
            "[[3.83085012e-03 8.35189130e-05 4.38229443e-04 8.74359727e-01\n",
            "  3.28833871e-02 2.01655435e-03 3.90817411e-02 1.13856295e-04\n",
            "  3.50408740e-02 2.51528388e-03 9.63604730e-03]]\n"
          ]
        },
        {
          "name": "stderr",
          "output_type": "stream",
          "text": [
            "\n",
            "\n",
            "tqdm() Progress Bar Segments: 188it [01:39,  1.92it/s]\u001b[A\u001b[A"
          ]
        },
        {
          "name": "stdout",
          "output_type": "stream",
          "text": [
            "[[1.5448948e-04 6.5551940e-06 4.4867680e-05 6.7895097e-03 9.4260812e-01\n",
            "  2.4045055e-04 1.6123179e-02 3.0197677e-06 2.3600062e-02 4.5642097e-05\n",
            "  1.0384161e-02]]\n"
          ]
        },
        {
          "name": "stderr",
          "output_type": "stream",
          "text": [
            "\n",
            "\n",
            "tqdm() Progress Bar Segments: 189it [01:39,  1.85it/s]\u001b[A\u001b[A"
          ]
        },
        {
          "name": "stdout",
          "output_type": "stream",
          "text": [
            "[[2.0542585e-03 1.8851086e-04 4.9114602e-05 7.0711708e-04 2.2709332e-03\n",
            "  1.8922144e-03 2.6489366e-04 9.7309216e-04 5.2212592e-02 5.1106475e-05\n",
            "  9.3933612e-01]]\n"
          ]
        },
        {
          "name": "stderr",
          "output_type": "stream",
          "text": [
            "\n",
            "\n",
            "tqdm() Progress Bar Segments: 190it [01:40,  1.87it/s]\u001b[A\u001b[A"
          ]
        },
        {
          "name": "stdout",
          "output_type": "stream",
          "text": [
            "[[1.1449439e-04 4.6020450e-05 9.4277329e-06 1.9551103e-03 6.7924470e-02\n",
            "  5.2927784e-04 1.8716471e-02 5.3390766e-05 9.0301877e-01 6.4109750e-03\n",
            "  1.2216346e-03]]\n"
          ]
        },
        {
          "name": "stderr",
          "output_type": "stream",
          "text": [
            "\n",
            "\n",
            "tqdm() Progress Bar Segments: 191it [01:40,  1.88it/s]\u001b[A\u001b[A"
          ]
        },
        {
          "name": "stdout",
          "output_type": "stream",
          "text": [
            "[[3.6246674e-03 1.3726136e-04 8.8170404e-04 8.2799053e-01 1.2871307e-01\n",
            "  1.8704048e-03 8.3421199e-03 7.5332537e-05 1.5247972e-02 9.4126572e-04\n",
            "  1.2175699e-02]]\n"
          ]
        },
        {
          "name": "stderr",
          "output_type": "stream",
          "text": [
            "\n",
            "\n",
            "tqdm() Progress Bar Segments: 192it [01:41,  1.88it/s]\u001b[A\u001b[A"
          ]
        },
        {
          "name": "stdout",
          "output_type": "stream",
          "text": [
            "[[0.01002692 0.00829094 0.00305595 0.00711361 0.25881582 0.03914027\n",
            "  0.14205854 0.00793985 0.15431473 0.00247771 0.3667657 ]]\n"
          ]
        },
        {
          "name": "stderr",
          "output_type": "stream",
          "text": [
            "\n",
            "\n",
            "tqdm() Progress Bar Segments: 193it [01:41,  1.89it/s]\u001b[A\u001b[A"
          ]
        },
        {
          "name": "stdout",
          "output_type": "stream",
          "text": [
            "[[9.2614964e-03 2.5296267e-04 1.8646704e-03 1.1164992e-01 5.7687205e-01\n",
            "  1.6322268e-02 8.2195461e-02 7.5531185e-05 2.8817289e-02 8.9428452e-04\n",
            "  1.7179409e-01]]\n"
          ]
        },
        {
          "name": "stderr",
          "output_type": "stream",
          "text": [
            "\n",
            "\n",
            "tqdm() Progress Bar Segments: 194it [01:42,  1.88it/s]\u001b[A\u001b[A"
          ]
        },
        {
          "name": "stdout",
          "output_type": "stream",
          "text": [
            "[[4.9003530e-03 1.1233028e-03 1.8050417e-04 9.6184236e-04 2.7627952e-02\n",
            "  2.1555442e-02 5.4485379e-03 2.4804845e-03 2.4682322e-01 5.0372304e-04\n",
            "  6.8839461e-01]]\n"
          ]
        },
        {
          "name": "stderr",
          "output_type": "stream",
          "text": [
            "\n",
            "\n",
            "tqdm() Progress Bar Segments: 195it [01:43,  1.90it/s]\u001b[A\u001b[A"
          ]
        },
        {
          "name": "stdout",
          "output_type": "stream",
          "text": [
            "[[5.6321209e-04 2.0334726e-04 1.8227044e-04 2.5244890e-02 7.8639150e-01\n",
            "  6.3078268e-03 6.5155633e-02 5.3712047e-05 8.9231245e-02 5.0002174e-04\n",
            "  2.6166266e-02]]\n"
          ]
        },
        {
          "name": "stderr",
          "output_type": "stream",
          "text": [
            "\n",
            "\n",
            "tqdm() Progress Bar Segments: 196it [01:43,  1.92it/s]\u001b[A\u001b[A"
          ]
        },
        {
          "name": "stdout",
          "output_type": "stream",
          "text": [
            "[[3.03431851e-04 1.14370516e-04 1.00619567e-04 1.12509623e-03\n",
            "  9.01522398e-01 4.90225432e-03 1.39498273e-02 1.28493321e-05\n",
            "  1.01192920e-02 3.13941455e-05 6.78184554e-02]]\n"
          ]
        },
        {
          "name": "stderr",
          "output_type": "stream",
          "text": [
            "\n",
            "\n",
            "tqdm() Progress Bar Segments: 197it [01:44,  1.92it/s]\u001b[A\u001b[A"
          ]
        },
        {
          "name": "stdout",
          "output_type": "stream",
          "text": [
            "[[9.9973753e-04 1.1874572e-04 5.0034001e-04 9.2969425e-03 9.1491592e-01\n",
            "  1.3548610e-03 9.8572038e-03 4.8163136e-05 1.5494800e-02 5.2989253e-05\n",
            "  4.7360308e-02]]\n"
          ]
        },
        {
          "name": "stderr",
          "output_type": "stream",
          "text": [
            "\n",
            "\n",
            "tqdm() Progress Bar Segments: 198it [01:44,  1.92it/s]\u001b[A\u001b[A"
          ]
        },
        {
          "name": "stdout",
          "output_type": "stream",
          "text": [
            "[[2.3354286e-02 1.5618227e-04 2.1313338e-03 7.8802341e-01 4.0608421e-02\n",
            "  5.3919689e-03 6.0504205e-03 1.8307280e-04 1.8488560e-02 9.6400530e-04\n",
            "  1.1464823e-01]]\n"
          ]
        },
        {
          "name": "stderr",
          "output_type": "stream",
          "text": [
            "\n",
            "\n",
            "tqdm() Progress Bar Segments: 199it [01:45,  1.93it/s]\u001b[A\u001b[A"
          ]
        },
        {
          "name": "stdout",
          "output_type": "stream",
          "text": [
            "[[6.9885247e-04 4.2597861e-05 7.7433369e-06 3.9257102e-05 1.7379952e-04\n",
            "  2.1834880e-04 8.6341579e-06 7.1707414e-05 4.0402603e-03 3.4585426e-06\n",
            "  9.9469537e-01]]\n"
          ]
        },
        {
          "name": "stderr",
          "output_type": "stream",
          "text": [
            "\n",
            "\n",
            "tqdm() Progress Bar Segments: 200it [01:45,  1.94it/s]\u001b[A\u001b[A"
          ]
        },
        {
          "name": "stdout",
          "output_type": "stream",
          "text": [
            "[[2.0665959e-05 2.5741986e-06 5.7308594e-06 2.0309497e-02 9.5732564e-01\n",
            "  2.3493341e-05 2.4924388e-03 1.3170546e-06 1.7897252e-02 1.7296423e-05\n",
            "  1.9040826e-03]]\n"
          ]
        },
        {
          "name": "stderr",
          "output_type": "stream",
          "text": [
            "\n",
            "\n",
            "tqdm() Progress Bar Segments: 201it [01:46,  1.93it/s]\u001b[A\u001b[A"
          ]
        },
        {
          "name": "stdout",
          "output_type": "stream",
          "text": [
            "[[4.4251545e-03 9.9850622e-05 1.2978534e-03 3.9124001e-02 7.6050496e-01\n",
            "  9.9828113e-03 7.2742425e-02 1.5931260e-05 1.5499624e-02 2.4708267e-04\n",
            "  9.6060306e-02]]\n"
          ]
        },
        {
          "name": "stderr",
          "output_type": "stream",
          "text": [
            "\n",
            "\n",
            "tqdm() Progress Bar Segments: 202it [01:46,  1.93it/s]\u001b[A\u001b[A"
          ]
        },
        {
          "name": "stdout",
          "output_type": "stream",
          "text": [
            "[[1.4901974e-03 2.1766814e-04 2.2332079e-04 3.8718883e-02 8.4750414e-01\n",
            "  3.9834976e-03 1.1283067e-02 9.6811171e-05 7.8376494e-02 3.8670402e-04\n",
            "  1.7719204e-02]]\n"
          ]
        },
        {
          "name": "stderr",
          "output_type": "stream",
          "text": [
            "\n",
            "\n",
            "tqdm() Progress Bar Segments: 203it [01:47,  1.93it/s]\u001b[A\u001b[A"
          ]
        },
        {
          "name": "stdout",
          "output_type": "stream",
          "text": [
            "[[8.5343776e-04 1.4006600e-04 2.1642803e-04 8.6517772e-03 7.8016412e-01\n",
            "  9.0709636e-03 1.4107593e-02 3.3328957e-05 7.3281266e-02 3.0757606e-04\n",
            "  1.1317345e-01]]\n"
          ]
        },
        {
          "name": "stderr",
          "output_type": "stream",
          "text": [
            "\n",
            "\n",
            "tqdm() Progress Bar Segments: 204it [01:47,  1.93it/s]\u001b[A\u001b[A"
          ]
        },
        {
          "name": "stdout",
          "output_type": "stream",
          "text": [
            "[[7.3319374e-05 6.6213365e-06 2.6634360e-05 6.4306699e-02 9.3195450e-01\n",
            "  1.4111899e-04 2.8424971e-03 2.9039250e-06 4.7860216e-04 1.7829951e-05\n",
            "  1.4941869e-04]]\n"
          ]
        },
        {
          "name": "stderr",
          "output_type": "stream",
          "text": [
            "\n",
            "\n",
            "tqdm() Progress Bar Segments: 205it [01:48,  1.94it/s]\u001b[A\u001b[A"
          ]
        },
        {
          "name": "stdout",
          "output_type": "stream",
          "text": [
            "[[5.8939448e-04 4.4228407e-05 2.8843584e-05 8.2644365e-05 8.0418894e-03\n",
            "  1.2383445e-03 5.6505646e-04 1.7457567e-05 5.8045299e-03 9.1918273e-06\n",
            "  9.8357844e-01]]\n"
          ]
        },
        {
          "name": "stderr",
          "output_type": "stream",
          "text": [
            "\n",
            "\n",
            "tqdm() Progress Bar Segments: 206it [01:48,  1.94it/s]\u001b[A\u001b[A"
          ]
        },
        {
          "name": "stdout",
          "output_type": "stream",
          "text": [
            "[[6.8386551e-05 3.9357678e-06 1.3306153e-05 4.3145623e-03 9.6305943e-01\n",
            "  2.9924986e-04 1.7326490e-03 1.1671691e-06 1.4824713e-02 7.0928259e-06\n",
            "  1.5675498e-02]]\n"
          ]
        },
        {
          "name": "stderr",
          "output_type": "stream",
          "text": [
            "\n",
            "\n",
            "tqdm() Progress Bar Segments: 207it [01:49,  1.93it/s]\u001b[A\u001b[A"
          ]
        },
        {
          "name": "stdout",
          "output_type": "stream",
          "text": [
            "[[3.1938762e-06 1.3546932e-06 5.8907705e-07 2.5265642e-02 9.6296680e-01\n",
            "  3.2575485e-05 2.1429770e-03 8.2879933e-07 9.3448162e-03 1.1870350e-04\n",
            "  1.2254633e-04]]\n"
          ]
        },
        {
          "name": "stderr",
          "output_type": "stream",
          "text": [
            "\n",
            "\n",
            "tqdm() Progress Bar Segments: 208it [01:49,  1.93it/s]\u001b[A\u001b[A"
          ]
        },
        {
          "name": "stdout",
          "output_type": "stream",
          "text": [
            "[[2.0988757e-04 4.9505201e-05 7.5285614e-05 4.0600769e-02 9.2496985e-01\n",
            "  7.2222482e-04 6.4543039e-03 9.9357067e-06 1.6598819e-02 1.0676310e-04\n",
            "  1.0202686e-02]]\n"
          ]
        },
        {
          "name": "stderr",
          "output_type": "stream",
          "text": [
            "\n",
            "\n",
            "tqdm() Progress Bar Segments: 209it [01:50,  1.93it/s]\u001b[A\u001b[A"
          ]
        },
        {
          "name": "stdout",
          "output_type": "stream",
          "text": [
            "[[2.4768782e-05 7.4195309e-06 1.1779524e-05 4.5729920e-04 9.7618127e-01\n",
            "  3.5829170e-04 7.9648821e-03 1.5435762e-06 9.0391506e-03 1.2009747e-05\n",
            "  5.9414278e-03]]\n"
          ]
        },
        {
          "name": "stderr",
          "output_type": "stream",
          "text": [
            "\n",
            "\n",
            "tqdm() Progress Bar Segments: 210it [01:50,  1.92it/s]\u001b[A\u001b[A"
          ]
        },
        {
          "name": "stdout",
          "output_type": "stream",
          "text": [
            "[[1.2770818e-04 2.8968338e-05 4.0075818e-05 7.0927799e-02 6.7138827e-01\n",
            "  7.3440460e-04 3.7458438e-02 8.3005489e-06 2.1166240e-01 3.6446514e-04\n",
            "  7.2591747e-03]]\n"
          ]
        },
        {
          "name": "stderr",
          "output_type": "stream",
          "text": [
            "\n",
            "\n",
            "tqdm() Progress Bar Segments: 211it [01:51,  1.92it/s]\u001b[A\u001b[A"
          ]
        },
        {
          "name": "stdout",
          "output_type": "stream",
          "text": [
            "[[3.8973900e-04 7.9475176e-05 2.3033767e-04 1.1146797e-02 5.9716910e-01\n",
            "  7.1803429e-03 2.0681381e-01 5.3556389e-05 1.4297001e-01 9.9066051e-04\n",
            "  3.2976214e-02]]\n"
          ]
        },
        {
          "name": "stderr",
          "output_type": "stream",
          "text": [
            "\n",
            "\n",
            "tqdm() Progress Bar Segments: 212it [01:51,  1.93it/s]\u001b[A\u001b[A"
          ]
        },
        {
          "name": "stdout",
          "output_type": "stream",
          "text": [
            "[[2.7128553e-04 1.6390612e-05 6.6982997e-05 9.6773118e-02 8.8824761e-01\n",
            "  1.2632348e-03 5.4427246e-03 4.2624088e-06 3.3035823e-03 2.6266664e-05\n",
            "  4.5844801e-03]]\n"
          ]
        },
        {
          "name": "stderr",
          "output_type": "stream",
          "text": [
            "\n",
            "\n",
            "tqdm() Progress Bar Segments: 213it [01:52,  1.85it/s]\u001b[A\u001b[A"
          ]
        },
        {
          "name": "stdout",
          "output_type": "stream",
          "text": [
            "[[0.00769829 0.07591061 0.00376824 0.00996319 0.19661793 0.2586913\n",
            "  0.10506681 0.04545392 0.11391342 0.00550939 0.17740686]]\n"
          ]
        },
        {
          "name": "stderr",
          "output_type": "stream",
          "text": [
            "\n",
            "\n",
            "tqdm() Progress Bar Segments: 214it [01:52,  1.89it/s]\u001b[A\u001b[A"
          ]
        },
        {
          "name": "stdout",
          "output_type": "stream",
          "text": [
            "[[4.2167944e-03 7.7763056e-05 3.7277353e-04 2.7463945e-02 7.1325040e-01\n",
            "  1.1472431e-02 3.1803909e-03 2.5050816e-05 1.0732790e-02 5.0718882e-05\n",
            "  2.2915691e-01]]\n"
          ]
        },
        {
          "name": "stderr",
          "output_type": "stream",
          "text": [
            "\n",
            "\n",
            "tqdm() Progress Bar Segments: 215it [01:53,  1.91it/s]\u001b[A\u001b[A"
          ]
        },
        {
          "name": "stdout",
          "output_type": "stream",
          "text": [
            "[[5.54448785e-03 1.65456717e-04 1.28667906e-03 1.47448182e-01\n",
            "  6.37475967e-01 1.13333315e-02 1.04619280e-01 1.57412025e-04\n",
            "  3.59639749e-02 1.98094803e-03 5.40243015e-02]]\n"
          ]
        },
        {
          "name": "stderr",
          "output_type": "stream",
          "text": [
            "\n",
            "\n",
            "tqdm() Progress Bar Segments: 216it [01:53,  1.90it/s]\u001b[A\u001b[A"
          ]
        },
        {
          "name": "stdout",
          "output_type": "stream",
          "text": [
            "[[3.8238114e-03 1.6876926e-04 9.9154888e-04 4.3268988e-01 4.9487692e-01\n",
            "  1.1814905e-02 1.8877693e-02 5.0580875e-05 1.8472699e-02 9.4562199e-04\n",
            "  1.7287577e-02]]\n"
          ]
        },
        {
          "name": "stderr",
          "output_type": "stream",
          "text": [
            "\n",
            "\n",
            "tqdm() Progress Bar Segments: 217it [01:54,  1.90it/s]\u001b[A\u001b[A"
          ]
        },
        {
          "name": "stdout",
          "output_type": "stream",
          "text": [
            "[[1.9835508e-05 9.0480626e-07 9.2664834e-07 1.0560532e-02 3.2699144e-01\n",
            "  2.8530056e-05 4.3005254e-03 8.0476207e-07 6.5538174e-01 1.1305140e-04\n",
            "  2.6017053e-03]]\n"
          ]
        },
        {
          "name": "stderr",
          "output_type": "stream",
          "text": [
            "\n",
            "\n",
            "tqdm() Progress Bar Segments: 218it [01:54,  1.92it/s]\u001b[A\u001b[A"
          ]
        },
        {
          "name": "stdout",
          "output_type": "stream",
          "text": [
            "[[8.8768278e-04 2.3619548e-05 2.9989181e-04 2.3363496e-01 7.4604249e-01\n",
            "  1.1089650e-03 7.9656746e-03 1.3596526e-05 2.5439085e-03 7.4199932e-05\n",
            "  7.4050147e-03]]\n"
          ]
        },
        {
          "name": "stderr",
          "output_type": "stream",
          "text": [
            "\n",
            "\n",
            "tqdm() Progress Bar Segments: 219it [01:55,  1.92it/s]\u001b[A\u001b[A"
          ]
        },
        {
          "name": "stdout",
          "output_type": "stream",
          "text": [
            "[[4.1607283e-03 5.1119197e-03 2.3074741e-04 5.8823279e-03 4.1321542e-02\n",
            "  1.1595691e-02 8.3913226e-03 9.4270362e-03 6.1692262e-01 1.8987209e-03\n",
            "  2.9505730e-01]]\n"
          ]
        },
        {
          "name": "stderr",
          "output_type": "stream",
          "text": [
            "\n",
            "\n",
            "tqdm() Progress Bar Segments: 220it [01:56,  1.94it/s]\u001b[A\u001b[A"
          ]
        },
        {
          "name": "stdout",
          "output_type": "stream",
          "text": [
            "[[6.1806600e-04 2.4694137e-04 1.0745248e-04 8.4296148e-04 4.1431364e-01\n",
            "  7.8067696e-03 2.2155249e-02 1.9471720e-04 5.3577220e-01 3.0372541e-03\n",
            "  1.4904718e-02]]\n"
          ]
        },
        {
          "name": "stderr",
          "output_type": "stream",
          "text": [
            "\n",
            "\n",
            "tqdm() Progress Bar Segments: 221it [01:56,  1.95it/s]\u001b[A\u001b[A"
          ]
        },
        {
          "name": "stdout",
          "output_type": "stream",
          "text": [
            "[[1.0408991e-03 6.5673329e-04 2.2403456e-04 6.5474059e-03 7.2545165e-01\n",
            "  8.9289062e-03 4.6950057e-02 2.1066825e-04 1.8827033e-01 1.4868339e-03\n",
            "  2.0232499e-02]]\n"
          ]
        },
        {
          "name": "stderr",
          "output_type": "stream",
          "text": [
            "\n",
            "\n",
            "tqdm() Progress Bar Segments: 222it [01:57,  1.95it/s]\u001b[A\u001b[A"
          ]
        },
        {
          "name": "stdout",
          "output_type": "stream",
          "text": [
            "[[5.3506174e-05 1.2394638e-05 4.8185830e-06 5.5410350e-03 8.7147951e-01\n",
            "  3.3847321e-04 8.7066414e-03 3.6856991e-06 1.1007527e-01 1.6242158e-04\n",
            "  3.6223067e-03]]\n"
          ]
        },
        {
          "name": "stderr",
          "output_type": "stream",
          "text": [
            "\n",
            "\n",
            "tqdm() Progress Bar Segments: 223it [01:57,  1.96it/s]\u001b[A\u001b[A"
          ]
        },
        {
          "name": "stdout",
          "output_type": "stream",
          "text": [
            "[[1.4099696e-03 4.9749877e-05 1.2303318e-04 4.9248699e-02 8.2079560e-01\n",
            "  7.7165931e-04 8.6338876e-04 1.8880870e-05 3.6325980e-02 5.2558520e-05\n",
            "  9.0340547e-02]]\n"
          ]
        },
        {
          "name": "stderr",
          "output_type": "stream",
          "text": [
            "\n",
            "\n",
            "tqdm() Progress Bar Segments: 224it [01:58,  1.97it/s]\u001b[A\u001b[A"
          ]
        },
        {
          "name": "stdout",
          "output_type": "stream",
          "text": [
            "[[6.47663721e-04 1.19599405e-04 2.10838392e-04 4.16410938e-02\n",
            "  8.17405224e-01 7.04667438e-03 1.12428010e-01 4.08926935e-05\n",
            "  1.60965994e-02 1.00186490e-03 3.36152199e-03]]\n"
          ]
        },
        {
          "name": "stderr",
          "output_type": "stream",
          "text": [
            "\n",
            "\n",
            "tqdm() Progress Bar Segments: 225it [01:58,  1.96it/s]\u001b[A\u001b[A"
          ]
        },
        {
          "name": "stdout",
          "output_type": "stream",
          "text": [
            "[[0.00105518 0.00156368 0.00048098 0.03794226 0.36232415 0.10083355\n",
            "  0.1373751  0.00242103 0.32625404 0.0198982  0.00985177]]\n"
          ]
        },
        {
          "name": "stderr",
          "output_type": "stream",
          "text": [
            "\n",
            "\n",
            "tqdm() Progress Bar Segments: 226it [01:59,  1.95it/s]\u001b[A\u001b[A"
          ]
        },
        {
          "name": "stdout",
          "output_type": "stream",
          "text": [
            "[[4.5946865e-05 1.8743798e-05 1.0510719e-05 1.7706613e-03 7.6407455e-02\n",
            "  4.2626041e-04 2.6682043e-02 1.5227793e-05 8.8370270e-01 8.3635375e-03\n",
            "  2.5569662e-03]]\n"
          ]
        },
        {
          "name": "stderr",
          "output_type": "stream",
          "text": [
            "\n",
            "\n",
            "tqdm() Progress Bar Segments: 227it [01:59,  1.97it/s]\u001b[A\u001b[A"
          ]
        },
        {
          "name": "stdout",
          "output_type": "stream",
          "text": [
            "[[2.5742620e-06 6.1708096e-07 1.6950713e-06 1.0570657e-04 9.9382764e-01\n",
            "  4.8207545e-05 5.4970332e-03 2.4205093e-07 3.8656528e-04 2.5644631e-06\n",
            "  1.2715344e-04]]\n"
          ]
        },
        {
          "name": "stderr",
          "output_type": "stream",
          "text": [
            "\n",
            "\n",
            "tqdm() Progress Bar Segments: 228it [02:00,  1.96it/s]\u001b[A\u001b[A"
          ]
        },
        {
          "name": "stdout",
          "output_type": "stream",
          "text": [
            "[[2.3090083e-04 2.4687222e-05 4.8990096e-05 1.7878516e-01 7.6919734e-01\n",
            "  9.1975345e-04 1.2725789e-02 1.4591391e-05 3.1279482e-02 2.5667186e-04\n",
            "  6.5166042e-03]]\n"
          ]
        },
        {
          "name": "stderr",
          "output_type": "stream",
          "text": [
            "\n",
            "\n",
            "tqdm() Progress Bar Segments: 229it [02:00,  1.96it/s]\u001b[A\u001b[A"
          ]
        },
        {
          "name": "stdout",
          "output_type": "stream",
          "text": [
            "[[9.5508556e-04 6.8052794e-04 3.5432640e-05 1.8034749e-03 3.3394478e-02\n",
            "  3.7045211e-03 7.8791438e-04 1.7281374e-03 9.1503859e-01 2.2261108e-03\n",
            "  3.9645698e-02]]\n"
          ]
        },
        {
          "name": "stderr",
          "output_type": "stream",
          "text": [
            "\n",
            "\n",
            "tqdm() Progress Bar Segments: 230it [02:01,  1.95it/s]\u001b[A\u001b[A"
          ]
        },
        {
          "name": "stdout",
          "output_type": "stream",
          "text": [
            "[[7.4863615e-03 4.9617065e-05 1.0631749e-03 7.0710823e-02 8.0815125e-01\n",
            "  6.2235640e-03 2.6313730e-03 1.1972843e-05 2.1281797e-03 1.9999939e-05\n",
            "  1.0152377e-01]]\n"
          ]
        },
        {
          "name": "stderr",
          "output_type": "stream",
          "text": [
            "\n",
            "\n",
            "tqdm() Progress Bar Segments: 231it [02:01,  1.95it/s]\u001b[A\u001b[A"
          ]
        },
        {
          "name": "stdout",
          "output_type": "stream",
          "text": [
            "[[6.4674379e-05 1.2093803e-05 1.4596065e-05 3.4020538e-03 9.4545221e-01\n",
            "  2.8036235e-04 2.7587179e-03 4.1031490e-06 3.3948313e-02 2.3596460e-05\n",
            "  1.4039356e-02]]\n"
          ]
        },
        {
          "name": "stderr",
          "output_type": "stream",
          "text": [
            "\n",
            "\n",
            "tqdm() Progress Bar Segments: 232it [02:02,  1.95it/s]\u001b[A\u001b[A"
          ]
        },
        {
          "name": "stdout",
          "output_type": "stream",
          "text": [
            "[[4.3928312e-06 1.6046832e-06 2.2411302e-06 2.6910433e-03 9.9337715e-01\n",
            "  3.9721192e-05 2.3459457e-03 3.5868138e-07 1.3823125e-03 2.7837771e-06\n",
            "  1.5251033e-04]]\n"
          ]
        },
        {
          "name": "stderr",
          "output_type": "stream",
          "text": [
            "\n",
            "\n",
            "tqdm() Progress Bar Segments: 233it [02:02,  1.96it/s]\u001b[A\u001b[A"
          ]
        },
        {
          "name": "stdout",
          "output_type": "stream",
          "text": [
            "[[6.0840426e-03 4.1805979e-04 9.3438452e-05 2.2905667e-03 6.3383754e-04\n",
            "  1.8302108e-03 2.1770927e-04 6.9766201e-04 1.1787921e-01 1.4065647e-04\n",
            "  8.6971462e-01]]\n"
          ]
        },
        {
          "name": "stderr",
          "output_type": "stream",
          "text": [
            "\n",
            "\n",
            "tqdm() Progress Bar Segments: 234it [02:03,  1.94it/s]\u001b[A\u001b[A"
          ]
        },
        {
          "name": "stdout",
          "output_type": "stream",
          "text": [
            "[[2.6247855e-03 8.8086228e-05 5.3448835e-04 6.7999446e-01 2.4628167e-01\n",
            "  7.3142478e-04 9.2406769e-04 3.0477224e-05 1.6202476e-02 5.9646532e-05\n",
            "  5.2528426e-02]]\n"
          ]
        },
        {
          "name": "stderr",
          "output_type": "stream",
          "text": [
            "\n",
            "\n",
            "tqdm() Progress Bar Segments: 235it [02:03,  1.94it/s]\u001b[A\u001b[A"
          ]
        },
        {
          "name": "stdout",
          "output_type": "stream",
          "text": [
            "[[4.3405606e-05 1.8278217e-05 2.0552612e-05 2.5975897e-03 7.6268268e-01\n",
            "  1.7170230e-04 3.3571497e-02 6.5883514e-06 1.9902684e-01 1.7072570e-04\n",
            "  1.6901653e-03]]\n"
          ]
        },
        {
          "name": "stderr",
          "output_type": "stream",
          "text": [
            "\n",
            "\n",
            "tqdm() Progress Bar Segments: 236it [02:04,  1.92it/s]\u001b[A\u001b[A"
          ]
        },
        {
          "name": "stdout",
          "output_type": "stream",
          "text": [
            "[[8.9083717e-04 6.6454100e-05 6.1549066e-04 7.9216622e-02 7.5335479e-01\n",
            "  4.6285493e-03 8.5750654e-02 4.2290656e-05 3.9458871e-02 4.3434839e-04\n",
            "  3.5541192e-02]]\n"
          ]
        },
        {
          "name": "stderr",
          "output_type": "stream",
          "text": [
            "\n",
            "\n",
            "tqdm() Progress Bar Segments: 237it [02:04,  1.92it/s]\u001b[A\u001b[A"
          ]
        },
        {
          "name": "stdout",
          "output_type": "stream",
          "text": [
            "[[4.0299339e-05 5.7959392e-06 2.5358850e-05 5.1144307e-04 9.8130977e-01\n",
            "  4.5839383e-04 6.8650017e-03 1.2083963e-06 1.7437504e-03 5.6537506e-06\n",
            "  9.0334658e-03]]\n"
          ]
        },
        {
          "name": "stderr",
          "output_type": "stream",
          "text": [
            "\n",
            "\n",
            "tqdm() Progress Bar Segments: 238it [02:05,  1.92it/s]\u001b[A\u001b[A"
          ]
        },
        {
          "name": "stdout",
          "output_type": "stream",
          "text": [
            "[[1.2436593e-03 4.8775348e-04 4.9078430e-04 1.2807985e-02 6.9146007e-01\n",
            "  1.9911647e-02 8.2388632e-02 2.9714903e-04 1.4474563e-01 9.9822145e-04\n",
            "  4.5168471e-02]]\n"
          ]
        },
        {
          "name": "stderr",
          "output_type": "stream",
          "text": [
            "\n",
            "\n",
            "tqdm() Progress Bar Segments: 239it [02:05,  1.93it/s]\u001b[A\u001b[A"
          ]
        },
        {
          "name": "stdout",
          "output_type": "stream",
          "text": [
            "[[5.8556465e-04 2.1352453e-04 1.3591141e-04 1.7576223e-02 4.0604827e-01\n",
            "  6.7271544e-03 6.9536783e-02 1.6668747e-04 4.7317722e-01 2.2909171e-03\n",
            "  2.3541762e-02]]\n"
          ]
        },
        {
          "name": "stderr",
          "output_type": "stream",
          "text": [
            "\n",
            "\n",
            "tqdm() Progress Bar Segments: 240it [02:06,  1.93it/s]\u001b[A\u001b[A"
          ]
        },
        {
          "name": "stdout",
          "output_type": "stream",
          "text": [
            "[[2.7811865e-04 6.7017450e-06 4.9299564e-05 1.9941503e-01 7.7674139e-01\n",
            "  1.6297407e-04 1.1997396e-03 4.9878195e-06 6.2098159e-03 5.7212465e-06\n",
            "  1.5926290e-02]]\n"
          ]
        },
        {
          "name": "stderr",
          "output_type": "stream",
          "text": [
            "\n",
            "\n",
            "tqdm() Progress Bar Segments: 241it [02:06,  1.94it/s]\u001b[A\u001b[A"
          ]
        },
        {
          "name": "stdout",
          "output_type": "stream",
          "text": [
            "[[3.6235894e-03 2.4381734e-04 1.4786078e-03 6.0624820e-01 2.3038787e-01\n",
            "  4.9103904e-03 8.5878380e-02 1.8566838e-04 4.8404861e-02 3.0342171e-03\n",
            "  1.5604447e-02]]\n"
          ]
        },
        {
          "name": "stderr",
          "output_type": "stream",
          "text": [
            "\n",
            "\n",
            "tqdm() Progress Bar Segments: 242it [02:07,  1.90it/s]\u001b[A\u001b[A"
          ]
        },
        {
          "name": "stdout",
          "output_type": "stream",
          "text": [
            "[[3.0941553e-03 3.7514048e-05 4.8854505e-04 9.2548132e-01 5.8004782e-02\n",
            "  9.7116269e-04 5.3268106e-04 2.4029516e-05 2.3695414e-03 4.4768716e-05\n",
            "  8.9514768e-03]]\n"
          ]
        },
        {
          "name": "stderr",
          "output_type": "stream",
          "text": [
            "\n",
            "\n",
            "tqdm() Progress Bar Segments: 243it [02:07,  1.92it/s]\u001b[A\u001b[A"
          ]
        },
        {
          "name": "stdout",
          "output_type": "stream",
          "text": [
            "[[9.1837626e-03 3.6024421e-02 2.3583659e-04 5.8655101e-03 2.0501964e-02\n",
            "  1.3665978e-02 7.0461142e-04 7.4603789e-02 1.8825559e-01 6.2587549e-04\n",
            "  6.5033263e-01]]\n"
          ]
        },
        {
          "name": "stderr",
          "output_type": "stream",
          "text": [
            "\n",
            "\n",
            "tqdm() Progress Bar Segments: 244it [02:08,  1.92it/s]\u001b[A\u001b[A"
          ]
        },
        {
          "name": "stdout",
          "output_type": "stream",
          "text": [
            "[[3.1709447e-04 8.1291961e-05 1.5368193e-04 1.0711803e-02 9.2313123e-01\n",
            "  1.9711680e-03 2.7314732e-02 1.8887080e-05 2.7053103e-02 2.1565928e-04\n",
            "  9.0313544e-03]]\n"
          ]
        },
        {
          "name": "stderr",
          "output_type": "stream",
          "text": [
            "\n",
            "\n",
            "tqdm() Progress Bar Segments: 245it [02:08,  1.94it/s]\u001b[A\u001b[A"
          ]
        },
        {
          "name": "stdout",
          "output_type": "stream",
          "text": [
            "[[2.0286222e-03 1.2859830e-04 8.1419879e-05 4.1935031e-04 1.9255028e-03\n",
            "  1.9451450e-03 7.1656774e-04 1.8567422e-04 2.1942060e-02 3.5449622e-05\n",
            "  9.7059160e-01]]\n"
          ]
        },
        {
          "name": "stderr",
          "output_type": "stream",
          "text": [
            "\n",
            "\n",
            "tqdm() Progress Bar Segments: 246it [02:09,  1.93it/s]\u001b[A\u001b[A"
          ]
        },
        {
          "name": "stdout",
          "output_type": "stream",
          "text": [
            "[[2.0947703e-03 1.7315503e-03 2.0586271e-04 7.9344824e-04 1.5091944e-01\n",
            "  6.7673526e-03 1.8110158e-02 1.2652385e-03 2.9152548e-01 4.6715865e-04\n",
            "  5.2611947e-01]]\n"
          ]
        },
        {
          "name": "stderr",
          "output_type": "stream",
          "text": [
            "\n",
            "\n",
            "tqdm() Progress Bar Segments: 247it [02:09,  1.92it/s]\u001b[A\u001b[A"
          ]
        },
        {
          "name": "stdout",
          "output_type": "stream",
          "text": [
            "[[2.7909754e-03 3.6524714e-04 4.2505901e-05 3.3660533e-04 9.4124390e-04\n",
            "  2.0081832e-03 2.2668073e-04 4.2832599e-04 5.1055249e-02 5.0137045e-05\n",
            "  9.4175488e-01]]\n"
          ]
        },
        {
          "name": "stderr",
          "output_type": "stream",
          "text": [
            "\n",
            "\n",
            "tqdm() Progress Bar Segments: 248it [02:10,  1.92it/s]\u001b[A\u001b[A"
          ]
        },
        {
          "name": "stdout",
          "output_type": "stream",
          "text": [
            "[[5.6715230e-03 5.4853263e-05 1.0613431e-03 3.6651976e-02 8.1304491e-01\n",
            "  4.9933656e-03 1.4380413e-02 1.3580114e-05 6.4788926e-03 1.4736695e-04\n",
            "  1.1750170e-01]]\n"
          ]
        },
        {
          "name": "stderr",
          "output_type": "stream",
          "text": [
            "\n",
            "\n",
            "tqdm() Progress Bar Segments: 249it [02:10,  1.92it/s]\u001b[A\u001b[A"
          ]
        },
        {
          "name": "stdout",
          "output_type": "stream",
          "text": [
            "[[7.9860957e-04 2.2767285e-04 3.2993406e-04 2.1741318e-02 6.2238264e-01\n",
            "  2.2726601e-03 1.4517851e-01 5.0860742e-04 1.6492237e-01 8.2404620e-04\n",
            "  4.0813647e-02]]\n"
          ]
        },
        {
          "name": "stderr",
          "output_type": "stream",
          "text": [
            "\n",
            "\n",
            "tqdm() Progress Bar Segments: 250it [02:11,  1.85it/s]\u001b[A\u001b[A"
          ]
        },
        {
          "name": "stdout",
          "output_type": "stream",
          "text": [
            "[[8.57054256e-04 2.27331562e-04 3.02309520e-04 1.24624697e-02\n",
            "  2.95864820e-01 2.73294956e-03 1.16583586e-01 3.54227755e-04\n",
            "  5.17429173e-01 7.36108283e-04 5.24500161e-02]]\n"
          ]
        },
        {
          "name": "stderr",
          "output_type": "stream",
          "text": [
            "\n",
            "\n",
            "tqdm() Progress Bar Segments: 251it [02:12,  1.88it/s]\u001b[A\u001b[A"
          ]
        },
        {
          "name": "stdout",
          "output_type": "stream",
          "text": [
            "[[0.00917707 0.01870159 0.00107137 0.00333325 0.11585949 0.4376101\n",
            "  0.01629346 0.02621787 0.23796795 0.03544912 0.09831877]]\n"
          ]
        },
        {
          "name": "stderr",
          "output_type": "stream",
          "text": [
            "\n",
            "\n",
            "tqdm() Progress Bar Segments: 252it [02:12,  1.88it/s]\u001b[A\u001b[A"
          ]
        },
        {
          "name": "stdout",
          "output_type": "stream",
          "text": [
            "[[1.3534127e-02 5.3477943e-02 5.3491918e-03 1.5309775e-04 1.0476611e-02\n",
            "  1.8210709e-01 9.3061011e-04 4.2280518e-03 4.2900140e-03 1.7375602e-04\n",
            "  7.2527957e-01]]\n"
          ]
        },
        {
          "name": "stderr",
          "output_type": "stream",
          "text": [
            "\n",
            "\n",
            "tqdm() Progress Bar Segments: 253it [02:13,  1.81it/s]\u001b[A\u001b[A"
          ]
        },
        {
          "name": "stdout",
          "output_type": "stream",
          "text": [
            "[[1.5847781e-03 4.2904177e-04 1.3591428e-04 2.0055208e-04 2.1008168e-01\n",
            "  7.7269292e-03 1.4722119e-02 9.1401111e-05 6.9697499e-02 5.3225100e-05\n",
            "  6.9527680e-01]]\n"
          ]
        },
        {
          "name": "stderr",
          "output_type": "stream",
          "text": [
            "\n",
            "\n",
            "tqdm() Progress Bar Segments: 254it [02:13,  1.83it/s]\u001b[A\u001b[A"
          ]
        },
        {
          "name": "stdout",
          "output_type": "stream",
          "text": [
            "[[1.6961889e-03 1.6668657e-04 5.6578848e-04 5.8600895e-02 7.0835716e-01\n",
            "  9.2711328e-03 2.4641600e-02 6.5083012e-05 9.9611424e-02 2.5902077e-04\n",
            "  9.6764937e-02]]\n"
          ]
        },
        {
          "name": "stderr",
          "output_type": "stream",
          "text": [
            "\n",
            "\n",
            "tqdm() Progress Bar Segments: 255it [02:14,  1.84it/s]\u001b[A\u001b[A"
          ]
        },
        {
          "name": "stdout",
          "output_type": "stream",
          "text": [
            "[[2.8094603e-03 5.5955281e-04 3.8746858e-04 4.6574444e-04 5.1310726e-02\n",
            "  5.7637505e-03 2.7332915e-02 3.5514092e-04 7.0796140e-02 2.1762146e-04\n",
            "  8.4000152e-01]]\n"
          ]
        },
        {
          "name": "stderr",
          "output_type": "stream",
          "text": [
            "\n",
            "\n",
            "tqdm() Progress Bar Segments: 256it [02:14,  1.86it/s]\u001b[A\u001b[A"
          ]
        },
        {
          "name": "stdout",
          "output_type": "stream",
          "text": [
            "[[3.4920875e-05 2.5309748e-06 9.6625863e-06 2.3599496e-02 9.5464957e-01\n",
            "  6.8389163e-05 3.8562405e-03 1.1369723e-06 1.5555567e-02 1.0901644e-05\n",
            "  2.2116236e-03]]\n"
          ]
        },
        {
          "name": "stderr",
          "output_type": "stream",
          "text": [
            "\n",
            "\n",
            "tqdm() Progress Bar Segments: 257it [02:15,  1.88it/s]\u001b[A\u001b[A"
          ]
        },
        {
          "name": "stdout",
          "output_type": "stream",
          "text": [
            "[[9.0426812e-04 5.9939543e-05 4.0536068e-04 2.9037537e-02 6.8721688e-01\n",
            "  2.3790780e-03 4.3671779e-02 5.5719851e-05 1.7459813e-01 2.1993139e-04\n",
            "  6.1451305e-02]]\n"
          ]
        },
        {
          "name": "stderr",
          "output_type": "stream",
          "text": [
            "\n",
            "\n",
            "tqdm() Progress Bar Segments: 258it [02:15,  1.89it/s]\u001b[A\u001b[A"
          ]
        },
        {
          "name": "stdout",
          "output_type": "stream",
          "text": [
            "[[4.18576121e-04 8.05247328e-05 2.48731434e-04 7.99042545e-03\n",
            "  8.01867068e-01 2.58608116e-03 1.08676225e-01 3.32748823e-05\n",
            "  5.10673113e-02 1.83248529e-04 2.68484447e-02]]\n"
          ]
        },
        {
          "name": "stderr",
          "output_type": "stream",
          "text": [
            "\n",
            "\n",
            "tqdm() Progress Bar Segments: 259it [02:16,  1.90it/s]\u001b[A\u001b[A"
          ]
        },
        {
          "name": "stdout",
          "output_type": "stream",
          "text": [
            "[[1.7786564e-02 2.8865176e-04 4.7235973e-03 7.6219313e-02 6.8767148e-01\n",
            "  3.6767196e-02 3.8855828e-02 1.6021260e-04 1.9035127e-02 5.7476963e-04\n",
            "  1.1791720e-01]]\n"
          ]
        },
        {
          "name": "stderr",
          "output_type": "stream",
          "text": [
            "\n",
            "\n",
            "tqdm() Progress Bar Segments: 260it [02:16,  1.92it/s]\u001b[A\u001b[A"
          ]
        },
        {
          "name": "stdout",
          "output_type": "stream",
          "text": [
            "[[2.2622869e-04 3.1859803e-05 4.5233399e-05 1.1555810e-02 1.9206309e-01\n",
            "  2.9686026e-04 2.8741647e-02 2.6912876e-05 7.6025987e-01 5.4347567e-04\n",
            "  6.2089809e-03]]\n"
          ]
        },
        {
          "name": "stderr",
          "output_type": "stream",
          "text": [
            "\n",
            "\n",
            "tqdm() Progress Bar Segments: 261it [02:17,  1.91it/s]\u001b[A\u001b[A"
          ]
        },
        {
          "name": "stdout",
          "output_type": "stream",
          "text": [
            "[[1.4561525e-02 1.3524830e-02 1.2811024e-03 2.1441492e-04 1.5324425e-02\n",
            "  2.8760150e-01 2.7263388e-03 3.9268471e-03 8.2964674e-03 2.7324856e-04\n",
            "  6.5226936e-01]]\n"
          ]
        },
        {
          "name": "stderr",
          "output_type": "stream",
          "text": [
            "\n",
            "\n",
            "tqdm() Progress Bar Segments: 262it [02:17,  1.90it/s]\u001b[A\u001b[A"
          ]
        },
        {
          "name": "stdout",
          "output_type": "stream",
          "text": [
            "[[0.00706857 0.00377273 0.0019344  0.04727682 0.29694942 0.05582589\n",
            "  0.11971323 0.00173497 0.28861818 0.00782319 0.1692826 ]]\n"
          ]
        },
        {
          "name": "stderr",
          "output_type": "stream",
          "text": [
            "\n",
            "\n",
            "tqdm() Progress Bar Segments: 263it [02:18,  1.88it/s]\u001b[A\u001b[A"
          ]
        },
        {
          "name": "stdout",
          "output_type": "stream",
          "text": [
            "[[1.2488426e-05 1.0294339e-06 1.6162682e-06 1.5161376e-02 2.9839623e-01\n",
            "  8.0022903e-05 3.6023330e-02 2.0150071e-06 6.4890742e-01 2.6902274e-04\n",
            "  1.1454999e-03]]\n"
          ]
        },
        {
          "name": "stderr",
          "output_type": "stream",
          "text": [
            "\n",
            "\n",
            "tqdm() Progress Bar Segments: 264it [02:19,  1.88it/s]\u001b[A\u001b[A"
          ]
        },
        {
          "name": "stdout",
          "output_type": "stream",
          "text": [
            "[[2.3346820e-05 6.1894548e-06 1.2032122e-05 4.7769803e-03 9.5961350e-01\n",
            "  2.0297083e-04 2.3533620e-02 2.0037630e-06 1.1028022e-02 2.3331797e-05\n",
            "  7.7799434e-04]]\n"
          ]
        },
        {
          "name": "stderr",
          "output_type": "stream",
          "text": [
            "\n",
            "\n",
            "tqdm() Progress Bar Segments: 265it [02:19,  1.87it/s]\u001b[A\u001b[A"
          ]
        },
        {
          "name": "stdout",
          "output_type": "stream",
          "text": [
            "[[1.5830146e-03 2.8643006e-04 4.3990056e-04 5.4457117e-02 4.6165794e-01\n",
            "  8.4252181e-03 3.0753487e-01 3.0836716e-04 1.5343876e-01 1.8638672e-03\n",
            "  1.0004495e-02]]\n"
          ]
        },
        {
          "name": "stderr",
          "output_type": "stream",
          "text": [
            "\n",
            "\n",
            "tqdm() Progress Bar Segments: 266it [02:20,  1.87it/s]\u001b[A\u001b[A"
          ]
        },
        {
          "name": "stdout",
          "output_type": "stream",
          "text": [
            "[[3.2923311e-02 2.3792055e-04 3.0224836e-03 5.3278011e-01 1.7247538e-01\n",
            "  1.0245457e-02 7.6305620e-02 2.8776369e-04 3.3610865e-02 2.9125114e-03\n",
            "  1.3519868e-01]]\n"
          ]
        },
        {
          "name": "stderr",
          "output_type": "stream",
          "text": [
            "\n",
            "\n",
            "tqdm() Progress Bar Segments: 267it [02:20,  1.88it/s]\u001b[A\u001b[A"
          ]
        },
        {
          "name": "stdout",
          "output_type": "stream",
          "text": [
            "[[6.5622288e-03 3.5963276e-05 7.9680682e-04 9.4365650e-01 3.2894868e-02\n",
            "  7.4586109e-04 9.9726941e-04 2.3103759e-05 1.6723176e-03 7.0502509e-05\n",
            "  1.2544698e-02]]\n"
          ]
        },
        {
          "name": "stderr",
          "output_type": "stream",
          "text": [
            "\n",
            "\n",
            "tqdm() Progress Bar Segments: 268it [02:21,  1.89it/s]\u001b[A\u001b[A"
          ]
        },
        {
          "name": "stdout",
          "output_type": "stream",
          "text": [
            "[[1.3366453e-03 5.5159949e-04 4.1611525e-05 1.7430897e-04 1.7418720e-02\n",
            "  2.0500740e-02 2.0809395e-03 5.2464945e-04 1.0518720e-01 1.3791985e-04\n",
            "  8.5204560e-01]]\n"
          ]
        },
        {
          "name": "stderr",
          "output_type": "stream",
          "text": [
            "\n",
            "\n",
            "tqdm() Progress Bar Segments: 269it [02:21,  1.90it/s]\u001b[A\u001b[A"
          ]
        },
        {
          "name": "stdout",
          "output_type": "stream",
          "text": [
            "[[1.48320058e-03 2.46690815e-05 2.89244286e-04 1.08525541e-03\n",
            "  2.59807855e-01 4.82330192e-03 1.02254085e-01 1.14586073e-05\n",
            "  1.80766005e-02 5.70136399e-05 6.12087309e-01]]\n"
          ]
        },
        {
          "name": "stderr",
          "output_type": "stream",
          "text": [
            "\n",
            "\n",
            "tqdm() Progress Bar Segments: 270it [02:22,  1.91it/s]\u001b[A\u001b[A"
          ]
        },
        {
          "name": "stdout",
          "output_type": "stream",
          "text": [
            "[[2.0860196e-03 1.9474638e-04 9.5265883e-04 1.9213507e-02 7.9939842e-01\n",
            "  9.8413900e-03 6.1291944e-02 1.3799094e-04 5.2864354e-02 5.2772422e-04\n",
            "  5.3491239e-02]]\n"
          ]
        },
        {
          "name": "stderr",
          "output_type": "stream",
          "text": [
            "\n",
            "\n",
            "tqdm() Progress Bar Segments: 271it [02:22,  1.92it/s]\u001b[A\u001b[A"
          ]
        },
        {
          "name": "stdout",
          "output_type": "stream",
          "text": [
            "[[2.9121722e-05 1.5969186e-05 2.3017283e-05 1.7657476e-03 9.8459953e-01\n",
            "  2.1584221e-04 7.2682532e-03 3.1459590e-06 3.5919091e-03 1.2525921e-05\n",
            "  2.4749287e-03]]\n"
          ]
        },
        {
          "name": "stderr",
          "output_type": "stream",
          "text": [
            "\n",
            "\n",
            "tqdm() Progress Bar Segments: 272it [02:23,  1.93it/s]\u001b[A\u001b[A"
          ]
        },
        {
          "name": "stdout",
          "output_type": "stream",
          "text": [
            "[[3.0869357e-03 3.3993961e-04 6.7450188e-04 7.2670998e-03 3.8608924e-01\n",
            "  6.4462647e-03 6.7206450e-02 1.8180705e-04 9.3188174e-02 2.7730101e-04\n",
            "  4.3524224e-01]]\n"
          ]
        },
        {
          "name": "stderr",
          "output_type": "stream",
          "text": [
            "\n",
            "\n",
            "tqdm() Progress Bar Segments: 273it [02:23,  1.93it/s]\u001b[A\u001b[A"
          ]
        },
        {
          "name": "stdout",
          "output_type": "stream",
          "text": [
            "[[1.4263645e-04 6.4277738e-05 1.0527146e-04 9.3692988e-03 9.3332618e-01\n",
            "  1.5325483e-03 1.8748185e-02 1.4702779e-05 2.0528471e-02 8.3240768e-05\n",
            "  1.6085181e-02]]\n"
          ]
        },
        {
          "name": "stderr",
          "output_type": "stream",
          "text": [
            "\n",
            "\n",
            "tqdm() Progress Bar Segments: 274it [02:24,  1.93it/s]\u001b[A\u001b[A"
          ]
        },
        {
          "name": "stdout",
          "output_type": "stream",
          "text": [
            "[[0.01174314 0.00283502 0.00160524 0.04395535 0.16031134 0.155938\n",
            "  0.09117562 0.00274031 0.45279416 0.02894803 0.04795371]]\n"
          ]
        },
        {
          "name": "stderr",
          "output_type": "stream",
          "text": [
            "\n",
            "\n",
            "tqdm() Progress Bar Segments: 275it [02:24,  1.92it/s]\u001b[A\u001b[A"
          ]
        },
        {
          "name": "stdout",
          "output_type": "stream",
          "text": [
            "[[2.6131615e-02 1.1316505e-03 4.7058011e-03 2.8729689e-01 3.4881699e-01\n",
            "  8.8577420e-02 2.6536534e-02 2.7398954e-04 4.7844332e-02 1.6583531e-03\n",
            "  1.6702649e-01]]\n"
          ]
        },
        {
          "name": "stderr",
          "output_type": "stream",
          "text": [
            "\n",
            "\n",
            "tqdm() Progress Bar Segments: 276it [02:25,  1.91it/s]\u001b[A\u001b[A"
          ]
        },
        {
          "name": "stdout",
          "output_type": "stream",
          "text": [
            "[[5.3499662e-04 3.0573050e-05 1.5209397e-04 2.0594520e-02 9.4325870e-01\n",
            "  3.2961790e-03 1.9576905e-02 5.3879071e-06 3.2810390e-03 6.3150437e-05\n",
            "  9.2064748e-03]]\n"
          ]
        },
        {
          "name": "stderr",
          "output_type": "stream",
          "text": [
            "\n",
            "\n",
            "tqdm() Progress Bar Segments: 277it [02:25,  1.91it/s]\u001b[A\u001b[A"
          ]
        },
        {
          "name": "stdout",
          "output_type": "stream",
          "text": [
            "[[8.8187754e-03 2.3015289e-04 1.7952938e-03 2.7130842e-01 5.4787767e-01\n",
            "  8.3769420e-03 2.7976329e-02 8.6601925e-05 1.8772960e-02 6.2129222e-04\n",
            "  1.1413558e-01]]\n"
          ]
        },
        {
          "name": "stderr",
          "output_type": "stream",
          "text": [
            "\n",
            "\n",
            "tqdm() Progress Bar Segments: 278it [02:26,  1.92it/s]\u001b[A\u001b[A"
          ]
        },
        {
          "name": "stdout",
          "output_type": "stream",
          "text": [
            "[[6.8404923e-05 2.1153217e-05 1.3595051e-05 4.1511509e-04 9.9167597e-01\n",
            "  5.5918255e-04 1.8119762e-03 4.7775306e-06 4.3839309e-03 1.9133719e-05\n",
            "  1.0266126e-03]]\n"
          ]
        },
        {
          "name": "stderr",
          "output_type": "stream",
          "text": [
            "\n",
            "\n",
            "tqdm() Progress Bar Segments: 279it [02:26,  1.93it/s]\u001b[A\u001b[A"
          ]
        },
        {
          "name": "stdout",
          "output_type": "stream",
          "text": [
            "[[4.27516570e-05 1.84598048e-05 1.18091602e-05 1.01218604e-04\n",
            "  9.91781652e-01 2.75289360e-03 2.79594678e-03 1.49675293e-06\n",
            "  8.63940804e-04 4.10989060e-06 1.62582449e-03]]\n"
          ]
        },
        {
          "name": "stderr",
          "output_type": "stream",
          "text": [
            "\n",
            "\n",
            "tqdm() Progress Bar Segments: 280it [02:27,  1.93it/s]\u001b[A\u001b[A"
          ]
        },
        {
          "name": "stdout",
          "output_type": "stream",
          "text": [
            "[[1.2455137e-02 9.9400066e-05 8.1958302e-04 1.6259933e-01 7.1821821e-01\n",
            "  1.0250711e-02 2.2908978e-02 3.1978667e-05 1.8109670e-02 5.7347171e-04\n",
            "  5.3933471e-02]]\n"
          ]
        },
        {
          "name": "stderr",
          "output_type": "stream",
          "text": [
            "\n",
            "\n",
            "tqdm() Progress Bar Segments: 281it [02:27,  1.93it/s]\u001b[A\u001b[A"
          ]
        },
        {
          "name": "stdout",
          "output_type": "stream",
          "text": [
            "[[0.00554188 0.00156676 0.00176206 0.19886029 0.41197914 0.0204436\n",
            "  0.15534341 0.00242912 0.14097801 0.00386035 0.0572354 ]]\n"
          ]
        },
        {
          "name": "stderr",
          "output_type": "stream",
          "text": [
            "\n",
            "\n",
            "tqdm() Progress Bar Segments: 282it [02:28,  1.92it/s]\u001b[A\u001b[A"
          ]
        },
        {
          "name": "stdout",
          "output_type": "stream",
          "text": [
            "[[4.4663839e-06 1.0528413e-06 1.2826973e-06 1.5470336e-04 9.9627715e-01\n",
            "  3.4714754e-05 4.7248794e-04 1.5193966e-07 1.3677422e-03 1.2268050e-06\n",
            "  1.6849720e-03]]\n"
          ]
        },
        {
          "name": "stderr",
          "output_type": "stream",
          "text": [
            "\n",
            "\n",
            "tqdm() Progress Bar Segments: 283it [02:28,  1.93it/s]\u001b[A\u001b[A"
          ]
        },
        {
          "name": "stdout",
          "output_type": "stream",
          "text": [
            "[[3.8839204e-04 3.1951848e-05 6.3044834e-05 2.6309746e-04 4.5038488e-02\n",
            "  6.2836125e-04 1.7761171e-03 2.3637596e-05 1.4188329e-02 1.6108697e-05\n",
            "  9.3758249e-01]]\n"
          ]
        },
        {
          "name": "stderr",
          "output_type": "stream",
          "text": [
            "\n",
            "\n",
            "tqdm() Progress Bar Segments: 284it [02:29,  1.93it/s]\u001b[A\u001b[A"
          ]
        },
        {
          "name": "stdout",
          "output_type": "stream",
          "text": [
            "[[3.28708556e-04 1.69740360e-05 5.80201777e-05 5.12772024e-01\n",
            "  4.54016030e-01 5.74907812e-04 5.53923426e-03 1.28529755e-05\n",
            "  1.87734608e-02 1.42360746e-04 7.76544306e-03]]\n"
          ]
        },
        {
          "name": "stderr",
          "output_type": "stream",
          "text": [
            "\n",
            "\n",
            "tqdm() Progress Bar Segments: 285it [02:29,  1.90it/s]\u001b[A\u001b[A"
          ]
        },
        {
          "name": "stdout",
          "output_type": "stream",
          "text": [
            "[[2.7714146e-04 6.8724253e-06 6.0923867e-05 1.3881578e-01 8.5051310e-01\n",
            "  1.4719561e-04 6.2059786e-04 4.0300006e-06 5.1531694e-03 1.6193377e-05\n",
            "  4.3850732e-03]]\n"
          ]
        },
        {
          "name": "stderr",
          "output_type": "stream",
          "text": [
            "\n",
            "\n",
            "tqdm() Progress Bar Segments: 286it [02:30,  1.91it/s]\u001b[A\u001b[A"
          ]
        },
        {
          "name": "stdout",
          "output_type": "stream",
          "text": [
            "[[0.00875307 0.00156756 0.00533963 0.04491777 0.31903222 0.09951844\n",
            "  0.19938609 0.0016918  0.15306714 0.00534176 0.16138455]]\n"
          ]
        },
        {
          "name": "stderr",
          "output_type": "stream",
          "text": [
            "\n",
            "\n",
            "tqdm() Progress Bar Segments: 287it [02:31,  1.92it/s]\u001b[A\u001b[A"
          ]
        },
        {
          "name": "stdout",
          "output_type": "stream",
          "text": [
            "[[1.0263993e-03 6.6360793e-05 1.8807362e-04 9.9766627e-04 7.7628636e-01\n",
            "  8.0576213e-03 1.5821800e-03 8.3701825e-06 5.0676665e-03 1.0040896e-05\n",
            "  2.0670934e-01]]\n"
          ]
        },
        {
          "name": "stderr",
          "output_type": "stream",
          "text": [
            "\n",
            "\n",
            "tqdm() Progress Bar Segments: 288it [02:31,  1.92it/s]\u001b[A\u001b[A"
          ]
        },
        {
          "name": "stdout",
          "output_type": "stream",
          "text": [
            "[[8.9921549e-02 1.3925079e-02 2.4502543e-03 2.0463923e-04 9.0862168e-03\n",
            "  3.4565589e-01 5.1261811e-04 1.2402896e-02 1.4870581e-03 7.8741512e-05\n",
            "  5.2427506e-01]]\n"
          ]
        },
        {
          "name": "stderr",
          "output_type": "stream",
          "text": [
            "\n",
            "\n",
            "tqdm() Progress Bar Segments: 289it [02:32,  1.93it/s]\u001b[A\u001b[A"
          ]
        },
        {
          "name": "stdout",
          "output_type": "stream",
          "text": [
            "[[2.6353548e-05 1.0504603e-05 1.6394646e-06 6.2108313e-04 3.6527526e-01\n",
            "  7.7645534e-05 3.4889546e-03 4.2261449e-06 6.2614065e-01 1.0110597e-04\n",
            "  4.2525330e-03]]\n"
          ]
        },
        {
          "name": "stderr",
          "output_type": "stream",
          "text": [
            "\n",
            "\n",
            "tqdm() Progress Bar Segments: 290it [02:32,  1.94it/s]\u001b[A\u001b[A"
          ]
        },
        {
          "name": "stdout",
          "output_type": "stream",
          "text": [
            "[[3.1110009e-03 8.5218380e-05 4.5188886e-04 5.0556332e-01 4.1349065e-01\n",
            "  3.3258272e-03 4.0073756e-02 8.1857092e-05 2.2567708e-02 7.0128718e-04\n",
            "  1.0547513e-02]]\n"
          ]
        },
        {
          "name": "stderr",
          "output_type": "stream",
          "text": [
            "\n",
            "\n",
            "tqdm() Progress Bar Segments: 291it [02:33,  1.94it/s]\u001b[A\u001b[A"
          ]
        },
        {
          "name": "stdout",
          "output_type": "stream",
          "text": [
            "[[1.2764403e-03 1.5718162e-04 2.2036495e-04 1.6926767e-02 8.3445114e-01\n",
            "  1.0279382e-02 7.9059288e-02 2.0013584e-04 4.6916876e-02 9.1361470e-04\n",
            "  9.5987776e-03]]\n"
          ]
        },
        {
          "name": "stderr",
          "output_type": "stream",
          "text": [
            "\n",
            "\n",
            "tqdm() Progress Bar Segments: 292it [02:33,  1.93it/s]\u001b[A\u001b[A"
          ]
        },
        {
          "name": "stdout",
          "output_type": "stream",
          "text": [
            "[[1.9641425e-03 2.5803471e-04 5.0841074e-04 2.0144782e-03 2.5072661e-01\n",
            "  5.9981286e-03 2.9842598e-02 9.8230077e-05 6.3151717e-02 1.0860632e-04\n",
            "  6.4532900e-01]]\n"
          ]
        },
        {
          "name": "stderr",
          "output_type": "stream",
          "text": [
            "\n",
            "\n",
            "tqdm() Progress Bar Segments: 293it [02:34,  1.93it/s]\u001b[A\u001b[A"
          ]
        },
        {
          "name": "stdout",
          "output_type": "stream",
          "text": [
            "[[1.9684725e-03 1.1967597e-05 2.9741377e-05 7.7275845e-06 7.3387157e-05\n",
            "  1.2447602e-04 2.8289126e-06 1.1935831e-05 2.6795079e-04 3.7597087e-07\n",
            "  9.9750108e-01]]\n"
          ]
        },
        {
          "name": "stderr",
          "output_type": "stream",
          "text": [
            "\n",
            "\n",
            "tqdm() Progress Bar Segments: 294it [02:34,  1.92it/s]\u001b[A\u001b[A"
          ]
        },
        {
          "name": "stdout",
          "output_type": "stream",
          "text": [
            "[[2.1528082e-03 3.1981188e-05 6.4002862e-04 9.0413493e-01 8.1761435e-02\n",
            "  5.5680063e-04 4.1702264e-03 3.8655337e-05 2.9633779e-03 3.3266068e-04\n",
            "  3.2170508e-03]]\n"
          ]
        },
        {
          "name": "stderr",
          "output_type": "stream",
          "text": [
            "\n",
            "\n",
            "tqdm() Progress Bar Segments: 295it [02:35,  1.91it/s]\u001b[A\u001b[A"
          ]
        },
        {
          "name": "stdout",
          "output_type": "stream",
          "text": [
            "[[2.8672608e-04 3.1485579e-05 3.8496455e-05 9.3098395e-02 5.9390324e-01\n",
            "  1.5363627e-03 1.1392382e-01 8.7086824e-05 1.9126652e-01 5.0043296e-03\n",
            "  8.2346966e-04]]\n"
          ]
        },
        {
          "name": "stderr",
          "output_type": "stream",
          "text": [
            "\n",
            "\n",
            "tqdm() Progress Bar Segments: 296it [02:35,  1.91it/s]\u001b[A\u001b[A"
          ]
        },
        {
          "name": "stdout",
          "output_type": "stream",
          "text": [
            "[[0.00533919 0.01377321 0.00269409 0.00361385 0.6454151  0.04565224\n",
            "  0.02717863 0.02282088 0.04594665 0.0022695  0.18529664]]\n"
          ]
        },
        {
          "name": "stderr",
          "output_type": "stream",
          "text": [
            "\n",
            "\n",
            "tqdm() Progress Bar Segments: 297it [02:36,  1.91it/s]\u001b[A\u001b[A"
          ]
        },
        {
          "name": "stdout",
          "output_type": "stream",
          "text": [
            "[[8.5530955e-05 2.0281293e-05 3.9402421e-05 1.6699800e-02 1.6695639e-01\n",
            "  4.0493018e-04 1.4798932e-01 2.3235703e-05 6.6472733e-01 8.1420824e-04\n",
            "  2.2395866e-03]]\n"
          ]
        },
        {
          "name": "stderr",
          "output_type": "stream",
          "text": [
            "\n",
            "\n",
            "tqdm() Progress Bar Segments: 298it [02:36,  1.91it/s]\u001b[A\u001b[A"
          ]
        },
        {
          "name": "stdout",
          "output_type": "stream",
          "text": [
            "[[2.0327917e-04 1.7043290e-05 6.8819463e-05 8.8989004e-02 8.9594847e-01\n",
            "  3.2772322e-04 2.8383685e-03 4.7037684e-06 5.9964899e-03 2.0788644e-05\n",
            "  5.5854558e-03]]\n"
          ]
        },
        {
          "name": "stderr",
          "output_type": "stream",
          "text": [
            "\n",
            "\n",
            "tqdm() Progress Bar Segments: 299it [02:37,  1.92it/s]\u001b[A\u001b[A"
          ]
        },
        {
          "name": "stdout",
          "output_type": "stream",
          "text": [
            "[[2.0610876e-02 6.8329230e-02 3.0864408e-02 5.2748044e-04 7.5640529e-01\n",
            "  5.0013699e-02 1.3562258e-03 1.0685295e-02 2.2914473e-03 4.8636703e-04\n",
            "  5.8429696e-02]]\n"
          ]
        },
        {
          "name": "stderr",
          "output_type": "stream",
          "text": [
            "\n",
            "\n",
            "tqdm() Progress Bar Segments: 300it [02:37,  1.91it/s]\u001b[A\u001b[A"
          ]
        },
        {
          "name": "stdout",
          "output_type": "stream",
          "text": [
            "[[0.01335151 0.2773134  0.14801149 0.00080668 0.20721781 0.08544349\n",
            "  0.00313052 0.01442704 0.00450569 0.00114758 0.24464475]]\n"
          ]
        },
        {
          "name": "stderr",
          "output_type": "stream",
          "text": [
            "\n",
            "\n",
            "tqdm() Progress Bar Segments: 301it [02:38,  1.90it/s]\u001b[A\u001b[A"
          ]
        },
        {
          "name": "stdout",
          "output_type": "stream",
          "text": [
            "[[1.66058580e-05 1.83641696e-05 1.08871054e-05 9.24558099e-03\n",
            "  8.98546219e-01 2.34908308e-04 6.59249425e-02 1.30540775e-05\n",
            "  2.55318452e-02 1.11263034e-04 3.46375629e-04]]\n"
          ]
        },
        {
          "name": "stderr",
          "output_type": "stream",
          "text": [
            "\n",
            "\n",
            "tqdm() Progress Bar Segments: 302it [02:38,  1.91it/s]\u001b[A\u001b[A"
          ]
        },
        {
          "name": "stdout",
          "output_type": "stream",
          "text": [
            "[[0.40385163 0.02245058 0.01896841 0.00518815 0.04293358 0.11308302\n",
            "  0.00118572 0.02669007 0.00711472 0.00075475 0.35777932]]\n"
          ]
        },
        {
          "name": "stderr",
          "output_type": "stream",
          "text": [
            "\n",
            "\n",
            "tqdm() Progress Bar Segments: 303it [02:39,  1.92it/s]\u001b[A\u001b[A"
          ]
        },
        {
          "name": "stdout",
          "output_type": "stream",
          "text": [
            "[[3.8945194e-02 1.8798003e-04 7.0131087e-04 6.2768537e-01 2.5610328e-02\n",
            "  2.9228465e-03 3.7505600e-04 1.3292457e-04 4.9053084e-02 2.7041644e-04\n",
            "  2.5411555e-01]]\n"
          ]
        },
        {
          "name": "stderr",
          "output_type": "stream",
          "text": [
            "\n",
            "\n",
            "tqdm() Progress Bar Segments: 304it [02:39,  1.92it/s]\u001b[A\u001b[A"
          ]
        },
        {
          "name": "stdout",
          "output_type": "stream",
          "text": [
            "[[0.1540306  0.01088859 0.00166234 0.00225728 0.01149031 0.34547988\n",
            "  0.00054805 0.00166188 0.0136881  0.00087233 0.45742065]]\n"
          ]
        },
        {
          "name": "stderr",
          "output_type": "stream",
          "text": [
            "\n",
            "\n",
            "tqdm() Progress Bar Segments: 305it [02:40,  1.92it/s]\u001b[A\u001b[A"
          ]
        },
        {
          "name": "stdout",
          "output_type": "stream",
          "text": [
            "[[0.00698493 0.30724248 0.04019723 0.00081175 0.4765111  0.04093447\n",
            "  0.00130427 0.08984736 0.00074155 0.00115349 0.0342714 ]]\n"
          ]
        },
        {
          "name": "stderr",
          "output_type": "stream",
          "text": [
            "\n",
            "\n",
            "tqdm() Progress Bar Segments: 306it [02:40,  1.92it/s]\u001b[A\u001b[A"
          ]
        },
        {
          "name": "stdout",
          "output_type": "stream",
          "text": [
            "[[5.8306903e-03 3.7309956e-02 1.6628366e-02 4.0443338e-04 8.9148325e-01\n",
            "  7.6288059e-03 7.1446464e-04 7.4090878e-03 9.0386410e-04 8.2457322e-04\n",
            "  3.0862505e-02]]\n"
          ]
        },
        {
          "name": "stderr",
          "output_type": "stream",
          "text": [
            "\n",
            "\n",
            "tqdm() Progress Bar Segments: 307it [02:41,  1.92it/s]\u001b[A\u001b[A"
          ]
        },
        {
          "name": "stdout",
          "output_type": "stream",
          "text": [
            "[[1.8872161e-03 3.1242941e-03 8.6357168e-06 9.8108205e-05 2.1285373e-03\n",
            "  9.4535277e-04 6.2065192e-05 7.9802079e-03 1.0259506e-01 4.0076004e-05\n",
            "  8.8113046e-01]]\n"
          ]
        },
        {
          "name": "stderr",
          "output_type": "stream",
          "text": [
            "\n",
            "\n",
            "tqdm() Progress Bar Segments: 308it [02:41,  1.93it/s]\u001b[A\u001b[A"
          ]
        },
        {
          "name": "stdout",
          "output_type": "stream",
          "text": [
            "[[0.00815207 0.0254133  0.00111636 0.00358527 0.04418443 0.0141869\n",
            "  0.0046883  0.03490311 0.2168583  0.00143824 0.6454738 ]]\n"
          ]
        },
        {
          "name": "stderr",
          "output_type": "stream",
          "text": [
            "\n",
            "\n",
            "tqdm() Progress Bar Segments: 309it [02:42,  1.93it/s]\u001b[A\u001b[A"
          ]
        },
        {
          "name": "stdout",
          "output_type": "stream",
          "text": [
            "[[3.6442498e-06 1.4959625e-06 2.2862405e-06 1.6096485e-04 9.9424297e-01\n",
            "  2.6182384e-05 4.1465089e-04 1.7676767e-07 9.5174217e-04 4.4236086e-07\n",
            "  4.1953507e-03]]\n"
          ]
        },
        {
          "name": "stderr",
          "output_type": "stream",
          "text": [
            "\n",
            "\n",
            "tqdm() Progress Bar Segments: 310it [02:42,  1.94it/s]\u001b[A\u001b[A"
          ]
        },
        {
          "name": "stdout",
          "output_type": "stream",
          "text": [
            "[[1.4908199e-04 5.1834627e-06 5.3030846e-05 9.8721543e-03 9.4831812e-01\n",
            "  3.1971687e-04 9.5679314e-04 8.8104025e-07 6.9333334e-04 1.4680861e-06\n",
            "  3.9630149e-02]]\n"
          ]
        },
        {
          "name": "stderr",
          "output_type": "stream",
          "text": [
            "\n",
            "\n",
            "tqdm() Progress Bar Segments: 311it [02:43,  1.94it/s]\u001b[A\u001b[A"
          ]
        },
        {
          "name": "stdout",
          "output_type": "stream",
          "text": [
            "[[3.2142183e-05 5.1276215e-06 2.0560916e-05 5.9260605e-03 9.9148905e-01\n",
            "  6.1989544e-05 1.0597639e-03 8.6627193e-07 7.3681242e-04 3.0715025e-06\n",
            "  6.6464406e-04]]\n"
          ]
        },
        {
          "name": "stderr",
          "output_type": "stream",
          "text": [
            "\n",
            "\n",
            "tqdm() Progress Bar Segments: 312it [02:44,  1.93it/s]\u001b[A\u001b[A"
          ]
        },
        {
          "name": "stdout",
          "output_type": "stream",
          "text": [
            "[[5.8786081e-05 3.4687837e-06 3.1219653e-05 2.0056838e-02 9.7932577e-01\n",
            "  2.7558421e-05 1.2034395e-04 2.7729541e-07 1.2134694e-04 9.4857864e-07\n",
            "  2.5335484e-04]]\n"
          ]
        },
        {
          "name": "stderr",
          "output_type": "stream",
          "text": [
            "\n",
            "\n",
            "tqdm() Progress Bar Segments: 313it [02:44,  1.84it/s]\u001b[A\u001b[A"
          ]
        },
        {
          "name": "stdout",
          "output_type": "stream",
          "text": [
            "[[2.5788415e-03 4.2852500e-04 1.2118544e-03 2.1681905e-02 8.0919999e-01\n",
            "  1.7975451e-02 5.1567301e-02 1.2293932e-04 2.9401593e-02 5.3784612e-04\n",
            "  6.5293677e-02]]\n"
          ]
        },
        {
          "name": "stderr",
          "output_type": "stream",
          "text": [
            "\n",
            "\n",
            "tqdm() Progress Bar Segments: 314it [02:45,  1.85it/s]\u001b[A\u001b[A"
          ]
        },
        {
          "name": "stdout",
          "output_type": "stream",
          "text": [
            "[[1.9409820e-03 7.8270903e-05 6.4672134e-04 8.0903573e-03 9.1100454e-01\n",
            "  1.6451244e-03 1.5389073e-03 1.4167156e-05 5.2690562e-03 1.8128349e-05\n",
            "  6.9753833e-02]]\n"
          ]
        },
        {
          "name": "stderr",
          "output_type": "stream",
          "text": [
            "\n",
            "\n",
            "tqdm() Progress Bar Segments: 315it [02:45,  1.84it/s]\u001b[A\u001b[A"
          ]
        },
        {
          "name": "stdout",
          "output_type": "stream",
          "text": [
            "[[7.0317774e-06 7.7699514e-07 2.2652609e-06 4.6877630e-02 9.4909465e-01\n",
            "  1.1648745e-05 1.2327258e-03 3.6060169e-07 2.5489416e-03 3.3877316e-06\n",
            "  2.2051626e-04]]\n"
          ]
        },
        {
          "name": "stderr",
          "output_type": "stream",
          "text": [
            "\n",
            "\n",
            "tqdm() Progress Bar Segments: 316it [02:46,  1.83it/s]\u001b[A\u001b[A"
          ]
        },
        {
          "name": "stdout",
          "output_type": "stream",
          "text": [
            "[[2.81658751e-04 2.62963931e-05 5.03047740e-05 7.78464973e-03\n",
            "  5.00272989e-01 1.09109341e-03 4.96570282e-02 1.46985885e-05\n",
            "  4.14207846e-01 4.25695354e-04 2.61877179e-02]]\n"
          ]
        },
        {
          "name": "stderr",
          "output_type": "stream",
          "text": [
            "\n",
            "\n",
            "tqdm() Progress Bar Segments: 317it [02:46,  1.86it/s]\u001b[A\u001b[A"
          ]
        },
        {
          "name": "stdout",
          "output_type": "stream",
          "text": [
            "[[7.0061570e-04 5.7436951e-05 1.9521125e-04 2.1839267e-02 6.5245807e-01\n",
            "  9.1440848e-04 4.6133674e-03 1.9725076e-05 1.2256042e-01 1.3730976e-04\n",
            "  1.9650418e-01]]\n"
          ]
        },
        {
          "name": "stderr",
          "output_type": "stream",
          "text": [
            "\n",
            "\n",
            "tqdm() Progress Bar Segments: 318it [02:47,  1.87it/s]\u001b[A\u001b[A"
          ]
        },
        {
          "name": "stdout",
          "output_type": "stream",
          "text": [
            "[[1.6200008e-02 3.6794189e-04 3.0685770e-03 5.9617478e-02 5.9013146e-01\n",
            "  5.9371915e-02 3.4925122e-02 9.0381029e-05 2.2186678e-02 5.4373621e-04\n",
            "  2.1349666e-01]]\n"
          ]
        },
        {
          "name": "stderr",
          "output_type": "stream",
          "text": [
            "\n",
            "\n",
            "tqdm() Progress Bar Segments: 319it [02:47,  1.81it/s]\u001b[A\u001b[A"
          ]
        },
        {
          "name": "stdout",
          "output_type": "stream",
          "text": [
            "[[3.8014460e-02 1.2973361e-01 1.1410738e-03 3.3091055e-04 3.5268203e-03\n",
            "  7.9705119e-01 8.3960674e-04 1.5042780e-02 5.2744476e-04 2.3097555e-04\n",
            "  1.3561283e-02]]\n"
          ]
        },
        {
          "name": "stderr",
          "output_type": "stream",
          "text": [
            "\n",
            "\n",
            "tqdm() Progress Bar Segments: 320it [02:48,  1.78it/s]\u001b[A\u001b[A"
          ]
        },
        {
          "name": "stdout",
          "output_type": "stream",
          "text": [
            "[[4.1536056e-04 1.4291146e-05 4.7337802e-05 2.1150883e-02 6.2833631e-01\n",
            "  9.5068407e-04 1.1043255e-01 1.9815043e-05 2.3453118e-01 1.1766013e-03\n",
            "  2.9249792e-03]]\n"
          ]
        },
        {
          "name": "stderr",
          "output_type": "stream",
          "text": [
            "\n",
            "\n",
            "tqdm() Progress Bar Segments: 321it [02:48,  1.81it/s]\u001b[A\u001b[A"
          ]
        },
        {
          "name": "stdout",
          "output_type": "stream",
          "text": [
            "[[1.2885636e-03 1.6756170e-05 4.1056771e-04 3.7247039e-02 9.4439763e-01\n",
            "  4.6062772e-04 2.5293066e-03 4.4082362e-06 3.0284324e-03 9.5303385e-06\n",
            "  1.0607221e-02]]\n"
          ]
        },
        {
          "name": "stderr",
          "output_type": "stream",
          "text": [
            "\n",
            "\n",
            "tqdm() Progress Bar Segments: 322it [02:49,  1.85it/s]\u001b[A\u001b[A"
          ]
        },
        {
          "name": "stdout",
          "output_type": "stream",
          "text": [
            "[[1.6492166e-03 8.2553842e-04 9.4382718e-05 2.1448992e-04 4.8862817e-03\n",
            "  8.8386266e-03 5.2297534e-04 4.1488258e-04 1.6100720e-02 5.0797218e-05\n",
            "  9.6640211e-01]]\n"
          ]
        },
        {
          "name": "stderr",
          "output_type": "stream",
          "text": [
            "\n",
            "\n",
            "tqdm() Progress Bar Segments: 323it [02:50,  1.88it/s]\u001b[A\u001b[A"
          ]
        },
        {
          "name": "stdout",
          "output_type": "stream",
          "text": [
            "[[1.36877205e-02 8.68727584e-05 1.52691838e-03 3.87183011e-01\n",
            "  4.32725489e-01 1.18848095e-02 3.28502394e-02 4.58294853e-05\n",
            "  1.93482824e-02 2.92004319e-04 1.00368746e-01]]\n"
          ]
        },
        {
          "name": "stderr",
          "output_type": "stream",
          "text": [
            "\n",
            "\n",
            "tqdm() Progress Bar Segments: 324it [02:50,  1.89it/s]\u001b[A\u001b[A"
          ]
        },
        {
          "name": "stdout",
          "output_type": "stream",
          "text": [
            "[[3.1661166e-05 5.6975018e-06 1.0855104e-05 1.5342380e-03 9.5329762e-01\n",
            "  3.7909774e-04 7.9865903e-03 1.1414853e-06 1.2477723e-02 4.4392164e-06\n",
            "  2.4270877e-02]]\n"
          ]
        },
        {
          "name": "stderr",
          "output_type": "stream",
          "text": [
            "\n",
            "\n",
            "tqdm() Progress Bar Segments: 325it [02:51,  1.88it/s]\u001b[A\u001b[A"
          ]
        },
        {
          "name": "stdout",
          "output_type": "stream",
          "text": [
            "[[0.00442177 0.01899108 0.0009212  0.00199681 0.5716521  0.12826462\n",
            "  0.03297329 0.07017966 0.10948721 0.02232832 0.03878387]]\n"
          ]
        },
        {
          "name": "stderr",
          "output_type": "stream",
          "text": [
            "\n",
            "\n",
            "tqdm() Progress Bar Segments: 326it [02:51,  1.90it/s]\u001b[A\u001b[A"
          ]
        },
        {
          "name": "stdout",
          "output_type": "stream",
          "text": [
            "[[2.9370275e-03 3.6048808e-05 3.7712880e-04 1.3480891e-03 2.0085943e-01\n",
            "  7.1254293e-03 5.9013353e-03 8.4175372e-06 5.1012263e-03 1.0905014e-05\n",
            "  7.7629501e-01]]\n"
          ]
        },
        {
          "name": "stderr",
          "output_type": "stream",
          "text": [
            "\n",
            "\n",
            "tqdm() Progress Bar Segments: 327it [02:52,  1.84it/s]\u001b[A\u001b[A"
          ]
        },
        {
          "name": "stdout",
          "output_type": "stream",
          "text": [
            "[[1.05082635e-02 1.47221901e-04 1.40001648e-03 7.25019038e-01\n",
            "  2.12187156e-01 5.11436863e-03 1.56515222e-02 9.51753318e-05\n",
            "  1.27740502e-02 1.30209466e-03 1.58010311e-02]]\n"
          ]
        },
        {
          "name": "stderr",
          "output_type": "stream",
          "text": [
            "\n",
            "\n",
            "tqdm() Progress Bar Segments: 328it [02:52,  1.80it/s]\u001b[A\u001b[A"
          ]
        },
        {
          "name": "stdout",
          "output_type": "stream",
          "text": [
            "[[2.7726559e-04 4.9567730e-05 5.3266631e-05 3.9770911e-03 6.1448717e-01\n",
            "  5.6396145e-04 4.3575171e-02 2.8313714e-05 3.3011723e-01 4.0970242e-04\n",
            "  6.4612329e-03]]\n"
          ]
        },
        {
          "name": "stderr",
          "output_type": "stream",
          "text": [
            "\n",
            "\n",
            "tqdm() Progress Bar Segments: 329it [02:53,  1.84it/s]\u001b[A\u001b[A"
          ]
        },
        {
          "name": "stdout",
          "output_type": "stream",
          "text": [
            "[[6.0721172e-04 2.4240441e-04 4.6828460e-05 1.7069284e-02 1.6318214e-01\n",
            "  3.9793467e-03 1.8264452e-02 1.7505318e-04 7.8385830e-01 5.7234159e-03\n",
            "  6.8515316e-03]]\n"
          ]
        },
        {
          "name": "stderr",
          "output_type": "stream",
          "text": [
            "\n",
            "\n",
            "tqdm() Progress Bar Segments: 330it [02:53,  1.86it/s]\u001b[A\u001b[A"
          ]
        },
        {
          "name": "stdout",
          "output_type": "stream",
          "text": [
            "[[1.9027811e-02 4.5848191e-02 1.7873353e-04 4.0498830e-04 1.7671451e-02\n",
            "  1.5183413e-01 2.0333751e-04 1.2341041e-01 9.6768737e-03 5.2587991e-04\n",
            "  6.3121819e-01]]\n"
          ]
        },
        {
          "name": "stderr",
          "output_type": "stream",
          "text": [
            "\n",
            "\n",
            "tqdm() Progress Bar Segments: 331it [02:54,  1.84it/s]\u001b[A\u001b[A"
          ]
        },
        {
          "name": "stdout",
          "output_type": "stream",
          "text": [
            "[[6.1543752e-04 1.0632909e-04 1.8173814e-04 5.6097982e-03 9.6772766e-01\n",
            "  3.6426818e-03 1.0743760e-02 2.5787309e-05 6.5509551e-03 1.4510349e-04\n",
            "  4.6506748e-03]]\n"
          ]
        },
        {
          "name": "stderr",
          "output_type": "stream",
          "text": [
            "\n",
            "\n",
            "tqdm() Progress Bar Segments: 332it [02:54,  1.87it/s]\u001b[A\u001b[A"
          ]
        },
        {
          "name": "stdout",
          "output_type": "stream",
          "text": [
            "[[2.6532236e-04 2.2038925e-05 2.3758506e-05 3.1582456e-02 6.5534067e-01\n",
            "  4.1154661e-04 1.0457558e-02 1.0724997e-05 2.9519722e-01 3.4685558e-04\n",
            "  6.3417982e-03]]\n"
          ]
        },
        {
          "name": "stderr",
          "output_type": "stream",
          "text": [
            "\n",
            "\n",
            "tqdm() Progress Bar Segments: 333it [02:55,  1.88it/s]\u001b[A\u001b[A"
          ]
        },
        {
          "name": "stdout",
          "output_type": "stream",
          "text": [
            "[[4.2673494e-03 2.4818862e-04 8.9962740e-04 8.8068070e-03 9.0605754e-01\n",
            "  3.6012169e-02 1.3887979e-02 4.3192267e-05 6.7900447e-03 2.4241596e-04\n",
            "  2.2744643e-02]]\n"
          ]
        },
        {
          "name": "stderr",
          "output_type": "stream",
          "text": [
            "\n",
            "\n",
            "tqdm() Progress Bar Segments: 334it [02:55,  1.88it/s]\u001b[A\u001b[A"
          ]
        },
        {
          "name": "stdout",
          "output_type": "stream",
          "text": [
            "[[6.2039699e-03 1.0534389e-04 1.2055786e-03 5.8564085e-01 2.1670195e-01\n",
            "  7.7249352e-03 1.0200120e-01 9.6898817e-05 3.2914922e-02 1.8990901e-03\n",
            "  4.5505360e-02]]\n"
          ]
        },
        {
          "name": "stderr",
          "output_type": "stream",
          "text": [
            "\n",
            "\n",
            "tqdm() Progress Bar Segments: 335it [02:56,  1.90it/s]\u001b[A\u001b[A"
          ]
        },
        {
          "name": "stdout",
          "output_type": "stream",
          "text": [
            "[[4.3598646e-07 9.1851348e-08 1.5124458e-07 7.6443504e-04 9.9898583e-01\n",
            "  2.0586776e-06 1.1904434e-04 8.1643448e-09 9.1304930e-05 7.3796315e-08\n",
            "  3.6466132e-05]]\n"
          ]
        },
        {
          "name": "stderr",
          "output_type": "stream",
          "text": [
            "\n",
            "\n",
            "tqdm() Progress Bar Segments: 336it [02:56,  1.90it/s]\u001b[A\u001b[A"
          ]
        },
        {
          "name": "stdout",
          "output_type": "stream",
          "text": [
            "[[1.53944166e-06 1.34824757e-06 5.64132336e-07 1.54974274e-04\n",
            "  9.99323726e-01 1.28937927e-05 3.69565940e-04 1.11438844e-07\n",
            "  1.12938811e-04 5.48170874e-07 2.18919104e-05]]\n"
          ]
        },
        {
          "name": "stderr",
          "output_type": "stream",
          "text": [
            "\n",
            "\n",
            "tqdm() Progress Bar Segments: 337it [02:57,  1.92it/s]\u001b[A\u001b[A"
          ]
        },
        {
          "name": "stdout",
          "output_type": "stream",
          "text": [
            "[[3.45862983e-03 9.06425877e-04 1.33087582e-04 2.00150465e-03\n",
            "  2.21787691e-02 1.34909665e-02 2.52815988e-03 1.86753517e-03\n",
            "  1.86425194e-01 3.55360127e-04 7.66654313e-01]]\n"
          ]
        },
        {
          "name": "stderr",
          "output_type": "stream",
          "text": [
            "\n",
            "\n",
            "tqdm() Progress Bar Segments: 338it [02:57,  1.92it/s]\u001b[A\u001b[A"
          ]
        },
        {
          "name": "stdout",
          "output_type": "stream",
          "text": [
            "[[1.7315444e-03 3.4921279e-04 3.6345402e-04 1.3601979e-02 4.5792165e-01\n",
            "  9.6039642e-03 5.5453457e-02 1.6256839e-04 3.4797505e-01 1.1311161e-03\n",
            "  1.1170606e-01]]\n"
          ]
        },
        {
          "name": "stderr",
          "output_type": "stream",
          "text": [
            "\n",
            "\n",
            "tqdm() Progress Bar Segments: 339it [02:58,  1.91it/s]\u001b[A\u001b[A"
          ]
        },
        {
          "name": "stdout",
          "output_type": "stream",
          "text": [
            "[[1.34845846e-03 1.15809074e-04 3.70677735e-04 3.68734002e-02\n",
            "  6.36638761e-01 1.46396887e-02 1.42701834e-01 1.01209007e-04\n",
            "  1.33316323e-01 5.22334769e-04 3.33715007e-02]]\n"
          ]
        },
        {
          "name": "stderr",
          "output_type": "stream",
          "text": [
            "\n",
            "\n",
            "tqdm() Progress Bar Segments: 340it [02:59,  1.92it/s]\u001b[A\u001b[A"
          ]
        },
        {
          "name": "stdout",
          "output_type": "stream",
          "text": [
            "[[8.8972198e-03 2.3420516e-04 1.4295548e-03 5.8801923e-02 7.2079998e-01\n",
            "  9.8949829e-03 5.1286267e-03 3.2758679e-05 1.2824380e-02 1.8257494e-04\n",
            "  1.8177377e-01]]\n"
          ]
        },
        {
          "name": "stderr",
          "output_type": "stream",
          "text": [
            "\n",
            "\n",
            "tqdm() Progress Bar Segments: 341it [02:59,  1.91it/s]\u001b[A\u001b[A"
          ]
        },
        {
          "name": "stdout",
          "output_type": "stream",
          "text": [
            "[[0.00753906 0.01500145 0.0012529  0.01200677 0.10695668 0.09830641\n",
            "  0.04829181 0.0117385  0.28773937 0.00395886 0.4072083 ]]\n"
          ]
        },
        {
          "name": "stderr",
          "output_type": "stream",
          "text": [
            "\n",
            "\n",
            "tqdm() Progress Bar Segments: 342it [03:00,  1.91it/s]\u001b[A\u001b[A"
          ]
        },
        {
          "name": "stdout",
          "output_type": "stream",
          "text": [
            "[[2.0730880e-04 3.6351659e-05 4.6165223e-05 1.8291116e-03 8.9362890e-01\n",
            "  1.2364693e-03 1.5497376e-02 9.5676951e-06 6.4936884e-02 5.5566259e-05\n",
            "  2.2516372e-02]]\n"
          ]
        },
        {
          "name": "stderr",
          "output_type": "stream",
          "text": [
            "\n",
            "\n",
            "tqdm() Progress Bar Segments: 343it [03:00,  1.93it/s]\u001b[A\u001b[A"
          ]
        },
        {
          "name": "stdout",
          "output_type": "stream",
          "text": [
            "[[1.0437393e-03 4.7936148e-05 1.8967829e-04 1.4087918e-01 5.5389535e-01\n",
            "  1.9025523e-03 2.8116077e-02 5.7581939e-05 2.2185150e-01 4.2173528e-04\n",
            "  5.1594712e-02]]\n"
          ]
        },
        {
          "name": "stderr",
          "output_type": "stream",
          "text": [
            "\n",
            "\n",
            "tqdm() Progress Bar Segments: 344it [03:01,  1.93it/s]\u001b[A\u001b[A"
          ]
        },
        {
          "name": "stdout",
          "output_type": "stream",
          "text": [
            "[[2.7037875e-05 5.6466542e-06 2.2802114e-05 4.1014936e-02 9.3893701e-01\n",
            "  6.2733066e-05 6.3739750e-03 3.1974230e-06 1.2586383e-02 2.9308889e-05\n",
            "  9.3695871e-04]]\n"
          ]
        },
        {
          "name": "stderr",
          "output_type": "stream",
          "text": [
            "\n",
            "\n",
            "tqdm() Progress Bar Segments: 345it [03:01,  1.94it/s]\u001b[A\u001b[A"
          ]
        },
        {
          "name": "stdout",
          "output_type": "stream",
          "text": [
            "[[7.5238775e-03 2.1404076e-04 8.0806261e-04 5.3943461e-01 1.0051473e-01\n",
            "  9.9601476e-03 1.3976161e-01 3.3148468e-04 1.3100363e-01 3.3022556e-03\n",
            "  6.7145534e-02]]\n"
          ]
        },
        {
          "name": "stderr",
          "output_type": "stream",
          "text": [
            "\n",
            "\n",
            "tqdm() Progress Bar Segments: 346it [03:02,  1.95it/s]\u001b[A\u001b[A"
          ]
        },
        {
          "name": "stdout",
          "output_type": "stream",
          "text": [
            "[[0.00592852 0.00100125 0.00156399 0.3350941  0.1536982  0.05602877\n",
            "  0.26917627 0.00145185 0.13261582 0.01742294 0.02601829]]\n"
          ]
        },
        {
          "name": "stderr",
          "output_type": "stream",
          "text": [
            "\n",
            "\n",
            "tqdm() Progress Bar Segments: 347it [03:02,  1.96it/s]\u001b[A\u001b[A"
          ]
        },
        {
          "name": "stdout",
          "output_type": "stream",
          "text": [
            "[[1.6665992e-03 1.3482843e-04 3.3259424e-04 1.4918263e-03 3.7131786e-01\n",
            "  6.8136672e-03 1.4974372e-02 3.6861795e-05 3.7512425e-02 8.2250066e-05\n",
            "  5.6563675e-01]]\n"
          ]
        },
        {
          "name": "stderr",
          "output_type": "stream",
          "text": [
            "\n",
            "\n",
            "tqdm() Progress Bar Segments: 348it [03:03,  1.94it/s]\u001b[A\u001b[A"
          ]
        },
        {
          "name": "stdout",
          "output_type": "stream",
          "text": [
            "[[1.5528874e-02 6.0075772e-04 2.4310462e-03 2.2876455e-01 2.8239048e-01\n",
            "  2.8011000e-02 1.2959102e-02 1.5625870e-04 3.7121348e-02 5.7563663e-04\n",
            "  3.9146090e-01]]\n"
          ]
        },
        {
          "name": "stderr",
          "output_type": "stream",
          "text": [
            "\n",
            "\n",
            "tqdm() Progress Bar Segments: 349it [03:03,  1.94it/s]\u001b[A\u001b[A"
          ]
        },
        {
          "name": "stdout",
          "output_type": "stream",
          "text": [
            "[[5.8954004e-03 8.0142234e-04 2.5323443e-03 2.1292146e-02 5.0686246e-01\n",
            "  4.1072853e-02 1.6664472e-01 2.5947680e-04 6.3142449e-02 1.1631261e-03\n",
            "  1.9033359e-01]]\n"
          ]
        },
        {
          "name": "stderr",
          "output_type": "stream",
          "text": [
            "\n",
            "\n",
            "tqdm() Progress Bar Segments: 350it [03:04,  1.90it/s]\u001b[A\u001b[A"
          ]
        },
        {
          "name": "stdout",
          "output_type": "stream",
          "text": [
            "[[0.01892951 0.01065723 0.00408145 0.00211311 0.15840666 0.3988063\n",
            "  0.01313797 0.00454808 0.04193432 0.00498974 0.3423957 ]]\n"
          ]
        },
        {
          "name": "stderr",
          "output_type": "stream",
          "text": [
            "\n",
            "\n",
            "tqdm() Progress Bar Segments: 351it [03:04,  1.91it/s]\u001b[A\u001b[A"
          ]
        },
        {
          "name": "stdout",
          "output_type": "stream",
          "text": [
            "[[6.4910397e-05 1.8453771e-05 3.1790343e-05 1.0083040e-02 9.6406895e-01\n",
            "  1.3826959e-03 1.6966844e-02 2.8176760e-06 5.5823065e-03 1.0622754e-04\n",
            "  1.6920178e-03]]\n"
          ]
        },
        {
          "name": "stderr",
          "output_type": "stream",
          "text": [
            "\n",
            "\n",
            "tqdm() Progress Bar Segments: 352it [03:05,  1.91it/s]\u001b[A\u001b[A"
          ]
        },
        {
          "name": "stdout",
          "output_type": "stream",
          "text": [
            "[[5.8249314e-03 2.4513716e-03 2.0202941e-04 2.6640657e-03 1.1606143e-02\n",
            "  3.0644150e-03 6.7750702e-04 1.2854067e-02 1.5495034e-01 2.4853097e-04\n",
            "  8.0545664e-01]]\n"
          ]
        },
        {
          "name": "stderr",
          "output_type": "stream",
          "text": [
            "\n",
            "\n",
            "tqdm() Progress Bar Segments: 353it [03:05,  1.85it/s]\u001b[A\u001b[A"
          ]
        },
        {
          "name": "stdout",
          "output_type": "stream",
          "text": [
            "[[5.1486704e-06 8.8203478e-07 2.0060179e-06 7.4152523e-03 9.8816490e-01\n",
            "  1.3823002e-05 1.5786975e-03 2.1357826e-07 2.3669116e-03 2.5829038e-06\n",
            "  4.4959094e-04]]\n"
          ]
        },
        {
          "name": "stderr",
          "output_type": "stream",
          "text": [
            "\n",
            "\n",
            "tqdm() Progress Bar Segments: 354it [03:06,  1.85it/s]\u001b[A\u001b[A"
          ]
        },
        {
          "name": "stdout",
          "output_type": "stream",
          "text": [
            "[[3.6201469e-05 7.5904763e-06 1.0411218e-05 2.3689871e-03 9.7937876e-01\n",
            "  2.4639475e-04 5.8871401e-03 2.6852754e-06 9.4506610e-03 2.4220732e-05\n",
            "  2.5870039e-03]]\n"
          ]
        },
        {
          "name": "stderr",
          "output_type": "stream",
          "text": [
            "\n",
            "\n",
            "tqdm() Progress Bar Segments: 355it [03:06,  1.86it/s]\u001b[A\u001b[A"
          ]
        },
        {
          "name": "stdout",
          "output_type": "stream",
          "text": [
            "[[0.01661083 0.03925895 0.001946   0.00297996 0.15183607 0.19010307\n",
            "  0.02944223 0.05651968 0.08195663 0.00190904 0.42743754]]\n"
          ]
        },
        {
          "name": "stderr",
          "output_type": "stream",
          "text": [
            "\n",
            "\n",
            "tqdm() Progress Bar Segments: 356it [03:07,  1.87it/s]\u001b[A\u001b[A"
          ]
        },
        {
          "name": "stdout",
          "output_type": "stream",
          "text": [
            "[[1.39279175e-04 1.23515238e-05 5.35375466e-06 2.29742844e-03\n",
            "  2.53190458e-01 2.77220970e-04 1.56687899e-03 7.30433521e-06\n",
            "  6.59247994e-01 1.05709514e-04 8.31500366e-02]]\n"
          ]
        },
        {
          "name": "stderr",
          "output_type": "stream",
          "text": [
            "\n",
            "\n",
            "tqdm() Progress Bar Segments: 357it [03:07,  1.88it/s]\u001b[A\u001b[A"
          ]
        },
        {
          "name": "stdout",
          "output_type": "stream",
          "text": [
            "[[1.6225728e-03 2.5039404e-05 3.0288452e-04 9.6502423e-01 2.2855898e-02\n",
            "  5.1547162e-04 2.6611600e-03 2.7382222e-05 3.2670454e-03 2.0478366e-04\n",
            "  3.4935812e-03]]\n"
          ]
        },
        {
          "name": "stderr",
          "output_type": "stream",
          "text": [
            "\n",
            "\n",
            "tqdm() Progress Bar Segments: 358it [03:08,  1.88it/s]\u001b[A\u001b[A"
          ]
        },
        {
          "name": "stdout",
          "output_type": "stream",
          "text": [
            "[[2.17619725e-03 6.16851554e-04 1.14626586e-04 6.70556678e-04\n",
            "  8.88823345e-03 2.18392210e-03 3.73028871e-03 5.46775700e-04\n",
            "  1.57591403e-01 1.64510828e-04 8.23316693e-01]]\n"
          ]
        },
        {
          "name": "stderr",
          "output_type": "stream",
          "text": [
            "\n",
            "\n",
            "tqdm() Progress Bar Segments: 359it [03:09,  1.89it/s]\u001b[A\u001b[A"
          ]
        },
        {
          "name": "stdout",
          "output_type": "stream",
          "text": [
            "[[0.00477178 0.00200811 0.00055485 0.00727395 0.12276678 0.07272115\n",
            "  0.07311678 0.00339671 0.50157964 0.0054004  0.20640978]]\n"
          ]
        },
        {
          "name": "stderr",
          "output_type": "stream",
          "text": [
            "\n",
            "\n",
            "tqdm() Progress Bar Segments: 360it [03:09,  1.90it/s]\u001b[A\u001b[A"
          ]
        },
        {
          "name": "stdout",
          "output_type": "stream",
          "text": [
            "[[1.9557620e-03 1.3896458e-04 2.0074166e-04 1.0697031e-02 5.6365556e-01\n",
            "  5.9425803e-03 5.0906457e-02 1.4189149e-04 3.4247008e-01 9.9046016e-04\n",
            "  2.2900475e-02]]\n"
          ]
        },
        {
          "name": "stderr",
          "output_type": "stream",
          "text": [
            "\n",
            "\n",
            "tqdm() Progress Bar Segments: 361it [03:10,  1.89it/s]\u001b[A\u001b[A"
          ]
        },
        {
          "name": "stdout",
          "output_type": "stream",
          "text": [
            "[[1.4759983e-04 9.4017843e-05 9.1696129e-05 3.9043471e-03 9.2017460e-01\n",
            "  2.3193380e-03 2.0331899e-02 2.1769938e-05 3.1841062e-02 1.3636974e-04\n",
            "  2.0937255e-02]]\n"
          ]
        },
        {
          "name": "stderr",
          "output_type": "stream",
          "text": [
            "\n",
            "\n",
            "tqdm() Progress Bar Segments: 362it [03:10,  1.89it/s]\u001b[A\u001b[A"
          ]
        },
        {
          "name": "stdout",
          "output_type": "stream",
          "text": [
            "[[4.66332312e-05 5.01305203e-06 3.89720117e-06 6.15105906e-04\n",
            "  8.25744092e-01 1.58592520e-04 1.42479769e-03 6.20472861e-07\n",
            "  5.81897907e-02 4.47223874e-06 1.13806985e-01]]\n"
          ]
        },
        {
          "name": "stderr",
          "output_type": "stream",
          "text": [
            "\n",
            "\n",
            "tqdm() Progress Bar Segments: 363it [03:11,  1.89it/s]\u001b[A\u001b[A"
          ]
        },
        {
          "name": "stdout",
          "output_type": "stream",
          "text": [
            "[[1.3967269e-05 6.3452597e-07 2.8796960e-06 7.2857984e-03 9.9200410e-01\n",
            "  3.1447016e-05 1.6054497e-04 8.2205240e-08 8.2372353e-05 6.6763170e-07\n",
            "  4.1750990e-04]]\n"
          ]
        },
        {
          "name": "stderr",
          "output_type": "stream",
          "text": [
            "\n",
            "\n",
            "tqdm() Progress Bar Segments: 364it [03:11,  1.89it/s]\u001b[A\u001b[A"
          ]
        },
        {
          "name": "stdout",
          "output_type": "stream",
          "text": [
            "[[1.51245576e-05 2.61819241e-06 1.24544185e-05 1.00400473e-03\n",
            "  9.96961415e-01 1.11555280e-04 1.37494283e-03 2.71674054e-07\n",
            "  1.18521202e-04 2.28642580e-06 3.96716641e-04]]\n"
          ]
        },
        {
          "name": "stderr",
          "output_type": "stream",
          "text": [
            "\n",
            "\n",
            "tqdm() Progress Bar Segments: 365it [03:12,  1.89it/s]\u001b[A\u001b[A"
          ]
        },
        {
          "name": "stdout",
          "output_type": "stream",
          "text": [
            "[[0.00779742 0.04830821 0.00147943 0.00247123 0.16912483 0.02969003\n",
            "  0.00435096 0.08521096 0.09753224 0.00101924 0.5530155 ]]\n"
          ]
        },
        {
          "name": "stderr",
          "output_type": "stream",
          "text": [
            "\n",
            "\n",
            "tqdm() Progress Bar Segments: 366it [03:12,  1.88it/s]\u001b[A\u001b[A"
          ]
        },
        {
          "name": "stdout",
          "output_type": "stream",
          "text": [
            "[[1.6966400e-06 7.7510231e-07 9.3843846e-07 3.2048137e-03 9.9284148e-01\n",
            "  4.7412045e-06 8.8886230e-04 2.0877100e-07 2.6297444e-03 2.3865978e-06\n",
            "  4.2435870e-04]]\n"
          ]
        },
        {
          "name": "stderr",
          "output_type": "stream",
          "text": [
            "\n",
            "\n",
            "tqdm() Progress Bar Segments: 367it [03:13,  1.88it/s]\u001b[A\u001b[A"
          ]
        },
        {
          "name": "stdout",
          "output_type": "stream",
          "text": [
            "[[2.5044344e-04 2.3333778e-05 1.0468470e-04 3.8934052e-03 9.4760919e-01\n",
            "  2.6336701e-03 2.8366022e-02 4.2134093e-06 5.2213548e-03 2.5018691e-05\n",
            "  1.1868657e-02]]\n"
          ]
        },
        {
          "name": "stderr",
          "output_type": "stream",
          "text": [
            "\n",
            "\n",
            "tqdm() Progress Bar Segments: 368it [03:13,  1.88it/s]\u001b[A\u001b[A"
          ]
        },
        {
          "name": "stdout",
          "output_type": "stream",
          "text": [
            "[[0.00765676 0.01034035 0.00139287 0.0026877  0.19138609 0.11093402\n",
            "  0.01040711 0.01951138 0.08397817 0.00212518 0.5595803 ]]\n"
          ]
        },
        {
          "name": "stderr",
          "output_type": "stream",
          "text": [
            "\n",
            "\n",
            "tqdm() Progress Bar Segments: 369it [03:14,  1.87it/s]\u001b[A\u001b[A"
          ]
        },
        {
          "name": "stdout",
          "output_type": "stream",
          "text": [
            "[[1.0953732e-02 6.8764371e-04 2.3927212e-05 1.0352424e-04 1.0703403e-02\n",
            "  5.3992928e-03 3.4950477e-05 1.0666744e-02 1.8435586e-02 3.7061665e-05\n",
            "  9.4295418e-01]]\n"
          ]
        },
        {
          "name": "stderr",
          "output_type": "stream",
          "text": [
            "\n",
            "\n",
            "tqdm() Progress Bar Segments: 370it [03:14,  1.87it/s]\u001b[A\u001b[A"
          ]
        },
        {
          "name": "stdout",
          "output_type": "stream",
          "text": [
            "[[0.00470279 0.00717389 0.00165787 0.00629395 0.34988388 0.03923062\n",
            "  0.11202305 0.02564281 0.36024126 0.00362251 0.08952743]]\n"
          ]
        },
        {
          "name": "stderr",
          "output_type": "stream",
          "text": [
            "\n",
            "\n",
            "tqdm() Progress Bar Segments: 371it [03:15,  1.88it/s]\u001b[A\u001b[A"
          ]
        },
        {
          "name": "stdout",
          "output_type": "stream",
          "text": [
            "[[6.0408944e-05 7.4640739e-06 9.6724198e-06 5.4020612e-03 9.3523246e-01\n",
            "  1.3409072e-04 2.0279784e-03 2.0622485e-06 3.5018560e-02 9.4205834e-06\n",
            "  2.2095773e-02]]\n"
          ]
        },
        {
          "name": "stderr",
          "output_type": "stream",
          "text": [
            "\n",
            "\n",
            "tqdm() Progress Bar Segments: 372it [03:15,  1.88it/s]\u001b[A\u001b[A"
          ]
        },
        {
          "name": "stdout",
          "output_type": "stream",
          "text": [
            "[[5.1776655e-02 3.4224326e-03 2.2260212e-05 4.9289491e-04 3.4934254e-03\n",
            "  8.9383560e-01 8.3124993e-04 4.1503686e-02 6.8240991e-04 1.1293468e-03\n",
            "  2.8101518e-03]]\n"
          ]
        },
        {
          "name": "stderr",
          "output_type": "stream",
          "text": [
            "\n",
            "\n",
            "tqdm() Progress Bar Segments: 373it [03:16,  1.88it/s]\u001b[A\u001b[A"
          ]
        },
        {
          "name": "stdout",
          "output_type": "stream",
          "text": [
            "[[4.5198292e-05 1.0327060e-05 3.1276013e-05 2.0871594e-04 9.9024081e-01\n",
            "  1.7003572e-04 1.5786402e-03 1.6910117e-06 1.2955482e-03 2.9645366e-06\n",
            "  6.4148451e-03]]\n"
          ]
        },
        {
          "name": "stderr",
          "output_type": "stream",
          "text": [
            "\n",
            "\n",
            "tqdm() Progress Bar Segments: 374it [03:17,  1.88it/s]\u001b[A\u001b[A"
          ]
        },
        {
          "name": "stdout",
          "output_type": "stream",
          "text": [
            "[[1.6917676e-05 1.7224705e-06 5.6987951e-06 8.4826082e-04 9.9728429e-01\n",
            "  7.1533083e-05 4.1692264e-04 1.7417435e-07 4.3792880e-04 8.3513561e-07\n",
            "  9.1569935e-04]]\n"
          ]
        },
        {
          "name": "stderr",
          "output_type": "stream",
          "text": [
            "\n",
            "\n",
            "tqdm() Progress Bar Segments: 375it [03:17,  1.87it/s]\u001b[A\u001b[A"
          ]
        },
        {
          "name": "stdout",
          "output_type": "stream",
          "text": [
            "[[3.9029126e-03 4.1582361e-02 4.4496723e-02 1.9994816e-04 8.8228464e-01\n",
            "  1.7232787e-02 9.2889165e-04 1.7345864e-03 3.0238123e-04 4.0886924e-04\n",
            "  6.9259694e-03]]\n"
          ]
        },
        {
          "name": "stderr",
          "output_type": "stream",
          "text": [
            "\n",
            "\n",
            "tqdm() Progress Bar Segments: 376it [03:18,  1.86it/s]\u001b[A\u001b[A"
          ]
        },
        {
          "name": "stdout",
          "output_type": "stream",
          "text": [
            "[[4.5531369e-03 5.5773053e-05 1.0682468e-03 6.5591562e-01 2.9647303e-01\n",
            "  4.6135429e-03 2.3387937e-02 5.6449491e-05 4.4257920e-03 4.2874183e-04\n",
            "  9.0216361e-03]]\n"
          ]
        },
        {
          "name": "stderr",
          "output_type": "stream",
          "text": [
            "\n",
            "\n",
            "tqdm() Progress Bar Segments: 377it [03:18,  1.87it/s]\u001b[A\u001b[A"
          ]
        },
        {
          "name": "stdout",
          "output_type": "stream",
          "text": [
            "[[3.3181945e-03 1.3904521e-02 3.0625469e-04 2.2864688e-04 3.5480227e-02\n",
            "  2.9770147e-02 2.4623936e-04 1.1394602e-02 5.4717913e-02 2.3522107e-04\n",
            "  8.5039806e-01]]\n"
          ]
        },
        {
          "name": "stderr",
          "output_type": "stream",
          "text": [
            "\n",
            "\n",
            "tqdm() Progress Bar Segments: 378it [03:19,  1.82it/s]\u001b[A\u001b[A"
          ]
        },
        {
          "name": "stdout",
          "output_type": "stream",
          "text": [
            "[[4.1471855e-03 6.7613646e-03 2.6795464e-05 4.2531541e-05 1.6855650e-03\n",
            "  9.7678190e-01 5.2144584e-05 4.9358484e-04 2.0630192e-04 1.1822623e-04\n",
            "  9.6843299e-03]]\n"
          ]
        },
        {
          "name": "stderr",
          "output_type": "stream",
          "text": [
            "\n",
            "\n",
            "tqdm() Progress Bar Segments: 379it [03:19,  1.85it/s]\u001b[A\u001b[A"
          ]
        },
        {
          "name": "stdout",
          "output_type": "stream",
          "text": [
            "[[1.82103030e-02 2.29453705e-02 6.17129030e-04 6.11217343e-04\n",
            "  6.15621991e-02 8.38964880e-02 4.58683062e-04 1.24326125e-01\n",
            "  1.37096336e-02 5.36749838e-04 6.73126042e-01]]\n"
          ]
        },
        {
          "name": "stderr",
          "output_type": "stream",
          "text": [
            "\n",
            "\n",
            "tqdm() Progress Bar Segments: 380it [03:20,  1.83it/s]\u001b[A\u001b[A"
          ]
        },
        {
          "name": "stdout",
          "output_type": "stream",
          "text": [
            "[[1.09013046e-04 1.57974846e-05 1.46419070e-05 6.17332431e-03\n",
            "  7.35042810e-01 1.61168311e-04 5.01250848e-03 6.66529240e-06\n",
            "  2.40767956e-01 4.54144574e-05 1.26506928e-02]]\n"
          ]
        },
        {
          "name": "stderr",
          "output_type": "stream",
          "text": [
            "\n",
            "\n",
            "tqdm() Progress Bar Segments: 381it [03:20,  1.85it/s]\u001b[A\u001b[A"
          ]
        },
        {
          "name": "stdout",
          "output_type": "stream",
          "text": [
            "[[4.8845275e-03 2.1113434e-03 2.4718134e-05 2.1148339e-04 7.1146996e-03\n",
            "  1.3115840e-02 2.4545420e-04 9.5946056e-01 3.5854898e-04 8.3588681e-04\n",
            "  1.1636863e-02]]\n"
          ]
        },
        {
          "name": "stderr",
          "output_type": "stream",
          "text": [
            "\n",
            "\n",
            "tqdm() Progress Bar Segments: 382it [03:21,  1.86it/s]\u001b[A\u001b[A"
          ]
        },
        {
          "name": "stdout",
          "output_type": "stream",
          "text": [
            "[[1.4329093e-04 1.1767949e-05 2.2563272e-05 3.9555222e-02 7.0337397e-01\n",
            "  3.5789513e-04 5.2764155e-02 2.3290211e-05 1.9877310e-01 9.1601087e-04\n",
            "  4.0587815e-03]]\n"
          ]
        },
        {
          "name": "stderr",
          "output_type": "stream",
          "text": [
            "\n",
            "\n",
            "tqdm() Progress Bar Segments: 383it [03:21,  1.87it/s]\u001b[A\u001b[A"
          ]
        },
        {
          "name": "stdout",
          "output_type": "stream",
          "text": [
            "[[1.5766542e-04 4.0751825e-06 1.1015030e-06 8.6818001e-04 9.3512340e-03\n",
            "  8.7731838e-05 1.6998830e-04 1.8245152e-06 8.5279667e-01 2.3931405e-05\n",
            "  1.3653760e-01]]\n"
          ]
        },
        {
          "name": "stderr",
          "output_type": "stream",
          "text": [
            "\n",
            "\n",
            "tqdm() Progress Bar Segments: 384it [03:22,  1.87it/s]\u001b[A\u001b[A"
          ]
        },
        {
          "name": "stdout",
          "output_type": "stream",
          "text": [
            "[[5.4664288e-05 1.0125560e-05 2.7818576e-05 3.3824643e-04 9.8368049e-01\n",
            "  2.0574698e-04 8.6258637e-04 1.9354775e-06 2.2107896e-03 4.0482792e-06\n",
            "  1.2603537e-02]]\n"
          ]
        },
        {
          "name": "stderr",
          "output_type": "stream",
          "text": [
            "\n",
            "\n",
            "tqdm() Progress Bar Segments: 385it [03:22,  1.88it/s]\u001b[A\u001b[A"
          ]
        },
        {
          "name": "stdout",
          "output_type": "stream",
          "text": [
            "[[8.7797991e-05 6.5502259e-06 8.4208014e-06 5.8049846e-02 7.5495136e-01\n",
            "  1.7096070e-04 1.2420458e-02 7.4608147e-06 1.7196842e-01 4.6156684e-04\n",
            "  1.8671970e-03]]\n"
          ]
        },
        {
          "name": "stderr",
          "output_type": "stream",
          "text": [
            "\n",
            "\n",
            "tqdm() Progress Bar Segments: 386it [03:23,  1.91it/s]\u001b[A\u001b[A"
          ]
        },
        {
          "name": "stdout",
          "output_type": "stream",
          "text": [
            "[[1.10858164e-04 5.27920747e-06 2.41583020e-05 9.49143898e-03\n",
            "  9.47967052e-01 1.53163230e-04 4.34630347e-04 1.76660888e-06\n",
            "  3.81820323e-03 4.03523654e-06 3.79894227e-02]]\n"
          ]
        },
        {
          "name": "stderr",
          "output_type": "stream",
          "text": [
            "\n",
            "\n",
            "tqdm() Progress Bar Segments: 387it [03:24,  1.85it/s]\u001b[A\u001b[A"
          ]
        },
        {
          "name": "stdout",
          "output_type": "stream",
          "text": [
            "[[6.0464464e-02 1.8827504e-02 2.8790958e-04 5.5974559e-04 3.2080431e-02\n",
            "  8.2320368e-01 1.4174149e-04 1.3663959e-02 2.3536049e-03 4.2542447e-03\n",
            "  4.4162728e-02]]\n"
          ]
        },
        {
          "name": "stderr",
          "output_type": "stream",
          "text": [
            "\n",
            "\n",
            "tqdm() Progress Bar Segments: 388it [03:24,  1.87it/s]\u001b[A\u001b[A"
          ]
        },
        {
          "name": "stdout",
          "output_type": "stream",
          "text": [
            "[[0.00755091 0.1333375  0.00107634 0.00246141 0.03842089 0.01378893\n",
            "  0.00149664 0.07675171 0.11951642 0.00182334 0.60377586]]\n"
          ]
        },
        {
          "name": "stderr",
          "output_type": "stream",
          "text": [
            "\n",
            "\n",
            "tqdm() Progress Bar Segments: 389it [03:25,  1.90it/s]\u001b[A\u001b[A"
          ]
        },
        {
          "name": "stdout",
          "output_type": "stream",
          "text": [
            "[[1.1430978e-02 2.2799265e-02 1.7803337e-04 5.4819910e-05 3.9499551e-02\n",
            "  8.2682115e-01 5.9861830e-04 3.9342754e-03 2.0098730e-03 4.4208139e-04\n",
            "  9.2231348e-02]]\n"
          ]
        },
        {
          "name": "stderr",
          "output_type": "stream",
          "text": [
            "\n",
            "\n",
            "tqdm() Progress Bar Segments: 390it [03:25,  1.91it/s]\u001b[A\u001b[A"
          ]
        },
        {
          "name": "stdout",
          "output_type": "stream",
          "text": [
            "[[5.6163844e-04 4.1268031e-05 1.3740682e-04 4.2669927e-03 9.1188014e-01\n",
            "  9.4485853e-04 1.4734728e-03 9.3904464e-06 5.9853480e-03 7.3820415e-06\n",
            "  7.4692056e-02]]\n"
          ]
        },
        {
          "name": "stderr",
          "output_type": "stream",
          "text": [
            "\n",
            "\n",
            "tqdm() Progress Bar Segments: 391it [03:26,  1.92it/s]\u001b[A\u001b[A"
          ]
        },
        {
          "name": "stdout",
          "output_type": "stream",
          "text": [
            "[[8.1312746e-06 1.5296991e-06 1.3835688e-06 1.4601400e-03 7.2789961e-01\n",
            "  2.8574088e-05 8.5111447e-03 1.1264126e-06 2.6112732e-01 2.7627793e-05\n",
            "  9.3331031e-04]]\n"
          ]
        },
        {
          "name": "stderr",
          "output_type": "stream",
          "text": [
            "\n",
            "\n",
            "tqdm() Progress Bar Segments: 392it [03:26,  1.93it/s]\u001b[A\u001b[A"
          ]
        },
        {
          "name": "stdout",
          "output_type": "stream",
          "text": [
            "[[8.1434182e-06 3.5882865e-06 1.4805354e-06 5.6900078e-04 9.8765647e-01\n",
            "  5.7907648e-05 7.7488483e-04 3.2971695e-07 9.1796434e-03 2.7578387e-06\n",
            "  1.7457744e-03]]\n"
          ]
        },
        {
          "name": "stderr",
          "output_type": "stream",
          "text": [
            "\n",
            "\n",
            "tqdm() Progress Bar Segments: 393it [03:27,  1.93it/s]\u001b[A\u001b[A"
          ]
        },
        {
          "name": "stdout",
          "output_type": "stream",
          "text": [
            "[[1.7752358e-05 4.8411962e-06 4.2517900e-06 5.9345819e-04 6.8704891e-01\n",
            "  8.9387511e-05 1.7235836e-02 2.1163744e-06 2.9370427e-01 3.0911331e-05\n",
            "  1.2682659e-03]]\n"
          ]
        },
        {
          "name": "stderr",
          "output_type": "stream",
          "text": [
            "\n",
            "\n",
            "tqdm() Progress Bar Segments: 394it [03:27,  1.93it/s]\u001b[A\u001b[A"
          ]
        },
        {
          "name": "stdout",
          "output_type": "stream",
          "text": [
            "[[1.1169215e-03 1.7164930e-04 2.5459178e-04 2.6492933e-02 5.7978767e-01\n",
            "  4.9771578e-03 2.8178085e-02 6.6343273e-05 2.2160836e-01 2.2308338e-04\n",
            "  1.3712320e-01]]\n"
          ]
        },
        {
          "name": "stderr",
          "output_type": "stream",
          "text": [
            "\n",
            "\n",
            "tqdm() Progress Bar Segments: 395it [03:28,  1.94it/s]\u001b[A\u001b[A"
          ]
        },
        {
          "name": "stdout",
          "output_type": "stream",
          "text": [
            "[[3.1540494e-03 3.6865466e-05 1.9686582e-04 6.4368814e-01 2.6962081e-01\n",
            "  2.1239268e-03 6.6970737e-04 1.8484161e-05 2.8218029e-02 8.7977030e-05\n",
            "  5.2185088e-02]]\n"
          ]
        },
        {
          "name": "stderr",
          "output_type": "stream",
          "text": [
            "\n",
            "\n",
            "tqdm() Progress Bar Segments: 396it [03:28,  1.93it/s]\u001b[A\u001b[A"
          ]
        },
        {
          "name": "stdout",
          "output_type": "stream",
          "text": [
            "[[2.84010079e-04 9.69850953e-05 4.96001885e-05 3.67436116e-03\n",
            "  7.84690619e-01 4.45474591e-03 6.19353494e-03 1.31665656e-05\n",
            "  1.14541136e-01 1.18436947e-04 8.58834311e-02]]\n"
          ]
        },
        {
          "name": "stderr",
          "output_type": "stream",
          "text": [
            "\n",
            "\n",
            "tqdm() Progress Bar Segments: 397it [03:29,  1.94it/s]\u001b[A\u001b[A"
          ]
        },
        {
          "name": "stdout",
          "output_type": "stream",
          "text": [
            "[[9.50346235e-04 4.06122490e-05 2.89817661e-04 8.70284319e-01\n",
            "  1.05816185e-01 6.36115437e-04 6.02046633e-03 3.57864919e-05\n",
            "  7.19394023e-03 3.50829097e-04 8.38155486e-03]]\n"
          ]
        },
        {
          "name": "stderr",
          "output_type": "stream",
          "text": [
            "\n",
            "\n",
            "tqdm() Progress Bar Segments: 398it [03:29,  1.95it/s]\u001b[A\u001b[A"
          ]
        },
        {
          "name": "stdout",
          "output_type": "stream",
          "text": [
            "[[1.6427917e-03 5.4216394e-03 2.8992668e-04 3.1099922e-04 1.8154940e-01\n",
            "  3.8904667e-02 1.3160392e-02 4.8054531e-03 4.0263880e-02 1.5301057e-04\n",
            "  7.1349788e-01]]\n"
          ]
        },
        {
          "name": "stderr",
          "output_type": "stream",
          "text": [
            "\n",
            "\n",
            "tqdm() Progress Bar Segments: 399it [03:30,  1.95it/s]\u001b[A\u001b[A"
          ]
        },
        {
          "name": "stdout",
          "output_type": "stream",
          "text": [
            "[[2.68723350e-04 2.25369968e-05 1.18624142e-04 9.08877794e-03\n",
            "  9.25167561e-01 1.39150233e-03 1.79003067e-02 8.49091884e-06\n",
            "  1.19001195e-02 1.87199603e-05 3.41146179e-02]]\n"
          ]
        },
        {
          "name": "stderr",
          "output_type": "stream",
          "text": [
            "\n",
            "\n",
            "tqdm() Progress Bar Segments: 400it [03:30,  1.96it/s]\u001b[A\u001b[A"
          ]
        },
        {
          "name": "stdout",
          "output_type": "stream",
          "text": [
            "[[0.00132562 0.0005129  0.0004459  0.01115642 0.44573548 0.00278927\n",
            "  0.04834197 0.00048644 0.2937334  0.00058051 0.19489206]]\n"
          ]
        },
        {
          "name": "stderr",
          "output_type": "stream",
          "text": [
            "\n",
            "\n",
            "tqdm() Progress Bar Segments: 401it [03:31,  1.89it/s]\u001b[A\u001b[A"
          ]
        },
        {
          "name": "stdout",
          "output_type": "stream",
          "text": [
            "[[3.74607509e-03 5.00210747e-03 2.87067069e-05 4.67581965e-04\n",
            "  1.04303546e-02 1.05682835e-01 1.94792199e-04 8.55767965e-01\n",
            "  3.69947258e-04 1.69306565e-02 1.37903343e-03]]\n"
          ]
        },
        {
          "name": "stderr",
          "output_type": "stream",
          "text": [
            "\n",
            "\n",
            "tqdm() Progress Bar Segments: 402it [03:31,  1.91it/s]\u001b[A\u001b[A"
          ]
        },
        {
          "name": "stdout",
          "output_type": "stream",
          "text": [
            "[[0.00548606 0.27140173 0.00197529 0.00228465 0.11866443 0.01513554\n",
            "  0.0016806  0.0516949  0.03108031 0.00069736 0.49989918]]\n"
          ]
        },
        {
          "name": "stderr",
          "output_type": "stream",
          "text": [
            "\n",
            "\n",
            "tqdm() Progress Bar Segments: 403it [03:32,  1.90it/s]\u001b[A\u001b[A"
          ]
        },
        {
          "name": "stdout",
          "output_type": "stream",
          "text": [
            "[[3.9409134e-03 3.3792906e-02 5.4024036e-05 2.1469593e-03 4.7096838e-03\n",
            "  4.0116927e-01 2.1883316e-02 4.9810687e-01 6.0882280e-04 3.3383749e-02\n",
            "  2.0344330e-04]]\n"
          ]
        },
        {
          "name": "stderr",
          "output_type": "stream",
          "text": [
            "\n",
            "\n",
            "tqdm() Progress Bar Segments: 404it [03:32,  1.90it/s]\u001b[A\u001b[A"
          ]
        },
        {
          "name": "stdout",
          "output_type": "stream",
          "text": [
            "[[1.6505808e-05 4.3639916e-06 7.2013900e-06 5.6203008e-03 9.8676234e-01\n",
            "  8.6266868e-05 4.4821934e-03 1.1639104e-06 2.6927486e-03 8.6121318e-06\n",
            "  3.1835036e-04]]\n"
          ]
        },
        {
          "name": "stderr",
          "output_type": "stream",
          "text": [
            "\n",
            "\n",
            "tqdm() Progress Bar Segments: 405it [03:33,  1.91it/s]\u001b[A\u001b[A"
          ]
        },
        {
          "name": "stdout",
          "output_type": "stream",
          "text": [
            "[[1.8746918e-03 6.1726809e-05 4.9968378e-04 9.0946712e-02 7.8720641e-01\n",
            "  4.9321442e-03 2.9669926e-02 4.3877521e-05 4.2291742e-02 2.2230629e-04\n",
            "  4.2250741e-02]]\n"
          ]
        },
        {
          "name": "stderr",
          "output_type": "stream",
          "text": [
            "\n",
            "\n",
            "tqdm() Progress Bar Segments: 406it [03:33,  1.91it/s]\u001b[A\u001b[A"
          ]
        },
        {
          "name": "stdout",
          "output_type": "stream",
          "text": [
            "[[1.1678725e-05 9.0452596e-07 2.8155421e-06 6.1503164e-03 9.7794479e-01\n",
            "  1.7002041e-05 4.4458560e-04 4.2704619e-07 9.2566200e-03 2.7992262e-06\n",
            "  6.1680609e-03]]\n"
          ]
        },
        {
          "name": "stderr",
          "output_type": "stream",
          "text": [
            "\n",
            "\n",
            "tqdm() Progress Bar Segments: 407it [03:34,  1.87it/s]\u001b[A\u001b[A"
          ]
        },
        {
          "name": "stdout",
          "output_type": "stream",
          "text": [
            "[[4.3554343e-03 4.4659700e-04 1.8939733e-03 4.4717621e-02 4.1727921e-01\n",
            "  2.8491465e-02 2.3963997e-01 1.6638260e-04 9.0993419e-02 1.1307793e-03\n",
            "  1.7088519e-01]]\n"
          ]
        },
        {
          "name": "stderr",
          "output_type": "stream",
          "text": [
            "\n",
            "\n",
            "tqdm() Progress Bar Segments: 408it [03:34,  1.88it/s]\u001b[A\u001b[A"
          ]
        },
        {
          "name": "stdout",
          "output_type": "stream",
          "text": [
            "[[6.0139773e-03 1.4969717e-04 1.0751750e-03 9.1384470e-01 4.5926768e-02\n",
            "  1.5810282e-03 2.8577643e-03 1.1851137e-04 1.1949778e-02 7.2486466e-04\n",
            "  1.5757779e-02]]\n"
          ]
        },
        {
          "name": "stderr",
          "output_type": "stream",
          "text": [
            "\n",
            "\n",
            "tqdm() Progress Bar Segments: 409it [03:35,  1.89it/s]\u001b[A\u001b[A"
          ]
        },
        {
          "name": "stdout",
          "output_type": "stream",
          "text": [
            "[[6.6364110e-03 1.3869999e-02 3.6557796e-04 8.1993610e-04 1.8986968e-02\n",
            "  7.7740312e-02 3.3511585e-03 1.0378614e-02 8.1699774e-02 6.1324023e-04\n",
            "  7.8553802e-01]]\n"
          ]
        },
        {
          "name": "stderr",
          "output_type": "stream",
          "text": [
            "\n",
            "\n",
            "tqdm() Progress Bar Segments: 410it [03:36,  1.86it/s]\u001b[A\u001b[A"
          ]
        },
        {
          "name": "stdout",
          "output_type": "stream",
          "text": [
            "[[6.01356803e-03 1.04323939e-04 7.81405717e-04 1.43990209e-02\n",
            "  2.76185304e-01 1.73227675e-02 7.73916394e-03 1.40934335e-05\n",
            "  2.39285193e-02 6.94366245e-05 6.53442442e-01]]\n"
          ]
        },
        {
          "name": "stderr",
          "output_type": "stream",
          "text": [
            "\n",
            "\n",
            "tqdm() Progress Bar Segments: 411it [03:36,  1.80it/s]\u001b[A\u001b[A"
          ]
        },
        {
          "name": "stdout",
          "output_type": "stream",
          "text": [
            "[[3.2988004e-03 1.2747169e-04 8.9113542e-04 8.6701773e-02 7.3443484e-01\n",
            "  3.7709880e-03 2.4494834e-02 8.1082675e-05 3.6105212e-02 2.0455282e-04\n",
            "  1.0988931e-01]]\n"
          ]
        },
        {
          "name": "stderr",
          "output_type": "stream",
          "text": [
            "\n",
            "\n",
            "tqdm() Progress Bar Segments: 412it [03:37,  1.83it/s]\u001b[A\u001b[A"
          ]
        },
        {
          "name": "stdout",
          "output_type": "stream",
          "text": [
            "[[9.0019003e-04 2.8869224e-04 3.3604680e-05 3.1453432e-04 4.5667118e-03\n",
            "  2.1992174e-03 1.5431964e-04 2.3862092e-04 6.2381361e-02 5.8293437e-05\n",
            "  9.2886442e-01]]\n"
          ]
        },
        {
          "name": "stderr",
          "output_type": "stream",
          "text": [
            "\n",
            "\n",
            "tqdm() Progress Bar Segments: 413it [03:37,  1.85it/s]\u001b[A\u001b[A"
          ]
        },
        {
          "name": "stdout",
          "output_type": "stream",
          "text": [
            "[[1.7955672e-03 3.3853672e-04 5.7784450e-04 5.6015211e-03 8.4950894e-01\n",
            "  4.2067010e-02 2.7139666e-02 4.6083205e-05 2.8476687e-02 2.4729109e-04\n",
            "  4.4200763e-02]]\n"
          ]
        },
        {
          "name": "stderr",
          "output_type": "stream",
          "text": [
            "\n",
            "\n",
            "tqdm() Progress Bar Segments: 414it [03:38,  1.87it/s]\u001b[A\u001b[A"
          ]
        },
        {
          "name": "stdout",
          "output_type": "stream",
          "text": [
            "[[4.2744502e-03 4.2220815e-03 1.2331294e-04 2.8597236e-05 4.0576728e-03\n",
            "  5.5126134e-02 5.5937198e-05 6.4794725e-04 3.4592070e-03 3.9136616e-05\n",
            "  9.2796552e-01]]\n"
          ]
        },
        {
          "name": "stderr",
          "output_type": "stream",
          "text": [
            "\n",
            "\n",
            "tqdm() Progress Bar Segments: 415it [03:38,  1.89it/s]\u001b[A\u001b[A"
          ]
        },
        {
          "name": "stdout",
          "output_type": "stream",
          "text": [
            "[[8.1576640e-05 9.9140143e-06 1.6532445e-05 1.0388481e-02 9.7404194e-01\n",
            "  6.1437086e-04 7.4318046e-04 2.2132342e-06 8.3574159e-03 1.1845804e-05\n",
            "  5.7324758e-03]]\n"
          ]
        },
        {
          "name": "stderr",
          "output_type": "stream",
          "text": [
            "\n",
            "\n",
            "tqdm() Progress Bar Segments: 416it [03:39,  1.89it/s]\u001b[A\u001b[A"
          ]
        },
        {
          "name": "stdout",
          "output_type": "stream",
          "text": [
            "[[0.00641159 0.24327888 0.00282515 0.00048468 0.35090923 0.3357989\n",
            "  0.00153305 0.05209928 0.00036357 0.0020546  0.0042412 ]]\n"
          ]
        },
        {
          "name": "stderr",
          "output_type": "stream",
          "text": [
            "\n",
            "\n",
            "tqdm() Progress Bar Segments: 417it [03:39,  1.89it/s]\u001b[A\u001b[A"
          ]
        },
        {
          "name": "stdout",
          "output_type": "stream",
          "text": [
            "[[1.5262059e-03 2.1839458e-04 7.1506866e-04 1.5556888e-01 4.4298142e-01\n",
            "  5.1579722e-03 2.7000955e-01 1.2916246e-04 9.2225857e-02 4.3853573e-03\n",
            "  2.7082138e-02]]\n"
          ]
        },
        {
          "name": "stderr",
          "output_type": "stream",
          "text": [
            "\n",
            "\n",
            "tqdm() Progress Bar Segments: 418it [03:40,  1.83it/s]\u001b[A\u001b[A"
          ]
        },
        {
          "name": "stdout",
          "output_type": "stream",
          "text": [
            "[[3.6076923e-05 8.2437491e-06 5.0964004e-06 1.3082013e-03 9.0297794e-01\n",
            "  1.1511951e-04 9.8573864e-03 2.4896876e-06 8.4043436e-02 4.9894097e-05\n",
            "  1.5961460e-03]]\n"
          ]
        },
        {
          "name": "stderr",
          "output_type": "stream",
          "text": [
            "\n",
            "\n",
            "tqdm() Progress Bar Segments: 419it [03:40,  1.86it/s]\u001b[A\u001b[A"
          ]
        },
        {
          "name": "stdout",
          "output_type": "stream",
          "text": [
            "[[9.9369427e-05 1.3798848e-05 5.3170010e-05 6.4144419e-03 9.6301597e-01\n",
            "  6.6135847e-04 1.9390965e-02 4.4223552e-06 7.6396186e-03 6.6274908e-05\n",
            "  2.6405691e-03]]\n"
          ]
        },
        {
          "name": "stderr",
          "output_type": "stream",
          "text": [
            "\n",
            "\n",
            "tqdm() Progress Bar Segments: 420it [03:41,  1.88it/s]\u001b[A\u001b[A"
          ]
        },
        {
          "name": "stdout",
          "output_type": "stream",
          "text": [
            "[[7.01987767e-04 1.57283081e-04 3.18521808e-04 1.01406276e-02\n",
            "  9.46310818e-01 4.06979164e-03 6.61713397e-03 2.21654263e-05\n",
            "  1.01005435e-02 7.06367937e-05 2.14905329e-02]]\n"
          ]
        },
        {
          "name": "stderr",
          "output_type": "stream",
          "text": [
            "\n",
            "\n",
            "tqdm() Progress Bar Segments: 421it [03:41,  1.90it/s]\u001b[A\u001b[A"
          ]
        },
        {
          "name": "stdout",
          "output_type": "stream",
          "text": [
            "[[8.6178462e-04 1.8986267e-04 1.3445970e-04 8.2795350e-03 1.4269449e-01\n",
            "  5.3311002e-02 3.9862183e-01 6.4426026e-04 3.7088111e-01 1.5840776e-02\n",
            "  8.5409386e-03]]\n"
          ]
        },
        {
          "name": "stderr",
          "output_type": "stream",
          "text": [
            "\n",
            "\n",
            "tqdm() Progress Bar Segments: 422it [03:42,  1.90it/s]\u001b[A\u001b[A"
          ]
        },
        {
          "name": "stdout",
          "output_type": "stream",
          "text": [
            "[[2.6542362e-04 3.7566890e-05 1.2866360e-04 1.4102135e-03 9.0470749e-01\n",
            "  1.0318627e-03 1.1573211e-02 1.1284446e-05 1.6997198e-02 3.8466089e-05\n",
            "  6.3798606e-02]]\n"
          ]
        },
        {
          "name": "stderr",
          "output_type": "stream",
          "text": [
            "\n",
            "\n",
            "tqdm() Progress Bar Segments: 423it [03:42,  1.90it/s]\u001b[A\u001b[A"
          ]
        },
        {
          "name": "stdout",
          "output_type": "stream",
          "text": [
            "[[2.45593973e-02 2.39533861e-03 1.29455457e-05 1.53507935e-04\n",
            "  9.03152802e-04 3.81257874e-03 1.20079436e-04 9.65769470e-01\n",
            "  8.96279525e-05 5.13030209e-05 2.13259342e-03]]\n"
          ]
        },
        {
          "name": "stderr",
          "output_type": "stream",
          "text": [
            "\n",
            "\n",
            "tqdm() Progress Bar Segments: 424it [03:43,  1.87it/s]\u001b[A\u001b[A"
          ]
        },
        {
          "name": "stdout",
          "output_type": "stream",
          "text": [
            "[[1.0692134e-03 2.3530010e-05 3.2239236e-04 1.8075986e-01 7.3945594e-01\n",
            "  7.8164920e-04 1.5213938e-02 2.2991515e-05 3.0322589e-02 1.3634414e-04\n",
            "  3.1891476e-02]]\n"
          ]
        },
        {
          "name": "stderr",
          "output_type": "stream",
          "text": [
            "\n",
            "\n",
            "tqdm() Progress Bar Segments: 425it [03:44,  1.89it/s]\u001b[A\u001b[A"
          ]
        },
        {
          "name": "stdout",
          "output_type": "stream",
          "text": [
            "[[0.0080858  0.00128557 0.00230841 0.02920888 0.6004485  0.12833667\n",
            "  0.08570526 0.00063918 0.0652242  0.00144979 0.07730773]]\n"
          ]
        },
        {
          "name": "stderr",
          "output_type": "stream",
          "text": [
            "\n",
            "\n",
            "tqdm() Progress Bar Segments: 426it [03:44,  1.90it/s]\u001b[A\u001b[A"
          ]
        },
        {
          "name": "stdout",
          "output_type": "stream",
          "text": [
            "[[1.1764981e-03 1.5177793e-04 4.4051665e-04 1.2937241e-02 6.7102873e-01\n",
            "  3.7747743e-03 1.1899686e-01 9.3864248e-05 1.6954643e-01 8.3149521e-04\n",
            "  2.1021849e-02]]\n"
          ]
        },
        {
          "name": "stderr",
          "output_type": "stream",
          "text": [
            "\n",
            "\n",
            "tqdm() Progress Bar Segments: 427it [03:45,  1.91it/s]\u001b[A\u001b[A"
          ]
        },
        {
          "name": "stdout",
          "output_type": "stream",
          "text": [
            "[[1.4753043e-04 7.1382738e-06 8.0454454e-05 1.3818711e-02 9.3425339e-01\n",
            "  7.2840747e-04 4.4030093e-02 3.1136785e-06 4.4268458e-03 4.5595225e-05\n",
            "  2.4587186e-03]]\n"
          ]
        },
        {
          "name": "stderr",
          "output_type": "stream",
          "text": [
            "\n",
            "\n",
            "tqdm() Progress Bar Segments: 428it [03:45,  1.92it/s]\u001b[A\u001b[A"
          ]
        },
        {
          "name": "stdout",
          "output_type": "stream",
          "text": [
            "[[4.5736977e-03 1.0145630e-02 6.4505416e-04 1.8143714e-03 5.8425132e-02\n",
            "  1.2358191e-02 1.7705459e-02 8.1414776e-03 1.0533504e-01 3.8163757e-04\n",
            "  7.8047431e-01]]\n"
          ]
        },
        {
          "name": "stderr",
          "output_type": "stream",
          "text": [
            "\n",
            "\n",
            "tqdm() Progress Bar Segments: 429it [03:46,  1.93it/s]\u001b[A\u001b[A"
          ]
        },
        {
          "name": "stdout",
          "output_type": "stream",
          "text": [
            "[[7.3463963e-03 1.6629652e-04 1.0188714e-03 8.8138014e-01 3.5472803e-02\n",
            "  3.9638812e-03 2.4497975e-02 2.1651460e-04 2.0187683e-02 2.3985335e-03\n",
            "  2.3350919e-02]]\n"
          ]
        },
        {
          "name": "stderr",
          "output_type": "stream",
          "text": [
            "\n",
            "\n",
            "tqdm() Progress Bar Segments: 430it [03:46,  1.94it/s]\u001b[A\u001b[A"
          ]
        },
        {
          "name": "stdout",
          "output_type": "stream",
          "text": [
            "[[0.00768732 0.00443427 0.00086243 0.0022445  0.08361447 0.03318653\n",
            "  0.03555995 0.00555498 0.23469383 0.00155496 0.5906067 ]]\n"
          ]
        },
        {
          "name": "stderr",
          "output_type": "stream",
          "text": [
            "\n",
            "\n",
            "tqdm() Progress Bar Segments: 431it [03:47,  1.94it/s]\u001b[A\u001b[A"
          ]
        },
        {
          "name": "stdout",
          "output_type": "stream",
          "text": [
            "[[1.1631390e-02 5.4806393e-01 1.6434800e-03 3.9116267e-04 1.2574409e-01\n",
            "  1.4528181e-01 4.2462879e-04 1.4208055e-01 2.6960936e-04 2.1455020e-03\n",
            "  2.2323819e-02]]\n"
          ]
        },
        {
          "name": "stderr",
          "output_type": "stream",
          "text": [
            "\n",
            "\n",
            "tqdm() Progress Bar Segments: 432it [03:47,  1.93it/s]\u001b[A\u001b[A"
          ]
        },
        {
          "name": "stdout",
          "output_type": "stream",
          "text": [
            "[[1.6670423e-03 4.2379983e-05 3.7474040e-04 2.5832919e-02 8.5307401e-01\n",
            "  2.8616667e-03 1.6861537e-02 2.7018370e-05 1.0442501e-02 7.3516494e-05\n",
            "  8.8742673e-02]]\n"
          ]
        },
        {
          "name": "stderr",
          "output_type": "stream",
          "text": [
            "\n",
            "\n",
            "tqdm() Progress Bar Segments: 433it [03:48,  1.90it/s]\u001b[A\u001b[A"
          ]
        },
        {
          "name": "stdout",
          "output_type": "stream",
          "text": [
            "[[2.6275639e-03 1.3714907e-04 5.2008749e-04 8.7527305e-01 9.9526346e-02\n",
            "  1.3291599e-03 1.7160948e-03 6.1529252e-05 8.7120021e-03 3.3837347e-04\n",
            "  9.7586410e-03]]\n"
          ]
        },
        {
          "name": "stderr",
          "output_type": "stream",
          "text": [
            "\n",
            "\n",
            "tqdm() Progress Bar Segments: 434it [03:48,  1.90it/s]\u001b[A\u001b[A"
          ]
        },
        {
          "name": "stdout",
          "output_type": "stream",
          "text": [
            "[[3.6281098e-03 4.5218531e-04 6.0138217e-04 5.6256698e-03 1.8959464e-01\n",
            "  1.4981527e-02 2.6907997e-02 2.1655201e-04 1.8050489e-01 4.0015881e-04\n",
            "  5.7708693e-01]]\n"
          ]
        },
        {
          "name": "stderr",
          "output_type": "stream",
          "text": [
            "\n",
            "\n",
            "tqdm() Progress Bar Segments: 435it [03:49,  1.87it/s]\u001b[A\u001b[A"
          ]
        },
        {
          "name": "stdout",
          "output_type": "stream",
          "text": [
            "[[1.2549464e-05 3.4971454e-06 8.6645778e-06 7.4924919e-04 9.7054189e-01\n",
            "  4.5478922e-05 1.0734418e-02 1.4974897e-06 1.6609121e-02 8.8471488e-06\n",
            "  1.2848207e-03]]\n"
          ]
        },
        {
          "name": "stderr",
          "output_type": "stream",
          "text": [
            "\n",
            "\n",
            "tqdm() Progress Bar Segments: 436it [03:49,  1.82it/s]\u001b[A\u001b[A"
          ]
        },
        {
          "name": "stdout",
          "output_type": "stream",
          "text": [
            "[[0.0251413  0.03949408 0.00785027 0.01228359 0.21592705 0.07647546\n",
            "  0.03825605 0.04508518 0.28714666 0.04715316 0.20518719]]\n"
          ]
        },
        {
          "name": "stderr",
          "output_type": "stream",
          "text": [
            "\n",
            "\n",
            "tqdm() Progress Bar Segments: 437it [03:50,  1.86it/s]\u001b[A\u001b[A"
          ]
        },
        {
          "name": "stdout",
          "output_type": "stream",
          "text": [
            "[[0.00335843 0.00160011 0.00063095 0.03953366 0.42486945 0.01979728\n",
            "  0.05467312 0.00051007 0.41382715 0.00563667 0.03556314]]\n"
          ]
        },
        {
          "name": "stderr",
          "output_type": "stream",
          "text": [
            "\n",
            "\n",
            "tqdm() Progress Bar Segments: 438it [03:50,  1.87it/s]\u001b[A\u001b[A"
          ]
        },
        {
          "name": "stdout",
          "output_type": "stream",
          "text": [
            "[[1.5892930e-04 5.3028059e-05 2.1301990e-05 5.6271809e-03 7.0140386e-01\n",
            "  3.9807646e-04 9.7518284e-03 1.7340279e-05 2.7892068e-01 4.0505096e-04\n",
            "  3.2426566e-03]]\n"
          ]
        },
        {
          "name": "stderr",
          "output_type": "stream",
          "text": [
            "\n",
            "\n",
            "tqdm() Progress Bar Segments: 439it [03:51,  1.89it/s]\u001b[A\u001b[A"
          ]
        },
        {
          "name": "stdout",
          "output_type": "stream",
          "text": [
            "[[1.1255897e-03 2.3631779e-04 2.7732464e-04 3.4450922e-02 5.0124854e-01\n",
            "  6.7651323e-03 5.4864425e-02 2.2624110e-04 3.5270527e-01 7.4281596e-04\n",
            "  4.7357488e-02]]\n"
          ]
        },
        {
          "name": "stderr",
          "output_type": "stream",
          "text": [
            "\n",
            "\n",
            "tqdm() Progress Bar Segments: 440it [03:51,  1.90it/s]\u001b[A\u001b[A"
          ]
        },
        {
          "name": "stdout",
          "output_type": "stream",
          "text": [
            "[[0.00625605 0.0047509  0.00063567 0.00111801 0.06454122 0.02686372\n",
            "  0.08252854 0.00548866 0.23233338 0.00068583 0.57479805]]\n"
          ]
        },
        {
          "name": "stderr",
          "output_type": "stream",
          "text": [
            "\n",
            "\n",
            "tqdm() Progress Bar Segments: 441it [03:52,  1.90it/s]\u001b[A\u001b[A"
          ]
        },
        {
          "name": "stdout",
          "output_type": "stream",
          "text": [
            "[[5.1478517e-05 1.5923335e-05 1.5736350e-05 8.8752311e-04 9.6294677e-01\n",
            "  6.6931878e-04 1.0585815e-02 4.4286967e-06 2.1747358e-02 4.7287976e-05\n",
            "  3.0284082e-03]]\n"
          ]
        },
        {
          "name": "stderr",
          "output_type": "stream",
          "text": [
            "\n",
            "\n",
            "tqdm() Progress Bar Segments: 442it [03:53,  1.90it/s]\u001b[A\u001b[A"
          ]
        },
        {
          "name": "stdout",
          "output_type": "stream",
          "text": [
            "[[0.00797146 0.08295913 0.01245252 0.00127123 0.56368643 0.14858276\n",
            "  0.01942477 0.01937342 0.02576791 0.00267319 0.11583719]]\n"
          ]
        },
        {
          "name": "stderr",
          "output_type": "stream",
          "text": [
            "\n",
            "\n",
            "tqdm() Progress Bar Segments: 443it [03:53,  1.90it/s]\u001b[A\u001b[A"
          ]
        },
        {
          "name": "stdout",
          "output_type": "stream",
          "text": [
            "[[1.0516758e-03 1.5490281e-02 3.2625256e-05 1.0899589e-04 2.7539693e-03\n",
            "  9.5527053e-01 3.4423962e-03 2.0383233e-02 5.5468694e-04 5.4337818e-04\n",
            "  3.6838528e-04]]\n"
          ]
        },
        {
          "name": "stderr",
          "output_type": "stream",
          "text": [
            "\n",
            "\n",
            "tqdm() Progress Bar Segments: 444it [03:54,  1.84it/s]\u001b[A\u001b[A"
          ]
        },
        {
          "name": "stdout",
          "output_type": "stream",
          "text": [
            "[[1.4572561e-04 1.3463150e-05 6.0393726e-05 3.1713415e-03 9.1187727e-01\n",
            "  5.2970165e-04 2.1478660e-02 7.4036138e-06 4.5780998e-02 3.7190111e-05\n",
            "  1.6897703e-02]]\n"
          ]
        },
        {
          "name": "stderr",
          "output_type": "stream",
          "text": [
            "\n",
            "\n",
            "tqdm() Progress Bar Segments: 445it [03:54,  1.86it/s]\u001b[A\u001b[A"
          ]
        },
        {
          "name": "stdout",
          "output_type": "stream",
          "text": [
            "[[2.9558086e-04 2.3558558e-05 1.0212629e-05 1.0288596e-05 7.4827294e-03\n",
            "  5.3010753e-04 1.6655164e-03 1.0079142e-05 2.9534346e-03 1.9637009e-06\n",
            "  9.8701650e-01]]\n"
          ]
        },
        {
          "name": "stderr",
          "output_type": "stream",
          "text": [
            "\n",
            "\n",
            "tqdm() Progress Bar Segments: 446it [03:55,  1.89it/s]\u001b[A\u001b[A"
          ]
        },
        {
          "name": "stdout",
          "output_type": "stream",
          "text": [
            "[[8.6691856e-05 2.4447478e-05 4.5498527e-05 6.4444013e-02 9.3052310e-01\n",
            "  4.5667350e-04 1.7610596e-03 2.8022396e-06 1.7287807e-03 3.0072604e-05\n",
            "  8.9679880e-04]]\n"
          ]
        },
        {
          "name": "stderr",
          "output_type": "stream",
          "text": [
            "\n",
            "\n",
            "tqdm() Progress Bar Segments: 447it [03:55,  1.91it/s]\u001b[A\u001b[A"
          ]
        },
        {
          "name": "stdout",
          "output_type": "stream",
          "text": [
            "[[0.50299275 0.0232563  0.00143056 0.00116832 0.04948448 0.03665872\n",
            "  0.00346496 0.11652099 0.00856081 0.00369789 0.2527642 ]]\n"
          ]
        },
        {
          "name": "stderr",
          "output_type": "stream",
          "text": [
            "\n",
            "\n",
            "tqdm() Progress Bar Segments: 448it [03:56,  1.91it/s]\u001b[A\u001b[A"
          ]
        },
        {
          "name": "stdout",
          "output_type": "stream",
          "text": [
            "[[2.1645713e-03 6.5898761e-04 4.0966980e-04 1.3376315e-03 2.6126355e-01\n",
            "  1.5886635e-02 3.0025212e-02 9.4373658e-04 5.3167796e-01 1.1234222e-03\n",
            "  1.5450867e-01]]\n"
          ]
        },
        {
          "name": "stderr",
          "output_type": "stream",
          "text": [
            "\n",
            "\n",
            "tqdm() Progress Bar Segments: 449it [03:56,  1.85it/s]\u001b[A\u001b[A"
          ]
        },
        {
          "name": "stdout",
          "output_type": "stream",
          "text": [
            "[[7.12032244e-03 9.57644265e-03 2.96088365e-05 1.01721336e-04\n",
            "  1.62305497e-02 4.55706745e-01 3.76362540e-03 5.01822233e-01\n",
            "  1.05118801e-04 5.13546448e-03 4.08285443e-04]]\n"
          ]
        },
        {
          "name": "stderr",
          "output_type": "stream",
          "text": [
            "\n",
            "\n",
            "tqdm() Progress Bar Segments: 450it [03:57,  1.87it/s]\u001b[A\u001b[A"
          ]
        },
        {
          "name": "stdout",
          "output_type": "stream",
          "text": [
            "[[1.0082921e-02 1.4846688e-04 1.7602594e-03 6.3708949e-01 2.6688683e-01\n",
            "  3.5829192e-03 1.7489629e-02 1.0659802e-04 2.5167609e-02 1.3724415e-03\n",
            "  3.6312934e-02]]\n"
          ]
        },
        {
          "name": "stderr",
          "output_type": "stream",
          "text": [
            "\n",
            "\n",
            "tqdm() Progress Bar Segments: 451it [03:57,  1.90it/s]\u001b[A\u001b[A"
          ]
        },
        {
          "name": "stdout",
          "output_type": "stream",
          "text": [
            "[[7.2059357e-03 1.0062000e-02 2.3127033e-05 1.3734990e-04 8.2040444e-04\n",
            "  9.3413293e-01 1.2759337e-02 3.4137540e-02 8.9795962e-05 4.3850185e-04\n",
            "  1.9312481e-04]]\n"
          ]
        },
        {
          "name": "stderr",
          "output_type": "stream",
          "text": [
            "\n",
            "\n",
            "tqdm() Progress Bar Segments: 452it [03:58,  1.92it/s]\u001b[A\u001b[A"
          ]
        },
        {
          "name": "stdout",
          "output_type": "stream",
          "text": [
            "[[2.8508098e-03 5.9148647e-06 1.8766690e-04 9.2399371e-01 7.0169322e-02\n",
            "  1.1740917e-04 4.8476428e-05 2.1328610e-06 8.8587357e-04 2.2395036e-06\n",
            "  1.7365300e-03]]\n"
          ]
        },
        {
          "name": "stderr",
          "output_type": "stream",
          "text": [
            "\n",
            "\n",
            "tqdm() Progress Bar Segments: 453it [03:58,  1.91it/s]\u001b[A\u001b[A"
          ]
        },
        {
          "name": "stdout",
          "output_type": "stream",
          "text": [
            "[[3.31006449e-04 1.45491085e-05 2.19542490e-04 1.63590889e-02\n",
            "  9.66334879e-01 6.56569551e-04 3.51813110e-03 3.24926600e-06\n",
            "  1.92160648e-03 9.75819239e-06 1.06317466e-02]]\n"
          ]
        },
        {
          "name": "stderr",
          "output_type": "stream",
          "text": [
            "\n",
            "\n",
            "tqdm() Progress Bar Segments: 454it [03:59,  1.92it/s]\u001b[A\u001b[A"
          ]
        },
        {
          "name": "stdout",
          "output_type": "stream",
          "text": [
            "[[2.2672426e-03 1.1180319e-03 4.0015393e-06 3.3593984e-04 1.1164044e-03\n",
            "  1.5523262e-01 2.6901742e-03 8.3154124e-01 1.3981764e-03 3.9222236e-03\n",
            "  3.7396216e-04]]\n"
          ]
        },
        {
          "name": "stderr",
          "output_type": "stream",
          "text": [
            "\n",
            "\n",
            "tqdm() Progress Bar Segments: 455it [03:59,  1.93it/s]\u001b[A\u001b[A"
          ]
        },
        {
          "name": "stdout",
          "output_type": "stream",
          "text": [
            "[[7.24376241e-06 1.87923922e-06 1.04040282e-06 8.44116730e-04\n",
            "  9.24322546e-01 3.03981869e-05 1.80735532e-03 4.82833855e-07\n",
            "  7.21065179e-02 1.16691235e-05 8.66654795e-04]]\n"
          ]
        },
        {
          "name": "stderr",
          "output_type": "stream",
          "text": [
            "\n",
            "\n",
            "tqdm() Progress Bar Segments: 456it [04:00,  1.93it/s]\u001b[A\u001b[A"
          ]
        },
        {
          "name": "stdout",
          "output_type": "stream",
          "text": [
            "[[7.2020985e-04 1.9606734e-04 1.5872082e-04 5.8131129e-03 2.8916046e-01\n",
            "  2.9087777e-03 7.9295635e-02 3.4867422e-04 6.1295247e-01 1.9356164e-03\n",
            "  6.5102009e-03]]\n"
          ]
        },
        {
          "name": "stderr",
          "output_type": "stream",
          "text": [
            "\n",
            "\n",
            "tqdm() Progress Bar Segments: 457it [04:00,  1.93it/s]\u001b[A\u001b[A"
          ]
        },
        {
          "name": "stdout",
          "output_type": "stream",
          "text": [
            "[[1.4909046e-05 3.9179968e-06 7.5645844e-06 7.9606683e-04 9.9264866e-01\n",
            "  1.0982495e-04 1.6787673e-03 4.2070400e-07 2.7019023e-03 4.5984202e-06\n",
            "  2.0333154e-03]]\n"
          ]
        },
        {
          "name": "stderr",
          "output_type": "stream",
          "text": [
            "\n",
            "\n",
            "tqdm() Progress Bar Segments: 458it [04:01,  1.94it/s]\u001b[A\u001b[A"
          ]
        },
        {
          "name": "stdout",
          "output_type": "stream",
          "text": [
            "[[1.18853105e-02 4.62324213e-04 2.13539158e-03 4.05226946e-01\n",
            "  3.82630199e-01 6.47977367e-03 3.62162129e-03 1.24565020e-04\n",
            "  4.25018966e-02 2.23245166e-04 1.44708723e-01]]\n"
          ]
        },
        {
          "name": "stderr",
          "output_type": "stream",
          "text": [
            "\n",
            "\n",
            "tqdm() Progress Bar Segments: 459it [04:01,  1.95it/s]\u001b[A\u001b[A"
          ]
        },
        {
          "name": "stdout",
          "output_type": "stream",
          "text": [
            "[[1.15214253e-03 1.85086697e-04 2.93149089e-04 3.42478193e-02\n",
            "  9.12895560e-01 4.40256577e-03 1.12090185e-02 4.42599085e-05\n",
            "  2.33929232e-02 2.23271214e-04 1.19542163e-02]]\n"
          ]
        },
        {
          "name": "stderr",
          "output_type": "stream",
          "text": [
            "\n",
            "\n",
            "tqdm() Progress Bar Segments: 460it [04:02,  1.96it/s]\u001b[A\u001b[A"
          ]
        },
        {
          "name": "stdout",
          "output_type": "stream",
          "text": [
            "[[4.2848298e-03 7.9104392e-04 5.4472563e-04 4.4805728e-04 3.3206057e-02\n",
            "  7.2893151e-03 1.1488773e-02 4.1837560e-04 3.4336027e-02 1.2153313e-04\n",
            "  9.0707129e-01]]\n"
          ]
        },
        {
          "name": "stderr",
          "output_type": "stream",
          "text": [
            "\n",
            "\n",
            "tqdm() Progress Bar Segments: 461it [04:02,  1.96it/s]\u001b[A\u001b[A"
          ]
        },
        {
          "name": "stdout",
          "output_type": "stream",
          "text": [
            "[[5.1070919e-04 5.8022240e-05 3.5813806e-04 4.5408607e-03 8.0030692e-01\n",
            "  9.3598588e-04 4.6617571e-02 4.0936531e-05 8.0703080e-02 5.9901751e-05\n",
            "  6.5867968e-02]]\n"
          ]
        },
        {
          "name": "stderr",
          "output_type": "stream",
          "text": [
            "\n",
            "\n",
            "tqdm() Progress Bar Segments: 462it [04:03,  1.95it/s]\u001b[A\u001b[A"
          ]
        },
        {
          "name": "stdout",
          "output_type": "stream",
          "text": [
            "[[2.3677772e-05 7.0968649e-06 5.8845735e-06 2.2558684e-03 9.1731417e-01\n",
            "  7.6611133e-05 3.2455598e-03 1.6709696e-06 6.7831293e-02 1.2623616e-05\n",
            "  9.2254598e-03]]\n"
          ]
        },
        {
          "name": "stderr",
          "output_type": "stream",
          "text": [
            "\n",
            "\n",
            "tqdm() Progress Bar Segments: 463it [04:03,  1.94it/s]\u001b[A\u001b[A"
          ]
        },
        {
          "name": "stdout",
          "output_type": "stream",
          "text": [
            "[[8.5293657e-05 7.8064904e-06 1.9060013e-05 5.3348951e-03 9.0086180e-01\n",
            "  3.1933739e-04 3.2201407e-03 2.7771657e-06 4.1291252e-02 2.0764761e-05\n",
            "  4.8836932e-02]]\n"
          ]
        },
        {
          "name": "stderr",
          "output_type": "stream",
          "text": [
            "\n",
            "\n",
            "tqdm() Progress Bar Segments: 464it [04:04,  1.94it/s]\u001b[A\u001b[A"
          ]
        },
        {
          "name": "stdout",
          "output_type": "stream",
          "text": [
            "[[0.00333752 0.00079439 0.00085488 0.1378341  0.23646656 0.00777456\n",
            "  0.05528009 0.00146675 0.5171932  0.00830824 0.03068975]]\n"
          ]
        },
        {
          "name": "stderr",
          "output_type": "stream",
          "text": [
            "\n",
            "\n",
            "tqdm() Progress Bar Segments: 465it [04:04,  1.94it/s]\u001b[A\u001b[A"
          ]
        },
        {
          "name": "stdout",
          "output_type": "stream",
          "text": [
            "[[6.7612576e-01 1.1162966e-03 1.0880862e-04 8.1821316e-04 8.7673627e-03\n",
            "  1.3818063e-01 1.3635549e-02 1.5461315e-01 4.9492624e-04 3.0912485e-03\n",
            "  3.0479648e-03]]\n"
          ]
        },
        {
          "name": "stderr",
          "output_type": "stream",
          "text": [
            "\n",
            "\n",
            "tqdm() Progress Bar Segments: 466it [04:05,  1.87it/s]\u001b[A\u001b[A"
          ]
        },
        {
          "name": "stdout",
          "output_type": "stream",
          "text": [
            "[[7.25420890e-03 1.27851657e-04 2.00427067e-03 9.84561592e-02\n",
            "  7.85098195e-01 7.23505719e-03 8.75479542e-03 3.25180663e-05\n",
            "  5.35700191e-03 1.17943084e-04 8.55619460e-02]]\n"
          ]
        },
        {
          "name": "stderr",
          "output_type": "stream",
          "text": [
            "\n",
            "\n",
            "tqdm() Progress Bar Segments: 467it [04:06,  1.89it/s]\u001b[A\u001b[A"
          ]
        },
        {
          "name": "stdout",
          "output_type": "stream",
          "text": [
            "[[1.16346264e-07 9.92902400e-08 1.06597064e-07 9.48635716e-06\n",
            "  9.99794781e-01 9.76674528e-07 6.90227171e-05 5.72377656e-09\n",
            "  6.86097774e-05 2.93177429e-08 5.67658171e-05]]\n"
          ]
        },
        {
          "name": "stderr",
          "output_type": "stream",
          "text": [
            "\n",
            "\n",
            "tqdm() Progress Bar Segments: 468it [04:06,  1.90it/s]\u001b[A\u001b[A"
          ]
        },
        {
          "name": "stdout",
          "output_type": "stream",
          "text": [
            "[[0.03097135 0.08528717 0.01870308 0.00535878 0.29868367 0.03445139\n",
            "  0.00852297 0.02952324 0.032028   0.0025911  0.45387924]]\n"
          ]
        },
        {
          "name": "stderr",
          "output_type": "stream",
          "text": [
            "\n",
            "\n",
            "tqdm() Progress Bar Segments: 469it [04:07,  1.90it/s]\u001b[A\u001b[A"
          ]
        },
        {
          "name": "stdout",
          "output_type": "stream",
          "text": [
            "[[6.6233788e-06 1.1932700e-06 5.6529225e-06 2.9745477e-03 9.9329525e-01\n",
            "  3.0863692e-05 2.7645961e-03 2.9354524e-07 6.8795407e-04 2.0624780e-06\n",
            "  2.3091763e-04]]\n"
          ]
        },
        {
          "name": "stderr",
          "output_type": "stream",
          "text": [
            "\n",
            "\n",
            "tqdm() Progress Bar Segments: 470it [04:07,  1.91it/s]\u001b[A\u001b[A"
          ]
        },
        {
          "name": "stdout",
          "output_type": "stream",
          "text": [
            "[[3.2708363e-03 1.1002350e-04 1.1607827e-04 4.0989713e-04 4.0713046e-03\n",
            "  6.0189329e-03 4.7920004e-04 4.6849440e-05 1.0341343e-02 4.1841653e-05\n",
            "  9.7509366e-01]]\n"
          ]
        },
        {
          "name": "stderr",
          "output_type": "stream",
          "text": [
            "\n",
            "\n",
            "tqdm() Progress Bar Segments: 471it [04:08,  1.91it/s]\u001b[A\u001b[A"
          ]
        },
        {
          "name": "stdout",
          "output_type": "stream",
          "text": [
            "[[2.0496464e-05 9.0797894e-06 5.7390716e-06 8.1864325e-03 9.7311336e-01\n",
            "  1.2774643e-04 2.4492254e-03 1.7286760e-06 1.5144152e-02 3.8802460e-05\n",
            "  9.0305798e-04]]\n"
          ]
        },
        {
          "name": "stderr",
          "output_type": "stream",
          "text": [
            "\n",
            "\n",
            "tqdm() Progress Bar Segments: 472it [04:08,  1.92it/s]\u001b[A\u001b[A"
          ]
        },
        {
          "name": "stdout",
          "output_type": "stream",
          "text": [
            "[[6.3945450e-02 1.8153770e-03 6.2942796e-05 5.3116219e-04 4.0948834e-02\n",
            "  6.3351405e-01 3.8466111e-02 1.7799594e-01 5.5026896e-03 3.5401653e-02\n",
            "  1.8157483e-03]]\n"
          ]
        },
        {
          "name": "stderr",
          "output_type": "stream",
          "text": [
            "\n",
            "\n",
            "tqdm() Progress Bar Segments: 473it [04:09,  1.93it/s]\u001b[A\u001b[A"
          ]
        },
        {
          "name": "stdout",
          "output_type": "stream",
          "text": [
            "[[6.0470859e-03 4.7732305e-04 1.2551926e-03 8.1380932e-03 5.4413295e-01\n",
            "  4.9204558e-02 1.0902768e-01 3.5329707e-04 5.1516686e-02 5.1197904e-04\n",
            "  2.2933516e-01]]\n"
          ]
        },
        {
          "name": "stderr",
          "output_type": "stream",
          "text": [
            "\n",
            "\n",
            "tqdm() Progress Bar Segments: 474it [04:09,  1.86it/s]\u001b[A\u001b[A"
          ]
        },
        {
          "name": "stdout",
          "output_type": "stream",
          "text": [
            "[[3.9370661e-03 8.5874970e-05 7.5344410e-04 3.2438654e-01 6.2322378e-01\n",
            "  4.7790674e-03 1.5194725e-03 2.7332668e-05 4.8779519e-03 3.6318255e-05\n",
            "  3.6373112e-02]]\n"
          ]
        },
        {
          "name": "stderr",
          "output_type": "stream",
          "text": [
            "\n",
            "\n",
            "tqdm() Progress Bar Segments: 475it [04:10,  1.85it/s]\u001b[A\u001b[A"
          ]
        },
        {
          "name": "stdout",
          "output_type": "stream",
          "text": [
            "[[8.2962085e-03 4.1555045e-03 2.8935756e-04 2.2306435e-03 1.4744892e-02\n",
            "  2.9240137e-03 3.6879245e-04 8.7732160e-03 7.2302185e-02 2.3738205e-04\n",
            "  8.8567781e-01]]\n"
          ]
        },
        {
          "name": "stderr",
          "output_type": "stream",
          "text": [
            "\n",
            "\n",
            "tqdm() Progress Bar Segments: 476it [04:10,  1.89it/s]\u001b[A\u001b[A"
          ]
        },
        {
          "name": "stdout",
          "output_type": "stream",
          "text": [
            "[[8.8645256e-06 1.8111995e-06 5.1619900e-06 2.8120994e-03 9.9519759e-01\n",
            "  2.6205675e-05 4.8170271e-04 3.3845393e-07 5.7126686e-04 1.1771222e-06\n",
            "  8.9383463e-04]]\n"
          ]
        },
        {
          "name": "stderr",
          "output_type": "stream",
          "text": [
            "\n",
            "\n",
            "tqdm() Progress Bar Segments: 477it [04:11,  1.90it/s]\u001b[A\u001b[A"
          ]
        },
        {
          "name": "stdout",
          "output_type": "stream",
          "text": [
            "[[6.96779275e-03 2.14061104e-02 2.40427016e-05 1.08850014e-04\n",
            "  7.18683563e-03 8.56449008e-01 5.38492715e-03 1.00369215e-01\n",
            "  9.20750463e-05 1.07288547e-03 9.38365993e-04]]\n"
          ]
        },
        {
          "name": "stderr",
          "output_type": "stream",
          "text": [
            "\n",
            "\n",
            "tqdm() Progress Bar Segments: 478it [04:11,  1.92it/s]\u001b[A\u001b[A"
          ]
        },
        {
          "name": "stdout",
          "output_type": "stream",
          "text": [
            "[[1.79879953e-05 4.11369911e-06 3.53772157e-06 6.27735863e-04\n",
            "  7.78517127e-02 1.20989149e-04 3.16318609e-02 3.40051633e-06\n",
            "  8.87782872e-01 1.21222445e-04 1.83458987e-03]]\n"
          ]
        },
        {
          "name": "stderr",
          "output_type": "stream",
          "text": [
            "\n",
            "\n",
            "tqdm() Progress Bar Segments: 479it [04:12,  1.94it/s]\u001b[A\u001b[A"
          ]
        },
        {
          "name": "stdout",
          "output_type": "stream",
          "text": [
            "[[4.6106060e-03 1.4380454e-04 1.6529498e-03 6.4563520e-02 8.6173326e-01\n",
            "  1.6796751e-02 1.5028980e-02 4.2563144e-05 1.0305602e-02 2.8553439e-04\n",
            "  2.4836348e-02]]\n"
          ]
        },
        {
          "name": "stderr",
          "output_type": "stream",
          "text": [
            "\n",
            "\n",
            "tqdm() Progress Bar Segments: 480it [04:12,  1.93it/s]\u001b[A\u001b[A"
          ]
        },
        {
          "name": "stdout",
          "output_type": "stream",
          "text": [
            "[[5.5859325e-04 7.9260699e-06 9.1508828e-06 2.0987851e-05 1.9171217e-03\n",
            "  2.4837971e-04 5.8160866e-05 2.3450430e-06 2.0810009e-03 1.0328916e-06\n",
            "  9.9509537e-01]]\n"
          ]
        },
        {
          "name": "stderr",
          "output_type": "stream",
          "text": [
            "\n",
            "\n",
            "tqdm() Progress Bar Segments: 481it [04:13,  1.92it/s]\u001b[A\u001b[A"
          ]
        },
        {
          "name": "stdout",
          "output_type": "stream",
          "text": [
            "[[7.1621168e-04 2.6455845e-04 1.5764082e-04 2.7367750e-02 8.5941350e-01\n",
            "  8.6021209e-03 4.3550413e-02 4.1368159e-05 5.2018140e-02 4.1555843e-04\n",
            "  7.4527059e-03]]\n"
          ]
        },
        {
          "name": "stderr",
          "output_type": "stream",
          "text": [
            "\n",
            "\n",
            "tqdm() Progress Bar Segments: 482it [04:13,  1.93it/s]\u001b[A\u001b[A"
          ]
        },
        {
          "name": "stdout",
          "output_type": "stream",
          "text": [
            "[[3.5066690e-02 3.8933348e-02 3.4904908e-05 3.3315868e-05 1.4709138e-03\n",
            "  9.2089981e-01 8.0858148e-04 8.3045702e-04 2.0498737e-04 8.4747054e-04\n",
            "  8.6961250e-04]]\n"
          ]
        },
        {
          "name": "stderr",
          "output_type": "stream",
          "text": [
            "\n",
            "\n",
            "tqdm() Progress Bar Segments: 483it [04:14,  1.91it/s]\u001b[A\u001b[A"
          ]
        },
        {
          "name": "stdout",
          "output_type": "stream",
          "text": [
            "[[4.0867380e-03 5.6448407e-02 8.0888094e-03 5.0947147e-05 8.9561141e-01\n",
            "  1.6861135e-02 1.8181147e-04 9.1813821e-03 1.2139620e-04 8.3862687e-05\n",
            "  9.2839887e-03]]\n"
          ]
        },
        {
          "name": "stderr",
          "output_type": "stream",
          "text": [
            "\n",
            "\n",
            "tqdm() Progress Bar Segments: 484it [04:15,  1.84it/s]\u001b[A\u001b[A"
          ]
        },
        {
          "name": "stdout",
          "output_type": "stream",
          "text": [
            "[[1.0954817e-03 2.9038923e-04 2.7319024e-04 2.0513376e-03 3.3096004e-01\n",
            "  1.1306158e-02 1.5445587e-02 4.0247152e-05 6.2306844e-02 6.6442895e-05\n",
            "  5.7616431e-01]]\n"
          ]
        },
        {
          "name": "stderr",
          "output_type": "stream",
          "text": [
            "\n",
            "\n",
            "tqdm() Progress Bar Segments: 485it [04:15,  1.86it/s]\u001b[A\u001b[A"
          ]
        },
        {
          "name": "stdout",
          "output_type": "stream",
          "text": [
            "[[2.7094811e-04 9.5624870e-05 2.0850995e-05 7.7042892e-04 6.6183619e-03\n",
            "  1.8589749e-03 4.3506245e-03 3.1909247e-05 9.7510725e-01 3.5538895e-03\n",
            "  7.3211822e-03]]\n"
          ]
        },
        {
          "name": "stderr",
          "output_type": "stream",
          "text": [
            "\n",
            "\n",
            "tqdm() Progress Bar Segments: 486it [04:16,  1.87it/s]\u001b[A\u001b[A"
          ]
        },
        {
          "name": "stdout",
          "output_type": "stream",
          "text": [
            "[[1.4240628e-02 7.6137838e-04 3.0731740e-03 6.2811929e-01 1.0732708e-01\n",
            "  1.1508650e-02 3.3092089e-02 4.3111172e-04 5.7480250e-02 3.5764761e-03\n",
            "  1.4038987e-01]]\n"
          ]
        },
        {
          "name": "stderr",
          "output_type": "stream",
          "text": [
            "\n",
            "\n",
            "tqdm() Progress Bar Segments: 487it [04:16,  1.82it/s]\u001b[A\u001b[A"
          ]
        },
        {
          "name": "stdout",
          "output_type": "stream",
          "text": [
            "[[2.2974103e-03 1.6413317e-03 1.5122804e-04 4.3456690e-04 2.1387007e-02\n",
            "  1.1447797e-02 5.1858057e-03 2.1582830e-03 9.4194062e-02 2.5322862e-04\n",
            "  8.6084932e-01]]\n"
          ]
        },
        {
          "name": "stderr",
          "output_type": "stream",
          "text": [
            "\n",
            "\n",
            "tqdm() Progress Bar Segments: 488it [04:17,  1.85it/s]\u001b[A\u001b[A"
          ]
        },
        {
          "name": "stdout",
          "output_type": "stream",
          "text": [
            "[[0.00964568 0.00545369 0.00109348 0.00281493 0.11080122 0.01164552\n",
            "  0.01373333 0.01295412 0.5253876  0.00129641 0.30517408]]\n"
          ]
        },
        {
          "name": "stderr",
          "output_type": "stream",
          "text": [
            "\n",
            "\n",
            "tqdm() Progress Bar Segments: 489it [04:17,  1.86it/s]\u001b[A\u001b[A"
          ]
        },
        {
          "name": "stdout",
          "output_type": "stream",
          "text": [
            "[[2.6415542e-03 3.4302502e-04 2.0376912e-04 4.2694269e-04 3.9547320e-02\n",
            "  3.8459376e-03 1.3560674e-02 7.1045943e-04 1.0779247e-01 2.0440420e-04\n",
            "  8.3072335e-01]]\n"
          ]
        },
        {
          "name": "stderr",
          "output_type": "stream",
          "text": [
            "\n",
            "\n",
            "tqdm() Progress Bar Segments: 490it [04:18,  1.86it/s]\u001b[A\u001b[A"
          ]
        },
        {
          "name": "stdout",
          "output_type": "stream",
          "text": [
            "[[6.2341671e-05 1.9302235e-05 2.6823838e-05 1.1970644e-03 9.7690284e-01\n",
            "  3.2624474e-04 5.1904470e-03 5.3033386e-06 6.4429333e-03 1.1370261e-05\n",
            "  9.8153567e-03]]\n"
          ]
        },
        {
          "name": "stderr",
          "output_type": "stream",
          "text": [
            "\n",
            "\n",
            "tqdm() Progress Bar Segments: 491it [04:18,  1.88it/s]\u001b[A\u001b[A"
          ]
        },
        {
          "name": "stdout",
          "output_type": "stream",
          "text": [
            "[[4.0074037e-03 1.0634337e-03 1.3234904e-04 1.5362732e-04 1.8125199e-01\n",
            "  4.1096243e-03 5.1235635e-04 1.6509907e-02 8.1705384e-02 3.3771544e-04\n",
            "  7.1021622e-01]]\n"
          ]
        },
        {
          "name": "stderr",
          "output_type": "stream",
          "text": [
            "\n",
            "\n",
            "tqdm() Progress Bar Segments: 492it [04:19,  1.86it/s]\u001b[A\u001b[A"
          ]
        },
        {
          "name": "stdout",
          "output_type": "stream",
          "text": [
            "[[5.9563227e-02 1.4246874e-03 2.1922477e-05 5.4207735e-04 5.7838378e-03\n",
            "  6.6391033e-01 1.5562854e-03 2.5700879e-01 4.8575515e-04 9.4460528e-03\n",
            "  2.5703394e-04]]\n"
          ]
        },
        {
          "name": "stderr",
          "output_type": "stream",
          "text": [
            "\n",
            "\n",
            "tqdm() Progress Bar Segments: 493it [04:19,  1.87it/s]\u001b[A\u001b[A"
          ]
        },
        {
          "name": "stdout",
          "output_type": "stream",
          "text": [
            "[[0.05079208 0.06854381 0.00070888 0.00271619 0.04553269 0.1426184\n",
            "  0.00368206 0.510686   0.00229407 0.1531603  0.01926541]]\n"
          ]
        },
        {
          "name": "stderr",
          "output_type": "stream",
          "text": [
            "\n",
            "\n",
            "tqdm() Progress Bar Segments: 494it [04:20,  1.84it/s]\u001b[A\u001b[A"
          ]
        },
        {
          "name": "stdout",
          "output_type": "stream",
          "text": [
            "[[0.06632113 0.02541256 0.01822297 0.0020173  0.4307097  0.03985878\n",
            "  0.00175338 0.02174952 0.01101463 0.00065125 0.3822888 ]]\n"
          ]
        },
        {
          "name": "stderr",
          "output_type": "stream",
          "text": [
            "\n",
            "\n",
            "tqdm() Progress Bar Segments: 495it [04:21,  1.77it/s]\u001b[A\u001b[A"
          ]
        },
        {
          "name": "stdout",
          "output_type": "stream",
          "text": [
            "[[0.02009575 0.01782012 0.00745378 0.00637905 0.35646036 0.04054681\n",
            "  0.07088225 0.02155729 0.08860543 0.00398062 0.3662185 ]]\n"
          ]
        },
        {
          "name": "stderr",
          "output_type": "stream",
          "text": [
            "\n",
            "\n",
            "tqdm() Progress Bar Segments: 496it [04:21,  1.80it/s]\u001b[A\u001b[A"
          ]
        },
        {
          "name": "stdout",
          "output_type": "stream",
          "text": [
            "[[3.5197023e-04 4.4654505e-05 9.1740432e-05 1.3248743e-03 9.6904790e-01\n",
            "  3.7473275e-03 3.2634547e-03 7.9559386e-06 4.4145929e-03 2.2157314e-05\n",
            "  1.7683381e-02]]\n"
          ]
        },
        {
          "name": "stderr",
          "output_type": "stream",
          "text": [
            "\n",
            "\n",
            "tqdm() Progress Bar Segments: 497it [04:22,  1.83it/s]\u001b[A\u001b[A"
          ]
        },
        {
          "name": "stdout",
          "output_type": "stream",
          "text": [
            "[[3.0789955e-03 3.3095346e-03 1.8984461e-04 6.6813896e-04 1.3198913e-02\n",
            "  1.3544248e-02 1.8724254e-03 8.3336085e-03 1.1203560e-01 2.1270916e-04\n",
            "  8.4355593e-01]]\n"
          ]
        },
        {
          "name": "stderr",
          "output_type": "stream",
          "text": [
            "\n",
            "\n",
            "tqdm() Progress Bar Segments: 498it [04:22,  1.86it/s]\u001b[A\u001b[A"
          ]
        },
        {
          "name": "stdout",
          "output_type": "stream",
          "text": [
            "[[6.2255776e-03 4.0857680e-03 6.2508316e-04 4.2360678e-04 5.2263629e-02\n",
            "  9.1858722e-02 7.0512081e-03 4.1969260e-03 2.6305191e-02 2.4941581e-04\n",
            "  8.0671483e-01]]\n"
          ]
        },
        {
          "name": "stderr",
          "output_type": "stream",
          "text": [
            "\n",
            "\n",
            "tqdm() Progress Bar Segments: 499it [04:23,  1.88it/s]\u001b[A\u001b[A"
          ]
        },
        {
          "name": "stdout",
          "output_type": "stream",
          "text": [
            "[[1.1890507e-03 6.0101418e-04 2.2621691e-04 1.8033763e-02 4.6222404e-01\n",
            "  3.5420719e-03 2.5194503e-02 2.2508756e-04 3.6253506e-01 9.1044517e-04\n",
            "  1.2531880e-01]]\n"
          ]
        },
        {
          "name": "stderr",
          "output_type": "stream",
          "text": [
            "\n",
            "\n",
            "tqdm() Progress Bar Segments: 500it [04:23,  1.89it/s]\u001b[A\u001b[A"
          ]
        },
        {
          "name": "stdout",
          "output_type": "stream",
          "text": [
            "[[0.00200002 0.0009678  0.00106038 0.15898661 0.36050344 0.01513576\n",
            "  0.19969055 0.00073461 0.23198117 0.00483516 0.02410447]]\n"
          ]
        },
        {
          "name": "stderr",
          "output_type": "stream",
          "text": [
            "\n",
            "\n",
            "tqdm() Progress Bar Segments: 501it [04:24,  1.83it/s]\u001b[A\u001b[A"
          ]
        },
        {
          "name": "stdout",
          "output_type": "stream",
          "text": [
            "[[1.2737897e-06 8.9515271e-07 3.0014732e-07 9.5551783e-05 9.8419225e-01\n",
            "  1.3738693e-05 4.5645848e-04 1.0966296e-07 8.9926980e-03 6.0117719e-07\n",
            "  6.2461444e-03]]\n"
          ]
        },
        {
          "name": "stderr",
          "output_type": "stream",
          "text": [
            "\n",
            "\n",
            "tqdm() Progress Bar Segments: 502it [04:24,  1.78it/s]\u001b[A\u001b[A"
          ]
        },
        {
          "name": "stdout",
          "output_type": "stream",
          "text": [
            "[[0.00687652 0.02282404 0.00190789 0.00387007 0.25615457 0.07196125\n",
            "  0.09355828 0.01608885 0.4053922  0.00835094 0.11301541]]\n"
          ]
        },
        {
          "name": "stderr",
          "output_type": "stream",
          "text": [
            "\n",
            "\n",
            "tqdm() Progress Bar Segments: 503it [04:25,  1.72it/s]\u001b[A\u001b[A"
          ]
        },
        {
          "name": "stdout",
          "output_type": "stream",
          "text": [
            "[[1.7730303e-03 8.4324689e-05 6.7197747e-04 1.5603185e-01 7.9614550e-01\n",
            "  2.8155327e-03 2.9547030e-02 1.7593196e-05 4.5853890e-03 3.3443520e-04\n",
            "  7.9933768e-03]]\n"
          ]
        },
        {
          "name": "stderr",
          "output_type": "stream",
          "text": [
            "\n",
            "\n",
            "tqdm() Progress Bar Segments: 504it [04:26,  1.75it/s]\u001b[A\u001b[A"
          ]
        },
        {
          "name": "stdout",
          "output_type": "stream",
          "text": [
            "[[3.5289379e-06 9.6507085e-07 3.5484068e-06 5.3746000e-05 9.9552429e-01\n",
            "  3.5975707e-05 2.7011428e-03 1.4442092e-07 6.4260821e-04 3.8301491e-07\n",
            "  1.0336952e-03]]\n"
          ]
        },
        {
          "name": "stderr",
          "output_type": "stream",
          "text": [
            "\n",
            "\n",
            "tqdm() Progress Bar Segments: 505it [04:26,  1.72it/s]\u001b[A\u001b[A"
          ]
        },
        {
          "name": "stdout",
          "output_type": "stream",
          "text": [
            "[[4.3994867e-05 1.8079372e-05 2.3144894e-05 1.4717152e-03 8.7416011e-01\n",
            "  6.7744654e-04 6.2480379e-02 3.5311291e-06 5.7648558e-02 8.6153043e-05\n",
            "  3.3869031e-03]]\n"
          ]
        },
        {
          "name": "stderr",
          "output_type": "stream",
          "text": [
            "\n",
            "\n",
            "tqdm() Progress Bar Segments: 506it [04:27,  1.77it/s]\u001b[A\u001b[A"
          ]
        },
        {
          "name": "stdout",
          "output_type": "stream",
          "text": [
            "[[2.6137843e-03 1.7463508e-03 1.5690440e-04 3.8896993e-02 9.2487723e-02\n",
            "  9.8043390e-02 1.2407987e-01 3.3177135e-03 5.8222914e-01 5.1431935e-02\n",
            "  4.9962457e-03]]\n"
          ]
        },
        {
          "name": "stderr",
          "output_type": "stream",
          "text": [
            "\n",
            "\n",
            "tqdm() Progress Bar Segments: 507it [04:27,  1.73it/s]\u001b[A\u001b[A"
          ]
        },
        {
          "name": "stdout",
          "output_type": "stream",
          "text": [
            "[[1.6323010e-02 3.3604883e-04 3.5041631e-03 4.6888471e-01 3.2579407e-01\n",
            "  1.7260008e-02 5.1859267e-02 1.8731569e-04 5.6081343e-02 3.3732229e-03\n",
            "  5.6396838e-02]]\n"
          ]
        },
        {
          "name": "stderr",
          "output_type": "stream",
          "text": [
            "\n",
            "\n",
            "tqdm() Progress Bar Segments: 508it [04:28,  1.72it/s]\u001b[A\u001b[A"
          ]
        },
        {
          "name": "stdout",
          "output_type": "stream",
          "text": [
            "[[0.00283166 0.01809979 0.00045973 0.00346373 0.14639711 0.20213903\n",
            "  0.02220933 0.18204847 0.263554   0.00342922 0.15536788]]\n"
          ]
        },
        {
          "name": "stderr",
          "output_type": "stream",
          "text": [
            "\n",
            "\n",
            "tqdm() Progress Bar Segments: 509it [04:28,  1.76it/s]\u001b[A\u001b[A"
          ]
        },
        {
          "name": "stdout",
          "output_type": "stream",
          "text": [
            "[[2.7135441e-03 4.9492373e-04 1.1978160e-03 7.5620854e-01 1.8459135e-01\n",
            "  4.4717430e-03 1.5457885e-02 1.4556490e-04 1.8430306e-02 1.4596219e-03\n",
            "  1.4828661e-02]]\n"
          ]
        },
        {
          "name": "stderr",
          "output_type": "stream",
          "text": [
            "\n",
            "\n",
            "tqdm() Progress Bar Segments: 510it [04:29,  1.79it/s]\u001b[A\u001b[A"
          ]
        },
        {
          "name": "stdout",
          "output_type": "stream",
          "text": [
            "[[2.6867117e-03 5.4874714e-04 4.9917317e-06 1.9786232e-04 3.5010481e-03\n",
            "  1.1679998e-02 1.2654586e-03 9.7270727e-01 1.4743709e-03 5.0221458e-03\n",
            "  9.1151393e-04]]\n"
          ]
        },
        {
          "name": "stderr",
          "output_type": "stream",
          "text": [
            "\n",
            "\n",
            "tqdm() Progress Bar Segments: 511it [04:29,  1.82it/s]\u001b[A\u001b[A"
          ]
        },
        {
          "name": "stdout",
          "output_type": "stream",
          "text": [
            "[[8.4282947e-04 8.7554217e-05 1.0569387e-04 8.7281324e-02 3.2600281e-01\n",
            "  1.7731016e-03 1.2316066e-01 2.0983044e-04 4.5188788e-01 3.2481623e-03\n",
            "  5.4001561e-03]]\n"
          ]
        },
        {
          "name": "stderr",
          "output_type": "stream",
          "text": [
            "\n",
            "\n",
            "tqdm() Progress Bar Segments: 512it [04:30,  1.76it/s]\u001b[A\u001b[A"
          ]
        },
        {
          "name": "stdout",
          "output_type": "stream",
          "text": [
            "[[5.9381343e-02 2.3902990e-02 3.6066855e-04 2.6075640e-03 1.6558744e-02\n",
            "  3.0742523e-01 2.4233291e-02 3.8699016e-01 5.3041824e-03 1.6479732e-01\n",
            "  8.4385462e-03]]\n"
          ]
        },
        {
          "name": "stderr",
          "output_type": "stream",
          "text": [
            "\n",
            "\n",
            "tqdm() Progress Bar Segments: 513it [04:31,  1.77it/s]\u001b[A\u001b[A"
          ]
        },
        {
          "name": "stdout",
          "output_type": "stream",
          "text": [
            "[[0.03530913 0.11333194 0.22119026 0.0033457  0.2703512  0.01993372\n",
            "  0.00362705 0.01141261 0.00729557 0.00252166 0.31168115]]\n"
          ]
        },
        {
          "name": "stderr",
          "output_type": "stream",
          "text": [
            "\n",
            "\n",
            "tqdm() Progress Bar Segments: 514it [04:31,  1.80it/s]\u001b[A\u001b[A"
          ]
        },
        {
          "name": "stdout",
          "output_type": "stream",
          "text": [
            "[[2.5744613e-03 3.4946836e-05 5.4547284e-04 3.5664577e-02 6.3447452e-01\n",
            "  2.2719020e-03 5.2995495e-03 8.5732991e-06 1.6181244e-02 2.8264907e-05\n",
            "  3.0291653e-01]]\n"
          ]
        },
        {
          "name": "stderr",
          "output_type": "stream",
          "text": [
            "\n",
            "\n",
            "tqdm() Progress Bar Segments: 515it [04:32,  1.82it/s]\u001b[A\u001b[A"
          ]
        },
        {
          "name": "stdout",
          "output_type": "stream",
          "text": [
            "[[9.0284739e-04 3.8249658e-05 3.0889866e-04 4.6476595e-02 8.5638458e-01\n",
            "  1.0350460e-02 7.3746026e-02 2.0624699e-05 8.3204219e-03 2.7751963e-04\n",
            "  3.1737264e-03]]\n"
          ]
        },
        {
          "name": "stderr",
          "output_type": "stream",
          "text": [
            "\n",
            "\n",
            "tqdm() Progress Bar Segments: 516it [04:32,  1.82it/s]\u001b[A\u001b[A"
          ]
        },
        {
          "name": "stdout",
          "output_type": "stream",
          "text": [
            "[[5.86398210e-06 1.16549108e-06 2.75561047e-06 9.95033770e-05\n",
            "  9.97411907e-01 1.35643990e-04 3.69461981e-04 8.59734541e-08\n",
            "  1.07328604e-04 2.67667474e-07 1.86618848e-03]]\n"
          ]
        },
        {
          "name": "stderr",
          "output_type": "stream",
          "text": [
            "\n",
            "\n",
            "tqdm() Progress Bar Segments: 517it [04:33,  1.84it/s]\u001b[A\u001b[A"
          ]
        },
        {
          "name": "stdout",
          "output_type": "stream",
          "text": [
            "[[1.7789892e-04 2.5638198e-03 1.9763429e-04 2.5548828e-03 2.0326308e-03\n",
            "  2.3598311e-02 6.0982013e-01 8.0796434e-03 2.2276668e-03 3.4872419e-01\n",
            "  2.3157596e-05]]\n"
          ]
        },
        {
          "name": "stderr",
          "output_type": "stream",
          "text": [
            "\n",
            "\n",
            "tqdm() Progress Bar Segments: 518it [04:33,  1.86it/s]\u001b[A\u001b[A"
          ]
        },
        {
          "name": "stdout",
          "output_type": "stream",
          "text": [
            "[[6.4271176e-03 5.4383301e-05 5.3235289e-04 3.4289878e-02 8.6431414e-01\n",
            "  1.0888466e-02 1.8668642e-03 7.5193198e-06 6.3718520e-03 3.7489757e-05\n",
            "  7.5209893e-02]]\n"
          ]
        },
        {
          "name": "stderr",
          "output_type": "stream",
          "text": [
            "\n",
            "\n",
            "tqdm() Progress Bar Segments: 519it [04:34,  1.85it/s]\u001b[A\u001b[A"
          ]
        },
        {
          "name": "stdout",
          "output_type": "stream",
          "text": [
            "[[3.4663758e-01 6.1202431e-03 4.2003783e-04 6.3271308e-04 4.8400819e-02\n",
            "  5.1240746e-02 4.5383214e-03 4.6798229e-01 3.2076526e-03 1.1542248e-02\n",
            "  5.9277352e-02]]\n"
          ]
        },
        {
          "name": "stderr",
          "output_type": "stream",
          "text": [
            "\n",
            "\n",
            "tqdm() Progress Bar Segments: 520it [04:34,  1.87it/s]\u001b[A\u001b[A"
          ]
        },
        {
          "name": "stdout",
          "output_type": "stream",
          "text": [
            "[[0.00701186 0.00425105 0.00097004 0.003109   0.19512074 0.01882596\n",
            "  0.06877549 0.00686877 0.17485644 0.00115832 0.5190523 ]]\n"
          ]
        },
        {
          "name": "stderr",
          "output_type": "stream",
          "text": [
            "\n",
            "\n",
            "tqdm() Progress Bar Segments: 521it [04:35,  1.80it/s]\u001b[A\u001b[A"
          ]
        },
        {
          "name": "stdout",
          "output_type": "stream",
          "text": [
            "[[1.4154183e-02 4.4379291e-01 1.5122762e-01 2.5005729e-04 1.2657864e-01\n",
            "  2.1054319e-01 6.3770930e-03 3.8467811e-03 1.3474991e-03 1.2782186e-03\n",
            "  4.0603805e-02]]\n"
          ]
        },
        {
          "name": "stderr",
          "output_type": "stream",
          "text": [
            "\n",
            "\n",
            "tqdm() Progress Bar Segments: 522it [04:36,  1.81it/s]\u001b[A\u001b[A"
          ]
        },
        {
          "name": "stdout",
          "output_type": "stream",
          "text": [
            "[[1.0968916e-04 2.5443476e-05 5.2888452e-05 3.1264510e-03 9.8950946e-01\n",
            "  1.0721543e-03 3.7739002e-03 2.7865246e-06 1.2669766e-03 1.6496509e-05\n",
            "  1.0437859e-03]]\n"
          ]
        },
        {
          "name": "stderr",
          "output_type": "stream",
          "text": [
            "\n",
            "\n",
            "tqdm() Progress Bar Segments: 523it [04:36,  1.84it/s]\u001b[A\u001b[A"
          ]
        },
        {
          "name": "stdout",
          "output_type": "stream",
          "text": [
            "[[4.4982620e-03 4.4723810e-04 1.6479164e-03 8.9587681e-02 6.2851554e-01\n",
            "  6.3452460e-02 1.1394331e-01 8.8156230e-05 5.2453976e-02 1.4758999e-03\n",
            "  4.3889709e-02]]\n"
          ]
        },
        {
          "name": "stderr",
          "output_type": "stream",
          "text": [
            "\n",
            "\n",
            "tqdm() Progress Bar Segments: 524it [04:37,  1.86it/s]\u001b[A\u001b[A"
          ]
        },
        {
          "name": "stdout",
          "output_type": "stream",
          "text": [
            "[[2.4765814e-04 3.6247449e-05 8.5701409e-05 1.2190435e-02 6.6005880e-01\n",
            "  9.1332139e-04 6.1270870e-02 1.9950447e-05 2.6011595e-01 5.2936678e-04\n",
            "  4.5317565e-03]]\n"
          ]
        },
        {
          "name": "stderr",
          "output_type": "stream",
          "text": [
            "\n",
            "\n",
            "tqdm() Progress Bar Segments: 525it [04:37,  1.88it/s]\u001b[A\u001b[A"
          ]
        },
        {
          "name": "stdout",
          "output_type": "stream",
          "text": [
            "[[1.9541108e-04 6.2179352e-05 9.8299257e-05 1.1425158e-03 9.5617443e-01\n",
            "  1.5675793e-03 1.7456394e-02 1.2843359e-05 1.5492115e-02 3.1098971e-05\n",
            "  7.7672475e-03]]\n"
          ]
        },
        {
          "name": "stderr",
          "output_type": "stream",
          "text": [
            "\n",
            "\n",
            "tqdm() Progress Bar Segments: 526it [04:38,  1.89it/s]\u001b[A\u001b[A"
          ]
        },
        {
          "name": "stdout",
          "output_type": "stream",
          "text": [
            "[[3.6034169e-05 6.4418673e-06 1.2542407e-05 1.0047456e-03 9.7782385e-01\n",
            "  1.7700429e-04 5.0432221e-03 1.6347582e-06 9.0044336e-03 4.5659772e-06\n",
            "  6.8855998e-03]]\n"
          ]
        },
        {
          "name": "stderr",
          "output_type": "stream",
          "text": [
            "\n",
            "\n",
            "tqdm() Progress Bar Segments: 527it [04:38,  1.89it/s]\u001b[A\u001b[A"
          ]
        },
        {
          "name": "stdout",
          "output_type": "stream",
          "text": [
            "[[1.0074704e-03 1.4174188e-04 7.3273048e-05 5.5690754e-02 2.4622875e-01\n",
            "  2.2755612e-03 4.7323361e-02 2.1109410e-04 6.3434076e-01 4.3117357e-03\n",
            "  8.3954465e-03]]\n"
          ]
        },
        {
          "name": "stderr",
          "output_type": "stream",
          "text": [
            "\n",
            "\n",
            "tqdm() Progress Bar Segments: 528it [04:39,  1.89it/s]\u001b[A\u001b[A"
          ]
        },
        {
          "name": "stdout",
          "output_type": "stream",
          "text": [
            "[[8.4641883e-03 2.5881628e-02 1.3094991e-04 4.7591110e-04 2.2626402e-02\n",
            "  7.2001410e-01 3.1372264e-02 1.6059084e-01 9.7916438e-04 2.8741486e-02\n",
            "  7.2307308e-04]]\n"
          ]
        },
        {
          "name": "stderr",
          "output_type": "stream",
          "text": [
            "\n",
            "\n",
            "tqdm() Progress Bar Segments: 529it [04:39,  1.90it/s]\u001b[A\u001b[A"
          ]
        },
        {
          "name": "stdout",
          "output_type": "stream",
          "text": [
            "[[8.3738232e-01 4.4662002e-03 6.8849564e-04 3.5954962e-04 4.2682432e-02\n",
            "  2.7596844e-02 1.4692901e-02 4.6534505e-02 1.7727357e-03 5.8802972e-03\n",
            "  1.7943691e-02]]\n"
          ]
        },
        {
          "name": "stderr",
          "output_type": "stream",
          "text": [
            "\n",
            "\n",
            "tqdm() Progress Bar Segments: 530it [04:40,  1.91it/s]\u001b[A\u001b[A"
          ]
        },
        {
          "name": "stdout",
          "output_type": "stream",
          "text": [
            "[[1.7107950e-03 1.3880779e-03 6.4680185e-05 1.1123147e-02 2.5285527e-03\n",
            "  4.7106307e-02 4.2848551e-01 1.7168020e-01 7.0743239e-03 3.2867467e-01\n",
            "  1.6375602e-04]]\n"
          ]
        },
        {
          "name": "stderr",
          "output_type": "stream",
          "text": [
            "\n",
            "\n",
            "tqdm() Progress Bar Segments: 531it [04:40,  1.83it/s]\u001b[A\u001b[A"
          ]
        },
        {
          "name": "stdout",
          "output_type": "stream",
          "text": [
            "[[2.1704565e-05 3.0318940e-06 1.4479635e-05 7.2075462e-04 9.8499185e-01\n",
            "  4.5415673e-05 2.5612682e-03 7.1826685e-07 6.5146247e-03 2.2211191e-06\n",
            "  5.1239436e-03]]\n"
          ]
        },
        {
          "name": "stderr",
          "output_type": "stream",
          "text": [
            "\n",
            "\n",
            "tqdm() Progress Bar Segments: 532it [04:41,  1.85it/s]\u001b[A\u001b[A"
          ]
        },
        {
          "name": "stdout",
          "output_type": "stream",
          "text": [
            "[[8.0239181e-05 8.6932951e-06 1.7815622e-05 1.4768579e-02 8.8586086e-01\n",
            "  2.5095546e-04 1.6648615e-02 8.2849074e-06 7.9512209e-02 1.1964579e-04\n",
            "  2.7240594e-03]]\n"
          ]
        },
        {
          "name": "stderr",
          "output_type": "stream",
          "text": [
            "\n",
            "\n",
            "tqdm() Progress Bar Segments: 533it [04:41,  1.89it/s]\u001b[A\u001b[A"
          ]
        },
        {
          "name": "stdout",
          "output_type": "stream",
          "text": [
            "[[1.8346205e-03 2.4545909e-04 5.8716588e-04 2.9764022e-03 8.0281591e-01\n",
            "  6.5267724e-03 9.7543765e-03 5.0547274e-05 2.5468947e-02 1.5928243e-04\n",
            "  1.4958054e-01]]\n"
          ]
        },
        {
          "name": "stderr",
          "output_type": "stream",
          "text": [
            "\n",
            "\n",
            "tqdm() Progress Bar Segments: 534it [04:42,  1.90it/s]\u001b[A\u001b[A"
          ]
        },
        {
          "name": "stdout",
          "output_type": "stream",
          "text": [
            "[[1.3154565e-03 2.2212401e-04 1.7304844e-04 1.2872850e-04 4.0315185e-02\n",
            "  5.0733942e-03 6.1360211e-03 1.2627190e-04 1.5852179e-02 4.3192686e-05\n",
            "  9.3061435e-01]]\n"
          ]
        },
        {
          "name": "stderr",
          "output_type": "stream",
          "text": [
            "\n",
            "\n",
            "tqdm() Progress Bar Segments: 535it [04:42,  1.91it/s]\u001b[A\u001b[A"
          ]
        },
        {
          "name": "stdout",
          "output_type": "stream",
          "text": [
            "[[6.5970612e-06 5.9284037e-07 1.9447666e-06 4.0943298e-04 9.8993635e-01\n",
            "  2.2971217e-05 4.3434103e-04 8.5728757e-08 3.0980990e-03 5.1407784e-07\n",
            "  6.0890103e-03]]\n"
          ]
        },
        {
          "name": "stderr",
          "output_type": "stream",
          "text": [
            "\n",
            "\n",
            "tqdm() Progress Bar Segments: 536it [04:43,  1.92it/s]\u001b[A\u001b[A"
          ]
        },
        {
          "name": "stdout",
          "output_type": "stream",
          "text": [
            "[[5.0271274e-06 2.9938756e-06 1.3744398e-06 1.3875023e-05 9.9815613e-01\n",
            "  1.9373080e-04 3.6330451e-04 8.5091045e-08 4.5678194e-04 4.5110323e-07\n",
            "  8.0622773e-04]]\n"
          ]
        },
        {
          "name": "stderr",
          "output_type": "stream",
          "text": [
            "\n",
            "\n",
            "tqdm() Progress Bar Segments: 537it [04:43,  1.84it/s]\u001b[A\u001b[A"
          ]
        },
        {
          "name": "stdout",
          "output_type": "stream",
          "text": [
            "[[5.0875057e-02 1.5836358e-03 3.4824094e-05 2.9770454e-04 7.1313144e-03\n",
            "  6.5885043e-01 2.0311819e-02 9.8631360e-02 1.5078107e-03 1.5870532e-01\n",
            "  2.0708193e-03]]\n"
          ]
        },
        {
          "name": "stderr",
          "output_type": "stream",
          "text": [
            "\n",
            "\n",
            "tqdm() Progress Bar Segments: 538it [04:44,  1.87it/s]\u001b[A\u001b[A"
          ]
        },
        {
          "name": "stdout",
          "output_type": "stream",
          "text": [
            "[[8.9481780e-03 7.4128166e-02 2.0650456e-04 8.5196178e-04 1.2215876e-02\n",
            "  2.8750655e-01 4.8009653e-04 6.0181171e-01 3.8671540e-04 3.5703084e-03\n",
            "  9.8939110e-03]]\n"
          ]
        },
        {
          "name": "stderr",
          "output_type": "stream",
          "text": [
            "\n",
            "\n",
            "tqdm() Progress Bar Segments: 539it [04:45,  1.89it/s]\u001b[A\u001b[A"
          ]
        },
        {
          "name": "stdout",
          "output_type": "stream",
          "text": [
            "[[1.3814238e-04 7.1330373e-06 8.1133267e-06 2.4506770e-02 2.9137844e-01\n",
            "  5.3587297e-05 7.5754453e-04 2.6218615e-06 2.2751950e-01 5.9792092e-06\n",
            "  4.5562217e-01]]\n"
          ]
        },
        {
          "name": "stderr",
          "output_type": "stream",
          "text": [
            "\n",
            "\n",
            "tqdm() Progress Bar Segments: 540it [04:45,  1.90it/s]\u001b[A\u001b[A"
          ]
        },
        {
          "name": "stdout",
          "output_type": "stream",
          "text": [
            "[[9.3269977e-05 4.0542243e-05 3.9448045e-05 4.1862717e-03 9.5705444e-01\n",
            "  9.3484588e-04 1.2054473e-02 8.6796626e-06 2.1307036e-02 6.9889233e-05\n",
            "  4.2110011e-03]]\n"
          ]
        },
        {
          "name": "stderr",
          "output_type": "stream",
          "text": [
            "\n",
            "\n",
            "tqdm() Progress Bar Segments: 541it [04:46,  1.91it/s]\u001b[A\u001b[A"
          ]
        },
        {
          "name": "stdout",
          "output_type": "stream",
          "text": [
            "[[1.2735032e-03 6.4477074e-01 8.9384513e-03 2.0810416e-04 2.7023363e-01\n",
            "  7.6419739e-03 2.9089017e-04 6.2384561e-02 1.0268034e-04 4.3672472e-04\n",
            "  3.7187026e-03]]\n"
          ]
        },
        {
          "name": "stderr",
          "output_type": "stream",
          "text": [
            "\n",
            "\n",
            "tqdm() Progress Bar Segments: 542it [04:46,  1.90it/s]\u001b[A\u001b[A"
          ]
        },
        {
          "name": "stdout",
          "output_type": "stream",
          "text": [
            "[[1.0756970e-03 2.0474420e-04 2.0258341e-04 1.6662842e-02 6.9774938e-01\n",
            "  4.5694327e-03 6.1373813e-03 3.6789290e-05 7.7159643e-02 1.6788686e-04\n",
            "  1.9603369e-01]]\n"
          ]
        },
        {
          "name": "stderr",
          "output_type": "stream",
          "text": [
            "\n",
            "\n",
            "tqdm() Progress Bar Segments: 543it [04:47,  1.90it/s]\u001b[A\u001b[A"
          ]
        },
        {
          "name": "stdout",
          "output_type": "stream",
          "text": [
            "[[0.12039892 0.01575321 0.00078517 0.00088423 0.11291869 0.04433408\n",
            "  0.00554383 0.52874523 0.00436571 0.00271313 0.16355784]]\n"
          ]
        },
        {
          "name": "stderr",
          "output_type": "stream",
          "text": [
            "\n",
            "\n",
            "tqdm() Progress Bar Segments: 544it [04:47,  1.91it/s]\u001b[A\u001b[A"
          ]
        },
        {
          "name": "stdout",
          "output_type": "stream",
          "text": [
            "[[4.6111432e-05 4.7196945e-06 4.1629751e-06 1.6540154e-03 2.2964476e-01\n",
            "  7.0075170e-05 4.6393252e-03 2.3638668e-06 7.5677836e-01 3.9269751e-05\n",
            "  7.1168994e-03]]\n"
          ]
        },
        {
          "name": "stderr",
          "output_type": "stream",
          "text": [
            "\n",
            "\n",
            "tqdm() Progress Bar Segments: 545it [04:48,  1.91it/s]\u001b[A\u001b[A"
          ]
        },
        {
          "name": "stdout",
          "output_type": "stream",
          "text": [
            "[[6.1336798e-03 8.5767388e-04 6.5203044e-06 6.2743975e-06 3.1082718e-02\n",
            "  7.5050285e-03 2.9362993e-05 2.2813186e-01 1.8333924e-03 4.2943444e-05\n",
            "  7.2437054e-01]]\n"
          ]
        },
        {
          "name": "stderr",
          "output_type": "stream",
          "text": [
            "\n",
            "\n",
            "tqdm() Progress Bar Segments: 546it [04:48,  1.92it/s]\u001b[A\u001b[A"
          ]
        },
        {
          "name": "stdout",
          "output_type": "stream",
          "text": [
            "[[6.4394916e-03 9.4134023e-04 2.3128274e-04 1.7407372e-03 1.8558623e-02\n",
            "  1.6375398e-02 1.5831753e-03 4.3337920e-04 1.3911135e-01 4.3297661e-04\n",
            "  8.1415224e-01]]\n"
          ]
        },
        {
          "name": "stderr",
          "output_type": "stream",
          "text": [
            "\n",
            "\n",
            "tqdm() Progress Bar Segments: 547it [04:49,  1.93it/s]\u001b[A\u001b[A"
          ]
        },
        {
          "name": "stdout",
          "output_type": "stream",
          "text": [
            "[[2.1133986e-01 2.2012791e-02 2.1321615e-03 1.4437786e-04 2.0621385e-01\n",
            "  5.2755427e-01 1.3924628e-02 1.4587112e-03 1.3349770e-03 3.8468684e-03\n",
            "  1.0037433e-02]]\n"
          ]
        },
        {
          "name": "stderr",
          "output_type": "stream",
          "text": [
            "\n",
            "\n",
            "tqdm() Progress Bar Segments: 548it [04:49,  1.93it/s]\u001b[A\u001b[A"
          ]
        },
        {
          "name": "stdout",
          "output_type": "stream",
          "text": [
            "[[0.01814646 0.09525016 0.01433438 0.00351206 0.16816954 0.06571953\n",
            "  0.04695087 0.02076289 0.13866092 0.00600008 0.42249313]]\n"
          ]
        },
        {
          "name": "stderr",
          "output_type": "stream",
          "text": [
            "\n",
            "\n",
            "tqdm() Progress Bar Segments: 549it [04:50,  1.93it/s]\u001b[A\u001b[A"
          ]
        },
        {
          "name": "stdout",
          "output_type": "stream",
          "text": [
            "[[7.7254253e-06 8.3926250e-07 4.9652372e-06 3.3510916e-02 9.6502876e-01\n",
            "  3.3787641e-05 4.7674851e-04 1.6664637e-07 2.9911633e-04 1.5931098e-06\n",
            "  6.3543220e-04]]\n"
          ]
        },
        {
          "name": "stderr",
          "output_type": "stream",
          "text": [
            "\n",
            "\n",
            "tqdm() Progress Bar Segments: 550it [04:50,  1.93it/s]\u001b[A\u001b[A"
          ]
        },
        {
          "name": "stdout",
          "output_type": "stream",
          "text": [
            "[[2.8888480e-04 3.6044334e-05 7.2825038e-05 3.2435914e-03 8.3444965e-01\n",
            "  9.6356811e-04 1.0409797e-02 9.0627509e-06 4.4534687e-02 3.4473906e-05\n",
            "  1.0595753e-01]]\n"
          ]
        },
        {
          "name": "stderr",
          "output_type": "stream",
          "text": [
            "\n",
            "\n",
            "tqdm() Progress Bar Segments: 551it [04:51,  1.94it/s]\u001b[A\u001b[A"
          ]
        },
        {
          "name": "stdout",
          "output_type": "stream",
          "text": [
            "[[2.2174818e-03 5.4594460e-05 5.3588598e-04 1.1338752e-02 9.6003324e-01\n",
            "  6.0679377e-03 9.9066989e-03 9.9180606e-06 2.3693785e-03 4.9567800e-05\n",
            "  7.4166125e-03]]\n"
          ]
        },
        {
          "name": "stderr",
          "output_type": "stream",
          "text": [
            "\n",
            "\n",
            "tqdm() Progress Bar Segments: 552it [04:51,  1.91it/s]\u001b[A\u001b[A"
          ]
        },
        {
          "name": "stdout",
          "output_type": "stream",
          "text": [
            "[[0.0088777  0.01237989 0.00269801 0.01181695 0.12963943 0.06219284\n",
            "  0.10238434 0.02046061 0.18382545 0.00347683 0.46224797]]\n"
          ]
        },
        {
          "name": "stderr",
          "output_type": "stream",
          "text": [
            "\n",
            "\n",
            "tqdm() Progress Bar Segments: 553it [04:52,  1.90it/s]\u001b[A\u001b[A"
          ]
        },
        {
          "name": "stdout",
          "output_type": "stream",
          "text": [
            "[[2.0011337e-01 1.3135655e-03 2.2053453e-05 2.2405360e-05 2.9819405e-03\n",
            "  7.0296526e-01 8.9506745e-02 6.4071914e-04 2.0074144e-04 1.6859239e-03\n",
            "  5.4734014e-04]]\n"
          ]
        },
        {
          "name": "stderr",
          "output_type": "stream",
          "text": [
            "\n",
            "\n",
            "tqdm() Progress Bar Segments: 554it [04:52,  1.89it/s]\u001b[A\u001b[A"
          ]
        },
        {
          "name": "stdout",
          "output_type": "stream",
          "text": [
            "[[8.55008489e-04 3.47289460e-04 3.52579373e-04 1.61057338e-02\n",
            "  7.68914998e-01 1.09579992e-02 1.22560054e-01 1.10369627e-04\n",
            "  6.49203137e-02 8.77602200e-04 1.39980894e-02]]\n"
          ]
        },
        {
          "name": "stderr",
          "output_type": "stream",
          "text": [
            "\n",
            "\n",
            "tqdm() Progress Bar Segments: 555it [04:53,  1.83it/s]\u001b[A\u001b[A"
          ]
        },
        {
          "name": "stdout",
          "output_type": "stream",
          "text": [
            "[[2.26746022e-04 1.73088465e-05 1.29801565e-05 3.18476232e-05\n",
            "  7.23607093e-03 3.58141959e-04 5.89676085e-04 8.73529098e-06\n",
            "  1.85829308e-02 7.50834124e-06 9.72928047e-01]]\n"
          ]
        },
        {
          "name": "stderr",
          "output_type": "stream",
          "text": [
            "\n",
            "\n",
            "tqdm() Progress Bar Segments: 556it [04:53,  1.86it/s]\u001b[A\u001b[A"
          ]
        },
        {
          "name": "stdout",
          "output_type": "stream",
          "text": [
            "[[2.2008726e-05 1.0547170e-05 5.6215158e-06 2.4880739e-03 8.3037418e-01\n",
            "  2.9920592e-04 9.6303187e-02 4.7554468e-06 6.9591753e-02 4.9895647e-05\n",
            "  8.5076294e-04]]\n"
          ]
        },
        {
          "name": "stderr",
          "output_type": "stream",
          "text": [
            "\n",
            "\n",
            "tqdm() Progress Bar Segments: 557it [04:54,  1.86it/s]\u001b[A\u001b[A"
          ]
        },
        {
          "name": "stdout",
          "output_type": "stream",
          "text": [
            "[[1.47159491e-02 2.13704523e-04 2.75488244e-03 5.53148508e-01\n",
            "  3.35783452e-01 1.09767197e-02 2.03203931e-02 1.05742685e-04\n",
            "  1.51540358e-02 5.66201692e-04 4.62603942e-02]]\n"
          ]
        },
        {
          "name": "stderr",
          "output_type": "stream",
          "text": [
            "\n",
            "\n",
            "tqdm() Progress Bar Segments: 558it [04:55,  1.88it/s]\u001b[A\u001b[A"
          ]
        },
        {
          "name": "stdout",
          "output_type": "stream",
          "text": [
            "[[1.4012035e-03 5.3723226e-04 3.7387077e-04 2.3651849e-03 5.0641167e-01\n",
            "  8.0268709e-03 3.9655127e-02 1.9607082e-04 1.7026028e-01 2.4091547e-04\n",
            "  2.7053156e-01]]\n"
          ]
        },
        {
          "name": "stderr",
          "output_type": "stream",
          "text": [
            "\n",
            "\n",
            "tqdm() Progress Bar Segments: 559it [04:55,  1.89it/s]\u001b[A\u001b[A"
          ]
        },
        {
          "name": "stdout",
          "output_type": "stream",
          "text": [
            "[[3.0099583e-05 1.0457960e-05 8.3225041e-06 8.5413037e-04 9.7165900e-01\n",
            "  1.5203180e-04 5.2496162e-03 3.3922083e-06 2.0186160e-02 1.2743046e-05\n",
            "  1.8341047e-03]]\n"
          ]
        },
        {
          "name": "stderr",
          "output_type": "stream",
          "text": [
            "\n",
            "\n",
            "tqdm() Progress Bar Segments: 560it [04:56,  1.90it/s]\u001b[A\u001b[A"
          ]
        },
        {
          "name": "stdout",
          "output_type": "stream",
          "text": [
            "[[1.60168298e-03 8.60158447e-03 1.81934702e-05 1.15054171e-03\n",
            "  7.53678847e-04 2.74603158e-01 1.20548636e-01 5.79051495e-01\n",
            "  1.54439331e-04 1.34659372e-02 5.06958932e-05]]\n"
          ]
        },
        {
          "name": "stderr",
          "output_type": "stream",
          "text": [
            "\n",
            "\n",
            "tqdm() Progress Bar Segments: 561it [04:56,  1.83it/s]\u001b[A\u001b[A"
          ]
        },
        {
          "name": "stdout",
          "output_type": "stream",
          "text": [
            "[[0.02682352 0.05646293 0.00184549 0.00853566 0.12780845 0.01812332\n",
            "  0.00293586 0.11028405 0.10339143 0.0019796  0.54180974]]\n"
          ]
        },
        {
          "name": "stderr",
          "output_type": "stream",
          "text": [
            "\n",
            "\n",
            "tqdm() Progress Bar Segments: 562it [04:57,  1.83it/s]\u001b[A\u001b[A"
          ]
        },
        {
          "name": "stdout",
          "output_type": "stream",
          "text": [
            "[[8.0220873e-04 4.5613869e-04 2.5300047e-04 6.0549877e-03 5.3826863e-01\n",
            "  4.6504410e-03 5.7795737e-02 1.8201213e-04 3.4929195e-01 6.6145905e-04\n",
            "  4.1583367e-02]]\n"
          ]
        },
        {
          "name": "stderr",
          "output_type": "stream",
          "text": [
            "\n",
            "\n",
            "tqdm() Progress Bar Segments: 563it [04:57,  1.79it/s]\u001b[A\u001b[A"
          ]
        },
        {
          "name": "stdout",
          "output_type": "stream",
          "text": [
            "[[2.2190718e-01 4.8245927e-03 7.6652708e-05 3.5903780e-04 9.7790007e-03\n",
            "  2.0256756e-02 1.6075105e-04 6.9564635e-01 6.0197857e-04 1.5372904e-03\n",
            "  4.4850331e-02]]\n"
          ]
        },
        {
          "name": "stderr",
          "output_type": "stream",
          "text": [
            "\n",
            "\n",
            "tqdm() Progress Bar Segments: 564it [04:58,  1.80it/s]\u001b[A\u001b[A"
          ]
        },
        {
          "name": "stdout",
          "output_type": "stream",
          "text": [
            "[[2.8313771e-03 3.1542630e-04 1.5501016e-03 5.8454525e-02 5.8249182e-01\n",
            "  2.3905210e-02 1.4194693e-01 1.5994215e-04 6.3614927e-02 1.4327506e-03\n",
            "  1.2329702e-01]]\n"
          ]
        },
        {
          "name": "stderr",
          "output_type": "stream",
          "text": [
            "\n",
            "\n",
            "tqdm() Progress Bar Segments: 565it [04:58,  1.84it/s]\u001b[A\u001b[A"
          ]
        },
        {
          "name": "stdout",
          "output_type": "stream",
          "text": [
            "[[5.3490549e-03 1.3714994e-03 8.0461986e-04 1.8431022e-03 1.5485165e-01\n",
            "  2.5407620e-02 5.7380222e-02 1.4974201e-03 1.0264425e-01 5.9318083e-04\n",
            "  6.4825743e-01]]\n"
          ]
        },
        {
          "name": "stderr",
          "output_type": "stream",
          "text": [
            "\n",
            "\n",
            "tqdm() Progress Bar Segments: 566it [04:59,  1.87it/s]\u001b[A\u001b[A"
          ]
        },
        {
          "name": "stdout",
          "output_type": "stream",
          "text": [
            "[[5.3607630e-05 2.1735028e-05 2.1546437e-05 1.7880070e-03 9.9310231e-01\n",
            "  5.7203666e-04 1.9183117e-03 1.9937299e-06 1.3512238e-03 1.3302178e-05\n",
            "  1.1558996e-03]]\n"
          ]
        },
        {
          "name": "stderr",
          "output_type": "stream",
          "text": [
            "\n",
            "\n",
            "tqdm() Progress Bar Segments: 567it [04:59,  1.89it/s]\u001b[A\u001b[A"
          ]
        },
        {
          "name": "stdout",
          "output_type": "stream",
          "text": [
            "[[1.3614114e-02 6.8103157e-02 1.9315496e-03 2.3576769e-03 7.9673924e-02\n",
            "  2.0338552e-02 8.2273278e-03 4.0207401e-02 7.1155615e-02 6.0359429e-04\n",
            "  6.9378704e-01]]\n"
          ]
        },
        {
          "name": "stderr",
          "output_type": "stream",
          "text": [
            "\n",
            "\n",
            "tqdm() Progress Bar Segments: 568it [05:00,  1.90it/s]\u001b[A\u001b[A"
          ]
        },
        {
          "name": "stdout",
          "output_type": "stream",
          "text": [
            "[[2.2616282e-03 4.1232459e-02 2.2736869e-03 6.7236536e-04 6.9659537e-01\n",
            "  1.6015923e-02 1.8515466e-03 1.0994450e-01 1.0680598e-02 5.5772043e-04\n",
            "  1.1791420e-01]]\n"
          ]
        },
        {
          "name": "stderr",
          "output_type": "stream",
          "text": [
            "\n",
            "\n",
            "tqdm() Progress Bar Segments: 569it [05:00,  1.91it/s]\u001b[A\u001b[A"
          ]
        },
        {
          "name": "stdout",
          "output_type": "stream",
          "text": [
            "[[2.2487197e-04 7.7249038e-05 2.1314647e-04 1.5804972e-02 7.2487426e-01\n",
            "  2.2728727e-03 2.1169934e-01 3.4882418e-05 4.0315934e-02 4.5032054e-04\n",
            "  4.0320861e-03]]\n"
          ]
        },
        {
          "name": "stderr",
          "output_type": "stream",
          "text": [
            "\n",
            "\n",
            "tqdm() Progress Bar Segments: 570it [05:01,  1.91it/s]\u001b[A\u001b[A"
          ]
        },
        {
          "name": "stdout",
          "output_type": "stream",
          "text": [
            "[[0.00971827 0.00770811 0.00155178 0.00528578 0.25063568 0.09272734\n",
            "  0.04078368 0.01208308 0.16546038 0.00145661 0.4125893 ]]\n"
          ]
        },
        {
          "name": "stderr",
          "output_type": "stream",
          "text": [
            "\n",
            "\n",
            "tqdm() Progress Bar Segments: 571it [05:01,  1.92it/s]\u001b[A\u001b[A"
          ]
        },
        {
          "name": "stdout",
          "output_type": "stream",
          "text": [
            "[[3.6710224e-03 6.0977036e-01 2.8911276e-02 4.8102476e-04 9.3700074e-02\n",
            "  1.0430931e-01 2.5048158e-03 8.2010888e-03 4.9631568e-03 5.3974199e-03\n",
            "  1.3809037e-01]]\n"
          ]
        },
        {
          "name": "stderr",
          "output_type": "stream",
          "text": [
            "\n",
            "\n",
            "tqdm() Progress Bar Segments: 572it [05:02,  1.91it/s]\u001b[A\u001b[A"
          ]
        },
        {
          "name": "stdout",
          "output_type": "stream",
          "text": [
            "[[0.00292837 0.00315508 0.00071651 0.00159813 0.22070599 0.0045466\n",
            "  0.02194647 0.00473031 0.35361487 0.00040445 0.38565323]]\n"
          ]
        },
        {
          "name": "stderr",
          "output_type": "stream",
          "text": [
            "\n",
            "\n",
            "tqdm() Progress Bar Segments: 573it [05:02,  1.91it/s]\u001b[A\u001b[A"
          ]
        },
        {
          "name": "stdout",
          "output_type": "stream",
          "text": [
            "[[1.0636865e-02 3.3726395e-04 1.8728303e-03 2.8816298e-01 6.3119721e-01\n",
            "  9.0709198e-03 1.7021436e-02 4.2337306e-05 8.8541741e-03 6.3858851e-04\n",
            "  3.2165371e-02]]\n"
          ]
        },
        {
          "name": "stderr",
          "output_type": "stream",
          "text": [
            "\n",
            "\n",
            "tqdm() Progress Bar Segments: 574it [05:03,  1.92it/s]\u001b[A\u001b[A"
          ]
        },
        {
          "name": "stdout",
          "output_type": "stream",
          "text": [
            "[[1.8844246e-03 6.1178429e-04 5.6108391e-05 1.4065980e-03 1.1363088e-02\n",
            "  9.5104231e-03 1.3804955e-02 1.9467035e-01 5.3885713e-02 7.0923603e-01\n",
            "  3.5706509e-03]]\n"
          ]
        },
        {
          "name": "stderr",
          "output_type": "stream",
          "text": [
            "\n",
            "\n",
            "tqdm() Progress Bar Segments: 575it [05:04,  1.93it/s]\u001b[A\u001b[A"
          ]
        },
        {
          "name": "stdout",
          "output_type": "stream",
          "text": [
            "[[2.4617789e-04 5.5910052e-05 5.5547640e-05 2.8664654e-03 8.5623306e-01\n",
            "  1.7893972e-03 1.9329628e-02 1.4696975e-05 8.9716949e-02 1.3350154e-04\n",
            "  2.9558582e-02]]\n"
          ]
        },
        {
          "name": "stderr",
          "output_type": "stream",
          "text": [
            "\n",
            "\n",
            "tqdm() Progress Bar Segments: 576it [05:04,  1.93it/s]\u001b[A\u001b[A"
          ]
        },
        {
          "name": "stdout",
          "output_type": "stream",
          "text": [
            "[[8.3005533e-04 7.5725337e-05 1.9544951e-04 2.5715474e-02 2.6890025e-01\n",
            "  3.8586233e-03 1.2029120e-01 5.4918608e-05 3.8478640e-01 4.7997717e-04\n",
            "  1.9481191e-01]]\n"
          ]
        },
        {
          "name": "stderr",
          "output_type": "stream",
          "text": [
            "\n",
            "\n",
            "tqdm() Progress Bar Segments: 577it [05:05,  1.92it/s]\u001b[A\u001b[A"
          ]
        },
        {
          "name": "stdout",
          "output_type": "stream",
          "text": [
            "[[1.4123151e-03 1.1683718e-03 2.1114484e-04 4.5793233e-04 2.9498115e-01\n",
            "  2.4230234e-02 2.4883263e-02 1.1818466e-03 4.8136268e-02 2.0612960e-04\n",
            "  6.0313135e-01]]\n"
          ]
        },
        {
          "name": "stderr",
          "output_type": "stream",
          "text": [
            "\n",
            "\n",
            "tqdm() Progress Bar Segments: 578it [05:05,  1.93it/s]\u001b[A\u001b[A"
          ]
        },
        {
          "name": "stdout",
          "output_type": "stream",
          "text": [
            "[[7.7996578e-05 2.9808565e-05 2.0182626e-05 2.1917971e-04 9.6186262e-01\n",
            "  5.3444580e-04 5.1512369e-03 5.1529169e-06 1.6505849e-02 3.5767582e-05\n",
            "  1.5557800e-02]]\n"
          ]
        },
        {
          "name": "stderr",
          "output_type": "stream",
          "text": [
            "\n",
            "\n",
            "tqdm() Progress Bar Segments: 579it [05:06,  1.91it/s]\u001b[A\u001b[A"
          ]
        },
        {
          "name": "stdout",
          "output_type": "stream",
          "text": [
            "[[8.5078163e-06 1.3598725e-06 1.9393767e-06 2.6681672e-03 9.8601574e-01\n",
            "  2.0262420e-05 4.4947604e-04 2.1935740e-07 3.5352409e-03 9.3800730e-07\n",
            "  7.2982982e-03]]\n"
          ]
        },
        {
          "name": "stderr",
          "output_type": "stream",
          "text": [
            "\n",
            "\n",
            "tqdm() Progress Bar Segments: 580it [05:06,  1.92it/s]\u001b[A\u001b[A"
          ]
        },
        {
          "name": "stdout",
          "output_type": "stream",
          "text": [
            "[[3.0852198e-03 4.4067978e-04 1.6871559e-06 5.1713625e-05 1.5400794e-03\n",
            "  6.1507814e-02 1.4061839e-03 9.3041402e-01 6.5391039e-05 1.3567072e-03\n",
            "  1.3060863e-04]]\n"
          ]
        },
        {
          "name": "stderr",
          "output_type": "stream",
          "text": [
            "\n",
            "\n",
            "tqdm() Progress Bar Segments: 581it [05:07,  1.92it/s]\u001b[A\u001b[A"
          ]
        },
        {
          "name": "stdout",
          "output_type": "stream",
          "text": [
            "[[2.1184945e-02 1.0528138e-04 1.1890223e-03 9.0896392e-01 1.7839462e-02\n",
            "  3.8592981e-03 2.9374890e-03 1.0810613e-04 8.9156823e-03 8.3485502e-04\n",
            "  3.4061983e-02]]\n"
          ]
        },
        {
          "name": "stderr",
          "output_type": "stream",
          "text": [
            "\n",
            "\n",
            "tqdm() Progress Bar Segments: 582it [05:07,  1.90it/s]\u001b[A\u001b[A"
          ]
        },
        {
          "name": "stdout",
          "output_type": "stream",
          "text": [
            "[[2.5937879e-03 2.6217586e-04 1.2797247e-04 4.8786099e-03 2.6524037e-01\n",
            "  3.8770200e-03 1.3857930e-03 5.2773546e-05 1.6648297e-01 1.1211074e-04\n",
            "  5.5498636e-01]]\n"
          ]
        },
        {
          "name": "stderr",
          "output_type": "stream",
          "text": [
            "\n",
            "\n",
            "tqdm() Progress Bar Segments: 583it [05:08,  1.90it/s]\u001b[A\u001b[A"
          ]
        },
        {
          "name": "stdout",
          "output_type": "stream",
          "text": [
            "[[1.3260043e-04 3.3330736e-05 2.1417856e-05 4.9428437e-03 6.4673865e-01\n",
            "  4.6059210e-04 7.1096281e-03 5.9611693e-06 3.2574302e-01 5.7740479e-05\n",
            "  1.4754205e-02]]\n"
          ]
        },
        {
          "name": "stderr",
          "output_type": "stream",
          "text": [
            "\n",
            "\n",
            "tqdm() Progress Bar Segments: 584it [05:08,  1.84it/s]\u001b[A\u001b[A"
          ]
        },
        {
          "name": "stdout",
          "output_type": "stream",
          "text": [
            "[[8.5151632e-04 5.3848833e-01 1.6392906e-03 1.7401224e-04 2.1275337e-01\n",
            "  1.6210467e-02 1.7415434e-04 2.1895592e-01 2.2611154e-04 5.8374164e-04\n",
            "  9.9431202e-03]]\n"
          ]
        },
        {
          "name": "stderr",
          "output_type": "stream",
          "text": [
            "\n",
            "\n",
            "tqdm() Progress Bar Segments: 585it [05:09,  1.86it/s]\u001b[A\u001b[A"
          ]
        },
        {
          "name": "stdout",
          "output_type": "stream",
          "text": [
            "[[1.4941370e-03 7.9341512e-04 3.5742417e-04 2.9184618e-03 5.5801135e-01\n",
            "  1.5319266e-02 2.5858013e-02 2.0487732e-04 2.0161629e-01 1.0099534e-03\n",
            "  1.9241682e-01]]\n"
          ]
        },
        {
          "name": "stderr",
          "output_type": "stream",
          "text": [
            "\n",
            "\n",
            "tqdm() Progress Bar Segments: 586it [05:09,  1.89it/s]\u001b[A\u001b[A"
          ]
        },
        {
          "name": "stdout",
          "output_type": "stream",
          "text": [
            "[[2.8662293e-03 2.0820508e-04 5.6927593e-04 8.0743350e-02 4.0193233e-01\n",
            "  5.4774983e-03 5.6824490e-02 2.1052959e-04 3.8207790e-01 1.3587440e-03\n",
            "  6.7731507e-02]]\n"
          ]
        },
        {
          "name": "stderr",
          "output_type": "stream",
          "text": [
            "\n",
            "\n",
            "tqdm() Progress Bar Segments: 587it [05:10,  1.90it/s]\u001b[A\u001b[A"
          ]
        },
        {
          "name": "stdout",
          "output_type": "stream",
          "text": [
            "[[2.4585875e-02 2.0297687e-03 2.1643205e-04 3.0868989e-04 2.4816740e-01\n",
            "  3.6611017e-03 4.4501713e-03 5.0201339e-01 7.6187789e-03 4.5231231e-03\n",
            "  2.0242530e-01]]\n"
          ]
        },
        {
          "name": "stderr",
          "output_type": "stream",
          "text": [
            "\n",
            "\n",
            "tqdm() Progress Bar Segments: 588it [05:10,  1.91it/s]\u001b[A\u001b[A"
          ]
        },
        {
          "name": "stdout",
          "output_type": "stream",
          "text": [
            "[[1.2855957e-03 2.2542036e-04 1.6894462e-04 9.3470677e-04 5.4136280e-02\n",
            "  2.1406317e-03 1.4792743e-02 1.6909486e-04 2.0495954e-01 2.3007471e-04\n",
            "  7.2095692e-01]]\n"
          ]
        },
        {
          "name": "stderr",
          "output_type": "stream",
          "text": [
            "\n",
            "\n",
            "tqdm() Progress Bar Segments: 589it [05:11,  1.85it/s]\u001b[A\u001b[A"
          ]
        },
        {
          "name": "stdout",
          "output_type": "stream",
          "text": [
            "[[4.44637320e-04 1.66300379e-05 9.51212405e-06 8.34126840e-05\n",
            "  9.69835615e-04 3.96999967e-04 6.34543030e-05 1.11021391e-05\n",
            "  3.61052305e-02 1.13341375e-05 9.61887896e-01]]\n"
          ]
        },
        {
          "name": "stderr",
          "output_type": "stream",
          "text": [
            "\n",
            "\n",
            "tqdm() Progress Bar Segments: 590it [05:12,  1.81it/s]\u001b[A\u001b[A"
          ]
        },
        {
          "name": "stdout",
          "output_type": "stream",
          "text": [
            "[[1.4576195e-04 2.8160290e-05 6.1860563e-05 3.9819736e-04 9.6215332e-01\n",
            "  1.3373471e-03 5.7898434e-03 5.9810627e-06 3.1491956e-03 8.6861764e-06\n",
            "  2.6921608e-02]]\n"
          ]
        },
        {
          "name": "stderr",
          "output_type": "stream",
          "text": [
            "\n",
            "\n",
            "tqdm() Progress Bar Segments: 591it [05:12,  1.81it/s]\u001b[A\u001b[A"
          ]
        },
        {
          "name": "stdout",
          "output_type": "stream",
          "text": [
            "[[7.0273178e-05 8.7598082e-06 1.0722572e-05 9.6124355e-03 8.3882350e-01\n",
            "  1.8884455e-04 4.1579260e-03 3.0388846e-06 1.3177329e-01 5.2257368e-05\n",
            "  1.5299021e-02]]\n"
          ]
        },
        {
          "name": "stderr",
          "output_type": "stream",
          "text": [
            "\n",
            "\n",
            "tqdm() Progress Bar Segments: 592it [05:13,  1.81it/s]\u001b[A\u001b[A"
          ]
        },
        {
          "name": "stdout",
          "output_type": "stream",
          "text": [
            "[[9.4280869e-02 4.8002969e-03 1.6559310e-04 1.1880962e-03 3.9745096e-02\n",
            "  6.1481756e-01 2.9680504e-02 1.7660192e-01 5.7061012e-03 2.7189752e-02\n",
            "  5.8241459e-03]]\n"
          ]
        },
        {
          "name": "stderr",
          "output_type": "stream",
          "text": [
            "\n",
            "\n",
            "tqdm() Progress Bar Segments: 593it [05:13,  1.77it/s]\u001b[A\u001b[A"
          ]
        },
        {
          "name": "stdout",
          "output_type": "stream",
          "text": [
            "[[6.9489283e-04 3.9694121e-04 5.3946991e-07 4.3185755e-05 2.9709330e-04\n",
            "  6.1732652e-03 3.8573966e-05 9.9187863e-01 4.0533065e-05 1.4422735e-04\n",
            "  2.9217059e-04]]\n"
          ]
        },
        {
          "name": "stderr",
          "output_type": "stream",
          "text": [
            "\n",
            "\n",
            "tqdm() Progress Bar Segments: 594it [05:14,  1.81it/s]\u001b[A\u001b[A"
          ]
        },
        {
          "name": "stdout",
          "output_type": "stream",
          "text": [
            "[[0.00804614 0.07241566 0.01536106 0.0099818  0.606762   0.06894828\n",
            "  0.01468452 0.03901934 0.05245344 0.01543182 0.09689602]]\n"
          ]
        },
        {
          "name": "stderr",
          "output_type": "stream",
          "text": [
            "\n",
            "\n",
            "tqdm() Progress Bar Segments: 595it [05:14,  1.86it/s]\u001b[A\u001b[A"
          ]
        },
        {
          "name": "stdout",
          "output_type": "stream",
          "text": [
            "[[3.8157746e-03 4.1259266e-04 1.6291066e-03 1.6322528e-01 5.6346160e-01\n",
            "  2.0257058e-02 1.3259709e-01 1.9893254e-04 6.7845829e-02 2.5254076e-03\n",
            "  4.4031233e-02]]\n"
          ]
        },
        {
          "name": "stderr",
          "output_type": "stream",
          "text": [
            "\n",
            "\n",
            "tqdm() Progress Bar Segments: 596it [05:15,  1.82it/s]\u001b[A\u001b[A"
          ]
        },
        {
          "name": "stdout",
          "output_type": "stream",
          "text": [
            "[[9.1112042e-06 1.3664780e-06 4.0151072e-06 2.9395726e-03 8.6491382e-01\n",
            "  2.2429951e-05 3.2614402e-02 1.2510994e-06 9.9002644e-02 6.3583080e-05\n",
            "  4.2785826e-04]]\n"
          ]
        },
        {
          "name": "stderr",
          "output_type": "stream",
          "text": [
            "\n",
            "\n",
            "tqdm() Progress Bar Segments: 597it [05:15,  1.86it/s]\u001b[A\u001b[A"
          ]
        },
        {
          "name": "stdout",
          "output_type": "stream",
          "text": [
            "[[1.7890244e-03 5.4878956e-01 2.9957777e-02 3.9174259e-04 3.8185433e-01\n",
            "  1.4129890e-02 3.0777094e-04 1.3501175e-02 1.4939655e-04 7.9667108e-04\n",
            "  8.3326912e-03]]\n"
          ]
        },
        {
          "name": "stderr",
          "output_type": "stream",
          "text": [
            "\n",
            "\n",
            "tqdm() Progress Bar Segments: 598it [05:16,  1.88it/s]\u001b[A\u001b[A"
          ]
        },
        {
          "name": "stdout",
          "output_type": "stream",
          "text": [
            "[[0.00674404 0.00791426 0.00100077 0.00161232 0.08531432 0.02224304\n",
            "  0.02136131 0.01644425 0.25574547 0.00112114 0.58049905]]\n"
          ]
        },
        {
          "name": "stderr",
          "output_type": "stream",
          "text": [
            "\n",
            "\n",
            "tqdm() Progress Bar Segments: 599it [05:16,  1.91it/s]\u001b[A\u001b[A"
          ]
        },
        {
          "name": "stdout",
          "output_type": "stream",
          "text": [
            "[[1.1460721e-04 1.7502656e-05 3.3058193e-05 1.5321697e-02 2.1071865e-01\n",
            "  1.4398145e-03 1.5845884e-01 3.3680226e-05 6.0885084e-01 2.8282779e-03\n",
            "  2.1830241e-03]]\n"
          ]
        },
        {
          "name": "stderr",
          "output_type": "stream",
          "text": [
            "\n",
            "\n",
            "tqdm() Progress Bar Segments: 600it [05:17,  1.91it/s]\u001b[A\u001b[A"
          ]
        },
        {
          "name": "stdout",
          "output_type": "stream",
          "text": [
            "[[2.17577704e-04 1.18324115e-05 1.32967194e-04 1.87832247e-02\n",
            "  9.58690047e-01 8.27709562e-04 8.85860622e-03 4.15443037e-06\n",
            "  2.75657536e-03 2.54549668e-05 9.69179720e-03]]\n"
          ]
        },
        {
          "name": "stderr",
          "output_type": "stream",
          "text": [
            "\n",
            "\n",
            "tqdm() Progress Bar Segments: 601it [05:17,  1.91it/s]\u001b[A\u001b[A"
          ]
        },
        {
          "name": "stdout",
          "output_type": "stream",
          "text": [
            "[[4.8776880e-02 1.0868613e-02 5.7442230e-05 3.0976519e-04 7.8391517e-03\n",
            "  1.9700088e-01 5.7887626e-03 7.2471899e-01 4.1931652e-04 1.1050196e-03\n",
            "  3.1151734e-03]]\n"
          ]
        },
        {
          "name": "stderr",
          "output_type": "stream",
          "text": [
            "\n",
            "\n",
            "tqdm() Progress Bar Segments: 602it [05:18,  1.90it/s]\u001b[A\u001b[A"
          ]
        },
        {
          "name": "stdout",
          "output_type": "stream",
          "text": [
            "[[3.94653436e-03 5.47351222e-03 1.52668245e-02 3.39007733e-04\n",
            "  9.68932331e-01 1.54652749e-03 4.15701536e-04 1.48179638e-03\n",
            "  3.63686035e-04 3.02617700e-04 1.93158665e-03]]\n"
          ]
        },
        {
          "name": "stderr",
          "output_type": "stream",
          "text": [
            "\n",
            "\n",
            "tqdm() Progress Bar Segments: 603it [05:18,  1.91it/s]\u001b[A\u001b[A"
          ]
        },
        {
          "name": "stdout",
          "output_type": "stream",
          "text": [
            "[[2.1561040e-03 4.3812348e-03 2.3698105e-05 1.1936749e-04 1.6118709e-02\n",
            "  8.6029265e-03 7.2846204e-05 9.0889968e-03 4.7367487e-02 1.2385708e-04\n",
            "  9.1194469e-01]]\n"
          ]
        },
        {
          "name": "stderr",
          "output_type": "stream",
          "text": [
            "\n",
            "\n",
            "tqdm() Progress Bar Segments: 604it [05:19,  1.92it/s]\u001b[A\u001b[A"
          ]
        },
        {
          "name": "stdout",
          "output_type": "stream",
          "text": [
            "[[1.8624641e-01 1.3611660e-03 2.3891373e-05 5.0754956e-04 6.0747731e-03\n",
            "  2.0702696e-01 6.8088748e-02 4.5478255e-01 2.5064941e-03 7.2039582e-02\n",
            "  1.3417741e-03]]\n"
          ]
        },
        {
          "name": "stderr",
          "output_type": "stream",
          "text": [
            "\n",
            "\n",
            "tqdm() Progress Bar Segments: 605it [05:19,  1.93it/s]\u001b[A\u001b[A"
          ]
        },
        {
          "name": "stdout",
          "output_type": "stream",
          "text": [
            "[[4.1589462e-03 1.6055496e-03 2.5563628e-05 7.4898131e-04 2.5700114e-03\n",
            "  3.3427570e-02 1.3682723e-02 9.3446988e-01 7.4766634e-04 8.2044210e-03\n",
            "  3.5866600e-04]]\n"
          ]
        },
        {
          "name": "stderr",
          "output_type": "stream",
          "text": [
            "\n",
            "\n",
            "tqdm() Progress Bar Segments: 606it [05:20,  1.93it/s]\u001b[A\u001b[A"
          ]
        },
        {
          "name": "stdout",
          "output_type": "stream",
          "text": [
            "[[2.1128732e-05 5.6003510e-06 3.9189667e-06 4.2218174e-04 9.6517432e-01\n",
            "  7.5638563e-05 1.0608820e-03 7.7292464e-07 2.6791457e-02 8.8789884e-06\n",
            "  6.4352066e-03]]\n"
          ]
        },
        {
          "name": "stderr",
          "output_type": "stream",
          "text": [
            "\n",
            "\n",
            "tqdm() Progress Bar Segments: 607it [05:21,  1.93it/s]\u001b[A\u001b[A"
          ]
        },
        {
          "name": "stdout",
          "output_type": "stream",
          "text": [
            "[[1.4721020e-03 1.2566899e-03 3.4271952e-04 1.5787615e-02 6.8732691e-01\n",
            "  3.2804444e-02 4.4503119e-02 6.6958606e-04 1.9615614e-01 2.2859117e-03\n",
            "  1.7394723e-02]]\n"
          ]
        },
        {
          "name": "stderr",
          "output_type": "stream",
          "text": [
            "\n",
            "\n",
            "tqdm() Progress Bar Segments: 608it [05:21,  1.93it/s]\u001b[A\u001b[A"
          ]
        },
        {
          "name": "stdout",
          "output_type": "stream",
          "text": [
            "[[2.2121314e-03 5.1086685e-03 2.1879298e-03 1.0926929e-04 9.8648262e-01\n",
            "  2.9702103e-04 8.4053128e-05 1.8095020e-03 8.2869337e-05 5.3559903e-05\n",
            "  1.5723789e-03]]\n"
          ]
        },
        {
          "name": "stderr",
          "output_type": "stream",
          "text": [
            "\n",
            "\n",
            "tqdm() Progress Bar Segments: 609it [05:22,  1.92it/s]\u001b[A\u001b[A"
          ]
        },
        {
          "name": "stdout",
          "output_type": "stream",
          "text": [
            "[[1.7630548e-04 3.1547072e-05 2.4337964e-05 2.7591800e-03 7.0704728e-01\n",
            "  7.3557399e-04 1.6522758e-02 1.5541338e-05 2.6825497e-01 2.5279509e-04\n",
            "  4.1797105e-03]]\n"
          ]
        },
        {
          "name": "stderr",
          "output_type": "stream",
          "text": [
            "\n",
            "\n",
            "tqdm() Progress Bar Segments: 610it [05:22,  1.92it/s]\u001b[A\u001b[A"
          ]
        },
        {
          "name": "stdout",
          "output_type": "stream",
          "text": [
            "[[0.03711066 0.01115805 0.00130455 0.0029253  0.25019395 0.02590878\n",
            "  0.0062091  0.52473545 0.01015975 0.02186562 0.1084287 ]]\n"
          ]
        },
        {
          "name": "stderr",
          "output_type": "stream",
          "text": [
            "\n",
            "\n",
            "tqdm() Progress Bar Segments: 611it [05:23,  1.93it/s]\u001b[A\u001b[A"
          ]
        },
        {
          "name": "stdout",
          "output_type": "stream",
          "text": [
            "[[6.0106288e-03 3.2958854e-04 1.5834371e-04 1.7286129e-02 8.8742554e-02\n",
            "  2.0849485e-02 1.9912029e-02 5.5244198e-04 7.9431152e-01 4.1063125e-03\n",
            "  4.7741026e-02]]\n"
          ]
        },
        {
          "name": "stderr",
          "output_type": "stream",
          "text": [
            "\n",
            "\n",
            "tqdm() Progress Bar Segments: 612it [05:23,  1.91it/s]\u001b[A\u001b[A"
          ]
        },
        {
          "name": "stdout",
          "output_type": "stream",
          "text": [
            "[[1.8670419e-02 5.5185315e-04 1.8333578e-05 2.0482499e-04 3.3611804e-03\n",
            "  7.4621773e-01 1.3313417e-01 2.0628607e-02 4.1239714e-04 7.6700822e-02\n",
            "  9.9726472e-05]]\n"
          ]
        },
        {
          "name": "stderr",
          "output_type": "stream",
          "text": [
            "\n",
            "\n",
            "tqdm() Progress Bar Segments: 613it [05:24,  1.91it/s]\u001b[A\u001b[A"
          ]
        },
        {
          "name": "stdout",
          "output_type": "stream",
          "text": [
            "[[1.7030784e-06 4.6620269e-07 2.7704950e-06 7.6483680e-05 9.9414200e-01\n",
            "  7.1345880e-06 2.6226167e-03 5.5108220e-08 1.8967361e-03 3.5954818e-07\n",
            "  1.2496982e-03]]\n"
          ]
        },
        {
          "name": "stderr",
          "output_type": "stream",
          "text": [
            "\n",
            "\n",
            "tqdm() Progress Bar Segments: 614it [05:24,  1.91it/s]\u001b[A\u001b[A"
          ]
        },
        {
          "name": "stdout",
          "output_type": "stream",
          "text": [
            "[[2.1215132e-03 1.2474922e-04 3.0951700e-04 2.8531139e-03 2.9056823e-01\n",
            "  5.4834145e-03 1.3422384e-02 8.5342414e-05 5.9762087e-02 5.4556567e-05\n",
            "  6.2521505e-01]]\n"
          ]
        },
        {
          "name": "stderr",
          "output_type": "stream",
          "text": [
            "\n",
            "\n",
            "tqdm() Progress Bar Segments: 615it [05:25,  1.90it/s]\u001b[A\u001b[A"
          ]
        },
        {
          "name": "stdout",
          "output_type": "stream",
          "text": [
            "[[9.0524351e-05 6.9848204e-05 4.8451049e-05 1.6089642e-03 7.9945236e-01\n",
            "  9.3284942e-04 4.3722231e-02 1.5710983e-05 1.2827641e-01 1.4803260e-04\n",
            "  2.5634663e-02]]\n"
          ]
        },
        {
          "name": "stderr",
          "output_type": "stream",
          "text": [
            "\n",
            "\n",
            "tqdm() Progress Bar Segments: 616it [05:25,  1.91it/s]\u001b[A\u001b[A"
          ]
        },
        {
          "name": "stdout",
          "output_type": "stream",
          "text": [
            "[[0.00634289 0.00624843 0.00277736 0.00154834 0.34695736 0.02985859\n",
            "  0.09867123 0.00332405 0.12940355 0.00128451 0.37358373]]\n"
          ]
        },
        {
          "name": "stderr",
          "output_type": "stream",
          "text": [
            "\n",
            "\n",
            "tqdm() Progress Bar Segments: 617it [05:26,  1.92it/s]\u001b[A\u001b[A"
          ]
        },
        {
          "name": "stdout",
          "output_type": "stream",
          "text": [
            "[[1.64852552e-02 3.07473522e-02 4.42062301e-04 3.26229958e-04\n",
            "  2.68744566e-02 1.23772085e-01 1.20037631e-03 1.22499922e-02\n",
            "  4.89619672e-02 8.36234947e-04 7.38103986e-01]]\n"
          ]
        },
        {
          "name": "stderr",
          "output_type": "stream",
          "text": [
            "\n",
            "\n",
            "tqdm() Progress Bar Segments: 618it [05:26,  1.92it/s]\u001b[A\u001b[A"
          ]
        },
        {
          "name": "stdout",
          "output_type": "stream",
          "text": [
            "[[1.2081759e-03 1.3001241e-03 1.1921038e-04 1.6273815e-02 9.8329097e-02\n",
            "  6.7502357e-02 4.3946553e-02 1.0539435e-03 7.2779137e-01 1.1983600e-02\n",
            "  3.0491749e-02]]\n"
          ]
        },
        {
          "name": "stderr",
          "output_type": "stream",
          "text": [
            "\n",
            "\n",
            "tqdm() Progress Bar Segments: 619it [05:27,  1.89it/s]\u001b[A\u001b[A"
          ]
        },
        {
          "name": "stdout",
          "output_type": "stream",
          "text": [
            "[[7.2958070e-01 1.4851203e-02 2.1311051e-04 3.4041196e-04 3.9414421e-02\n",
            "  1.2301661e-01 8.1349704e-03 6.7271918e-02 7.4107340e-04 1.3473872e-02\n",
            "  2.9616375e-03]]\n"
          ]
        },
        {
          "name": "stderr",
          "output_type": "stream",
          "text": [
            "\n",
            "\n",
            "tqdm() Progress Bar Segments: 620it [05:27,  1.90it/s]\u001b[A\u001b[A"
          ]
        },
        {
          "name": "stdout",
          "output_type": "stream",
          "text": [
            "[[3.54188308e-03 2.64354632e-03 5.80287073e-04 1.44182501e-04\n",
            "  1.06950253e-02 3.22100632e-02 3.63524043e-04 5.69055497e-04\n",
            "  7.68821500e-03 1.02495986e-04 9.41461682e-01]]\n"
          ]
        },
        {
          "name": "stderr",
          "output_type": "stream",
          "text": [
            "\n",
            "\n",
            "tqdm() Progress Bar Segments: 621it [05:28,  1.90it/s]\u001b[A\u001b[A"
          ]
        },
        {
          "name": "stdout",
          "output_type": "stream",
          "text": [
            "[[3.3293336e-04 5.5415912e-05 3.0186688e-05 8.0408528e-05 2.9515186e-01\n",
            "  9.6760830e-04 3.3725984e-03 1.6964135e-05 2.3299553e-02 1.0676741e-05\n",
            "  6.7668170e-01]]\n"
          ]
        },
        {
          "name": "stderr",
          "output_type": "stream",
          "text": [
            "\n",
            "\n",
            "tqdm() Progress Bar Segments: 622it [05:28,  1.90it/s]\u001b[A\u001b[A"
          ]
        },
        {
          "name": "stdout",
          "output_type": "stream",
          "text": [
            "[[2.5215966e-01 2.6608235e-03 2.2411421e-05 7.8576079e-05 1.5673838e-03\n",
            "  7.3192018e-01 3.4689780e-03 5.2636620e-03 3.9518488e-04 1.5917530e-03\n",
            "  8.7135693e-04]]\n"
          ]
        },
        {
          "name": "stderr",
          "output_type": "stream",
          "text": [
            "\n",
            "\n",
            "tqdm() Progress Bar Segments: 623it [05:29,  1.92it/s]\u001b[A\u001b[A"
          ]
        },
        {
          "name": "stdout",
          "output_type": "stream",
          "text": [
            "[[3.7631337e-03 4.0418372e-04 1.1090430e-03 3.3651758e-02 8.2314223e-01\n",
            "  8.2667600e-03 3.0381693e-02 1.1823971e-04 3.8774673e-02 7.9076336e-04\n",
            "  5.9597470e-02]]\n"
          ]
        },
        {
          "name": "stderr",
          "output_type": "stream",
          "text": [
            "\n",
            "\n",
            "tqdm() Progress Bar Segments: 624it [05:29,  1.92it/s]\u001b[A\u001b[A"
          ]
        },
        {
          "name": "stdout",
          "output_type": "stream",
          "text": [
            "[[8.2902692e-04 5.0164406e-05 1.4496669e-04 8.2799146e-04 8.9335501e-01\n",
            "  2.7909570e-03 1.2598702e-03 7.8583043e-06 3.5728370e-03 8.5583169e-06\n",
            "  9.7152717e-02]]\n"
          ]
        },
        {
          "name": "stderr",
          "output_type": "stream",
          "text": [
            "\n",
            "\n",
            "tqdm() Progress Bar Segments: 625it [05:30,  1.90it/s]\u001b[A\u001b[A"
          ]
        },
        {
          "name": "stdout",
          "output_type": "stream",
          "text": [
            "[[1.7499560e-04 4.5129116e-05 4.4638622e-05 2.0225930e-03 8.0135185e-01\n",
            "  1.6904692e-03 1.4428371e-02 1.0705436e-05 1.6107358e-01 9.8671022e-05\n",
            "  1.9059008e-02]]\n"
          ]
        },
        {
          "name": "stderr",
          "output_type": "stream",
          "text": [
            "\n",
            "\n",
            "tqdm() Progress Bar Segments: 626it [05:30,  1.91it/s]\u001b[A\u001b[A"
          ]
        },
        {
          "name": "stdout",
          "output_type": "stream",
          "text": [
            "[[2.6812562e-05 8.8456991e-06 1.1654018e-05 1.6428241e-04 9.8901993e-01\n",
            "  2.4223767e-04 2.2721374e-03 1.2365859e-06 2.5951962e-03 2.6686121e-06\n",
            "  5.6549478e-03]]\n"
          ]
        },
        {
          "name": "stderr",
          "output_type": "stream",
          "text": [
            "\n",
            "\n",
            "tqdm() Progress Bar Segments: 627it [05:31,  1.91it/s]\u001b[A\u001b[A"
          ]
        },
        {
          "name": "stdout",
          "output_type": "stream",
          "text": [
            "[[2.7945347e-03 1.8947605e-03 2.0219925e-04 4.7314810e-04 5.7053403e-03\n",
            "  9.0256743e-03 2.7400367e-03 1.1265111e-03 4.1946482e-02 9.7901269e-05\n",
            "  9.3399346e-01]]\n"
          ]
        },
        {
          "name": "stderr",
          "output_type": "stream",
          "text": [
            "\n",
            "\n",
            "tqdm() Progress Bar Segments: 628it [05:32,  1.92it/s]\u001b[A\u001b[A"
          ]
        },
        {
          "name": "stdout",
          "output_type": "stream",
          "text": [
            "[[5.4638373e-04 4.2763386e-05 3.1282558e-04 5.1527326e-03 9.8151004e-01\n",
            "  2.4627950e-03 3.5124777e-03 8.3099667e-06 1.2009998e-03 2.0286247e-05\n",
            "  5.2304231e-03]]\n"
          ]
        },
        {
          "name": "stderr",
          "output_type": "stream",
          "text": [
            "\n",
            "\n",
            "tqdm() Progress Bar Segments: 629it [05:32,  1.93it/s]\u001b[A\u001b[A"
          ]
        },
        {
          "name": "stdout",
          "output_type": "stream",
          "text": [
            "[[1.2652490e-02 1.0100844e-02 5.4163125e-04 2.0202978e-03 2.2116307e-02\n",
            "  1.2830625e-02 2.8759730e-03 1.2700908e-02 8.9000337e-02 3.5615344e-04\n",
            "  8.3480442e-01]]\n"
          ]
        },
        {
          "name": "stderr",
          "output_type": "stream",
          "text": [
            "\n",
            "\n",
            "tqdm() Progress Bar Segments: 630it [05:33,  1.92it/s]\u001b[A\u001b[A"
          ]
        },
        {
          "name": "stdout",
          "output_type": "stream",
          "text": [
            "[[9.5431786e-04 7.6296543e-05 5.8745805e-05 4.5131608e-03 2.3637271e-01\n",
            "  2.2270130e-03 4.2543132e-03 2.2724813e-05 2.9561204e-01 6.7315283e-05\n",
            "  4.5584133e-01]]\n"
          ]
        },
        {
          "name": "stderr",
          "output_type": "stream",
          "text": [
            "\n",
            "\n",
            "tqdm() Progress Bar Segments: 631it [05:33,  1.91it/s]\u001b[A\u001b[A"
          ]
        },
        {
          "name": "stdout",
          "output_type": "stream",
          "text": [
            "[[1.6214523e-03 1.2165195e-04 2.7122459e-04 1.1314559e-03 2.2058018e-01\n",
            "  3.1043398e-03 1.1943373e-02 6.9551454e-05 4.5377638e-02 7.0125236e-05\n",
            "  7.1570903e-01]]\n"
          ]
        },
        {
          "name": "stderr",
          "output_type": "stream",
          "text": [
            "\n",
            "\n",
            "tqdm() Progress Bar Segments: 632it [05:34,  1.90it/s]\u001b[A\u001b[A"
          ]
        },
        {
          "name": "stdout",
          "output_type": "stream",
          "text": [
            "[[1.5735296e-04 4.4331198e-05 4.9301179e-05 4.6587386e-03 6.5903479e-01\n",
            "  1.4383026e-03 4.5486312e-02 2.0266767e-05 2.2012757e-01 1.5163314e-04\n",
            "  6.8831421e-02]]\n"
          ]
        },
        {
          "name": "stderr",
          "output_type": "stream",
          "text": [
            "\n",
            "\n",
            "tqdm() Progress Bar Segments: 633it [05:34,  1.91it/s]\u001b[A\u001b[A"
          ]
        },
        {
          "name": "stdout",
          "output_type": "stream",
          "text": [
            "[[3.5241155e-05 3.2795579e-06 2.5545851e-06 1.5655007e-04 8.6058676e-01\n",
            "  1.8021141e-04 1.9473508e-03 6.4172087e-07 9.3875252e-02 6.1222891e-06\n",
            "  4.3205988e-02]]\n"
          ]
        },
        {
          "name": "stderr",
          "output_type": "stream",
          "text": [
            "\n",
            "\n",
            "tqdm() Progress Bar Segments: 634it [05:35,  1.91it/s]\u001b[A\u001b[A"
          ]
        },
        {
          "name": "stdout",
          "output_type": "stream",
          "text": [
            "[[1.82253407e-05 1.54482041e-05 1.51246350e-05 1.59887911e-03\n",
            "  9.51757610e-01 6.07374714e-05 5.82472235e-03 5.02848161e-06\n",
            "  3.71072404e-02 1.10477795e-05 3.58588179e-03]]\n"
          ]
        },
        {
          "name": "stderr",
          "output_type": "stream",
          "text": [
            "\n",
            "\n",
            "tqdm() Progress Bar Segments: 635it [05:35,  1.91it/s]\u001b[A\u001b[A"
          ]
        },
        {
          "name": "stdout",
          "output_type": "stream",
          "text": [
            "[[7.0537768e-02 2.3432551e-02 5.6157151e-04 9.7369845e-04 8.5331619e-02\n",
            "  2.5287986e-02 3.0609036e-03 6.1072791e-01 6.7825974e-03 3.3897825e-03\n",
            "  1.6991360e-01]]\n"
          ]
        },
        {
          "name": "stderr",
          "output_type": "stream",
          "text": [
            "\n",
            "\n",
            "tqdm() Progress Bar Segments: 636it [05:36,  1.91it/s]\u001b[A\u001b[A"
          ]
        },
        {
          "name": "stdout",
          "output_type": "stream",
          "text": [
            "[[2.7960101e-03 5.0277694e-04 1.0209781e-03 6.2889749e-01 2.4127948e-01\n",
            "  7.5077824e-03 6.6317111e-02 2.5251199e-04 3.7963785e-02 2.9991674e-03\n",
            "  1.0462853e-02]]\n"
          ]
        },
        {
          "name": "stderr",
          "output_type": "stream",
          "text": [
            "\n",
            "\n",
            "tqdm() Progress Bar Segments: 637it [05:36,  1.91it/s]\u001b[A\u001b[A"
          ]
        },
        {
          "name": "stdout",
          "output_type": "stream",
          "text": [
            "[[7.4385518e-01 8.9612359e-04 6.5453569e-05 6.8630610e-04 1.1506060e-02\n",
            "  6.8603456e-02 1.3840316e-03 9.3501307e-02 1.1340473e-02 4.1964959e-02\n",
            "  2.6196731e-02]]\n"
          ]
        },
        {
          "name": "stderr",
          "output_type": "stream",
          "text": [
            "\n",
            "\n",
            "tqdm() Progress Bar Segments: 638it [05:37,  1.92it/s]\u001b[A\u001b[A"
          ]
        },
        {
          "name": "stdout",
          "output_type": "stream",
          "text": [
            "[[0.00274579 0.16512536 0.00489385 0.00411165 0.26977476 0.31146985\n",
            "  0.02024272 0.13124418 0.02724038 0.02298184 0.04016957]]\n"
          ]
        },
        {
          "name": "stderr",
          "output_type": "stream",
          "text": [
            "\n",
            "\n",
            "tqdm() Progress Bar Segments: 639it [05:37,  1.91it/s]\u001b[A\u001b[A"
          ]
        },
        {
          "name": "stdout",
          "output_type": "stream",
          "text": [
            "[[0.00412888 0.00420267 0.0005906  0.0011946  0.06883132 0.00669158\n",
            "  0.00982078 0.01265137 0.32127926 0.00092966 0.5696793 ]]\n"
          ]
        },
        {
          "name": "stderr",
          "output_type": "stream",
          "text": [
            "\n",
            "\n",
            "tqdm() Progress Bar Segments: 640it [05:38,  1.91it/s]\u001b[A\u001b[A"
          ]
        },
        {
          "name": "stdout",
          "output_type": "stream",
          "text": [
            "[[8.9268829e-04 3.4155912e-04 5.3191785e-04 2.1984824e-03 8.6240667e-01\n",
            "  3.7206558e-03 2.2628231e-02 3.8587310e-05 1.7731408e-02 9.9902005e-05\n",
            "  8.9409947e-02]]\n"
          ]
        },
        {
          "name": "stderr",
          "output_type": "stream",
          "text": [
            "\n",
            "\n",
            "tqdm() Progress Bar Segments: 641it [05:38,  1.92it/s]\u001b[A\u001b[A"
          ]
        },
        {
          "name": "stdout",
          "output_type": "stream",
          "text": [
            "[[0.0082759  0.03957945 0.0055564  0.00394716 0.6211956  0.03359592\n",
            "  0.00996021 0.05179324 0.03886616 0.00256965 0.18466038]]\n"
          ]
        },
        {
          "name": "stderr",
          "output_type": "stream",
          "text": [
            "\n",
            "\n",
            "tqdm() Progress Bar Segments: 642it [05:39,  1.91it/s]\u001b[A\u001b[A"
          ]
        },
        {
          "name": "stdout",
          "output_type": "stream",
          "text": [
            "[[7.0910217e-05 6.7330337e-05 2.2285498e-05 9.0152823e-04 8.1223798e-01\n",
            "  4.3319416e-04 6.0869791e-03 6.0400785e-06 1.1966574e-01 4.8701124e-05\n",
            "  6.0459379e-02]]\n"
          ]
        },
        {
          "name": "stderr",
          "output_type": "stream",
          "text": [
            "\n",
            "\n",
            "tqdm() Progress Bar Segments: 643it [05:39,  1.91it/s]\u001b[A\u001b[A"
          ]
        },
        {
          "name": "stdout",
          "output_type": "stream",
          "text": [
            "[[0.00362009 0.02980058 0.00116226 0.0024707  0.30571464 0.0729738\n",
            "  0.03752289 0.16635393 0.30959335 0.00612674 0.06466096]]\n"
          ]
        },
        {
          "name": "stderr",
          "output_type": "stream",
          "text": [
            "\n",
            "\n",
            "tqdm() Progress Bar Segments: 644it [05:40,  1.91it/s]\u001b[A\u001b[A"
          ]
        },
        {
          "name": "stdout",
          "output_type": "stream",
          "text": [
            "[[5.8457727e-04 2.2918904e-04 2.3021896e-05 2.0530064e-05 6.1854757e-03\n",
            "  4.4958661e-03 5.6359021e-04 1.4658002e-04 1.5595432e-02 1.8615343e-05\n",
            "  9.7213709e-01]]\n"
          ]
        },
        {
          "name": "stderr",
          "output_type": "stream",
          "text": [
            "\n",
            "\n",
            "tqdm() Progress Bar Segments: 645it [05:40,  1.92it/s]\u001b[A\u001b[A"
          ]
        },
        {
          "name": "stdout",
          "output_type": "stream",
          "text": [
            "[[2.5182767e-03 4.0319271e-04 1.9727067e-04 9.5694780e-04 6.1873801e-02\n",
            "  4.2432179e-03 7.7948314e-03 4.8808707e-04 1.0195267e-01 2.2962036e-04\n",
            "  8.1934208e-01]]\n"
          ]
        },
        {
          "name": "stderr",
          "output_type": "stream",
          "text": [
            "\n",
            "\n",
            "tqdm() Progress Bar Segments: 646it [05:41,  1.92it/s]\u001b[A\u001b[A"
          ]
        },
        {
          "name": "stdout",
          "output_type": "stream",
          "text": [
            "[[1.8960746e-03 3.5568676e-04 7.3563709e-04 6.9806655e-03 7.4289280e-01\n",
            "  3.1691179e-02 3.4109667e-02 1.2593660e-04 5.8969174e-02 4.2297703e-04\n",
            "  1.2182020e-01]]\n"
          ]
        },
        {
          "name": "stderr",
          "output_type": "stream",
          "text": [
            "\n",
            "\n",
            "tqdm() Progress Bar Segments: 647it [05:41,  1.93it/s]\u001b[A\u001b[A"
          ]
        },
        {
          "name": "stdout",
          "output_type": "stream",
          "text": [
            "[[1.71124132e-03 1.23851711e-03 6.72311899e-06 2.46207666e-04\n",
            "  2.76217726e-03 1.09226674e-01 6.83672726e-02 8.00815582e-01\n",
            "  3.89989204e-04 1.50380414e-02 1.97530448e-04]]\n"
          ]
        },
        {
          "name": "stderr",
          "output_type": "stream",
          "text": [
            "\n",
            "\n",
            "tqdm() Progress Bar Segments: 648it [05:42,  1.92it/s]\u001b[A\u001b[A"
          ]
        },
        {
          "name": "stdout",
          "output_type": "stream",
          "text": [
            "[[2.3105639e-04 2.4605057e-05 7.3900002e-05 4.7849091e-03 9.4547778e-01\n",
            "  2.8950344e-03 9.7868983e-03 5.4335369e-06 1.6181728e-02 2.6420743e-05\n",
            "  2.0512190e-02]]\n"
          ]
        },
        {
          "name": "stderr",
          "output_type": "stream",
          "text": [
            "\n",
            "\n",
            "tqdm() Progress Bar Segments: 649it [05:42,  1.93it/s]\u001b[A\u001b[A"
          ]
        },
        {
          "name": "stdout",
          "output_type": "stream",
          "text": [
            "[[9.6957097e-03 7.9373026e-04 7.6083589e-04 6.4845890e-04 5.1537376e-02\n",
            "  7.2203176e-03 4.1109850e-03 1.0997313e-03 8.2333855e-02 2.8186201e-04\n",
            "  8.4151715e-01]]\n"
          ]
        },
        {
          "name": "stderr",
          "output_type": "stream",
          "text": [
            "\n",
            "\n",
            "tqdm() Progress Bar Segments: 650it [05:43,  1.93it/s]\u001b[A\u001b[A"
          ]
        },
        {
          "name": "stdout",
          "output_type": "stream",
          "text": [
            "[[2.0117271e-03 2.0172293e-04 6.6362688e-04 4.6110041e-03 3.3271939e-01\n",
            "  6.6825543e-03 7.0341960e-02 2.4941473e-04 1.7781164e-01 4.5635947e-04\n",
            "  4.0425062e-01]]\n"
          ]
        },
        {
          "name": "stderr",
          "output_type": "stream",
          "text": [
            "\n",
            "\n",
            "tqdm() Progress Bar Segments: 651it [05:44,  1.93it/s]\u001b[A\u001b[A"
          ]
        },
        {
          "name": "stdout",
          "output_type": "stream",
          "text": [
            "[[2.5421395e-03 1.3759764e-04 7.9515460e-04 4.2728695e-01 4.8380935e-01\n",
            "  4.1174749e-03 2.0428330e-02 3.1157790e-05 1.4368094e-02 3.8033686e-04\n",
            "  4.6103384e-02]]\n"
          ]
        },
        {
          "name": "stderr",
          "output_type": "stream",
          "text": [
            "\n",
            "\n",
            "tqdm() Progress Bar Segments: 652it [05:44,  1.93it/s]\u001b[A\u001b[A"
          ]
        },
        {
          "name": "stdout",
          "output_type": "stream",
          "text": [
            "[[4.4994533e-02 1.6935656e-04 3.9516408e-06 7.9310403e-06 1.1022512e-03\n",
            "  8.5763389e-01 9.3663573e-02 1.0826520e-03 8.3776431e-05 1.2082228e-03\n",
            "  5.0026432e-05]]\n"
          ]
        },
        {
          "name": "stderr",
          "output_type": "stream",
          "text": [
            "\n",
            "\n",
            "tqdm() Progress Bar Segments: 653it [05:45,  1.94it/s]\u001b[A\u001b[A"
          ]
        },
        {
          "name": "stdout",
          "output_type": "stream",
          "text": [
            "[[6.4187823e-04 6.1731593e-04 4.2152166e-04 5.7471871e-01 1.3730685e-01\n",
            "  4.7314786e-03 2.5732008e-01 2.2084250e-04 1.8040705e-02 4.5352159e-03\n",
            "  1.4454938e-03]]\n"
          ]
        },
        {
          "name": "stderr",
          "output_type": "stream",
          "text": [
            "\n",
            "\n",
            "tqdm() Progress Bar Segments: 654it [05:45,  1.94it/s]\u001b[A\u001b[A"
          ]
        },
        {
          "name": "stdout",
          "output_type": "stream",
          "text": [
            "[[2.0945147e-03 4.1574230e-03 3.4981762e-04 2.4978556e-03 5.7918227e-01\n",
            "  3.9192073e-02 3.0317228e-02 3.7265256e-02 2.3515902e-01 2.0108146e-03\n",
            "  6.7773670e-02]]\n"
          ]
        },
        {
          "name": "stderr",
          "output_type": "stream",
          "text": [
            "\n",
            "\n",
            "tqdm() Progress Bar Segments: 655it [05:46,  1.94it/s]\u001b[A\u001b[A"
          ]
        },
        {
          "name": "stdout",
          "output_type": "stream",
          "text": [
            "[[2.83217952e-02 2.19522335e-04 2.76422082e-03 2.65437156e-01\n",
            "  3.64857346e-01 3.12749892e-02 1.40555017e-02 1.07572574e-04\n",
            "  2.08161194e-02 3.48677917e-04 2.71797121e-01]]\n"
          ]
        },
        {
          "name": "stderr",
          "output_type": "stream",
          "text": [
            "\n",
            "\n",
            "tqdm() Progress Bar Segments: 656it [05:46,  1.94it/s]\u001b[A\u001b[A"
          ]
        },
        {
          "name": "stdout",
          "output_type": "stream",
          "text": [
            "[[9.92693895e-05 2.49492518e-06 4.28311796e-06 1.46405045e-02\n",
            "  1.15145724e-02 2.74853810e-04 5.32502308e-02 2.36177275e-05\n",
            "  9.07662332e-01 1.21583333e-02 3.69515823e-04]]\n"
          ]
        },
        {
          "name": "stderr",
          "output_type": "stream",
          "text": [
            "\n",
            "\n",
            "tqdm() Progress Bar Segments: 657it [05:47,  1.93it/s]\u001b[A\u001b[A"
          ]
        },
        {
          "name": "stdout",
          "output_type": "stream",
          "text": [
            "[[2.8130442e-05 1.3402235e-06 5.1497699e-07 4.0579328e-04 7.4625029e-03\n",
            "  2.6419024e-05 4.2733850e-04 3.0539427e-06 9.8850840e-01 8.8472523e-05\n",
            "  3.0480898e-03]]\n"
          ]
        },
        {
          "name": "stderr",
          "output_type": "stream",
          "text": [
            "\n",
            "\n",
            "tqdm() Progress Bar Segments: 658it [05:47,  1.94it/s]\u001b[A\u001b[A"
          ]
        },
        {
          "name": "stdout",
          "output_type": "stream",
          "text": [
            "[[0.00136528 0.018966   0.00142808 0.0062595  0.4763057  0.10795036\n",
            "  0.1432516  0.10611285 0.09751262 0.02204296 0.01880503]]\n"
          ]
        },
        {
          "name": "stderr",
          "output_type": "stream",
          "text": [
            "\n",
            "\n",
            "tqdm() Progress Bar Segments: 659it [05:48,  1.94it/s]\u001b[A\u001b[A"
          ]
        },
        {
          "name": "stdout",
          "output_type": "stream",
          "text": [
            "[[6.8012858e-03 1.1982711e-04 8.5645192e-04 7.5243282e-01 1.8790784e-01\n",
            "  6.0393345e-03 7.3591587e-03 3.3575765e-05 1.3167540e-02 6.5772462e-04\n",
            "  2.4624484e-02]]\n"
          ]
        },
        {
          "name": "stderr",
          "output_type": "stream",
          "text": [
            "\n",
            "\n",
            "tqdm() Progress Bar Segments: 660it [05:48,  1.93it/s]\u001b[A\u001b[A"
          ]
        },
        {
          "name": "stdout",
          "output_type": "stream",
          "text": [
            "[[1.3956522e-03 1.9766412e-04 8.2092144e-04 3.1511267e-03 6.9090950e-01\n",
            "  4.0348386e-03 6.5623693e-02 7.5049022e-05 4.5832645e-02 1.3253718e-04\n",
            "  1.8782632e-01]]\n"
          ]
        },
        {
          "name": "stderr",
          "output_type": "stream",
          "text": [
            "\n",
            "\n",
            "tqdm() Progress Bar Segments: 661it [05:49,  1.92it/s]\u001b[A\u001b[A"
          ]
        },
        {
          "name": "stdout",
          "output_type": "stream",
          "text": [
            "[[7.8174897e-05 1.5077092e-05 3.6198537e-05 2.6301513e-03 9.4465518e-01\n",
            "  4.7208639e-04 9.7852070e-03 2.9288101e-06 1.9385897e-02 1.6431635e-05\n",
            "  2.2922689e-02]]\n"
          ]
        },
        {
          "name": "stderr",
          "output_type": "stream",
          "text": [
            "\n",
            "\n",
            "tqdm() Progress Bar Segments: 662it [05:49,  1.92it/s]\u001b[A\u001b[A"
          ]
        },
        {
          "name": "stdout",
          "output_type": "stream",
          "text": [
            "[[4.62970696e-03 2.27859971e-04 4.34289032e-05 5.54099912e-04\n",
            "  1.91045355e-03 7.37740472e-02 8.94318879e-01 3.43006989e-03\n",
            "  3.08801397e-03 1.79168172e-02 1.06710504e-04]]\n"
          ]
        },
        {
          "name": "stderr",
          "output_type": "stream",
          "text": [
            "\n",
            "\n",
            "tqdm() Progress Bar Segments: 663it [05:50,  1.92it/s]\u001b[A\u001b[A"
          ]
        },
        {
          "name": "stdout",
          "output_type": "stream",
          "text": [
            "[[1.7603023e-05 3.0259946e-02 1.3211059e-06 6.2815780e-05 2.8268195e-04\n",
            "  5.8197882e-04 1.6811528e-06 9.6871132e-01 3.6601405e-06 3.8228722e-05\n",
            "  3.8880429e-05]]\n"
          ]
        },
        {
          "name": "stderr",
          "output_type": "stream",
          "text": [
            "\n",
            "\n",
            "tqdm() Progress Bar Segments: 664it [05:50,  1.93it/s]\u001b[A\u001b[A"
          ]
        },
        {
          "name": "stdout",
          "output_type": "stream",
          "text": [
            "[[1.5204299e-04 2.5051617e-04 5.9121841e-05 3.4531410e-04 8.6973464e-01\n",
            "  1.5566477e-03 1.1555691e-02 8.0241385e-05 1.0054337e-01 1.2245237e-04\n",
            "  1.5599974e-02]]\n"
          ]
        },
        {
          "name": "stderr",
          "output_type": "stream",
          "text": [
            "\n",
            "\n",
            "tqdm() Progress Bar Segments: 665it [05:51,  1.93it/s]\u001b[A\u001b[A"
          ]
        },
        {
          "name": "stdout",
          "output_type": "stream",
          "text": [
            "[[8.6804439e-04 4.1533622e-04 4.5688375e-06 2.4255384e-03 5.7388871e-04\n",
            "  1.6125247e-01 5.5044973e-01 2.6671550e-01 3.0573524e-04 1.6967401e-02\n",
            "  2.1823495e-05]]\n"
          ]
        },
        {
          "name": "stderr",
          "output_type": "stream",
          "text": [
            "\n",
            "\n",
            "tqdm() Progress Bar Segments: 666it [05:51,  1.93it/s]\u001b[A\u001b[A"
          ]
        },
        {
          "name": "stdout",
          "output_type": "stream",
          "text": [
            "[[4.9536990e-05 2.1709488e-05 2.7249385e-05 1.0300517e-02 9.8010784e-01\n",
            "  7.3194801e-04 4.1959025e-03 3.1190859e-06 3.2986461e-03 5.5505890e-05\n",
            "  1.2080477e-03]]\n"
          ]
        },
        {
          "name": "stderr",
          "output_type": "stream",
          "text": [
            "\n",
            "\n",
            "tqdm() Progress Bar Segments: 667it [05:52,  1.86it/s]\u001b[A\u001b[A"
          ]
        },
        {
          "name": "stdout",
          "output_type": "stream",
          "text": [
            "[[0.0045818  0.00228271 0.0012231  0.02825917 0.4828098  0.03566032\n",
            "  0.07002946 0.00128336 0.22186208 0.00426691 0.1477413 ]]\n"
          ]
        },
        {
          "name": "stderr",
          "output_type": "stream",
          "text": [
            "\n",
            "\n",
            "tqdm() Progress Bar Segments: 668it [05:52,  1.88it/s]\u001b[A\u001b[A"
          ]
        },
        {
          "name": "stdout",
          "output_type": "stream",
          "text": [
            "[[1.02357725e-02 8.09544474e-02 1.58325850e-03 3.77016375e-04\n",
            "  5.51042110e-02 5.09871654e-02 3.49489995e-03 3.80848232e-03\n",
            "  4.95476611e-02 1.78463710e-03 7.42122471e-01]]\n"
          ]
        },
        {
          "name": "stderr",
          "output_type": "stream",
          "text": [
            "\n",
            "\n",
            "tqdm() Progress Bar Segments: 669it [05:53,  1.90it/s]\u001b[A\u001b[A"
          ]
        },
        {
          "name": "stdout",
          "output_type": "stream",
          "text": [
            "[[3.0370236e-03 5.5196049e-04 1.5222345e-04 1.5290569e-04 8.0685401e-03\n",
            "  1.9126523e-02 2.5623669e-03 9.8487537e-04 6.7461422e-03 6.4560722e-05\n",
            "  9.5855278e-01]]\n"
          ]
        },
        {
          "name": "stderr",
          "output_type": "stream",
          "text": [
            "\n",
            "\n",
            "tqdm() Progress Bar Segments: 670it [05:53,  1.91it/s]\u001b[A\u001b[A"
          ]
        },
        {
          "name": "stdout",
          "output_type": "stream",
          "text": [
            "[[0.24547598 0.04547343 0.00087838 0.00129502 0.04119536 0.39268225\n",
            "  0.01381667 0.18004957 0.00742793 0.00530509 0.06640024]]\n"
          ]
        },
        {
          "name": "stderr",
          "output_type": "stream",
          "text": [
            "\n",
            "\n",
            "tqdm() Progress Bar Segments: 671it [05:54,  1.92it/s]\u001b[A\u001b[A"
          ]
        },
        {
          "name": "stdout",
          "output_type": "stream",
          "text": [
            "[[1.3279498e-01 1.4171345e-02 3.0439148e-02 4.2497064e-03 7.4979556e-01\n",
            "  2.2029646e-02 1.7081059e-03 3.5395916e-03 3.8094956e-03 6.4647384e-04\n",
            "  3.6815919e-02]]\n"
          ]
        },
        {
          "name": "stderr",
          "output_type": "stream",
          "text": [
            "\n",
            "\n",
            "tqdm() Progress Bar Segments: 672it [05:54,  1.92it/s]\u001b[A\u001b[A"
          ]
        },
        {
          "name": "stdout",
          "output_type": "stream",
          "text": [
            "[[5.5039305e-02 5.1136500e-01 1.1796610e-02 1.5062524e-04 2.9484090e-01\n",
            "  4.4274222e-02 1.1504247e-03 3.1632323e-02 1.2141512e-03 2.9107076e-04\n",
            "  4.8245329e-02]]\n"
          ]
        },
        {
          "name": "stderr",
          "output_type": "stream",
          "text": [
            "\n",
            "\n",
            "tqdm() Progress Bar Segments: 673it [05:55,  1.91it/s]\u001b[A\u001b[A"
          ]
        },
        {
          "name": "stdout",
          "output_type": "stream",
          "text": [
            "[[1.7604332e-01 2.4802710e-03 6.3920015e-05 8.2168198e-04 2.1370204e-02\n",
            "  2.9823798e-01 9.0042800e-03 4.6119142e-01 3.7645383e-03 2.5112867e-02\n",
            "  1.9094279e-03]]\n"
          ]
        },
        {
          "name": "stderr",
          "output_type": "stream",
          "text": [
            "\n",
            "\n",
            "tqdm() Progress Bar Segments: 674it [05:55,  1.91it/s]\u001b[A\u001b[A"
          ]
        },
        {
          "name": "stdout",
          "output_type": "stream",
          "text": [
            "[[4.8875976e-03 2.4671091e-03 2.6395280e-04 5.6055473e-04 3.0244213e-02\n",
            "  2.3132922e-02 5.3555812e-03 5.1796585e-03 7.5047657e-02 2.7290458e-04\n",
            "  8.5258782e-01]]\n"
          ]
        },
        {
          "name": "stderr",
          "output_type": "stream",
          "text": [
            "\n",
            "\n",
            "tqdm() Progress Bar Segments: 675it [05:56,  1.89it/s]\u001b[A\u001b[A"
          ]
        },
        {
          "name": "stdout",
          "output_type": "stream",
          "text": [
            "[[9.6048828e-04 2.7030301e-01 5.6013945e-02 6.9577276e-04 6.4506590e-01\n",
            "  9.0085985e-03 5.0442078e-04 1.5191859e-02 1.1471249e-04 1.4254060e-03\n",
            "  7.1587262e-04]]\n"
          ]
        },
        {
          "name": "stderr",
          "output_type": "stream",
          "text": [
            "\n",
            "\n",
            "tqdm() Progress Bar Segments: 676it [05:57,  1.89it/s]\u001b[A\u001b[A"
          ]
        },
        {
          "name": "stdout",
          "output_type": "stream",
          "text": [
            "[[7.3003316e-01 3.1096893e-03 1.0522958e-04 6.3010765e-04 5.5124266e-03\n",
            "  1.5540308e-02 3.2404419e-03 2.3264520e-01 3.2675217e-04 3.1787008e-03\n",
            "  5.6779529e-03]]\n"
          ]
        },
        {
          "name": "stderr",
          "output_type": "stream",
          "text": [
            "\n",
            "\n",
            "tqdm() Progress Bar Segments: 677it [05:57,  1.91it/s]\u001b[A\u001b[A"
          ]
        },
        {
          "name": "stdout",
          "output_type": "stream",
          "text": [
            "[[0.32311025 0.00308435 0.00075537 0.00781563 0.04001752 0.2155899\n",
            "  0.0047149  0.3572528  0.00958836 0.01578556 0.02228539]]\n"
          ]
        },
        {
          "name": "stderr",
          "output_type": "stream",
          "text": [
            "\n",
            "\n",
            "tqdm() Progress Bar Segments: 678it [05:58,  1.88it/s]\u001b[A\u001b[A"
          ]
        },
        {
          "name": "stdout",
          "output_type": "stream",
          "text": [
            "[[4.6603134e-04 7.9111314e-06 6.7285637e-06 1.2455000e-02 4.0137976e-02\n",
            "  2.6840885e-04 3.4749045e-04 5.5542077e-06 7.4757338e-01 4.5565375e-05\n",
            "  1.9868602e-01]]\n"
          ]
        },
        {
          "name": "stderr",
          "output_type": "stream",
          "text": [
            "\n",
            "\n",
            "tqdm() Progress Bar Segments: 679it [05:58,  1.83it/s]\u001b[A\u001b[A"
          ]
        },
        {
          "name": "stdout",
          "output_type": "stream",
          "text": [
            "[[1.0209523e-04 2.7685363e-05 3.7293669e-06 1.1219991e-03 9.2243150e-02\n",
            "  7.5629092e-04 2.9735730e-03 2.3701195e-05 8.9703321e-01 7.2928483e-04\n",
            "  4.9852668e-03]]\n"
          ]
        },
        {
          "name": "stderr",
          "output_type": "stream",
          "text": [
            "\n",
            "\n",
            "tqdm() Progress Bar Segments: 680it [05:59,  1.86it/s]\u001b[A\u001b[A"
          ]
        },
        {
          "name": "stdout",
          "output_type": "stream",
          "text": [
            "[[3.15798047e-06 1.22071942e-05 1.81199139e-05 1.74699984e-02\n",
            "  1.72254294e-02 1.15930685e-04 9.64658439e-01 1.01641663e-05\n",
            "  4.38268675e-04 4.15914474e-05 6.59563193e-06]]\n"
          ]
        },
        {
          "name": "stderr",
          "output_type": "stream",
          "text": [
            "\n",
            "\n",
            "tqdm() Progress Bar Segments: 681it [05:59,  1.80it/s]\u001b[A\u001b[A"
          ]
        },
        {
          "name": "stdout",
          "output_type": "stream",
          "text": [
            "[[8.3938139e-06 5.9170384e-06 3.5839878e-06 2.8993312e-04 9.3650180e-01\n",
            "  5.5774606e-05 3.3071057e-03 6.8592351e-07 5.7208728e-02 1.1061676e-05\n",
            "  2.6070101e-03]]\n"
          ]
        },
        {
          "name": "stderr",
          "output_type": "stream",
          "text": [
            "\n",
            "\n",
            "tqdm() Progress Bar Segments: 682it [06:00,  1.84it/s]\u001b[A\u001b[A"
          ]
        },
        {
          "name": "stdout",
          "output_type": "stream",
          "text": [
            "[[5.72757344e-05 4.71072417e-06 3.25433371e-06 2.42755719e-04\n",
            "  1.00467756e-01 4.06590872e-04 6.30058954e-03 2.64225514e-06\n",
            "  8.81516039e-01 1.46044607e-04 1.08523695e-02]]\n"
          ]
        },
        {
          "name": "stderr",
          "output_type": "stream",
          "text": [
            "\n",
            "\n",
            "tqdm() Progress Bar Segments: 683it [06:00,  1.87it/s]\u001b[A\u001b[A"
          ]
        },
        {
          "name": "stdout",
          "output_type": "stream",
          "text": [
            "[[2.0564215e-05 3.8390426e-06 6.7458250e-06 2.9436930e-04 9.7945982e-01\n",
            "  6.1473969e-05 2.8088498e-03 5.4217276e-07 8.6963633e-03 2.5331581e-06\n",
            "  8.6449888e-03]]\n"
          ]
        },
        {
          "name": "stderr",
          "output_type": "stream",
          "text": [
            "\n",
            "\n",
            "tqdm() Progress Bar Segments: 684it [06:01,  1.89it/s]\u001b[A\u001b[A"
          ]
        },
        {
          "name": "stdout",
          "output_type": "stream",
          "text": [
            "[[2.6142219e-02 2.0409562e-02 4.7358833e-03 1.9323657e-04 9.9274628e-03\n",
            "  3.6263060e-02 4.2389400e-04 3.1366663e-03 5.6516775e-03 1.5363730e-04\n",
            "  8.9296275e-01]]\n"
          ]
        },
        {
          "name": "stderr",
          "output_type": "stream",
          "text": [
            "\n",
            "\n",
            "tqdm() Progress Bar Segments: 685it [06:01,  1.91it/s]\u001b[A\u001b[A"
          ]
        },
        {
          "name": "stdout",
          "output_type": "stream",
          "text": [
            "[[1.9051958e-03 4.8054561e-01 2.3725587e-04 3.2390628e-04 5.1755711e-02\n",
            "  3.0312893e-01 4.6948247e-04 1.5781847e-01 7.6001197e-05 2.7198989e-03\n",
            "  1.0195833e-03]]\n"
          ]
        },
        {
          "name": "stderr",
          "output_type": "stream",
          "text": [
            "\n",
            "\n",
            "tqdm() Progress Bar Segments: 686it [06:02,  1.92it/s]\u001b[A\u001b[A"
          ]
        },
        {
          "name": "stdout",
          "output_type": "stream",
          "text": [
            "[[1.7854007e-04 4.2308602e-04 1.9575327e-04 8.6607248e-01 7.2352976e-02\n",
            "  2.0781465e-04 5.0180543e-02 6.0398062e-04 8.8110231e-03 6.1019632e-04\n",
            "  3.6366016e-04]]\n"
          ]
        },
        {
          "name": "stderr",
          "output_type": "stream",
          "text": [
            "\n",
            "\n",
            "tqdm() Progress Bar Segments: 687it [06:02,  1.92it/s]\u001b[A\u001b[A"
          ]
        },
        {
          "name": "stdout",
          "output_type": "stream",
          "text": [
            "[[6.52920105e-04 1.87983693e-04 2.06139608e-04 1.51546369e-03\n",
            "  8.23647201e-01 5.61984489e-03 1.18949264e-02 4.93620901e-05\n",
            "  7.54439384e-02 1.14852744e-04 8.06674063e-02]]\n"
          ]
        },
        {
          "name": "stderr",
          "output_type": "stream",
          "text": [
            "\n",
            "\n",
            "tqdm() Progress Bar Segments: 688it [06:03,  1.90it/s]\u001b[A\u001b[A"
          ]
        },
        {
          "name": "stdout",
          "output_type": "stream",
          "text": [
            "[[3.1686344e-03 5.7641484e-02 1.2309756e-03 4.0368890e-04 1.8573692e-01\n",
            "  6.2117674e-03 9.4490789e-04 4.5529622e-01 3.1652879e-03 1.8328595e-03\n",
            "  2.8436717e-01]]\n"
          ]
        },
        {
          "name": "stderr",
          "output_type": "stream",
          "text": [
            "\n",
            "\n",
            "tqdm() Progress Bar Segments: 689it [06:03,  1.93it/s]\u001b[A\u001b[A"
          ]
        },
        {
          "name": "stdout",
          "output_type": "stream",
          "text": [
            "[[3.8408067e-02 2.4073587e-03 6.9223206e-05 4.6128454e-04 1.2725873e-02\n",
            "  5.9914613e-01 1.4207169e-01 1.7590073e-01 8.6415088e-04 2.6626447e-02\n",
            "  1.3190381e-03]]\n"
          ]
        },
        {
          "name": "stderr",
          "output_type": "stream",
          "text": [
            "\n",
            "\n",
            "tqdm() Progress Bar Segments: 690it [06:04,  1.92it/s]\u001b[A\u001b[A"
          ]
        },
        {
          "name": "stdout",
          "output_type": "stream",
          "text": [
            "[[6.0927989e-03 1.8000597e-02 1.4013137e-03 1.6792736e-03 1.0918335e-01\n",
            "  7.7763647e-02 6.0523213e-03 1.3941526e-02 1.9670600e-02 7.2621449e-04\n",
            "  7.4548841e-01]]\n"
          ]
        },
        {
          "name": "stderr",
          "output_type": "stream",
          "text": [
            "\n",
            "\n",
            "tqdm() Progress Bar Segments: 691it [06:05,  1.85it/s]\u001b[A\u001b[A"
          ]
        },
        {
          "name": "stdout",
          "output_type": "stream",
          "text": [
            "[[1.4156622e-03 2.9974626e-04 2.1389767e-04 4.0837186e-03 3.4736162e-01\n",
            "  4.6846797e-03 6.0655605e-02 2.6452466e-04 5.4422820e-01 4.8862357e-04\n",
            "  3.6303762e-02]]\n"
          ]
        },
        {
          "name": "stderr",
          "output_type": "stream",
          "text": [
            "\n",
            "\n",
            "tqdm() Progress Bar Segments: 692it [06:05,  1.88it/s]\u001b[A\u001b[A"
          ]
        },
        {
          "name": "stdout",
          "output_type": "stream",
          "text": [
            "[[2.9192956e-03 4.1099228e-03 3.9212974e-03 1.5566071e-03 9.8190606e-01\n",
            "  5.7562150e-04 2.9458347e-04 3.4037381e-03 3.1668271e-04 3.8378334e-04\n",
            "  6.1243889e-04]]\n"
          ]
        },
        {
          "name": "stderr",
          "output_type": "stream",
          "text": [
            "\n",
            "\n",
            "tqdm() Progress Bar Segments: 693it [06:06,  1.88it/s]\u001b[A\u001b[A"
          ]
        },
        {
          "name": "stdout",
          "output_type": "stream",
          "text": [
            "[[2.9974754e-04 1.1832203e-03 4.0088911e-05 2.5337709e-03 2.2977966e-01\n",
            "  6.1864634e-03 9.9855838e-03 3.2017741e-04 7.0198590e-01 5.5255182e-03\n",
            "  4.2159829e-02]]\n"
          ]
        },
        {
          "name": "stderr",
          "output_type": "stream",
          "text": [
            "\n",
            "\n",
            "tqdm() Progress Bar Segments: 694it [06:06,  1.89it/s]\u001b[A\u001b[A"
          ]
        },
        {
          "name": "stdout",
          "output_type": "stream",
          "text": [
            "[[2.4068003e-04 2.9572193e-05 2.8257273e-05 5.3163162e-03 3.3251435e-01\n",
            "  1.5848136e-03 2.2694414e-02 7.2937441e-06 6.1380756e-01 1.7107835e-04\n",
            "  2.3605768e-02]]\n"
          ]
        },
        {
          "name": "stderr",
          "output_type": "stream",
          "text": [
            "\n",
            "\n",
            "tqdm() Progress Bar Segments: 695it [06:07,  1.87it/s]\u001b[A\u001b[A"
          ]
        },
        {
          "name": "stdout",
          "output_type": "stream",
          "text": [
            "[[7.1298773e-03 1.8497102e-03 6.8648784e-05 1.8514238e-03 2.4616604e-03\n",
            "  1.3782272e-02 3.8164464e-04 3.1912220e-03 2.4123378e-01 2.1798923e-04\n",
            "  7.2783172e-01]]\n"
          ]
        },
        {
          "name": "stderr",
          "output_type": "stream",
          "text": [
            "\n",
            "\n",
            "tqdm() Progress Bar Segments: 696it [06:07,  1.88it/s]\u001b[A\u001b[A"
          ]
        },
        {
          "name": "stdout",
          "output_type": "stream",
          "text": [
            "[[1.2117083e-03 2.4900772e-03 2.2225799e-04 5.0572393e-04 3.1509286e-01\n",
            "  4.1724178e-03 1.3528900e-03 6.2344499e-02 1.4858466e-01 5.4000167e-04\n",
            "  4.6348286e-01]]\n"
          ]
        },
        {
          "name": "stderr",
          "output_type": "stream",
          "text": [
            "\n",
            "\n",
            "tqdm() Progress Bar Segments: 697it [06:08,  1.89it/s]\u001b[A\u001b[A"
          ]
        },
        {
          "name": "stdout",
          "output_type": "stream",
          "text": [
            "[[3.3828780e-06 5.4548013e-07 2.3033745e-06 2.0022660e-03 9.9640250e-01\n",
            "  6.9471362e-06 4.9590121e-04 1.3838751e-07 4.9587002e-04 4.2547717e-07\n",
            "  5.8982748e-04]]\n"
          ]
        },
        {
          "name": "stderr",
          "output_type": "stream",
          "text": [
            "\n",
            "\n",
            "tqdm() Progress Bar Segments: 698it [06:08,  1.91it/s]\u001b[A\u001b[A"
          ]
        },
        {
          "name": "stdout",
          "output_type": "stream",
          "text": [
            "[[1.0046197e-05 8.6251144e-05 5.0629682e-05 1.4068470e-02 8.7096862e-02\n",
            "  1.1625259e-04 8.9553249e-01 1.4166927e-04 2.7892827e-03 5.5138851e-05\n",
            "  5.2772757e-05]]\n"
          ]
        },
        {
          "name": "stderr",
          "output_type": "stream",
          "text": [
            "\n",
            "\n",
            "tqdm() Progress Bar Segments: 699it [06:09,  1.91it/s]\u001b[A\u001b[A"
          ]
        },
        {
          "name": "stdout",
          "output_type": "stream",
          "text": [
            "[[8.0979931e-01 4.3882793e-04 3.6331312e-05 5.8220222e-04 9.0446398e-03\n",
            "  2.1646183e-02 5.8874581e-04 1.4806151e-01 1.0537270e-03 2.1385348e-03\n",
            "  6.6100820e-03]]\n"
          ]
        },
        {
          "name": "stderr",
          "output_type": "stream",
          "text": [
            "\n",
            "\n",
            "tqdm() Progress Bar Segments: 700it [06:09,  1.92it/s]\u001b[A\u001b[A"
          ]
        },
        {
          "name": "stdout",
          "output_type": "stream",
          "text": [
            "[[0.00246552 0.04741644 0.00532906 0.5485053  0.1106331  0.01689689\n",
            "  0.1841866  0.04162373 0.02582626 0.01428204 0.00283498]]\n"
          ]
        },
        {
          "name": "stderr",
          "output_type": "stream",
          "text": [
            "\n",
            "\n",
            "tqdm() Progress Bar Segments: 701it [06:10,  1.91it/s]\u001b[A\u001b[A"
          ]
        },
        {
          "name": "stdout",
          "output_type": "stream",
          "text": [
            "[[2.0699787e-03 1.4210768e-03 2.4013902e-04 1.4290455e-04 7.1682654e-02\n",
            "  8.3215302e-03 4.7877580e-03 1.8912370e-03 2.4035256e-02 9.8643781e-05\n",
            "  8.8530886e-01]]\n"
          ]
        },
        {
          "name": "stderr",
          "output_type": "stream",
          "text": [
            "\n",
            "\n",
            "tqdm() Progress Bar Segments: 702it [06:10,  1.92it/s]\u001b[A\u001b[A"
          ]
        },
        {
          "name": "stdout",
          "output_type": "stream",
          "text": [
            "[[9.5885649e-04 4.9513823e-05 1.6380698e-04 1.0507176e-01 1.5827732e-01\n",
            "  2.9062575e-03 1.6770980e-01 1.2612149e-04 5.4549009e-01 9.1668572e-03\n",
            "  1.0079602e-02]]\n"
          ]
        },
        {
          "name": "stderr",
          "output_type": "stream",
          "text": [
            "\n",
            "\n",
            "tqdm() Progress Bar Segments: 703it [06:11,  1.92it/s]\u001b[A\u001b[A"
          ]
        },
        {
          "name": "stdout",
          "output_type": "stream",
          "text": [
            "[[2.0116365e-03 6.8301614e-04 2.1083468e-04 6.3342799e-04 3.1716350e-02\n",
            "  7.1697435e-03 2.8086156e-03 5.6476495e-04 4.1910607e-02 2.0721593e-04\n",
            "  9.1208369e-01]]\n"
          ]
        },
        {
          "name": "stderr",
          "output_type": "stream",
          "text": [
            "\n",
            "\n",
            "tqdm() Progress Bar Segments: 704it [06:11,  1.92it/s]\u001b[A\u001b[A"
          ]
        },
        {
          "name": "stdout",
          "output_type": "stream",
          "text": [
            "[[1.8428451e-03 2.0245978e-04 5.1555654e-04 2.5601201e-03 2.8372341e-01\n",
            "  7.6071690e-03 6.1690301e-02 1.5456743e-04 7.9652391e-02 1.9271720e-04\n",
            "  5.6185842e-01]]\n"
          ]
        },
        {
          "name": "stderr",
          "output_type": "stream",
          "text": [
            "\n",
            "\n",
            "tqdm() Progress Bar Segments: 705it [06:12,  1.91it/s]\u001b[A\u001b[A"
          ]
        },
        {
          "name": "stdout",
          "output_type": "stream",
          "text": [
            "[[1.2898864e-04 3.0857293e-05 8.5350570e-05 4.4033849e-03 9.6642870e-01\n",
            "  2.5637998e-04 4.6615391e-03 7.9520851e-06 1.6098013e-02 1.1913587e-05\n",
            "  7.8868540e-03]]\n"
          ]
        },
        {
          "name": "stderr",
          "output_type": "stream",
          "text": [
            "\n",
            "\n",
            "tqdm() Progress Bar Segments: 706it [06:12,  1.92it/s]\u001b[A\u001b[A"
          ]
        },
        {
          "name": "stdout",
          "output_type": "stream",
          "text": [
            "[[0.00232787 0.2338975  0.00552973 0.00622138 0.40775895 0.05558514\n",
            "  0.03438668 0.09510124 0.08528394 0.04204652 0.03186103]]\n"
          ]
        },
        {
          "name": "stderr",
          "output_type": "stream",
          "text": [
            "\n",
            "\n",
            "tqdm() Progress Bar Segments: 707it [06:13,  1.93it/s]\u001b[A\u001b[A"
          ]
        },
        {
          "name": "stdout",
          "output_type": "stream",
          "text": [
            "[[0.00205626 0.02275361 0.00134693 0.00317981 0.48620918 0.04672469\n",
            "  0.01412477 0.27329525 0.08948751 0.0055817  0.0552402 ]]\n"
          ]
        },
        {
          "name": "stderr",
          "output_type": "stream",
          "text": [
            "\n",
            "\n",
            "tqdm() Progress Bar Segments: 708it [06:13,  1.92it/s]\u001b[A\u001b[A"
          ]
        },
        {
          "name": "stdout",
          "output_type": "stream",
          "text": [
            "[[4.7707122e-02 8.7009557e-03 2.2179681e-04 1.1975030e-04 4.4665411e-02\n",
            "  1.1611718e-02 5.5563624e-04 2.4211441e-01 7.5870026e-03 7.5192493e-04\n",
            "  6.3596421e-01]]\n"
          ]
        },
        {
          "name": "stderr",
          "output_type": "stream",
          "text": [
            "\n",
            "\n",
            "tqdm() Progress Bar Segments: 709it [06:14,  1.92it/s]\u001b[A\u001b[A"
          ]
        },
        {
          "name": "stdout",
          "output_type": "stream",
          "text": [
            "[[2.6751362e-04 3.8946004e-05 1.9414472e-05 1.9386192e-04 2.2491418e-02\n",
            "  2.4857468e-04 1.8284081e-03 1.6631182e-05 1.7195308e-01 2.8336901e-05\n",
            "  8.0291378e-01]]\n"
          ]
        },
        {
          "name": "stderr",
          "output_type": "stream",
          "text": [
            "\n",
            "\n",
            "tqdm() Progress Bar Segments: 710it [06:14,  1.94it/s]\u001b[A\u001b[A"
          ]
        },
        {
          "name": "stdout",
          "output_type": "stream",
          "text": [
            "[[8.9477404e-04 2.5267617e-04 4.7814165e-04 1.4900540e-03 5.5984801e-01\n",
            "  5.6790230e-03 8.4593117e-02 2.6314185e-04 8.3572358e-02 2.5091172e-04\n",
            "  2.6267785e-01]]\n"
          ]
        },
        {
          "name": "stderr",
          "output_type": "stream",
          "text": [
            "\n",
            "\n",
            "tqdm() Progress Bar Segments: 711it [06:15,  1.93it/s]\u001b[A\u001b[A"
          ]
        },
        {
          "name": "stdout",
          "output_type": "stream",
          "text": [
            "[[6.12863386e-03 6.24802022e-04 1.06965517e-05 6.96715651e-05\n",
            "  2.96666287e-02 6.23174186e-04 1.03038125e-04 9.42666173e-01\n",
            "  1.73181208e-04 1.16136493e-04 1.98178645e-02]]\n"
          ]
        },
        {
          "name": "stderr",
          "output_type": "stream",
          "text": [
            "\n",
            "\n",
            "tqdm() Progress Bar Segments: 712it [06:16,  1.92it/s]\u001b[A\u001b[A"
          ]
        },
        {
          "name": "stdout",
          "output_type": "stream",
          "text": [
            "[[2.6992837e-04 2.4291803e-04 9.9798558e-07 1.6496637e-05 2.6701065e-03\n",
            "  1.9648326e-04 1.1609877e-05 9.8136067e-01 4.2034400e-04 2.5169484e-05\n",
            "  1.4785297e-02]]\n"
          ]
        },
        {
          "name": "stderr",
          "output_type": "stream",
          "text": [
            "\n",
            "\n",
            "tqdm() Progress Bar Segments: 713it [06:16,  1.93it/s]\u001b[A\u001b[A"
          ]
        },
        {
          "name": "stdout",
          "output_type": "stream",
          "text": [
            "[[2.16397364e-03 1.21577398e-03 1.20922405e-05 2.35399799e-04\n",
            "  6.03841851e-04 5.06477654e-01 4.58090127e-01 1.92014966e-03\n",
            "  3.25431087e-04 2.89335120e-02 2.19958620e-05]]\n"
          ]
        },
        {
          "name": "stderr",
          "output_type": "stream",
          "text": [
            "\n",
            "\n",
            "tqdm() Progress Bar Segments: 714it [06:17,  1.92it/s]\u001b[A\u001b[A"
          ]
        },
        {
          "name": "stdout",
          "output_type": "stream",
          "text": [
            "[[8.3304336e-04 1.0588504e-04 9.6232681e-05 1.0237226e-04 1.4021924e-02\n",
            "  2.3323973e-03 6.5201074e-03 8.1216160e-05 1.1358409e-02 3.0164138e-05\n",
            "  9.6451825e-01]]\n"
          ]
        },
        {
          "name": "stderr",
          "output_type": "stream",
          "text": [
            "\n",
            "\n",
            "tqdm() Progress Bar Segments: 715it [06:17,  1.92it/s]\u001b[A\u001b[A"
          ]
        },
        {
          "name": "stdout",
          "output_type": "stream",
          "text": [
            "[[7.8194418e-05 3.1065407e-05 2.0926022e-05 4.3083642e-02 7.7824384e-01\n",
            "  1.7910935e-04 1.1094480e-02 1.4910835e-05 1.6230075e-01 1.5360895e-04\n",
            "  4.7994815e-03]]\n"
          ]
        },
        {
          "name": "stderr",
          "output_type": "stream",
          "text": [
            "\n",
            "\n",
            "tqdm() Progress Bar Segments: 716it [06:18,  1.91it/s]\u001b[A\u001b[A"
          ]
        },
        {
          "name": "stdout",
          "output_type": "stream",
          "text": [
            "[[2.47281836e-03 9.54360148e-05 3.06541246e-04 7.78005167e-04\n",
            "  2.44376093e-01 7.92654138e-03 2.57885479e-03 1.75203804e-05\n",
            "  7.84274284e-03 1.47980545e-05 7.33590603e-01]]\n"
          ]
        },
        {
          "name": "stderr",
          "output_type": "stream",
          "text": [
            "\n",
            "\n",
            "tqdm() Progress Bar Segments: 717it [06:18,  1.91it/s]\u001b[A\u001b[A"
          ]
        },
        {
          "name": "stdout",
          "output_type": "stream",
          "text": [
            "[[3.1581682e-01 1.7830960e-02 2.2885417e-04 4.2093566e-04 8.0394119e-02\n",
            "  1.1690084e-01 4.3161688e-03 1.9199902e-01 3.0834299e-02 1.6721943e-02\n",
            "  2.2453602e-01]]\n"
          ]
        },
        {
          "name": "stderr",
          "output_type": "stream",
          "text": [
            "\n",
            "\n",
            "tqdm() Progress Bar Segments: 718it [06:19,  1.91it/s]\u001b[A\u001b[A"
          ]
        },
        {
          "name": "stdout",
          "output_type": "stream",
          "text": [
            "[[1.1428578e-02 1.4413700e-03 5.5465116e-05 4.0498422e-03 4.1855667e-03\n",
            "  1.5137075e-01 3.9888430e-01 1.2627470e-01 1.8022469e-03 3.0026501e-01\n",
            "  2.4218635e-04]]\n"
          ]
        },
        {
          "name": "stderr",
          "output_type": "stream",
          "text": [
            "\n",
            "\n",
            "tqdm() Progress Bar Segments: 719it [06:19,  1.92it/s]\u001b[A\u001b[A"
          ]
        },
        {
          "name": "stdout",
          "output_type": "stream",
          "text": [
            "[[7.6615326e-03 4.0160390e-03 1.1082237e-03 2.2083253e-03 6.1479270e-02\n",
            "  4.2020649e-02 5.2221905e-02 5.1202169e-03 7.6337941e-02 5.5448903e-04\n",
            "  7.4727136e-01]]\n"
          ]
        },
        {
          "name": "stderr",
          "output_type": "stream",
          "text": [
            "\n",
            "\n",
            "tqdm() Progress Bar Segments: 720it [06:20,  1.86it/s]\u001b[A\u001b[A"
          ]
        },
        {
          "name": "stdout",
          "output_type": "stream",
          "text": [
            "[[2.7964276e-04 9.1876675e-05 5.7013967e-05 2.2645879e-03 8.0067897e-01\n",
            "  2.7833385e-03 1.9363109e-02 2.5694140e-05 1.1145425e-01 1.1744415e-04\n",
            "  6.2884063e-02]]\n"
          ]
        },
        {
          "name": "stderr",
          "output_type": "stream",
          "text": [
            "\n",
            "\n",
            "tqdm() Progress Bar Segments: 721it [06:20,  1.87it/s]\u001b[A\u001b[A"
          ]
        },
        {
          "name": "stdout",
          "output_type": "stream",
          "text": [
            "[[2.6673963e-05 7.6654296e-06 9.4815878e-06 4.2418381e-03 9.9156475e-01\n",
            "  1.1863673e-04 1.1117968e-03 9.4002451e-07 1.7453318e-03 8.7353892e-06\n",
            "  1.1641461e-03]]\n"
          ]
        },
        {
          "name": "stderr",
          "output_type": "stream",
          "text": [
            "\n",
            "\n",
            "tqdm() Progress Bar Segments: 722it [06:21,  1.89it/s]\u001b[A\u001b[A"
          ]
        },
        {
          "name": "stdout",
          "output_type": "stream",
          "text": [
            "[[3.8156909e-04 1.5175498e-04 2.9093958e-04 6.9093361e-02 9.0099066e-01\n",
            "  1.8766942e-03 1.7467875e-02 2.4210689e-05 7.2969976e-03 1.7127923e-04\n",
            "  2.2545869e-03]]\n"
          ]
        },
        {
          "name": "stderr",
          "output_type": "stream",
          "text": [
            "\n",
            "\n",
            "tqdm() Progress Bar Segments: 723it [06:21,  1.89it/s]\u001b[A\u001b[A"
          ]
        },
        {
          "name": "stdout",
          "output_type": "stream",
          "text": [
            "[[1.10814835e-05 1.09757502e-05 9.69514076e-06 4.31637309e-04\n",
            "  9.89353418e-01 7.30673055e-05 3.32723488e-03 1.60803199e-06\n",
            "  4.82598739e-03 6.57397595e-06 1.94875337e-03]]\n"
          ]
        },
        {
          "name": "stderr",
          "output_type": "stream",
          "text": [
            "\n",
            "\n",
            "tqdm() Progress Bar Segments: 724it [06:22,  1.90it/s]\u001b[A\u001b[A"
          ]
        },
        {
          "name": "stdout",
          "output_type": "stream",
          "text": [
            "[[2.2455769e-02 6.5312395e-03 2.6201346e-04 6.9240422e-04 5.5486608e-02\n",
            "  2.8497332e-01 4.4786077e-02 5.2947485e-01 1.6943699e-02 3.0700076e-02\n",
            "  7.6939967e-03]]\n"
          ]
        },
        {
          "name": "stderr",
          "output_type": "stream",
          "text": [
            "\n",
            "\n",
            "tqdm() Progress Bar Segments: 725it [06:22,  1.91it/s]\u001b[A\u001b[A"
          ]
        },
        {
          "name": "stdout",
          "output_type": "stream",
          "text": [
            "[[9.0340100e-04 1.1404936e-04 4.0629329e-04 4.4005752e-02 8.7215984e-01\n",
            "  5.1617459e-03 3.1912800e-02 3.8050999e-05 3.0093279e-02 4.3275394e-04\n",
            "  1.4771891e-02]]\n"
          ]
        },
        {
          "name": "stderr",
          "output_type": "stream",
          "text": [
            "\n",
            "\n",
            "tqdm() Progress Bar Segments: 726it [06:23,  1.84it/s]\u001b[A\u001b[A"
          ]
        },
        {
          "name": "stdout",
          "output_type": "stream",
          "text": [
            "[[9.7444304e-04 1.6509873e-04 1.7664592e-04 2.8110621e-03 3.0795658e-01\n",
            "  5.2455813e-03 5.4967362e-02 7.7257777e-05 3.1340262e-01 2.6019890e-04\n",
            "  3.1396309e-01]]\n"
          ]
        },
        {
          "name": "stderr",
          "output_type": "stream",
          "text": [
            "\n",
            "\n",
            "tqdm() Progress Bar Segments: 727it [06:23,  1.88it/s]\u001b[A\u001b[A"
          ]
        },
        {
          "name": "stdout",
          "output_type": "stream",
          "text": [
            "[[5.9566955e-04 1.4517640e-04 4.4918168e-05 7.7722441e-05 6.5700546e-02\n",
            "  1.7724697e-03 1.1022809e-03 4.6562587e-04 1.4297432e-01 5.8385998e-05\n",
            "  7.8706294e-01]]\n"
          ]
        },
        {
          "name": "stderr",
          "output_type": "stream",
          "text": [
            "\n",
            "\n",
            "tqdm() Progress Bar Segments: 728it [06:24,  1.91it/s]\u001b[A\u001b[A"
          ]
        },
        {
          "name": "stdout",
          "output_type": "stream",
          "text": [
            "[[8.3401552e-05 8.9701807e-06 7.0726142e-06 1.9574489e-01 4.8969063e-01\n",
            "  1.0943165e-04 3.9920430e-03 7.1149439e-06 2.7985677e-01 7.8155965e-05\n",
            "  3.0421484e-02]]\n"
          ]
        },
        {
          "name": "stderr",
          "output_type": "stream",
          "text": [
            "\n",
            "\n",
            "tqdm() Progress Bar Segments: 729it [06:25,  1.84it/s]\u001b[A\u001b[A"
          ]
        },
        {
          "name": "stdout",
          "output_type": "stream",
          "text": [
            "[[9.1206952e-05 6.1263534e-05 2.9236995e-05 1.2614048e-03 9.4608432e-01\n",
            "  5.0162605e-04 4.6585556e-03 9.2538394e-06 3.9832454e-02 3.1356576e-05\n",
            "  7.4392972e-03]]\n"
          ]
        },
        {
          "name": "stderr",
          "output_type": "stream",
          "text": [
            "\n",
            "\n",
            "tqdm() Progress Bar Segments: 730it [06:25,  1.86it/s]\u001b[A\u001b[A"
          ]
        },
        {
          "name": "stdout",
          "output_type": "stream",
          "text": [
            "[[7.6124258e-04 1.8473601e-04 1.7519650e-06 1.9444971e-04 1.3693419e-03\n",
            "  3.7023604e-02 9.4091007e-03 9.3770409e-01 1.6728500e-04 1.3162975e-02\n",
            "  2.1352160e-05]]\n"
          ]
        },
        {
          "name": "stderr",
          "output_type": "stream",
          "text": [
            "\n",
            "\n",
            "tqdm() Progress Bar Segments: 731it [06:26,  1.87it/s]\u001b[A\u001b[A"
          ]
        },
        {
          "name": "stdout",
          "output_type": "stream",
          "text": [
            "[[1.0362950e-03 2.1958962e-04 5.6358690e-06 2.6209076e-04 6.1115524e-04\n",
            "  1.1593585e-01 7.7755386e-01 4.7937883e-03 4.0761579e-04 9.9151209e-02\n",
            "  2.2972436e-05]]\n"
          ]
        },
        {
          "name": "stderr",
          "output_type": "stream",
          "text": [
            "\n",
            "\n",
            "tqdm() Progress Bar Segments: 732it [06:26,  1.88it/s]\u001b[A\u001b[A"
          ]
        },
        {
          "name": "stdout",
          "output_type": "stream",
          "text": [
            "[[3.8843011e-03 1.6736997e-02 1.0096416e-02 5.3414982e-04 9.6297920e-01\n",
            "  7.0910179e-04 2.0932981e-04 3.4976371e-03 1.0536842e-04 2.0954592e-04\n",
            "  1.0380079e-03]]\n"
          ]
        },
        {
          "name": "stderr",
          "output_type": "stream",
          "text": [
            "\n",
            "\n",
            "tqdm() Progress Bar Segments: 733it [06:27,  1.90it/s]\u001b[A\u001b[A"
          ]
        },
        {
          "name": "stdout",
          "output_type": "stream",
          "text": [
            "[[7.6471901e-05 8.3644600e-06 1.9192003e-06 1.1872313e-04 7.5167365e-02\n",
            "  5.2398867e-05 8.2132756e-04 2.3849338e-05 5.7467842e-01 7.8467865e-06\n",
            "  3.4904322e-01]]\n"
          ]
        },
        {
          "name": "stderr",
          "output_type": "stream",
          "text": [
            "\n",
            "\n",
            "tqdm() Progress Bar Segments: 734it [06:27,  1.81it/s]\u001b[A\u001b[A"
          ]
        },
        {
          "name": "stdout",
          "output_type": "stream",
          "text": [
            "[[8.3756808e-04 2.2604592e-05 6.9600421e-05 9.5009422e-03 7.3679817e-01\n",
            "  1.2475075e-03 1.7501649e-03 7.8687190e-06 1.5247347e-02 7.9427400e-06\n",
            "  2.3451030e-01]]\n"
          ]
        },
        {
          "name": "stderr",
          "output_type": "stream",
          "text": [
            "\n",
            "\n",
            "tqdm() Progress Bar Segments: 735it [06:28,  1.82it/s]\u001b[A\u001b[A"
          ]
        },
        {
          "name": "stdout",
          "output_type": "stream",
          "text": [
            "[[0.28606153 0.07818892 0.0017277  0.00166504 0.05390445 0.06675313\n",
            "  0.00129369 0.26540586 0.00356778 0.00371807 0.23771387]]\n"
          ]
        },
        {
          "name": "stderr",
          "output_type": "stream",
          "text": [
            "\n",
            "\n",
            "tqdm() Progress Bar Segments: 736it [06:28,  1.85it/s]\u001b[A\u001b[A"
          ]
        },
        {
          "name": "stdout",
          "output_type": "stream",
          "text": [
            "[[0.00572248 0.00645284 0.00068362 0.00435084 0.3051232  0.0770003\n",
            "  0.00886033 0.09000377 0.23679392 0.00257447 0.2624343 ]]\n"
          ]
        },
        {
          "name": "stderr",
          "output_type": "stream",
          "text": [
            "\n",
            "\n",
            "tqdm() Progress Bar Segments: 737it [06:29,  1.88it/s]\u001b[A\u001b[A"
          ]
        },
        {
          "name": "stdout",
          "output_type": "stream",
          "text": [
            "[[1.0001791e-03 6.1990868e-05 1.7475885e-04 8.4910700e-03 7.3125350e-01\n",
            "  2.5764212e-03 9.9232048e-03 1.3073905e-05 2.8046310e-02 4.7515368e-05\n",
            "  2.1841203e-01]]\n"
          ]
        },
        {
          "name": "stderr",
          "output_type": "stream",
          "text": [
            "\n",
            "\n",
            "tqdm() Progress Bar Segments: 738it [06:29,  1.91it/s]\u001b[A\u001b[A"
          ]
        },
        {
          "name": "stdout",
          "output_type": "stream",
          "text": [
            "[[1.0775520e-02 1.4961761e-02 4.6320409e-05 4.4347020e-04 7.9347193e-03\n",
            "  5.0385791e-01 8.1670256e-03 4.4253665e-01 8.7447889e-04 5.5725193e-03\n",
            "  4.8295981e-03]]\n"
          ]
        },
        {
          "name": "stderr",
          "output_type": "stream",
          "text": [
            "\n",
            "\n",
            "tqdm() Progress Bar Segments: 739it [06:30,  1.92it/s]\u001b[A\u001b[A"
          ]
        },
        {
          "name": "stdout",
          "output_type": "stream",
          "text": [
            "[[2.29925601e-04 9.39741221e-05 7.18493538e-05 1.01454323e-03\n",
            "  9.52646732e-01 1.40049623e-03 7.38028670e-03 9.79461674e-06\n",
            "  1.12887155e-02 4.92857362e-05 2.58143265e-02]]\n"
          ]
        },
        {
          "name": "stderr",
          "output_type": "stream",
          "text": [
            "\n",
            "\n",
            "tqdm() Progress Bar Segments: 740it [06:30,  1.94it/s]\u001b[A\u001b[A"
          ]
        },
        {
          "name": "stdout",
          "output_type": "stream",
          "text": [
            "[[1.1570217e-02 6.9266884e-04 2.3011100e-03 1.6569649e-01 4.3519229e-01\n",
            "  3.1184053e-02 1.0701615e-02 2.7532683e-04 5.8687780e-02 9.5303258e-04\n",
            "  2.8274548e-01]]\n"
          ]
        },
        {
          "name": "stderr",
          "output_type": "stream",
          "text": [
            "\n",
            "\n",
            "tqdm() Progress Bar Segments: 741it [06:31,  1.93it/s]\u001b[A\u001b[A"
          ]
        },
        {
          "name": "stdout",
          "output_type": "stream",
          "text": [
            "[[1.4777317e-03 2.0818836e-04 3.7497803e-04 1.5745914e-02 5.5252779e-01\n",
            "  6.8475255e-03 7.4367970e-02 1.9343503e-04 2.6290259e-01 7.1920641e-04\n",
            "  8.4634818e-02]]\n"
          ]
        },
        {
          "name": "stderr",
          "output_type": "stream",
          "text": [
            "\n",
            "\n",
            "tqdm() Progress Bar Segments: 742it [06:31,  1.94it/s]\u001b[A\u001b[A"
          ]
        },
        {
          "name": "stdout",
          "output_type": "stream",
          "text": [
            "[[0.01748233 0.61374295 0.02373976 0.00109957 0.16911149 0.04192457\n",
            "  0.00166548 0.04862086 0.00362294 0.00270862 0.07628138]]\n"
          ]
        },
        {
          "name": "stderr",
          "output_type": "stream",
          "text": [
            "\n",
            "\n",
            "tqdm() Progress Bar Segments: 743it [06:32,  1.94it/s]\u001b[A\u001b[A"
          ]
        },
        {
          "name": "stdout",
          "output_type": "stream",
          "text": [
            "[[9.3699025e-04 3.7385744e-01 5.2119706e-02 1.8093034e-04 5.6032079e-01\n",
            "  3.6943946e-03 3.5278828e-04 4.4136532e-03 7.9554135e-05 2.4114510e-04\n",
            "  3.8025959e-03]]\n"
          ]
        },
        {
          "name": "stderr",
          "output_type": "stream",
          "text": [
            "\n",
            "\n",
            "tqdm() Progress Bar Segments: 744it [06:32,  1.94it/s]\u001b[A\u001b[A"
          ]
        },
        {
          "name": "stdout",
          "output_type": "stream",
          "text": [
            "[[1.3005135e-04 2.0800697e-05 3.1587955e-05 3.2760687e-03 9.5978224e-01\n",
            "  4.8351148e-04 1.7555335e-03 2.3721307e-06 1.0063440e-02 8.2148672e-06\n",
            "  2.4446132e-02]]\n"
          ]
        },
        {
          "name": "stderr",
          "output_type": "stream",
          "text": [
            "\n",
            "\n",
            "tqdm() Progress Bar Segments: 745it [06:33,  1.94it/s]\u001b[A\u001b[A"
          ]
        },
        {
          "name": "stdout",
          "output_type": "stream",
          "text": [
            "[[1.0354659e-03 2.9179650e-05 7.6370088e-06 1.3081971e-05 1.0645639e-04\n",
            "  3.5920777e-04 6.3955813e-06 4.8175360e-05 4.1030501e-03 2.2703287e-06\n",
            "  9.9428904e-01]]\n"
          ]
        },
        {
          "name": "stderr",
          "output_type": "stream",
          "text": [
            "\n",
            "\n",
            "tqdm() Progress Bar Segments: 746it [06:33,  1.95it/s]\u001b[A\u001b[A"
          ]
        },
        {
          "name": "stdout",
          "output_type": "stream",
          "text": [
            "[[1.6494653e-04 7.8281737e-05 7.9700352e-05 2.8023280e-03 9.3972325e-01\n",
            "  9.9213899e-04 2.1405702e-02 1.9567933e-05 2.3810923e-02 5.1031820e-05\n",
            "  1.0872236e-02]]\n"
          ]
        },
        {
          "name": "stderr",
          "output_type": "stream",
          "text": [
            "\n",
            "\n",
            "tqdm() Progress Bar Segments: 747it [06:34,  1.94it/s]\u001b[A\u001b[A"
          ]
        },
        {
          "name": "stdout",
          "output_type": "stream",
          "text": [
            "[[2.75618338e-04 1.10549025e-01 1.47741316e-02 1.29678183e-05\n",
            "  8.73308003e-01 8.02773066e-05 1.06092593e-05 7.18262454e-04\n",
            "  4.33375271e-06 8.88919749e-06 2.57864769e-04]]\n"
          ]
        },
        {
          "name": "stderr",
          "output_type": "stream",
          "text": [
            "\n",
            "\n",
            "tqdm() Progress Bar Segments: 748it [06:34,  1.94it/s]\u001b[A\u001b[A"
          ]
        },
        {
          "name": "stdout",
          "output_type": "stream",
          "text": [
            "[[6.4202975e-03 2.7925612e-03 2.3453381e-04 8.4566470e-04 1.0061268e-02\n",
            "  2.8577777e-02 1.9676324e-03 5.6448691e-03 6.0321227e-02 3.0115084e-04\n",
            "  8.8283306e-01]]\n"
          ]
        },
        {
          "name": "stderr",
          "output_type": "stream",
          "text": [
            "\n",
            "\n",
            "tqdm() Progress Bar Segments: 749it [06:35,  1.93it/s]\u001b[A\u001b[A"
          ]
        },
        {
          "name": "stdout",
          "output_type": "stream",
          "text": [
            "[[0.00497741 0.7215501  0.00529593 0.00175738 0.0159513  0.01807429\n",
            "  0.00197439 0.01131646 0.02236571 0.00508056 0.19165649]]\n"
          ]
        },
        {
          "name": "stderr",
          "output_type": "stream",
          "text": [
            "\n",
            "\n",
            "tqdm() Progress Bar Segments: 750it [06:36,  1.93it/s]\u001b[A\u001b[A"
          ]
        },
        {
          "name": "stdout",
          "output_type": "stream",
          "text": [
            "[[2.4539009e-01 7.7329529e-04 2.0451651e-05 1.8452834e-04 1.1050298e-02\n",
            "  5.7925470e-02 1.1042043e-03 6.8177700e-01 3.4385579e-04 4.5134101e-04\n",
            "  9.7947079e-04]]\n"
          ]
        },
        {
          "name": "stderr",
          "output_type": "stream",
          "text": [
            "\n",
            "\n",
            "tqdm() Progress Bar Segments: 751it [06:36,  1.92it/s]\u001b[A\u001b[A"
          ]
        },
        {
          "name": "stdout",
          "output_type": "stream",
          "text": [
            "[[0.00485072 0.41805908 0.00913569 0.00045671 0.22203834 0.27001366\n",
            "  0.00334757 0.04201544 0.00257697 0.00485129 0.02265458]]\n"
          ]
        },
        {
          "name": "stderr",
          "output_type": "stream",
          "text": [
            "\n",
            "\n",
            "tqdm() Progress Bar Segments: 752it [06:37,  1.91it/s]\u001b[A\u001b[A"
          ]
        },
        {
          "name": "stdout",
          "output_type": "stream",
          "text": [
            "[[4.7746640e-02 5.0208131e-03 3.1774489e-05 3.1529442e-05 1.4846763e-03\n",
            "  9.2849678e-01 1.1297935e-02 4.1542551e-03 2.6457600e-04 4.5103944e-04\n",
            "  1.0200629e-03]]\n"
          ]
        },
        {
          "name": "stderr",
          "output_type": "stream",
          "text": [
            "\n",
            "\n",
            "tqdm() Progress Bar Segments: 753it [06:37,  1.91it/s]\u001b[A\u001b[A"
          ]
        },
        {
          "name": "stdout",
          "output_type": "stream",
          "text": [
            "[[7.6225507e-07 2.0884396e-07 6.1348715e-07 1.5679252e-05 9.9810886e-01\n",
            "  2.8318191e-06 2.5549487e-04 8.8290841e-09 7.8281993e-04 4.7611469e-08\n",
            "  8.3286973e-04]]\n"
          ]
        },
        {
          "name": "stderr",
          "output_type": "stream",
          "text": [
            "\n",
            "\n",
            "tqdm() Progress Bar Segments: 754it [06:38,  1.91it/s]\u001b[A\u001b[A"
          ]
        },
        {
          "name": "stdout",
          "output_type": "stream",
          "text": [
            "[[5.0987005e-01 1.6219429e-03 6.4291780e-05 2.0981504e-04 3.9101742e-02\n",
            "  1.7334394e-02 2.2497755e-03 3.6502799e-01 1.5357293e-03 2.2182125e-03\n",
            "  6.0766030e-02]]\n"
          ]
        },
        {
          "name": "stderr",
          "output_type": "stream",
          "text": [
            "\n",
            "\n",
            "tqdm() Progress Bar Segments: 755it [06:38,  1.92it/s]\u001b[A\u001b[A"
          ]
        },
        {
          "name": "stdout",
          "output_type": "stream",
          "text": [
            "[[0.01256051 0.04217156 0.02429395 0.00124481 0.43019262 0.02944459\n",
            "  0.00427822 0.02182875 0.02002614 0.00117004 0.4127888 ]]\n"
          ]
        },
        {
          "name": "stderr",
          "output_type": "stream",
          "text": [
            "\n",
            "\n",
            "tqdm() Progress Bar Segments: 756it [06:39,  1.92it/s]\u001b[A\u001b[A"
          ]
        },
        {
          "name": "stdout",
          "output_type": "stream",
          "text": [
            "[[3.4417233e-05 2.0770356e-05 8.1466051e-06 4.3150174e-04 9.7013444e-01\n",
            "  4.7656897e-04 5.1527871e-03 2.8716868e-06 2.0770065e-02 2.3182454e-05\n",
            "  2.9452688e-03]]\n"
          ]
        },
        {
          "name": "stderr",
          "output_type": "stream",
          "text": [
            "\n",
            "\n",
            "tqdm() Progress Bar Segments: 757it [06:39,  1.92it/s]\u001b[A\u001b[A"
          ]
        },
        {
          "name": "stdout",
          "output_type": "stream",
          "text": [
            "[[2.2525937e-04 5.4435208e-05 4.6253310e-05 4.1202549e-03 2.4944405e-01\n",
            "  7.2737876e-04 1.5724938e-02 4.9313418e-05 6.9449949e-01 5.3265598e-04\n",
            "  3.4575883e-02]]\n"
          ]
        },
        {
          "name": "stderr",
          "output_type": "stream",
          "text": [
            "\n",
            "\n",
            "tqdm() Progress Bar Segments: 758it [06:40,  1.93it/s]\u001b[A\u001b[A"
          ]
        },
        {
          "name": "stdout",
          "output_type": "stream",
          "text": [
            "[[1.3577991e-02 1.0669661e-02 9.8330875e-06 1.7782827e-04 1.2691136e-03\n",
            "  1.7034888e-02 2.6711277e-04 9.5402366e-01 1.9897842e-04 1.3584933e-04\n",
            "  2.6349360e-03]]\n"
          ]
        },
        {
          "name": "stderr",
          "output_type": "stream",
          "text": [
            "\n",
            "\n",
            "tqdm() Progress Bar Segments: 759it [06:40,  1.92it/s]\u001b[A\u001b[A"
          ]
        },
        {
          "name": "stdout",
          "output_type": "stream",
          "text": [
            "[[2.5845674e-04 1.9710019e-04 3.0033745e-05 6.8072526e-04 1.7488976e-01\n",
            "  3.8146626e-03 2.2113251e-02 2.2270399e-04 7.8174824e-01 2.3450141e-03\n",
            "  1.3700135e-02]]\n"
          ]
        },
        {
          "name": "stderr",
          "output_type": "stream",
          "text": [
            "\n",
            "\n",
            "tqdm() Progress Bar Segments: 760it [06:41,  1.93it/s]\u001b[A\u001b[A"
          ]
        },
        {
          "name": "stdout",
          "output_type": "stream",
          "text": [
            "[[1.0628391e-03 3.6211147e-03 5.0468511e-06 7.0335620e-05 1.6283351e-03\n",
            "  8.6464477e-01 4.2703941e-02 8.5237518e-02 1.2332907e-04 6.0361001e-04\n",
            "  2.9923554e-04]]\n"
          ]
        },
        {
          "name": "stderr",
          "output_type": "stream",
          "text": [
            "\n",
            "\n",
            "tqdm() Progress Bar Segments: 761it [06:41,  1.94it/s]\u001b[A\u001b[A"
          ]
        },
        {
          "name": "stdout",
          "output_type": "stream",
          "text": [
            "[[0.00781187 0.20498955 0.00200566 0.08822411 0.0568811  0.02945233\n",
            "  0.00571485 0.5560305  0.01889489 0.00292612 0.02706894]]\n"
          ]
        },
        {
          "name": "stderr",
          "output_type": "stream",
          "text": [
            "\n",
            "\n",
            "tqdm() Progress Bar Segments: 762it [06:42,  1.67it/s]\u001b[A\u001b[A"
          ]
        },
        {
          "name": "stdout",
          "output_type": "stream",
          "text": [
            "[[4.4128781e-05 3.0226715e-06 8.0154687e-06 7.2887843e-04 9.4331753e-01\n",
            "  1.7517405e-04 1.9174493e-03 8.9552947e-07 2.0406557e-02 3.1920658e-06\n",
            "  3.3395097e-02]]\n"
          ]
        },
        {
          "name": "stderr",
          "output_type": "stream",
          "text": [
            "\n",
            "\n",
            "tqdm() Progress Bar Segments: 763it [06:43,  1.75it/s]\u001b[A\u001b[A"
          ]
        },
        {
          "name": "stdout",
          "output_type": "stream",
          "text": [
            "[[4.9690798e-02 7.5393178e-02 8.6959340e-02 6.4393034e-04 3.7478903e-01\n",
            "  4.7040354e-02 2.3611388e-03 6.2159095e-03 6.3002077e-03 3.2390354e-04\n",
            "  3.5028222e-01]]\n"
          ]
        },
        {
          "name": "stderr",
          "output_type": "stream",
          "text": [
            "\n",
            "\n",
            "tqdm() Progress Bar Segments: 764it [06:43,  1.80it/s]\u001b[A\u001b[A"
          ]
        },
        {
          "name": "stdout",
          "output_type": "stream",
          "text": [
            "[[1.5049994e-02 2.0300933e-04 7.1231070e-06 9.0599715e-05 6.4491378e-03\n",
            "  1.1713974e-02 6.2106870e-04 9.6125102e-01 3.0216065e-04 1.7175720e-03\n",
            "  2.5941900e-03]]\n"
          ]
        },
        {
          "name": "stderr",
          "output_type": "stream",
          "text": [
            "\n",
            "\n",
            "tqdm() Progress Bar Segments: 765it [06:44,  1.84it/s]\u001b[A\u001b[A"
          ]
        },
        {
          "name": "stdout",
          "output_type": "stream",
          "text": [
            "[[7.1922201e-04 7.3833315e-04 1.8286760e-04 4.0410255e-04 5.0408494e-01\n",
            "  1.3399227e-03 3.7392695e-02 3.2092014e-04 1.4595504e-01 1.9837543e-04\n",
            "  3.0866358e-01]]\n"
          ]
        },
        {
          "name": "stderr",
          "output_type": "stream",
          "text": [
            "\n",
            "\n",
            "tqdm() Progress Bar Segments: 766it [06:44,  1.87it/s]\u001b[A\u001b[A"
          ]
        },
        {
          "name": "stdout",
          "output_type": "stream",
          "text": [
            "[[0.00787228 0.452488   0.03838818 0.00051288 0.19473924 0.03199936\n",
            "  0.00070622 0.0170078  0.00449776 0.00081123 0.2509771 ]]\n"
          ]
        },
        {
          "name": "stderr",
          "output_type": "stream",
          "text": [
            "\n",
            "\n",
            "tqdm() Progress Bar Segments: 767it [06:45,  1.90it/s]\u001b[A\u001b[A"
          ]
        },
        {
          "name": "stdout",
          "output_type": "stream",
          "text": [
            "[[1.7305732e-01 1.0551537e-03 5.6538578e-05 2.4975699e-04 3.2402683e-02\n",
            "  3.6569491e-01 2.0660304e-02 6.6036418e-02 2.2218432e-03 3.3567280e-01\n",
            "  2.8923689e-03]]\n"
          ]
        },
        {
          "name": "stderr",
          "output_type": "stream",
          "text": [
            "\n",
            "\n",
            "tqdm() Progress Bar Segments: 768it [06:45,  1.91it/s]\u001b[A\u001b[A"
          ]
        },
        {
          "name": "stdout",
          "output_type": "stream",
          "text": [
            "[[4.4866791e-04 1.2610880e-04 1.2011888e-04 1.6811650e-02 8.4438229e-01\n",
            "  5.4082633e-03 3.6365606e-02 4.8436104e-05 5.7179987e-02 2.3933436e-04\n",
            "  3.8869623e-02]]\n"
          ]
        },
        {
          "name": "stderr",
          "output_type": "stream",
          "text": [
            "\n",
            "\n",
            "tqdm() Progress Bar Segments: 769it [06:46,  1.93it/s]\u001b[A\u001b[A"
          ]
        },
        {
          "name": "stdout",
          "output_type": "stream",
          "text": [
            "[[3.4697272e-04 4.7551766e-03 9.6027936e-05 9.7664058e-01 1.5976186e-03\n",
            "  4.1487115e-03 2.5325823e-03 5.3625428e-03 1.6804141e-03 2.7018047e-03\n",
            "  1.3757886e-04]]\n"
          ]
        },
        {
          "name": "stderr",
          "output_type": "stream",
          "text": [
            "\n",
            "\n",
            "tqdm() Progress Bar Segments: 770it [06:46,  1.94it/s]\u001b[A\u001b[A"
          ]
        },
        {
          "name": "stdout",
          "output_type": "stream",
          "text": [
            "[[2.2582427e-02 2.8774404e-04 1.0746577e-05 1.0308005e-04 1.0365803e-02\n",
            "  1.0750211e-02 8.3001622e-04 9.4358134e-01 1.8630945e-03 1.5272741e-03\n",
            "  8.0983574e-03]]\n"
          ]
        },
        {
          "name": "stderr",
          "output_type": "stream",
          "text": [
            "\n",
            "\n",
            "tqdm() Progress Bar Segments: 771it [06:47,  1.93it/s]\u001b[A\u001b[A"
          ]
        },
        {
          "name": "stdout",
          "output_type": "stream",
          "text": [
            "[[9.5157251e-03 4.1626603e-03 8.0292721e-06 1.1512885e-04 6.8173478e-03\n",
            "  1.5678711e-01 2.5480727e-03 8.1438589e-01 1.1261247e-04 5.1201330e-03\n",
            "  4.2721294e-04]]\n"
          ]
        },
        {
          "name": "stderr",
          "output_type": "stream",
          "text": [
            "\n",
            "\n",
            "tqdm() Progress Bar Segments: 772it [06:47,  1.94it/s]\u001b[A\u001b[A"
          ]
        },
        {
          "name": "stdout",
          "output_type": "stream",
          "text": [
            "[[2.8198673e-03 5.2275596e-04 1.3819170e-04 3.2419479e-03 1.8493050e-01\n",
            "  1.1038750e-02 2.0675533e-02 5.1073061e-04 4.1603106e-01 9.8164554e-04\n",
            "  3.5910904e-01]]\n"
          ]
        },
        {
          "name": "stderr",
          "output_type": "stream",
          "text": [
            "\n",
            "\n",
            "tqdm() Progress Bar Segments: 773it [06:48,  1.95it/s]\u001b[A\u001b[A"
          ]
        },
        {
          "name": "stdout",
          "output_type": "stream",
          "text": [
            "[[2.92683747e-02 5.28714173e-02 1.36679300e-04 1.20641617e-03\n",
            "  2.90159196e-01 3.29089582e-01 4.05699154e-03 1.20362796e-01\n",
            "  4.64872486e-04 1.71457872e-01 9.25794360e-04]]\n"
          ]
        },
        {
          "name": "stderr",
          "output_type": "stream",
          "text": [
            "\n",
            "\n",
            "tqdm() Progress Bar Segments: 774it [06:48,  1.94it/s]\u001b[A\u001b[A"
          ]
        },
        {
          "name": "stdout",
          "output_type": "stream",
          "text": [
            "[[2.3972038e-04 1.8760742e-05 9.7845787e-06 3.9537190e-06 9.1112070e-03\n",
            "  8.8896818e-04 9.0508570e-04 8.0374912e-06 3.1056427e-03 1.3422839e-06\n",
            "  9.8570758e-01]]\n"
          ]
        },
        {
          "name": "stderr",
          "output_type": "stream",
          "text": [
            "\n",
            "\n",
            "tqdm() Progress Bar Segments: 775it [06:49,  1.94it/s]\u001b[A\u001b[A"
          ]
        },
        {
          "name": "stdout",
          "output_type": "stream",
          "text": [
            "[[9.7010889e-06 4.1387361e-06 8.8674278e-06 1.1072443e-03 9.9649906e-01\n",
            "  1.6737826e-05 1.0306056e-03 4.7969422e-07 8.1621937e-04 1.2016484e-06\n",
            "  5.0566596e-04]]\n"
          ]
        },
        {
          "name": "stderr",
          "output_type": "stream",
          "text": [
            "\n",
            "\n",
            "tqdm() Progress Bar Segments: 776it [06:49,  1.94it/s]\u001b[A\u001b[A"
          ]
        },
        {
          "name": "stdout",
          "output_type": "stream",
          "text": [
            "[[2.97863898e-03 5.49247081e-04 3.35635486e-05 2.25906173e-04\n",
            "  1.16962753e-03 4.10312926e-03 2.65765993e-04 1.59058871e-03\n",
            "  1.28951579e-01 1.04160266e-04 8.60027790e-01]]\n"
          ]
        },
        {
          "name": "stderr",
          "output_type": "stream",
          "text": [
            "\n",
            "\n",
            "tqdm() Progress Bar Segments: 777it [06:50,  1.94it/s]\u001b[A\u001b[A"
          ]
        },
        {
          "name": "stdout",
          "output_type": "stream",
          "text": [
            "[[5.9213763e-04 1.0576011e-03 5.7647816e-05 5.6490069e-04 4.1053900e-03\n",
            "  5.8942622e-01 3.9413583e-01 2.2719172e-03 1.2443553e-03 6.3998299e-03\n",
            "  1.4416029e-04]]\n"
          ]
        },
        {
          "name": "stderr",
          "output_type": "stream",
          "text": [
            "\n",
            "\n",
            "tqdm() Progress Bar Segments: 778it [06:50,  1.95it/s]\u001b[A\u001b[A"
          ]
        },
        {
          "name": "stdout",
          "output_type": "stream",
          "text": [
            "[[4.9788430e-03 4.5357746e-04 6.3350133e-04 6.4041401e-04 3.2447379e-02\n",
            "  1.2587695e-02 2.4009539e-02 3.6588620e-04 2.0037949e-02 1.5876397e-04\n",
            "  9.0368646e-01]]\n"
          ]
        },
        {
          "name": "stderr",
          "output_type": "stream",
          "text": [
            "\n",
            "\n",
            "tqdm() Progress Bar Segments: 779it [06:51,  1.94it/s]\u001b[A\u001b[A"
          ]
        },
        {
          "name": "stdout",
          "output_type": "stream",
          "text": [
            "[[1.7808490e-04 3.1633776e-05 3.9294449e-05 9.5245451e-02 5.6375349e-01\n",
            "  3.5139589e-04 3.0818945e-02 5.2477637e-05 3.0332494e-01 3.9097702e-04\n",
            "  5.8133309e-03]]\n"
          ]
        },
        {
          "name": "stderr",
          "output_type": "stream",
          "text": [
            "\n",
            "\n",
            "tqdm() Progress Bar Segments: 780it [06:51,  1.94it/s]\u001b[A\u001b[A"
          ]
        },
        {
          "name": "stdout",
          "output_type": "stream",
          "text": [
            "[[1.4846215e-03 6.0584224e-03 2.3556581e-06 3.4710887e-05 3.1040723e-02\n",
            "  5.0593872e-02 1.6298894e-04 9.0905815e-01 6.2008953e-06 1.5245280e-03\n",
            "  3.3416076e-05]]\n"
          ]
        },
        {
          "name": "stderr",
          "output_type": "stream",
          "text": [
            "\n",
            "\n",
            "tqdm() Progress Bar Segments: 781it [06:52,  1.92it/s]\u001b[A\u001b[A"
          ]
        },
        {
          "name": "stdout",
          "output_type": "stream",
          "text": [
            "[[2.0240853e-02 1.5602832e-02 1.7685004e-02 1.1543744e-03 9.2634124e-01\n",
            "  2.3815448e-03 9.8879565e-04 5.5681588e-03 1.3331115e-03 5.7784759e-04\n",
            "  8.1261955e-03]]\n"
          ]
        },
        {
          "name": "stderr",
          "output_type": "stream",
          "text": [
            "\n",
            "\n",
            "tqdm() Progress Bar Segments: 782it [06:52,  1.94it/s]\u001b[A\u001b[A"
          ]
        },
        {
          "name": "stdout",
          "output_type": "stream",
          "text": [
            "[[8.75302416e-04 6.73134200e-05 6.03997265e-04 3.15443077e-03\n",
            "  8.19728315e-01 4.13660193e-03 1.49053428e-02 1.42514255e-05\n",
            "  8.88853241e-03 4.73320069e-05 1.47578537e-01]]\n"
          ]
        },
        {
          "name": "stderr",
          "output_type": "stream",
          "text": [
            "\n",
            "\n",
            "tqdm() Progress Bar Segments: 783it [06:53,  1.93it/s]\u001b[A\u001b[A"
          ]
        },
        {
          "name": "stdout",
          "output_type": "stream",
          "text": [
            "[[1.6804517e-05 6.0699767e-07 6.7053713e-07 1.0823712e-04 1.8985160e-02\n",
            "  3.0152887e-05 1.9287406e-03 2.9586502e-06 9.7696573e-01 1.6472065e-04\n",
            "  1.7962235e-03]]\n"
          ]
        },
        {
          "name": "stderr",
          "output_type": "stream",
          "text": [
            "\n",
            "\n",
            "tqdm() Progress Bar Segments: 784it [06:53,  1.94it/s]\u001b[A\u001b[A"
          ]
        },
        {
          "name": "stdout",
          "output_type": "stream",
          "text": [
            "[[2.3270052e-04 1.3940551e-03 8.9866728e-05 9.4031537e-01 1.5610533e-02\n",
            "  4.8787799e-03 2.7650785e-02 2.5529347e-03 2.3040769e-03 4.8535299e-03\n",
            "  1.1739311e-04]]\n"
          ]
        },
        {
          "name": "stderr",
          "output_type": "stream",
          "text": [
            "\n",
            "\n",
            "tqdm() Progress Bar Segments: 785it [06:54,  1.95it/s]\u001b[A\u001b[A"
          ]
        },
        {
          "name": "stdout",
          "output_type": "stream",
          "text": [
            "[[0.00457898 0.13085857 0.00252422 0.2985824  0.1483177  0.14553611\n",
            "  0.0854909  0.06490334 0.08603045 0.00785046 0.02532685]]\n"
          ]
        },
        {
          "name": "stderr",
          "output_type": "stream",
          "text": [
            "\n",
            "\n",
            "tqdm() Progress Bar Segments: 786it [06:54,  1.94it/s]\u001b[A\u001b[A"
          ]
        },
        {
          "name": "stdout",
          "output_type": "stream",
          "text": [
            "[[3.9530653e-03 5.0219876e-04 5.9957273e-04 8.2982366e-04 6.1667498e-02\n",
            "  1.1152945e-02 2.6351970e-02 6.0050061e-04 4.8742618e-02 2.4565606e-04\n",
            "  8.4535414e-01]]\n"
          ]
        },
        {
          "name": "stderr",
          "output_type": "stream",
          "text": [
            "\n",
            "\n",
            "tqdm() Progress Bar Segments: 787it [06:55,  1.95it/s]\u001b[A\u001b[A"
          ]
        },
        {
          "name": "stdout",
          "output_type": "stream",
          "text": [
            "[[1.9952527e-03 2.3718491e-04 2.0852734e-04 1.8484388e-03 2.2755574e-01\n",
            "  1.4314405e-03 1.4412187e-02 4.5591043e-04 2.9156113e-01 3.7856723e-04\n",
            "  4.5991561e-01]]\n"
          ]
        },
        {
          "name": "stderr",
          "output_type": "stream",
          "text": [
            "\n",
            "\n",
            "tqdm() Progress Bar Segments: 788it [06:55,  1.96it/s]\u001b[A\u001b[A"
          ]
        },
        {
          "name": "stdout",
          "output_type": "stream",
          "text": [
            "[[6.9413290e-05 3.9662682e-05 1.9631343e-05 5.4432504e-04 8.8772321e-01\n",
            "  2.7640007e-04 5.9228013e-03 8.2621373e-06 9.6076429e-02 5.3068659e-05\n",
            "  9.2668477e-03]]\n"
          ]
        },
        {
          "name": "stderr",
          "output_type": "stream",
          "text": [
            "\n",
            "\n",
            "tqdm() Progress Bar Segments: 789it [06:56,  1.95it/s]\u001b[A\u001b[A"
          ]
        },
        {
          "name": "stdout",
          "output_type": "stream",
          "text": [
            "[[1.9599872e-02 6.8599001e-02 1.1582890e-02 8.6252207e-05 5.4245077e-02\n",
            "  3.5325062e-02 5.5279513e-04 3.6410303e-03 5.0261770e-03 9.7004078e-05\n",
            "  8.0124485e-01]]\n"
          ]
        },
        {
          "name": "stderr",
          "output_type": "stream",
          "text": [
            "\n",
            "\n",
            "tqdm() Progress Bar Segments: 790it [06:56,  1.95it/s]\u001b[A\u001b[A"
          ]
        },
        {
          "name": "stdout",
          "output_type": "stream",
          "text": [
            "[[8.0405921e-01 3.7036699e-04 7.3943389e-05 3.3684869e-04 5.6023062e-03\n",
            "  6.0397247e-03 4.6763063e-05 5.6058098e-02 1.2278246e-03 3.9929277e-05\n",
            "  1.2614505e-01]]\n"
          ]
        },
        {
          "name": "stderr",
          "output_type": "stream",
          "text": [
            "\n",
            "\n",
            "tqdm() Progress Bar Segments: 791it [06:57,  1.94it/s]\u001b[A\u001b[A"
          ]
        },
        {
          "name": "stdout",
          "output_type": "stream",
          "text": [
            "[[2.9359880e-04 4.6588240e-05 4.4805016e-05 3.3436492e-02 4.1525930e-01\n",
            "  1.1443347e-03 8.7712944e-02 6.8504451e-05 4.5716438e-01 2.0280839e-03\n",
            "  2.8009091e-03]]\n"
          ]
        },
        {
          "name": "stderr",
          "output_type": "stream",
          "text": [
            "\n",
            "\n",
            "tqdm() Progress Bar Segments: 792it [06:57,  1.94it/s]\u001b[A\u001b[A"
          ]
        },
        {
          "name": "stdout",
          "output_type": "stream",
          "text": [
            "[[1.0790632e-04 1.5378724e-05 5.6713129e-06 2.5065625e-02 6.8665552e-01\n",
            "  1.9998378e-04 1.5229526e-03 4.4474168e-06 2.5526473e-01 3.2451706e-05\n",
            "  3.1125294e-02]]\n"
          ]
        },
        {
          "name": "stderr",
          "output_type": "stream",
          "text": [
            "\n",
            "\n",
            "tqdm() Progress Bar Segments: 793it [06:58,  1.93it/s]\u001b[A\u001b[A"
          ]
        },
        {
          "name": "stdout",
          "output_type": "stream",
          "text": [
            "[[6.3042648e-02 4.6462083e-04 3.8905786e-05 5.4457987e-04 2.7382128e-02\n",
            "  7.6073050e-02 7.0244563e-03 7.5385821e-01 3.5604525e-03 6.6691875e-02\n",
            "  1.3190245e-03]]\n"
          ]
        },
        {
          "name": "stderr",
          "output_type": "stream",
          "text": [
            "\n",
            "\n",
            "tqdm() Progress Bar Segments: 794it [06:59,  1.92it/s]\u001b[A\u001b[A"
          ]
        },
        {
          "name": "stdout",
          "output_type": "stream",
          "text": [
            "[[5.9245073e-04 3.5143245e-04 2.1743370e-04 1.7670923e-03 8.1851703e-01\n",
            "  2.3268885e-03 2.9475646e-02 5.4690070e-05 8.8108785e-02 1.3124409e-04\n",
            "  5.8457136e-02]]\n"
          ]
        },
        {
          "name": "stderr",
          "output_type": "stream",
          "text": [
            "\n",
            "\n",
            "tqdm() Progress Bar Segments: 795it [06:59,  1.91it/s]\u001b[A\u001b[A"
          ]
        },
        {
          "name": "stdout",
          "output_type": "stream",
          "text": [
            "[[2.2464563e-05 7.2396988e-06 5.3860936e-06 4.0527484e-03 8.7963569e-01\n",
            "  8.0711972e-05 2.2293208e-03 1.3510653e-06 9.7567841e-02 1.7574366e-05\n",
            "  1.6379792e-02]]\n"
          ]
        },
        {
          "name": "stderr",
          "output_type": "stream",
          "text": [
            "\n",
            "\n",
            "tqdm() Progress Bar Segments: 796it [07:00,  1.91it/s]\u001b[A\u001b[A"
          ]
        },
        {
          "name": "stdout",
          "output_type": "stream",
          "text": [
            "[[7.9916371e-03 5.5337977e-01 9.2001244e-02 3.8340507e-04 3.2562816e-01\n",
            "  3.3621525e-03 6.5799785e-04 1.2408394e-02 1.7895098e-04 5.5678224e-04\n",
            "  3.4514980e-03]]\n"
          ]
        },
        {
          "name": "stderr",
          "output_type": "stream",
          "text": [
            "\n",
            "\n",
            "tqdm() Progress Bar Segments: 797it [07:00,  1.91it/s]\u001b[A\u001b[A"
          ]
        },
        {
          "name": "stdout",
          "output_type": "stream",
          "text": [
            "[[1.6378997e-03 2.1564440e-04 1.5839566e-04 3.4666050e-04 4.7719076e-02\n",
            "  1.4007200e-03 4.6008676e-03 2.9428498e-04 3.4964968e-02 5.8245507e-05\n",
            "  9.0860325e-01]]\n"
          ]
        },
        {
          "name": "stderr",
          "output_type": "stream",
          "text": [
            "\n",
            "\n",
            "tqdm() Progress Bar Segments: 798it [07:01,  1.91it/s]\u001b[A\u001b[A"
          ]
        },
        {
          "name": "stdout",
          "output_type": "stream",
          "text": [
            "[[7.31213950e-04 1.05166844e-04 1.27490217e-04 2.77058724e-02\n",
            "  2.82734960e-01 1.56079722e-03 1.69292595e-02 6.70941372e-05\n",
            "  5.94845355e-01 8.22418835e-04 7.43703991e-02]]\n"
          ]
        },
        {
          "name": "stderr",
          "output_type": "stream",
          "text": [
            "\n",
            "\n",
            "tqdm() Progress Bar Segments: 799it [07:01,  1.92it/s]\u001b[A\u001b[A"
          ]
        },
        {
          "name": "stdout",
          "output_type": "stream",
          "text": [
            "[[0.20824786 0.02069085 0.00071462 0.00081143 0.12484227 0.12587328\n",
            "  0.00723911 0.32956675 0.00892806 0.04739459 0.12569116]]\n"
          ]
        },
        {
          "name": "stderr",
          "output_type": "stream",
          "text": [
            "\n",
            "\n",
            "tqdm() Progress Bar Segments: 800it [07:02,  1.93it/s]\u001b[A\u001b[A"
          ]
        },
        {
          "name": "stdout",
          "output_type": "stream",
          "text": [
            "[[3.3643408e-04 3.4962981e-05 3.7164020e-05 9.3557574e-03 6.9304127e-01\n",
            "  9.3292509e-04 8.6450735e-03 1.1422063e-05 1.9207729e-01 6.0508974e-05\n",
            "  9.5467247e-02]]\n"
          ]
        },
        {
          "name": "stderr",
          "output_type": "stream",
          "text": [
            "\n",
            "\n",
            "tqdm() Progress Bar Segments: 801it [07:02,  1.91it/s]\u001b[A\u001b[A"
          ]
        },
        {
          "name": "stdout",
          "output_type": "stream",
          "text": [
            "[[1.1360755e-04 1.9261961e-04 5.3143092e-05 5.4039881e-03 9.1843182e-01\n",
            "  1.3749195e-03 2.5242198e-02 3.1155403e-05 4.5759827e-02 2.1892288e-04\n",
            "  3.1777753e-03]]\n"
          ]
        },
        {
          "name": "stderr",
          "output_type": "stream",
          "text": [
            "\n",
            "\n",
            "tqdm() Progress Bar Segments: 802it [07:03,  1.92it/s]\u001b[A\u001b[A"
          ]
        },
        {
          "name": "stdout",
          "output_type": "stream",
          "text": [
            "[[1.97551143e-03 1.87468324e-02 1.36345596e-04 3.13434564e-02\n",
            "  1.23517355e-02 5.48570119e-02 3.55835841e-03 8.50472569e-01\n",
            "  1.79063417e-02 1.92755088e-03 6.72429241e-03]]\n"
          ]
        },
        {
          "name": "stderr",
          "output_type": "stream",
          "text": [
            "\n",
            "\n",
            "tqdm() Progress Bar Segments: 803it [07:03,  1.92it/s]\u001b[A\u001b[A"
          ]
        },
        {
          "name": "stdout",
          "output_type": "stream",
          "text": [
            "[[6.6517033e-02 3.0368210e-03 7.6897282e-05 5.6987599e-04 3.0787205e-02\n",
            "  8.9868307e-02 3.9836983e-03 7.7941120e-01 1.4023200e-03 1.1177029e-02\n",
            "  1.3169597e-02]]\n"
          ]
        },
        {
          "name": "stderr",
          "output_type": "stream",
          "text": [
            "\n",
            "\n",
            "tqdm() Progress Bar Segments: 804it [07:04,  1.92it/s]\u001b[A\u001b[A"
          ]
        },
        {
          "name": "stdout",
          "output_type": "stream",
          "text": [
            "[[3.1798668e-04 1.8156866e-04 9.8298544e-05 1.3001595e-03 8.7872577e-01\n",
            "  5.6114821e-03 1.4240170e-02 1.7305314e-05 7.3800139e-02 3.5961324e-04\n",
            "  2.5347481e-02]]\n"
          ]
        },
        {
          "name": "stderr",
          "output_type": "stream",
          "text": [
            "\n",
            "\n",
            "tqdm() Progress Bar Segments: 805it [07:04,  1.93it/s]\u001b[A\u001b[A"
          ]
        },
        {
          "name": "stdout",
          "output_type": "stream",
          "text": [
            "[[1.91008061e-04 2.22318704e-05 4.99723610e-05 1.43370861e-02\n",
            "  3.39945287e-01 1.00650964e-03 1.11937806e-01 3.97314034e-05\n",
            "  5.27023673e-01 2.42192158e-03 3.02475411e-03]]\n"
          ]
        },
        {
          "name": "stderr",
          "output_type": "stream",
          "text": [
            "\n",
            "\n",
            "tqdm() Progress Bar Segments: 806it [07:05,  1.93it/s]\u001b[A\u001b[A"
          ]
        },
        {
          "name": "stdout",
          "output_type": "stream",
          "text": [
            "[[0.29677653 0.01699451 0.00041054 0.00049949 0.05937391 0.02755057\n",
            "  0.0007124  0.2123413  0.005798   0.00186207 0.37768072]]\n"
          ]
        },
        {
          "name": "stderr",
          "output_type": "stream",
          "text": [
            "\n",
            "\n",
            "tqdm() Progress Bar Segments: 807it [07:05,  1.93it/s]\u001b[A\u001b[A"
          ]
        },
        {
          "name": "stdout",
          "output_type": "stream",
          "text": [
            "[[2.3625316e-02 1.5154114e-03 5.2940693e-05 4.7355192e-03 4.5265784e-03\n",
            "  1.1718474e-01 5.7702590e-02 6.3487172e-01 3.7025574e-03 1.5157998e-01\n",
            "  5.0271576e-04]]\n"
          ]
        },
        {
          "name": "stderr",
          "output_type": "stream",
          "text": [
            "\n",
            "\n",
            "tqdm() Progress Bar Segments: 808it [07:06,  1.92it/s]\u001b[A\u001b[A"
          ]
        },
        {
          "name": "stdout",
          "output_type": "stream",
          "text": [
            "[[1.5213385e-03 2.5966662e-04 9.3904942e-05 1.7776743e-04 3.1568225e-02\n",
            "  9.9869864e-03 6.4448249e-03 1.6812763e-04 2.4346225e-02 9.0019013e-05\n",
            "  9.2534298e-01]]\n"
          ]
        },
        {
          "name": "stderr",
          "output_type": "stream",
          "text": [
            "\n",
            "\n",
            "tqdm() Progress Bar Segments: 809it [07:06,  1.93it/s]\u001b[A\u001b[A"
          ]
        },
        {
          "name": "stdout",
          "output_type": "stream",
          "text": [
            "[[8.2586089e-04 4.5524217e-04 2.2164578e-04 2.0082828e-02 7.3526657e-01\n",
            "  5.5736043e-03 3.9592754e-02 2.1670018e-04 1.7347890e-01 9.1070577e-04\n",
            "  2.3375176e-02]]\n"
          ]
        },
        {
          "name": "stderr",
          "output_type": "stream",
          "text": [
            "\n",
            "\n",
            "tqdm() Progress Bar Segments: 810it [07:07,  1.90it/s]\u001b[A\u001b[A"
          ]
        },
        {
          "name": "stdout",
          "output_type": "stream",
          "text": [
            "[[5.0584176e-03 3.2940544e-03 5.2801915e-04 2.1151586e-03 9.6322764e-03\n",
            "  1.9415192e-02 4.0215477e-03 3.4428907e-03 6.3439801e-02 2.9052148e-04\n",
            "  8.8876224e-01]]\n"
          ]
        },
        {
          "name": "stderr",
          "output_type": "stream",
          "text": [
            "\n",
            "\n",
            "tqdm() Progress Bar Segments: 811it [07:07,  1.91it/s]\u001b[A\u001b[A"
          ]
        },
        {
          "name": "stdout",
          "output_type": "stream",
          "text": [
            "[[0.01202645 0.01302811 0.00179074 0.00453548 0.02714159 0.05147916\n",
            "  0.00765577 0.02586327 0.07677491 0.00111267 0.7785919 ]]\n"
          ]
        },
        {
          "name": "stderr",
          "output_type": "stream",
          "text": [
            "\n",
            "\n",
            "tqdm() Progress Bar Segments: 812it [07:08,  1.92it/s]\u001b[A\u001b[A"
          ]
        },
        {
          "name": "stdout",
          "output_type": "stream",
          "text": [
            "[[2.5872008e-03 3.1865295e-04 1.7311079e-03 8.2961239e-02 4.9516401e-01\n",
            "  8.3253607e-03 2.2078906e-01 3.5156528e-04 1.4208208e-01 1.9835639e-03\n",
            "  4.3706153e-02]]\n"
          ]
        },
        {
          "name": "stderr",
          "output_type": "stream",
          "text": [
            "\n",
            "\n",
            "tqdm() Progress Bar Segments: 813it [07:08,  1.93it/s]\u001b[A\u001b[A"
          ]
        },
        {
          "name": "stdout",
          "output_type": "stream",
          "text": [
            "[[2.0096889e-04 3.3936987e-05 3.3972610e-05 4.3670773e-03 8.6759800e-01\n",
            "  1.2077001e-03 5.2590067e-03 9.2532828e-06 4.2031851e-02 3.2054686e-05\n",
            "  7.9226144e-02]]\n"
          ]
        },
        {
          "name": "stderr",
          "output_type": "stream",
          "text": [
            "\n",
            "\n",
            "tqdm() Progress Bar Segments: 814it [07:09,  1.91it/s]\u001b[A\u001b[A"
          ]
        },
        {
          "name": "stdout",
          "output_type": "stream",
          "text": [
            "[[0.00386574 0.02664536 0.00108905 0.00571752 0.17863952 0.334154\n",
            "  0.15627173 0.02312162 0.15449502 0.01178603 0.10421446]]\n"
          ]
        },
        {
          "name": "stderr",
          "output_type": "stream",
          "text": [
            "\n",
            "\n",
            "tqdm() Progress Bar Segments: 815it [07:09,  1.94it/s]\u001b[A\u001b[A"
          ]
        },
        {
          "name": "stdout",
          "output_type": "stream",
          "text": [
            "[[7.4496050e-04 1.3172366e-04 6.0700371e-05 1.9437729e-03 7.4838229e-02\n",
            "  2.3385447e-03 2.7428772e-02 2.5132386e-04 8.0482066e-01 2.8746805e-04\n",
            "  8.7153934e-02]]\n"
          ]
        },
        {
          "name": "stderr",
          "output_type": "stream",
          "text": [
            "\n",
            "\n",
            "tqdm() Progress Bar Segments: 816it [07:10,  1.94it/s]\u001b[A\u001b[A"
          ]
        },
        {
          "name": "stdout",
          "output_type": "stream",
          "text": [
            "[[0.00175438 0.0131018  0.00075289 0.01094451 0.5906457  0.13681024\n",
            "  0.05445615 0.00986403 0.13508885 0.01442341 0.03215804]]\n"
          ]
        },
        {
          "name": "stderr",
          "output_type": "stream",
          "text": [
            "\n",
            "\n",
            "tqdm() Progress Bar Segments: 817it [07:10,  1.94it/s]\u001b[A\u001b[A"
          ]
        },
        {
          "name": "stdout",
          "output_type": "stream",
          "text": [
            "[[0.00155685 0.13275976 0.00576498 0.00087872 0.715604   0.04983714\n",
            "  0.0055258  0.04933947 0.00986051 0.00599556 0.02287726]]\n"
          ]
        },
        {
          "name": "stderr",
          "output_type": "stream",
          "text": [
            "\n",
            "\n",
            "tqdm() Progress Bar Segments: 818it [07:11,  1.94it/s]\u001b[A\u001b[A"
          ]
        },
        {
          "name": "stdout",
          "output_type": "stream",
          "text": [
            "[[5.4037676e-04 3.9408627e-05 1.2711516e-05 6.9638052e-05 1.4726920e-02\n",
            "  1.0663080e-03 4.9312093e-04 1.7620545e-05 9.1025725e-02 1.7369446e-05\n",
            "  8.9199090e-01]]\n"
          ]
        },
        {
          "name": "stderr",
          "output_type": "stream",
          "text": [
            "\n",
            "\n",
            "tqdm() Progress Bar Segments: 819it [07:11,  1.94it/s]\u001b[A\u001b[A"
          ]
        },
        {
          "name": "stdout",
          "output_type": "stream",
          "text": [
            "[[2.8609258e-05 1.2917456e-05 1.1427481e-05 1.1975645e-03 9.2511815e-01\n",
            "  1.5120202e-04 1.3657946e-02 2.3363839e-06 5.0652809e-02 4.6770969e-05\n",
            "  9.1202529e-03]]\n"
          ]
        },
        {
          "name": "stderr",
          "output_type": "stream",
          "text": [
            "\n",
            "\n",
            "tqdm() Progress Bar Segments: 820it [07:12,  1.94it/s]\u001b[A\u001b[A"
          ]
        },
        {
          "name": "stdout",
          "output_type": "stream",
          "text": [
            "[[7.3198621e-06 3.8329035e-06 1.2132256e-06 1.3586978e-04 7.6350558e-01\n",
            "  2.7577860e-05 2.7950478e-03 1.4448220e-06 2.2761960e-01 1.1530024e-05\n",
            "  5.8911117e-03]]\n"
          ]
        },
        {
          "name": "stderr",
          "output_type": "stream",
          "text": [
            "\n",
            "\n",
            "tqdm() Progress Bar Segments: 821it [07:13,  1.94it/s]\u001b[A\u001b[A"
          ]
        },
        {
          "name": "stdout",
          "output_type": "stream",
          "text": [
            "[[2.8464270e-03 7.2167856e-03 3.4549756e-03 2.6970357e-04 9.8280346e-01\n",
            "  3.2538606e-04 5.9172100e-05 2.3868165e-03 7.9016572e-05 7.5315489e-05\n",
            "  4.8290644e-04]]\n"
          ]
        },
        {
          "name": "stderr",
          "output_type": "stream",
          "text": [
            "\n",
            "\n",
            "tqdm() Progress Bar Segments: 822it [07:13,  1.85it/s]\u001b[A\u001b[A"
          ]
        },
        {
          "name": "stdout",
          "output_type": "stream",
          "text": [
            "[[3.9766571e-03 1.0068674e-03 1.8238560e-03 1.4769921e-01 6.5742564e-01\n",
            "  3.2881573e-02 2.2009341e-02 3.8465840e-04 6.3326940e-02 1.6782860e-03\n",
            "  6.7786999e-02]]\n"
          ]
        },
        {
          "name": "stderr",
          "output_type": "stream",
          "text": [
            "\n",
            "\n",
            "tqdm() Progress Bar Segments: 823it [07:14,  1.81it/s]\u001b[A\u001b[A"
          ]
        },
        {
          "name": "stdout",
          "output_type": "stream",
          "text": [
            "[[2.9423519e-04 3.8353626e-02 6.5343331e-05 5.1790012e-05 5.1862377e-01\n",
            "  3.3037930e-03 5.5842179e-06 4.3910486e-01 3.9578704e-06 8.0378268e-05\n",
            "  1.1278026e-04]]\n"
          ]
        },
        {
          "name": "stderr",
          "output_type": "stream",
          "text": [
            "\n",
            "\n",
            "tqdm() Progress Bar Segments: 824it [07:14,  1.86it/s]\u001b[A\u001b[A"
          ]
        },
        {
          "name": "stdout",
          "output_type": "stream",
          "text": [
            "[[1.4660597e-02 6.7701913e-02 2.9394840e-04 6.8113668e-04 3.7036758e-02\n",
            "  4.5622870e-02 8.0192712e-04 5.0549257e-01 1.4182200e-02 9.5205044e-04\n",
            "  3.1257406e-01]]\n"
          ]
        },
        {
          "name": "stderr",
          "output_type": "stream",
          "text": [
            "\n",
            "\n",
            "tqdm() Progress Bar Segments: 825it [07:15,  1.87it/s]\u001b[A\u001b[A"
          ]
        },
        {
          "name": "stdout",
          "output_type": "stream",
          "text": [
            "[[1.8659314e-02 2.1994766e-02 1.4246217e-04 1.4718892e-03 7.7320207e-03\n",
            "  9.6045565e-03 1.6891459e-04 2.8136194e-01 5.4278716e-02 3.0315391e-04\n",
            "  6.0428226e-01]]\n"
          ]
        },
        {
          "name": "stderr",
          "output_type": "stream",
          "text": [
            "\n",
            "\n",
            "tqdm() Progress Bar Segments: 826it [07:15,  1.89it/s]\u001b[A\u001b[A"
          ]
        },
        {
          "name": "stdout",
          "output_type": "stream",
          "text": [
            "[[5.1331688e-02 4.0949687e-02 3.6254941e-04 4.7616748e-04 4.7931939e-02\n",
            "  1.4323202e-01 1.5217326e-02 6.6649640e-01 1.1946852e-03 1.1073042e-02\n",
            "  2.1734588e-02]]\n"
          ]
        },
        {
          "name": "stderr",
          "output_type": "stream",
          "text": [
            "\n",
            "\n",
            "tqdm() Progress Bar Segments: 827it [07:16,  1.91it/s]\u001b[A\u001b[A"
          ]
        },
        {
          "name": "stdout",
          "output_type": "stream",
          "text": [
            "[[3.71182226e-02 3.59267741e-01 1.44320796e-03 6.44470740e-04\n",
            "  3.12643826e-01 2.56034527e-02 1.08263106e-04 2.18844533e-01\n",
            "  3.78519879e-04 1.07351261e-04 4.38403934e-02]]\n"
          ]
        },
        {
          "name": "stderr",
          "output_type": "stream",
          "text": [
            "\n",
            "\n",
            "tqdm() Progress Bar Segments: 828it [07:16,  1.91it/s]\u001b[A\u001b[A"
          ]
        },
        {
          "name": "stdout",
          "output_type": "stream",
          "text": [
            "[[3.7233198e-01 1.0738257e-02 3.6487795e-04 7.2666444e-04 3.3174638e-02\n",
            "  3.3032566e-02 6.8153779e-04 4.4983633e-02 1.5586632e-02 5.6303628e-03\n",
            "  4.8274881e-01]]\n"
          ]
        },
        {
          "name": "stderr",
          "output_type": "stream",
          "text": [
            "\n",
            "\n",
            "tqdm() Progress Bar Segments: 829it [07:17,  1.92it/s]\u001b[A\u001b[A"
          ]
        },
        {
          "name": "stdout",
          "output_type": "stream",
          "text": [
            "[[8.0326665e-03 1.2279147e-01 6.4425603e-02 4.4923439e-04 4.8258254e-01\n",
            "  5.1669817e-02 1.7228848e-03 7.2710551e-03 3.2261775e-03 6.8535417e-04\n",
            "  2.5714317e-01]]\n"
          ]
        },
        {
          "name": "stderr",
          "output_type": "stream",
          "text": [
            "\n",
            "\n",
            "tqdm() Progress Bar Segments: 830it [07:17,  1.90it/s]\u001b[A\u001b[A"
          ]
        },
        {
          "name": "stdout",
          "output_type": "stream",
          "text": [
            "[[4.0997065e-07 3.1810015e-07 2.8918581e-07 1.7349736e-05 9.9883693e-01\n",
            "  4.0255541e-06 2.1696095e-04 2.4382548e-08 3.7783923e-04 1.0128342e-07\n",
            "  5.4586801e-04]]\n"
          ]
        },
        {
          "name": "stderr",
          "output_type": "stream",
          "text": [
            "\n",
            "\n",
            "tqdm() Progress Bar Segments: 831it [07:18,  1.90it/s]\u001b[A\u001b[A"
          ]
        },
        {
          "name": "stdout",
          "output_type": "stream",
          "text": [
            "[[7.5013806e-05 2.7116635e-05 1.2715457e-05 1.4091827e-03 8.5969394e-01\n",
            "  1.6558063e-04 2.2174842e-03 1.0004243e-05 1.2690091e-01 2.3977176e-05\n",
            "  9.4639957e-03]]\n"
          ]
        },
        {
          "name": "stderr",
          "output_type": "stream",
          "text": [
            "\n",
            "\n",
            "tqdm() Progress Bar Segments: 832it [07:18,  1.90it/s]\u001b[A\u001b[A"
          ]
        },
        {
          "name": "stdout",
          "output_type": "stream",
          "text": [
            "[[3.1650849e-05 1.0128687e-04 1.5760856e-04 7.4942750e-03 3.5978594e-01\n",
            "  9.1432617e-04 5.9832311e-01 7.5916374e-05 3.0977802e-02 3.5259829e-04\n",
            "  1.7854027e-03]]\n"
          ]
        },
        {
          "name": "stderr",
          "output_type": "stream",
          "text": [
            "\n",
            "\n",
            "tqdm() Progress Bar Segments: 833it [07:19,  1.90it/s]\u001b[A\u001b[A"
          ]
        },
        {
          "name": "stdout",
          "output_type": "stream",
          "text": [
            "[[7.3935869e-03 5.6138225e-03 1.3471748e-02 2.2790948e-04 9.6205139e-01\n",
            "  3.1891838e-03 5.5953581e-04 7.5383729e-04 6.2207447e-04 3.7732342e-04\n",
            "  5.7396684e-03]]\n"
          ]
        },
        {
          "name": "stderr",
          "output_type": "stream",
          "text": [
            "\n",
            "\n",
            "tqdm() Progress Bar Segments: 834it [07:19,  1.90it/s]\u001b[A\u001b[A"
          ]
        },
        {
          "name": "stdout",
          "output_type": "stream",
          "text": [
            "[[2.15012152e-02 1.57215726e-03 6.79953155e-05 4.92475228e-04\n",
            "  8.38215798e-02 6.80404343e-03 9.48566303e-04 8.11648190e-01\n",
            "  1.07979905e-02 9.85866226e-03 5.24871461e-02]]\n"
          ]
        },
        {
          "name": "stderr",
          "output_type": "stream",
          "text": [
            "\n",
            "\n",
            "tqdm() Progress Bar Segments: 835it [07:20,  1.91it/s]\u001b[A\u001b[A"
          ]
        },
        {
          "name": "stdout",
          "output_type": "stream",
          "text": [
            "[[2.1572489e-05 6.1951919e-06 4.7933718e-06 7.1686966e-04 9.6383381e-01\n",
            "  7.3997369e-05 1.4116417e-03 9.1479700e-07 2.5666116e-02 9.9619028e-06\n",
            "  8.2540857e-03]]\n"
          ]
        },
        {
          "name": "stderr",
          "output_type": "stream",
          "text": [
            "\n",
            "\n",
            "tqdm() Progress Bar Segments: 836it [07:20,  1.91it/s]\u001b[A\u001b[A"
          ]
        },
        {
          "name": "stdout",
          "output_type": "stream",
          "text": [
            "[[1.70237243e-01 4.36255289e-03 1.74074274e-04 6.73761766e-04\n",
            "  7.58829415e-02 7.63861388e-02 2.40949239e-03 5.25228620e-01\n",
            "  5.42527065e-03 3.84081975e-02 1.00811735e-01]]\n"
          ]
        },
        {
          "name": "stderr",
          "output_type": "stream",
          "text": [
            "\n",
            "\n",
            "tqdm() Progress Bar Segments: 837it [07:21,  1.83it/s]\u001b[A\u001b[A"
          ]
        },
        {
          "name": "stdout",
          "output_type": "stream",
          "text": [
            "[[3.3142386e-04 4.9298321e-04 9.7192125e-05 1.0961725e-03 4.5053595e-01\n",
            "  2.4481122e-03 2.9090272e-02 1.2538822e-03 5.0204295e-01 1.7757233e-03\n",
            "  1.0835324e-02]]\n"
          ]
        },
        {
          "name": "stderr",
          "output_type": "stream",
          "text": [
            "\n",
            "\n",
            "tqdm() Progress Bar Segments: 838it [07:22,  1.85it/s]\u001b[A\u001b[A"
          ]
        },
        {
          "name": "stdout",
          "output_type": "stream",
          "text": [
            "[[3.9645024e-03 2.7831423e-03 1.8836727e-05 1.5880370e-03 1.9661107e-03\n",
            "  2.2531991e-01 2.6623991e-01 4.4668359e-01 9.6806692e-04 5.0327644e-02\n",
            "  1.4026028e-04]]\n"
          ]
        },
        {
          "name": "stderr",
          "output_type": "stream",
          "text": [
            "\n",
            "\n",
            "tqdm() Progress Bar Segments: 839it [07:22,  1.86it/s]\u001b[A\u001b[A"
          ]
        },
        {
          "name": "stdout",
          "output_type": "stream",
          "text": [
            "[[3.7067926e-03 1.9476449e-03 3.2191398e-04 8.1864785e-04 1.9951373e-01\n",
            "  3.1854887e-02 3.6756046e-02 6.6581247e-03 2.2480509e-01 4.7062937e-04\n",
            "  4.9314648e-01]]\n"
          ]
        },
        {
          "name": "stderr",
          "output_type": "stream",
          "text": [
            "\n",
            "\n",
            "tqdm() Progress Bar Segments: 840it [07:23,  1.86it/s]\u001b[A\u001b[A"
          ]
        },
        {
          "name": "stdout",
          "output_type": "stream",
          "text": [
            "[[1.2051187e-04 3.1092932e-05 4.4341068e-05 2.0327568e-03 7.4959308e-01\n",
            "  5.2873761e-04 1.1016392e-02 1.0498044e-05 1.9908844e-01 6.7329260e-05\n",
            "  3.7466779e-02]]\n"
          ]
        },
        {
          "name": "stderr",
          "output_type": "stream",
          "text": [
            "\n",
            "\n",
            "tqdm() Progress Bar Segments: 841it [07:23,  1.88it/s]\u001b[A\u001b[A"
          ]
        },
        {
          "name": "stdout",
          "output_type": "stream",
          "text": [
            "[[0.01354888 0.03831363 0.00284286 0.00312419 0.24199921 0.05401223\n",
            "  0.05611422 0.03985858 0.20147534 0.00599639 0.34271452]]\n"
          ]
        },
        {
          "name": "stderr",
          "output_type": "stream",
          "text": [
            "\n",
            "\n",
            "tqdm() Progress Bar Segments: 842it [07:24,  1.89it/s]\u001b[A\u001b[A"
          ]
        },
        {
          "name": "stdout",
          "output_type": "stream",
          "text": [
            "[[5.1381164e-03 1.5713738e-01 1.7344472e-01 5.5618148e-05 6.3556337e-01\n",
            "  2.4517732e-02 1.0776519e-03 5.8188761e-04 1.4303775e-04 1.3902249e-04\n",
            "  2.2014990e-03]]\n"
          ]
        },
        {
          "name": "stderr",
          "output_type": "stream",
          "text": [
            "\n",
            "\n",
            "tqdm() Progress Bar Segments: 843it [07:24,  1.89it/s]\u001b[A\u001b[A"
          ]
        },
        {
          "name": "stdout",
          "output_type": "stream",
          "text": [
            "[[0.00104948 0.00691723 0.00056538 0.00142026 0.15548103 0.25580454\n",
            "  0.48595884 0.04692473 0.02633545 0.01205085 0.0074922 ]]\n"
          ]
        },
        {
          "name": "stderr",
          "output_type": "stream",
          "text": [
            "\n",
            "\n",
            "tqdm() Progress Bar Segments: 844it [07:25,  1.89it/s]\u001b[A\u001b[A"
          ]
        },
        {
          "name": "stdout",
          "output_type": "stream",
          "text": [
            "[[0.00741839 0.33342984 0.0008183  0.00411741 0.10630994 0.07467277\n",
            "  0.00602032 0.09051237 0.0670561  0.00187713 0.3077674 ]]\n"
          ]
        },
        {
          "name": "stderr",
          "output_type": "stream",
          "text": [
            "\n",
            "\n",
            "tqdm() Progress Bar Segments: 845it [07:25,  1.90it/s]\u001b[A\u001b[A"
          ]
        },
        {
          "name": "stdout",
          "output_type": "stream",
          "text": [
            "[[1.2808735e-03 3.7849913e-04 2.2242902e-04 3.1684907e-04 8.4512472e-02\n",
            "  3.9682528e-03 6.6329627e-03 2.8982561e-04 4.5933768e-02 9.4773801e-05\n",
            "  8.5636926e-01]]\n"
          ]
        },
        {
          "name": "stderr",
          "output_type": "stream",
          "text": [
            "\n",
            "\n",
            "tqdm() Progress Bar Segments: 846it [07:26,  1.90it/s]\u001b[A\u001b[A"
          ]
        },
        {
          "name": "stdout",
          "output_type": "stream",
          "text": [
            "[[9.3114324e-04 2.1032401e-04 2.2254742e-04 1.9447906e-03 5.7709795e-01\n",
            "  4.1807545e-03 2.2911934e-02 5.5649482e-05 1.2845182e-01 1.6239828e-04\n",
            "  2.6383072e-01]]\n"
          ]
        },
        {
          "name": "stderr",
          "output_type": "stream",
          "text": [
            "\n",
            "\n",
            "tqdm() Progress Bar Segments: 847it [07:26,  1.89it/s]\u001b[A\u001b[A"
          ]
        },
        {
          "name": "stdout",
          "output_type": "stream",
          "text": [
            "[[2.6197985e-04 7.8105395e-06 3.6633105e-06 1.1977577e-03 5.5044547e-02\n",
            "  2.6202455e-04 3.9970936e-04 2.2282975e-06 5.5023474e-01 2.0672365e-05\n",
            "  3.9256489e-01]]\n"
          ]
        },
        {
          "name": "stderr",
          "output_type": "stream",
          "text": [
            "\n",
            "\n",
            "tqdm() Progress Bar Segments: 848it [07:27,  1.90it/s]\u001b[A\u001b[A"
          ]
        },
        {
          "name": "stdout",
          "output_type": "stream",
          "text": [
            "[[8.9841306e-02 2.6351295e-03 7.0898284e-05 3.3533908e-04 9.3095526e-03\n",
            "  2.9280109e-02 1.1270082e-03 8.4458709e-01 1.2562540e-03 2.9440143e-03\n",
            "  1.8613176e-02]]\n"
          ]
        },
        {
          "name": "stderr",
          "output_type": "stream",
          "text": [
            "\n",
            "\n",
            "tqdm() Progress Bar Segments: 849it [07:27,  1.90it/s]\u001b[A\u001b[A"
          ]
        },
        {
          "name": "stdout",
          "output_type": "stream",
          "text": [
            "[[4.7965583e-05 2.8611654e-03 5.6205595e-06 1.9961175e-02 1.8772141e-04\n",
            "  3.8762190e-04 1.1939675e-04 9.7581226e-01 3.3433601e-04 2.4400621e-04\n",
            "  3.8762191e-05]]\n"
          ]
        },
        {
          "name": "stderr",
          "output_type": "stream",
          "text": [
            "\n",
            "\n",
            "tqdm() Progress Bar Segments: 850it [07:28,  1.90it/s]\u001b[A\u001b[A"
          ]
        },
        {
          "name": "stdout",
          "output_type": "stream",
          "text": [
            "[[1.9892826e-04 8.9404630e-06 4.7834455e-06 2.3855381e-03 2.0195134e-01\n",
            "  5.4097624e-04 2.5173165e-03 6.7066553e-06 7.0005429e-01 1.1727582e-04\n",
            "  9.2213847e-02]]\n"
          ]
        },
        {
          "name": "stderr",
          "output_type": "stream",
          "text": [
            "\n",
            "\n",
            "tqdm() Progress Bar Segments: 851it [07:28,  1.92it/s]\u001b[A\u001b[A"
          ]
        },
        {
          "name": "stdout",
          "output_type": "stream",
          "text": [
            "[[4.3107627e-04 4.4044038e-05 5.6394514e-05 1.4973061e-02 6.8461478e-01\n",
            "  8.8559993e-04 3.9784387e-03 1.2667505e-05 1.9834691e-01 5.6475837e-05\n",
            "  9.6600473e-02]]\n"
          ]
        },
        {
          "name": "stderr",
          "output_type": "stream",
          "text": [
            "\n",
            "\n",
            "tqdm() Progress Bar Segments: 852it [07:29,  1.92it/s]\u001b[A\u001b[A"
          ]
        },
        {
          "name": "stdout",
          "output_type": "stream",
          "text": [
            "[[4.02887046e-01 4.43748385e-03 3.73798510e-04 8.62382760e-04\n",
            "  1.19531825e-02 3.45004708e-01 1.64032832e-01 4.84454893e-02\n",
            "  7.78360059e-04 1.98791791e-02 1.34557136e-03]]\n"
          ]
        },
        {
          "name": "stderr",
          "output_type": "stream",
          "text": [
            "\n",
            "\n",
            "tqdm() Progress Bar Segments: 853it [07:30,  1.88it/s]\u001b[A\u001b[A"
          ]
        },
        {
          "name": "stdout",
          "output_type": "stream",
          "text": [
            "[[2.0165171e-03 3.1198194e-04 1.7406806e-04 1.5360845e-03 1.5618621e-01\n",
            "  8.2761506e-03 6.5353155e-02 6.5964810e-04 3.7051621e-01 4.8945443e-04\n",
            "  3.9448053e-01]]\n"
          ]
        },
        {
          "name": "stderr",
          "output_type": "stream",
          "text": [
            "\n",
            "\n",
            "tqdm() Progress Bar Segments: 854it [07:30,  1.88it/s]\u001b[A\u001b[A"
          ]
        },
        {
          "name": "stdout",
          "output_type": "stream",
          "text": [
            "[[1.0603352e-01 1.4041787e-03 1.0765046e-04 5.1646109e-04 3.3082459e-02\n",
            "  3.0417655e-02 7.1039796e-03 8.0610102e-01 1.0626129e-03 5.3775259e-03\n",
            "  8.7930355e-03]]\n"
          ]
        },
        {
          "name": "stderr",
          "output_type": "stream",
          "text": [
            "\n",
            "\n",
            "tqdm() Progress Bar Segments: 855it [07:31,  1.87it/s]\u001b[A\u001b[A"
          ]
        },
        {
          "name": "stdout",
          "output_type": "stream",
          "text": [
            "[[8.9978648e-04 1.3845936e-04 1.4724453e-04 3.8909234e-04 2.2879878e-01\n",
            "  1.3684169e-03 1.4149956e-02 4.3853845e-05 6.5164745e-02 7.2440249e-05\n",
            "  6.8882722e-01]]\n"
          ]
        },
        {
          "name": "stderr",
          "output_type": "stream",
          "text": [
            "\n",
            "\n",
            "tqdm() Progress Bar Segments: 856it [07:31,  1.88it/s]\u001b[A\u001b[A"
          ]
        },
        {
          "name": "stdout",
          "output_type": "stream",
          "text": [
            "[[0.18528141 0.18454348 0.00172802 0.00129961 0.07678971 0.18935585\n",
            "  0.00236367 0.30979082 0.00294666 0.00903859 0.03686223]]\n"
          ]
        },
        {
          "name": "stderr",
          "output_type": "stream",
          "text": [
            "\n",
            "\n",
            "tqdm() Progress Bar Segments: 857it [07:32,  1.89it/s]\u001b[A\u001b[A"
          ]
        },
        {
          "name": "stdout",
          "output_type": "stream",
          "text": [
            "[[4.5876302e-05 5.4653447e-06 6.0815851e-06 1.3253478e-03 9.3200928e-01\n",
            "  9.2934650e-05 3.2134790e-03 1.7134704e-06 5.8481552e-02 1.3947438e-05\n",
            "  4.8043304e-03]]\n"
          ]
        },
        {
          "name": "stderr",
          "output_type": "stream",
          "text": [
            "\n",
            "\n",
            "tqdm() Progress Bar Segments: 858it [07:32,  1.88it/s]\u001b[A\u001b[A"
          ]
        },
        {
          "name": "stdout",
          "output_type": "stream",
          "text": [
            "[[1.5306393e-04 1.8302615e-05 1.1752792e-05 1.4388813e-05 2.5044042e-03\n",
            "  3.8466178e-04 6.5714272e-04 6.2955696e-06 4.1780076e-03 1.9254992e-06\n",
            "  9.9207002e-01]]\n"
          ]
        },
        {
          "name": "stderr",
          "output_type": "stream",
          "text": [
            "\n",
            "\n",
            "tqdm() Progress Bar Segments: 859it [07:33,  1.89it/s]\u001b[A\u001b[A"
          ]
        },
        {
          "name": "stdout",
          "output_type": "stream",
          "text": [
            "[[8.5077708e-04 2.5228196e-04 1.6503371e-04 3.2033273e-03 6.7290044e-01\n",
            "  2.5245186e-03 4.6781208e-02 8.5238869e-05 2.0631021e-01 2.1991185e-04\n",
            "  6.6707037e-02]]\n"
          ]
        },
        {
          "name": "stderr",
          "output_type": "stream",
          "text": [
            "\n",
            "\n",
            "tqdm() Progress Bar Segments: 860it [07:33,  1.89it/s]\u001b[A\u001b[A"
          ]
        },
        {
          "name": "stdout",
          "output_type": "stream",
          "text": [
            "[[5.9257480e-03 2.8628318e-04 2.9666204e-04 5.1583685e-02 1.4482249e-01\n",
            "  1.8767763e-02 9.2689479e-03 3.3556059e-04 5.8008242e-01 1.4937795e-03\n",
            "  1.8713666e-01]]\n"
          ]
        },
        {
          "name": "stderr",
          "output_type": "stream",
          "text": [
            "\n",
            "\n",
            "tqdm() Progress Bar Segments: 861it [07:34,  1.90it/s]\u001b[A\u001b[A"
          ]
        },
        {
          "name": "stdout",
          "output_type": "stream",
          "text": [
            "[[1.1717512e-03 4.1248943e-04 1.1097287e-04 1.0765665e-03 2.3058560e-01\n",
            "  3.5815104e-03 2.0620205e-02 3.5640513e-04 2.0139408e-01 2.7399231e-04\n",
            "  5.4041636e-01]]\n"
          ]
        },
        {
          "name": "stderr",
          "output_type": "stream",
          "text": [
            "\n",
            "\n",
            "tqdm() Progress Bar Segments: 862it [07:34,  1.92it/s]\u001b[A\u001b[A"
          ]
        },
        {
          "name": "stdout",
          "output_type": "stream",
          "text": [
            "[[4.8180735e-01 1.8129861e-03 2.0407349e-05 6.6779881e-05 8.2790237e-03\n",
            "  4.5667529e-01 1.1942349e-02 1.3052678e-02 3.4782500e-04 2.4235610e-02\n",
            "  1.7596723e-03]]\n"
          ]
        },
        {
          "name": "stderr",
          "output_type": "stream",
          "text": [
            "\n",
            "\n",
            "tqdm() Progress Bar Segments: 863it [07:35,  1.92it/s]\u001b[A\u001b[A"
          ]
        },
        {
          "name": "stdout",
          "output_type": "stream",
          "text": [
            "[[1.8195262e-04 5.0108440e-02 5.5582088e-04 4.6284800e-05 9.4372654e-01\n",
            "  6.5008382e-05 1.0956542e-05 5.1913150e-03 4.1786307e-06 3.1194722e-05\n",
            "  7.8366706e-05]]\n"
          ]
        },
        {
          "name": "stderr",
          "output_type": "stream",
          "text": [
            "\n",
            "\n",
            "tqdm() Progress Bar Segments: 864it [07:35,  1.92it/s]\u001b[A\u001b[A"
          ]
        },
        {
          "name": "stdout",
          "output_type": "stream",
          "text": [
            "[[1.2405047e-03 1.3181160e-02 6.2254514e-04 7.7231193e-04 2.5967309e-01\n",
            "  2.0929833e-03 4.4124308e-03 1.8610215e-02 2.2538719e-01 4.4065688e-04\n",
            "  4.7356698e-01]]\n"
          ]
        },
        {
          "name": "stderr",
          "output_type": "stream",
          "text": [
            "\n",
            "\n",
            "tqdm() Progress Bar Segments: 865it [07:36,  1.90it/s]\u001b[A\u001b[A"
          ]
        },
        {
          "name": "stdout",
          "output_type": "stream",
          "text": [
            "[[5.0500556e-05 5.1021752e-06 1.7180882e-05 1.3671583e-04 9.2455322e-01\n",
            "  1.2564812e-04 7.9334583e-03 1.1185535e-06 8.9339409e-03 1.6657929e-06\n",
            "  5.8241565e-02]]\n"
          ]
        },
        {
          "name": "stderr",
          "output_type": "stream",
          "text": [
            "\n",
            "\n",
            "tqdm() Progress Bar Segments: 866it [07:36,  1.92it/s]\u001b[A\u001b[A"
          ]
        },
        {
          "name": "stdout",
          "output_type": "stream",
          "text": [
            "[[7.3871779e-05 5.2554166e-01 9.0556429e-04 1.0672068e-05 4.7220665e-01\n",
            "  6.0188973e-05 2.1399310e-06 1.1676598e-03 5.2161937e-07 4.1170388e-06\n",
            "  2.6930653e-05]]\n"
          ]
        },
        {
          "name": "stderr",
          "output_type": "stream",
          "text": [
            "\n",
            "\n",
            "tqdm() Progress Bar Segments: 867it [07:37,  1.93it/s]\u001b[A\u001b[A"
          ]
        },
        {
          "name": "stdout",
          "output_type": "stream",
          "text": [
            "[[1.7204993e-05 7.8400344e-06 1.6823318e-06 3.0733951e-04 8.6417776e-01\n",
            "  1.0617734e-04 2.1338391e-03 1.4119244e-06 1.1271374e-01 1.1648054e-05\n",
            "  2.0521313e-02]]\n"
          ]
        },
        {
          "name": "stderr",
          "output_type": "stream",
          "text": [
            "\n",
            "\n",
            "tqdm() Progress Bar Segments: 868it [07:37,  1.93it/s]\u001b[A\u001b[A"
          ]
        },
        {
          "name": "stdout",
          "output_type": "stream",
          "text": [
            "[[0.01191377 0.00917629 0.00207671 0.02462416 0.23024675 0.12420268\n",
            "  0.0324743  0.01545895 0.14889856 0.0097858  0.39114198]]\n"
          ]
        },
        {
          "name": "stderr",
          "output_type": "stream",
          "text": [
            "\n",
            "\n",
            "tqdm() Progress Bar Segments: 869it [07:38,  1.93it/s]\u001b[A\u001b[A"
          ]
        },
        {
          "name": "stdout",
          "output_type": "stream",
          "text": [
            "[[4.6321792e-03 4.9074838e-04 1.8310334e-04 1.9191408e-03 2.4848583e-01\n",
            "  5.2058715e-03 6.8189376e-03 3.1316597e-03 3.5065955e-01 6.8848894e-04\n",
            "  3.7778452e-01]]\n"
          ]
        },
        {
          "name": "stderr",
          "output_type": "stream",
          "text": [
            "\n",
            "\n",
            "tqdm() Progress Bar Segments: 870it [07:38,  1.93it/s]\u001b[A\u001b[A"
          ]
        },
        {
          "name": "stdout",
          "output_type": "stream",
          "text": [
            "[[7.5578864e-04 1.4300665e-02 4.2642034e-03 1.1058630e-04 9.7854143e-01\n",
            "  1.4048058e-04 2.6348036e-05 1.7016991e-03 2.2373319e-05 2.7086075e-05\n",
            "  1.0926395e-04]]\n"
          ]
        },
        {
          "name": "stderr",
          "output_type": "stream",
          "text": [
            "\n",
            "\n",
            "tqdm() Progress Bar Segments: 871it [07:39,  1.94it/s]\u001b[A\u001b[A"
          ]
        },
        {
          "name": "stdout",
          "output_type": "stream",
          "text": [
            "[[1.3100077e-02 4.1662841e-03 9.8527475e-05 7.9162524e-04 1.6031474e-02\n",
            "  1.3542033e-02 5.2481756e-04 9.4384718e-01 1.6093130e-03 2.0398155e-03\n",
            "  4.2487402e-03]]\n"
          ]
        },
        {
          "name": "stderr",
          "output_type": "stream",
          "text": [
            "\n",
            "\n",
            "tqdm() Progress Bar Segments: 872it [07:39,  1.95it/s]\u001b[A\u001b[A"
          ]
        },
        {
          "name": "stdout",
          "output_type": "stream",
          "text": [
            "[[0.03888614 0.14733425 0.01369957 0.00420149 0.31700718 0.12147434\n",
            "  0.00232056 0.30563673 0.00447942 0.00454525 0.04041514]]\n"
          ]
        },
        {
          "name": "stderr",
          "output_type": "stream",
          "text": [
            "\n",
            "\n",
            "tqdm() Progress Bar Segments: 873it [07:40,  1.95it/s]\u001b[A\u001b[A"
          ]
        },
        {
          "name": "stdout",
          "output_type": "stream",
          "text": [
            "[[4.9604423e-04 5.1667012e-04 3.2020380e-05 6.1315713e-03 2.5441537e-02\n",
            "  4.3145841e-04 2.9418266e-03 2.9150983e-03 9.2882925e-01 3.7641267e-04\n",
            "  3.1888034e-02]]\n"
          ]
        },
        {
          "name": "stderr",
          "output_type": "stream",
          "text": [
            "\n",
            "\n",
            "tqdm() Progress Bar Segments: 874it [07:40,  1.95it/s]\u001b[A\u001b[A"
          ]
        },
        {
          "name": "stdout",
          "output_type": "stream",
          "text": [
            "[[1.2138887e-04 6.8577909e-05 1.3771548e-05 1.1555225e-04 7.4627495e-01\n",
            "  6.9240527e-04 3.6669830e-03 1.1232069e-05 1.2334911e-01 3.4635239e-05\n",
            "  1.2565145e-01]]\n"
          ]
        },
        {
          "name": "stderr",
          "output_type": "stream",
          "text": [
            "\n",
            "\n",
            "tqdm() Progress Bar Segments: 875it [07:41,  1.96it/s]\u001b[A\u001b[A"
          ]
        },
        {
          "name": "stdout",
          "output_type": "stream",
          "text": [
            "[[1.1375403e-03 9.6519143e-05 1.5040139e-04 5.2264738e-03 2.3006751e-01\n",
            "  5.5777687e-03 4.4818752e-02 5.2017993e-05 5.0067794e-01 4.0306582e-04\n",
            "  2.1179204e-01]]\n"
          ]
        },
        {
          "name": "stderr",
          "output_type": "stream",
          "text": [
            "\n",
            "\n",
            "tqdm() Progress Bar Segments: 876it [07:41,  1.94it/s]\u001b[A\u001b[A"
          ]
        },
        {
          "name": "stdout",
          "output_type": "stream",
          "text": [
            "[[1.2043839e-04 2.8486103e-05 1.2456608e-04 1.7552560e-03 9.4918108e-01\n",
            "  3.5993502e-04 3.1107521e-02 1.4844784e-05 7.9609659e-03 2.7151549e-05\n",
            "  9.3198847e-03]]\n"
          ]
        },
        {
          "name": "stderr",
          "output_type": "stream",
          "text": [
            "\n",
            "\n",
            "tqdm() Progress Bar Segments: 877it [07:42,  1.94it/s]\u001b[A\u001b[A"
          ]
        },
        {
          "name": "stdout",
          "output_type": "stream",
          "text": [
            "[[5.8384272e-03 1.8548729e-02 3.6657261e-04 3.1484060e-03 8.9256279e-02\n",
            "  1.4678655e-02 3.5209216e-03 9.2825882e-02 3.2437524e-01 1.4892092e-03\n",
            "  4.4595167e-01]]\n"
          ]
        },
        {
          "name": "stderr",
          "output_type": "stream",
          "text": [
            "\n",
            "\n",
            "tqdm() Progress Bar Segments: 878it [07:43,  1.94it/s]\u001b[A\u001b[A"
          ]
        },
        {
          "name": "stdout",
          "output_type": "stream",
          "text": [
            "[[2.5173554e-03 1.2818098e-03 2.2138207e-04 8.0639607e-04 2.0022328e-01\n",
            "  1.7335139e-02 1.3338762e-02 1.9691482e-03 1.1509364e-01 3.1721196e-04\n",
            "  6.4689583e-01]]\n"
          ]
        },
        {
          "name": "stderr",
          "output_type": "stream",
          "text": [
            "\n",
            "\n",
            "tqdm() Progress Bar Segments: 879it [07:43,  1.93it/s]\u001b[A\u001b[A"
          ]
        },
        {
          "name": "stdout",
          "output_type": "stream",
          "text": [
            "[[6.1113164e-03 5.2344343e-03 2.6574384e-05 2.8224287e-03 1.8977373e-03\n",
            "  3.4876826e-01 3.8191029e-01 1.2589514e-01 1.5703206e-03 1.2556726e-01\n",
            "  1.9613073e-04]]\n"
          ]
        },
        {
          "name": "stderr",
          "output_type": "stream",
          "text": [
            "\n",
            "\n",
            "tqdm() Progress Bar Segments: 880it [07:44,  1.94it/s]\u001b[A\u001b[A"
          ]
        },
        {
          "name": "stdout",
          "output_type": "stream",
          "text": [
            "[[3.1382935e-03 3.3806521e-02 2.9828817e-02 9.1819747e-05 9.2676002e-01\n",
            "  2.7316003e-03 1.6058242e-04 1.0824971e-03 6.5323336e-05 9.2121903e-05\n",
            "  2.2424876e-03]]\n"
          ]
        },
        {
          "name": "stderr",
          "output_type": "stream",
          "text": [
            "\n",
            "\n",
            "tqdm() Progress Bar Segments: 881it [07:44,  1.94it/s]\u001b[A\u001b[A"
          ]
        },
        {
          "name": "stdout",
          "output_type": "stream",
          "text": [
            "[[8.0927581e-02 2.1388028e-03 1.2016067e-05 5.7555844e-05 2.4077841e-03\n",
            "  8.8206744e-01 1.7009415e-02 7.0567108e-03 2.4202169e-04 7.8525608e-03\n",
            "  2.2813765e-04]]\n"
          ]
        },
        {
          "name": "stderr",
          "output_type": "stream",
          "text": [
            "\n",
            "\n",
            "tqdm() Progress Bar Segments: 882it [07:45,  1.93it/s]\u001b[A\u001b[A"
          ]
        },
        {
          "name": "stdout",
          "output_type": "stream",
          "text": [
            "[[1.0445603e-02 5.7085502e-01 5.0779409e-04 2.2418848e-04 3.0294254e-01\n",
            "  2.4698583e-02 1.1061131e-04 8.7151833e-02 2.1160668e-05 2.5537263e-03\n",
            "  4.8899185e-04]]\n"
          ]
        },
        {
          "name": "stderr",
          "output_type": "stream",
          "text": [
            "\n",
            "\n",
            "tqdm() Progress Bar Segments: 883it [07:45,  1.93it/s]\u001b[A\u001b[A"
          ]
        },
        {
          "name": "stdout",
          "output_type": "stream",
          "text": [
            "[[0.00156477 0.00746013 0.00054386 0.00675254 0.1661465  0.08535028\n",
            "  0.19320269 0.00605329 0.5070989  0.01214254 0.01368454]]\n"
          ]
        },
        {
          "name": "stderr",
          "output_type": "stream",
          "text": [
            "\n",
            "\n",
            "tqdm() Progress Bar Segments: 884it [07:46,  1.93it/s]\u001b[A\u001b[A"
          ]
        },
        {
          "name": "stdout",
          "output_type": "stream",
          "text": [
            "[[6.2180776e-03 2.1451989e-03 6.1004317e-05 7.5133080e-03 2.9196425e-03\n",
            "  5.9583999e-02 7.0567608e-02 7.2428399e-01 2.1785090e-03 1.2418090e-01\n",
            "  3.4778926e-04]]\n"
          ]
        },
        {
          "name": "stderr",
          "output_type": "stream",
          "text": [
            "\n",
            "\n",
            "tqdm() Progress Bar Segments: 885it [07:46,  1.92it/s]\u001b[A\u001b[A"
          ]
        },
        {
          "name": "stdout",
          "output_type": "stream",
          "text": [
            "[[5.2325391e-05 1.3810230e-03 1.0729452e-06 7.0886448e-04 2.3323484e-04\n",
            "  3.9969056e-04 5.7422649e-06 9.9681562e-01 1.6201778e-04 4.4240845e-05\n",
            "  1.9633956e-04]]\n"
          ]
        },
        {
          "name": "stderr",
          "output_type": "stream",
          "text": [
            "\n",
            "\n",
            "tqdm() Progress Bar Segments: 886it [07:47,  1.92it/s]\u001b[A\u001b[A"
          ]
        },
        {
          "name": "stdout",
          "output_type": "stream",
          "text": [
            "[[4.8833335e-04 4.1187179e-04 1.6201171e-04 1.1006641e-02 8.5624832e-01\n",
            "  3.3342056e-03 2.2707056e-02 8.5717147e-05 8.6913154e-02 5.8894558e-04\n",
            "  1.8053774e-02]]\n"
          ]
        },
        {
          "name": "stderr",
          "output_type": "stream",
          "text": [
            "\n",
            "\n",
            "tqdm() Progress Bar Segments: 887it [07:47,  1.92it/s]\u001b[A\u001b[A"
          ]
        },
        {
          "name": "stdout",
          "output_type": "stream",
          "text": [
            "[[1.33534742e-03 8.06503117e-01 1.26252966e-02 8.57722553e-05\n",
            "  1.54943347e-01 9.00384877e-03 1.94161490e-04 4.44358494e-03\n",
            "  9.08846632e-05 1.57407645e-04 1.06172385e-02]]\n"
          ]
        },
        {
          "name": "stderr",
          "output_type": "stream",
          "text": [
            "\n",
            "\n",
            "tqdm() Progress Bar Segments: 888it [07:48,  1.91it/s]\u001b[A\u001b[A"
          ]
        },
        {
          "name": "stdout",
          "output_type": "stream",
          "text": [
            "[[0.00366187 0.00074143 0.00047777 0.00546501 0.26700538 0.01472841\n",
            "  0.05978831 0.00062188 0.46192867 0.00157778 0.1840035 ]]\n"
          ]
        },
        {
          "name": "stderr",
          "output_type": "stream",
          "text": [
            "\n",
            "\n",
            "tqdm() Progress Bar Segments: 889it [07:48,  1.90it/s]\u001b[A\u001b[A"
          ]
        },
        {
          "name": "stdout",
          "output_type": "stream",
          "text": [
            "[[0.57175004 0.00601875 0.00107154 0.00245047 0.05935671 0.03846864\n",
            "  0.00124649 0.18877263 0.0123516  0.00340021 0.11511285]]\n"
          ]
        },
        {
          "name": "stderr",
          "output_type": "stream",
          "text": [
            "\n",
            "\n",
            "tqdm() Progress Bar Segments: 890it [07:49,  1.90it/s]\u001b[A\u001b[A"
          ]
        },
        {
          "name": "stdout",
          "output_type": "stream",
          "text": [
            "[[3.5207711e-05 1.0402141e-05 7.8836338e-06 4.1086292e-03 9.3348074e-01\n",
            "  2.0217501e-04 2.9430641e-03 1.5012955e-06 3.9739538e-02 1.8717194e-05\n",
            "  1.9452278e-02]]\n"
          ]
        },
        {
          "name": "stderr",
          "output_type": "stream",
          "text": [
            "\n",
            "\n",
            "tqdm() Progress Bar Segments: 891it [07:49,  1.90it/s]\u001b[A\u001b[A"
          ]
        },
        {
          "name": "stdout",
          "output_type": "stream",
          "text": [
            "[[5.4302804e-02 2.8651736e-03 6.4707579e-05 1.7354423e-03 7.3147989e-03\n",
            "  3.9309213e-01 3.4381371e-02 4.6201095e-01 2.8114005e-03 4.0099058e-02\n",
            "  1.3221423e-03]]\n"
          ]
        },
        {
          "name": "stderr",
          "output_type": "stream",
          "text": [
            "\n",
            "\n",
            "tqdm() Progress Bar Segments: 892it [07:50,  1.91it/s]\u001b[A\u001b[A"
          ]
        },
        {
          "name": "stdout",
          "output_type": "stream",
          "text": [
            "[[6.5226984e-01 3.1644199e-02 5.0824677e-04 4.7239117e-04 1.0094737e-02\n",
            "  2.0255335e-01 2.8791255e-03 4.5465782e-02 3.7041826e-03 8.6604926e-04\n",
            "  4.9542099e-02]]\n"
          ]
        },
        {
          "name": "stderr",
          "output_type": "stream",
          "text": [
            "\n",
            "\n",
            "tqdm() Progress Bar Segments: 893it [07:50,  1.92it/s]\u001b[A\u001b[A"
          ]
        },
        {
          "name": "stdout",
          "output_type": "stream",
          "text": [
            "[[2.2338740e-05 2.1703752e-05 4.8947791e-06 4.7128895e-04 9.2436230e-01\n",
            "  1.2648180e-04 2.9175291e-03 3.9589904e-06 6.8370983e-02 3.8406393e-05\n",
            "  3.6601026e-03]]\n"
          ]
        },
        {
          "name": "stderr",
          "output_type": "stream",
          "text": [
            "\n",
            "\n",
            "tqdm() Progress Bar Segments: 894it [07:51,  1.91it/s]\u001b[A\u001b[A"
          ]
        },
        {
          "name": "stdout",
          "output_type": "stream",
          "text": [
            "[[3.3068401e-03 1.4563618e-03 3.4908645e-04 1.9092083e-03 1.5988879e-01\n",
            "  1.8510045e-02 2.2680195e-02 2.6640131e-03 2.8450647e-01 1.5466394e-03\n",
            "  5.0318235e-01]]\n"
          ]
        },
        {
          "name": "stderr",
          "output_type": "stream",
          "text": [
            "\n",
            "\n",
            "tqdm() Progress Bar Segments: 895it [07:51,  1.92it/s]\u001b[A\u001b[A"
          ]
        },
        {
          "name": "stdout",
          "output_type": "stream",
          "text": [
            "[[3.2185162e-03 6.9000285e-05 2.6170179e-05 2.8653819e-02 1.1931303e-02\n",
            "  1.9522907e-03 5.0894485e-04 4.4076198e-05 6.2116760e-01 9.0237925e-05\n",
            "  3.3233804e-01]]\n"
          ]
        },
        {
          "name": "stderr",
          "output_type": "stream",
          "text": [
            "\n",
            "\n",
            "tqdm() Progress Bar Segments: 896it [07:52,  1.92it/s]\u001b[A\u001b[A"
          ]
        },
        {
          "name": "stdout",
          "output_type": "stream",
          "text": [
            "[[3.4845676e-04 7.5720338e-05 1.4644738e-04 3.0684791e-04 5.4117113e-01\n",
            "  1.1566781e-03 6.2543616e-02 2.6751435e-05 7.5469106e-02 2.2718701e-05\n",
            "  3.1873256e-01]]\n"
          ]
        },
        {
          "name": "stderr",
          "output_type": "stream",
          "text": [
            "\n",
            "\n",
            "tqdm() Progress Bar Segments: 897it [07:52,  1.85it/s]\u001b[A\u001b[A"
          ]
        },
        {
          "name": "stdout",
          "output_type": "stream",
          "text": [
            "[[1.5498230e-03 5.5533540e-03 9.2238806e-05 7.8757264e-04 1.5187210e-02\n",
            "  6.7419736e-03 8.2367839e-04 9.0767747e-01 1.0814341e-02 1.6938589e-04\n",
            "  5.0602928e-02]]\n"
          ]
        },
        {
          "name": "stderr",
          "output_type": "stream",
          "text": [
            "\n",
            "\n",
            "tqdm() Progress Bar Segments: 898it [07:53,  1.87it/s]\u001b[A\u001b[A"
          ]
        },
        {
          "name": "stdout",
          "output_type": "stream",
          "text": [
            "[[1.0149697e-03 8.8305727e-02 3.2624873e-04 7.7301842e-01 1.0381743e-02\n",
            "  5.4531228e-03 4.8128827e-03 8.4802926e-02 2.5388826e-02 4.9059973e-03\n",
            "  1.5891020e-03]]\n"
          ]
        },
        {
          "name": "stderr",
          "output_type": "stream",
          "text": [
            "\n",
            "\n",
            "tqdm() Progress Bar Segments: 899it [07:54,  1.88it/s]\u001b[A\u001b[A"
          ]
        },
        {
          "name": "stdout",
          "output_type": "stream",
          "text": [
            "[[8.5534859e-01 1.8118281e-04 4.3473468e-05 2.2333802e-04 9.7297188e-03\n",
            "  1.1447569e-03 1.5039920e-04 1.1565644e-01 1.1908908e-03 3.4157801e-03\n",
            "  1.2915347e-02]]\n"
          ]
        },
        {
          "name": "stderr",
          "output_type": "stream",
          "text": [
            "\n",
            "\n",
            "tqdm() Progress Bar Segments: 900it [07:54,  1.88it/s]\u001b[A\u001b[A"
          ]
        },
        {
          "name": "stdout",
          "output_type": "stream",
          "text": [
            "[[8.3415329e-02 1.7965267e-03 2.3026952e-05 3.3790682e-04 4.2660125e-03\n",
            "  2.2811742e-01 4.5417830e-02 6.0353559e-01 5.4655771e-04 3.1551316e-02\n",
            "  9.9251291e-04]]\n"
          ]
        },
        {
          "name": "stderr",
          "output_type": "stream",
          "text": [
            "\n",
            "\n",
            "tqdm() Progress Bar Segments: 901it [07:55,  1.91it/s]\u001b[A\u001b[A"
          ]
        },
        {
          "name": "stdout",
          "output_type": "stream",
          "text": [
            "[[5.0197363e-05 6.8294216e-06 1.7320335e-05 1.8626115e-03 9.3822175e-01\n",
            "  1.7715147e-04 2.5877759e-03 2.3208256e-06 7.5135292e-03 2.0599216e-06\n",
            "  4.9558401e-02]]\n"
          ]
        },
        {
          "name": "stderr",
          "output_type": "stream",
          "text": [
            "\n",
            "\n",
            "tqdm() Progress Bar Segments: 902it [07:55,  1.93it/s]\u001b[A\u001b[A"
          ]
        },
        {
          "name": "stdout",
          "output_type": "stream",
          "text": [
            "[[3.6377299e-03 1.3480173e-02 2.6258716e-04 2.0210446e-04 8.6265706e-02\n",
            "  9.7934278e-03 7.9541520e-04 7.5109512e-01 3.2624698e-03 1.2827071e-03\n",
            "  1.2992260e-01]]\n"
          ]
        },
        {
          "name": "stderr",
          "output_type": "stream",
          "text": [
            "\n",
            "\n",
            "tqdm() Progress Bar Segments: 903it [07:56,  1.92it/s]\u001b[A\u001b[A"
          ]
        },
        {
          "name": "stdout",
          "output_type": "stream",
          "text": [
            "[[0.0569567  0.36603785 0.00850711 0.00094936 0.15639433 0.06335554\n",
            "  0.0025933  0.13184969 0.00256947 0.00816096 0.20262562]]\n"
          ]
        },
        {
          "name": "stderr",
          "output_type": "stream",
          "text": [
            "\n",
            "\n",
            "tqdm() Progress Bar Segments: 904it [07:56,  1.93it/s]\u001b[A\u001b[A"
          ]
        },
        {
          "name": "stdout",
          "output_type": "stream",
          "text": [
            "[[8.8804746e-03 8.5316561e-03 1.8916892e-04 8.0571756e-02 1.0281386e-02\n",
            "  2.0519958e-03 8.5287273e-04 7.9337853e-01 6.9179215e-02 1.1987698e-03\n",
            "  2.4884187e-02]]\n"
          ]
        },
        {
          "name": "stderr",
          "output_type": "stream",
          "text": [
            "\n",
            "\n",
            "tqdm() Progress Bar Segments: 905it [07:57,  1.93it/s]\u001b[A\u001b[A"
          ]
        },
        {
          "name": "stdout",
          "output_type": "stream",
          "text": [
            "[[0.39755824 0.03322383 0.00139479 0.00126235 0.07722187 0.02639784\n",
            "  0.00445662 0.19744359 0.00757457 0.00679937 0.24666685]]\n"
          ]
        },
        {
          "name": "stderr",
          "output_type": "stream",
          "text": [
            "\n",
            "\n",
            "tqdm() Progress Bar Segments: 906it [07:57,  1.93it/s]\u001b[A\u001b[A"
          ]
        },
        {
          "name": "stdout",
          "output_type": "stream",
          "text": [
            "[[0.7199587  0.00482523 0.00115436 0.00217131 0.08545393 0.00557751\n",
            "  0.00140268 0.11536814 0.00313903 0.00454731 0.05640174]]\n"
          ]
        },
        {
          "name": "stderr",
          "output_type": "stream",
          "text": [
            "\n",
            "\n",
            "tqdm() Progress Bar Segments: 907it [07:58,  1.93it/s]\u001b[A\u001b[A"
          ]
        },
        {
          "name": "stdout",
          "output_type": "stream",
          "text": [
            "[[3.2185718e-02 9.1086642e-04 1.1160860e-05 4.8510486e-04 2.1292863e-03\n",
            "  1.7029896e-01 6.9110669e-02 7.1844369e-01 2.0672467e-04 5.9802141e-03\n",
            "  2.3761006e-04]]\n"
          ]
        },
        {
          "name": "stderr",
          "output_type": "stream",
          "text": [
            "\n",
            "\n",
            "tqdm() Progress Bar Segments: 908it [07:58,  1.93it/s]\u001b[A\u001b[A"
          ]
        },
        {
          "name": "stdout",
          "output_type": "stream",
          "text": [
            "[[1.7237859e-02 9.9034303e-05 5.4450111e-06 2.3759461e-05 2.5693703e-04\n",
            "  2.5541502e-01 7.2570741e-01 6.7161140e-04 6.2723448e-05 5.0535193e-04\n",
            "  1.4878332e-05]]\n"
          ]
        },
        {
          "name": "stderr",
          "output_type": "stream",
          "text": [
            "\n",
            "\n",
            "tqdm() Progress Bar Segments: 909it [07:59,  1.92it/s]\u001b[A\u001b[A"
          ]
        },
        {
          "name": "stdout",
          "output_type": "stream",
          "text": [
            "[[4.57696944e-01 1.81413651e-03 1.15069044e-04 8.75352009e-04\n",
            "  1.85859278e-02 1.29541785e-01 3.21762711e-02 7.74284750e-02\n",
            "  8.01845267e-03 2.67634481e-01 6.11311058e-03]]\n"
          ]
        },
        {
          "name": "stderr",
          "output_type": "stream",
          "text": [
            "\n",
            "\n",
            "tqdm() Progress Bar Segments: 910it [07:59,  1.92it/s]\u001b[A\u001b[A"
          ]
        },
        {
          "name": "stdout",
          "output_type": "stream",
          "text": [
            "[[1.14208895e-04 1.47227884e-05 1.36319049e-05 1.64289770e-04\n",
            "  7.97367454e-01 1.28703727e-03 8.37702863e-03 5.88802232e-06\n",
            "  1.29776403e-01 1.42936096e-05 6.28649965e-02]]\n"
          ]
        },
        {
          "name": "stderr",
          "output_type": "stream",
          "text": [
            "\n",
            "\n",
            "tqdm() Progress Bar Segments: 911it [08:00,  1.94it/s]\u001b[A\u001b[A"
          ]
        },
        {
          "name": "stdout",
          "output_type": "stream",
          "text": [
            "[[1.3428757e-03 7.5391330e-02 4.7425862e-04 3.4012829e-03 2.9544737e-02\n",
            "  5.9081063e-02 2.6904989e-03 8.0950361e-01 7.5357449e-03 2.7859213e-03\n",
            "  8.2487185e-03]]\n"
          ]
        },
        {
          "name": "stderr",
          "output_type": "stream",
          "text": [
            "\n",
            "\n",
            "tqdm() Progress Bar Segments: 912it [08:00,  1.86it/s]\u001b[A\u001b[A"
          ]
        },
        {
          "name": "stdout",
          "output_type": "stream",
          "text": [
            "[[1.5667938e-05 2.1078067e-05 2.6481306e-08 4.7642930e-05 1.5331243e-05\n",
            "  2.2913142e-04 7.3898314e-06 9.9935192e-01 8.4312869e-06 3.0153329e-04\n",
            "  1.9410352e-06]]\n"
          ]
        },
        {
          "name": "stderr",
          "output_type": "stream",
          "text": [
            "\n",
            "\n",
            "tqdm() Progress Bar Segments: 913it [08:01,  1.88it/s]\u001b[A\u001b[A"
          ]
        },
        {
          "name": "stdout",
          "output_type": "stream",
          "text": [
            "[[1.3769522e-01 6.9144047e-03 5.7058802e-05 7.6550117e-05 6.3434556e-02\n",
            "  3.8484591e-01 1.1732873e-02 3.4046087e-01 2.0728186e-03 3.5797423e-03\n",
            "  4.9130056e-02]]\n"
          ]
        },
        {
          "name": "stderr",
          "output_type": "stream",
          "text": [
            "\n",
            "\n",
            "tqdm() Progress Bar Segments: 914it [08:01,  1.90it/s]\u001b[A\u001b[A"
          ]
        },
        {
          "name": "stdout",
          "output_type": "stream",
          "text": [
            "[[2.5141278e-06 4.6061386e-06 4.9966582e-09 1.0425442e-05 1.1229971e-05\n",
            "  2.0041480e-05 9.5869794e-08 9.9993289e-01 7.9325218e-06 4.1847998e-06\n",
            "  6.1306191e-06]]\n"
          ]
        },
        {
          "name": "stderr",
          "output_type": "stream",
          "text": [
            "\n",
            "\n",
            "tqdm() Progress Bar Segments: 915it [08:02,  1.90it/s]\u001b[A\u001b[A"
          ]
        },
        {
          "name": "stdout",
          "output_type": "stream",
          "text": [
            "[[9.4073286e-05 1.6250656e-03 1.5761396e-05 6.8699481e-04 6.2283012e-03\n",
            "  3.9985892e-03 2.8190043e-04 9.8370266e-01 1.1245410e-03 1.4028520e-03\n",
            "  8.3930849e-04]]\n"
          ]
        },
        {
          "name": "stderr",
          "output_type": "stream",
          "text": [
            "\n",
            "\n",
            "tqdm() Progress Bar Segments: 916it [08:02,  1.83it/s]\u001b[A\u001b[A"
          ]
        },
        {
          "name": "stdout",
          "output_type": "stream",
          "text": [
            "[[4.8657555e-02 2.5598645e-01 1.6992437e-03 3.3177060e-04 5.6781378e-02\n",
            "  1.1210208e-01 6.2854216e-04 4.3639325e-02 8.9065721e-03 3.0523023e-04\n",
            "  4.7096181e-01]]\n"
          ]
        },
        {
          "name": "stderr",
          "output_type": "stream",
          "text": [
            "\n",
            "\n",
            "tqdm() Progress Bar Segments: 917it [08:03,  1.77it/s]\u001b[A\u001b[A"
          ]
        },
        {
          "name": "stdout",
          "output_type": "stream",
          "text": [
            "[[4.9454095e-05 9.4632287e-06 1.0135497e-05 9.2631066e-04 6.0965246e-01\n",
            "  8.3629100e-05 1.2990662e-02 3.9530178e-06 3.6601129e-01 4.9461640e-05\n",
            "  1.0213291e-02]]\n"
          ]
        },
        {
          "name": "stderr",
          "output_type": "stream",
          "text": [
            "\n",
            "\n",
            "tqdm() Progress Bar Segments: 918it [08:04,  1.80it/s]\u001b[A\u001b[A"
          ]
        },
        {
          "name": "stdout",
          "output_type": "stream",
          "text": [
            "[[2.8854271e-04 1.3701420e-04 6.8995272e-05 2.1442848e-03 5.7534128e-01\n",
            "  8.5407146e-04 1.6782224e-02 6.2550629e-05 3.8588974e-01 3.7265528e-04\n",
            "  1.8058639e-02]]\n"
          ]
        },
        {
          "name": "stderr",
          "output_type": "stream",
          "text": [
            "\n",
            "\n",
            "tqdm() Progress Bar Segments: 919it [08:04,  1.83it/s]\u001b[A\u001b[A"
          ]
        },
        {
          "name": "stdout",
          "output_type": "stream",
          "text": [
            "[[4.3215729e-05 7.9854653e-06 9.2166520e-06 6.5065175e-04 9.3657279e-01\n",
            "  6.1092745e-05 1.0457673e-03 2.4641092e-06 2.3977770e-02 5.1379470e-06\n",
            "  3.7623975e-02]]\n"
          ]
        },
        {
          "name": "stderr",
          "output_type": "stream",
          "text": [
            "\n",
            "\n",
            "tqdm() Progress Bar Segments: 920it [08:05,  1.80it/s]\u001b[A\u001b[A"
          ]
        },
        {
          "name": "stdout",
          "output_type": "stream",
          "text": [
            "[[8.5088046e-05 5.3430012e-05 3.0680520e-05 3.9622124e-04 9.0807295e-01\n",
            "  4.2909771e-04 6.2218299e-03 8.6192777e-06 4.5251537e-02 1.8615579e-05\n",
            "  3.9431959e-02]]\n"
          ]
        },
        {
          "name": "stderr",
          "output_type": "stream",
          "text": [
            "\n",
            "\n",
            "tqdm() Progress Bar Segments: 921it [08:05,  1.83it/s]\u001b[A\u001b[A"
          ]
        },
        {
          "name": "stdout",
          "output_type": "stream",
          "text": [
            "[[1.0813404e-05 1.1971853e-06 1.5938883e-06 1.7648157e-04 9.5138502e-01\n",
            "  2.6129699e-05 3.7032433e-04 2.9675454e-07 1.3063386e-02 6.5660294e-07\n",
            "  3.4964100e-02]]\n"
          ]
        },
        {
          "name": "stderr",
          "output_type": "stream",
          "text": [
            "\n",
            "\n",
            "tqdm() Progress Bar Segments: 922it [08:06,  1.86it/s]\u001b[A\u001b[A"
          ]
        },
        {
          "name": "stdout",
          "output_type": "stream",
          "text": [
            "[[1.4142999e-01 2.1172499e-03 1.8700022e-04 4.3089674e-03 4.9181548e-03\n",
            "  9.9704772e-02 9.4231702e-02 1.4945975e-01 5.5380291e-03 4.9730781e-01\n",
            "  7.9656474e-04]]\n"
          ]
        },
        {
          "name": "stderr",
          "output_type": "stream",
          "text": [
            "\n",
            "\n",
            "tqdm() Progress Bar Segments: 923it [08:06,  1.88it/s]\u001b[A\u001b[A"
          ]
        },
        {
          "name": "stdout",
          "output_type": "stream",
          "text": [
            "[[1.9107850e-03 5.8473583e-04 2.0843364e-04 9.9932672e-03 1.2271669e-01\n",
            "  1.2990415e-02 7.0670326e-03 3.3620867e-04 2.1602441e-01 6.0936593e-04\n",
            "  6.2755859e-01]]\n"
          ]
        },
        {
          "name": "stderr",
          "output_type": "stream",
          "text": [
            "\n",
            "\n",
            "tqdm() Progress Bar Segments: 924it [08:07,  1.89it/s]\u001b[A\u001b[A"
          ]
        },
        {
          "name": "stdout",
          "output_type": "stream",
          "text": [
            "[[3.4540113e-05 5.9562403e-06 3.2378609e-06 4.4108983e-03 6.9987810e-01\n",
            "  6.6681132e-05 4.7083269e-03 2.6737114e-06 2.8650099e-01 5.5142224e-05\n",
            "  4.3334314e-03]]\n"
          ]
        },
        {
          "name": "stderr",
          "output_type": "stream",
          "text": [
            "\n",
            "\n",
            "tqdm() Progress Bar Segments: 925it [08:07,  1.90it/s]\u001b[A\u001b[A"
          ]
        },
        {
          "name": "stdout",
          "output_type": "stream",
          "text": [
            "[[3.8600806e-03 1.3222843e-03 3.0255067e-04 2.0889379e-04 8.7320276e-02\n",
            "  5.5815008e-02 3.7607044e-02 1.2827563e-03 1.9737855e-02 1.7521239e-04\n",
            "  7.9236805e-01]]\n"
          ]
        },
        {
          "name": "stderr",
          "output_type": "stream",
          "text": [
            "\n",
            "\n",
            "tqdm() Progress Bar Segments: 926it [08:08,  1.92it/s]\u001b[A\u001b[A"
          ]
        },
        {
          "name": "stdout",
          "output_type": "stream",
          "text": [
            "[[1.10479973e-01 9.46560595e-03 1.36122399e-04 5.16722735e-04\n",
            "  1.78784747e-02 1.18065506e-01 3.65195004e-03 7.01366007e-01\n",
            "  1.79034821e-03 1.60934241e-03 3.50400656e-02]]\n"
          ]
        },
        {
          "name": "stderr",
          "output_type": "stream",
          "text": [
            "\n",
            "\n",
            "tqdm() Progress Bar Segments: 927it [08:08,  1.85it/s]\u001b[A\u001b[A"
          ]
        },
        {
          "name": "stdout",
          "output_type": "stream",
          "text": [
            "[[0.00901607 0.04955307 0.00743814 0.00303554 0.23417148 0.03508404\n",
            "  0.02438516 0.05116049 0.2098755  0.00706139 0.36921915]]\n"
          ]
        },
        {
          "name": "stderr",
          "output_type": "stream",
          "text": [
            "\n",
            "\n",
            "tqdm() Progress Bar Segments: 928it [08:09,  1.88it/s]\u001b[A\u001b[A"
          ]
        },
        {
          "name": "stdout",
          "output_type": "stream",
          "text": [
            "[[3.6465406e-02 2.1285160e-01 5.5861718e-04 4.2688614e-04 2.7280260e-02\n",
            "  5.5978790e-02 4.0404010e-04 2.4928233e-01 3.5597719e-03 5.9482409e-04\n",
            "  4.1259754e-01]]\n"
          ]
        },
        {
          "name": "stderr",
          "output_type": "stream",
          "text": [
            "\n",
            "\n",
            "tqdm() Progress Bar Segments: 929it [08:09,  1.90it/s]\u001b[A\u001b[A"
          ]
        },
        {
          "name": "stdout",
          "output_type": "stream",
          "text": [
            "[[1.7790844e-05 1.7008715e-05 1.5377427e-05 1.8583855e-04 9.7571045e-01\n",
            "  1.5904559e-04 5.4900227e-03 1.0936434e-06 8.5033448e-03 7.4690934e-06\n",
            "  9.8925587e-03]]\n"
          ]
        },
        {
          "name": "stderr",
          "output_type": "stream",
          "text": [
            "\n",
            "\n",
            "tqdm() Progress Bar Segments: 930it [08:10,  1.92it/s]\u001b[A\u001b[A"
          ]
        },
        {
          "name": "stdout",
          "output_type": "stream",
          "text": [
            "[[4.2383192e-05 1.1590622e-05 5.7241705e-06 7.2016396e-02 7.4749207e-01\n",
            "  6.3870379e-05 4.5909616e-03 4.2759361e-06 1.6968806e-01 1.7545494e-04\n",
            "  5.9091211e-03]]\n"
          ]
        },
        {
          "name": "stderr",
          "output_type": "stream",
          "text": [
            "\n",
            "\n",
            "tqdm() Progress Bar Segments: 931it [08:11,  1.87it/s]\u001b[A\u001b[A"
          ]
        },
        {
          "name": "stdout",
          "output_type": "stream",
          "text": [
            "[[3.0729789e-03 5.3298916e-03 8.2466274e-04 5.2785937e-04 6.5475151e-02\n",
            "  4.9133538e-03 6.3219466e-03 2.2532772e-03 8.1276394e-02 3.6420609e-04\n",
            "  8.2964027e-01]]\n"
          ]
        },
        {
          "name": "stderr",
          "output_type": "stream",
          "text": [
            "\n",
            "\n",
            "tqdm() Progress Bar Segments: 932it [08:11,  1.90it/s]\u001b[A\u001b[A"
          ]
        },
        {
          "name": "stdout",
          "output_type": "stream",
          "text": [
            "[[0.00833126 0.02171352 0.00133821 0.00509833 0.03976144 0.01533195\n",
            "  0.02159764 0.01002619 0.38432422 0.00286123 0.4896161 ]]\n"
          ]
        },
        {
          "name": "stderr",
          "output_type": "stream",
          "text": [
            "\n",
            "\n",
            "tqdm() Progress Bar Segments: 933it [08:12,  1.91it/s]\u001b[A\u001b[A"
          ]
        },
        {
          "name": "stdout",
          "output_type": "stream",
          "text": [
            "[[7.2381151e-04 1.9498047e-04 1.4852171e-04 2.3926896e-04 1.1499065e-01\n",
            "  3.0023637e-03 5.8998726e-03 1.2296994e-04 3.4181584e-02 5.8713835e-05\n",
            "  8.4043723e-01]]\n"
          ]
        },
        {
          "name": "stderr",
          "output_type": "stream",
          "text": [
            "\n",
            "\n",
            "tqdm() Progress Bar Segments: 934it [08:12,  1.92it/s]\u001b[A\u001b[A"
          ]
        },
        {
          "name": "stdout",
          "output_type": "stream",
          "text": [
            "[[0.02767141 0.22088909 0.00725297 0.0006492  0.14322546 0.11344326\n",
            "  0.00378031 0.07088156 0.02102027 0.00121831 0.3899682 ]]\n"
          ]
        },
        {
          "name": "stderr",
          "output_type": "stream",
          "text": [
            "\n",
            "\n",
            "tqdm() Progress Bar Segments: 935it [08:13,  1.94it/s]\u001b[A\u001b[A"
          ]
        },
        {
          "name": "stdout",
          "output_type": "stream",
          "text": [
            "[[2.1410901e-02 3.7038088e-02 4.9798548e-02 1.0363224e-03 8.7627000e-01\n",
            "  2.1234937e-03 4.8359903e-04 4.4355500e-03 8.7405147e-04 3.3466745e-04\n",
            "  6.1948542e-03]]\n"
          ]
        },
        {
          "name": "stderr",
          "output_type": "stream",
          "text": [
            "\n",
            "\n",
            "tqdm() Progress Bar Segments: 936it [08:13,  1.94it/s]\u001b[A\u001b[A"
          ]
        },
        {
          "name": "stdout",
          "output_type": "stream",
          "text": [
            "[[8.0241170e-04 1.7945826e-02 6.2494451e-04 6.7666543e-01 1.1004823e-01\n",
            "  1.0400947e-02 1.3301016e-01 1.3800021e-02 2.8592290e-02 5.3227786e-03\n",
            "  2.7869730e-03]]\n"
          ]
        },
        {
          "name": "stderr",
          "output_type": "stream",
          "text": [
            "\n",
            "\n",
            "tqdm() Progress Bar Segments: 937it [08:14,  1.95it/s]\u001b[A\u001b[A"
          ]
        },
        {
          "name": "stdout",
          "output_type": "stream",
          "text": [
            "[[1.0384741e-03 4.6320402e-04 1.7928847e-04 1.3169111e-03 3.8845584e-01\n",
            "  5.3571076e-03 2.0293584e-02 2.7413992e-04 2.4487473e-01 2.2263626e-04\n",
            "  3.3752406e-01]]\n"
          ]
        },
        {
          "name": "stderr",
          "output_type": "stream",
          "text": [
            "\n",
            "\n",
            "tqdm() Progress Bar Segments: 938it [08:14,  1.94it/s]\u001b[A\u001b[A"
          ]
        },
        {
          "name": "stdout",
          "output_type": "stream",
          "text": [
            "[[4.5356140e-04 1.0844627e-04 1.0630168e-04 4.1242330e-03 7.7356708e-01\n",
            "  2.7206456e-03 2.9807026e-02 5.1895568e-05 1.4018683e-01 2.4552818e-04\n",
            "  4.8628435e-02]]\n"
          ]
        },
        {
          "name": "stderr",
          "output_type": "stream",
          "text": [
            "\n",
            "\n",
            "tqdm() Progress Bar Segments: 939it [08:15,  1.95it/s]\u001b[A\u001b[A"
          ]
        },
        {
          "name": "stdout",
          "output_type": "stream",
          "text": [
            "[[6.4711538e-03 1.3409137e-03 5.6810002e-04 1.3611931e-03 1.8084900e-02\n",
            "  1.3330283e-02 1.2506226e-02 1.1008192e-03 4.4660226e-02 4.3226048e-04\n",
            "  9.0014392e-01]]\n"
          ]
        },
        {
          "name": "stderr",
          "output_type": "stream",
          "text": [
            "\n",
            "\n",
            "tqdm() Progress Bar Segments: 940it [08:15,  1.95it/s]\u001b[A\u001b[A"
          ]
        },
        {
          "name": "stdout",
          "output_type": "stream",
          "text": [
            "[[1.72642304e-03 4.31807894e-05 1.05832354e-04 2.99397632e-02\n",
            "  4.62992430e-01 2.23975186e-03 1.17440254e-03 1.51974127e-05\n",
            "  4.80959043e-02 2.82051551e-05 4.53638941e-01]]\n"
          ]
        },
        {
          "name": "stderr",
          "output_type": "stream",
          "text": [
            "\n",
            "\n",
            "tqdm() Progress Bar Segments: 941it [08:16,  1.95it/s]\u001b[A\u001b[A"
          ]
        },
        {
          "name": "stdout",
          "output_type": "stream",
          "text": [
            "[[1.9302569e-02 1.1061715e-02 1.7276983e-05 1.6234102e-04 1.2757668e-02\n",
            "  7.4571794e-01 4.1903130e-04 2.0694853e-01 2.2927247e-04 9.3112519e-04\n",
            "  2.4524443e-03]]\n"
          ]
        },
        {
          "name": "stderr",
          "output_type": "stream",
          "text": [
            "\n",
            "\n",
            "tqdm() Progress Bar Segments: 942it [08:16,  1.87it/s]\u001b[A\u001b[A"
          ]
        },
        {
          "name": "stdout",
          "output_type": "stream",
          "text": [
            "[[3.47926021e-01 6.97717885e-04 1.23093005e-05 3.11084645e-04\n",
            "  2.67683971e-03 5.66510856e-01 1.58060007e-02 3.35978195e-02\n",
            "  1.28964253e-03 3.07759661e-02 3.95736744e-04]]\n"
          ]
        },
        {
          "name": "stderr",
          "output_type": "stream",
          "text": [
            "\n",
            "\n",
            "tqdm() Progress Bar Segments: 943it [08:17,  1.90it/s]\u001b[A\u001b[A"
          ]
        },
        {
          "name": "stdout",
          "output_type": "stream",
          "text": [
            "[[3.19836438e-02 8.61037243e-03 4.50602174e-03 3.43103718e-04\n",
            "  9.50318217e-01 1.30126311e-03 1.04190236e-04 1.91120035e-03\n",
            "  9.70392211e-05 4.06173785e-05 7.84257427e-04]]\n"
          ]
        },
        {
          "name": "stderr",
          "output_type": "stream",
          "text": [
            "\n",
            "\n",
            "tqdm() Progress Bar Segments: 944it [08:17,  1.89it/s]\u001b[A\u001b[A"
          ]
        },
        {
          "name": "stdout",
          "output_type": "stream",
          "text": [
            "[[2.8693916e-03 2.8374459e-04 8.0170849e-04 1.2910334e-02 7.2797912e-01\n",
            "  2.7220914e-02 3.4625202e-02 1.1468216e-04 5.9959158e-02 5.7550025e-04\n",
            "  1.3266034e-01]]\n"
          ]
        },
        {
          "name": "stderr",
          "output_type": "stream",
          "text": [
            "\n",
            "\n",
            "tqdm() Progress Bar Segments: 945it [08:18,  1.87it/s]\u001b[A\u001b[A"
          ]
        },
        {
          "name": "stdout",
          "output_type": "stream",
          "text": [
            "[[0.02821522 0.5164258  0.00960216 0.00054703 0.19551049 0.18874039\n",
            "  0.00540351 0.02280894 0.00339995 0.00301502 0.02633152]]\n"
          ]
        },
        {
          "name": "stderr",
          "output_type": "stream",
          "text": [
            "\n",
            "\n",
            "tqdm() Progress Bar Segments: 946it [08:18,  1.87it/s]\u001b[A\u001b[A"
          ]
        },
        {
          "name": "stdout",
          "output_type": "stream",
          "text": [
            "[[3.7339972e-03 8.0133259e-04 2.8299808e-04 2.7063731e-03 9.0462632e-02\n",
            "  8.7262737e-03 2.4909671e-02 1.2907167e-03 4.5320502e-01 9.5144351e-04\n",
            "  4.1292953e-01]]\n"
          ]
        },
        {
          "name": "stderr",
          "output_type": "stream",
          "text": [
            "\n",
            "\n",
            "tqdm() Progress Bar Segments: 947it [08:19,  1.87it/s]\u001b[A\u001b[A"
          ]
        },
        {
          "name": "stdout",
          "output_type": "stream",
          "text": [
            "[[2.0538641e-03 4.5014795e-02 1.6955283e-03 1.3630564e-02 6.6967225e-01\n",
            "  6.4508831e-03 9.2047267e-02 9.1692962e-02 4.6743412e-02 4.4125400e-04\n",
            "  3.0557252e-02]]\n"
          ]
        },
        {
          "name": "stderr",
          "output_type": "stream",
          "text": [
            "\n",
            "\n",
            "tqdm() Progress Bar Segments: 948it [08:19,  1.86it/s]\u001b[A\u001b[A"
          ]
        },
        {
          "name": "stdout",
          "output_type": "stream",
          "text": [
            "[[2.4836848e-04 2.4779391e-05 1.2602490e-05 1.9240708e-05 2.1234145e-03\n",
            "  5.5251317e-04 4.6245172e-04 1.2432632e-05 5.4020034e-03 4.2281627e-06\n",
            "  9.9113792e-01]]\n"
          ]
        },
        {
          "name": "stderr",
          "output_type": "stream",
          "text": [
            "\n",
            "\n",
            "tqdm() Progress Bar Segments: 949it [08:20,  1.88it/s]\u001b[A\u001b[A"
          ]
        },
        {
          "name": "stdout",
          "output_type": "stream",
          "text": [
            "[[3.3510444e-04 3.3322743e-01 1.2719051e-03 5.2906969e-05 6.5604484e-01\n",
            "  4.3874260e-04 1.9192836e-05 7.9197828e-03 1.0721899e-05 2.4535981e-05\n",
            "  6.5487518e-04]]\n"
          ]
        },
        {
          "name": "stderr",
          "output_type": "stream",
          "text": [
            "\n",
            "\n",
            "tqdm() Progress Bar Segments: 950it [08:21,  1.83it/s]\u001b[A\u001b[A"
          ]
        },
        {
          "name": "stdout",
          "output_type": "stream",
          "text": [
            "[[2.9612039e-04 4.4983091e-05 3.1522439e-05 8.0442345e-03 4.6570581e-01\n",
            "  4.7326318e-04 3.0464933e-03 2.3260774e-05 2.8414837e-01 8.6008869e-05\n",
            "  2.3809993e-01]]\n"
          ]
        },
        {
          "name": "stderr",
          "output_type": "stream",
          "text": [
            "\n",
            "\n",
            "tqdm() Progress Bar Segments: 951it [08:21,  1.85it/s]\u001b[A\u001b[A"
          ]
        },
        {
          "name": "stdout",
          "output_type": "stream",
          "text": [
            "[[1.3769439e-02 5.4563289e-03 1.2083980e-04 1.0680145e-03 2.0331474e-02\n",
            "  3.0829500e-02 7.5527439e-03 8.2902664e-01 1.6224920e-03 8.1410825e-02\n",
            "  8.8117346e-03]]\n"
          ]
        },
        {
          "name": "stderr",
          "output_type": "stream",
          "text": [
            "\n",
            "\n",
            "tqdm() Progress Bar Segments: 952it [08:22,  1.87it/s]\u001b[A\u001b[A"
          ]
        },
        {
          "name": "stdout",
          "output_type": "stream",
          "text": [
            "[[0.01263135 0.01883829 0.00533036 0.01283336 0.5463092  0.10072134\n",
            "  0.03443221 0.04091046 0.08498558 0.0070994  0.13590847]]\n"
          ]
        },
        {
          "name": "stderr",
          "output_type": "stream",
          "text": [
            "\n",
            "\n",
            "tqdm() Progress Bar Segments: 953it [08:22,  1.81it/s]\u001b[A\u001b[A"
          ]
        },
        {
          "name": "stdout",
          "output_type": "stream",
          "text": [
            "[[2.2017916e-03 1.0351274e-03 2.2083842e-04 2.2161230e-03 1.6030607e-01\n",
            "  6.2407954e-03 6.8197623e-03 1.3094699e-03 5.8910108e-01 1.7947918e-03\n",
            "  2.2875413e-01]]\n"
          ]
        },
        {
          "name": "stderr",
          "output_type": "stream",
          "text": [
            "\n",
            "\n",
            "tqdm() Progress Bar Segments: 954it [08:23,  1.83it/s]\u001b[A\u001b[A"
          ]
        },
        {
          "name": "stdout",
          "output_type": "stream",
          "text": [
            "[[0.00296527 0.01108341 0.00054073 0.00255059 0.34169334 0.21296316\n",
            "  0.05239668 0.02154125 0.18651322 0.00589849 0.1618538 ]]\n"
          ]
        },
        {
          "name": "stderr",
          "output_type": "stream",
          "text": [
            "\n",
            "\n",
            "tqdm() Progress Bar Segments: 955it [08:23,  1.86it/s]\u001b[A\u001b[A"
          ]
        },
        {
          "name": "stdout",
          "output_type": "stream",
          "text": [
            "[[0.00749683 0.08230475 0.00048434 0.3842025  0.05045253 0.00344109\n",
            "  0.00723172 0.1590828  0.27307156 0.00337733 0.02885449]]\n"
          ]
        },
        {
          "name": "stderr",
          "output_type": "stream",
          "text": [
            "\n",
            "\n",
            "tqdm() Progress Bar Segments: 956it [08:24,  1.88it/s]\u001b[A\u001b[A"
          ]
        },
        {
          "name": "stdout",
          "output_type": "stream",
          "text": [
            "[[2.2261529e-03 4.1327698e-04 6.6989067e-04 1.0070194e-03 3.7942645e-01\n",
            "  3.2020139e-03 5.1692743e-02 2.1345566e-04 7.3292933e-02 2.1681927e-04\n",
            "  4.8763922e-01]]\n"
          ]
        },
        {
          "name": "stderr",
          "output_type": "stream",
          "text": [
            "\n",
            "\n",
            "tqdm() Progress Bar Segments: 957it [08:24,  1.88it/s]\u001b[A\u001b[A"
          ]
        },
        {
          "name": "stdout",
          "output_type": "stream",
          "text": [
            "[[4.7370438e-03 8.8509335e-04 3.2283782e-04 5.6811953e-03 3.0643025e-01\n",
            "  2.7093763e-02 1.9210422e-02 3.3006218e-04 2.1361251e-01 4.8886630e-04\n",
            "  4.2120793e-01]]\n"
          ]
        },
        {
          "name": "stderr",
          "output_type": "stream",
          "text": [
            "\n",
            "\n",
            "tqdm() Progress Bar Segments: 958it [08:25,  1.86it/s]\u001b[A\u001b[A"
          ]
        },
        {
          "name": "stdout",
          "output_type": "stream",
          "text": [
            "[[4.7068371e-04 5.5357868e-05 8.8540030e-05 1.8485023e-03 6.1414468e-01\n",
            "  1.0968790e-03 1.0513471e-02 1.8082166e-05 2.5090221e-01 1.0859889e-04\n",
            "  1.2075303e-01]]\n"
          ]
        },
        {
          "name": "stderr",
          "output_type": "stream",
          "text": [
            "\n",
            "\n",
            "tqdm() Progress Bar Segments: 959it [08:25,  1.87it/s]\u001b[A\u001b[A"
          ]
        },
        {
          "name": "stdout",
          "output_type": "stream",
          "text": [
            "[[4.3885908e-04 2.5741143e-05 1.8006291e-05 1.0977480e-02 2.4208680e-01\n",
            "  4.1110898e-04 1.4880118e-03 5.3519934e-06 6.0572720e-01 3.1072763e-05\n",
            "  1.3879038e-01]]\n"
          ]
        },
        {
          "name": "stderr",
          "output_type": "stream",
          "text": [
            "\n",
            "\n",
            "tqdm() Progress Bar Segments: 960it [08:26,  1.88it/s]\u001b[A\u001b[A"
          ]
        },
        {
          "name": "stdout",
          "output_type": "stream",
          "text": [
            "[[5.6625456e-02 4.7323271e-03 5.1274830e-05 4.4213026e-04 2.7871714e-03\n",
            "  8.6733115e-01 2.8041225e-02 1.8064596e-02 3.6020824e-04 2.1339823e-02\n",
            "  2.2465509e-04]]\n"
          ]
        },
        {
          "name": "stderr",
          "output_type": "stream",
          "text": [
            "\n",
            "\n",
            "tqdm() Progress Bar Segments: 961it [08:26,  1.89it/s]\u001b[A\u001b[A"
          ]
        },
        {
          "name": "stdout",
          "output_type": "stream",
          "text": [
            "[[5.5771822e-04 2.2848965e-04 5.0763003e-05 1.0172920e-04 3.1229485e-02\n",
            "  2.0401401e-03 2.3883143e-03 2.2249005e-04 5.3940881e-02 4.5860292e-05\n",
            "  9.0919417e-01]]\n"
          ]
        },
        {
          "name": "stderr",
          "output_type": "stream",
          "text": [
            "\n",
            "\n",
            "tqdm() Progress Bar Segments: 962it [08:27,  1.90it/s]\u001b[A\u001b[A"
          ]
        },
        {
          "name": "stdout",
          "output_type": "stream",
          "text": [
            "[[6.2786991e-04 2.4517515e-04 1.5497986e-04 1.4291664e-02 4.6193951e-01\n",
            "  7.3629394e-03 6.9849037e-02 1.5968282e-04 4.0950128e-01 1.6512828e-03\n",
            "  3.4216564e-02]]\n"
          ]
        },
        {
          "name": "stderr",
          "output_type": "stream",
          "text": [
            "\n",
            "\n",
            "tqdm() Progress Bar Segments: 963it [08:27,  1.91it/s]\u001b[A\u001b[A"
          ]
        },
        {
          "name": "stdout",
          "output_type": "stream",
          "text": [
            "[[2.2617125e-04 7.0350477e-05 2.0443676e-05 2.8129744e-03 2.6743001e-01\n",
            "  1.2957092e-03 2.4856735e-02 8.9382571e-05 6.9708353e-01 8.7864208e-04\n",
            "  5.2360925e-03]]\n"
          ]
        },
        {
          "name": "stderr",
          "output_type": "stream",
          "text": [
            "\n",
            "\n",
            "tqdm() Progress Bar Segments: 964it [08:28,  1.91it/s]\u001b[A\u001b[A"
          ]
        },
        {
          "name": "stdout",
          "output_type": "stream",
          "text": [
            "[[2.3248088e-02 1.2949329e-03 1.6439666e-05 5.5246358e-04 4.7055450e-03\n",
            "  1.5400490e-01 3.4557752e-02 7.7389753e-01 9.5356605e-04 4.6253041e-03\n",
            "  2.1434959e-03]]\n"
          ]
        },
        {
          "name": "stderr",
          "output_type": "stream",
          "text": [
            "\n",
            "\n",
            "tqdm() Progress Bar Segments: 965it [08:28,  1.92it/s]\u001b[A\u001b[A"
          ]
        },
        {
          "name": "stdout",
          "output_type": "stream",
          "text": [
            "[[0.24935018 0.03124139 0.00098026 0.00124036 0.02923711 0.02250557\n",
            "  0.00157318 0.14703992 0.01851702 0.0010184  0.4972966 ]]\n"
          ]
        },
        {
          "name": "stderr",
          "output_type": "stream",
          "text": [
            "\n",
            "\n",
            "tqdm() Progress Bar Segments: 966it [08:29,  1.91it/s]\u001b[A\u001b[A"
          ]
        },
        {
          "name": "stdout",
          "output_type": "stream",
          "text": [
            "[[1.8050410e-02 2.6497848e-03 7.6539203e-04 2.1539228e-04 9.7762513e-01\n",
            "  1.9430921e-04 8.2197312e-06 3.6099725e-04 1.4643894e-05 5.9414401e-06\n",
            "  1.0984995e-04]]\n"
          ]
        },
        {
          "name": "stderr",
          "output_type": "stream",
          "text": [
            "\n",
            "\n",
            "tqdm() Progress Bar Segments: 967it [08:30,  1.91it/s]\u001b[A\u001b[A"
          ]
        },
        {
          "name": "stdout",
          "output_type": "stream",
          "text": [
            "[[0.08028022 0.20640726 0.01784801 0.00121823 0.16694748 0.24233903\n",
            "  0.01110807 0.02241549 0.02219645 0.00201428 0.22722551]]\n"
          ]
        },
        {
          "name": "stderr",
          "output_type": "stream",
          "text": [
            "\n",
            "\n",
            "tqdm() Progress Bar Segments: 968it [08:30,  1.91it/s]\u001b[A\u001b[A"
          ]
        },
        {
          "name": "stdout",
          "output_type": "stream",
          "text": [
            "[[7.8194368e-01 1.1110136e-03 6.4032291e-05 2.2207010e-04 1.2732411e-02\n",
            "  1.3628329e-01 8.8543231e-03 4.7089547e-02 3.4219652e-04 9.6172225e-03\n",
            "  1.7403018e-03]]\n"
          ]
        },
        {
          "name": "stderr",
          "output_type": "stream",
          "text": [
            "\n",
            "\n",
            "tqdm() Progress Bar Segments: 969it [08:31,  1.91it/s]\u001b[A\u001b[A"
          ]
        },
        {
          "name": "stdout",
          "output_type": "stream",
          "text": [
            "[[1.8397145e-03 1.3238537e-03 2.5674395e-05 2.4542923e-03 1.9930994e-02\n",
            "  5.7686161e-04 2.0249555e-04 8.4303296e-01 8.4921174e-02 1.5341968e-03\n",
            "  4.4157855e-02]]\n"
          ]
        },
        {
          "name": "stderr",
          "output_type": "stream",
          "text": [
            "\n",
            "\n",
            "tqdm() Progress Bar Segments: 970it [08:31,  1.92it/s]\u001b[A\u001b[A"
          ]
        },
        {
          "name": "stdout",
          "output_type": "stream",
          "text": [
            "[[8.3646089e-05 8.2656648e-03 3.9495058e-02 4.9672508e-07 9.5185006e-01\n",
            "  1.7607496e-04 9.8942528e-06 2.3747825e-05 3.0120732e-06 1.1015873e-06\n",
            "  9.1330723e-05]]\n"
          ]
        },
        {
          "name": "stderr",
          "output_type": "stream",
          "text": [
            "\n",
            "\n",
            "tqdm() Progress Bar Segments: 971it [08:32,  1.93it/s]\u001b[A\u001b[A"
          ]
        },
        {
          "name": "stdout",
          "output_type": "stream",
          "text": [
            "[[8.9346548e-04 4.3453492e-04 4.1457147e-06 6.7347537e-05 3.4285751e-03\n",
            "  1.6812625e-03 2.7831989e-05 9.8327947e-01 1.1498914e-03 1.4103751e-04\n",
            "  8.8924449e-03]]\n"
          ]
        },
        {
          "name": "stderr",
          "output_type": "stream",
          "text": [
            "\n",
            "\n",
            "tqdm() Progress Bar Segments: 972it [08:32,  1.86it/s]\u001b[A\u001b[A"
          ]
        },
        {
          "name": "stdout",
          "output_type": "stream",
          "text": [
            "[[6.9476739e-02 6.4653553e-02 5.6595186e-04 1.6118838e-04 2.5244838e-01\n",
            "  1.3844812e-02 8.4798952e-04 7.4096389e-02 1.0922853e-03 1.8492220e-04\n",
            "  5.2262783e-01]]\n"
          ]
        },
        {
          "name": "stderr",
          "output_type": "stream",
          "text": [
            "\n",
            "\n",
            "tqdm() Progress Bar Segments: 973it [08:33,  1.87it/s]\u001b[A\u001b[A"
          ]
        },
        {
          "name": "stdout",
          "output_type": "stream",
          "text": [
            "[[0.0825111  0.04846017 0.00174382 0.00064588 0.21856485 0.0458202\n",
            "  0.00208175 0.36753738 0.00263792 0.0032307  0.22676617]]\n"
          ]
        },
        {
          "name": "stderr",
          "output_type": "stream",
          "text": [
            "\n",
            "\n",
            "tqdm() Progress Bar Segments: 974it [08:33,  1.89it/s]\u001b[A\u001b[A"
          ]
        },
        {
          "name": "stdout",
          "output_type": "stream",
          "text": [
            "[[1.7207439e-01 3.9170017e-03 5.3820415e-05 4.5333375e-04 3.4012129e-03\n",
            "  3.7151909e-01 6.3207746e-02 3.7983716e-01 9.7664178e-04 3.2630381e-03\n",
            "  1.2965440e-03]]\n"
          ]
        },
        {
          "name": "stderr",
          "output_type": "stream",
          "text": [
            "\n",
            "\n",
            "tqdm() Progress Bar Segments: 975it [08:34,  1.82it/s]\u001b[A\u001b[A"
          ]
        },
        {
          "name": "stdout",
          "output_type": "stream",
          "text": [
            "[[2.7742472e-01 1.9351558e-03 7.1471179e-05 7.7624118e-04 6.3169621e-02\n",
            "  1.1816139e-02 5.1192287e-04 6.1454040e-01 2.1237948e-03 3.1383848e-03\n",
            "  2.4492150e-02]]\n"
          ]
        },
        {
          "name": "stderr",
          "output_type": "stream",
          "text": [
            "\n",
            "\n",
            "tqdm() Progress Bar Segments: 976it [08:34,  1.85it/s]\u001b[A\u001b[A"
          ]
        },
        {
          "name": "stdout",
          "output_type": "stream",
          "text": [
            "[[6.5531683e-01 3.9021638e-03 2.8810246e-04 7.6628069e-04 8.7000821e-03\n",
            "  2.9262179e-01 2.4205102e-03 8.2675051e-03 2.5871224e-03 8.6569861e-03\n",
            "  1.6472548e-02]]\n"
          ]
        },
        {
          "name": "stderr",
          "output_type": "stream",
          "text": [
            "\n",
            "\n",
            "tqdm() Progress Bar Segments: 977it [08:35,  1.71it/s]\u001b[A\u001b[A"
          ]
        },
        {
          "name": "stdout",
          "output_type": "stream",
          "text": [
            "[[8.3768209e-03 1.8545695e-03 1.3797692e-05 8.6946960e-04 1.2128984e-03\n",
            "  2.9712310e-02 2.0772936e-03 9.2764658e-01 2.8395024e-04 2.7813960e-02\n",
            "  1.3826849e-04]]\n"
          ]
        },
        {
          "name": "stderr",
          "output_type": "stream",
          "text": [
            "\n",
            "\n",
            "tqdm() Progress Bar Segments: 978it [08:36,  1.48it/s]\u001b[A\u001b[A"
          ]
        },
        {
          "name": "stdout",
          "output_type": "stream",
          "text": [
            "[[9.4620678e-05 2.4114388e-05 3.0354709e-06 6.1447604e-04 7.0922039e-02\n",
            "  4.3720935e-04 1.3444900e-03 1.8227109e-05 8.8980526e-01 4.2887157e-05\n",
            "  3.6693651e-02]]\n"
          ]
        },
        {
          "name": "stderr",
          "output_type": "stream",
          "text": [
            "\n",
            "\n",
            "tqdm() Progress Bar Segments: 979it [08:37,  1.46it/s]\u001b[A\u001b[A"
          ]
        },
        {
          "name": "stdout",
          "output_type": "stream",
          "text": [
            "[[9.8771334e-04 1.2344395e-01 1.3150108e-03 1.1205422e-03 2.3641162e-01\n",
            "  7.6595317e-03 5.6574662e-04 5.9731054e-01 1.8471146e-03 4.0326919e-04\n",
            "  2.8934874e-02]]\n"
          ]
        },
        {
          "name": "stderr",
          "output_type": "stream",
          "text": [
            "\n",
            "\n",
            "tqdm() Progress Bar Segments: 980it [08:37,  1.55it/s]\u001b[A\u001b[A"
          ]
        },
        {
          "name": "stdout",
          "output_type": "stream",
          "text": [
            "[[2.4666250e-04 3.5602672e-05 2.8378508e-05 3.4214878e-03 2.6671261e-01\n",
            "  4.2532483e-04 1.2136540e-02 4.2075648e-05 7.0931500e-01 3.5968807e-04\n",
            "  7.2765993e-03]]\n"
          ]
        },
        {
          "name": "stderr",
          "output_type": "stream",
          "text": [
            "\n",
            "\n",
            "tqdm() Progress Bar Segments: 981it [08:38,  1.65it/s]\u001b[A\u001b[A"
          ]
        },
        {
          "name": "stdout",
          "output_type": "stream",
          "text": [
            "[[1.1389758e-02 9.3909971e-02 1.1002266e-02 2.6549555e-05 4.9965155e-01\n",
            "  2.2868417e-02 2.7239686e-04 1.6305950e-03 6.5249274e-04 3.2685079e-05\n",
            "  3.5856333e-01]]\n"
          ]
        },
        {
          "name": "stderr",
          "output_type": "stream",
          "text": [
            "\n",
            "\n",
            "tqdm() Progress Bar Segments: 982it [08:38,  1.72it/s]\u001b[A\u001b[A"
          ]
        },
        {
          "name": "stdout",
          "output_type": "stream",
          "text": [
            "[[1.8922064e-02 3.7598722e-03 3.6099525e-05 3.6189787e-03 2.2749149e-03\n",
            "  2.9623482e-01 2.7909869e-01 3.5953096e-01 1.4680582e-03 3.4889441e-02\n",
            "  1.6609208e-04]]\n"
          ]
        },
        {
          "name": "stderr",
          "output_type": "stream",
          "text": [
            "\n",
            "\n",
            "tqdm() Progress Bar Segments: 983it [08:39,  1.78it/s]\u001b[A\u001b[A"
          ]
        },
        {
          "name": "stdout",
          "output_type": "stream",
          "text": [
            "[[9.2687747e-05 1.4164871e-05 7.9613365e-06 7.5987680e-03 9.9045068e-02\n",
            "  4.6072711e-04 5.0867155e-02 2.5991860e-05 8.3772039e-01 2.8379632e-03\n",
            "  1.3290489e-03]]\n"
          ]
        },
        {
          "name": "stderr",
          "output_type": "stream",
          "text": [
            "\n",
            "\n",
            "tqdm() Progress Bar Segments: 984it [08:39,  1.82it/s]\u001b[A\u001b[A"
          ]
        },
        {
          "name": "stdout",
          "output_type": "stream",
          "text": [
            "[[7.61326461e-04 1.35409267e-04 1.18332115e-04 7.52198466e-05\n",
            "  3.52584645e-02 2.90615205e-03 1.07387593e-02 4.44863690e-05\n",
            "  8.48997943e-03 1.51120976e-05 9.41456795e-01]]\n"
          ]
        },
        {
          "name": "stderr",
          "output_type": "stream",
          "text": [
            "\n",
            "\n",
            "tqdm() Progress Bar Segments: 985it [08:40,  1.85it/s]\u001b[A\u001b[A"
          ]
        },
        {
          "name": "stdout",
          "output_type": "stream",
          "text": [
            "[[1.6426640e-06 3.8481824e-07 4.5499738e-07 1.3753256e-03 9.7158551e-01\n",
            "  3.8098390e-06 1.1656190e-03 7.7955725e-08 2.2981048e-02 9.8594774e-07\n",
            "  2.8852331e-03]]\n"
          ]
        },
        {
          "name": "stderr",
          "output_type": "stream",
          "text": [
            "\n",
            "\n",
            "tqdm() Progress Bar Segments: 986it [08:40,  1.89it/s]\u001b[A\u001b[A"
          ]
        },
        {
          "name": "stdout",
          "output_type": "stream",
          "text": [
            "[[2.4272862e-01 1.8105375e-04 4.3515975e-05 7.6329336e-04 1.1204535e-02\n",
            "  1.3322228e-02 1.1832231e-03 7.1924937e-01 1.2718347e-03 8.5743668e-04\n",
            "  9.1948742e-03]]\n"
          ]
        },
        {
          "name": "stderr",
          "output_type": "stream",
          "text": [
            "\n",
            "\n",
            "tqdm() Progress Bar Segments: 987it [08:41,  1.89it/s]\u001b[A\u001b[A"
          ]
        },
        {
          "name": "stdout",
          "output_type": "stream",
          "text": [
            "[[3.16801365e-03 5.01495488e-02 1.08645087e-04 1.19598524e-04\n",
            "  7.75601864e-01 9.42088477e-03 3.41946987e-04 1.51573330e-01\n",
            "  1.50407168e-05 9.38063953e-03 1.20544704e-04]]\n"
          ]
        },
        {
          "name": "stderr",
          "output_type": "stream",
          "text": [
            "\n",
            "\n",
            "tqdm() Progress Bar Segments: 988it [08:41,  1.90it/s]\u001b[A\u001b[A"
          ]
        },
        {
          "name": "stdout",
          "output_type": "stream",
          "text": [
            "[[2.7540326e-03 1.1907209e-03 3.9239158e-04 8.4744173e-04 4.4973914e-02\n",
            "  1.0160378e-02 5.6613185e-03 1.2100386e-03 4.7432862e-02 2.4853667e-04\n",
            "  8.8512832e-01]]\n"
          ]
        },
        {
          "name": "stderr",
          "output_type": "stream",
          "text": [
            "\n",
            "\n",
            "tqdm() Progress Bar Segments: 989it [08:42,  1.91it/s]\u001b[A\u001b[A"
          ]
        },
        {
          "name": "stdout",
          "output_type": "stream",
          "text": [
            "[[2.2766327e-03 1.2714270e-02 2.3869272e-04 8.1637585e-01 1.5171991e-02\n",
            "  1.6326232e-02 5.4038195e-03 8.7604411e-02 3.3933379e-02 6.5076854e-03\n",
            "  3.4471138e-03]]\n"
          ]
        },
        {
          "name": "stderr",
          "output_type": "stream",
          "text": [
            "\n",
            "\n",
            "tqdm() Progress Bar Segments: 990it [08:42,  1.85it/s]\u001b[A\u001b[A"
          ]
        },
        {
          "name": "stdout",
          "output_type": "stream",
          "text": [
            "[[1.7314378e-02 2.9786301e-01 1.6923219e-02 1.0636033e-04 4.6445987e-01\n",
            "  2.8063409e-02 3.2318462e-04 9.7343177e-03 1.0722771e-03 1.3894205e-04\n",
            "  1.6400106e-01]]\n"
          ]
        },
        {
          "name": "stderr",
          "output_type": "stream",
          "text": [
            "\n",
            "\n",
            "tqdm() Progress Bar Segments: 991it [08:43,  1.88it/s]\u001b[A\u001b[A"
          ]
        },
        {
          "name": "stdout",
          "output_type": "stream",
          "text": [
            "[[0.01665728 0.01007057 0.00070222 0.0032293  0.09437072 0.00487237\n",
            "  0.01049534 0.10819507 0.25371322 0.00054444 0.49714935]]\n"
          ]
        },
        {
          "name": "stderr",
          "output_type": "stream",
          "text": [
            "\n",
            "\n",
            "tqdm() Progress Bar Segments: 992it [08:43,  1.91it/s]\u001b[A\u001b[A"
          ]
        },
        {
          "name": "stdout",
          "output_type": "stream",
          "text": [
            "[[9.0714032e-03 4.3821782e-03 1.9082263e-04 1.8609689e-03 1.2696108e-01\n",
            "  1.2167887e-01 3.3539165e-02 3.6154561e-02 5.4399490e-01 6.6722813e-03\n",
            "  1.1549378e-01]]\n"
          ]
        },
        {
          "name": "stderr",
          "output_type": "stream",
          "text": [
            "\n",
            "\n",
            "tqdm() Progress Bar Segments: 993it [08:44,  1.91it/s]\u001b[A\u001b[A"
          ]
        },
        {
          "name": "stdout",
          "output_type": "stream",
          "text": [
            "[[7.6805602e-04 3.3659232e-04 7.4419040e-06 2.8856538e-04 8.3986571e-04\n",
            "  1.2368115e-01 3.5163534e-01 5.3333668e-03 9.6563000e-04 5.1608312e-01\n",
            "  6.0771355e-05]]\n"
          ]
        },
        {
          "name": "stderr",
          "output_type": "stream",
          "text": [
            "\n",
            "\n",
            "tqdm() Progress Bar Segments: 994it [08:44,  1.92it/s]\u001b[A\u001b[A"
          ]
        },
        {
          "name": "stdout",
          "output_type": "stream",
          "text": [
            "[[1.4419750e-03 2.0208256e-04 5.1286945e-04 1.5787423e-03 4.0616086e-01\n",
            "  7.8559620e-03 2.7233882e-02 1.1901696e-04 6.2190495e-02 1.4587825e-04\n",
            "  4.9255827e-01]]\n"
          ]
        },
        {
          "name": "stderr",
          "output_type": "stream",
          "text": [
            "\n",
            "\n",
            "tqdm() Progress Bar Segments: 995it [08:45,  1.93it/s]\u001b[A\u001b[A"
          ]
        },
        {
          "name": "stdout",
          "output_type": "stream",
          "text": [
            "[[3.1650734e-01 8.9870049e-03 1.0322683e-04 1.1810997e-04 6.4950520e-03\n",
            "  6.1852372e-01 7.9680039e-03 3.0194199e-02 1.0459594e-03 8.4278401e-04\n",
            "  9.2144953e-03]]\n"
          ]
        },
        {
          "name": "stderr",
          "output_type": "stream",
          "text": [
            "\n",
            "\n",
            "tqdm() Progress Bar Segments: 996it [08:46,  1.93it/s]\u001b[A\u001b[A"
          ]
        },
        {
          "name": "stdout",
          "output_type": "stream",
          "text": [
            "[[2.2856439e-03 4.3826397e-03 5.3842878e-06 4.5067856e-05 2.5109893e-03\n",
            "  5.9845966e-01 3.1638818e-03 3.8828608e-01 2.3353485e-05 7.8094535e-04\n",
            "  5.6361903e-05]]\n"
          ]
        },
        {
          "name": "stderr",
          "output_type": "stream",
          "text": [
            "\n",
            "\n",
            "tqdm() Progress Bar Segments: 997it [08:46,  1.93it/s]\u001b[A\u001b[A"
          ]
        },
        {
          "name": "stdout",
          "output_type": "stream",
          "text": [
            "[[2.5384235e-01 1.2088016e-03 5.1171162e-05 1.0305500e-04 4.6877679e-03\n",
            "  6.9863498e-01 1.1361994e-02 6.8279020e-03 4.8396629e-04 2.1566993e-02\n",
            "  1.2310500e-03]]\n"
          ]
        },
        {
          "name": "stderr",
          "output_type": "stream",
          "text": [
            "\n",
            "\n",
            "tqdm() Progress Bar Segments: 998it [08:47,  1.92it/s]\u001b[A\u001b[A"
          ]
        },
        {
          "name": "stdout",
          "output_type": "stream",
          "text": [
            "[[1.37204142e-05 1.80751187e-04 2.27184245e-07 9.18362275e-05\n",
            "  8.43899543e-05 2.73322166e-05 4.12648069e-06 9.99393582e-01\n",
            "  7.97948596e-05 3.18246612e-06 1.21033336e-04]]\n"
          ]
        },
        {
          "name": "stderr",
          "output_type": "stream",
          "text": [
            "\n",
            "\n",
            "tqdm() Progress Bar Segments: 999it [08:47,  1.91it/s]\u001b[A\u001b[A"
          ]
        },
        {
          "name": "stdout",
          "output_type": "stream",
          "text": [
            "[[1.18927484e-04 2.33489463e-05 3.17468988e-07 4.36090922e-04\n",
            "  1.06556760e-03 3.56337172e-04 3.11647345e-05 9.81200993e-01\n",
            "  1.39754331e-02 2.01570569e-03 7.76141998e-04]]\n"
          ]
        },
        {
          "name": "stderr",
          "output_type": "stream",
          "text": [
            "\n",
            "\n",
            "tqdm() Progress Bar Segments: 1000it [08:48,  1.92it/s]\u001b[A\u001b[A"
          ]
        },
        {
          "name": "stdout",
          "output_type": "stream",
          "text": [
            "[[2.0795655e-01 2.2728758e-02 2.7040121e-04 1.5803629e-03 1.0680444e-02\n",
            "  4.6026748e-01 1.1828389e-01 1.5318605e-01 5.4814979e-03 2.6738555e-03\n",
            "  1.6890608e-02]]\n"
          ]
        },
        {
          "name": "stderr",
          "output_type": "stream",
          "text": [
            "\n",
            "\n",
            "tqdm() Progress Bar Segments: 1001it [08:48,  1.92it/s]\u001b[A\u001b[A"
          ]
        },
        {
          "name": "stdout",
          "output_type": "stream",
          "text": [
            "[[0.00565414 0.0050959  0.00086189 0.00732987 0.46978876 0.07531188\n",
            "  0.01339454 0.04802106 0.12188739 0.00383708 0.24881747]]\n"
          ]
        },
        {
          "name": "stderr",
          "output_type": "stream",
          "text": [
            "\n",
            "\n",
            "tqdm() Progress Bar Segments: 1002it [08:49,  1.91it/s]\u001b[A\u001b[A"
          ]
        },
        {
          "name": "stdout",
          "output_type": "stream",
          "text": [
            "[[1.6571707e-03 3.0648935e-04 3.0995489e-04 4.9365791e-03 1.6588351e-01\n",
            "  4.9245511e-03 1.4696282e-02 1.1068902e-04 1.1960815e-01 2.6509826e-04\n",
            "  6.8730152e-01]]\n"
          ]
        },
        {
          "name": "stderr",
          "output_type": "stream",
          "text": [
            "\n",
            "\n",
            "tqdm() Progress Bar Segments: 1003it [08:49,  1.91it/s]\u001b[A\u001b[A"
          ]
        },
        {
          "name": "stdout",
          "output_type": "stream",
          "text": [
            "[[5.8507260e-02 3.7487629e-03 4.6152163e-05 1.2528014e-04 2.6277471e-03\n",
            "  8.0288720e-01 3.2237016e-02 9.7691700e-02 1.4373320e-04 1.6277749e-03\n",
            "  3.5736436e-04]]\n"
          ]
        },
        {
          "name": "stderr",
          "output_type": "stream",
          "text": [
            "\n",
            "\n",
            "tqdm() Progress Bar Segments: 1004it [08:50,  1.87it/s]\u001b[A\u001b[A"
          ]
        },
        {
          "name": "stdout",
          "output_type": "stream",
          "text": [
            "[[6.1383639e-03 9.9707523e-04 9.9387462e-04 2.5189269e-02 2.7299583e-01\n",
            "  2.2749396e-02 1.6469376e-02 3.4476558e-04 2.5686279e-01 9.7065937e-04\n",
            "  3.9628857e-01]]\n"
          ]
        },
        {
          "name": "stderr",
          "output_type": "stream",
          "text": [
            "\n",
            "\n",
            "tqdm() Progress Bar Segments: 1005it [08:50,  1.88it/s]\u001b[A\u001b[A"
          ]
        },
        {
          "name": "stdout",
          "output_type": "stream",
          "text": [
            "[[8.62361223e-04 6.37754929e-05 1.19937904e-04 1.91262545e-04\n",
            "  2.37103105e-02 3.47082783e-03 3.58112669e-03 1.12445759e-05\n",
            "  1.47101581e-02 1.71053925e-05 9.53261971e-01]]\n"
          ]
        },
        {
          "name": "stderr",
          "output_type": "stream",
          "text": [
            "\n",
            "\n",
            "tqdm() Progress Bar Segments: 1006it [08:51,  1.87it/s]\u001b[A\u001b[A"
          ]
        },
        {
          "name": "stdout",
          "output_type": "stream",
          "text": [
            "[[5.9743825e-04 1.4086768e-04 2.5984383e-04 6.3574505e-03 8.9307624e-01\n",
            "  2.1235666e-03 8.0671096e-03 6.2418570e-05 3.8006485e-02 1.1669779e-04\n",
            "  5.1191818e-02]]\n"
          ]
        },
        {
          "name": "stderr",
          "output_type": "stream",
          "text": [
            "\n",
            "\n",
            "tqdm() Progress Bar Segments: 1007it [08:51,  1.89it/s]\u001b[A\u001b[A"
          ]
        },
        {
          "name": "stdout",
          "output_type": "stream",
          "text": [
            "[[4.9479699e-05 2.2108125e-05 1.9408932e-05 1.8695317e-03 9.3588179e-01\n",
            "  1.8786995e-04 9.2137754e-03 4.5188249e-06 4.9688783e-02 3.0278165e-05\n",
            "  3.0324159e-03]]\n"
          ]
        },
        {
          "name": "stderr",
          "output_type": "stream",
          "text": [
            "\n",
            "\n",
            "tqdm() Progress Bar Segments: 1008it [08:52,  1.82it/s]\u001b[A\u001b[A"
          ]
        },
        {
          "name": "stdout",
          "output_type": "stream",
          "text": [
            "[[0.16166557 0.02809383 0.0006331  0.00067542 0.02478633 0.11357236\n",
            "  0.00587315 0.55852646 0.00221557 0.00297886 0.10097928]]\n"
          ]
        },
        {
          "name": "stderr",
          "output_type": "stream",
          "text": [
            "\n",
            "\n",
            "tqdm() Progress Bar Segments: 1009it [08:53,  1.78it/s]\u001b[A\u001b[A"
          ]
        },
        {
          "name": "stdout",
          "output_type": "stream",
          "text": [
            "[[1.0390347e-02 6.2301573e-03 1.2918243e-04 4.1900636e-03 9.0436051e-03\n",
            "  7.8988811e-03 1.7881663e-04 1.9889520e-02 6.9068819e-02 3.6850502e-04\n",
            "  8.7261212e-01]]\n"
          ]
        },
        {
          "name": "stderr",
          "output_type": "stream",
          "text": [
            "\n",
            "\n",
            "tqdm() Progress Bar Segments: 1010it [08:53,  1.81it/s]\u001b[A\u001b[A"
          ]
        },
        {
          "name": "stdout",
          "output_type": "stream",
          "text": [
            "[[0.00964393 0.04482994 0.00309669 0.00179579 0.35953072 0.21344994\n",
            "  0.04004185 0.035391   0.07002322 0.0020879  0.22010909]]\n"
          ]
        },
        {
          "name": "stderr",
          "output_type": "stream",
          "text": [
            "\n",
            "\n",
            "tqdm() Progress Bar Segments: 1011it [08:54,  1.85it/s]\u001b[A\u001b[A"
          ]
        },
        {
          "name": "stdout",
          "output_type": "stream",
          "text": [
            "[[8.0570775e-05 1.3189924e-05 1.5059889e-05 1.5966980e-03 8.5774028e-01\n",
            "  2.3668245e-04 6.5732934e-03 2.9893279e-06 7.5826444e-02 1.7253098e-05\n",
            "  5.7897631e-02]]\n"
          ]
        },
        {
          "name": "stderr",
          "output_type": "stream",
          "text": [
            "\n",
            "\n",
            "tqdm() Progress Bar Segments: 1012it [08:54,  1.87it/s]\u001b[A\u001b[A"
          ]
        },
        {
          "name": "stdout",
          "output_type": "stream",
          "text": [
            "[[3.73343355e-05 1.92128100e-05 1.27386775e-05 2.18597101e-03\n",
            "  9.46886241e-01 2.20508111e-04 9.24613792e-03 3.51988365e-06\n",
            "  3.66583802e-02 2.82380115e-05 4.70167492e-03]]\n"
          ]
        },
        {
          "name": "stderr",
          "output_type": "stream",
          "text": [
            "\n",
            "\n",
            "tqdm() Progress Bar Segments: 1013it [08:55,  1.89it/s]\u001b[A\u001b[A"
          ]
        },
        {
          "name": "stdout",
          "output_type": "stream",
          "text": [
            "[[1.28199882e-03 1.96592169e-04 5.03493880e-04 2.45245062e-02\n",
            "  6.88806891e-01 3.96037102e-03 6.24301098e-02 1.07106636e-04\n",
            "  9.29498076e-02 4.99832502e-04 1.24739237e-01]]\n"
          ]
        },
        {
          "name": "stderr",
          "output_type": "stream",
          "text": [
            "\n",
            "\n",
            "tqdm() Progress Bar Segments: 1014it [08:55,  1.89it/s]\u001b[A\u001b[A"
          ]
        },
        {
          "name": "stdout",
          "output_type": "stream",
          "text": [
            "[[2.02668753e-06 8.86428325e-07 1.16320064e-06 4.86072095e-04\n",
            "  9.95873511e-01 3.75874515e-06 3.04303394e-04 1.13452856e-07\n",
            "  2.27107317e-03 6.51064965e-07 1.05653238e-03]]\n"
          ]
        },
        {
          "name": "stderr",
          "output_type": "stream",
          "text": [
            "\n",
            "\n",
            "tqdm() Progress Bar Segments: 1015it [08:56,  1.88it/s]\u001b[A\u001b[A"
          ]
        },
        {
          "name": "stdout",
          "output_type": "stream",
          "text": [
            "[[6.2042795e-04 9.9675446e-05 1.5710098e-04 2.1527657e-02 5.7735717e-01\n",
            "  1.8999884e-03 3.2036226e-02 7.0189046e-05 2.7797964e-01 4.2577999e-04\n",
            "  8.7826140e-02]]\n"
          ]
        },
        {
          "name": "stderr",
          "output_type": "stream",
          "text": [
            "\n",
            "\n",
            "tqdm() Progress Bar Segments: 1016it [08:56,  1.89it/s]\u001b[A\u001b[A"
          ]
        },
        {
          "name": "stdout",
          "output_type": "stream",
          "text": [
            "[[1.2249114e-03 9.3271607e-05 1.0932284e-04 4.7093397e-03 6.0504365e-01\n",
            "  5.5683791e-03 3.8074472e-03 1.1650198e-05 4.2858776e-02 2.2513856e-05\n",
            "  3.3655074e-01]]\n"
          ]
        },
        {
          "name": "stderr",
          "output_type": "stream",
          "text": [
            "\n",
            "\n",
            "tqdm() Progress Bar Segments: 1017it [08:57,  1.90it/s]\u001b[A\u001b[A"
          ]
        },
        {
          "name": "stdout",
          "output_type": "stream",
          "text": [
            "[[0.02559816 0.01304205 0.02098817 0.0043873  0.91644824 0.00334789\n",
            "  0.0015405  0.00688785 0.00229065 0.00162518 0.00384407]]\n"
          ]
        },
        {
          "name": "stderr",
          "output_type": "stream",
          "text": [
            "\n",
            "\n",
            "tqdm() Progress Bar Segments: 1018it [08:57,  1.89it/s]\u001b[A\u001b[A"
          ]
        },
        {
          "name": "stdout",
          "output_type": "stream",
          "text": [
            "[[0.00361708 0.00134901 0.00056361 0.00331357 0.10316776 0.02276173\n",
            "  0.12772548 0.003138   0.17973812 0.0009802  0.55364543]]\n"
          ]
        },
        {
          "name": "stderr",
          "output_type": "stream",
          "text": [
            "\n",
            "\n",
            "tqdm() Progress Bar Segments: 1019it [08:58,  1.90it/s]\u001b[A\u001b[A"
          ]
        },
        {
          "name": "stdout",
          "output_type": "stream",
          "text": [
            "[[6.40547776e-04 7.85826966e-02 4.54543973e-04 1.11215785e-01\n",
            "  9.17082578e-02 4.08456661e-03 1.80408265e-02 6.85575247e-01\n",
            "  6.59613730e-03 1.20032229e-03 1.90098502e-03]]\n"
          ]
        },
        {
          "name": "stderr",
          "output_type": "stream",
          "text": [
            "\n",
            "\n",
            "tqdm() Progress Bar Segments: 1020it [08:58,  1.90it/s]\u001b[A\u001b[A"
          ]
        },
        {
          "name": "stdout",
          "output_type": "stream",
          "text": [
            "[[4.1582067e-03 1.2900771e-03 2.3650771e-04 9.6110831e-04 1.8807849e-02\n",
            "  1.0175524e-02 2.0758971e-03 3.1891856e-03 7.5614639e-02 5.6686922e-04\n",
            "  8.8292408e-01]]\n"
          ]
        },
        {
          "name": "stderr",
          "output_type": "stream",
          "text": [
            "\n",
            "\n",
            "tqdm() Progress Bar Segments: 1021it [08:59,  1.90it/s]\u001b[A\u001b[A"
          ]
        },
        {
          "name": "stdout",
          "output_type": "stream",
          "text": [
            "[[1.6960487e-02 2.1890335e-04 2.1312173e-06 2.8608092e-05 2.8859166e-04\n",
            "  9.5252430e-01 1.8205585e-02 7.1682170e-04 1.5596022e-04 1.0853132e-02\n",
            "  4.5403420e-05]]\n"
          ]
        },
        {
          "name": "stderr",
          "output_type": "stream",
          "text": [
            "\n",
            "\n",
            "tqdm() Progress Bar Segments: 1022it [08:59,  1.90it/s]\u001b[A\u001b[A"
          ]
        },
        {
          "name": "stdout",
          "output_type": "stream",
          "text": [
            "[[0.01136358 0.00741898 0.00244736 0.00901814 0.0472732  0.04280652\n",
            "  0.02515091 0.00948761 0.12073228 0.00261302 0.72168833]]\n"
          ]
        },
        {
          "name": "stderr",
          "output_type": "stream",
          "text": [
            "\n",
            "\n",
            "tqdm() Progress Bar Segments: 1023it [09:00,  1.90it/s]\u001b[A\u001b[A"
          ]
        },
        {
          "name": "stdout",
          "output_type": "stream",
          "text": [
            "[[4.4443994e-03 6.0081674e-04 3.3073314e-04 5.7928679e-03 1.5571922e-01\n",
            "  7.3951599e-03 2.0776942e-02 1.0183383e-03 3.5072222e-01 5.6669442e-04\n",
            "  4.5263258e-01]]\n"
          ]
        },
        {
          "name": "stderr",
          "output_type": "stream",
          "text": [
            "\n",
            "\n",
            "tqdm() Progress Bar Segments: 1024it [09:00,  1.92it/s]\u001b[A\u001b[A"
          ]
        },
        {
          "name": "stdout",
          "output_type": "stream",
          "text": [
            "[[3.5212866e-05 7.2568031e-07 2.5994257e-06 1.3500255e-02 9.0538937e-01\n",
            "  2.7066933e-05 1.2857382e-03 3.6682269e-07 5.2805252e-02 4.2003021e-06\n",
            "  2.6949214e-02]]\n"
          ]
        },
        {
          "name": "stderr",
          "output_type": "stream",
          "text": [
            "\n",
            "\n",
            "tqdm() Progress Bar Segments: 1025it [09:01,  1.87it/s]\u001b[A\u001b[A"
          ]
        },
        {
          "name": "stdout",
          "output_type": "stream",
          "text": [
            "[[7.3979529e-05 1.2531903e-05 1.2916989e-05 1.7401398e-03 8.8457847e-01\n",
            "  1.1789357e-04 1.7994246e-03 2.9404173e-06 6.4803079e-02 1.1159155e-05\n",
            "  4.6847377e-02]]\n"
          ]
        },
        {
          "name": "stderr",
          "output_type": "stream",
          "text": [
            "\n",
            "\n",
            "tqdm() Progress Bar Segments: 1026it [09:02,  1.82it/s]\u001b[A\u001b[A"
          ]
        },
        {
          "name": "stdout",
          "output_type": "stream",
          "text": [
            "[[8.6132634e-01 3.5036702e-02 2.8540881e-04 1.6908976e-04 1.1651133e-02\n",
            "  6.3029259e-02 2.3082239e-03 1.9757811e-02 4.4369550e-05 5.8560604e-03\n",
            "  5.3563854e-04]]\n"
          ]
        },
        {
          "name": "stderr",
          "output_type": "stream",
          "text": [
            "\n",
            "\n",
            "tqdm() Progress Bar Segments: 1027it [09:02,  1.82it/s]\u001b[A\u001b[A"
          ]
        },
        {
          "name": "stdout",
          "output_type": "stream",
          "text": [
            "[[4.0973327e-03 9.4760405e-03 4.7226303e-04 1.0307645e-03 1.5568568e-01\n",
            "  8.8486880e-02 7.6805502e-03 5.8018126e-02 9.4608553e-02 1.1807004e-03\n",
            "  5.7926321e-01]]\n"
          ]
        },
        {
          "name": "stderr",
          "output_type": "stream",
          "text": [
            "\n",
            "\n",
            "tqdm() Progress Bar Segments: 1028it [09:03,  1.85it/s]\u001b[A\u001b[A"
          ]
        },
        {
          "name": "stdout",
          "output_type": "stream",
          "text": [
            "[[0.00647055 0.03495492 0.00303064 0.00830224 0.36500528 0.21008396\n",
            "  0.05683068 0.08005509 0.1264395  0.00856069 0.10026643]]\n"
          ]
        },
        {
          "name": "stderr",
          "output_type": "stream",
          "text": [
            "\n",
            "\n",
            "tqdm() Progress Bar Segments: 1029it [09:03,  1.87it/s]\u001b[A\u001b[A"
          ]
        },
        {
          "name": "stdout",
          "output_type": "stream",
          "text": [
            "[[2.4575982e-03 6.4967864e-04 1.3673729e-04 1.4006712e-03 3.4151226e-02\n",
            "  6.4638862e-03 5.2272268e-03 4.8446935e-04 1.6099972e-01 1.8644429e-04\n",
            "  7.8784233e-01]]\n"
          ]
        },
        {
          "name": "stderr",
          "output_type": "stream",
          "text": [
            "\n",
            "\n",
            "tqdm() Progress Bar Segments: 1030it [09:04,  1.88it/s]\u001b[A\u001b[A"
          ]
        },
        {
          "name": "stdout",
          "output_type": "stream",
          "text": [
            "[[1.3355456e-03 2.6808717e-04 2.3901516e-04 3.8234532e-02 6.4633417e-01\n",
            "  8.9983596e-03 1.6207702e-02 6.7849665e-05 2.1627815e-01 8.3802693e-04\n",
            "  7.1198568e-02]]\n"
          ]
        },
        {
          "name": "stderr",
          "output_type": "stream",
          "text": [
            "\n",
            "\n",
            "tqdm() Progress Bar Segments: 1031it [09:04,  1.89it/s]\u001b[A\u001b[A"
          ]
        },
        {
          "name": "stdout",
          "output_type": "stream",
          "text": [
            "[[1.23398216e-03 1.32587928e-04 2.30487101e-04 1.00089826e-01\n",
            "  2.40854099e-01 2.63914536e-03 4.24297042e-02 2.66721210e-04\n",
            "  5.97241759e-01 2.26710737e-03 1.26145696e-02]]\n"
          ]
        },
        {
          "name": "stderr",
          "output_type": "stream",
          "text": [
            "\n",
            "\n",
            "tqdm() Progress Bar Segments: 1032it [09:05,  1.89it/s]\u001b[A\u001b[A"
          ]
        },
        {
          "name": "stdout",
          "output_type": "stream",
          "text": [
            "[[7.99166597e-03 1.35384279e-03 3.72324168e-04 1.02324439e-02\n",
            "  1.62949279e-01 1.11011267e-02 1.44399535e-02 6.00236934e-03\n",
            "  5.88662744e-01 2.34292680e-03 1.94551274e-01]]\n"
          ]
        },
        {
          "name": "stderr",
          "output_type": "stream",
          "text": [
            "\n",
            "\n",
            "tqdm() Progress Bar Segments: 1033it [09:05,  1.90it/s]\u001b[A\u001b[A"
          ]
        },
        {
          "name": "stdout",
          "output_type": "stream",
          "text": [
            "[[4.6701767e-04 9.5356375e-01 7.4658017e-03 2.5729001e-05 2.5486572e-02\n",
            "  5.4637794e-03 1.1862415e-04 1.9671961e-03 2.0652324e-04 2.5556365e-04\n",
            "  4.9794419e-03]]\n"
          ]
        },
        {
          "name": "stderr",
          "output_type": "stream",
          "text": [
            "\n",
            "\n",
            "tqdm() Progress Bar Segments: 1034it [09:06,  1.90it/s]\u001b[A\u001b[A"
          ]
        },
        {
          "name": "stdout",
          "output_type": "stream",
          "text": [
            "[[5.1824652e-05 2.3368103e-04 5.0987813e-07 1.7946753e-04 2.0876693e-04\n",
            "  3.3086917e-04 1.6272319e-05 9.9835497e-01 3.3200008e-04 5.3034059e-05\n",
            "  2.3846024e-04]]\n"
          ]
        },
        {
          "name": "stderr",
          "output_type": "stream",
          "text": [
            "\n",
            "\n",
            "tqdm() Progress Bar Segments: 1035it [09:06,  1.90it/s]\u001b[A\u001b[A"
          ]
        },
        {
          "name": "stdout",
          "output_type": "stream",
          "text": [
            "[[4.7971794e-01 1.2069058e-02 3.7242772e-04 1.3740099e-03 8.5655563e-03\n",
            "  5.0207097e-02 5.6265271e-03 4.2064393e-01 1.5847608e-03 5.6846230e-04\n",
            "  1.9270249e-02]]\n"
          ]
        },
        {
          "name": "stderr",
          "output_type": "stream",
          "text": [
            "\n",
            "\n",
            "tqdm() Progress Bar Segments: 1036it [09:07,  1.90it/s]\u001b[A\u001b[A"
          ]
        },
        {
          "name": "stdout",
          "output_type": "stream",
          "text": [
            "[[4.83437529e-04 1.18455311e-04 2.36521300e-04 1.18146585e-02\n",
            "  5.01601994e-01 1.43767847e-03 1.34354442e-01 6.91978348e-05\n",
            "  3.14282864e-01 4.78237460e-04 3.51225138e-02]]\n"
          ]
        },
        {
          "name": "stderr",
          "output_type": "stream",
          "text": [
            "\n",
            "\n",
            "tqdm() Progress Bar Segments: 1037it [09:07,  1.88it/s]\u001b[A\u001b[A"
          ]
        },
        {
          "name": "stdout",
          "output_type": "stream",
          "text": [
            "[[6.2024472e-03 5.1902840e-04 2.7607419e-05 5.1215207e-03 6.8669987e-04\n",
            "  6.4583465e-02 7.9227233e-01 5.9065487e-02 1.4010500e-03 7.0078015e-02\n",
            "  4.2309799e-05]]\n"
          ]
        },
        {
          "name": "stderr",
          "output_type": "stream",
          "text": [
            "\n",
            "\n",
            "tqdm() Progress Bar Segments: 1038it [09:08,  1.82it/s]\u001b[A\u001b[A"
          ]
        },
        {
          "name": "stdout",
          "output_type": "stream",
          "text": [
            "[[0.00515748 0.01375742 0.00066378 0.00323668 0.13385686 0.28513741\n",
            "  0.06801072 0.02352762 0.24855039 0.00329547 0.21480608]]\n"
          ]
        },
        {
          "name": "stderr",
          "output_type": "stream",
          "text": [
            "\n",
            "\n",
            "tqdm() Progress Bar Segments: 1039it [09:08,  1.85it/s]\u001b[A\u001b[A"
          ]
        },
        {
          "name": "stdout",
          "output_type": "stream",
          "text": [
            "[[3.6665609e-03 4.1723421e-01 3.3964003e-03 4.6229287e-04 3.6012989e-01\n",
            "  3.0417841e-02 2.1594267e-04 1.7934766e-01 6.1415609e-05 6.7167031e-04\n",
            "  4.3960754e-03]]\n"
          ]
        },
        {
          "name": "stderr",
          "output_type": "stream",
          "text": [
            "\n",
            "\n",
            "tqdm() Progress Bar Segments: 1040it [09:09,  1.81it/s]\u001b[A\u001b[A"
          ]
        },
        {
          "name": "stdout",
          "output_type": "stream",
          "text": [
            "[[3.3042163e-06 9.9967432e-01 2.2612553e-06 2.2839916e-07 4.0662540e-05\n",
            "  3.0271800e-05 1.2062623e-07 1.8922656e-04 9.0652929e-07 2.0409364e-06\n",
            "  5.6593421e-05]]\n"
          ]
        },
        {
          "name": "stderr",
          "output_type": "stream",
          "text": [
            "\n",
            "\n",
            "tqdm() Progress Bar Segments: 1041it [09:10,  1.82it/s]\u001b[A\u001b[A"
          ]
        },
        {
          "name": "stdout",
          "output_type": "stream",
          "text": [
            "[[5.7533570e-03 1.2090899e-02 3.6928547e-03 6.7337009e-05 9.7564894e-01\n",
            "  1.0928349e-03 1.4114361e-05 1.2891000e-03 1.0404568e-05 2.4099078e-05\n",
            "  3.1618046e-04]]\n"
          ]
        },
        {
          "name": "stderr",
          "output_type": "stream",
          "text": [
            "\n",
            "\n",
            "tqdm() Progress Bar Segments: 1042it [09:10,  1.86it/s]\u001b[A\u001b[A"
          ]
        },
        {
          "name": "stdout",
          "output_type": "stream",
          "text": [
            "[[2.4880924e-06 6.4959304e-06 8.7194518e-09 1.2527360e-05 2.8241640e-05\n",
            "  7.5205780e-06 2.9947776e-07 9.9985242e-01 3.7097594e-05 2.6222738e-06\n",
            "  5.0328450e-05]]\n"
          ]
        },
        {
          "name": "stderr",
          "output_type": "stream",
          "text": [
            "\n",
            "\n",
            "tqdm() Progress Bar Segments: 1043it [09:11,  1.82it/s]\u001b[A\u001b[A"
          ]
        },
        {
          "name": "stdout",
          "output_type": "stream",
          "text": [
            "[[1.0229717e-02 8.4604777e-04 2.7636454e-05 2.9725395e-03 3.0692329e-04\n",
            "  1.1873064e-03 5.1264400e-05 7.7182805e-04 4.5466757e-01 1.3913700e-04\n",
            "  5.2880007e-01]]\n"
          ]
        },
        {
          "name": "stderr",
          "output_type": "stream",
          "text": [
            "\n",
            "\n",
            "tqdm() Progress Bar Segments: 1044it [09:11,  1.85it/s]\u001b[A\u001b[A"
          ]
        },
        {
          "name": "stdout",
          "output_type": "stream",
          "text": [
            "[[2.1435004e-01 2.3769552e-03 5.8650803e-05 2.6790929e-04 5.4774046e-02\n",
            "  2.1931378e-02 9.4407331e-04 4.9796283e-01 5.9047453e-03 3.6615385e-03\n",
            "  1.9776788e-01]]\n"
          ]
        },
        {
          "name": "stderr",
          "output_type": "stream",
          "text": [
            "\n",
            "\n",
            "tqdm() Progress Bar Segments: 1045it [09:12,  1.82it/s]\u001b[A\u001b[A"
          ]
        },
        {
          "name": "stdout",
          "output_type": "stream",
          "text": [
            "[[2.4425723e-03 4.3826001e-03 1.2253951e-05 1.9248998e-04 4.5469250e-03\n",
            "  4.9576050e-01 5.4103646e-02 3.8984913e-01 1.9237224e-04 4.8400126e-02\n",
            "  1.1734498e-04]]\n"
          ]
        },
        {
          "name": "stderr",
          "output_type": "stream",
          "text": [
            "\n",
            "\n",
            "tqdm() Progress Bar Segments: 1046it [09:12,  1.85it/s]\u001b[A\u001b[A"
          ]
        },
        {
          "name": "stdout",
          "output_type": "stream",
          "text": [
            "[[1.8507060e-02 4.8275880e-04 4.1510317e-05 4.9833120e-03 3.3822577e-03\n",
            "  1.8503478e-01 1.1960198e-01 1.7517813e-01 1.0030153e-02 4.8251465e-01\n",
            "  2.4350501e-04]]\n"
          ]
        },
        {
          "name": "stderr",
          "output_type": "stream",
          "text": [
            "\n",
            "\n",
            "tqdm() Progress Bar Segments: 1047it [09:13,  1.80it/s]\u001b[A\u001b[A"
          ]
        },
        {
          "name": "stdout",
          "output_type": "stream",
          "text": [
            "[[1.4231864e-03 2.2634752e-04 2.4788826e-06 5.6171179e-05 1.0687445e-03\n",
            "  6.2032741e-01 3.3374390e-01 2.6840499e-02 3.6822486e-04 1.5911752e-02\n",
            "  3.1332023e-05]]\n"
          ]
        },
        {
          "name": "stderr",
          "output_type": "stream",
          "text": [
            "\n",
            "\n",
            "tqdm() Progress Bar Segments: 1048it [09:13,  1.84it/s]\u001b[A\u001b[A"
          ]
        },
        {
          "name": "stdout",
          "output_type": "stream",
          "text": [
            "[[6.0977699e-04 7.4127800e-04 1.4176021e-05 1.3465479e-04 5.1245219e-03\n",
            "  6.4584857e-01 1.8252689e-01 1.7054304e-02 6.4410811e-04 1.4718638e-01\n",
            "  1.1529734e-04]]\n"
          ]
        },
        {
          "name": "stderr",
          "output_type": "stream",
          "text": [
            "\n",
            "\n",
            "tqdm() Progress Bar Segments: 1049it [09:14,  1.88it/s]\u001b[A\u001b[A"
          ]
        },
        {
          "name": "stdout",
          "output_type": "stream",
          "text": [
            "[[2.6413847e-05 2.8172269e-04 1.7276848e-06 2.6898440e-05 4.7874642e-03\n",
            "  2.1781390e-04 2.5920624e-05 9.9279624e-01 3.4752995e-04 4.3972203e-05\n",
            "  1.4443770e-03]]\n"
          ]
        },
        {
          "name": "stderr",
          "output_type": "stream",
          "text": [
            "\n",
            "\n",
            "tqdm() Progress Bar Segments: 1050it [09:14,  1.89it/s]\u001b[A\u001b[A"
          ]
        },
        {
          "name": "stdout",
          "output_type": "stream",
          "text": [
            "[[2.0811099e-01 5.2398262e-03 1.2064876e-04 2.9271498e-04 4.2283051e-03\n",
            "  5.5979097e-01 2.1512301e-01 3.0157273e-03 1.3996008e-03 1.1193730e-03\n",
            "  1.5588590e-03]]\n"
          ]
        },
        {
          "name": "stderr",
          "output_type": "stream",
          "text": [
            "\n",
            "\n",
            "tqdm() Progress Bar Segments: 1051it [09:15,  1.90it/s]\u001b[A\u001b[A"
          ]
        },
        {
          "name": "stdout",
          "output_type": "stream",
          "text": [
            "[[4.8775857e-04 5.8442703e-05 7.8120145e-05 1.1233136e-03 4.9834999e-01\n",
            "  7.9784443e-04 1.6296458e-03 9.5997229e-06 1.1950663e-01 2.0499143e-05\n",
            "  3.7793809e-01]]\n"
          ]
        },
        {
          "name": "stderr",
          "output_type": "stream",
          "text": [
            "\n",
            "\n",
            "tqdm() Progress Bar Segments: 1052it [09:15,  1.92it/s]\u001b[A\u001b[A"
          ]
        },
        {
          "name": "stdout",
          "output_type": "stream",
          "text": [
            "[[7.4957997e-01 4.1849636e-03 4.1638347e-04 6.8435422e-04 1.7675277e-02\n",
            "  7.7657454e-02 4.1756321e-02 9.1373503e-02 1.5677654e-03 2.8603387e-03\n",
            "  1.2243735e-02]]\n"
          ]
        },
        {
          "name": "stderr",
          "output_type": "stream",
          "text": [
            "\n",
            "\n",
            "tqdm() Progress Bar Segments: 1053it [09:16,  1.92it/s]\u001b[A\u001b[A"
          ]
        },
        {
          "name": "stdout",
          "output_type": "stream",
          "text": [
            "[[5.8715609e-03 2.5860197e-03 2.4180159e-05 2.3681500e-04 5.7231653e-03\n",
            "  5.6659555e-01 1.9241694e-02 3.7056690e-01 4.1952109e-04 2.8354779e-02\n",
            "  3.7985246e-04]]\n"
          ]
        },
        {
          "name": "stderr",
          "output_type": "stream",
          "text": [
            "\n",
            "\n",
            "tqdm() Progress Bar Segments: 1054it [09:16,  1.92it/s]\u001b[A\u001b[A"
          ]
        },
        {
          "name": "stdout",
          "output_type": "stream",
          "text": [
            "[[2.4343262e-04 1.4340434e-05 1.5338132e-05 1.9641749e-03 4.3977731e-01\n",
            "  3.8532889e-04 7.8384802e-03 1.0603702e-05 5.2462137e-01 8.3591869e-05\n",
            "  2.5045957e-02]]\n"
          ]
        },
        {
          "name": "stderr",
          "output_type": "stream",
          "text": [
            "\n",
            "\n",
            "tqdm() Progress Bar Segments: 1055it [09:17,  1.92it/s]\u001b[A\u001b[A"
          ]
        },
        {
          "name": "stdout",
          "output_type": "stream",
          "text": [
            "[[3.6416564e-03 5.4516532e-02 7.2206214e-02 1.8378709e-05 8.4870207e-01\n",
            "  1.7427675e-02 1.5836860e-04 8.1891642e-04 8.1934879e-05 4.6133620e-05\n",
            "  2.3821001e-03]]\n"
          ]
        },
        {
          "name": "stderr",
          "output_type": "stream",
          "text": [
            "\n",
            "\n",
            "tqdm() Progress Bar Segments: 1056it [09:18,  1.90it/s]\u001b[A\u001b[A"
          ]
        },
        {
          "name": "stdout",
          "output_type": "stream",
          "text": [
            "[[4.7641457e-05 3.5754529e-05 1.4040465e-05 4.6958169e-03 7.1696544e-01\n",
            "  2.3999660e-04 1.4230778e-02 5.4649931e-06 2.5336695e-01 7.5433847e-05\n",
            "  1.0322737e-02]]\n"
          ]
        },
        {
          "name": "stderr",
          "output_type": "stream",
          "text": [
            "\n",
            "\n",
            "tqdm() Progress Bar Segments: 1057it [09:18,  1.89it/s]\u001b[A\u001b[A"
          ]
        },
        {
          "name": "stdout",
          "output_type": "stream",
          "text": [
            "[[0.00890773 0.05994384 0.0035511  0.00396093 0.264249   0.13054627\n",
            "  0.01716654 0.20392452 0.06171919 0.00959647 0.23643437]]\n"
          ]
        },
        {
          "name": "stderr",
          "output_type": "stream",
          "text": [
            "\n",
            "\n",
            "tqdm() Progress Bar Segments: 1058it [09:19,  1.91it/s]\u001b[A\u001b[A"
          ]
        },
        {
          "name": "stdout",
          "output_type": "stream",
          "text": [
            "[[2.8657558e-04 8.2491664e-05 1.1783762e-04 1.4702480e-02 5.4415047e-01\n",
            "  1.1383855e-03 5.5555742e-02 4.1350260e-05 3.4100878e-01 3.0378363e-04\n",
            "  4.2612188e-02]]\n"
          ]
        },
        {
          "name": "stderr",
          "output_type": "stream",
          "text": [
            "\n",
            "\n",
            "tqdm() Progress Bar Segments: 1059it [09:19,  1.91it/s]\u001b[A\u001b[A"
          ]
        },
        {
          "name": "stdout",
          "output_type": "stream",
          "text": [
            "[[1.0633511e-02 1.7043304e-02 6.9111993e-05 4.0384606e-04 1.3943816e-02\n",
            "  4.9984443e-01 1.7652524e-03 4.4994268e-01 4.7578977e-04 1.3754632e-03\n",
            "  4.5028166e-03]]\n"
          ]
        },
        {
          "name": "stderr",
          "output_type": "stream",
          "text": [
            "\n",
            "\n",
            "tqdm() Progress Bar Segments: 1060it [09:20,  1.91it/s]\u001b[A\u001b[A"
          ]
        },
        {
          "name": "stdout",
          "output_type": "stream",
          "text": [
            "[[2.0475133e-04 2.0109846e-04 6.1001170e-05 5.6672870e-04 6.0937798e-01\n",
            "  4.1409847e-03 9.7109146e-02 1.0734297e-04 2.1414000e-01 2.2669224e-04\n",
            "  7.3864311e-02]]\n"
          ]
        },
        {
          "name": "stderr",
          "output_type": "stream",
          "text": [
            "\n",
            "\n",
            "tqdm() Progress Bar Segments: 1061it [09:20,  1.91it/s]\u001b[A\u001b[A"
          ]
        },
        {
          "name": "stdout",
          "output_type": "stream",
          "text": [
            "[[6.5893666e-03 1.9087313e-03 2.0406938e-05 3.5787089e-05 2.0994672e-03\n",
            "  9.4169611e-01 4.4030681e-02 1.9985875e-03 2.2654403e-04 5.5465696e-04\n",
            "  8.3973486e-04]]\n"
          ]
        },
        {
          "name": "stderr",
          "output_type": "stream",
          "text": [
            "\n",
            "\n",
            "tqdm() Progress Bar Segments: 1062it [09:21,  1.91it/s]\u001b[A\u001b[A"
          ]
        },
        {
          "name": "stdout",
          "output_type": "stream",
          "text": [
            "[[1.1478283e-04 4.4484215e-05 1.8744697e-05 8.6577743e-04 3.0011174e-01\n",
            "  1.9086417e-04 5.6647132e-03 1.7729564e-05 6.7705214e-01 9.3736176e-05\n",
            "  1.5825240e-02]]\n"
          ]
        },
        {
          "name": "stderr",
          "output_type": "stream",
          "text": [
            "\n",
            "\n",
            "tqdm() Progress Bar Segments: 1063it [09:21,  1.91it/s]\u001b[A\u001b[A"
          ]
        },
        {
          "name": "stdout",
          "output_type": "stream",
          "text": [
            "[[5.4609096e-01 1.4126337e-03 2.1795226e-05 6.0385566e-05 1.2208857e-03\n",
            "  4.3897742e-01 7.0122643e-03 4.3190392e-03 8.5450971e-05 5.5225543e-04\n",
            "  2.4693963e-04]]\n"
          ]
        },
        {
          "name": "stderr",
          "output_type": "stream",
          "text": [
            "\n",
            "\n",
            "tqdm() Progress Bar Segments: 1064it [09:22,  1.91it/s]\u001b[A\u001b[A"
          ]
        },
        {
          "name": "stdout",
          "output_type": "stream",
          "text": [
            "[[0.05548768 0.32423404 0.00167357 0.00134059 0.0259792  0.24740732\n",
            "  0.00166495 0.04802261 0.01934741 0.00269868 0.27214402]]\n"
          ]
        },
        {
          "name": "stderr",
          "output_type": "stream",
          "text": [
            "\n",
            "\n",
            "tqdm() Progress Bar Segments: 1065it [09:22,  1.90it/s]\u001b[A\u001b[A"
          ]
        },
        {
          "name": "stdout",
          "output_type": "stream",
          "text": [
            "[[1.8481165e-04 6.4530061e-05 1.1035082e-04 4.5930361e-03 9.2574441e-01\n",
            "  9.2293840e-04 2.2598311e-02 2.6838223e-05 3.7289590e-02 5.9233284e-05\n",
            "  8.4058875e-03]]\n"
          ]
        },
        {
          "name": "stderr",
          "output_type": "stream",
          "text": [
            "\n",
            "\n",
            "tqdm() Progress Bar Segments: 1066it [09:23,  1.90it/s]\u001b[A\u001b[A"
          ]
        },
        {
          "name": "stdout",
          "output_type": "stream",
          "text": [
            "[[1.2420776e-03 2.3440162e-04 3.9515516e-04 2.9679716e-02 5.5534798e-01\n",
            "  3.5407110e-03 5.4021511e-02 1.4264671e-04 2.2835988e-01 5.7382882e-04\n",
            "  1.2646210e-01]]\n"
          ]
        },
        {
          "name": "stderr",
          "output_type": "stream",
          "text": [
            "\n",
            "\n",
            "tqdm() Progress Bar Segments: 1067it [09:23,  1.89it/s]\u001b[A\u001b[A"
          ]
        },
        {
          "name": "stdout",
          "output_type": "stream",
          "text": [
            "[[8.87300484e-06 2.99838416e-06 2.33942797e-06 4.20866814e-03\n",
            "  1.20415926e-01 6.57466444e-05 9.48370695e-02 3.22450296e-06\n",
            "  7.79226243e-01 6.96903560e-04 5.32055681e-04]]\n"
          ]
        },
        {
          "name": "stderr",
          "output_type": "stream",
          "text": [
            "\n",
            "\n",
            "tqdm() Progress Bar Segments: 1068it [09:24,  1.89it/s]\u001b[A\u001b[A"
          ]
        },
        {
          "name": "stdout",
          "output_type": "stream",
          "text": [
            "[[1.3908403e-02 8.3092436e-02 3.0555926e-02 3.0022327e-04 8.4802651e-01\n",
            "  1.5328027e-02 2.3941149e-04 4.5261970e-03 1.9279146e-04 1.8456229e-04\n",
            "  3.6454697e-03]]\n"
          ]
        },
        {
          "name": "stderr",
          "output_type": "stream",
          "text": [
            "\n",
            "\n",
            "tqdm() Progress Bar Segments: 1069it [09:24,  1.90it/s]\u001b[A\u001b[A"
          ]
        },
        {
          "name": "stdout",
          "output_type": "stream",
          "text": [
            "[[6.83099352e-05 1.03052935e-05 1.42219551e-05 1.06803107e-03\n",
            "  8.31391752e-01 2.21922310e-04 3.77453445e-03 3.46816137e-06\n",
            "  6.04622252e-02 5.87630529e-06 1.02979414e-01]]\n"
          ]
        },
        {
          "name": "stderr",
          "output_type": "stream",
          "text": [
            "\n",
            "\n",
            "tqdm() Progress Bar Segments: 1070it [09:25,  1.89it/s]\u001b[A\u001b[A"
          ]
        },
        {
          "name": "stdout",
          "output_type": "stream",
          "text": [
            "[[0.02378048 0.03177812 0.07582929 0.0012027  0.82971895 0.01450766\n",
            "  0.00227306 0.0042867  0.00163005 0.00090799 0.01408504]]\n"
          ]
        },
        {
          "name": "stderr",
          "output_type": "stream",
          "text": [
            "\n",
            "\n",
            "tqdm() Progress Bar Segments: 1071it [09:25,  1.88it/s]\u001b[A\u001b[A"
          ]
        },
        {
          "name": "stdout",
          "output_type": "stream",
          "text": [
            "[[4.1236925e-01 2.9668909e-02 3.7150944e-04 7.7581848e-04 7.3887985e-03\n",
            "  3.4046829e-01 1.3003147e-02 1.8460181e-01 1.4222329e-03 4.7865054e-03\n",
            "  5.1437854e-03]]\n"
          ]
        },
        {
          "name": "stderr",
          "output_type": "stream",
          "text": [
            "\n",
            "\n",
            "tqdm() Progress Bar Segments: 1072it [09:26,  1.87it/s]\u001b[A\u001b[A"
          ]
        },
        {
          "name": "stdout",
          "output_type": "stream",
          "text": [
            "[[2.7814078e-05 4.9989794e-06 5.7117250e-06 4.8914491e-03 7.9568428e-01\n",
            "  1.4648905e-04 1.1530562e-02 9.8712678e-07 1.8021110e-01 8.3671846e-05\n",
            "  7.4129617e-03]]\n"
          ]
        },
        {
          "name": "stderr",
          "output_type": "stream",
          "text": [
            "\n",
            "\n",
            "tqdm() Progress Bar Segments: 1073it [09:26,  1.87it/s]\u001b[A\u001b[A"
          ]
        },
        {
          "name": "stdout",
          "output_type": "stream",
          "text": [
            "[[5.28296921e-04 8.47818956e-05 9.25127169e-05 8.56272891e-05\n",
            "  1.14489146e-01 3.86103010e-03 4.03705100e-03 1.63755776e-05\n",
            "  9.85307060e-03 1.54124482e-05 8.66936743e-01]]\n"
          ]
        },
        {
          "name": "stderr",
          "output_type": "stream",
          "text": [
            "\n",
            "\n",
            "tqdm() Progress Bar Segments: 1074it [09:27,  1.88it/s]\u001b[A\u001b[A"
          ]
        },
        {
          "name": "stdout",
          "output_type": "stream",
          "text": [
            "[[8.4934384e-03 1.7195286e-01 8.9246985e-03 8.6380704e-04 2.3708040e-01\n",
            "  7.9667391e-03 4.5585376e-04 9.9310474e-03 1.2857388e-02 2.9068216e-04\n",
            "  5.4118311e-01]]\n"
          ]
        },
        {
          "name": "stderr",
          "output_type": "stream",
          "text": [
            "\n",
            "\n",
            "tqdm() Progress Bar Segments: 1075it [09:28,  1.88it/s]\u001b[A\u001b[A"
          ]
        },
        {
          "name": "stdout",
          "output_type": "stream",
          "text": [
            "[[0.02143462 0.00818255 0.00083704 0.01338671 0.0288831  0.02190136\n",
            "  0.00137987 0.7594244  0.03284852 0.00216365 0.10955812]]\n"
          ]
        },
        {
          "name": "stderr",
          "output_type": "stream",
          "text": [
            "\n",
            "\n",
            "tqdm() Progress Bar Segments: 1076it [09:28,  1.89it/s]\u001b[A\u001b[A"
          ]
        },
        {
          "name": "stdout",
          "output_type": "stream",
          "text": [
            "[[4.5526200e-03 8.8593876e-04 4.7399863e-04 7.1000290e-04 4.8156153e-02\n",
            "  1.7271971e-02 2.6433406e-02 9.5452997e-04 3.7491810e-02 2.0819533e-04\n",
            "  8.6286139e-01]]\n"
          ]
        },
        {
          "name": "stderr",
          "output_type": "stream",
          "text": [
            "\n",
            "\n",
            "tqdm() Progress Bar Segments: 1077it [09:29,  1.87it/s]\u001b[A\u001b[A"
          ]
        },
        {
          "name": "stdout",
          "output_type": "stream",
          "text": [
            "[[4.2766673e-03 2.7490114e-03 5.3282717e-04 1.6745361e-03 4.6336621e-02\n",
            "  1.0918702e-02 8.6799553e-03 3.7690704e-03 1.4601262e-01 7.2013692e-04\n",
            "  7.7432984e-01]]\n"
          ]
        },
        {
          "name": "stderr",
          "output_type": "stream",
          "text": [
            "\n",
            "\n",
            "tqdm() Progress Bar Segments: 1078it [09:29,  1.87it/s]\u001b[A\u001b[A"
          ]
        },
        {
          "name": "stdout",
          "output_type": "stream",
          "text": [
            "[[4.4230357e-05 1.4844236e-05 9.3844274e-06 1.3526605e-03 8.2513654e-01\n",
            "  1.7716980e-04 9.0199085e-03 3.2117457e-06 1.5516628e-01 3.1760130e-05\n",
            "  9.0439226e-03]]\n"
          ]
        },
        {
          "name": "stderr",
          "output_type": "stream",
          "text": [
            "\n",
            "\n",
            "tqdm() Progress Bar Segments: 1079it [09:30,  1.88it/s]\u001b[A\u001b[A"
          ]
        },
        {
          "name": "stdout",
          "output_type": "stream",
          "text": [
            "[[1.0382462e-02 6.5969522e-03 3.5222030e-05 1.5811175e-03 3.7742634e-03\n",
            "  1.0853776e-01 9.7252587e-03 2.4801970e-01 2.1112964e-03 6.0874587e-01\n",
            "  4.9008580e-04]]\n"
          ]
        },
        {
          "name": "stderr",
          "output_type": "stream",
          "text": [
            "\n",
            "\n",
            "tqdm() Progress Bar Segments: 1080it [09:30,  1.88it/s]\u001b[A\u001b[A"
          ]
        },
        {
          "name": "stdout",
          "output_type": "stream",
          "text": [
            "[[1.1084031e-02 3.2864711e-03 3.9098720e-04 1.0420969e-03 8.6728014e-02\n",
            "  4.2087961e-02 5.0163339e-03 4.5788798e-02 1.6011572e-01 1.2763387e-03\n",
            "  6.4318317e-01]]\n"
          ]
        },
        {
          "name": "stderr",
          "output_type": "stream",
          "text": [
            "\n",
            "\n",
            "tqdm() Progress Bar Segments: 1081it [09:31,  1.89it/s]\u001b[A\u001b[A"
          ]
        },
        {
          "name": "stdout",
          "output_type": "stream",
          "text": [
            "[[3.0631176e-04 8.7448083e-05 8.5718500e-05 9.8218229e-03 9.3472308e-01\n",
            "  2.8123201e-03 6.8746880e-03 1.6061071e-05 2.2276502e-02 6.5549073e-05\n",
            "  2.2930497e-02]]\n"
          ]
        },
        {
          "name": "stderr",
          "output_type": "stream",
          "text": [
            "\n",
            "\n",
            "tqdm() Progress Bar Segments: 1082it [09:31,  1.89it/s]\u001b[A\u001b[A"
          ]
        },
        {
          "name": "stdout",
          "output_type": "stream",
          "text": [
            "[[1.8296966e-02 4.1926312e-03 4.0908209e-05 1.1448191e-04 2.7359892e-03\n",
            "  8.6530530e-01 9.9300571e-02 7.6389364e-03 3.5885183e-04 1.0713362e-03\n",
            "  9.4397779e-04]]\n"
          ]
        },
        {
          "name": "stderr",
          "output_type": "stream",
          "text": [
            "\n",
            "\n",
            "tqdm() Progress Bar Segments: 1083it [09:32,  1.88it/s]\u001b[A\u001b[A"
          ]
        },
        {
          "name": "stdout",
          "output_type": "stream",
          "text": [
            "[[1.8501065e-05 3.8741712e-04 1.2507177e-06 7.5496981e-05 3.3502094e-03\n",
            "  2.0665105e-04 4.6138011e-05 9.9120212e-01 3.1001926e-03 3.4409732e-05\n",
            "  1.5775256e-03]]\n"
          ]
        },
        {
          "name": "stderr",
          "output_type": "stream",
          "text": [
            "\n",
            "\n",
            "tqdm() Progress Bar Segments: 1084it [09:32,  1.88it/s]\u001b[A\u001b[A"
          ]
        },
        {
          "name": "stdout",
          "output_type": "stream",
          "text": [
            "[[5.4462538e-03 3.6903928e-04 9.3904021e-04 1.6669239e-03 7.8026056e-02\n",
            "  1.2100206e-02 5.2923500e-03 1.0582500e-04 1.3093546e-02 9.4464231e-05\n",
            "  8.8286632e-01]]\n"
          ]
        },
        {
          "name": "stderr",
          "output_type": "stream",
          "text": [
            "\n",
            "\n",
            "tqdm() Progress Bar Segments: 1085it [09:33,  1.88it/s]\u001b[A\u001b[A"
          ]
        },
        {
          "name": "stdout",
          "output_type": "stream",
          "text": [
            "[[1.0801232e-02 1.0788706e-01 1.0080456e-02 3.5615527e-04 1.1265557e-01\n",
            "  9.1554197e-03 2.6401691e-04 1.6589090e-02 5.3349794e-03 2.3786383e-04\n",
            "  7.2663814e-01]]\n"
          ]
        },
        {
          "name": "stderr",
          "output_type": "stream",
          "text": [
            "\n",
            "\n",
            "tqdm() Progress Bar Segments: 1086it [09:33,  1.88it/s]\u001b[A\u001b[A"
          ]
        },
        {
          "name": "stdout",
          "output_type": "stream",
          "text": [
            "[[4.1968729e-03 1.2656675e-03 1.2210399e-04 3.5340032e-03 1.1376583e-01\n",
            "  1.9142492e-02 7.4322880e-03 2.5694802e-01 5.2882504e-01 6.7525185e-03\n",
            "  5.8015257e-02]]\n"
          ]
        },
        {
          "name": "stderr",
          "output_type": "stream",
          "text": [
            "\n",
            "\n",
            "tqdm() Progress Bar Segments: 1087it [09:34,  1.87it/s]\u001b[A\u001b[A"
          ]
        },
        {
          "name": "stdout",
          "output_type": "stream",
          "text": [
            "[[4.0955031e-03 1.2506117e-02 3.2260881e-03 9.3088625e-04 9.0837288e-01\n",
            "  9.7651593e-03 1.9102831e-03 1.0953297e-02 6.4740572e-03 6.5786898e-04\n",
            "  4.1107822e-02]]\n"
          ]
        },
        {
          "name": "stderr",
          "output_type": "stream",
          "text": [
            "\n",
            "\n",
            "tqdm() Progress Bar Segments: 1088it [09:34,  1.88it/s]\u001b[A\u001b[A"
          ]
        },
        {
          "name": "stdout",
          "output_type": "stream",
          "text": [
            "[[1.0307427e-03 7.8156409e-05 5.9449980e-05 2.2305589e-02 3.6906999e-01\n",
            "  1.1756602e-03 4.1913101e-03 6.8024412e-05 2.5595701e-01 4.9290837e-05\n",
            "  3.4601468e-01]]\n"
          ]
        },
        {
          "name": "stderr",
          "output_type": "stream",
          "text": [
            "\n",
            "\n",
            "tqdm() Progress Bar Segments: 1089it [09:35,  1.88it/s]\u001b[A\u001b[A"
          ]
        },
        {
          "name": "stdout",
          "output_type": "stream",
          "text": [
            "[[3.3864164e-04 4.7024118e-05 8.7586595e-05 4.0721972e-03 8.9574087e-01\n",
            "  2.2538700e-03 1.8697074e-03 6.6316875e-06 1.1776363e-02 2.0675394e-05\n",
            "  8.3786435e-02]]\n"
          ]
        },
        {
          "name": "stderr",
          "output_type": "stream",
          "text": [
            "\n",
            "\n",
            "tqdm() Progress Bar Segments: 1090it [09:36,  1.90it/s]\u001b[A\u001b[A"
          ]
        },
        {
          "name": "stdout",
          "output_type": "stream",
          "text": [
            "[[4.67856989e-05 1.69715840e-05 1.49039188e-05 4.14864533e-03\n",
            "  9.79500651e-01 2.09693739e-04 1.79333461e-03 3.29476075e-06\n",
            "  9.72575322e-03 1.42476465e-05 4.52577556e-03]]\n"
          ]
        },
        {
          "name": "stderr",
          "output_type": "stream",
          "text": [
            "\n",
            "\n",
            "tqdm() Progress Bar Segments: 1091it [09:36,  1.91it/s]\u001b[A\u001b[A"
          ]
        },
        {
          "name": "stdout",
          "output_type": "stream",
          "text": [
            "[[0.7095591  0.0080471  0.00147104 0.00168711 0.16848214 0.02874375\n",
            "  0.00848893 0.04397577 0.00208007 0.00275578 0.02470923]]\n"
          ]
        },
        {
          "name": "stderr",
          "output_type": "stream",
          "text": [
            "\n",
            "\n",
            "tqdm() Progress Bar Segments: 1092it [09:37,  1.92it/s]\u001b[A\u001b[A"
          ]
        },
        {
          "name": "stdout",
          "output_type": "stream",
          "text": [
            "[[5.5265008e-03 8.0689615e-01 4.4904044e-03 4.9857281e-05 8.7155357e-02\n",
            "  7.8465991e-02 1.0427174e-03 2.5350577e-03 4.6933943e-04 1.4607252e-04\n",
            "  1.3222517e-02]]\n"
          ]
        },
        {
          "name": "stderr",
          "output_type": "stream",
          "text": [
            "\n",
            "\n",
            "tqdm() Progress Bar Segments: 1093it [09:37,  1.91it/s]\u001b[A\u001b[A"
          ]
        },
        {
          "name": "stdout",
          "output_type": "stream",
          "text": [
            "[[1.2976977e-03 3.8353306e-01 9.5659902e-04 2.2308136e-04 3.7650371e-01\n",
            "  5.3746793e-03 1.8052479e-04 2.2659208e-01 9.5928386e-05 4.6637253e-04\n",
            "  4.7762943e-03]]\n"
          ]
        },
        {
          "name": "stderr",
          "output_type": "stream",
          "text": [
            "\n",
            "\n",
            "tqdm() Progress Bar Segments: 1094it [09:38,  1.92it/s]\u001b[A\u001b[A"
          ]
        },
        {
          "name": "stdout",
          "output_type": "stream",
          "text": [
            "[[2.0065594e-03 1.9691221e-03 5.3301690e-05 2.2074424e-04 1.9040401e-03\n",
            "  8.8026170e-03 2.2212174e-04 1.9392992e-03 1.4361042e-02 3.8224080e-05\n",
            "  9.6848285e-01]]\n"
          ]
        },
        {
          "name": "stderr",
          "output_type": "stream",
          "text": [
            "\n",
            "\n",
            "tqdm() Progress Bar Segments: 1095it [09:38,  1.93it/s]\u001b[A\u001b[A"
          ]
        },
        {
          "name": "stdout",
          "output_type": "stream",
          "text": [
            "[[1.2447588e-03 4.5428466e-04 1.2323524e-04 1.3806933e-04 4.5571428e-02\n",
            "  5.4676943e-02 3.4919498e-03 5.7330675e-04 1.2067074e-02 6.0656053e-05\n",
            "  8.8159829e-01]]\n"
          ]
        },
        {
          "name": "stderr",
          "output_type": "stream",
          "text": [
            "\n",
            "\n",
            "tqdm() Progress Bar Segments: 1096it [09:39,  1.93it/s]\u001b[A\u001b[A"
          ]
        },
        {
          "name": "stdout",
          "output_type": "stream",
          "text": [
            "[[0.01188493 0.13807274 0.00373774 0.00439741 0.16215971 0.13693634\n",
            "  0.01224776 0.22610664 0.09993764 0.00571246 0.19880669]]\n"
          ]
        },
        {
          "name": "stderr",
          "output_type": "stream",
          "text": [
            "\n",
            "\n",
            "tqdm() Progress Bar Segments: 1097it [09:39,  1.93it/s]\u001b[A\u001b[A"
          ]
        },
        {
          "name": "stdout",
          "output_type": "stream",
          "text": [
            "[[1.91740470e-03 2.27478985e-02 1.08456836e-04 5.51488367e-04\n",
            "  6.19794894e-03 1.80157591e-02 9.91255278e-04 9.35490727e-01\n",
            "  2.17259116e-03 1.33676152e-03 1.04698073e-02]]\n"
          ]
        },
        {
          "name": "stderr",
          "output_type": "stream",
          "text": [
            "\n",
            "\n",
            "tqdm() Progress Bar Segments: 1098it [09:40,  1.92it/s]\u001b[A\u001b[A"
          ]
        },
        {
          "name": "stdout",
          "output_type": "stream",
          "text": [
            "[[0.04025289 0.00231997 0.00062913 0.00892012 0.05647212 0.03032596\n",
            "  0.00096047 0.07175653 0.4288685  0.00285175 0.35664248]]\n"
          ]
        },
        {
          "name": "stderr",
          "output_type": "stream",
          "text": [
            "\n",
            "\n",
            "tqdm() Progress Bar Segments: 1099it [09:40,  1.93it/s]\u001b[A\u001b[A"
          ]
        },
        {
          "name": "stdout",
          "output_type": "stream",
          "text": [
            "[[7.0317425e-03 3.3077209e-03 3.9817669e-04 1.7299430e-03 1.8056095e-01\n",
            "  5.7177696e-02 4.0212735e-03 4.7050926e-01 4.9888603e-02 1.9338903e-01\n",
            "  3.1985678e-02]]\n"
          ]
        },
        {
          "name": "stderr",
          "output_type": "stream",
          "text": [
            "\n",
            "\n",
            "tqdm() Progress Bar Segments: 1100it [09:41,  1.94it/s]\u001b[A\u001b[A"
          ]
        },
        {
          "name": "stdout",
          "output_type": "stream",
          "text": [
            "[[6.1796565e-04 7.3584895e-05 5.3468170e-07 9.5316746e-06 3.7120662e-03\n",
            "  5.5726891e-04 2.3208247e-06 9.5078027e-01 7.6711667e-04 7.9126376e-06\n",
            "  4.3471523e-02]]\n"
          ]
        },
        {
          "name": "stderr",
          "output_type": "stream",
          "text": [
            "\n",
            "\n",
            "tqdm() Progress Bar Segments: 1101it [09:41,  1.94it/s]\u001b[A\u001b[A"
          ]
        },
        {
          "name": "stdout",
          "output_type": "stream",
          "text": [
            "[[1.0040951e-03 2.7463958e-04 6.4034415e-05 5.7740649e-04 6.8644956e-02\n",
            "  4.7319881e-03 6.1420156e-03 1.0159374e-04 1.9876944e-01 1.5709191e-04\n",
            "  7.1953279e-01]]\n"
          ]
        },
        {
          "name": "stderr",
          "output_type": "stream",
          "text": [
            "\n",
            "\n",
            "tqdm() Progress Bar Segments: 1102it [09:42,  1.94it/s]\u001b[A\u001b[A"
          ]
        },
        {
          "name": "stdout",
          "output_type": "stream",
          "text": [
            "[[6.7064194e-03 1.5140285e-02 1.5358754e-03 1.1948943e-03 2.1301588e-01\n",
            "  2.8082320e-02 6.6886720e-04 3.2463081e-02 1.2382274e-02 6.2543259e-04\n",
            "  6.8818462e-01]]\n"
          ]
        },
        {
          "name": "stderr",
          "output_type": "stream",
          "text": [
            "\n",
            "\n",
            "tqdm() Progress Bar Segments: 1103it [09:42,  1.95it/s]\u001b[A\u001b[A"
          ]
        },
        {
          "name": "stdout",
          "output_type": "stream",
          "text": [
            "[[1.2043503e-02 4.0192893e-03 4.3318938e-03 1.4220058e-03 9.5330304e-01\n",
            "  9.1244874e-04 1.2422457e-03 2.7708311e-03 2.0014206e-03 3.0880360e-04\n",
            "  1.7644549e-02]]\n"
          ]
        },
        {
          "name": "stderr",
          "output_type": "stream",
          "text": [
            "\n",
            "\n",
            "tqdm() Progress Bar Segments: 1104it [09:43,  1.94it/s]\u001b[A\u001b[A"
          ]
        },
        {
          "name": "stdout",
          "output_type": "stream",
          "text": [
            "[[8.9501445e-05 7.2305493e-06 7.4152440e-06 5.5164178e-03 4.2132756e-01\n",
            "  1.4246191e-04 1.8265896e-03 1.9354927e-06 4.2918947e-01 1.2104296e-05\n",
            "  1.4187932e-01]]\n"
          ]
        },
        {
          "name": "stderr",
          "output_type": "stream",
          "text": [
            "\n",
            "\n",
            "tqdm() Progress Bar Segments: 1105it [09:43,  1.94it/s]\u001b[A\u001b[A"
          ]
        },
        {
          "name": "stdout",
          "output_type": "stream",
          "text": [
            "[[5.0939957e-04 1.2857733e-04 6.7946377e-05 3.4232414e-03 2.9900530e-01\n",
            "  2.1289249e-03 1.7172214e-02 4.9596230e-05 4.9927098e-01 1.9784190e-04\n",
            "  1.7804593e-01]]\n"
          ]
        },
        {
          "name": "stderr",
          "output_type": "stream",
          "text": [
            "\n",
            "\n",
            "tqdm() Progress Bar Segments: 1106it [09:44,  1.94it/s]\u001b[A\u001b[A"
          ]
        },
        {
          "name": "stdout",
          "output_type": "stream",
          "text": [
            "[[0.4115325  0.00387799 0.00054589 0.00087336 0.03942468 0.4234872\n",
            "  0.03063384 0.07214281 0.0016246  0.00426352 0.01159362]]\n"
          ]
        },
        {
          "name": "stderr",
          "output_type": "stream",
          "text": [
            "\n",
            "\n",
            "tqdm() Progress Bar Segments: 1107it [09:44,  1.95it/s]\u001b[A\u001b[A"
          ]
        },
        {
          "name": "stdout",
          "output_type": "stream",
          "text": [
            "[[3.42957652e-03 2.99250819e-02 9.52986811e-05 5.10031183e-04\n",
            "  6.51875278e-03 8.11445620e-03 3.59165715e-04 8.35480869e-01\n",
            "  8.13227333e-03 2.61909358e-04 1.07172586e-01]]\n"
          ]
        },
        {
          "name": "stderr",
          "output_type": "stream",
          "text": [
            "\n",
            "\n",
            "tqdm() Progress Bar Segments: 1108it [09:45,  1.95it/s]\u001b[A\u001b[A"
          ]
        },
        {
          "name": "stdout",
          "output_type": "stream",
          "text": [
            "[[3.0015700e-02 1.9307472e-03 4.7697438e-05 1.2482876e-03 7.2687990e-03\n",
            "  3.6873072e-01 5.0615764e-01 3.9559841e-02 1.7429362e-03 4.2574078e-02\n",
            "  7.2360982e-04]]\n"
          ]
        },
        {
          "name": "stderr",
          "output_type": "stream",
          "text": [
            "\n",
            "\n",
            "tqdm() Progress Bar Segments: 1109it [09:45,  1.96it/s]\u001b[A\u001b[A"
          ]
        },
        {
          "name": "stdout",
          "output_type": "stream",
          "text": [
            "[[9.8162815e-03 2.3962652e-04 9.5871255e-06 2.0501444e-04 6.1885300e-03\n",
            "  3.5138419e-03 2.0957261e-04 9.7827870e-01 1.7288249e-04 8.7176682e-04\n",
            "  4.9426692e-04]]\n"
          ]
        },
        {
          "name": "stderr",
          "output_type": "stream",
          "text": [
            "\n",
            "\n",
            "tqdm() Progress Bar Segments: 1110it [09:46,  1.95it/s]\u001b[A\u001b[A"
          ]
        },
        {
          "name": "stdout",
          "output_type": "stream",
          "text": [
            "[[2.0112899e-04 8.8032021e-04 3.8047028e-06 6.4321481e-05 1.0748454e-03\n",
            "  9.4231135e-01 3.5928808e-02 1.0887187e-02 1.0581542e-04 8.5210539e-03\n",
            "  2.1353451e-05]]\n"
          ]
        },
        {
          "name": "stderr",
          "output_type": "stream",
          "text": [
            "\n",
            "\n",
            "tqdm() Progress Bar Segments: 1111it [09:46,  1.95it/s]\u001b[A\u001b[A"
          ]
        },
        {
          "name": "stdout",
          "output_type": "stream",
          "text": [
            "[[4.9927095e-03 4.0895748e-04 2.1528872e-04 1.1495645e-03 5.3451270e-02\n",
            "  8.5487971e-03 2.8528331e-03 5.8115041e-04 8.0362298e-02 2.2355870e-04\n",
            "  8.4721357e-01]]\n"
          ]
        },
        {
          "name": "stderr",
          "output_type": "stream",
          "text": [
            "\n",
            "\n",
            "tqdm() Progress Bar Segments: 1112it [09:47,  1.95it/s]\u001b[A\u001b[A"
          ]
        },
        {
          "name": "stdout",
          "output_type": "stream",
          "text": [
            "[[3.9750244e-03 7.2847242e-03 5.3328462e-05 3.0541143e-04 9.1009736e-03\n",
            "  6.2284679e-03 8.0150385e-05 8.4436691e-01 4.3107555e-03 1.1130707e-04\n",
            "  1.2418292e-01]]\n"
          ]
        },
        {
          "name": "stderr",
          "output_type": "stream",
          "text": [
            "\n",
            "\n",
            "tqdm() Progress Bar Segments: 1113it [09:47,  1.94it/s]\u001b[A\u001b[A"
          ]
        },
        {
          "name": "stdout",
          "output_type": "stream",
          "text": [
            "[[3.7904658e-05 5.1520765e-06 9.0332642e-06 2.4734095e-03 8.7056881e-01\n",
            "  8.6653730e-05 4.3571070e-03 1.7112876e-06 9.4423987e-02 1.0336361e-05\n",
            "  2.8025892e-02]]\n"
          ]
        },
        {
          "name": "stderr",
          "output_type": "stream",
          "text": [
            "\n",
            "\n",
            "tqdm() Progress Bar Segments: 1114it [09:48,  1.94it/s]\u001b[A\u001b[A"
          ]
        },
        {
          "name": "stdout",
          "output_type": "stream",
          "text": [
            "[[7.95172964e-05 6.11297310e-06 1.44687792e-05 1.02519449e-02\n",
            "  8.83231997e-01 1.06246494e-04 7.07521150e-03 4.63853667e-06\n",
            "  9.03340355e-02 2.65913786e-05 8.86934064e-03]]\n"
          ]
        },
        {
          "name": "stderr",
          "output_type": "stream",
          "text": [
            "\n",
            "\n",
            "tqdm() Progress Bar Segments: 1115it [09:48,  1.86it/s]\u001b[A\u001b[A"
          ]
        },
        {
          "name": "stdout",
          "output_type": "stream",
          "text": [
            "[[3.3578884e-02 1.3226364e-02 4.2399895e-04 2.7895084e-04 1.2472637e-01\n",
            "  6.6128142e-02 1.5582312e-03 5.2674133e-02 1.6931774e-02 4.9064338e-04\n",
            "  6.8998247e-01]]\n"
          ]
        },
        {
          "name": "stderr",
          "output_type": "stream",
          "text": [
            "\n",
            "\n",
            "tqdm() Progress Bar Segments: 1116it [09:49,  1.86it/s]\u001b[A\u001b[A"
          ]
        },
        {
          "name": "stdout",
          "output_type": "stream",
          "text": [
            "[[3.2347623e-01 2.7386204e-03 5.1204926e-05 8.0495677e-04 5.4110857e-03\n",
            "  3.0307806e-01 1.3112521e-01 2.2344123e-01 4.6327585e-04 9.2496919e-03\n",
            "  1.6045688e-04]]\n"
          ]
        },
        {
          "name": "stderr",
          "output_type": "stream",
          "text": [
            "\n",
            "\n",
            "tqdm() Progress Bar Segments: 1117it [09:50,  1.88it/s]\u001b[A\u001b[A"
          ]
        },
        {
          "name": "stdout",
          "output_type": "stream",
          "text": [
            "[[3.1741189e-03 2.4578527e-03 1.2931996e-04 8.0022035e-04 4.3363161e-03\n",
            "  5.3083289e-01 4.2881495e-01 7.7493847e-03 3.6505533e-03 1.7199969e-02\n",
            "  8.5447193e-04]]\n"
          ]
        },
        {
          "name": "stderr",
          "output_type": "stream",
          "text": [
            "\n",
            "\n",
            "tqdm() Progress Bar Segments: 1118it [09:50,  1.89it/s]\u001b[A\u001b[A"
          ]
        },
        {
          "name": "stdout",
          "output_type": "stream",
          "text": [
            "[[2.6546355e-04 5.9917886e-03 2.9322424e-05 2.2495117e-04 7.5699654e-03\n",
            "  9.6519489e-04 3.3440472e-05 9.8289651e-01 9.0986498e-05 1.3657271e-04\n",
            "  1.7957494e-03]]\n"
          ]
        },
        {
          "name": "stderr",
          "output_type": "stream",
          "text": [
            "\n",
            "\n",
            "tqdm() Progress Bar Segments: 1119it [09:51,  1.89it/s]\u001b[A\u001b[A"
          ]
        },
        {
          "name": "stdout",
          "output_type": "stream",
          "text": [
            "[[3.9606495e-03 2.8851819e-03 4.4953398e-05 3.3523720e-05 1.7432444e-03\n",
            "  9.4820827e-01 3.8885415e-02 2.2701126e-04 1.7410470e-04 8.0079109e-05\n",
            "  3.7575534e-03]]\n"
          ]
        },
        {
          "name": "stderr",
          "output_type": "stream",
          "text": [
            "\n",
            "\n",
            "tqdm() Progress Bar Segments: 1120it [09:51,  1.91it/s]\u001b[A\u001b[A"
          ]
        },
        {
          "name": "stdout",
          "output_type": "stream",
          "text": [
            "[[1.7010361e-01 1.8707591e-01 5.0713931e-04 8.4697473e-05 1.4975446e-01\n",
            "  4.8832038e-01 1.0452459e-03 9.4979146e-04 5.0781055e-05 8.7749871e-04\n",
            "  1.2305159e-03]]\n"
          ]
        },
        {
          "name": "stderr",
          "output_type": "stream",
          "text": [
            "\n",
            "\n",
            "tqdm() Progress Bar Segments: 1121it [09:52,  1.91it/s]\u001b[A\u001b[A"
          ]
        },
        {
          "name": "stdout",
          "output_type": "stream",
          "text": [
            "[[1.11671885e-04 5.29658166e-04 1.08246320e-06 1.08484535e-04\n",
            "  1.32445991e-03 2.83280481e-03 7.25825748e-06 9.93776202e-01\n",
            "  4.35220863e-04 1.31393303e-04 7.41746218e-04]]\n"
          ]
        },
        {
          "name": "stderr",
          "output_type": "stream",
          "text": [
            "\n",
            "\n",
            "tqdm() Progress Bar Segments: 1122it [09:52,  1.91it/s]\u001b[A\u001b[A"
          ]
        },
        {
          "name": "stdout",
          "output_type": "stream",
          "text": [
            "[[5.5180226e-02 1.5331502e-03 5.1115098e-04 1.7171336e-02 1.8791089e-02\n",
            "  1.1506309e-02 1.2431486e-03 6.2125782e-03 3.7508866e-01 6.5334945e-04\n",
            "  5.1210904e-01]]\n"
          ]
        },
        {
          "name": "stderr",
          "output_type": "stream",
          "text": [
            "\n",
            "\n",
            "tqdm() Progress Bar Segments: 1123it [09:53,  1.92it/s]\u001b[A\u001b[A"
          ]
        },
        {
          "name": "stdout",
          "output_type": "stream",
          "text": [
            "[[3.2790922e-04 2.7132360e-04 2.2448105e-06 4.8908255e-06 3.6735999e-04\n",
            "  9.8763162e-01 1.0381698e-02 6.6340563e-04 1.8441349e-05 3.0903527e-04\n",
            "  2.2035987e-05]]\n"
          ]
        },
        {
          "name": "stderr",
          "output_type": "stream",
          "text": [
            "\n",
            "\n",
            "tqdm() Progress Bar Segments: 1124it [09:53,  1.93it/s]\u001b[A\u001b[A"
          ]
        },
        {
          "name": "stdout",
          "output_type": "stream",
          "text": [
            "[[5.9553679e-02 1.6522689e-02 4.5508114e-04 2.7507439e-04 6.1496612e-02\n",
            "  2.1498460e-02 9.9455938e-04 5.3530235e-02 5.4333499e-03 7.4837956e-04\n",
            "  7.7949190e-01]]\n"
          ]
        },
        {
          "name": "stderr",
          "output_type": "stream",
          "text": [
            "\n",
            "\n",
            "tqdm() Progress Bar Segments: 1125it [09:54,  1.92it/s]\u001b[A\u001b[A"
          ]
        },
        {
          "name": "stdout",
          "output_type": "stream",
          "text": [
            "[[1.0925227e-04 1.9464465e-05 5.0831157e-05 9.0658129e-04 7.7216548e-01\n",
            "  4.2235202e-04 3.9672405e-02 6.9159678e-06 1.2606204e-01 2.9531622e-05\n",
            "  6.0555153e-02]]\n"
          ]
        },
        {
          "name": "stderr",
          "output_type": "stream",
          "text": [
            "\n",
            "\n",
            "tqdm() Progress Bar Segments: 1126it [09:54,  1.92it/s]\u001b[A\u001b[A"
          ]
        },
        {
          "name": "stdout",
          "output_type": "stream",
          "text": [
            "[[1.3241337e-03 2.5654181e-03 2.6739359e-05 1.2098396e-04 2.1045648e-03\n",
            "  8.8886988e-01 1.0028350e-01 2.4080828e-03 3.1607228e-04 1.8438346e-03\n",
            "  1.3685139e-04]]\n"
          ]
        },
        {
          "name": "stderr",
          "output_type": "stream",
          "text": [
            "\n",
            "\n",
            "tqdm() Progress Bar Segments: 1127it [09:55,  1.93it/s]\u001b[A\u001b[A"
          ]
        },
        {
          "name": "stdout",
          "output_type": "stream",
          "text": [
            "[[1.9039059e-04 6.9341250e-04 1.1488380e-06 2.2505914e-05 9.5591036e-04\n",
            "  9.3358475e-01 1.9283371e-02 4.3811698e-02 2.0089903e-05 1.4246887e-03\n",
            "  1.1914697e-05]]\n"
          ]
        },
        {
          "name": "stderr",
          "output_type": "stream",
          "text": [
            "\n",
            "\n",
            "tqdm() Progress Bar Segments: 1128it [09:55,  1.94it/s]\u001b[A\u001b[A"
          ]
        },
        {
          "name": "stdout",
          "output_type": "stream",
          "text": [
            "[[9.7162835e-03 5.0514445e-02 3.8475581e-04 5.8488321e-04 5.0613370e-02\n",
            "  2.5804546e-01 4.1308696e-03 6.0359418e-01 1.8089752e-03 7.5196023e-03\n",
            "  1.3087192e-02]]\n"
          ]
        },
        {
          "name": "stderr",
          "output_type": "stream",
          "text": [
            "\n",
            "\n",
            "tqdm() Progress Bar Segments: 1129it [09:56,  1.88it/s]\u001b[A\u001b[A"
          ]
        },
        {
          "name": "stdout",
          "output_type": "stream",
          "text": [
            "[[2.9842264e-03 7.7563041e-04 4.7396743e-04 1.4620459e-03 2.0989099e-01\n",
            "  1.9368593e-02 3.8961232e-02 2.9127419e-04 1.9629145e-01 3.2267766e-04\n",
            "  5.2917796e-01]]\n"
          ]
        },
        {
          "name": "stderr",
          "output_type": "stream",
          "text": [
            "\n",
            "\n",
            "tqdm() Progress Bar Segments: 1130it [09:56,  1.91it/s]\u001b[A\u001b[A"
          ]
        },
        {
          "name": "stdout",
          "output_type": "stream",
          "text": [
            "[[8.4090170e-06 7.7872176e-07 3.6615234e-07 9.1577618e-05 2.9531691e-02\n",
            "  1.5634021e-05 7.1333366e-04 4.3070196e-07 9.6239418e-01 1.8128900e-05\n",
            "  7.2254767e-03]]\n"
          ]
        },
        {
          "name": "stderr",
          "output_type": "stream",
          "text": [
            "\n",
            "\n",
            "tqdm() Progress Bar Segments: 1131it [09:57,  1.92it/s]\u001b[A\u001b[A"
          ]
        },
        {
          "name": "stdout",
          "output_type": "stream",
          "text": [
            "[[2.4073344e-02 1.5181546e-03 5.5492052e-05 1.0411123e-04 3.7307532e-03\n",
            "  4.7265100e-03 3.0385367e-05 1.0118145e-03 8.2340380e-03 2.1083408e-05\n",
            "  9.5649427e-01]]\n"
          ]
        },
        {
          "name": "stderr",
          "output_type": "stream",
          "text": [
            "\n",
            "\n",
            "tqdm() Progress Bar Segments: 1132it [09:57,  1.93it/s]\u001b[A\u001b[A"
          ]
        },
        {
          "name": "stdout",
          "output_type": "stream",
          "text": [
            "[[5.7150368e-03 4.7980326e-01 3.6644328e-02 1.7196726e-04 4.2630258e-01\n",
            "  2.2509236e-02 3.7826880e-04 1.0585587e-02 3.1513037e-04 4.4908945e-04\n",
            "  1.7125402e-02]]\n"
          ]
        },
        {
          "name": "stderr",
          "output_type": "stream",
          "text": [
            "\n",
            "\n",
            "tqdm() Progress Bar Segments: 1133it [09:58,  1.93it/s]\u001b[A\u001b[A"
          ]
        },
        {
          "name": "stdout",
          "output_type": "stream",
          "text": [
            "[[1.0565715e-03 5.8960676e-04 2.5811260e-06 1.6800730e-05 5.6198949e-04\n",
            "  7.3486441e-01 2.4890544e-01 3.3214209e-03 7.4883457e-05 1.0592841e-02\n",
            "  1.3454819e-05]]\n"
          ]
        },
        {
          "name": "stderr",
          "output_type": "stream",
          "text": [
            "\n",
            "\n",
            "tqdm() Progress Bar Segments: 1134it [09:58,  1.92it/s]\u001b[A\u001b[A"
          ]
        },
        {
          "name": "stdout",
          "output_type": "stream",
          "text": [
            "[[2.1486904e-03 2.3630333e-04 2.6778411e-04 2.0164674e-02 5.9654438e-01\n",
            "  6.7656953e-03 6.4919911e-02 3.2862549e-04 2.7912411e-01 1.7030902e-03\n",
            "  2.7796747e-02]]\n"
          ]
        },
        {
          "name": "stderr",
          "output_type": "stream",
          "text": [
            "\n",
            "\n",
            "tqdm() Progress Bar Segments: 1135it [09:59,  1.92it/s]\u001b[A\u001b[A"
          ]
        },
        {
          "name": "stdout",
          "output_type": "stream",
          "text": [
            "[[4.8928327e-05 1.6713334e-06 3.0400315e-07 2.7703044e-03 9.5841737e-04\n",
            "  1.2496544e-05 6.6848079e-05 9.9337353e-07 9.7826570e-01 1.4600078e-05\n",
            "  1.7859720e-02]]\n"
          ]
        },
        {
          "name": "stderr",
          "output_type": "stream",
          "text": [
            "\n",
            "\n",
            "tqdm() Progress Bar Segments: 1136it [09:59,  1.92it/s]\u001b[A\u001b[A"
          ]
        },
        {
          "name": "stdout",
          "output_type": "stream",
          "text": [
            "[[1.2688386e-02 1.4171378e-01 1.5147403e-04 5.1825610e-04 1.6092766e-02\n",
            "  5.3330028e-01 1.4043938e-03 2.6361585e-01 2.2783075e-04 2.8179677e-02\n",
            "  2.1072298e-03]]\n"
          ]
        },
        {
          "name": "stderr",
          "output_type": "stream",
          "text": [
            "\n",
            "\n",
            "tqdm() Progress Bar Segments: 1137it [10:00,  1.91it/s]\u001b[A\u001b[A"
          ]
        },
        {
          "name": "stdout",
          "output_type": "stream",
          "text": [
            "[[0.00786048 0.3345913  0.00177428 0.00119352 0.24752605 0.06839856\n",
            "  0.00750224 0.11765134 0.04391069 0.00212364 0.16746792]]\n"
          ]
        },
        {
          "name": "stderr",
          "output_type": "stream",
          "text": [
            "\n",
            "\n",
            "tqdm() Progress Bar Segments: 1138it [10:00,  1.93it/s]\u001b[A\u001b[A"
          ]
        },
        {
          "name": "stdout",
          "output_type": "stream",
          "text": [
            "[[0.00529425 0.00751158 0.00122812 0.00170035 0.2298394  0.01174033\n",
            "  0.00429572 0.03341036 0.09604605 0.00108455 0.60784924]]\n"
          ]
        },
        {
          "name": "stderr",
          "output_type": "stream",
          "text": [
            "\n",
            "\n",
            "tqdm() Progress Bar Segments: 1139it [10:01,  1.93it/s]\u001b[A\u001b[A"
          ]
        },
        {
          "name": "stdout",
          "output_type": "stream",
          "text": [
            "[[6.3086219e-02 4.1086741e-02 1.8927976e-04 5.3360556e-05 4.6769916e-03\n",
            "  8.7901884e-01 2.1688091e-03 4.1780295e-03 8.2826108e-04 1.5709347e-03\n",
            "  3.1424761e-03]]\n"
          ]
        },
        {
          "name": "stderr",
          "output_type": "stream",
          "text": [
            "\n",
            "\n",
            "tqdm() Progress Bar Segments: 1140it [10:01,  1.93it/s]\u001b[A\u001b[A"
          ]
        },
        {
          "name": "stdout",
          "output_type": "stream",
          "text": [
            "[[1.8577254e-03 5.5827433e-03 4.5283097e-05 2.1065015e-04 7.1870070e-03\n",
            "  3.1917505e-02 9.3241729e-04 9.5011055e-01 1.6272845e-04 4.2322298e-04\n",
            "  1.5701196e-03]]\n"
          ]
        },
        {
          "name": "stderr",
          "output_type": "stream",
          "text": [
            "\n",
            "\n",
            "tqdm() Progress Bar Segments: 1141it [10:02,  1.93it/s]\u001b[A\u001b[A"
          ]
        },
        {
          "name": "stdout",
          "output_type": "stream",
          "text": [
            "[[1.7678004e-03 1.5913449e-02 1.7007686e-04 2.1854033e-01 2.9525561e-02\n",
            "  3.8344816e-03 7.6131956e-03 4.9177977e-01 2.0319001e-01 2.4265613e-02\n",
            "  3.3996499e-03]]\n"
          ]
        },
        {
          "name": "stderr",
          "output_type": "stream",
          "text": [
            "\n",
            "\n",
            "tqdm() Progress Bar Segments: 1142it [10:03,  1.93it/s]\u001b[A\u001b[A"
          ]
        },
        {
          "name": "stdout",
          "output_type": "stream",
          "text": [
            "[[1.3740277e-03 4.9940037e-04 5.7455120e-05 7.0525506e-03 3.1692812e-01\n",
            "  1.7369976e-03 5.1350524e-03 2.0194260e-02 6.2419605e-01 3.2368305e-03\n",
            "  1.9589325e-02]]\n"
          ]
        },
        {
          "name": "stderr",
          "output_type": "stream",
          "text": [
            "\n",
            "\n",
            "tqdm() Progress Bar Segments: 1143it [10:03,  1.92it/s]\u001b[A\u001b[A"
          ]
        },
        {
          "name": "stdout",
          "output_type": "stream",
          "text": [
            "[[8.1667957e-07 6.8449987e-07 3.5900013e-07 2.9083643e-05 9.7100472e-01\n",
            "  1.8409488e-05 3.1409767e-03 5.9214663e-08 2.4406085e-02 2.5588831e-06\n",
            "  1.3961879e-03]]\n"
          ]
        },
        {
          "name": "stderr",
          "output_type": "stream",
          "text": [
            "\n",
            "\n",
            "tqdm() Progress Bar Segments: 1144it [10:04,  1.92it/s]\u001b[A\u001b[A"
          ]
        },
        {
          "name": "stdout",
          "output_type": "stream",
          "text": [
            "[[0.63769495 0.01431727 0.00066877 0.00131691 0.0353591  0.04982738\n",
            "  0.02141515 0.20206006 0.0019724  0.01342805 0.02193993]]\n"
          ]
        },
        {
          "name": "stderr",
          "output_type": "stream",
          "text": [
            "\n",
            "\n",
            "tqdm() Progress Bar Segments: 1145it [10:04,  1.93it/s]\u001b[A\u001b[A"
          ]
        },
        {
          "name": "stdout",
          "output_type": "stream",
          "text": [
            "[[4.3313103e-03 6.2756620e-02 3.9836272e-04 1.5129043e-04 8.2888150e-01\n",
            "  1.7285259e-02 1.1348573e-04 8.3888702e-02 3.4855286e-05 1.9824596e-03\n",
            "  1.7620248e-04]]\n"
          ]
        },
        {
          "name": "stderr",
          "output_type": "stream",
          "text": [
            "\n",
            "\n",
            "tqdm() Progress Bar Segments: 1146it [10:05,  1.91it/s]\u001b[A\u001b[A"
          ]
        },
        {
          "name": "stdout",
          "output_type": "stream",
          "text": [
            "[[7.6538390e-03 6.9662384e-03 1.6021106e-04 8.1396056e-03 1.5774290e-01\n",
            "  2.2782052e-03 8.9197507e-04 2.2710727e-01 2.8133863e-01 3.2415803e-04\n",
            "  3.0739689e-01]]\n"
          ]
        },
        {
          "name": "stderr",
          "output_type": "stream",
          "text": [
            "\n",
            "\n",
            "tqdm() Progress Bar Segments: 1147it [10:05,  1.92it/s]\u001b[A\u001b[A"
          ]
        },
        {
          "name": "stdout",
          "output_type": "stream",
          "text": [
            "[[8.6719991e-04 2.3696083e-04 2.2492027e-04 5.1687128e-04 1.9650051e-01\n",
            "  2.4533258e-03 4.4496868e-02 8.6988657e-05 1.6676407e-01 1.4266565e-04\n",
            "  5.8770961e-01]]\n"
          ]
        },
        {
          "name": "stderr",
          "output_type": "stream",
          "text": [
            "\n",
            "\n",
            "tqdm() Progress Bar Segments: 1148it [10:06,  1.92it/s]\u001b[A\u001b[A"
          ]
        },
        {
          "name": "stdout",
          "output_type": "stream",
          "text": [
            "[[6.30922950e-05 1.39000695e-05 7.24900474e-06 2.93007819e-03\n",
            "  1.92568704e-01 4.33468871e-04 9.65165254e-03 1.02741942e-05\n",
            "  7.79482782e-01 2.22025788e-04 1.46168871e-02]]\n"
          ]
        },
        {
          "name": "stderr",
          "output_type": "stream",
          "text": [
            "\n",
            "\n",
            "tqdm() Progress Bar Segments: 1149it [10:06,  1.92it/s]\u001b[A\u001b[A"
          ]
        },
        {
          "name": "stdout",
          "output_type": "stream",
          "text": [
            "[[1.6178428e-05 7.6835031e-06 6.2694721e-06 4.0722225e-04 9.6356332e-01\n",
            "  8.9753346e-05 2.6180926e-03 1.1617150e-06 2.4424681e-02 7.7149143e-06\n",
            "  8.8578518e-03]]\n"
          ]
        },
        {
          "name": "stderr",
          "output_type": "stream",
          "text": [
            "\n",
            "\n",
            "tqdm() Progress Bar Segments: 1150it [10:07,  1.92it/s]\u001b[A\u001b[A"
          ]
        },
        {
          "name": "stdout",
          "output_type": "stream",
          "text": [
            "[[3.6424570e-04 9.6724485e-05 1.2838842e-04 2.4814703e-04 6.1605495e-01\n",
            "  2.1534392e-03 5.7075424e-03 1.1607519e-05 4.8873541e-03 9.1643251e-06\n",
            "  3.7033847e-01]]\n"
          ]
        },
        {
          "name": "stderr",
          "output_type": "stream",
          "text": [
            "\n",
            "\n",
            "tqdm() Progress Bar Segments: 1151it [10:07,  1.93it/s]\u001b[A\u001b[A"
          ]
        },
        {
          "name": "stdout",
          "output_type": "stream",
          "text": [
            "[[5.9902952e-03 1.4243920e-03 4.5484683e-04 1.0353307e-03 2.2648603e-02\n",
            "  7.4692895e-03 7.1476190e-03 2.2126343e-03 1.0844946e-01 4.4831040e-04\n",
            "  8.4271920e-01]]\n"
          ]
        },
        {
          "name": "stderr",
          "output_type": "stream",
          "text": [
            "\n",
            "\n",
            "tqdm() Progress Bar Segments: 1152it [10:08,  1.93it/s]\u001b[A\u001b[A"
          ]
        },
        {
          "name": "stdout",
          "output_type": "stream",
          "text": [
            "[[3.01495573e-04 9.83926700e-04 7.49998208e-06 7.04346821e-05\n",
            "  1.29627180e-03 6.23872161e-01 3.54440212e-01 1.47005692e-02\n",
            "  3.16856633e-04 3.90950404e-03 1.01109064e-04]]\n"
          ]
        },
        {
          "name": "stderr",
          "output_type": "stream",
          "text": [
            "\n",
            "\n",
            "tqdm() Progress Bar Segments: 1153it [10:08,  1.93it/s]\u001b[A\u001b[A"
          ]
        },
        {
          "name": "stdout",
          "output_type": "stream",
          "text": [
            "[[5.0382694e-04 1.4480880e-04 1.9665675e-04 6.2165991e-03 7.3287135e-01\n",
            "  4.0424815e-03 4.4072680e-02 5.8907859e-05 1.6362071e-01 3.6563244e-04\n",
            "  4.7906257e-02]]\n"
          ]
        },
        {
          "name": "stderr",
          "output_type": "stream",
          "text": [
            "\n",
            "\n",
            "tqdm() Progress Bar Segments: 1154it [10:09,  1.95it/s]\u001b[A\u001b[A"
          ]
        },
        {
          "name": "stdout",
          "output_type": "stream",
          "text": [
            "[[1.7565873e-02 5.2885901e-02 1.4683495e-04 6.6064426e-04 4.6609107e-01\n",
            "  1.7602095e-01 5.6135480e-04 2.7251324e-01 2.1680548e-04 1.2812680e-02\n",
            "  5.2463176e-04]]\n"
          ]
        },
        {
          "name": "stderr",
          "output_type": "stream",
          "text": [
            "\n",
            "\n",
            "tqdm() Progress Bar Segments: 1155it [10:09,  1.95it/s]\u001b[A\u001b[A"
          ]
        },
        {
          "name": "stdout",
          "output_type": "stream",
          "text": [
            "[[1.26229716e-03 2.02984185e-04 1.62121345e-04 1.47615574e-04\n",
            "  1.11933924e-01 2.78382213e-03 4.15112963e-03 1.17463445e-04\n",
            "  3.00063714e-02 5.44479080e-05 8.49177778e-01]]\n"
          ]
        },
        {
          "name": "stderr",
          "output_type": "stream",
          "text": [
            "\n",
            "\n",
            "tqdm() Progress Bar Segments: 1156it [10:10,  1.94it/s]\u001b[A\u001b[A"
          ]
        },
        {
          "name": "stdout",
          "output_type": "stream",
          "text": [
            "[[5.1405292e-04 1.6853484e-04 3.7179836e-06 9.9631194e-05 4.4443071e-04\n",
            "  1.5002342e-01 8.2719666e-01 1.2845595e-02 1.0715781e-04 8.5767619e-03\n",
            "  2.0084321e-05]]\n"
          ]
        },
        {
          "name": "stderr",
          "output_type": "stream",
          "text": [
            "\n",
            "\n",
            "tqdm() Progress Bar Segments: 1157it [10:10,  1.94it/s]\u001b[A\u001b[A"
          ]
        },
        {
          "name": "stdout",
          "output_type": "stream",
          "text": [
            "[[4.3371087e-03 7.0511235e-04 4.4055597e-04 6.4389026e-03 4.0664732e-02\n",
            "  1.1779959e-02 1.2325186e-02 1.1838262e-03 2.2738282e-01 8.8981510e-04\n",
            "  6.9385207e-01]]\n"
          ]
        },
        {
          "name": "stderr",
          "output_type": "stream",
          "text": [
            "\n",
            "\n",
            "tqdm() Progress Bar Segments: 1158it [10:11,  1.90it/s]\u001b[A\u001b[A"
          ]
        },
        {
          "name": "stdout",
          "output_type": "stream",
          "text": [
            "[[6.1617303e-04 3.4076790e-04 1.5849258e-04 4.9079565e-04 4.7737107e-01\n",
            "  1.0684134e-03 2.1936832e-02 4.6189403e-04 1.5241727e-01 3.2732394e-04\n",
            "  3.4481096e-01]]\n"
          ]
        },
        {
          "name": "stderr",
          "output_type": "stream",
          "text": [
            "\n",
            "\n",
            "tqdm() Progress Bar Segments: 1159it [10:11,  1.90it/s]\u001b[A\u001b[A"
          ]
        },
        {
          "name": "stdout",
          "output_type": "stream",
          "text": [
            "[[3.06197815e-03 1.15051353e-03 2.16706280e-06 2.23204377e-04\n",
            "  1.05833085e-02 1.43910855e-01 4.74993227e-04 3.44946265e-01\n",
            "  7.74132786e-04 4.94750470e-01 1.22086814e-04]]\n"
          ]
        },
        {
          "name": "stderr",
          "output_type": "stream",
          "text": [
            "\n",
            "\n",
            "tqdm() Progress Bar Segments: 1160it [10:12,  1.91it/s]\u001b[A\u001b[A"
          ]
        },
        {
          "name": "stdout",
          "output_type": "stream",
          "text": [
            "[[4.40498161e-06 1.36395960e-04 1.00171697e-07 1.06874231e-05\n",
            "  1.80076138e-04 1.39193535e-05 8.56600309e-07 9.99571502e-01\n",
            "  8.23507617e-06 3.71998681e-06 7.00894016e-05]]\n"
          ]
        },
        {
          "name": "stderr",
          "output_type": "stream",
          "text": [
            "\n",
            "\n",
            "tqdm() Progress Bar Segments: 1161it [10:12,  1.91it/s]\u001b[A\u001b[A"
          ]
        },
        {
          "name": "stdout",
          "output_type": "stream",
          "text": [
            "[[4.8153279e-03 3.7333596e-02 1.4925386e-03 6.8475516e-04 7.2767362e-02\n",
            "  9.9092521e-02 1.2338618e-03 1.4776457e-02 1.1725118e-02 6.6013064e-04\n",
            "  7.5541836e-01]]\n"
          ]
        },
        {
          "name": "stderr",
          "output_type": "stream",
          "text": [
            "\n",
            "\n",
            "tqdm() Progress Bar Segments: 1162it [10:13,  1.92it/s]\u001b[A\u001b[A"
          ]
        },
        {
          "name": "stdout",
          "output_type": "stream",
          "text": [
            "[[5.9362606e-04 7.4894764e-05 1.5688012e-04 4.3628691e-03 7.1265948e-01\n",
            "  2.7044741e-03 1.2032783e-02 3.0187584e-05 4.8041839e-02 4.6903715e-05\n",
            "  2.1929601e-01]]\n"
          ]
        },
        {
          "name": "stderr",
          "output_type": "stream",
          "text": [
            "\n",
            "\n",
            "tqdm() Progress Bar Segments: 1163it [10:13,  1.93it/s]\u001b[A\u001b[A"
          ]
        },
        {
          "name": "stdout",
          "output_type": "stream",
          "text": [
            "[[3.6874492e-04 7.3541094e-05 3.2466498e-05 1.9986576e-03 5.6130266e-01\n",
            "  1.3656295e-03 7.8398660e-03 2.0151834e-05 3.4666309e-01 1.5301969e-04\n",
            "  8.0182135e-02]]\n"
          ]
        },
        {
          "name": "stderr",
          "output_type": "stream",
          "text": [
            "\n",
            "\n",
            "tqdm() Progress Bar Segments: 1164it [10:14,  1.92it/s]\u001b[A\u001b[A"
          ]
        },
        {
          "name": "stdout",
          "output_type": "stream",
          "text": [
            "[[4.4130646e-03 8.4721902e-04 2.4242579e-05 1.9145269e-04 1.3598349e-02\n",
            "  3.5446766e-03 1.7115584e-04 9.5678669e-01 1.8314989e-03 4.7438598e-04\n",
            "  1.8117184e-02]]\n"
          ]
        },
        {
          "name": "stderr",
          "output_type": "stream",
          "text": [
            "\n",
            "\n",
            "tqdm() Progress Bar Segments: 1165it [10:14,  1.94it/s]\u001b[A\u001b[A"
          ]
        },
        {
          "name": "stdout",
          "output_type": "stream",
          "text": [
            "[[5.3156178e-02 2.5973031e-03 4.5648601e-05 2.2592429e-04 9.0580635e-02\n",
            "  2.8023173e-03 1.6129721e-04 5.6366354e-01 6.2908381e-03 1.8608632e-03\n",
            "  2.7861536e-01]]\n"
          ]
        },
        {
          "name": "stderr",
          "output_type": "stream",
          "text": [
            "\n",
            "\n",
            "tqdm() Progress Bar Segments: 1166it [10:15,  1.94it/s]\u001b[A\u001b[A"
          ]
        },
        {
          "name": "stdout",
          "output_type": "stream",
          "text": [
            "[[0.01295256 0.07354568 0.00197255 0.00264649 0.13479482 0.12238294\n",
            "  0.00954479 0.243043   0.079799   0.00277953 0.31653866]]\n"
          ]
        },
        {
          "name": "stderr",
          "output_type": "stream",
          "text": [
            "\n",
            "\n",
            "tqdm() Progress Bar Segments: 1167it [10:15,  1.95it/s]\u001b[A\u001b[A"
          ]
        },
        {
          "name": "stdout",
          "output_type": "stream",
          "text": [
            "[[7.4494681e-05 4.4099297e-06 1.9876514e-05 5.6971181e-03 8.8578856e-01\n",
            "  7.5268792e-05 3.0340224e-03 2.2205184e-06 2.8417865e-02 5.8246724e-06\n",
            "  7.6880373e-02]]\n"
          ]
        },
        {
          "name": "stderr",
          "output_type": "stream",
          "text": [
            "\n",
            "\n",
            "tqdm() Progress Bar Segments: 1168it [10:16,  1.95it/s]\u001b[A\u001b[A"
          ]
        },
        {
          "name": "stdout",
          "output_type": "stream",
          "text": [
            "[[0.00530791 0.03477821 0.00075574 0.00048295 0.21778762 0.44641\n",
            "  0.00971961 0.02865365 0.03762275 0.00578255 0.21269897]]\n"
          ]
        },
        {
          "name": "stderr",
          "output_type": "stream",
          "text": [
            "\n",
            "\n",
            "tqdm() Progress Bar Segments: 1169it [10:17,  1.96it/s]\u001b[A\u001b[A"
          ]
        },
        {
          "name": "stdout",
          "output_type": "stream",
          "text": [
            "[[4.9648498e-04 4.7099027e-03 1.0080429e-05 9.2078681e-04 7.9702092e-03\n",
            "  3.0183839e-02 1.4329550e-04 9.4732517e-01 1.4979078e-03 5.3527928e-03\n",
            "  1.3894764e-03]]\n"
          ]
        },
        {
          "name": "stderr",
          "output_type": "stream",
          "text": [
            "\n",
            "\n",
            "tqdm() Progress Bar Segments: 1170it [10:17,  1.93it/s]\u001b[A\u001b[A"
          ]
        },
        {
          "name": "stdout",
          "output_type": "stream",
          "text": [
            "[[1.1603371e-03 9.2966104e-05 1.7972107e-04 7.1989242e-03 8.8756186e-01\n",
            "  2.3435152e-03 4.6350630e-03 2.8558788e-05 2.7617170e-02 7.7697048e-05\n",
            "  6.9104105e-02]]\n"
          ]
        },
        {
          "name": "stderr",
          "output_type": "stream",
          "text": [
            "\n",
            "\n",
            "tqdm() Progress Bar Segments: 1171it [10:18,  1.92it/s]\u001b[A\u001b[A"
          ]
        },
        {
          "name": "stdout",
          "output_type": "stream",
          "text": [
            "[[3.9397029e-05 1.2038722e-05 1.2657930e-05 5.1870150e-04 9.7490740e-01\n",
            "  2.6976544e-04 3.0608717e-03 1.6948062e-06 1.1755400e-02 1.3517129e-05\n",
            "  9.4085941e-03]]\n"
          ]
        },
        {
          "name": "stderr",
          "output_type": "stream",
          "text": [
            "\n",
            "\n",
            "tqdm() Progress Bar Segments: 1172it [10:18,  1.84it/s]\u001b[A\u001b[A"
          ]
        },
        {
          "name": "stdout",
          "output_type": "stream",
          "text": [
            "[[7.1116477e-01 6.4586229e-03 2.4357799e-04 2.7812558e-04 3.9670444e-03\n",
            "  2.4902265e-01 5.6460742e-03 4.1295742e-03 2.4333571e-03 4.4316248e-04\n",
            "  1.6212955e-02]]\n"
          ]
        },
        {
          "name": "stderr",
          "output_type": "stream",
          "text": [
            "\n",
            "\n",
            "tqdm() Progress Bar Segments: 1173it [10:19,  1.85it/s]\u001b[A\u001b[A"
          ]
        },
        {
          "name": "stdout",
          "output_type": "stream",
          "text": [
            "[[3.0240255e-06 6.2806954e-05 2.9761400e-08 1.6055044e-04 1.3616690e-05\n",
            "  1.3162981e-05 3.9741403e-07 9.9971181e-01 5.0512422e-06 2.6404472e-05\n",
            "  3.2401379e-06]]\n"
          ]
        },
        {
          "name": "stderr",
          "output_type": "stream",
          "text": [
            "\n",
            "\n",
            "tqdm() Progress Bar Segments: 1174it [10:19,  1.88it/s]\u001b[A\u001b[A"
          ]
        },
        {
          "name": "stdout",
          "output_type": "stream",
          "text": [
            "[[1.4078194e-02 3.5577134e-04 4.8786784e-05 1.2855083e-03 1.1711838e-01\n",
            "  1.5340181e-03 5.4290082e-04 3.3517495e-01 2.4543066e-01 1.0063114e-03\n",
            "  2.8342447e-01]]\n"
          ]
        },
        {
          "name": "stderr",
          "output_type": "stream",
          "text": [
            "\n",
            "\n",
            "tqdm() Progress Bar Segments: 1175it [10:20,  1.88it/s]\u001b[A\u001b[A"
          ]
        },
        {
          "name": "stdout",
          "output_type": "stream",
          "text": [
            "[[0.00408767 0.00073272 0.00178124 0.0399757  0.35823256 0.01363459\n",
            "  0.15577419 0.00074719 0.32590348 0.00289935 0.0962313 ]]\n"
          ]
        },
        {
          "name": "stderr",
          "output_type": "stream",
          "text": [
            "\n",
            "\n",
            "tqdm() Progress Bar Segments: 1176it [10:20,  1.89it/s]\u001b[A\u001b[A"
          ]
        },
        {
          "name": "stdout",
          "output_type": "stream",
          "text": [
            "[[1.3095245e-03 2.8943171e-04 2.3098846e-04 1.6790895e-02 2.8439990e-01\n",
            "  3.4228459e-03 2.9500306e-02 1.7464580e-04 6.1222082e-01 1.2766136e-03\n",
            "  5.0384086e-02]]\n"
          ]
        },
        {
          "name": "stderr",
          "output_type": "stream",
          "text": [
            "\n",
            "\n",
            "tqdm() Progress Bar Segments: 1177it [10:21,  1.90it/s]\u001b[A\u001b[A"
          ]
        },
        {
          "name": "stdout",
          "output_type": "stream",
          "text": [
            "[[4.6386576e-04 4.7722860e-05 7.7351775e-05 5.5967835e-03 3.2324353e-01\n",
            "  1.7984014e-03 3.5328444e-02 3.4336954e-05 5.5373853e-01 6.4864749e-04\n",
            "  7.9022393e-02]]\n"
          ]
        },
        {
          "name": "stderr",
          "output_type": "stream",
          "text": [
            "\n",
            "\n",
            "tqdm() Progress Bar Segments: 1178it [10:21,  1.91it/s]\u001b[A\u001b[A"
          ]
        },
        {
          "name": "stdout",
          "output_type": "stream",
          "text": [
            "[[0.0648984  0.2289649  0.23510359 0.00453798 0.15736923 0.10966077\n",
            "  0.01250126 0.02734452 0.01266429 0.00642407 0.14053094]]\n"
          ]
        },
        {
          "name": "stderr",
          "output_type": "stream",
          "text": [
            "\n",
            "\n",
            "tqdm() Progress Bar Segments: 1179it [10:22,  1.91it/s]\u001b[A\u001b[A"
          ]
        },
        {
          "name": "stdout",
          "output_type": "stream",
          "text": [
            "[[0.06726399 0.23095652 0.2862466  0.00093845 0.28302696 0.09399134\n",
            "  0.00824126 0.00761984 0.0015739  0.00186391 0.0182773 ]]\n"
          ]
        },
        {
          "name": "stderr",
          "output_type": "stream",
          "text": [
            "\n",
            "\n",
            "tqdm() Progress Bar Segments: 1180it [10:22,  1.91it/s]\u001b[A\u001b[A"
          ]
        },
        {
          "name": "stdout",
          "output_type": "stream",
          "text": [
            "[[1.26989968e-02 3.91155155e-03 1.04883593e-05 4.76963687e-05\n",
            "  7.46024889e-04 8.80332947e-01 9.46514979e-02 6.35168795e-03\n",
            "  1.34168426e-04 1.00883457e-03 1.06173924e-04]]\n"
          ]
        },
        {
          "name": "stderr",
          "output_type": "stream",
          "text": [
            "\n",
            "\n",
            "tqdm() Progress Bar Segments: 1181it [10:23,  1.92it/s]\u001b[A\u001b[A"
          ]
        },
        {
          "name": "stdout",
          "output_type": "stream",
          "text": [
            "[[3.0796274e-03 8.2250098e-03 2.9650244e-03 1.1579797e-03 9.7374558e-01\n",
            "  1.0950282e-03 1.0691453e-03 4.7790427e-03 9.9181861e-04 5.4994668e-04\n",
            "  2.3418271e-03]]\n"
          ]
        },
        {
          "name": "stderr",
          "output_type": "stream",
          "text": [
            "\n",
            "\n",
            "tqdm() Progress Bar Segments: 1182it [10:23,  1.93it/s]\u001b[A\u001b[A"
          ]
        },
        {
          "name": "stdout",
          "output_type": "stream",
          "text": [
            "[[8.7026246e-03 1.7861435e-02 9.4531744e-05 1.1778227e-03 8.5306270e-03\n",
            "  4.4311117e-02 2.0633990e-04 9.0207738e-01 9.7639719e-04 8.2371419e-04\n",
            "  1.5237878e-02]]\n"
          ]
        },
        {
          "name": "stderr",
          "output_type": "stream",
          "text": [
            "\n",
            "\n",
            "tqdm() Progress Bar Segments: 1183it [10:24,  1.94it/s]\u001b[A\u001b[A"
          ]
        },
        {
          "name": "stdout",
          "output_type": "stream",
          "text": [
            "[[1.0218256e-03 9.9733472e-05 1.2385155e-04 5.1592295e-03 6.9027919e-01\n",
            "  1.5533502e-03 2.7814666e-03 2.4301893e-05 1.3768324e-01 1.0119841e-04\n",
            "  1.6117260e-01]]\n"
          ]
        },
        {
          "name": "stderr",
          "output_type": "stream",
          "text": [
            "\n",
            "\n",
            "tqdm() Progress Bar Segments: 1184it [10:24,  1.93it/s]\u001b[A\u001b[A"
          ]
        },
        {
          "name": "stdout",
          "output_type": "stream",
          "text": [
            "[[4.22185520e-04 2.00963905e-03 1.46529856e-05 3.39825056e-05\n",
            "  3.98866134e-03 9.76207852e-01 9.08424798e-03 3.67970834e-03\n",
            "  1.06330175e-04 4.35650256e-03 9.62523191e-05]]\n"
          ]
        },
        {
          "name": "stderr",
          "output_type": "stream",
          "text": [
            "\n",
            "\n",
            "tqdm() Progress Bar Segments: 1185it [10:25,  1.92it/s]\u001b[A\u001b[A"
          ]
        },
        {
          "name": "stdout",
          "output_type": "stream",
          "text": [
            "[[8.1242197e-06 1.0141957e-03 8.2173705e-07 8.4525710e-03 6.6642009e-05\n",
            "  2.2320894e-05 7.5321200e-06 9.9027741e-01 3.8568294e-05 1.0333841e-04\n",
            "  8.6029358e-06]]\n"
          ]
        },
        {
          "name": "stderr",
          "output_type": "stream",
          "text": [
            "\n",
            "\n",
            "tqdm() Progress Bar Segments: 1186it [10:25,  1.93it/s]\u001b[A\u001b[A"
          ]
        },
        {
          "name": "stdout",
          "output_type": "stream",
          "text": [
            "[[9.8482501e-03 6.9871754e-03 1.0625855e-02 2.2143871e-03 9.5765537e-01\n",
            "  1.1544838e-03 1.5257436e-03 5.8735912e-03 1.2382123e-03 9.0296334e-04\n",
            "  1.9739799e-03]]\n"
          ]
        },
        {
          "name": "stderr",
          "output_type": "stream",
          "text": [
            "\n",
            "\n",
            "tqdm() Progress Bar Segments: 1187it [10:26,  1.93it/s]\u001b[A\u001b[A"
          ]
        },
        {
          "name": "stdout",
          "output_type": "stream",
          "text": [
            "[[7.3447176e-03 4.3830927e-02 5.4229418e-05 3.2425518e-04 1.7689303e-02\n",
            "  5.0995016e-01 1.3689623e-03 3.9879990e-01 2.0501659e-04 2.0158738e-02\n",
            "  2.7383110e-04]]\n"
          ]
        },
        {
          "name": "stderr",
          "output_type": "stream",
          "text": [
            "\n",
            "\n",
            "tqdm() Progress Bar Segments: 1188it [10:26,  1.94it/s]\u001b[A\u001b[A"
          ]
        },
        {
          "name": "stdout",
          "output_type": "stream",
          "text": [
            "[[4.0462334e-04 9.3754810e-05 1.3055690e-04 9.1484038e-04 9.3518716e-01\n",
            "  1.9827406e-03 7.8128008e-03 2.2440337e-05 1.9447021e-02 3.4971126e-05\n",
            "  3.3969056e-02]]\n"
          ]
        },
        {
          "name": "stderr",
          "output_type": "stream",
          "text": [
            "\n",
            "\n",
            "tqdm() Progress Bar Segments: 1189it [10:27,  1.95it/s]\u001b[A\u001b[A"
          ]
        },
        {
          "name": "stdout",
          "output_type": "stream",
          "text": [
            "[[0.6526461  0.00524874 0.00126086 0.00177533 0.05456503 0.07518368\n",
            "  0.02210046 0.07894677 0.01042934 0.01650454 0.0813392 ]]\n"
          ]
        },
        {
          "name": "stderr",
          "output_type": "stream",
          "text": [
            "\n",
            "\n",
            "tqdm() Progress Bar Segments: 1190it [10:27,  1.96it/s]\u001b[A\u001b[A"
          ]
        },
        {
          "name": "stdout",
          "output_type": "stream",
          "text": [
            "[[2.31560296e-03 2.01952193e-04 1.17495525e-04 2.00886090e-04\n",
            "  1.75548494e-02 4.52498160e-03 7.82060344e-03 1.46530976e-04\n",
            "  3.25274281e-02 5.90515629e-05 9.34530675e-01]]\n"
          ]
        },
        {
          "name": "stderr",
          "output_type": "stream",
          "text": [
            "\n",
            "\n",
            "tqdm() Progress Bar Segments: 1191it [10:28,  1.96it/s]\u001b[A\u001b[A"
          ]
        },
        {
          "name": "stdout",
          "output_type": "stream",
          "text": [
            "[[8.1046965e-05 3.0597177e-05 3.9773604e-05 3.1281423e-03 6.6767508e-01\n",
            "  2.1276418e-04 4.5913085e-02 1.0775553e-05 2.5258449e-01 5.3649092e-05\n",
            "  3.0270712e-02]]\n"
          ]
        },
        {
          "name": "stderr",
          "output_type": "stream",
          "text": [
            "\n",
            "\n",
            "tqdm() Progress Bar Segments: 1192it [10:29,  1.95it/s]\u001b[A\u001b[A"
          ]
        },
        {
          "name": "stdout",
          "output_type": "stream",
          "text": [
            "[[3.8650044e-04 4.1618106e-05 1.2963735e-04 3.4559695e-03 8.0837005e-01\n",
            "  1.4637528e-03 8.5750937e-02 3.1944877e-05 9.4462752e-02 5.3618627e-04\n",
            "  5.3706449e-03]]\n"
          ]
        },
        {
          "name": "stderr",
          "output_type": "stream",
          "text": [
            "\n",
            "\n",
            "tqdm() Progress Bar Segments: 1193it [10:29,  1.95it/s]\u001b[A\u001b[A"
          ]
        },
        {
          "name": "stdout",
          "output_type": "stream",
          "text": [
            "[[3.0712299e-03 8.4266701e-04 8.4288395e-06 2.8749992e-04 4.6985894e-03\n",
            "  7.3036164e-02 2.1702132e-01 6.4708650e-01 9.8036067e-04 5.2801572e-02\n",
            "  1.6567671e-04]]\n"
          ]
        },
        {
          "name": "stderr",
          "output_type": "stream",
          "text": [
            "\n",
            "\n",
            "tqdm() Progress Bar Segments: 1194it [10:30,  1.95it/s]\u001b[A\u001b[A"
          ]
        },
        {
          "name": "stdout",
          "output_type": "stream",
          "text": [
            "[[5.5580269e-05 6.7091538e-03 7.8813573e-06 2.1506690e-04 1.3549179e-03\n",
            "  1.4003468e-03 4.6728888e-05 9.8913747e-01 1.4622950e-04 3.8968661e-04\n",
            "  5.3703308e-04]]\n"
          ]
        },
        {
          "name": "stderr",
          "output_type": "stream",
          "text": [
            "\n",
            "\n",
            "tqdm() Progress Bar Segments: 1195it [10:30,  1.93it/s]\u001b[A\u001b[A"
          ]
        },
        {
          "name": "stdout",
          "output_type": "stream",
          "text": [
            "[[3.3981694e-05 8.9264813e-06 7.3289621e-06 5.8012374e-04 2.2559978e-01\n",
            "  2.6304196e-04 2.1672051e-02 1.5491343e-05 7.4611408e-01 1.5334514e-04\n",
            "  5.5518448e-03]]\n"
          ]
        },
        {
          "name": "stderr",
          "output_type": "stream",
          "text": [
            "\n",
            "\n",
            "tqdm() Progress Bar Segments: 1196it [10:31,  1.95it/s]\u001b[A\u001b[A"
          ]
        },
        {
          "name": "stdout",
          "output_type": "stream",
          "text": [
            "[[1.3958666e-02 1.1776271e-03 5.8153782e-06 3.3127362e-05 1.2621040e-03\n",
            "  9.3633652e-01 4.3478172e-02 3.1442407e-03 1.9122002e-04 2.3579714e-04\n",
            "  1.7674574e-04]]\n"
          ]
        },
        {
          "name": "stderr",
          "output_type": "stream",
          "text": [
            "\n",
            "\n",
            "tqdm() Progress Bar Segments: 1197it [10:31,  1.95it/s]\u001b[A\u001b[A"
          ]
        },
        {
          "name": "stdout",
          "output_type": "stream",
          "text": [
            "[[3.1155385e-05 1.0944984e-04 3.0964387e-07 1.2366317e-04 7.0826434e-05\n",
            "  4.5594861e-05 2.2048034e-06 9.9944657e-01 4.4190580e-05 1.2041280e-05\n",
            "  1.1408073e-04]]\n"
          ]
        },
        {
          "name": "stderr",
          "output_type": "stream",
          "text": [
            "\n",
            "\n",
            "tqdm() Progress Bar Segments: 1198it [10:32,  1.96it/s]\u001b[A\u001b[A"
          ]
        },
        {
          "name": "stdout",
          "output_type": "stream",
          "text": [
            "[[3.8351264e-02 2.1574742e-03 3.1250151e-05 8.8757042e-05 2.8150068e-03\n",
            "  9.4875425e-01 1.4955557e-03 2.4961552e-03 5.3380121e-04 2.2101100e-03\n",
            "  1.0663564e-03]]\n"
          ]
        },
        {
          "name": "stderr",
          "output_type": "stream",
          "text": [
            "\n",
            "\n",
            "tqdm() Progress Bar Segments: 1199it [10:32,  1.95it/s]\u001b[A\u001b[A"
          ]
        },
        {
          "name": "stdout",
          "output_type": "stream",
          "text": [
            "[[1.5714781e-03 4.7172927e-03 2.8751379e-05 2.3676101e-05 1.7377475e-02\n",
            "  5.0564003e-03 6.5902939e-05 2.9685865e-03 8.6326599e-03 6.3575826e-05\n",
            "  9.5949417e-01]]\n"
          ]
        },
        {
          "name": "stderr",
          "output_type": "stream",
          "text": [
            "\n",
            "\n",
            "tqdm() Progress Bar Segments: 1200it [10:33,  1.95it/s]\u001b[A\u001b[A"
          ]
        },
        {
          "name": "stdout",
          "output_type": "stream",
          "text": [
            "[[2.6259099e-03 3.7186217e-04 2.5471547e-06 1.5023851e-05 1.9065014e-04\n",
            "  6.3100469e-01 3.6337447e-01 2.1805419e-03 7.3993018e-05 1.4442958e-04\n",
            "  1.5811127e-05]]\n"
          ]
        },
        {
          "name": "stderr",
          "output_type": "stream",
          "text": [
            "\n",
            "\n",
            "tqdm() Progress Bar Segments: 1201it [10:33,  1.87it/s]\u001b[A\u001b[A"
          ]
        },
        {
          "name": "stdout",
          "output_type": "stream",
          "text": [
            "[[3.0288061e-03 7.5395277e-05 2.0820707e-07 1.3368893e-06 4.7860762e-05\n",
            "  9.9008405e-01 5.6106145e-03 5.1704241e-04 5.5536580e-06 6.2657520e-04\n",
            "  2.5406237e-06]]\n"
          ]
        },
        {
          "name": "stderr",
          "output_type": "stream",
          "text": [
            "\n",
            "\n",
            "tqdm() Progress Bar Segments: 1202it [10:34,  1.88it/s]\u001b[A\u001b[A"
          ]
        },
        {
          "name": "stdout",
          "output_type": "stream",
          "text": [
            "[[9.9504218e-03 1.7314766e-01 3.3107659e-04 6.8086709e-05 5.3545039e-02\n",
            "  7.5357145e-01 1.5746322e-03 6.4759213e-03 8.5117390e-05 8.6936314e-04\n",
            "  3.8114062e-04]]\n"
          ]
        },
        {
          "name": "stderr",
          "output_type": "stream",
          "text": [
            "\n",
            "\n",
            "tqdm() Progress Bar Segments: 1203it [10:34,  1.81it/s]\u001b[A\u001b[A"
          ]
        },
        {
          "name": "stdout",
          "output_type": "stream",
          "text": [
            "[[3.2694556e-03 4.0168921e-04 3.4884386e-07 2.9601067e-06 1.9142569e-04\n",
            "  9.9126023e-01 2.6877488e-03 1.6450646e-03 1.5191293e-05 5.1819475e-04\n",
            "  7.7500636e-06]]\n"
          ]
        },
        {
          "name": "stderr",
          "output_type": "stream",
          "text": [
            "\n",
            "\n",
            "tqdm() Progress Bar Segments: 1204it [10:35,  1.85it/s]\u001b[A\u001b[A"
          ]
        },
        {
          "name": "stdout",
          "output_type": "stream",
          "text": [
            "[[2.8694682e-03 1.2334657e-03 6.1265541e-06 7.1268914e-05 2.8719294e-03\n",
            "  9.1849566e-01 1.0825223e-02 3.5364773e-02 8.2416879e-04 2.7351622e-02\n",
            "  8.6283275e-05]]\n"
          ]
        },
        {
          "name": "stderr",
          "output_type": "stream",
          "text": [
            "\n",
            "\n",
            "tqdm() Progress Bar Segments: 1205it [10:35,  1.86it/s]\u001b[A\u001b[A"
          ]
        },
        {
          "name": "stdout",
          "output_type": "stream",
          "text": [
            "[[1.5367119e-04 1.8002575e-05 2.8043578e-05 2.3682858e-03 6.0518646e-01\n",
            "  5.0805742e-04 2.7824715e-02 1.0301683e-05 3.5117215e-01 3.0310382e-04\n",
            "  1.2427164e-02]]\n"
          ]
        },
        {
          "name": "stderr",
          "output_type": "stream",
          "text": [
            "\n",
            "\n",
            "tqdm() Progress Bar Segments: 1206it [10:36,  1.87it/s]\u001b[A\u001b[A"
          ]
        },
        {
          "name": "stdout",
          "output_type": "stream",
          "text": [
            "[[2.3105948e-03 3.5467002e-04 1.5255461e-04 1.1161815e-03 3.4936473e-01\n",
            "  5.2118250e-03 3.3820990e-02 8.7611558e-04 3.3220086e-01 7.6529273e-04\n",
            "  2.7382621e-01]]\n"
          ]
        },
        {
          "name": "stderr",
          "output_type": "stream",
          "text": [
            "\n",
            "\n",
            "tqdm() Progress Bar Segments: 1207it [10:36,  1.88it/s]\u001b[A\u001b[A"
          ]
        },
        {
          "name": "stdout",
          "output_type": "stream",
          "text": [
            "[[1.4186713e-04 1.5809889e-04 2.9411535e-06 3.9055714e-04 1.5408582e-02\n",
            "  7.4862136e-04 2.4888106e-04 9.1484219e-01 6.0464375e-02 6.9026439e-04\n",
            "  6.9036745e-03]]\n"
          ]
        },
        {
          "name": "stderr",
          "output_type": "stream",
          "text": [
            "\n",
            "\n",
            "tqdm() Progress Bar Segments: 1208it [10:37,  1.88it/s]\u001b[A\u001b[A"
          ]
        },
        {
          "name": "stdout",
          "output_type": "stream",
          "text": [
            "[[3.0476092e-05 9.1843385e-06 4.0065779e-06 1.2599620e-03 7.7570099e-01\n",
            "  9.4953524e-05 2.5616288e-03 2.4596443e-06 1.6594678e-01 1.3689297e-05\n",
            "  5.4375906e-02]]\n"
          ]
        },
        {
          "name": "stderr",
          "output_type": "stream",
          "text": [
            "\n",
            "\n",
            "tqdm() Progress Bar Segments: 1209it [10:37,  1.89it/s]\u001b[A\u001b[A"
          ]
        },
        {
          "name": "stdout",
          "output_type": "stream",
          "text": [
            "[[3.5331189e-04 5.4313741e-06 4.6259359e-07 1.7282720e-06 2.9247734e-05\n",
            "  1.2843403e-04 4.1444994e-07 3.6206188e-06 4.0240595e-03 3.5190183e-07\n",
            "  9.9545300e-01]]\n"
          ]
        },
        {
          "name": "stderr",
          "output_type": "stream",
          "text": [
            "\n",
            "\n",
            "tqdm() Progress Bar Segments: 1210it [10:38,  1.90it/s]\u001b[A\u001b[A"
          ]
        },
        {
          "name": "stdout",
          "output_type": "stream",
          "text": [
            "[[2.5733276e-03 2.5543235e-03 1.7334681e-03 2.8303204e-04 9.4369173e-01\n",
            "  3.6461507e-03 8.9124730e-04 5.0440282e-03 2.6402252e-03 3.6030859e-04\n",
            "  3.6582116e-02]]\n"
          ]
        },
        {
          "name": "stderr",
          "output_type": "stream",
          "text": [
            "\n",
            "\n",
            "tqdm() Progress Bar Segments: 1211it [10:39,  1.92it/s]\u001b[A\u001b[A"
          ]
        },
        {
          "name": "stdout",
          "output_type": "stream",
          "text": [
            "[[1.2230805e-04 2.4102817e-05 3.0227236e-05 1.7660572e-03 9.5237720e-01\n",
            "  6.7486108e-04 2.7096760e-03 5.2145338e-06 1.7699771e-02 2.0680525e-05\n",
            "  2.4569985e-02]]\n"
          ]
        },
        {
          "name": "stderr",
          "output_type": "stream",
          "text": [
            "\n",
            "\n",
            "tqdm() Progress Bar Segments: 1212it [10:39,  1.92it/s]\u001b[A\u001b[A"
          ]
        },
        {
          "name": "stdout",
          "output_type": "stream",
          "text": [
            "[[2.1508044e-05 9.6078482e-05 1.2516895e-07 2.6814704e-04 2.6558559e-05\n",
            "  8.9992747e-05 8.2626798e-07 9.9939084e-01 1.9742105e-05 5.3104533e-05\n",
            "  3.3025313e-05]]\n"
          ]
        },
        {
          "name": "stderr",
          "output_type": "stream",
          "text": [
            "\n",
            "\n",
            "tqdm() Progress Bar Segments: 1213it [10:40,  1.93it/s]\u001b[A\u001b[A"
          ]
        },
        {
          "name": "stdout",
          "output_type": "stream",
          "text": [
            "[[2.8693969e-03 7.9118498e-03 2.8019159e-03 5.6606735e-04 8.9826536e-01\n",
            "  1.0676354e-02 3.5240643e-03 8.6459350e-03 4.8879422e-03 4.6148620e-04\n",
            "  5.9389777e-02]]\n"
          ]
        },
        {
          "name": "stderr",
          "output_type": "stream",
          "text": [
            "\n",
            "\n",
            "tqdm() Progress Bar Segments: 1214it [10:40,  1.92it/s]\u001b[A\u001b[A"
          ]
        },
        {
          "name": "stdout",
          "output_type": "stream",
          "text": [
            "[[1.5930252e-03 6.7188837e-02 3.2246410e-04 1.3042091e-04 6.9752522e-02\n",
            "  8.0693722e-01 3.6314613e-04 5.0426494e-02 1.1866401e-04 4.8637582e-04\n",
            "  2.6808644e-03]]\n"
          ]
        },
        {
          "name": "stderr",
          "output_type": "stream",
          "text": [
            "\n",
            "\n",
            "tqdm() Progress Bar Segments: 1215it [10:41,  1.91it/s]\u001b[A\u001b[A"
          ]
        },
        {
          "name": "stdout",
          "output_type": "stream",
          "text": [
            "[[0.04069166 0.04541736 0.00229262 0.00123696 0.07713003 0.43272617\n",
            "  0.10580662 0.26684543 0.00457537 0.00970658 0.01357112]]\n"
          ]
        },
        {
          "name": "stderr",
          "output_type": "stream",
          "text": [
            "\n",
            "\n",
            "tqdm() Progress Bar Segments: 1216it [10:41,  1.93it/s]\u001b[A\u001b[A"
          ]
        },
        {
          "name": "stdout",
          "output_type": "stream",
          "text": [
            "[[0.00891466 0.00970946 0.00089766 0.00571964 0.0406967  0.00960848\n",
            "  0.00813796 0.00395086 0.19190517 0.00101868 0.71944076]]\n"
          ]
        },
        {
          "name": "stderr",
          "output_type": "stream",
          "text": [
            "\n",
            "\n",
            "tqdm() Progress Bar Segments: 1217it [10:42,  1.85it/s]\u001b[A\u001b[A"
          ]
        },
        {
          "name": "stdout",
          "output_type": "stream",
          "text": [
            "[[1.21566896e-04 3.31763658e-05 3.41151099e-05 7.53069471e-04\n",
            "  8.57897639e-01 5.54314058e-04 2.74206162e-03 9.27084420e-06\n",
            "  1.68261323e-02 1.14492086e-05 1.21017173e-01]]\n"
          ]
        },
        {
          "name": "stderr",
          "output_type": "stream",
          "text": [
            "\n",
            "\n",
            "tqdm() Progress Bar Segments: 1218it [10:42,  1.86it/s]\u001b[A\u001b[A"
          ]
        },
        {
          "name": "stdout",
          "output_type": "stream",
          "text": [
            "[[1.2334049e-03 4.0243875e-05 3.2369135e-05 3.3387409e-03 8.6989468e-03\n",
            "  6.7229674e-04 6.5909594e-04 9.8784894e-06 2.2813380e-01 2.0694721e-05\n",
            "  7.5716060e-01]]\n"
          ]
        },
        {
          "name": "stderr",
          "output_type": "stream",
          "text": [
            "\n",
            "\n",
            "tqdm() Progress Bar Segments: 1219it [10:43,  1.89it/s]\u001b[A\u001b[A"
          ]
        },
        {
          "name": "stdout",
          "output_type": "stream",
          "text": [
            "[[2.0456290e-02 1.4401910e-01 9.9145835e-03 7.0501948e-05 8.0599964e-01\n",
            "  7.3064882e-03 9.6153788e-05 6.3747410e-03 1.1683610e-04 1.1593627e-04\n",
            "  5.5297418e-03]]\n"
          ]
        },
        {
          "name": "stderr",
          "output_type": "stream",
          "text": [
            "\n",
            "\n",
            "tqdm() Progress Bar Segments: 1220it [10:43,  1.91it/s]\u001b[A\u001b[A"
          ]
        },
        {
          "name": "stdout",
          "output_type": "stream",
          "text": [
            "[[0.00665534 0.01060467 0.00066408 0.00226391 0.32912153 0.07244059\n",
            "  0.02008788 0.12222325 0.14624575 0.00229034 0.28740266]]\n"
          ]
        },
        {
          "name": "stderr",
          "output_type": "stream",
          "text": [
            "\n",
            "\n",
            "tqdm() Progress Bar Segments: 1221it [10:44,  1.91it/s]\u001b[A\u001b[A"
          ]
        },
        {
          "name": "stdout",
          "output_type": "stream",
          "text": [
            "[[1.3539654e-03 3.9946078e-04 9.1405876e-05 6.0836476e-04 1.3933924e-01\n",
            "  1.1302264e-02 1.1440439e-02 1.2637947e-04 1.5681444e-01 1.4083249e-04\n",
            "  6.7838329e-01]]\n"
          ]
        },
        {
          "name": "stderr",
          "output_type": "stream",
          "text": [
            "\n",
            "\n",
            "tqdm() Progress Bar Segments: 1222it [10:44,  1.92it/s]\u001b[A\u001b[A"
          ]
        },
        {
          "name": "stdout",
          "output_type": "stream",
          "text": [
            "[[2.7023969e-04 9.2875984e-05 2.2063418e-06 1.1070050e-05 3.7605915e-04\n",
            "  3.2257342e-01 6.7545462e-01 9.1892478e-05 2.4357688e-04 8.7004999e-04\n",
            "  1.3994814e-05]]\n"
          ]
        },
        {
          "name": "stderr",
          "output_type": "stream",
          "text": [
            "\n",
            "\n",
            "tqdm() Progress Bar Segments: 1223it [10:45,  1.93it/s]\u001b[A\u001b[A"
          ]
        },
        {
          "name": "stdout",
          "output_type": "stream",
          "text": [
            "[[1.2987472e-04 3.2586331e-04 5.1228369e-07 8.0536290e-07 1.4991692e-04\n",
            "  9.9365073e-01 5.4982170e-03 1.0727758e-04 5.9317940e-06 1.2743112e-04\n",
            "  3.5888845e-06]]\n"
          ]
        },
        {
          "name": "stderr",
          "output_type": "stream",
          "text": [
            "\n",
            "\n",
            "tqdm() Progress Bar Segments: 1224it [10:45,  1.93it/s]\u001b[A\u001b[A"
          ]
        },
        {
          "name": "stdout",
          "output_type": "stream",
          "text": [
            "[[0.00878751 0.03079965 0.00113277 0.00437921 0.04989969 0.03213934\n",
            "  0.01112167 0.02653266 0.12659106 0.00183894 0.7067775 ]]\n"
          ]
        },
        {
          "name": "stderr",
          "output_type": "stream",
          "text": [
            "\n",
            "\n",
            "tqdm() Progress Bar Segments: 1225it [10:46,  1.92it/s]\u001b[A\u001b[A"
          ]
        },
        {
          "name": "stdout",
          "output_type": "stream",
          "text": [
            "[[1.8100107e-04 2.6958782e-05 3.5024368e-05 3.2632498e-03 5.6180447e-01\n",
            "  3.6315687e-04 1.7576052e-02 1.1386276e-05 3.4433669e-01 5.1133557e-05\n",
            "  7.2350807e-02]]\n"
          ]
        },
        {
          "name": "stderr",
          "output_type": "stream",
          "text": [
            "\n",
            "\n",
            "tqdm() Progress Bar Segments: 1226it [10:46,  1.93it/s]\u001b[A\u001b[A"
          ]
        },
        {
          "name": "stdout",
          "output_type": "stream",
          "text": [
            "[[1.0840911e-02 1.9345583e-02 1.6281134e-05 2.8252829e-05 2.0890683e-03\n",
            "  9.4261563e-01 3.2343261e-03 1.6073510e-02 1.1137230e-04 5.4092160e-03\n",
            "  2.3584238e-04]]\n"
          ]
        },
        {
          "name": "stderr",
          "output_type": "stream",
          "text": [
            "\n",
            "\n",
            "tqdm() Progress Bar Segments: 1227it [10:47,  1.92it/s]\u001b[A\u001b[A"
          ]
        },
        {
          "name": "stdout",
          "output_type": "stream",
          "text": [
            "[[1.7973258e-03 4.4334661e-02 3.6932614e-02 1.2674428e-05 9.0835643e-01\n",
            "  5.0330102e-03 6.8098241e-05 5.7508168e-04 4.0828349e-05 1.5245850e-05\n",
            "  2.8340046e-03]]\n"
          ]
        },
        {
          "name": "stderr",
          "output_type": "stream",
          "text": [
            "\n",
            "\n",
            "tqdm() Progress Bar Segments: 1228it [10:47,  1.93it/s]\u001b[A\u001b[A"
          ]
        },
        {
          "name": "stdout",
          "output_type": "stream",
          "text": [
            "[[2.2447281e-02 3.9813598e-03 4.3175496e-06 1.7452991e-05 2.8102603e-04\n",
            "  9.6845686e-01 1.6894029e-03 2.7434232e-03 8.5085077e-05 1.2473357e-04\n",
            "  1.6910541e-04]]\n"
          ]
        },
        {
          "name": "stderr",
          "output_type": "stream",
          "text": [
            "\n",
            "\n",
            "tqdm() Progress Bar Segments: 1229it [10:48,  1.92it/s]\u001b[A\u001b[A"
          ]
        },
        {
          "name": "stdout",
          "output_type": "stream",
          "text": [
            "[[4.2318723e-05 2.3367789e-05 1.7913699e-05 9.5112994e-04 9.7513741e-01\n",
            "  2.0468635e-04 1.2038072e-03 2.5690711e-06 5.3645065e-03 6.6827997e-06\n",
            "  1.7045585e-02]]\n"
          ]
        },
        {
          "name": "stderr",
          "output_type": "stream",
          "text": [
            "\n",
            "\n",
            "tqdm() Progress Bar Segments: 1230it [10:48,  1.92it/s]\u001b[A\u001b[A"
          ]
        },
        {
          "name": "stdout",
          "output_type": "stream",
          "text": [
            "[[6.5915607e-02 1.7430005e-03 1.8127093e-05 1.1451007e-04 1.8239394e-03\n",
            "  7.9871649e-01 1.1030831e-01 1.7296888e-02 1.5278874e-03 9.6228160e-04\n",
            "  1.5729369e-03]]\n"
          ]
        },
        {
          "name": "stderr",
          "output_type": "stream",
          "text": [
            "\n",
            "\n",
            "tqdm() Progress Bar Segments: 1231it [10:49,  1.92it/s]\u001b[A\u001b[A"
          ]
        },
        {
          "name": "stdout",
          "output_type": "stream",
          "text": [
            "[[2.81682413e-04 3.80434878e-02 7.18685114e-05 1.01396084e-01\n",
            "  1.89818488e-03 1.62688713e-03 5.54657599e-04 8.54169846e-01\n",
            "  6.90653629e-04 9.53279319e-04 3.13314493e-04]]\n"
          ]
        },
        {
          "name": "stderr",
          "output_type": "stream",
          "text": [
            "\n",
            "\n",
            "tqdm() Progress Bar Segments: 1232it [10:49,  1.92it/s]\u001b[A\u001b[A"
          ]
        },
        {
          "name": "stdout",
          "output_type": "stream",
          "text": [
            "[[6.6798420e-05 5.0600281e-04 1.1108745e-06 1.4071955e-04 4.8883935e-04\n",
            "  9.1613382e-03 6.8698479e-05 9.8827177e-01 3.8695685e-04 7.7520451e-04\n",
            "  1.3256686e-04]]\n"
          ]
        },
        {
          "name": "stderr",
          "output_type": "stream",
          "text": [
            "\n",
            "\n",
            "tqdm() Progress Bar Segments: 1233it [10:50,  1.87it/s]\u001b[A\u001b[A"
          ]
        },
        {
          "name": "stdout",
          "output_type": "stream",
          "text": [
            "[[0.00379852 0.00076949 0.00139938 0.00103158 0.5840831  0.01530772\n",
            "  0.05803116 0.00099203 0.06803426 0.00096841 0.26558435]]\n"
          ]
        },
        {
          "name": "stderr",
          "output_type": "stream",
          "text": [
            "\n",
            "\n",
            "tqdm() Progress Bar Segments: 1234it [10:51,  1.89it/s]\u001b[A\u001b[A"
          ]
        },
        {
          "name": "stdout",
          "output_type": "stream",
          "text": [
            "[[4.4708065e-04 7.0676935e-04 4.3532793e-05 1.3687063e-03 3.6608943e-01\n",
            "  1.7608828e-03 8.8830981e-03 8.1823746e-05 5.5478513e-01 6.6308113e-04\n",
            "  6.5170519e-02]]\n"
          ]
        },
        {
          "name": "stderr",
          "output_type": "stream",
          "text": [
            "\n",
            "\n",
            "tqdm() Progress Bar Segments: 1235it [10:51,  1.90it/s]\u001b[A\u001b[A"
          ]
        },
        {
          "name": "stdout",
          "output_type": "stream",
          "text": [
            "[[0.01174652 0.00143169 0.00104176 0.1230131  0.02653428 0.04682877\n",
            "  0.25607502 0.00744179 0.25923944 0.24780363 0.01884396]]\n"
          ]
        },
        {
          "name": "stderr",
          "output_type": "stream",
          "text": [
            "\n",
            "\n",
            "tqdm() Progress Bar Segments: 1236it [10:52,  1.92it/s]\u001b[A\u001b[A"
          ]
        },
        {
          "name": "stdout",
          "output_type": "stream",
          "text": [
            "[[1.2349266e-04 6.1877249e-06 7.6711649e-06 1.8293006e-02 3.5339072e-01\n",
            "  1.9102126e-04 8.0166925e-03 7.7942723e-06 6.1341679e-01 4.6600465e-04\n",
            "  6.0806144e-03]]\n"
          ]
        },
        {
          "name": "stderr",
          "output_type": "stream",
          "text": [
            "\n",
            "\n",
            "tqdm() Progress Bar Segments: 1237it [10:52,  1.85it/s]\u001b[A\u001b[A"
          ]
        },
        {
          "name": "stdout",
          "output_type": "stream",
          "text": [
            "[[2.7795651e-03 2.1336402e-04 3.6202592e-04 3.9243370e-02 5.1010698e-01\n",
            "  7.2659948e-03 1.9466093e-02 8.3035753e-05 1.6573045e-01 3.0956714e-04\n",
            "  2.5443956e-01]]\n"
          ]
        },
        {
          "name": "stderr",
          "output_type": "stream",
          "text": [
            "\n",
            "\n",
            "tqdm() Progress Bar Segments: 1238it [10:53,  1.89it/s]\u001b[A\u001b[A"
          ]
        },
        {
          "name": "stdout",
          "output_type": "stream",
          "text": [
            "[[3.6073972e-03 3.6562888e-03 1.8523922e-04 3.2591254e-03 1.1494632e-01\n",
            "  4.3759692e-02 1.7238486e-03 5.9898753e-02 3.5080108e-01 1.6385121e-03\n",
            "  4.1652364e-01]]\n"
          ]
        },
        {
          "name": "stderr",
          "output_type": "stream",
          "text": [
            "\n",
            "\n",
            "tqdm() Progress Bar Segments: 1239it [10:53,  1.91it/s]\u001b[A\u001b[A"
          ]
        },
        {
          "name": "stdout",
          "output_type": "stream",
          "text": [
            "[[1.7493074e-05 1.4763132e-05 8.2816750e-06 1.3576791e-03 9.8433703e-01\n",
            "  1.8125423e-04 5.9306272e-03 1.6107791e-06 5.7515721e-03 8.6259543e-06\n",
            "  2.3911302e-03]]\n"
          ]
        },
        {
          "name": "stderr",
          "output_type": "stream",
          "text": [
            "\n",
            "\n",
            "tqdm() Progress Bar Segments: 1240it [10:54,  1.93it/s]\u001b[A\u001b[A"
          ]
        },
        {
          "name": "stdout",
          "output_type": "stream",
          "text": [
            "[[2.7835433e-04 2.8979541e-05 1.0067539e-05 2.6843554e-04 1.6929963e-01\n",
            "  4.7221145e-04 5.5701291e-04 3.5151443e-06 3.8708416e-01 1.2074573e-05\n",
            "  4.4198558e-01]]\n"
          ]
        },
        {
          "name": "stderr",
          "output_type": "stream",
          "text": [
            "\n",
            "\n",
            "tqdm() Progress Bar Segments: 1241it [10:54,  1.86it/s]\u001b[A\u001b[A"
          ]
        },
        {
          "name": "stdout",
          "output_type": "stream",
          "text": [
            "[[1.2709493e-05 1.2804984e-05 4.7301560e-06 3.1037102e-04 9.8389614e-01\n",
            "  8.9751673e-05 1.3298225e-03 1.5240479e-06 1.2037692e-02 4.9257096e-06\n",
            "  2.2996035e-03]]\n"
          ]
        },
        {
          "name": "stderr",
          "output_type": "stream",
          "text": [
            "\n",
            "\n",
            "tqdm() Progress Bar Segments: 1242it [10:55,  1.85it/s]\u001b[A\u001b[A"
          ]
        },
        {
          "name": "stdout",
          "output_type": "stream",
          "text": [
            "[[2.8600672e-03 2.0708973e-04 7.5629691e-04 2.6030693e-04 9.9467987e-01\n",
            "  4.4619646e-05 8.8389294e-05 2.5825706e-04 1.2395505e-04 2.0751388e-05\n",
            "  7.0043257e-04]]\n"
          ]
        },
        {
          "name": "stderr",
          "output_type": "stream",
          "text": [
            "\n",
            "\n",
            "tqdm() Progress Bar Segments: 1243it [10:55,  1.80it/s]\u001b[A\u001b[A"
          ]
        },
        {
          "name": "stdout",
          "output_type": "stream",
          "text": [
            "[[9.7631663e-02 7.8801569e-03 4.1664782e-04 1.3285058e-03 1.6643836e-03\n",
            "  5.0399080e-03 2.1417331e-04 3.1678325e-03 3.1045176e-02 1.4375569e-04\n",
            "  8.5146779e-01]]\n"
          ]
        },
        {
          "name": "stderr",
          "output_type": "stream",
          "text": [
            "\n",
            "\n",
            "tqdm() Progress Bar Segments: 1244it [10:56,  1.85it/s]\u001b[A\u001b[A"
          ]
        },
        {
          "name": "stdout",
          "output_type": "stream",
          "text": [
            "[[1.5482196e-04 1.3198081e-04 3.7629519e-07 1.0243471e-05 3.5288028e-02\n",
            "  1.5621581e-04 4.4787598e-06 8.2813191e-01 3.7223985e-03 3.6538363e-06\n",
            "  1.3239588e-01]]\n"
          ]
        },
        {
          "name": "stderr",
          "output_type": "stream",
          "text": [
            "\n",
            "\n",
            "tqdm() Progress Bar Segments: 1245it [10:56,  1.87it/s]\u001b[A\u001b[A"
          ]
        },
        {
          "name": "stdout",
          "output_type": "stream",
          "text": [
            "[[4.0058009e-03 1.5416860e-03 3.6312142e-04 1.3019736e-03 3.1364791e-02\n",
            "  1.7006269e-02 6.3959309e-03 5.1872074e-03 8.8390723e-02 3.0837322e-04\n",
            "  8.4413409e-01]]\n"
          ]
        },
        {
          "name": "stderr",
          "output_type": "stream",
          "text": [
            "\n",
            "\n",
            "tqdm() Progress Bar Segments: 1246it [10:57,  1.89it/s]\u001b[A\u001b[A"
          ]
        },
        {
          "name": "stdout",
          "output_type": "stream",
          "text": [
            "[[1.43120240e-03 1.35200302e-04 1.81691041e-06 1.31362622e-05\n",
            "  1.79682364e-04 2.86448687e-01 7.11027443e-01 9.85263905e-05\n",
            "  1.06587708e-04 5.45657473e-04 1.21041385e-05]]\n"
          ]
        },
        {
          "name": "stderr",
          "output_type": "stream",
          "text": [
            "\n",
            "\n",
            "tqdm() Progress Bar Segments: 1247it [10:57,  1.91it/s]\u001b[A\u001b[A"
          ]
        },
        {
          "name": "stdout",
          "output_type": "stream",
          "text": [
            "[[4.9148900e-03 1.9561783e-03 4.3782048e-04 3.3151978e-03 8.9936070e-02\n",
            "  2.4177087e-02 3.0518323e-02 1.1326211e-03 3.2649016e-01 1.3261070e-03\n",
            "  5.1579547e-01]]\n"
          ]
        },
        {
          "name": "stderr",
          "output_type": "stream",
          "text": [
            "\n",
            "\n",
            "tqdm() Progress Bar Segments: 1248it [10:58,  1.92it/s]\u001b[A\u001b[A"
          ]
        },
        {
          "name": "stdout",
          "output_type": "stream",
          "text": [
            "[[3.0681151e-03 2.9963565e-01 2.5718268e-03 1.6322220e-04 5.8514446e-01\n",
            "  2.4026169e-02 3.1632243e-04 8.3180726e-02 4.3829008e-05 1.1231189e-03\n",
            "  7.2670222e-04]]\n"
          ]
        },
        {
          "name": "stderr",
          "output_type": "stream",
          "text": [
            "\n",
            "\n",
            "tqdm() Progress Bar Segments: 1249it [10:58,  1.93it/s]\u001b[A\u001b[A"
          ]
        },
        {
          "name": "stdout",
          "output_type": "stream",
          "text": [
            "[[3.28548165e-04 5.34513129e-05 5.01850518e-05 1.20880134e-01\n",
            "  6.73078775e-01 1.00794027e-03 4.85564582e-03 2.73007026e-05\n",
            "  1.28095806e-01 1.92356572e-04 7.14298412e-02]]\n"
          ]
        },
        {
          "name": "stderr",
          "output_type": "stream",
          "text": [
            "\n",
            "\n",
            "tqdm() Progress Bar Segments: 1250it [10:59,  1.95it/s]\u001b[A\u001b[A"
          ]
        },
        {
          "name": "stdout",
          "output_type": "stream",
          "text": [
            "[[1.5996796e-03 3.1951332e-01 3.3508296e-04 5.0496401e-05 1.4894797e-01\n",
            "  3.1651774e-01 3.1294377e-04 2.0079082e-01 1.2924588e-04 7.3721947e-04\n",
            "  1.1065532e-02]]\n"
          ]
        },
        {
          "name": "stderr",
          "output_type": "stream",
          "text": [
            "\n",
            "\n",
            "tqdm() Progress Bar Segments: 1251it [11:00,  1.94it/s]\u001b[A\u001b[A"
          ]
        },
        {
          "name": "stdout",
          "output_type": "stream",
          "text": [
            "[[1.3578845e-05 2.6874271e-05 4.4187594e-08 2.7981116e-05 2.0619204e-04\n",
            "  3.2246575e-05 5.5074547e-06 9.9861276e-01 8.4180565e-04 2.5573931e-05\n",
            "  2.0738457e-04]]\n"
          ]
        },
        {
          "name": "stderr",
          "output_type": "stream",
          "text": [
            "\n",
            "\n",
            "tqdm() Progress Bar Segments: 1252it [11:00,  1.94it/s]\u001b[A\u001b[A"
          ]
        },
        {
          "name": "stdout",
          "output_type": "stream",
          "text": [
            "[[1.6719270e-04 2.4087885e-05 9.0399890e-06 1.3890754e-03 3.3073294e-01\n",
            "  5.0663174e-04 8.6888246e-04 5.0357744e-06 4.2833734e-01 4.0514999e-05\n",
            "  2.3791924e-01]]\n"
          ]
        },
        {
          "name": "stderr",
          "output_type": "stream",
          "text": [
            "\n",
            "\n",
            "tqdm() Progress Bar Segments: 1253it [11:01,  1.94it/s]\u001b[A\u001b[A"
          ]
        },
        {
          "name": "stdout",
          "output_type": "stream",
          "text": [
            "[[4.8173210e-04 2.9422539e-05 3.2992906e-05 4.2131115e-03 1.4068419e-01\n",
            "  1.1478037e-03 1.5453042e-02 4.4408200e-05 6.8903542e-01 1.9436552e-04\n",
            "  1.4868353e-01]]\n"
          ]
        },
        {
          "name": "stderr",
          "output_type": "stream",
          "text": [
            "\n",
            "\n",
            "tqdm() Progress Bar Segments: 1254it [11:01,  1.93it/s]\u001b[A\u001b[A"
          ]
        },
        {
          "name": "stdout",
          "output_type": "stream",
          "text": [
            "[[1.4467751e-04 1.3222243e-05 1.3668802e-05 4.5271032e-03 2.8108513e-01\n",
            "  4.2464145e-04 2.9172942e-02 1.7898688e-05 6.7814493e-01 4.8898190e-04\n",
            "  5.9667216e-03]]\n"
          ]
        },
        {
          "name": "stderr",
          "output_type": "stream",
          "text": [
            "\n",
            "\n",
            "tqdm() Progress Bar Segments: 1255it [11:02,  1.93it/s]\u001b[A\u001b[A"
          ]
        },
        {
          "name": "stdout",
          "output_type": "stream",
          "text": [
            "[[1.4876888e-05 3.3539304e-04 8.0460279e-07 5.0651411e-06 2.8296374e-04\n",
            "  9.8803109e-01 9.9753346e-03 2.8991530e-04 2.1939131e-05 1.0410076e-03\n",
            "  1.6697137e-06]]\n"
          ]
        },
        {
          "name": "stderr",
          "output_type": "stream",
          "text": [
            "\n",
            "\n",
            "tqdm() Progress Bar Segments: 1256it [11:02,  1.94it/s]\u001b[A\u001b[A"
          ]
        },
        {
          "name": "stdout",
          "output_type": "stream",
          "text": [
            "[[5.8423993e-03 2.1732179e-03 5.4977008e-05 3.5048759e-04 2.4002479e-02\n",
            "  1.0925817e-02 1.0261409e-02 9.3645245e-01 2.3733775e-04 9.2303902e-03\n",
            "  4.6897988e-04]]\n"
          ]
        },
        {
          "name": "stderr",
          "output_type": "stream",
          "text": [
            "\n",
            "\n",
            "tqdm() Progress Bar Segments: 1257it [11:03,  1.94it/s]\u001b[A\u001b[A"
          ]
        },
        {
          "name": "stdout",
          "output_type": "stream",
          "text": [
            "[[1.4398259e-03 7.3755118e-03 7.0197580e-05 1.9423056e-05 1.9522372e-03\n",
            "  9.7250420e-01 1.3806617e-02 4.2051441e-04 5.8103225e-05 2.2389148e-03\n",
            "  1.1433574e-04]]\n"
          ]
        },
        {
          "name": "stderr",
          "output_type": "stream",
          "text": [
            "\n",
            "\n",
            "tqdm() Progress Bar Segments: 1258it [11:03,  1.93it/s]\u001b[A\u001b[A"
          ]
        },
        {
          "name": "stdout",
          "output_type": "stream",
          "text": [
            "[[4.4363025e-03 3.5584368e-02 1.5937847e-04 3.5756835e-05 8.6375102e-03\n",
            "  9.4620275e-01 2.0067487e-03 3.8324625e-04 2.3881248e-04 1.4667916e-03\n",
            "  8.4832468e-04]]\n"
          ]
        },
        {
          "name": "stderr",
          "output_type": "stream",
          "text": [
            "\n",
            "\n",
            "tqdm() Progress Bar Segments: 1259it [11:04,  1.92it/s]\u001b[A\u001b[A"
          ]
        },
        {
          "name": "stdout",
          "output_type": "stream",
          "text": [
            "[[2.28159525e-03 2.97392398e-04 2.63801165e-04 4.25147504e-04\n",
            "  8.59991610e-02 1.04449475e-02 1.48840845e-02 1.87613841e-04\n",
            "  1.97532438e-02 4.96927132e-05 8.65413427e-01]]\n"
          ]
        },
        {
          "name": "stderr",
          "output_type": "stream",
          "text": [
            "\n",
            "\n",
            "tqdm() Progress Bar Segments: 1260it [11:04,  1.92it/s]\u001b[A\u001b[A"
          ]
        },
        {
          "name": "stdout",
          "output_type": "stream",
          "text": [
            "[[1.6487879e-03 3.8347841e-04 3.7264952e-04 9.1008138e-04 3.8587511e-01\n",
            "  7.1712448e-03 2.1956233e-02 9.6571268e-05 1.1385838e-01 1.9692909e-04\n",
            "  4.6753049e-01]]\n"
          ]
        },
        {
          "name": "stderr",
          "output_type": "stream",
          "text": [
            "\n",
            "\n",
            "tqdm() Progress Bar Segments: 1261it [11:05,  1.92it/s]\u001b[A\u001b[A"
          ]
        },
        {
          "name": "stdout",
          "output_type": "stream",
          "text": [
            "[[1.5222620e-03 5.2850426e-04 4.6347313e-06 5.9151265e-04 9.8885305e-04\n",
            "  1.2742376e-03 2.0811220e-05 9.8007810e-01 4.4291522e-03 2.8267206e-04\n",
            "  1.0279224e-02]]\n"
          ]
        },
        {
          "name": "stderr",
          "output_type": "stream",
          "text": [
            "\n",
            "\n",
            "tqdm() Progress Bar Segments: 1262it [11:05,  1.92it/s]\u001b[A\u001b[A"
          ]
        },
        {
          "name": "stdout",
          "output_type": "stream",
          "text": [
            "[[1.4512994e-05 6.7490919e-06 1.3054522e-06 1.8823619e-05 1.5764925e-04\n",
            "  8.6096199e-03 9.9074906e-01 4.4280983e-05 2.1904639e-04 1.7400926e-04\n",
            "  4.8373299e-06]]\n"
          ]
        },
        {
          "name": "stderr",
          "output_type": "stream",
          "text": [
            "\n",
            "\n",
            "tqdm() Progress Bar Segments: 1263it [11:06,  1.91it/s]\u001b[A\u001b[A"
          ]
        },
        {
          "name": "stdout",
          "output_type": "stream",
          "text": [
            "[[1.2876453e-02 5.3119373e-02 1.4293763e-03 9.9754718e-05 8.8500255e-01\n",
            "  1.4885702e-02 7.0587592e-04 2.8444251e-02 5.7639307e-05 2.8939848e-03\n",
            "  4.8509584e-04]]\n"
          ]
        },
        {
          "name": "stderr",
          "output_type": "stream",
          "text": [
            "\n",
            "\n",
            "tqdm() Progress Bar Segments: 1264it [11:06,  1.91it/s]\u001b[A\u001b[A"
          ]
        },
        {
          "name": "stdout",
          "output_type": "stream",
          "text": [
            "[[0.17621456 0.05110536 0.00106583 0.00149313 0.05237026 0.35469902\n",
            "  0.01102084 0.23087014 0.01189783 0.00898079 0.10028225]]\n"
          ]
        },
        {
          "name": "stderr",
          "output_type": "stream",
          "text": [
            "\n",
            "\n",
            "tqdm() Progress Bar Segments: 1265it [11:07,  1.92it/s]\u001b[A\u001b[A"
          ]
        },
        {
          "name": "stdout",
          "output_type": "stream",
          "text": [
            "[[9.9857608e-03 1.2441819e-03 1.4067764e-05 1.6327773e-04 8.2933595e-03\n",
            "  5.0974691e-01 3.4504542e-01 3.1619288e-02 6.4551370e-04 9.3052410e-02\n",
            "  1.8974014e-04]]\n"
          ]
        },
        {
          "name": "stderr",
          "output_type": "stream",
          "text": [
            "\n",
            "\n",
            "tqdm() Progress Bar Segments: 1266it [11:07,  1.92it/s]\u001b[A\u001b[A"
          ]
        },
        {
          "name": "stdout",
          "output_type": "stream",
          "text": [
            "[[1.1766994e-02 1.0240013e-03 3.4800134e-06 7.3222345e-06 1.6081618e-03\n",
            "  9.7886002e-01 1.4454311e-03 2.5686568e-03 7.8384328e-05 2.5582570e-03\n",
            "  7.9311772e-05]]\n"
          ]
        },
        {
          "name": "stderr",
          "output_type": "stream",
          "text": [
            "\n",
            "\n",
            "tqdm() Progress Bar Segments: 1267it [11:08,  1.92it/s]\u001b[A\u001b[A"
          ]
        },
        {
          "name": "stdout",
          "output_type": "stream",
          "text": [
            "[[0.02061791 0.06084353 0.00839462 0.00298212 0.43528676 0.11202277\n",
            "  0.00747903 0.04223324 0.02023978 0.00255957 0.28734073]]\n"
          ]
        },
        {
          "name": "stderr",
          "output_type": "stream",
          "text": [
            "\n",
            "\n",
            "tqdm() Progress Bar Segments: 1268it [11:08,  1.93it/s]\u001b[A\u001b[A"
          ]
        },
        {
          "name": "stdout",
          "output_type": "stream",
          "text": [
            "[[1.20214514e-04 3.70330759e-04 8.53056463e-06 2.88232951e-03\n",
            "  5.67633938e-03 2.93890084e-03 3.03455512e-03 9.51323509e-01\n",
            "  2.16991771e-02 1.15061412e-02 4.40089090e-04]]\n"
          ]
        },
        {
          "name": "stderr",
          "output_type": "stream",
          "text": [
            "\n",
            "\n",
            "tqdm() Progress Bar Segments: 1269it [11:09,  1.93it/s]\u001b[A\u001b[A"
          ]
        },
        {
          "name": "stdout",
          "output_type": "stream",
          "text": [
            "[[4.1663693e-03 1.8322606e-02 1.6152443e-03 7.6033204e-05 9.7052473e-01\n",
            "  1.8584318e-03 4.6241898e-05 2.7750724e-03 2.8333983e-05 7.7120152e-05\n",
            "  5.0991517e-04]]\n"
          ]
        },
        {
          "name": "stderr",
          "output_type": "stream",
          "text": [
            "\n",
            "\n",
            "tqdm() Progress Bar Segments: 1270it [11:09,  1.93it/s]\u001b[A\u001b[A"
          ]
        },
        {
          "name": "stdout",
          "output_type": "stream",
          "text": [
            "[[4.94681117e-05 1.36537055e-05 6.02158343e-06 7.02203775e-04\n",
            "  5.94007015e-01 3.27181508e-04 4.61577484e-03 2.63557695e-06\n",
            "  2.32560366e-01 1.81965133e-05 1.67697474e-01]]\n"
          ]
        },
        {
          "name": "stderr",
          "output_type": "stream",
          "text": [
            "\n",
            "\n",
            "tqdm() Progress Bar Segments: 1271it [11:10,  1.93it/s]\u001b[A\u001b[A"
          ]
        },
        {
          "name": "stdout",
          "output_type": "stream",
          "text": [
            "[[8.9357293e-04 4.1422889e-01 1.1454761e-03 2.3883473e-04 1.4279593e-02\n",
            "  5.3386974e-01 2.2254769e-02 6.5893247e-03 3.9243579e-04 5.8022290e-03\n",
            "  3.0512709e-04]]\n"
          ]
        },
        {
          "name": "stderr",
          "output_type": "stream",
          "text": [
            "\n",
            "\n",
            "tqdm() Progress Bar Segments: 1272it [11:10,  1.93it/s]\u001b[A\u001b[A"
          ]
        },
        {
          "name": "stdout",
          "output_type": "stream",
          "text": [
            "[[8.4794462e-03 1.2450407e-03 1.7910895e-06 2.5957548e-05 2.4382398e-03\n",
            "  8.7302154e-01 3.0357423e-03 9.4394989e-02 1.8555438e-04 1.6926941e-02\n",
            "  2.4483394e-04]]\n"
          ]
        },
        {
          "name": "stderr",
          "output_type": "stream",
          "text": [
            "\n",
            "\n",
            "tqdm() Progress Bar Segments: 1273it [11:11,  1.93it/s]\u001b[A\u001b[A"
          ]
        },
        {
          "name": "stdout",
          "output_type": "stream",
          "text": [
            "[[7.5244225e-06 6.4687066e-07 4.9914313e-09 9.4663419e-06 2.7611661e-05\n",
            "  3.5316339e-06 5.3513808e-08 9.9989712e-01 1.9794741e-05 8.4303093e-07\n",
            "  3.3537071e-05]]\n"
          ]
        },
        {
          "name": "stderr",
          "output_type": "stream",
          "text": [
            "\n",
            "\n",
            "tqdm() Progress Bar Segments: 1274it [11:12,  1.86it/s]\u001b[A\u001b[A"
          ]
        },
        {
          "name": "stdout",
          "output_type": "stream",
          "text": [
            "[[7.2772324e-04 6.5021610e-05 2.4700671e-04 5.8178164e-02 6.6380990e-01\n",
            "  2.5597787e-03 7.1098104e-02 1.3205489e-04 1.1994837e-01 3.0204584e-04\n",
            "  8.2931831e-02]]\n"
          ]
        },
        {
          "name": "stderr",
          "output_type": "stream",
          "text": [
            "\n",
            "\n",
            "tqdm() Progress Bar Segments: 1275it [11:12,  1.87it/s]\u001b[A\u001b[A"
          ]
        },
        {
          "name": "stdout",
          "output_type": "stream",
          "text": [
            "[[1.3417134e-02 1.2253977e-01 2.0652607e-03 3.6470292e-04 3.8007981e-01\n",
            "  4.0923825e-01 1.2263210e-03 9.9256132e-03 2.0348809e-03 2.5974142e-03\n",
            "  5.6510787e-02]]\n"
          ]
        },
        {
          "name": "stderr",
          "output_type": "stream",
          "text": [
            "\n",
            "\n",
            "tqdm() Progress Bar Segments: 1276it [11:13,  1.89it/s]\u001b[A\u001b[A"
          ]
        },
        {
          "name": "stdout",
          "output_type": "stream",
          "text": [
            "[[6.07264383e-06 2.71300032e-05 1.68389178e-08 6.19662533e-05\n",
            "  6.12050553e-06 5.27739066e-05 4.15414291e-07 9.99808609e-01\n",
            "  1.66859609e-05 1.17552645e-05 8.52878566e-06]]\n"
          ]
        },
        {
          "name": "stderr",
          "output_type": "stream",
          "text": [
            "\n",
            "\n",
            "tqdm() Progress Bar Segments: 1277it [11:13,  1.89it/s]\u001b[A\u001b[A"
          ]
        },
        {
          "name": "stdout",
          "output_type": "stream",
          "text": [
            "[[0.00620239 0.00183677 0.00066904 0.00101088 0.08334623 0.01057375\n",
            "  0.01190462 0.00492813 0.24025942 0.00069938 0.6385694 ]]\n"
          ]
        },
        {
          "name": "stderr",
          "output_type": "stream",
          "text": [
            "\n",
            "\n",
            "tqdm() Progress Bar Segments: 1278it [11:14,  1.90it/s]\u001b[A\u001b[A"
          ]
        },
        {
          "name": "stdout",
          "output_type": "stream",
          "text": [
            "[[4.2860743e-02 2.5749605e-03 1.8449955e-05 2.4058161e-05 3.7260323e-03\n",
            "  9.0532660e-01 4.3564960e-02 4.6063479e-04 2.1187491e-04 9.8042458e-04\n",
            "  2.5128518e-04]]\n"
          ]
        },
        {
          "name": "stderr",
          "output_type": "stream",
          "text": [
            "\n",
            "\n",
            "tqdm() Progress Bar Segments: 1279it [11:14,  1.90it/s]\u001b[A\u001b[A"
          ]
        },
        {
          "name": "stdout",
          "output_type": "stream",
          "text": [
            "[[3.5436775e-03 1.6165350e-01 9.4046831e-05 1.3332872e-04 7.2215088e-03\n",
            "  4.7506329e-01 7.5856163e-03 3.4374070e-01 1.1764859e-04 4.0933469e-04\n",
            "  4.3739195e-04]]\n"
          ]
        },
        {
          "name": "stderr",
          "output_type": "stream",
          "text": [
            "\n",
            "\n",
            "tqdm() Progress Bar Segments: 1280it [11:15,  1.89it/s]\u001b[A\u001b[A"
          ]
        },
        {
          "name": "stdout",
          "output_type": "stream",
          "text": [
            "[[4.9795988e-03 4.5915991e-03 4.6372468e-05 3.0535276e-04 5.0533492e-02\n",
            "  4.5782939e-01 2.5600703e-02 3.0488998e-01 7.8577921e-03 1.3846718e-01\n",
            "  4.8985113e-03]]\n"
          ]
        },
        {
          "name": "stderr",
          "output_type": "stream",
          "text": [
            "\n",
            "\n",
            "tqdm() Progress Bar Segments: 1281it [11:15,  1.87it/s]\u001b[A\u001b[A"
          ]
        },
        {
          "name": "stdout",
          "output_type": "stream",
          "text": [
            "[[2.9198896e-05 4.5135484e-06 8.3552832e-06 6.8897773e-03 9.3000603e-01\n",
            "  1.5264296e-04 1.4266682e-02 2.1828093e-06 3.7582681e-02 2.6845006e-05\n",
            "  1.1031153e-02]]\n"
          ]
        },
        {
          "name": "stderr",
          "output_type": "stream",
          "text": [
            "\n",
            "\n",
            "tqdm() Progress Bar Segments: 1282it [11:16,  1.89it/s]\u001b[A\u001b[A"
          ]
        },
        {
          "name": "stdout",
          "output_type": "stream",
          "text": [
            "[[7.5667100e-05 1.5395641e-04 5.6319078e-07 5.8448559e-06 2.7119056e-03\n",
            "  5.0080748e-04 1.4528858e-05 9.8738968e-01 3.5084074e-04 9.9127528e-06\n",
            "  8.7861884e-03]]\n"
          ]
        },
        {
          "name": "stderr",
          "output_type": "stream",
          "text": [
            "\n",
            "\n",
            "tqdm() Progress Bar Segments: 1283it [11:16,  1.90it/s]\u001b[A\u001b[A"
          ]
        },
        {
          "name": "stdout",
          "output_type": "stream",
          "text": [
            "[[0.01138846 0.0106396  0.00218496 0.00368247 0.3855115  0.0736641\n",
            "  0.0076282  0.18655917 0.08096976 0.00284284 0.23492895]]\n"
          ]
        },
        {
          "name": "stderr",
          "output_type": "stream",
          "text": [
            "\n",
            "\n",
            "tqdm() Progress Bar Segments: 1284it [11:17,  1.83it/s]\u001b[A\u001b[A"
          ]
        },
        {
          "name": "stdout",
          "output_type": "stream",
          "text": [
            "[[1.1839417e-03 1.5856411e-04 1.7313796e-04 3.3110360e-04 5.2034602e-02\n",
            "  3.1884785e-03 1.2500064e-02 4.2102227e-05 2.3817753e-02 3.7784921e-05\n",
            "  9.0653253e-01]]\n"
          ]
        },
        {
          "name": "stderr",
          "output_type": "stream",
          "text": [
            "\n",
            "\n",
            "tqdm() Progress Bar Segments: 1285it [11:17,  1.85it/s]\u001b[A\u001b[A"
          ]
        },
        {
          "name": "stdout",
          "output_type": "stream",
          "text": [
            "[[1.5171225e-03 8.9312019e-04 2.9829939e-06 6.8207678e-06 1.6202475e-04\n",
            "  8.6881816e-01 1.2816003e-01 2.0264067e-04 3.2337863e-05 1.8723388e-04\n",
            "  1.7627122e-05]]\n"
          ]
        },
        {
          "name": "stderr",
          "output_type": "stream",
          "text": [
            "\n",
            "\n",
            "tqdm() Progress Bar Segments: 1286it [11:18,  1.81it/s]\u001b[A\u001b[A"
          ]
        },
        {
          "name": "stdout",
          "output_type": "stream",
          "text": [
            "[[3.20296013e-03 1.48068637e-01 1.46207632e-03 8.40257417e-05\n",
            "  7.92790532e-01 3.62002514e-02 1.14171846e-04 1.44993905e-02\n",
            "  6.64014005e-05 5.27575961e-04 2.98403669e-03]]\n"
          ]
        },
        {
          "name": "stderr",
          "output_type": "stream",
          "text": [
            "\n",
            "\n",
            "tqdm() Progress Bar Segments: 1287it [11:19,  1.77it/s]\u001b[A\u001b[A"
          ]
        },
        {
          "name": "stdout",
          "output_type": "stream",
          "text": [
            "[[3.7002040e-04 3.0670768e-02 1.0154032e-03 9.1041802e-06 9.6373647e-01\n",
            "  2.7931526e-03 1.1919086e-05 1.2285875e-03 4.0797490e-06 1.9721918e-05\n",
            "  1.4070976e-04]]\n"
          ]
        },
        {
          "name": "stderr",
          "output_type": "stream",
          "text": [
            "\n",
            "\n",
            "tqdm() Progress Bar Segments: 1288it [11:19,  1.81it/s]\u001b[A\u001b[A"
          ]
        },
        {
          "name": "stdout",
          "output_type": "stream",
          "text": [
            "[[0.01298088 0.0172696  0.00700038 0.00174236 0.71836185 0.03006032\n",
            "  0.00721658 0.00986512 0.02020636 0.00172045 0.17357619]]\n"
          ]
        },
        {
          "name": "stderr",
          "output_type": "stream",
          "text": [
            "\n",
            "\n",
            "tqdm() Progress Bar Segments: 1289it [11:20,  1.85it/s]\u001b[A\u001b[A"
          ]
        },
        {
          "name": "stdout",
          "output_type": "stream",
          "text": [
            "[[2.4705937e-02 4.4987857e-01 3.6398415e-03 2.2119346e-04 3.0998853e-01\n",
            "  1.3367793e-01 5.5333076e-04 7.1507223e-02 1.0372850e-04 1.6474181e-04\n",
            "  5.5589788e-03]]\n"
          ]
        },
        {
          "name": "stderr",
          "output_type": "stream",
          "text": [
            "\n",
            "\n",
            "tqdm() Progress Bar Segments: 1290it [11:20,  1.86it/s]\u001b[A\u001b[A"
          ]
        },
        {
          "name": "stdout",
          "output_type": "stream",
          "text": [
            "[[1.0831836e-02 1.4299898e-02 3.6302733e-04 6.1457572e-03 1.5609428e-02\n",
            "  6.4751256e-01 5.2280471e-02 1.0387574e-01 6.5710181e-03 1.4091405e-01\n",
            "  1.5962003e-03]]\n"
          ]
        },
        {
          "name": "stderr",
          "output_type": "stream",
          "text": [
            "\n",
            "\n",
            "tqdm() Progress Bar Segments: 1291it [11:21,  1.88it/s]\u001b[A\u001b[A"
          ]
        },
        {
          "name": "stdout",
          "output_type": "stream",
          "text": [
            "[[9.6080924e-04 4.6464293e-03 1.6538732e-05 7.9831341e-05 8.4787849e-03\n",
            "  9.1394514e-01 1.6194804e-02 4.7809497e-02 1.1577613e-04 7.6757865e-03\n",
            "  7.6610238e-05]]\n"
          ]
        },
        {
          "name": "stderr",
          "output_type": "stream",
          "text": [
            "\n",
            "\n",
            "tqdm() Progress Bar Segments: 1292it [11:21,  1.91it/s]\u001b[A\u001b[A"
          ]
        },
        {
          "name": "stdout",
          "output_type": "stream",
          "text": [
            "[[3.04336916e-03 1.95531873e-04 1.69905659e-04 6.97169779e-03\n",
            "  1.12667084e-01 3.14735575e-03 1.24268020e-02 5.51103149e-04\n",
            "  8.34838450e-01 2.41597858e-03 2.35726796e-02]]\n"
          ]
        },
        {
          "name": "stderr",
          "output_type": "stream",
          "text": [
            "\n",
            "\n",
            "tqdm() Progress Bar Segments: 1293it [11:22,  1.90it/s]\u001b[A\u001b[A"
          ]
        },
        {
          "name": "stdout",
          "output_type": "stream",
          "text": [
            "[[1.3782444e-02 5.8542412e-02 3.1878016e-04 8.4702995e-05 7.5342469e-02\n",
            "  6.8399918e-01 1.0923246e-03 1.4563335e-01 6.5104931e-04 2.7669567e-04\n",
            "  2.0276625e-02]]\n"
          ]
        },
        {
          "name": "stderr",
          "output_type": "stream",
          "text": [
            "\n",
            "\n",
            "tqdm() Progress Bar Segments: 1294it [11:22,  1.92it/s]\u001b[A\u001b[A"
          ]
        },
        {
          "name": "stdout",
          "output_type": "stream",
          "text": [
            "[[3.7471715e-02 5.1170635e-01 7.0396606e-03 4.5479625e-04 2.8384763e-01\n",
            "  1.0680197e-01 2.4410619e-03 1.3941716e-02 1.0411551e-03 2.0036682e-02\n",
            "  1.5217171e-02]]\n"
          ]
        },
        {
          "name": "stderr",
          "output_type": "stream",
          "text": [
            "\n",
            "\n",
            "tqdm() Progress Bar Segments: 1295it [11:23,  1.94it/s]\u001b[A\u001b[A"
          ]
        },
        {
          "name": "stdout",
          "output_type": "stream",
          "text": [
            "[[7.4963784e-03 5.7897232e-03 2.9572151e-05 1.7635677e-04 3.0848192e-02\n",
            "  6.0552275e-01 1.0050749e-02 2.6241681e-01 1.7938974e-04 7.7278256e-02\n",
            "  2.1186670e-04]]\n"
          ]
        },
        {
          "name": "stderr",
          "output_type": "stream",
          "text": [
            "\n",
            "\n",
            "tqdm() Progress Bar Segments: 1296it [11:23,  1.94it/s]\u001b[A\u001b[A"
          ]
        },
        {
          "name": "stdout",
          "output_type": "stream",
          "text": [
            "[[1.4556578e-04 2.9347523e-04 7.8254534e-06 2.5178185e-03 2.2069823e-03\n",
            "  8.5676968e-04 2.7390665e-04 9.8809540e-01 4.4039488e-03 1.9620622e-04\n",
            "  1.0021497e-03]]\n"
          ]
        },
        {
          "name": "stderr",
          "output_type": "stream",
          "text": [
            "\n",
            "\n",
            "tqdm() Progress Bar Segments: 1297it [11:24,  1.94it/s]\u001b[A\u001b[A"
          ]
        },
        {
          "name": "stdout",
          "output_type": "stream",
          "text": [
            "[[1.4153766e-04 1.4138096e-05 7.0841756e-06 2.7757711e-03 1.5651193e-01\n",
            "  2.0629972e-04 1.1626559e-03 5.0011190e-06 7.4835694e-01 3.9580769e-05\n",
            "  9.0779074e-02]]\n"
          ]
        },
        {
          "name": "stderr",
          "output_type": "stream",
          "text": [
            "\n",
            "\n",
            "tqdm() Progress Bar Segments: 1298it [11:24,  1.86it/s]\u001b[A\u001b[A"
          ]
        },
        {
          "name": "stdout",
          "output_type": "stream",
          "text": [
            "[[0.01895982 0.02354736 0.00469274 0.01550507 0.11728273 0.05491685\n",
            "  0.0513245  0.03511108 0.24427852 0.00935096 0.42503035]]\n"
          ]
        },
        {
          "name": "stderr",
          "output_type": "stream",
          "text": [
            "\n",
            "\n",
            "tqdm() Progress Bar Segments: 1299it [11:25,  1.86it/s]\u001b[A\u001b[A"
          ]
        },
        {
          "name": "stdout",
          "output_type": "stream",
          "text": [
            "[[1.9343791e-03 6.1303604e-04 4.9684034e-04 7.8008161e-05 9.9572647e-01\n",
            "  2.3870247e-04 8.3022547e-05 1.6977529e-04 9.0294678e-05 2.3948491e-05\n",
            "  5.4555084e-04]]\n"
          ]
        },
        {
          "name": "stderr",
          "output_type": "stream",
          "text": [
            "\n",
            "\n",
            "tqdm() Progress Bar Segments: 1300it [11:25,  1.87it/s]\u001b[A\u001b[A"
          ]
        },
        {
          "name": "stdout",
          "output_type": "stream",
          "text": [
            "[[1.5131049e-04 4.2802792e-05 5.8969472e-05 1.2848906e-03 9.2311668e-01\n",
            "  1.5646290e-03 1.1132501e-02 9.1802949e-06 3.0464556e-02 1.0794065e-04\n",
            "  3.2066450e-02]]\n"
          ]
        },
        {
          "name": "stderr",
          "output_type": "stream",
          "text": [
            "\n",
            "\n",
            "tqdm() Progress Bar Segments: 1301it [11:26,  1.81it/s]\u001b[A\u001b[A"
          ]
        },
        {
          "name": "stdout",
          "output_type": "stream",
          "text": [
            "[[1.2912811e-03 4.9422979e-01 6.9240836e-05 9.7374337e-05 3.2919113e-02\n",
            "  4.2632586e-01 5.8327179e-04 3.3242308e-02 4.7940779e-05 1.1065105e-02\n",
            "  1.2858403e-04]]\n"
          ]
        },
        {
          "name": "stderr",
          "output_type": "stream",
          "text": [
            "\n",
            "\n",
            "tqdm() Progress Bar Segments: 1302it [11:26,  1.84it/s]\u001b[A\u001b[A"
          ]
        },
        {
          "name": "stdout",
          "output_type": "stream",
          "text": [
            "[[6.5025517e-05 2.7891932e-05 1.0420973e-05 3.7580999e-04 8.0721080e-01\n",
            "  1.3450363e-04 2.6471992e-03 8.1471535e-06 1.7516869e-01 2.3328375e-05\n",
            "  1.4328164e-02]]\n"
          ]
        },
        {
          "name": "stderr",
          "output_type": "stream",
          "text": [
            "\n",
            "\n",
            "tqdm() Progress Bar Segments: 1303it [11:27,  1.86it/s]\u001b[A\u001b[A"
          ]
        },
        {
          "name": "stdout",
          "output_type": "stream",
          "text": [
            "[[1.1810194e-02 1.3522516e-04 9.9891267e-06 2.9038265e-04 2.2182619e-02\n",
            "  2.8179917e-03 5.1531231e-05 9.2954850e-01 6.1854287e-03 2.9579410e-04\n",
            "  2.6672233e-02]]\n"
          ]
        },
        {
          "name": "stderr",
          "output_type": "stream",
          "text": [
            "\n",
            "\n",
            "tqdm() Progress Bar Segments: 1304it [11:28,  1.88it/s]\u001b[A\u001b[A"
          ]
        },
        {
          "name": "stdout",
          "output_type": "stream",
          "text": [
            "[[1.3745262e-03 4.2050672e-04 1.0854680e-04 7.0887798e-04 2.1952480e-02\n",
            "  1.5128183e-03 2.2274600e-03 4.9429742e-04 5.6008179e-02 1.3522826e-04\n",
            "  9.1505706e-01]]\n"
          ]
        },
        {
          "name": "stderr",
          "output_type": "stream",
          "text": [
            "\n",
            "\n",
            "tqdm() Progress Bar Segments: 1305it [11:28,  1.89it/s]\u001b[A\u001b[A"
          ]
        },
        {
          "name": "stdout",
          "output_type": "stream",
          "text": [
            "[[3.3573198e-04 1.0124353e-01 2.3510570e-03 1.2005745e-05 8.9364451e-01\n",
            "  8.2028267e-04 2.8541324e-05 1.4048922e-03 4.0506193e-06 2.2655629e-05\n",
            "  1.3269868e-04]]\n"
          ]
        },
        {
          "name": "stderr",
          "output_type": "stream",
          "text": [
            "\n",
            "\n",
            "tqdm() Progress Bar Segments: 1306it [11:29,  1.92it/s]\u001b[A\u001b[A"
          ]
        },
        {
          "name": "stdout",
          "output_type": "stream",
          "text": [
            "[[6.5499335e-03 6.9956463e-03 1.3980201e-04 1.2923045e-03 3.2278799e-02\n",
            "  1.0771234e-01 2.0017438e-02 3.2578355e-01 2.3948478e-02 4.6711177e-01\n",
            "  8.1699565e-03]]\n"
          ]
        },
        {
          "name": "stderr",
          "output_type": "stream",
          "text": [
            "\n",
            "\n",
            "tqdm() Progress Bar Segments: 1307it [11:29,  1.93it/s]\u001b[A\u001b[A"
          ]
        },
        {
          "name": "stdout",
          "output_type": "stream",
          "text": [
            "[[5.0209997e-05 4.5251119e-04 1.3417742e-05 2.0758777e-04 2.9340447e-03\n",
            "  6.2303737e-02 7.5675857e-01 1.7292707e-01 1.3588127e-03 2.9630933e-03\n",
            "  3.0984738e-05]]\n"
          ]
        },
        {
          "name": "stderr",
          "output_type": "stream",
          "text": [
            "\n",
            "\n",
            "tqdm() Progress Bar Segments: 1308it [11:30,  1.93it/s]\u001b[A\u001b[A"
          ]
        },
        {
          "name": "stdout",
          "output_type": "stream",
          "text": [
            "[[7.3277359e-03 3.5258133e-03 1.4937237e-04 1.9446403e-03 7.8566231e-02\n",
            "  2.9905431e-02 8.3113033e-03 3.3289394e-01 2.9390472e-01 5.5157207e-03\n",
            "  2.3795503e-01]]\n"
          ]
        },
        {
          "name": "stderr",
          "output_type": "stream",
          "text": [
            "\n",
            "\n",
            "tqdm() Progress Bar Segments: 1309it [11:30,  1.94it/s]\u001b[A\u001b[A"
          ]
        },
        {
          "name": "stdout",
          "output_type": "stream",
          "text": [
            "[[3.3664500e-04 5.4519223e-05 1.6952953e-06 3.2647456e-06 5.6764544e-05\n",
            "  1.4105505e-01 8.5840917e-01 3.4415058e-05 2.4970790e-05 9.0747508e-06\n",
            "  1.4332409e-05]]\n"
          ]
        },
        {
          "name": "stderr",
          "output_type": "stream",
          "text": [
            "\n",
            "\n",
            "tqdm() Progress Bar Segments: 1310it [11:31,  1.93it/s]\u001b[A\u001b[A"
          ]
        },
        {
          "name": "stdout",
          "output_type": "stream",
          "text": [
            "[[1.0233901e-03 4.6692294e-04 1.4108708e-06 6.9611392e-06 9.7053868e-05\n",
            "  9.6707314e-01 3.1068288e-02 1.2244294e-04 2.2842118e-05 1.0686632e-04\n",
            "  1.0877299e-05]]\n"
          ]
        },
        {
          "name": "stderr",
          "output_type": "stream",
          "text": [
            "\n",
            "\n",
            "tqdm() Progress Bar Segments: 1311it [11:31,  1.93it/s]\u001b[A\u001b[A"
          ]
        },
        {
          "name": "stdout",
          "output_type": "stream",
          "text": [
            "[[1.4081819e-04 1.6444819e-05 1.0779953e-05 1.3948021e-03 5.3394043e-01\n",
            "  5.7555182e-04 1.0021126e-02 7.5777539e-06 4.2957792e-01 1.6771299e-04\n",
            "  2.4146860e-02]]\n"
          ]
        },
        {
          "name": "stderr",
          "output_type": "stream",
          "text": [
            "\n",
            "\n",
            "tqdm() Progress Bar Segments: 1312it [11:32,  1.93it/s]\u001b[A\u001b[A"
          ]
        },
        {
          "name": "stdout",
          "output_type": "stream",
          "text": [
            "[[4.40477961e-05 3.20520689e-06 4.92450044e-06 4.27285559e-04\n",
            "  8.51701140e-01 1.18306314e-04 4.25340189e-03 1.27667215e-06\n",
            "  1.03378125e-01 9.38174253e-06 4.00589220e-02]]\n"
          ]
        },
        {
          "name": "stderr",
          "output_type": "stream",
          "text": [
            "\n",
            "\n",
            "tqdm() Progress Bar Segments: 1313it [11:32,  1.93it/s]\u001b[A\u001b[A"
          ]
        },
        {
          "name": "stdout",
          "output_type": "stream",
          "text": [
            "[[4.4586360e-03 8.6277968e-04 4.6351604e-04 4.7827407e-04 2.7781725e-01\n",
            "  5.0812722e-03 4.6844343e-03 5.0513595e-03 7.6265708e-02 4.8220728e-04\n",
            "  6.2435454e-01]]\n"
          ]
        },
        {
          "name": "stderr",
          "output_type": "stream",
          "text": [
            "\n",
            "\n",
            "tqdm() Progress Bar Segments: 1314it [11:33,  1.89it/s]\u001b[A\u001b[A"
          ]
        },
        {
          "name": "stdout",
          "output_type": "stream",
          "text": [
            "[[4.5133993e-02 3.5346985e-01 3.2491453e-02 1.4558875e-04 4.9125502e-01\n",
            "  6.8328872e-02 1.4731705e-03 3.4986329e-03 2.3309543e-04 3.4085545e-04\n",
            "  3.6294172e-03]]\n"
          ]
        },
        {
          "name": "stderr",
          "output_type": "stream",
          "text": [
            "\n",
            "\n",
            "tqdm() Progress Bar Segments: 1315it [11:33,  1.91it/s]\u001b[A\u001b[A"
          ]
        },
        {
          "name": "stdout",
          "output_type": "stream",
          "text": [
            "[[1.2723687e-04 3.3780329e-05 2.7925158e-05 2.2954536e-03 3.6128968e-01\n",
            "  2.6385408e-04 7.4849646e-03 1.8673101e-05 5.2242416e-01 7.1465292e-05\n",
            "  1.0596269e-01]]\n"
          ]
        },
        {
          "name": "stderr",
          "output_type": "stream",
          "text": [
            "\n",
            "\n",
            "tqdm() Progress Bar Segments: 1316it [11:34,  1.84it/s]\u001b[A\u001b[A"
          ]
        },
        {
          "name": "stdout",
          "output_type": "stream",
          "text": [
            "[[3.5282613e-03 2.4052566e-02 2.3048087e-04 1.6407311e-02 5.4334026e-02\n",
            "  1.4128329e-02 6.7599217e-04 7.9527438e-01 3.0867351e-02 9.9189067e-03\n",
            "  5.0582420e-02]]\n"
          ]
        },
        {
          "name": "stderr",
          "output_type": "stream",
          "text": [
            "\n",
            "\n",
            "tqdm() Progress Bar Segments: 1317it [11:34,  1.87it/s]\u001b[A\u001b[A"
          ]
        },
        {
          "name": "stdout",
          "output_type": "stream",
          "text": [
            "[[1.6972859e-04 2.5385258e-05 1.9306102e-05 8.1510805e-03 6.2552613e-01\n",
            "  2.3806127e-04 9.8316344e-03 1.9553618e-05 3.4023619e-01 2.3700146e-04\n",
            "  1.5545934e-02]]\n"
          ]
        },
        {
          "name": "stderr",
          "output_type": "stream",
          "text": [
            "\n",
            "\n",
            "tqdm() Progress Bar Segments: 1318it [11:35,  1.88it/s]\u001b[A\u001b[A"
          ]
        },
        {
          "name": "stdout",
          "output_type": "stream",
          "text": [
            "[[4.4559860e-05 3.8198781e-05 4.0370393e-05 4.3255903e-04 9.0976357e-01\n",
            "  1.8986486e-04 2.1744374e-02 6.1015025e-06 4.9727947e-02 2.7621525e-05\n",
            "  1.7984841e-02]]\n"
          ]
        },
        {
          "name": "stderr",
          "output_type": "stream",
          "text": [
            "\n",
            "\n",
            "tqdm() Progress Bar Segments: 1319it [11:35,  1.90it/s]\u001b[A\u001b[A"
          ]
        },
        {
          "name": "stdout",
          "output_type": "stream",
          "text": [
            "[[1.4732499e-02 6.4787984e-01 1.6784307e-02 1.8300039e-04 1.8456814e-01\n",
            "  1.7761856e-02 1.6588364e-03 1.2380404e-02 1.2095321e-03 8.6236669e-04\n",
            "  1.0197928e-01]]\n"
          ]
        },
        {
          "name": "stderr",
          "output_type": "stream",
          "text": [
            "\n",
            "\n",
            "tqdm() Progress Bar Segments: 1320it [11:36,  1.90it/s]\u001b[A\u001b[A"
          ]
        },
        {
          "name": "stdout",
          "output_type": "stream",
          "text": [
            "[[1.1433757e-02 2.9384056e-01 1.2524270e-04 5.9912971e-04 1.1766605e-02\n",
            "  5.0782472e-01 1.1149929e-03 1.6069877e-01 2.5357283e-04 1.1516210e-02\n",
            "  8.2644541e-04]]\n"
          ]
        },
        {
          "name": "stderr",
          "output_type": "stream",
          "text": [
            "\n",
            "\n",
            "tqdm() Progress Bar Segments: 1321it [11:36,  1.91it/s]\u001b[A\u001b[A"
          ]
        },
        {
          "name": "stdout",
          "output_type": "stream",
          "text": [
            "[[1.4423726e-05 7.3261003e-06 8.9076993e-06 2.2551520e-03 8.9553022e-01\n",
            "  7.6284981e-05 1.4931461e-02 1.9151048e-06 8.3797418e-02 4.8582726e-05\n",
            "  3.3283122e-03]]\n"
          ]
        },
        {
          "name": "stderr",
          "output_type": "stream",
          "text": [
            "\n",
            "\n",
            "tqdm() Progress Bar Segments: 1322it [11:37,  1.91it/s]\u001b[A\u001b[A"
          ]
        },
        {
          "name": "stdout",
          "output_type": "stream",
          "text": [
            "[[1.3060033e-04 1.5096258e-05 1.6833354e-05 5.0391112e-02 2.4455240e-01\n",
            "  2.3829823e-04 1.0780156e-02 1.8877001e-05 6.4708048e-01 1.5431213e-04\n",
            "  4.6621814e-02]]\n"
          ]
        },
        {
          "name": "stderr",
          "output_type": "stream",
          "text": [
            "\n",
            "\n",
            "tqdm() Progress Bar Segments: 1323it [11:37,  1.91it/s]\u001b[A\u001b[A"
          ]
        },
        {
          "name": "stdout",
          "output_type": "stream",
          "text": [
            "[[0.68548054 0.0072288  0.00096865 0.00217652 0.01270752 0.18936317\n",
            "  0.00659157 0.06034521 0.0044865  0.0009449  0.02970661]]\n"
          ]
        },
        {
          "name": "stderr",
          "output_type": "stream",
          "text": [
            "\n",
            "\n",
            "tqdm() Progress Bar Segments: 1324it [11:38,  1.92it/s]\u001b[A\u001b[A"
          ]
        },
        {
          "name": "stdout",
          "output_type": "stream",
          "text": [
            "[[1.5278491e-03 1.9070377e-04 2.4680691e-04 9.4096368e-04 1.3723613e-01\n",
            "  1.0375106e-02 2.3357015e-02 9.0898371e-05 3.0445706e-02 6.8850844e-05\n",
            "  7.9552001e-01]]\n"
          ]
        },
        {
          "name": "stderr",
          "output_type": "stream",
          "text": [
            "\n",
            "\n",
            "tqdm() Progress Bar Segments: 1325it [11:39,  1.93it/s]\u001b[A\u001b[A"
          ]
        },
        {
          "name": "stdout",
          "output_type": "stream",
          "text": [
            "[[1.0357666e-03 7.3705167e-05 9.2139977e-05 7.2194397e-04 5.7977762e-02\n",
            "  3.1918767e-03 5.8505605e-03 6.0050821e-05 7.4031472e-02 6.2930914e-05\n",
            "  8.5690182e-01]]\n"
          ]
        },
        {
          "name": "stderr",
          "output_type": "stream",
          "text": [
            "\n",
            "\n",
            "tqdm() Progress Bar Segments: 1326it [11:39,  1.93it/s]\u001b[A\u001b[A"
          ]
        },
        {
          "name": "stdout",
          "output_type": "stream",
          "text": [
            "[[3.1020907e-03 5.7931584e-03 5.9307968e-05 4.3025773e-04 1.9626555e-03\n",
            "  6.2959725e-01 3.2952163e-01 2.6616851e-02 1.0840952e-03 1.5023215e-03\n",
            "  3.3035333e-04]]\n"
          ]
        },
        {
          "name": "stderr",
          "output_type": "stream",
          "text": [
            "\n",
            "\n",
            "tqdm() Progress Bar Segments: 1327it [11:40,  1.95it/s]\u001b[A\u001b[A"
          ]
        },
        {
          "name": "stdout",
          "output_type": "stream",
          "text": [
            "[[6.8242844e-05 1.4368574e-05 1.1348118e-05 1.2274128e-01 3.6978740e-01\n",
            "  8.8604691e-05 4.0070377e-02 2.2367336e-05 4.6469462e-01 1.6579882e-03\n",
            "  8.4327796e-04]]\n"
          ]
        },
        {
          "name": "stderr",
          "output_type": "stream",
          "text": [
            "\n",
            "\n",
            "tqdm() Progress Bar Segments: 1328it [11:40,  1.95it/s]\u001b[A\u001b[A"
          ]
        },
        {
          "name": "stdout",
          "output_type": "stream",
          "text": [
            "[[8.8072084e-03 2.0920709e-03 7.0614760e-06 5.1546031e-06 3.4112455e-03\n",
            "  9.5466775e-01 2.7826253e-02 1.6533686e-03 9.2540860e-05 1.0362311e-03\n",
            "  4.0117415e-04]]\n"
          ]
        },
        {
          "name": "stderr",
          "output_type": "stream",
          "text": [
            "\n",
            "\n",
            "tqdm() Progress Bar Segments: 1329it [11:41,  1.94it/s]\u001b[A\u001b[A"
          ]
        },
        {
          "name": "stdout",
          "output_type": "stream",
          "text": [
            "[[2.8651750e-03 1.7127172e-04 2.5089769e-06 2.5970596e-04 5.2872938e-03\n",
            "  2.3285844e-04 1.7611785e-05 9.6718895e-01 3.5072882e-03 5.8996338e-05\n",
            "  2.0408360e-02]]\n"
          ]
        },
        {
          "name": "stderr",
          "output_type": "stream",
          "text": [
            "\n",
            "\n",
            "tqdm() Progress Bar Segments: 1330it [11:41,  1.95it/s]\u001b[A\u001b[A"
          ]
        },
        {
          "name": "stdout",
          "output_type": "stream",
          "text": [
            "[[1.5699497e-03 2.8662913e-04 3.0810569e-04 4.3420438e-03 4.0970412e-01\n",
            "  2.5343841e-03 1.7455269e-02 1.5984397e-04 4.1423401e-01 2.8876564e-04\n",
            "  1.4911695e-01]]\n"
          ]
        },
        {
          "name": "stderr",
          "output_type": "stream",
          "text": [
            "\n",
            "\n",
            "tqdm() Progress Bar Segments: 1331it [11:42,  1.95it/s]\u001b[A\u001b[A"
          ]
        },
        {
          "name": "stdout",
          "output_type": "stream",
          "text": [
            "[[9.4323996e-03 9.9915199e-02 6.6429146e-02 2.6765914e-05 8.0361682e-01\n",
            "  1.9716661e-02 3.7905455e-04 2.1736050e-04 3.4190602e-05 7.0288428e-05\n",
            "  1.6205104e-04]]\n"
          ]
        },
        {
          "name": "stderr",
          "output_type": "stream",
          "text": [
            "\n",
            "\n",
            "tqdm() Progress Bar Segments: 1332it [11:42,  1.89it/s]\u001b[A\u001b[A"
          ]
        },
        {
          "name": "stdout",
          "output_type": "stream",
          "text": [
            "[[5.1090745e-03 5.1524537e-04 6.4253065e-05 8.5618813e-04 2.9280975e-02\n",
            "  3.2128403e-03 6.9030019e-04 8.6622405e-01 3.6741223e-02 5.4442585e-03\n",
            "  5.1861688e-02]]\n"
          ]
        },
        {
          "name": "stderr",
          "output_type": "stream",
          "text": [
            "\n",
            "\n",
            "tqdm() Progress Bar Segments: 1333it [11:43,  1.90it/s]\u001b[A\u001b[A"
          ]
        },
        {
          "name": "stdout",
          "output_type": "stream",
          "text": [
            "[[0.00770682 0.00519661 0.00109937 0.00273065 0.19691546 0.03868757\n",
            "  0.03015606 0.01275648 0.17123872 0.00119808 0.5323142 ]]\n"
          ]
        },
        {
          "name": "stderr",
          "output_type": "stream",
          "text": [
            "\n",
            "\n",
            "tqdm() Progress Bar Segments: 1334it [11:43,  1.92it/s]\u001b[A\u001b[A"
          ]
        },
        {
          "name": "stdout",
          "output_type": "stream",
          "text": [
            "[[1.1128453e-03 1.9919059e-04 1.3896490e-04 5.0238739e-03 1.5094166e-01\n",
            "  3.6386503e-03 2.1536950e-02 1.4678745e-04 4.2768645e-01 3.7070259e-04\n",
            "  3.8920391e-01]]\n"
          ]
        },
        {
          "name": "stderr",
          "output_type": "stream",
          "text": [
            "\n",
            "\n",
            "tqdm() Progress Bar Segments: 1335it [11:44,  1.92it/s]\u001b[A\u001b[A"
          ]
        },
        {
          "name": "stdout",
          "output_type": "stream",
          "text": [
            "[[1.8842698e-03 1.0603750e-03 2.8727532e-04 2.2169108e-04 2.5336686e-01\n",
            "  3.9205262e-03 8.0359750e-04 4.8090690e-03 2.3439888e-02 8.0561171e-05\n",
            "  7.1012592e-01]]\n"
          ]
        },
        {
          "name": "stderr",
          "output_type": "stream",
          "text": [
            "\n",
            "\n",
            "tqdm() Progress Bar Segments: 1336it [11:44,  1.94it/s]\u001b[A\u001b[A"
          ]
        },
        {
          "name": "stdout",
          "output_type": "stream",
          "text": [
            "[[0.01250712 0.00086388 0.00188891 0.11000547 0.17329234 0.03490021\n",
            "  0.08492626 0.00205444 0.4185198  0.01096227 0.15007938]]\n"
          ]
        },
        {
          "name": "stderr",
          "output_type": "stream",
          "text": [
            "\n",
            "\n",
            "tqdm() Progress Bar Segments: 1337it [11:45,  1.94it/s]\u001b[A\u001b[A"
          ]
        },
        {
          "name": "stdout",
          "output_type": "stream",
          "text": [
            "[[3.7835729e-03 2.2182052e-03 2.4556630e-05 2.0874599e-05 1.2024990e-03\n",
            "  8.1792313e-01 1.7333119e-01 5.9049024e-04 4.1316115e-04 2.4748768e-04\n",
            "  2.4488353e-04]]\n"
          ]
        },
        {
          "name": "stderr",
          "output_type": "stream",
          "text": [
            "\n",
            "\n",
            "tqdm() Progress Bar Segments: 1338it [11:45,  1.94it/s]\u001b[A\u001b[A"
          ]
        },
        {
          "name": "stdout",
          "output_type": "stream",
          "text": [
            "[[3.4932951e-03 3.3945306e-03 2.6604583e-04 1.8449682e-03 1.0344691e-01\n",
            "  2.6074141e-02 1.9189015e-02 8.9090187e-03 4.2876694e-01 1.8767666e-03\n",
            "  4.0273836e-01]]\n"
          ]
        },
        {
          "name": "stderr",
          "output_type": "stream",
          "text": [
            "\n",
            "\n",
            "tqdm() Progress Bar Segments: 1339it [11:46,  1.93it/s]\u001b[A\u001b[A"
          ]
        },
        {
          "name": "stdout",
          "output_type": "stream",
          "text": [
            "[[6.1778329e-02 2.8003844e-02 1.1085292e-04 4.4505100e-04 6.9726328e-03\n",
            "  6.4922178e-01 4.9013374e-03 3.8108315e-02 1.8294014e-03 2.0790064e-01\n",
            "  7.2786154e-04]]\n"
          ]
        },
        {
          "name": "stderr",
          "output_type": "stream",
          "text": [
            "\n",
            "\n",
            "tqdm() Progress Bar Segments: 1340it [11:46,  1.93it/s]\u001b[A\u001b[A"
          ]
        },
        {
          "name": "stdout",
          "output_type": "stream",
          "text": [
            "[[0.7441628  0.00188761 0.0007487  0.00142745 0.03582948 0.09181891\n",
            "  0.0562745  0.02830558 0.00693545 0.01212186 0.02048764]]\n"
          ]
        },
        {
          "name": "stderr",
          "output_type": "stream",
          "text": [
            "\n",
            "\n",
            "tqdm() Progress Bar Segments: 1341it [11:47,  1.85it/s]\u001b[A\u001b[A"
          ]
        },
        {
          "name": "stdout",
          "output_type": "stream",
          "text": [
            "[[5.7779817e-04 2.2471198e-05 6.8678796e-06 5.1757524e-04 2.5121812e-02\n",
            "  9.3250966e-04 2.7419603e-03 6.5411601e-05 8.7345952e-01 1.8194165e-04\n",
            "  9.6372187e-02]]\n"
          ]
        },
        {
          "name": "stderr",
          "output_type": "stream",
          "text": [
            "\n",
            "\n",
            "tqdm() Progress Bar Segments: 1342it [11:47,  1.87it/s]\u001b[A\u001b[A"
          ]
        },
        {
          "name": "stdout",
          "output_type": "stream",
          "text": [
            "[[5.4267049e-02 9.7106151e-02 1.6267940e-02 6.1943982e-04 7.9703486e-01\n",
            "  1.9029232e-02 6.2835898e-04 1.0069686e-02 3.1362669e-04 3.8072190e-04\n",
            "  4.2828317e-03]]\n"
          ]
        },
        {
          "name": "stderr",
          "output_type": "stream",
          "text": [
            "\n",
            "\n",
            "tqdm() Progress Bar Segments: 1343it [11:48,  1.88it/s]\u001b[A\u001b[A"
          ]
        },
        {
          "name": "stdout",
          "output_type": "stream",
          "text": [
            "[[2.62533547e-04 1.14097675e-05 2.51171372e-07 4.12835600e-03\n",
            "  3.36085889e-03 9.70986148e-05 2.42759506e-05 9.71328914e-01\n",
            "  1.64503306e-02 4.07289807e-03 2.63233029e-04]]\n"
          ]
        },
        {
          "name": "stderr",
          "output_type": "stream",
          "text": [
            "\n",
            "\n",
            "tqdm() Progress Bar Segments: 1344it [11:48,  1.90it/s]\u001b[A\u001b[A"
          ]
        },
        {
          "name": "stdout",
          "output_type": "stream",
          "text": [
            "[[9.9602463e-03 4.4034852e-04 1.8989297e-06 1.6485351e-06 3.0493981e-04\n",
            "  9.8278427e-01 6.1843665e-03 1.4146647e-05 5.2925185e-05 7.5535099e-06\n",
            "  2.4765695e-04]]\n"
          ]
        },
        {
          "name": "stderr",
          "output_type": "stream",
          "text": [
            "\n",
            "\n",
            "tqdm() Progress Bar Segments: 1345it [11:49,  1.91it/s]\u001b[A\u001b[A"
          ]
        },
        {
          "name": "stdout",
          "output_type": "stream",
          "text": [
            "[[5.09011967e-04 4.91172832e-04 1.13490933e-05 3.40133527e-04\n",
            "  1.63732488e-02 2.75053573e-03 1.21408586e-04 9.38002944e-01\n",
            "  2.09415741e-02 2.65915121e-04 2.01927219e-02]]\n"
          ]
        },
        {
          "name": "stderr",
          "output_type": "stream",
          "text": [
            "\n",
            "\n",
            "tqdm() Progress Bar Segments: 1346it [11:49,  1.93it/s]\u001b[A\u001b[A"
          ]
        },
        {
          "name": "stdout",
          "output_type": "stream",
          "text": [
            "[[1.7543238e-02 6.6573846e-01 6.0936190e-02 1.4440734e-04 9.5406294e-02\n",
            "  1.4061716e-01 6.2427684e-03 1.1787392e-03 1.5584588e-03 3.7544032e-03\n",
            "  6.8799290e-03]]\n"
          ]
        },
        {
          "name": "stderr",
          "output_type": "stream",
          "text": [
            "\n",
            "\n",
            "tqdm() Progress Bar Segments: 1347it [11:50,  1.93it/s]\u001b[A\u001b[A"
          ]
        },
        {
          "name": "stdout",
          "output_type": "stream",
          "text": [
            "[[5.12638967e-03 2.88479161e-02 2.10628408e-04 9.95496230e-05\n",
            "  6.30598664e-02 1.01453282e-01 2.56386586e-03 7.95301855e-01\n",
            "  1.07084576e-04 2.07568193e-03 1.15386397e-03]]\n"
          ]
        },
        {
          "name": "stderr",
          "output_type": "stream",
          "text": [
            "\n",
            "\n",
            "tqdm() Progress Bar Segments: 1348it [11:50,  1.93it/s]\u001b[A\u001b[A"
          ]
        },
        {
          "name": "stdout",
          "output_type": "stream",
          "text": [
            "[[2.3546336e-04 7.9935322e-05 1.9046749e-05 3.8047734e-04 8.6543575e-02\n",
            "  2.3336176e-04 4.4813682e-03 3.2105442e-04 8.6960012e-01 2.1260821e-04\n",
            "  3.7892941e-02]]\n"
          ]
        },
        {
          "name": "stderr",
          "output_type": "stream",
          "text": [
            "\n",
            "\n",
            "tqdm() Progress Bar Segments: 1349it [11:51,  1.93it/s]\u001b[A\u001b[A"
          ]
        },
        {
          "name": "stdout",
          "output_type": "stream",
          "text": [
            "[[1.6227549e-04 8.6386870e-05 2.3580408e-06 2.6810834e-05 3.7954224e-04\n",
            "  5.1248223e-02 9.4296056e-01 4.4175969e-03 1.2221042e-04 5.8116496e-04\n",
            "  1.2901647e-05]]\n"
          ]
        },
        {
          "name": "stderr",
          "output_type": "stream",
          "text": [
            "\n",
            "\n",
            "tqdm() Progress Bar Segments: 1350it [11:52,  1.93it/s]\u001b[A\u001b[A"
          ]
        },
        {
          "name": "stdout",
          "output_type": "stream",
          "text": [
            "[[4.1246528e-04 2.0667228e-05 9.7452994e-06 7.5719450e-03 2.5846934e-02\n",
            "  2.8731377e-04 7.3690678e-04 6.7685369e-06 5.3473043e-01 2.4503206e-05\n",
            "  4.3035242e-01]]\n"
          ]
        },
        {
          "name": "stderr",
          "output_type": "stream",
          "text": [
            "\n",
            "\n",
            "tqdm() Progress Bar Segments: 1351it [11:52,  1.93it/s]\u001b[A\u001b[A"
          ]
        },
        {
          "name": "stdout",
          "output_type": "stream",
          "text": [
            "[[2.5173195e-02 1.5432544e-01 1.3093727e-03 2.1543575e-04 4.3290579e-01\n",
            "  2.8280705e-01 9.2448993e-03 7.9277240e-02 3.6949778e-04 1.0743257e-02\n",
            "  3.6286772e-03]]\n"
          ]
        },
        {
          "name": "stderr",
          "output_type": "stream",
          "text": [
            "\n",
            "\n",
            "tqdm() Progress Bar Segments: 1352it [11:53,  1.94it/s]\u001b[A\u001b[A"
          ]
        },
        {
          "name": "stdout",
          "output_type": "stream",
          "text": [
            "[[2.05314951e-03 7.26172701e-03 2.74332660e-06 1.72517878e-06\n",
            "  1.56224950e-03 9.88391042e-01 1.37614770e-04 4.22026642e-04\n",
            "  1.23642985e-05 7.67724414e-05 7.86104429e-05]]\n"
          ]
        },
        {
          "name": "stderr",
          "output_type": "stream",
          "text": [
            "\n",
            "\n",
            "tqdm() Progress Bar Segments: 1353it [11:53,  1.93it/s]\u001b[A\u001b[A"
          ]
        },
        {
          "name": "stdout",
          "output_type": "stream",
          "text": [
            "[[1.3188525e-03 5.2175688e-04 2.1089145e-06 4.4291108e-03 1.5443460e-02\n",
            "  6.7514917e-03 1.5812916e-04 5.1947773e-01 4.3518591e-01 7.4420897e-03\n",
            "  9.2693772e-03]]\n"
          ]
        },
        {
          "name": "stderr",
          "output_type": "stream",
          "text": [
            "\n",
            "\n",
            "tqdm() Progress Bar Segments: 1354it [11:54,  1.94it/s]\u001b[A\u001b[A"
          ]
        },
        {
          "name": "stdout",
          "output_type": "stream",
          "text": [
            "[[9.7525306e-05 1.2647122e-04 6.8863591e-07 1.3360330e-03 3.3952497e-04\n",
            "  1.3338712e-04 2.6428301e-05 9.9637270e-01 1.3126425e-03 1.5054738e-04\n",
            "  1.0404499e-04]]\n"
          ]
        },
        {
          "name": "stderr",
          "output_type": "stream",
          "text": [
            "\n",
            "\n",
            "tqdm() Progress Bar Segments: 1355it [11:54,  1.94it/s]\u001b[A\u001b[A"
          ]
        },
        {
          "name": "stdout",
          "output_type": "stream",
          "text": [
            "[[1.8608844e-03 1.6201098e-03 1.4400131e-05 1.0192308e-05 2.1806909e-03\n",
            "  1.1447577e-02 1.5587071e-05 1.3892645e-04 8.6892704e-03 2.9978009e-05\n",
            "  9.7399241e-01]]\n"
          ]
        },
        {
          "name": "stderr",
          "output_type": "stream",
          "text": [
            "\n",
            "\n",
            "tqdm() Progress Bar Segments: 1356it [11:55,  1.94it/s]\u001b[A\u001b[A"
          ]
        },
        {
          "name": "stdout",
          "output_type": "stream",
          "text": [
            "[[2.2019019e-02 4.2133627e-04 1.7037726e-06 3.8483308e-06 1.5688497e-04\n",
            "  9.7585517e-01 1.3684555e-03 5.5883233e-05 2.6755237e-05 5.9575956e-05\n",
            "  3.1385523e-05]]\n"
          ]
        },
        {
          "name": "stderr",
          "output_type": "stream",
          "text": [
            "\n",
            "\n",
            "tqdm() Progress Bar Segments: 1357it [11:55,  1.95it/s]\u001b[A\u001b[A"
          ]
        },
        {
          "name": "stdout",
          "output_type": "stream",
          "text": [
            "[[5.1424653e-05 3.1264649e-06 5.2880064e-06 3.7928291e-03 8.9061522e-01\n",
            "  2.7938710e-05 1.0603706e-03 1.5599300e-06 3.4084115e-02 3.8361195e-06\n",
            "  7.0354261e-02]]\n"
          ]
        },
        {
          "name": "stderr",
          "output_type": "stream",
          "text": [
            "\n",
            "\n",
            "tqdm() Progress Bar Segments: 1358it [11:56,  1.94it/s]\u001b[A\u001b[A"
          ]
        },
        {
          "name": "stdout",
          "output_type": "stream",
          "text": [
            "[[0.00546592 0.04000027 0.00235138 0.00275217 0.4660807  0.18712148\n",
            "  0.02998314 0.02252103 0.0602743  0.00284529 0.18060422]]\n"
          ]
        },
        {
          "name": "stderr",
          "output_type": "stream",
          "text": [
            "\n",
            "\n",
            "tqdm() Progress Bar Segments: 1359it [11:56,  1.95it/s]\u001b[A\u001b[A"
          ]
        },
        {
          "name": "stdout",
          "output_type": "stream",
          "text": [
            "[[2.4581768e-05 1.3848822e-05 6.4274759e-06 6.0387322e-04 8.5256076e-01\n",
            "  9.4056020e-05 1.3627429e-02 2.8749837e-06 1.3189521e-01 3.2166205e-05\n",
            "  1.1387321e-03]]\n"
          ]
        },
        {
          "name": "stderr",
          "output_type": "stream",
          "text": [
            "\n",
            "\n",
            "tqdm() Progress Bar Segments: 1360it [11:57,  1.94it/s]\u001b[A\u001b[A"
          ]
        },
        {
          "name": "stdout",
          "output_type": "stream",
          "text": [
            "[[4.3808970e-05 5.6068739e-06 5.8446112e-06 4.9203266e-03 8.7944478e-01\n",
            "  2.1193140e-05 1.4140314e-03 1.1843887e-06 7.4065886e-02 3.9574311e-06\n",
            "  4.0073238e-02]]\n"
          ]
        },
        {
          "name": "stderr",
          "output_type": "stream",
          "text": [
            "\n",
            "\n",
            "tqdm() Progress Bar Segments: 1361it [11:57,  1.95it/s]\u001b[A\u001b[A"
          ]
        },
        {
          "name": "stdout",
          "output_type": "stream",
          "text": [
            "[[3.9122659e-03 6.0683966e-04 8.2944149e-07 2.1159110e-06 5.7065485e-05\n",
            "  9.8914331e-01 6.1967280e-03 2.5896825e-05 5.4184839e-06 4.3611693e-05\n",
            "  5.9494287e-06]]\n"
          ]
        },
        {
          "name": "stderr",
          "output_type": "stream",
          "text": [
            "\n",
            "\n",
            "tqdm() Progress Bar Segments: 1362it [11:58,  1.94it/s]\u001b[A\u001b[A"
          ]
        },
        {
          "name": "stdout",
          "output_type": "stream",
          "text": [
            "[[1.3464379e-04 6.7294131e-05 2.8671170e-07 5.4112385e-05 4.5554488e-04\n",
            "  4.0795020e-04 3.7055070e-06 9.9838400e-01 1.5176352e-04 3.6301179e-05\n",
            "  3.0445924e-04]]\n"
          ]
        },
        {
          "name": "stderr",
          "output_type": "stream",
          "text": [
            "\n",
            "\n",
            "tqdm() Progress Bar Segments: 1363it [11:58,  1.94it/s]\u001b[A\u001b[A"
          ]
        },
        {
          "name": "stdout",
          "output_type": "stream",
          "text": [
            "[[0.005566   0.00433927 0.00166442 0.00146645 0.4545231  0.00729515\n",
            "  0.0022085  0.00896959 0.0302304  0.00075783 0.48297927]]\n"
          ]
        },
        {
          "name": "stderr",
          "output_type": "stream",
          "text": [
            "\n",
            "\n",
            "tqdm() Progress Bar Segments: 1364it [11:59,  1.88it/s]\u001b[A\u001b[A"
          ]
        },
        {
          "name": "stdout",
          "output_type": "stream",
          "text": [
            "[[4.0295758e-04 9.1455273e-05 3.9963415e-05 1.8477999e-04 4.4302136e-02\n",
            "  4.6334573e-04 2.1793144e-03 3.5432680e-05 2.5797379e-01 4.7122237e-05\n",
            "  6.9427967e-01]]\n"
          ]
        },
        {
          "name": "stderr",
          "output_type": "stream",
          "text": [
            "\n",
            "\n",
            "tqdm() Progress Bar Segments: 1365it [11:59,  1.83it/s]\u001b[A\u001b[A"
          ]
        },
        {
          "name": "stdout",
          "output_type": "stream",
          "text": [
            "[[0.0138068  0.00887094 0.01259335 0.00172307 0.9199933  0.00659904\n",
            "  0.00401307 0.00641669 0.00576928 0.00119554 0.01901902]]\n"
          ]
        },
        {
          "name": "stderr",
          "output_type": "stream",
          "text": [
            "\n",
            "\n",
            "tqdm() Progress Bar Segments: 1366it [12:00,  1.86it/s]\u001b[A\u001b[A"
          ]
        },
        {
          "name": "stdout",
          "output_type": "stream",
          "text": [
            "[[2.4549789e-05 4.5018809e-04 7.3663097e-07 6.5831351e-04 9.6952921e-04\n",
            "  2.6338730e-05 2.7059227e-06 9.9774784e-01 1.9465559e-05 2.6766929e-05\n",
            "  7.3572810e-05]]\n"
          ]
        },
        {
          "name": "stderr",
          "output_type": "stream",
          "text": [
            "\n",
            "\n",
            "tqdm() Progress Bar Segments: 1367it [12:00,  1.90it/s]\u001b[A\u001b[A"
          ]
        },
        {
          "name": "stdout",
          "output_type": "stream",
          "text": [
            "[[1.8796399e-04 2.7031099e-05 4.1848183e-05 8.9404563e-04 8.6501586e-01\n",
            "  9.3949022e-04 4.6093450e-03 1.0438008e-05 2.3126351e-02 2.2377128e-05\n",
            "  1.0512524e-01]]\n"
          ]
        },
        {
          "name": "stderr",
          "output_type": "stream",
          "text": [
            "\n",
            "\n",
            "tqdm() Progress Bar Segments: 1368it [12:01,  1.85it/s]\u001b[A\u001b[A"
          ]
        },
        {
          "name": "stdout",
          "output_type": "stream",
          "text": [
            "[[1.9676443e-04 6.4361309e-05 4.2253239e-05 2.9019837e-04 8.9785826e-01\n",
            "  1.7318326e-03 1.7550708e-03 1.2438183e-05 1.3628389e-02 1.0583991e-05\n",
            "  8.4409907e-02]]\n"
          ]
        },
        {
          "name": "stderr",
          "output_type": "stream",
          "text": [
            "\n",
            "\n",
            "tqdm() Progress Bar Segments: 1369it [12:01,  1.87it/s]\u001b[A\u001b[A"
          ]
        },
        {
          "name": "stdout",
          "output_type": "stream",
          "text": [
            "[[2.2881269e-03 4.5836461e-03 2.4581095e-04 1.2819619e-03 2.7282253e-01\n",
            "  3.7871420e-02 2.6080651e-02 3.0011095e-02 3.2700130e-01 1.1372835e-03\n",
            "  2.9667619e-01]]\n"
          ]
        },
        {
          "name": "stderr",
          "output_type": "stream",
          "text": [
            "\n",
            "\n",
            "tqdm() Progress Bar Segments: 1370it [12:02,  1.90it/s]\u001b[A\u001b[A"
          ]
        },
        {
          "name": "stdout",
          "output_type": "stream",
          "text": [
            "[[2.2483006e-02 2.6989251e-01 6.0790736e-04 1.9071285e-05 1.5881253e-02\n",
            "  6.8802112e-01 1.1022283e-03 2.1692686e-04 1.1524778e-04 4.0929360e-04\n",
            "  1.2514915e-03]]\n"
          ]
        },
        {
          "name": "stderr",
          "output_type": "stream",
          "text": [
            "\n",
            "\n",
            "tqdm() Progress Bar Segments: 1371it [12:02,  1.91it/s]\u001b[A\u001b[A"
          ]
        },
        {
          "name": "stdout",
          "output_type": "stream",
          "text": [
            "[[5.03247156e-06 1.07668166e-06 9.64478719e-09 1.79384238e-04\n",
            "  2.80311269e-05 5.67226323e-07 1.57979429e-07 9.99702394e-01\n",
            "  5.43155074e-05 1.21358635e-05 1.68931911e-05]]\n"
          ]
        },
        {
          "name": "stderr",
          "output_type": "stream",
          "text": [
            "\n",
            "\n",
            "tqdm() Progress Bar Segments: 1372it [12:03,  1.91it/s]\u001b[A\u001b[A"
          ]
        },
        {
          "name": "stdout",
          "output_type": "stream",
          "text": [
            "[[3.2165316e-03 4.3298326e-02 5.4759992e-05 2.2201054e-04 6.2883571e-02\n",
            "  3.3079311e-01 7.6208636e-04 5.5478191e-01 1.5705415e-04 3.3162169e-03\n",
            "  5.1442866e-04]]\n"
          ]
        },
        {
          "name": "stderr",
          "output_type": "stream",
          "text": [
            "\n",
            "\n",
            "tqdm() Progress Bar Segments: 1373it [12:04,  1.91it/s]\u001b[A\u001b[A"
          ]
        },
        {
          "name": "stdout",
          "output_type": "stream",
          "text": [
            "[[8.67080748e-01 5.95089339e-04 4.19407188e-05 1.03030456e-04\n",
            "  3.05639551e-04 1.26494899e-01 1.50711887e-04 3.80207901e-04\n",
            "  2.97638180e-04 4.88751648e-05 4.50115325e-03]]\n"
          ]
        },
        {
          "name": "stderr",
          "output_type": "stream",
          "text": [
            "\n",
            "\n",
            "tqdm() Progress Bar Segments: 1374it [12:04,  1.91it/s]\u001b[A\u001b[A"
          ]
        },
        {
          "name": "stdout",
          "output_type": "stream",
          "text": [
            "[[3.8292143e-04 2.3467364e-03 1.9950872e-05 7.9248712e-05 4.6757516e-02\n",
            "  8.3198715e-03 8.2473074e-05 8.8697153e-01 3.8927570e-03 2.8771767e-04\n",
            "  5.0859313e-02]]\n"
          ]
        },
        {
          "name": "stderr",
          "output_type": "stream",
          "text": [
            "\n",
            "\n",
            "tqdm() Progress Bar Segments: 1375it [12:05,  1.92it/s]\u001b[A\u001b[A"
          ]
        },
        {
          "name": "stdout",
          "output_type": "stream",
          "text": [
            "[[4.3653932e-07 7.0902217e-07 1.2686536e-09 2.9243527e-06 2.6639207e-06\n",
            "  1.1162806e-06 3.4361506e-08 9.9999034e-01 6.0536894e-07 2.9313341e-07\n",
            "  8.3203633e-07]]\n"
          ]
        },
        {
          "name": "stderr",
          "output_type": "stream",
          "text": [
            "\n",
            "\n",
            "tqdm() Progress Bar Segments: 1376it [12:05,  1.92it/s]\u001b[A\u001b[A"
          ]
        },
        {
          "name": "stdout",
          "output_type": "stream",
          "text": [
            "[[1.16690500e-02 3.44329886e-03 1.00763282e-05 1.26371615e-05\n",
            "  1.82455697e-04 9.83835578e-01 3.55822238e-04 1.22054749e-04\n",
            "  4.13850685e-05 1.33936046e-04 1.93781641e-04]]\n"
          ]
        },
        {
          "name": "stderr",
          "output_type": "stream",
          "text": [
            "\n",
            "\n",
            "tqdm() Progress Bar Segments: 1377it [12:06,  1.91it/s]\u001b[A\u001b[A"
          ]
        },
        {
          "name": "stdout",
          "output_type": "stream",
          "text": [
            "[[1.8948918e-02 6.2257268e-02 2.1318795e-02 8.2948878e-05 8.7042171e-01\n",
            "  2.5086816e-02 2.3317650e-04 1.4267523e-03 1.8604807e-05 8.4626925e-05\n",
            "  1.2044107e-04]]\n"
          ]
        },
        {
          "name": "stderr",
          "output_type": "stream",
          "text": [
            "\n",
            "\n",
            "tqdm() Progress Bar Segments: 1378it [12:06,  1.93it/s]\u001b[A\u001b[A"
          ]
        },
        {
          "name": "stdout",
          "output_type": "stream",
          "text": [
            "[[4.2148056e-03 1.3883658e-02 5.6503393e-04 2.5549876e-03 2.1713438e-02\n",
            "  3.9459821e-02 6.9075488e-03 8.8047224e-01 1.1556383e-02 7.5391550e-03\n",
            "  1.1132977e-02]]\n"
          ]
        },
        {
          "name": "stderr",
          "output_type": "stream",
          "text": [
            "\n",
            "\n",
            "tqdm() Progress Bar Segments: 1379it [12:07,  1.93it/s]\u001b[A\u001b[A"
          ]
        },
        {
          "name": "stdout",
          "output_type": "stream",
          "text": [
            "[[7.8232763e-03 2.1638304e-01 1.5558391e-03 4.6423174e-04 6.9323033e-02\n",
            "  7.6046348e-02 4.2205220e-04 6.1645085e-01 1.9186176e-04 1.1648368e-03\n",
            "  1.0174660e-02]]\n"
          ]
        },
        {
          "name": "stderr",
          "output_type": "stream",
          "text": [
            "\n",
            "\n",
            "tqdm() Progress Bar Segments: 1380it [12:07,  1.93it/s]\u001b[A\u001b[A"
          ]
        },
        {
          "name": "stdout",
          "output_type": "stream",
          "text": [
            "[[0.00591118 0.0243523  0.00233323 0.00239418 0.24851547 0.13417122\n",
            "  0.03534907 0.01548711 0.13425912 0.00239698 0.3948301 ]]\n"
          ]
        },
        {
          "name": "stderr",
          "output_type": "stream",
          "text": [
            "\n",
            "\n",
            "tqdm() Progress Bar Segments: 1381it [12:08,  1.93it/s]\u001b[A\u001b[A"
          ]
        },
        {
          "name": "stdout",
          "output_type": "stream",
          "text": [
            "[[5.4347533e-04 1.2807073e-03 6.3240273e-06 1.3086585e-04 2.7944755e-03\n",
            "  4.1055441e-02 2.4059911e-03 9.4895214e-01 1.7149298e-04 2.5713120e-03\n",
            "  8.7667519e-05]]\n"
          ]
        },
        {
          "name": "stderr",
          "output_type": "stream",
          "text": [
            "\n",
            "\n",
            "tqdm() Progress Bar Segments: 1382it [12:08,  1.93it/s]\u001b[A\u001b[A"
          ]
        },
        {
          "name": "stdout",
          "output_type": "stream",
          "text": [
            "[[2.9412871e-02 1.8080869e-03 4.8853040e-06 1.0777470e-05 3.7045084e-04\n",
            "  9.6688038e-01 6.5312209e-04 3.1754767e-04 4.2037813e-05 4.1255073e-04\n",
            "  8.7126551e-05]]\n"
          ]
        },
        {
          "name": "stderr",
          "output_type": "stream",
          "text": [
            "\n",
            "\n",
            "tqdm() Progress Bar Segments: 1383it [12:09,  1.93it/s]\u001b[A\u001b[A"
          ]
        },
        {
          "name": "stdout",
          "output_type": "stream",
          "text": [
            "[[3.6960165e-03 1.2159834e-03 2.9688487e-03 9.4801502e-04 9.8762172e-01\n",
            "  2.8835202e-04 6.0918357e-04 1.0357627e-03 5.1223603e-04 2.3059075e-04\n",
            "  8.7327906e-04]]\n"
          ]
        },
        {
          "name": "stderr",
          "output_type": "stream",
          "text": [
            "\n",
            "\n",
            "tqdm() Progress Bar Segments: 1384it [12:09,  1.94it/s]\u001b[A\u001b[A"
          ]
        },
        {
          "name": "stdout",
          "output_type": "stream",
          "text": [
            "[[6.2942773e-04 1.0976273e-04 2.2850539e-04 2.9346996e-03 5.9039903e-01\n",
            "  3.3004684e-03 2.2690140e-02 2.6720616e-05 1.5955302e-01 8.8318295e-05\n",
            "  2.2003995e-01]]\n"
          ]
        },
        {
          "name": "stderr",
          "output_type": "stream",
          "text": [
            "\n",
            "\n",
            "tqdm() Progress Bar Segments: 1385it [12:10,  1.95it/s]\u001b[A\u001b[A"
          ]
        },
        {
          "name": "stdout",
          "output_type": "stream",
          "text": [
            "[[1.2333015e-01 2.1529929e-01 2.3098732e-03 5.0828961e-04 3.5328489e-02\n",
            "  5.8228672e-01 2.2182807e-03 3.1368669e-02 4.9940147e-04 9.7579596e-04\n",
            "  5.8750375e-03]]\n"
          ]
        },
        {
          "name": "stderr",
          "output_type": "stream",
          "text": [
            "\n",
            "\n",
            "tqdm() Progress Bar Segments: 1386it [12:10,  1.95it/s]\u001b[A\u001b[A"
          ]
        },
        {
          "name": "stdout",
          "output_type": "stream",
          "text": [
            "[[7.2029841e-01 1.2010510e-02 3.7706975e-04 6.1715761e-04 7.4716476e-03\n",
            "  1.6133334e-01 1.0511013e-02 6.0857739e-02 1.7603642e-03 5.5649462e-03\n",
            "  1.9197857e-02]]\n"
          ]
        },
        {
          "name": "stderr",
          "output_type": "stream",
          "text": [
            "\n",
            "\n",
            "tqdm() Progress Bar Segments: 1387it [12:11,  1.94it/s]\u001b[A\u001b[A"
          ]
        },
        {
          "name": "stdout",
          "output_type": "stream",
          "text": [
            "[[4.2430120e-06 5.3243999e-05 4.2404594e-08 7.2458829e-06 2.8016437e-05\n",
            "  1.6426486e-05 5.9589684e-07 9.9982858e-01 5.3086587e-06 3.3967219e-06\n",
            "  5.2740492e-05]]\n"
          ]
        },
        {
          "name": "stderr",
          "output_type": "stream",
          "text": [
            "\n",
            "\n",
            "tqdm() Progress Bar Segments: 1388it [12:11,  1.94it/s]\u001b[A\u001b[A"
          ]
        },
        {
          "name": "stdout",
          "output_type": "stream",
          "text": [
            "[[0.00210503 0.70763165 0.00152821 0.00620512 0.07340297 0.04692204\n",
            "  0.00872623 0.06444559 0.04003379 0.00354012 0.04545923]]\n"
          ]
        },
        {
          "name": "stderr",
          "output_type": "stream",
          "text": [
            "\n",
            "\n",
            "tqdm() Progress Bar Segments: 1389it [12:12,  1.86it/s]\u001b[A\u001b[A"
          ]
        },
        {
          "name": "stdout",
          "output_type": "stream",
          "text": [
            "[[5.46525524e-04 1.03290053e-02 3.93307964e-05 1.12849215e-04\n",
            "  1.97063647e-02 8.96462142e-01 1.05187939e-02 5.40728793e-02\n",
            "  1.06628606e-04 7.96955824e-03 1.35922484e-04]]\n"
          ]
        },
        {
          "name": "stderr",
          "output_type": "stream",
          "text": [
            "\n",
            "\n",
            "tqdm() Progress Bar Segments: 1390it [12:12,  1.81it/s]\u001b[A\u001b[A"
          ]
        },
        {
          "name": "stdout",
          "output_type": "stream",
          "text": [
            "[[1.5633600e-03 2.7609986e-04 1.4522119e-04 5.6952966e-04 6.4421266e-02\n",
            "  4.0885592e-03 9.3447398e-03 3.0254168e-04 6.4185396e-02 8.5808068e-05\n",
            "  8.5501748e-01]]\n"
          ]
        },
        {
          "name": "stderr",
          "output_type": "stream",
          "text": [
            "\n",
            "\n",
            "tqdm() Progress Bar Segments: 1391it [12:13,  1.85it/s]\u001b[A\u001b[A"
          ]
        },
        {
          "name": "stdout",
          "output_type": "stream",
          "text": [
            "[[3.3702978e-04 8.9521272e-05 1.2703425e-04 4.7539134e-02 5.6277645e-01\n",
            "  5.7192484e-04 3.5505198e-02 4.0472416e-05 2.9374418e-01 3.1748932e-04\n",
            "  5.8951613e-02]]\n"
          ]
        },
        {
          "name": "stderr",
          "output_type": "stream",
          "text": [
            "\n",
            "\n",
            "tqdm() Progress Bar Segments: 1392it [12:13,  1.87it/s]\u001b[A\u001b[A"
          ]
        },
        {
          "name": "stdout",
          "output_type": "stream",
          "text": [
            "[[6.8244895e-05 8.5658248e-06 8.0291557e-06 5.0235428e-03 7.5660115e-01\n",
            "  6.4569169e-05 5.0155772e-03 6.4091837e-06 2.2981443e-01 5.5087854e-05\n",
            "  3.3343891e-03]]\n"
          ]
        },
        {
          "name": "stderr",
          "output_type": "stream",
          "text": [
            "\n",
            "\n",
            "tqdm() Progress Bar Segments: 1393it [12:14,  1.90it/s]\u001b[A\u001b[A"
          ]
        },
        {
          "name": "stdout",
          "output_type": "stream",
          "text": [
            "[[1.8351637e-03 1.3778135e-03 1.5460850e-05 3.4319115e-04 4.7431006e-03\n",
            "  3.1469724e-01 2.3602390e-01 4.1724521e-01 1.8915375e-03 2.1596404e-02\n",
            "  2.3096534e-04]]\n"
          ]
        },
        {
          "name": "stderr",
          "output_type": "stream",
          "text": [
            "\n",
            "\n",
            "tqdm() Progress Bar Segments: 1394it [12:15,  1.92it/s]\u001b[A\u001b[A"
          ]
        },
        {
          "name": "stdout",
          "output_type": "stream",
          "text": [
            "[[0.08801901 0.12784438 0.00384323 0.00372654 0.02282428 0.6917173\n",
            "  0.00658007 0.03087285 0.00183842 0.00502581 0.0177081 ]]\n"
          ]
        },
        {
          "name": "stderr",
          "output_type": "stream",
          "text": [
            "\n",
            "\n",
            "tqdm() Progress Bar Segments: 1395it [12:15,  1.85it/s]\u001b[A\u001b[A"
          ]
        },
        {
          "name": "stdout",
          "output_type": "stream",
          "text": [
            "[[1.8970364e-01 4.4030958e-04 9.0707261e-05 2.8240855e-03 2.8791554e-02\n",
            "  6.1875479e-03 3.6711889e-04 7.3474711e-01 1.1402000e-02 4.1830023e-03\n",
            "  2.1262821e-02]]\n"
          ]
        },
        {
          "name": "stderr",
          "output_type": "stream",
          "text": [
            "\n",
            "\n",
            "tqdm() Progress Bar Segments: 1396it [12:16,  1.88it/s]\u001b[A\u001b[A"
          ]
        },
        {
          "name": "stdout",
          "output_type": "stream",
          "text": [
            "[[7.4891094e-04 3.5304195e-04 1.5068668e-04 1.8714991e-03 4.3457219e-01\n",
            "  3.4578538e-03 1.1181804e-02 1.4083784e-04 9.3940511e-02 1.8372238e-04\n",
            "  4.5339897e-01]]\n"
          ]
        },
        {
          "name": "stderr",
          "output_type": "stream",
          "text": [
            "\n",
            "\n",
            "tqdm() Progress Bar Segments: 1397it [12:16,  1.90it/s]\u001b[A\u001b[A"
          ]
        },
        {
          "name": "stdout",
          "output_type": "stream",
          "text": [
            "[[2.1951839e-04 1.7751636e-05 1.9850178e-05 3.0729112e-03 7.3235348e-02\n",
            "  2.5263400e-04 1.3477848e-02 4.1595162e-05 9.0462357e-01 4.8359280e-04\n",
            "  4.5553963e-03]]\n"
          ]
        },
        {
          "name": "stderr",
          "output_type": "stream",
          "text": [
            "\n",
            "\n",
            "tqdm() Progress Bar Segments: 1398it [12:17,  1.91it/s]\u001b[A\u001b[A"
          ]
        },
        {
          "name": "stdout",
          "output_type": "stream",
          "text": [
            "[[2.1759609e-03 5.4942950e-04 1.1082176e-03 1.3509986e-02 6.0722798e-01\n",
            "  3.5744194e-02 5.9653349e-02 1.3834864e-04 1.2931994e-01 8.6593541e-04\n",
            "  1.4970669e-01]]\n"
          ]
        },
        {
          "name": "stderr",
          "output_type": "stream",
          "text": [
            "\n",
            "\n",
            "tqdm() Progress Bar Segments: 1399it [12:17,  1.89it/s]\u001b[A\u001b[A"
          ]
        },
        {
          "name": "stdout",
          "output_type": "stream",
          "text": [
            "[[9.6270240e-05 9.6753220e-06 2.6796977e-06 2.0031460e-02 1.2489385e-01\n",
            "  5.9595735e-05 4.7770233e-04 4.5762081e-06 7.2429067e-01 4.1505733e-05\n",
            "  1.3009194e-01]]\n"
          ]
        },
        {
          "name": "stderr",
          "output_type": "stream",
          "text": [
            "\n",
            "\n",
            "tqdm() Progress Bar Segments: 1400it [12:18,  1.88it/s]\u001b[A\u001b[A"
          ]
        },
        {
          "name": "stdout",
          "output_type": "stream",
          "text": [
            "[[1.0150336e-03 1.3801837e-04 7.7283739e-06 1.3922900e-03 5.1144441e-03\n",
            "  2.0524366e-03 5.0157989e-05 9.8248613e-01 4.8520118e-03 5.9467257e-04\n",
            "  2.2970836e-03]]\n"
          ]
        },
        {
          "name": "stderr",
          "output_type": "stream",
          "text": [
            "\n",
            "\n",
            "tqdm() Progress Bar Segments: 1401it [12:18,  1.87it/s]\u001b[A\u001b[A"
          ]
        },
        {
          "name": "stdout",
          "output_type": "stream",
          "text": [
            "[[1.07526925e-04 2.61076475e-05 2.62762001e-07 2.32012433e-04\n",
            "  3.61192564e-04 3.76275784e-05 2.87864577e-06 9.97302294e-01\n",
            "  1.30779285e-03 5.42390335e-05 5.67962299e-04]]\n"
          ]
        },
        {
          "name": "stderr",
          "output_type": "stream",
          "text": [
            "\n",
            "\n",
            "tqdm() Progress Bar Segments: 1402it [12:19,  1.85it/s]\u001b[A\u001b[A"
          ]
        },
        {
          "name": "stdout",
          "output_type": "stream",
          "text": [
            "[[3.0647425e-03 3.2988167e-04 9.6417229e-05 2.3971817e-04 2.9358410e-03\n",
            "  3.6416524e-03 3.6188957e-04 8.1505999e-04 1.5452959e-02 4.0214225e-05\n",
            "  9.7302163e-01]]\n"
          ]
        },
        {
          "name": "stderr",
          "output_type": "stream",
          "text": [
            "\n",
            "\n",
            "tqdm() Progress Bar Segments: 1403it [12:19,  1.88it/s]\u001b[A\u001b[A"
          ]
        },
        {
          "name": "stdout",
          "output_type": "stream",
          "text": [
            "[[1.2019994e-04 1.3612055e-05 1.5680340e-05 3.0357605e-03 3.9754793e-01\n",
            "  2.5983833e-04 3.2460981e-03 6.0653069e-06 3.7852940e-01 5.5034798e-05\n",
            "  2.1717048e-01]]\n"
          ]
        },
        {
          "name": "stderr",
          "output_type": "stream",
          "text": [
            "\n",
            "\n",
            "tqdm() Progress Bar Segments: 1404it [12:20,  1.84it/s]\u001b[A\u001b[A"
          ]
        },
        {
          "name": "stdout",
          "output_type": "stream",
          "text": [
            "[[5.30021091e-04 8.25462412e-05 1.07144275e-04 2.55901273e-03\n",
            "  5.64073563e-01 1.11814402e-03 1.29380692e-02 3.57749777e-05\n",
            "  1.58513367e-01 6.15392782e-05 2.59980857e-01]]\n"
          ]
        },
        {
          "name": "stderr",
          "output_type": "stream",
          "text": [
            "\n",
            "\n",
            "tqdm() Progress Bar Segments: 1405it [12:20,  1.87it/s]\u001b[A\u001b[A"
          ]
        },
        {
          "name": "stdout",
          "output_type": "stream",
          "text": [
            "[[0.01909249 0.00084106 0.0007148  0.04854318 0.38606155 0.04745814\n",
            "  0.01338096 0.00041059 0.358525   0.00210258 0.1228696 ]]\n"
          ]
        },
        {
          "name": "stderr",
          "output_type": "stream",
          "text": [
            "\n",
            "\n",
            "tqdm() Progress Bar Segments: 1406it [12:21,  1.81it/s]\u001b[A\u001b[A"
          ]
        },
        {
          "name": "stdout",
          "output_type": "stream",
          "text": [
            "[[0.18035509 0.00696092 0.00141415 0.0046853  0.01713185 0.03284975\n",
            "  0.00149865 0.01112858 0.08627243 0.00194968 0.6557537 ]]\n"
          ]
        },
        {
          "name": "stderr",
          "output_type": "stream",
          "text": [
            "\n",
            "\n",
            "tqdm() Progress Bar Segments: 1407it [12:22,  1.84it/s]\u001b[A\u001b[A"
          ]
        },
        {
          "name": "stdout",
          "output_type": "stream",
          "text": [
            "[[1.5587984e-02 7.1473315e-02 2.3471331e-03 7.6472235e-05 8.4883022e-01\n",
            "  2.7485332e-02 3.2996884e-04 3.2652371e-02 2.7370472e-05 5.3369014e-05\n",
            "  1.1364925e-03]]\n"
          ]
        },
        {
          "name": "stderr",
          "output_type": "stream",
          "text": [
            "\n",
            "\n",
            "tqdm() Progress Bar Segments: 1408it [12:22,  1.85it/s]\u001b[A\u001b[A"
          ]
        },
        {
          "name": "stdout",
          "output_type": "stream",
          "text": [
            "[[4.51547047e-03 4.33486770e-04 1.26948627e-03 4.35846479e-04\n",
            "  9.92289603e-01 1.11547386e-04 6.11744763e-05 3.44407832e-04\n",
            "  1.13538939e-04 2.97716360e-05 3.95667477e-04]]\n"
          ]
        },
        {
          "name": "stderr",
          "output_type": "stream",
          "text": [
            "\n",
            "\n",
            "tqdm() Progress Bar Segments: 1409it [12:23,  1.88it/s]\u001b[A\u001b[A"
          ]
        },
        {
          "name": "stdout",
          "output_type": "stream",
          "text": [
            "[[0.00652061 0.02181635 0.00117665 0.00236949 0.08344244 0.22863825\n",
            "  0.0153116  0.02179349 0.0642987  0.00165083 0.5529815 ]]\n"
          ]
        },
        {
          "name": "stderr",
          "output_type": "stream",
          "text": [
            "\n",
            "\n",
            "tqdm() Progress Bar Segments: 1410it [12:23,  1.82it/s]\u001b[A\u001b[A"
          ]
        },
        {
          "name": "stdout",
          "output_type": "stream",
          "text": [
            "[[2.4147944e-04 2.3042976e-05 1.5275351e-05 4.5402795e-03 3.7520358e-01\n",
            "  3.1043973e-04 7.1167042e-03 3.3202810e-05 4.9484217e-01 1.2766813e-04\n",
            "  1.1754613e-01]]\n"
          ]
        },
        {
          "name": "stderr",
          "output_type": "stream",
          "text": [
            "\n",
            "\n",
            "tqdm() Progress Bar Segments: 1411it [12:24,  1.85it/s]\u001b[A\u001b[A"
          ]
        },
        {
          "name": "stdout",
          "output_type": "stream",
          "text": [
            "[[7.9301780e-01 2.5983609e-03 4.8266953e-05 2.7749740e-04 3.3645530e-03\n",
            "  1.5049937e-01 3.0561299e-03 4.2447072e-02 3.6093456e-04 4.1789297e-04\n",
            "  3.9121131e-03]]\n"
          ]
        },
        {
          "name": "stderr",
          "output_type": "stream",
          "text": [
            "\n",
            "\n",
            "tqdm() Progress Bar Segments: 1412it [12:24,  1.79it/s]\u001b[A\u001b[A"
          ]
        },
        {
          "name": "stdout",
          "output_type": "stream",
          "text": [
            "[[1.54008123e-03 5.57569845e-04 1.30290691e-05 1.18657272e-05\n",
            "  1.48342887e-03 8.06313336e-01 1.88786060e-01 1.20308636e-04\n",
            "  5.23805153e-04 6.01420688e-05 5.90307289e-04]]\n"
          ]
        },
        {
          "name": "stderr",
          "output_type": "stream",
          "text": [
            "\n",
            "\n",
            "tqdm() Progress Bar Segments: 1413it [12:25,  1.82it/s]\u001b[A\u001b[A"
          ]
        },
        {
          "name": "stdout",
          "output_type": "stream",
          "text": [
            "[[5.4594537e-05 5.9978524e-06 1.8618839e-05 1.3612946e-02 9.4564557e-01\n",
            "  1.2551696e-04 9.3927393e-03 2.3279731e-06 2.5139576e-02 2.6726526e-05\n",
            "  5.9754327e-03]]\n"
          ]
        },
        {
          "name": "stderr",
          "output_type": "stream",
          "text": [
            "\n",
            "\n",
            "tqdm() Progress Bar Segments: 1414it [12:25,  1.78it/s]\u001b[A\u001b[A"
          ]
        },
        {
          "name": "stdout",
          "output_type": "stream",
          "text": [
            "[[2.6254816e-02 8.8887058e-02 8.2465238e-04 3.7110774e-04 5.1700305e-02\n",
            "  4.9533394e-01 1.2009744e-02 3.1165192e-01 2.6016252e-03 4.3711541e-03\n",
            "  5.9937178e-03]]\n"
          ]
        },
        {
          "name": "stderr",
          "output_type": "stream",
          "text": [
            "\n",
            "\n",
            "tqdm() Progress Bar Segments: 1415it [12:26,  1.83it/s]\u001b[A\u001b[A"
          ]
        },
        {
          "name": "stdout",
          "output_type": "stream",
          "text": [
            "[[9.99626121e-04 1.11265908e-04 2.01544943e-04 2.08904315e-02\n",
            "  6.13844991e-01 2.89118476e-03 1.92158706e-02 5.93646255e-05\n",
            "  2.20770910e-01 2.23742332e-04 1.20790996e-01]]\n"
          ]
        },
        {
          "name": "stderr",
          "output_type": "stream",
          "text": [
            "\n",
            "\n",
            "tqdm() Progress Bar Segments: 1416it [12:26,  1.85it/s]\u001b[A\u001b[A"
          ]
        },
        {
          "name": "stdout",
          "output_type": "stream",
          "text": [
            "[[1.2524960e-02 1.6705131e-03 8.0285972e-05 1.8422073e-04 9.6448517e-04\n",
            "  1.2530903e-03 4.0347957e-05 1.6093889e-03 1.4288056e-02 4.6574558e-05\n",
            "  9.6733809e-01]]\n"
          ]
        },
        {
          "name": "stderr",
          "output_type": "stream",
          "text": [
            "\n",
            "\n",
            "tqdm() Progress Bar Segments: 1417it [12:27,  1.86it/s]\u001b[A\u001b[A"
          ]
        },
        {
          "name": "stdout",
          "output_type": "stream",
          "text": [
            "[[4.1655460e-03 2.1947871e-01 1.4616869e-02 1.0020166e-04 2.1186177e-01\n",
            "  5.1712775e-01 2.2779077e-03 1.6330132e-03 7.6461298e-04 3.4979149e-04\n",
            "  2.7623894e-02]]\n"
          ]
        },
        {
          "name": "stderr",
          "output_type": "stream",
          "text": [
            "\n",
            "\n",
            "tqdm() Progress Bar Segments: 1418it [12:27,  1.89it/s]\u001b[A\u001b[A"
          ]
        },
        {
          "name": "stdout",
          "output_type": "stream",
          "text": [
            "[[4.6367251e-04 7.2783290e-04 2.6122752e-05 8.0895741e-03 6.3872617e-01\n",
            "  1.5208674e-04 4.0594600e-03 2.3988253e-01 1.0116807e-01 2.2530756e-03\n",
            "  4.4513750e-03]]\n"
          ]
        },
        {
          "name": "stderr",
          "output_type": "stream",
          "text": [
            "\n",
            "\n",
            "tqdm() Progress Bar Segments: 1419it [12:28,  1.90it/s]\u001b[A\u001b[A"
          ]
        },
        {
          "name": "stdout",
          "output_type": "stream",
          "text": [
            "[[7.1691112e-03 3.8681056e-03 6.6065611e-03 1.0863564e-03 3.0464581e-01\n",
            "  5.9898365e-03 1.9361004e-02 3.3442096e-03 5.2121885e-02 4.3379641e-04\n",
            "  5.9537327e-01]]\n"
          ]
        },
        {
          "name": "stderr",
          "output_type": "stream",
          "text": [
            "\n",
            "\n",
            "tqdm() Progress Bar Segments: 1420it [12:29,  1.84it/s]\u001b[A\u001b[A"
          ]
        },
        {
          "name": "stdout",
          "output_type": "stream",
          "text": [
            "[[1.3401745e-01 9.4914116e-02 7.8192877e-04 3.9911692e-04 4.2061824e-02\n",
            "  5.6155849e-02 9.6439640e-04 7.7808268e-02 6.4047780e-03 2.1169053e-03\n",
            "  5.8437538e-01]]\n"
          ]
        },
        {
          "name": "stderr",
          "output_type": "stream",
          "text": [
            "\n",
            "\n",
            "tqdm() Progress Bar Segments: 1421it [12:29,  1.81it/s]\u001b[A\u001b[A"
          ]
        },
        {
          "name": "stdout",
          "output_type": "stream",
          "text": [
            "[[1.20815765e-02 1.29191976e-04 1.55947146e-05 6.80316938e-04\n",
            "  6.54292759e-03 6.28899666e-04 7.21339966e-05 9.69993532e-01\n",
            "  3.63242999e-03 2.84131989e-03 3.38218594e-03]]\n"
          ]
        },
        {
          "name": "stderr",
          "output_type": "stream",
          "text": [
            "\n",
            "\n",
            "tqdm() Progress Bar Segments: 1422it [12:30,  1.83it/s]\u001b[A\u001b[A"
          ]
        },
        {
          "name": "stdout",
          "output_type": "stream",
          "text": [
            "[[7.8927064e-03 4.9606171e-03 1.4187482e-05 4.2344123e-05 3.0410164e-03\n",
            "  9.4180834e-01 1.4326423e-03 3.6509678e-02 5.0024141e-04 2.3068087e-03\n",
            "  1.4913072e-03]]\n"
          ]
        },
        {
          "name": "stderr",
          "output_type": "stream",
          "text": [
            "\n",
            "\n",
            "tqdm() Progress Bar Segments: 1423it [12:30,  1.85it/s]\u001b[A\u001b[A"
          ]
        },
        {
          "name": "stdout",
          "output_type": "stream",
          "text": [
            "[[1.7499617e-01 1.2910385e-02 7.4620993e-04 3.5727533e-04 1.6621412e-01\n",
            "  5.7985598e-01 2.7279494e-02 8.4749125e-03 3.5119161e-03 1.5031124e-02\n",
            "  1.0622307e-02]]\n"
          ]
        },
        {
          "name": "stderr",
          "output_type": "stream",
          "text": [
            "\n",
            "\n",
            "tqdm() Progress Bar Segments: 1424it [12:31,  1.88it/s]\u001b[A\u001b[A"
          ]
        },
        {
          "name": "stdout",
          "output_type": "stream",
          "text": [
            "[[3.6786997e-04 1.5992463e-04 4.2893994e-06 1.2007159e-04 1.7811710e-02\n",
            "  8.2853751e-04 2.1801936e-04 9.7068977e-01 3.1633521e-03 4.8560713e-04\n",
            "  6.1508589e-03]]\n"
          ]
        },
        {
          "name": "stderr",
          "output_type": "stream",
          "text": [
            "\n",
            "\n",
            "tqdm() Progress Bar Segments: 1425it [12:31,  1.89it/s]\u001b[A\u001b[A"
          ]
        },
        {
          "name": "stdout",
          "output_type": "stream",
          "text": [
            "[[1.0724274e-03 6.3086255e-04 6.9230288e-04 1.1992258e-04 7.2375536e-01\n",
            "  1.1877931e-03 4.1116225e-03 1.4951597e-03 2.8247114e-02 6.4089065e-05\n",
            "  2.3862343e-01]]\n"
          ]
        },
        {
          "name": "stderr",
          "output_type": "stream",
          "text": [
            "\n",
            "\n",
            "tqdm() Progress Bar Segments: 1426it [12:32,  1.90it/s]\u001b[A\u001b[A"
          ]
        },
        {
          "name": "stdout",
          "output_type": "stream",
          "text": [
            "[[6.9271060e-05 2.0241219e-04 1.3951272e-06 2.1498105e-04 7.7448256e-04\n",
            "  1.1093908e-04 4.6978774e-05 9.9812478e-01 2.6100301e-04 3.2535783e-05\n",
            "  1.6116453e-04]]\n"
          ]
        },
        {
          "name": "stderr",
          "output_type": "stream",
          "text": [
            "\n",
            "\n",
            "tqdm() Progress Bar Segments: 1427it [12:32,  1.91it/s]\u001b[A\u001b[A"
          ]
        },
        {
          "name": "stdout",
          "output_type": "stream",
          "text": [
            "[[6.1480915e-03 1.4544887e-02 3.7817626e-05 9.7317621e-05 2.1694016e-02\n",
            "  8.3828819e-01 1.1910103e-02 9.3017898e-02 3.2702141e-04 1.1728322e-02\n",
            "  2.2063751e-03]]\n"
          ]
        },
        {
          "name": "stderr",
          "output_type": "stream",
          "text": [
            "\n",
            "\n",
            "tqdm() Progress Bar Segments: 1428it [12:33,  1.88it/s]\u001b[A\u001b[A"
          ]
        },
        {
          "name": "stdout",
          "output_type": "stream",
          "text": [
            "[[3.3215768e-04 7.6560842e-05 7.0550726e-05 4.1828817e-03 2.9021195e-01\n",
            "  3.2847270e-04 1.4414089e-02 7.8939782e-05 6.7040133e-01 1.4008893e-04\n",
            "  1.9762926e-02]]\n"
          ]
        },
        {
          "name": "stderr",
          "output_type": "stream",
          "text": [
            "\n",
            "\n",
            "tqdm() Progress Bar Segments: 1429it [12:33,  1.90it/s]\u001b[A\u001b[A"
          ]
        },
        {
          "name": "stdout",
          "output_type": "stream",
          "text": [
            "[[4.2247665e-04 4.3346491e-04 1.8965940e-06 3.8635189e-05 1.0174131e-02\n",
            "  3.9462201e-04 1.5047077e-05 8.9228690e-01 3.2093618e-03 2.6152698e-05\n",
            "  9.2997268e-02]]\n"
          ]
        },
        {
          "name": "stderr",
          "output_type": "stream",
          "text": [
            "\n",
            "\n",
            "tqdm() Progress Bar Segments: 1430it [12:34,  1.90it/s]\u001b[A\u001b[A"
          ]
        },
        {
          "name": "stdout",
          "output_type": "stream",
          "text": [
            "[[4.4909000e-05 1.6420568e-05 9.3422032e-06 8.1821060e-04 9.3944216e-01\n",
            "  1.5540952e-04 2.1211253e-03 2.9494131e-06 3.9704103e-02 1.5527861e-05\n",
            "  1.7669804e-02]]\n"
          ]
        },
        {
          "name": "stderr",
          "output_type": "stream",
          "text": [
            "\n",
            "\n",
            "tqdm() Progress Bar Segments: 1431it [12:34,  1.83it/s]\u001b[A\u001b[A"
          ]
        },
        {
          "name": "stdout",
          "output_type": "stream",
          "text": [
            "[[1.8907256e-05 6.0019297e-06 6.0114221e-06 4.8832380e-04 9.4717413e-01\n",
            "  3.9809478e-05 2.5595990e-03 8.3603749e-07 3.3439498e-02 2.8578402e-06\n",
            "  1.6264061e-02]]\n"
          ]
        },
        {
          "name": "stderr",
          "output_type": "stream",
          "text": [
            "\n",
            "\n",
            "tqdm() Progress Bar Segments: 1432it [12:35,  1.85it/s]\u001b[A\u001b[A"
          ]
        },
        {
          "name": "stdout",
          "output_type": "stream",
          "text": [
            "[[9.6037639e-03 5.0039329e-03 3.0807882e-05 4.4630119e-04 8.2699936e-03\n",
            "  8.1784135e-01 2.1698499e-02 1.0064500e-01 4.3760278e-04 3.5768192e-02\n",
            "  2.5453544e-04]]\n"
          ]
        },
        {
          "name": "stderr",
          "output_type": "stream",
          "text": [
            "\n",
            "\n",
            "tqdm() Progress Bar Segments: 1433it [12:36,  1.87it/s]\u001b[A\u001b[A"
          ]
        },
        {
          "name": "stdout",
          "output_type": "stream",
          "text": [
            "[[0.00615199 0.07536919 0.00232512 0.00803261 0.21393654 0.25622988\n",
            "  0.02981596 0.01562741 0.06357994 0.00299506 0.32593626]]\n"
          ]
        },
        {
          "name": "stderr",
          "output_type": "stream",
          "text": [
            "\n",
            "\n",
            "tqdm() Progress Bar Segments: 1434it [12:36,  1.88it/s]\u001b[A\u001b[A"
          ]
        },
        {
          "name": "stdout",
          "output_type": "stream",
          "text": [
            "[[0.0088616  0.23843986 0.00865383 0.00176502 0.21515787 0.3862692\n",
            "  0.00646475 0.0350691  0.00836746 0.01213966 0.07881165]]\n"
          ]
        },
        {
          "name": "stderr",
          "output_type": "stream",
          "text": [
            "\n",
            "\n",
            "tqdm() Progress Bar Segments: 1435it [12:37,  1.85it/s]\u001b[A\u001b[A"
          ]
        },
        {
          "name": "stdout",
          "output_type": "stream",
          "text": [
            "[[3.87332955e-04 9.85618044e-06 2.05700076e-06 1.86134748e-05\n",
            "  1.80650991e-03 4.76766319e-04 1.00231766e-04 3.06199909e-05\n",
            "  8.58429000e-02 8.99024963e-06 9.11316156e-01]]\n"
          ]
        },
        {
          "name": "stderr",
          "output_type": "stream",
          "text": [
            "\n",
            "\n",
            "tqdm() Progress Bar Segments: 1436it [12:37,  1.80it/s]\u001b[A\u001b[A"
          ]
        },
        {
          "name": "stdout",
          "output_type": "stream",
          "text": [
            "[[6.2052440e-03 3.7301783e-02 5.3267612e-04 9.3308539e-05 9.1609883e-01\n",
            "  3.5378437e-02 5.3925076e-05 3.9715320e-03 2.2122493e-05 8.8226385e-05\n",
            "  2.5395211e-04]]\n"
          ]
        },
        {
          "name": "stderr",
          "output_type": "stream",
          "text": [
            "\n",
            "\n",
            "tqdm() Progress Bar Segments: 1437it [12:38,  1.82it/s]\u001b[A\u001b[A"
          ]
        },
        {
          "name": "stdout",
          "output_type": "stream",
          "text": [
            "[[3.1262100e-01 4.6212960e-04 6.3688694e-06 2.3259992e-05 9.9687852e-05\n",
            "  6.8586963e-01 4.0611130e-04 3.6300098e-05 1.6774242e-04 1.5139695e-05\n",
            "  2.9262091e-04]]\n"
          ]
        },
        {
          "name": "stderr",
          "output_type": "stream",
          "text": [
            "\n",
            "\n",
            "tqdm() Progress Bar Segments: 1438it [12:38,  1.85it/s]\u001b[A\u001b[A"
          ]
        },
        {
          "name": "stdout",
          "output_type": "stream",
          "text": [
            "[[0.0160678  0.05360299 0.00879239 0.00256648 0.6176946  0.07031642\n",
            "  0.00688869 0.08577886 0.01729853 0.00399306 0.1170001 ]]\n"
          ]
        },
        {
          "name": "stderr",
          "output_type": "stream",
          "text": [
            "\n",
            "\n",
            "tqdm() Progress Bar Segments: 1439it [12:39,  1.87it/s]\u001b[A\u001b[A"
          ]
        },
        {
          "name": "stdout",
          "output_type": "stream",
          "text": [
            "[[8.6221751e-04 2.2832943e-04 8.0865888e-05 4.1617067e-03 1.6869068e-01\n",
            "  1.1993342e-03 8.7518478e-03 5.5029592e-05 6.5119141e-01 1.2804601e-04\n",
            "  1.6465059e-01]]\n"
          ]
        },
        {
          "name": "stderr",
          "output_type": "stream",
          "text": [
            "\n",
            "\n",
            "tqdm() Progress Bar Segments: 1440it [12:39,  1.88it/s]\u001b[A\u001b[A"
          ]
        },
        {
          "name": "stdout",
          "output_type": "stream",
          "text": [
            "[[5.73930854e-04 1.03112805e-04 1.26993700e-06 8.82475797e-06\n",
            "  6.18863050e-05 2.73741692e-01 7.25321889e-01 3.77325850e-05\n",
            "  5.84565350e-05 8.31630750e-05 8.09307312e-06]]\n"
          ]
        },
        {
          "name": "stderr",
          "output_type": "stream",
          "text": [
            "\n",
            "\n",
            "tqdm() Progress Bar Segments: 1441it [12:40,  1.88it/s]\u001b[A\u001b[A"
          ]
        },
        {
          "name": "stdout",
          "output_type": "stream",
          "text": [
            "[[2.7100439e-03 6.3198432e-02 5.3683005e-04 1.7504819e-05 3.3588994e-02\n",
            "  8.9749169e-01 2.0199880e-04 4.6145212e-04 5.3736298e-05 1.6541973e-04\n",
            "  1.5738907e-03]]\n"
          ]
        },
        {
          "name": "stderr",
          "output_type": "stream",
          "text": [
            "\n",
            "\n",
            "tqdm() Progress Bar Segments: 1442it [12:40,  1.87it/s]\u001b[A\u001b[A"
          ]
        },
        {
          "name": "stdout",
          "output_type": "stream",
          "text": [
            "[[2.2658931e-01 7.5467937e-03 4.1499548e-04 2.0668407e-03 3.0291179e-02\n",
            "  5.4954147e-01 3.3475650e-03 1.4974150e-01 6.9688382e-03 2.0053135e-02\n",
            "  3.4383687e-03]]\n"
          ]
        },
        {
          "name": "stderr",
          "output_type": "stream",
          "text": [
            "\n",
            "\n",
            "tqdm() Progress Bar Segments: 1443it [12:41,  1.87it/s]\u001b[A\u001b[A"
          ]
        },
        {
          "name": "stdout",
          "output_type": "stream",
          "text": [
            "[[2.7421932e-03 5.3899718e-04 2.7862715e-04 1.1172590e-03 7.7415116e-02\n",
            "  8.1928149e-03 6.4634467e-03 3.1333498e-04 3.1084264e-02 1.3778714e-04\n",
            "  8.7171614e-01]]\n"
          ]
        },
        {
          "name": "stderr",
          "output_type": "stream",
          "text": [
            "\n",
            "\n",
            "tqdm() Progress Bar Segments: 1444it [12:41,  1.89it/s]\u001b[A\u001b[A"
          ]
        },
        {
          "name": "stdout",
          "output_type": "stream",
          "text": [
            "[[3.0155368e-05 2.0308426e-06 1.5858477e-06 1.1305195e-02 9.5405513e-03\n",
            "  2.1645405e-05 4.2891987e-03 5.2482337e-06 9.7359622e-01 2.5929924e-04\n",
            "  9.4897620e-04]]\n"
          ]
        },
        {
          "name": "stderr",
          "output_type": "stream",
          "text": [
            "\n",
            "\n",
            "tqdm() Progress Bar Segments: 1445it [12:42,  1.89it/s]\u001b[A\u001b[A"
          ]
        },
        {
          "name": "stdout",
          "output_type": "stream",
          "text": [
            "[[2.3245314e-06 6.8993535e-07 6.6412048e-10 1.1709632e-06 4.4252838e-06\n",
            "  3.8111767e-07 4.3083896e-09 9.9998796e-01 2.3190057e-07 4.4954433e-08\n",
            "  2.7579756e-06]]\n"
          ]
        },
        {
          "name": "stderr",
          "output_type": "stream",
          "text": [
            "\n",
            "\n",
            "tqdm() Progress Bar Segments: 1446it [12:42,  1.89it/s]\u001b[A\u001b[A"
          ]
        },
        {
          "name": "stdout",
          "output_type": "stream",
          "text": [
            "[[1.7434357e-06 5.2437099e-06 7.4120039e-09 2.6192734e-05 7.9848132e-06\n",
            "  3.4068178e-06 2.4390039e-07 9.9993157e-01 1.2366626e-05 3.2971959e-06\n",
            "  7.8090816e-06]]\n"
          ]
        },
        {
          "name": "stderr",
          "output_type": "stream",
          "text": [
            "\n",
            "\n",
            "tqdm() Progress Bar Segments: 1447it [12:43,  1.90it/s]\u001b[A\u001b[A"
          ]
        },
        {
          "name": "stdout",
          "output_type": "stream",
          "text": [
            "[[4.0899045e-03 3.0945746e-05 2.3321202e-06 1.1723383e-04 1.3914927e-02\n",
            "  6.4717914e-04 1.2184722e-05 9.6804619e-01 2.0137609e-03 1.0016750e-04\n",
            "  1.1025185e-02]]\n"
          ]
        },
        {
          "name": "stderr",
          "output_type": "stream",
          "text": [
            "\n",
            "\n",
            "tqdm() Progress Bar Segments: 1448it [12:44,  1.91it/s]\u001b[A\u001b[A"
          ]
        },
        {
          "name": "stdout",
          "output_type": "stream",
          "text": [
            "[[9.6462047e-01 1.8236974e-03 9.1517970e-05 1.0821301e-04 3.4191245e-03\n",
            "  2.2438644e-02 8.1849408e-05 3.6051951e-04 5.6389009e-04 7.6320270e-05\n",
            "  6.4156782e-03]]\n"
          ]
        },
        {
          "name": "stderr",
          "output_type": "stream",
          "text": [
            "\n",
            "\n",
            "tqdm() Progress Bar Segments: 1449it [12:44,  1.91it/s]\u001b[A\u001b[A"
          ]
        },
        {
          "name": "stdout",
          "output_type": "stream",
          "text": [
            "[[3.1720761e-03 1.4264666e-02 8.0306876e-05 1.5116892e-04 8.8054633e-01\n",
            "  3.1818713e-03 2.1148715e-05 9.8466009e-02 6.3905895e-06 6.4697968e-05\n",
            "  4.5272762e-05]]\n"
          ]
        },
        {
          "name": "stderr",
          "output_type": "stream",
          "text": [
            "\n",
            "\n",
            "tqdm() Progress Bar Segments: 1450it [12:45,  1.92it/s]\u001b[A\u001b[A"
          ]
        },
        {
          "name": "stdout",
          "output_type": "stream",
          "text": [
            "[[9.9651841e-04 2.7866115e-05 4.0508974e-05 1.0665531e-02 7.1566522e-02\n",
            "  3.3058567e-04 1.0732280e-03 8.6787786e-06 2.7472699e-01 2.1999222e-05\n",
            "  6.4054155e-01]]\n"
          ]
        },
        {
          "name": "stderr",
          "output_type": "stream",
          "text": [
            "\n",
            "\n",
            "tqdm() Progress Bar Segments: 1451it [12:45,  1.92it/s]\u001b[A\u001b[A"
          ]
        },
        {
          "name": "stdout",
          "output_type": "stream",
          "text": [
            "[[9.3235815e-01 1.3336549e-04 6.1255000e-06 3.2136548e-05 1.3859475e-04\n",
            "  6.6481560e-02 2.6805766e-04 2.7709609e-04 3.9422765e-05 4.6752671e-06\n",
            "  2.6082131e-04]]\n"
          ]
        },
        {
          "name": "stderr",
          "output_type": "stream",
          "text": [
            "\n",
            "\n",
            "tqdm() Progress Bar Segments: 1452it [12:46,  1.90it/s]\u001b[A\u001b[A"
          ]
        },
        {
          "name": "stdout",
          "output_type": "stream",
          "text": [
            "[[7.9390942e-05 1.2829310e-05 9.4578099e-06 3.6262287e-04 5.0194979e-01\n",
            "  3.9418202e-04 4.7305762e-03 4.2391835e-06 4.7257069e-01 5.5545352e-05\n",
            "  1.9830639e-02]]\n"
          ]
        },
        {
          "name": "stderr",
          "output_type": "stream",
          "text": [
            "\n",
            "\n",
            "tqdm() Progress Bar Segments: 1453it [12:46,  1.91it/s]\u001b[A\u001b[A"
          ]
        },
        {
          "name": "stdout",
          "output_type": "stream",
          "text": [
            "[[0.00300597 0.20617196 0.0019997  0.00777605 0.03349305 0.44576707\n",
            "  0.12212279 0.01277197 0.00262918 0.16359974 0.00066247]]\n"
          ]
        },
        {
          "name": "stderr",
          "output_type": "stream",
          "text": [
            "\n",
            "\n",
            "tqdm() Progress Bar Segments: 1454it [12:47,  1.92it/s]\u001b[A\u001b[A"
          ]
        },
        {
          "name": "stdout",
          "output_type": "stream",
          "text": [
            "[[2.7132544e-06 2.0503319e-05 4.1538822e-08 3.6521342e-06 8.9941517e-05\n",
            "  9.0717285e-06 3.4443482e-07 9.9986267e-01 7.5127878e-07 2.5735505e-06\n",
            "  7.6268443e-06]]\n"
          ]
        },
        {
          "name": "stderr",
          "output_type": "stream",
          "text": [
            "\n",
            "\n",
            "tqdm() Progress Bar Segments: 1455it [12:47,  1.83it/s]\u001b[A\u001b[A"
          ]
        },
        {
          "name": "stdout",
          "output_type": "stream",
          "text": [
            "[[7.0703691e-03 3.9353937e-02 1.3455002e-04 7.8358637e-05 1.7432321e-02\n",
            "  9.0966994e-01 1.0831739e-03 2.1366151e-02 2.7975425e-04 3.8485808e-04\n",
            "  3.1465648e-03]]\n"
          ]
        },
        {
          "name": "stderr",
          "output_type": "stream",
          "text": [
            "\n",
            "\n",
            "tqdm() Progress Bar Segments: 1456it [12:48,  1.86it/s]\u001b[A\u001b[A"
          ]
        },
        {
          "name": "stdout",
          "output_type": "stream",
          "text": [
            "[[0.1214062  0.36213824 0.00285159 0.00038385 0.08533804 0.27474377\n",
            "  0.00161887 0.09806674 0.00116545 0.00145079 0.05083648]]\n"
          ]
        },
        {
          "name": "stderr",
          "output_type": "stream",
          "text": [
            "\n",
            "\n",
            "tqdm() Progress Bar Segments: 1457it [12:48,  1.88it/s]\u001b[A\u001b[A"
          ]
        },
        {
          "name": "stdout",
          "output_type": "stream",
          "text": [
            "[[5.0334414e-03 4.7495864e-02 9.5082456e-03 8.1481267e-04 8.2895190e-01\n",
            "  1.9329686e-02 1.6861396e-03 2.5258215e-02 3.3161235e-03 8.6171954e-04\n",
            "  5.7743840e-02]]\n"
          ]
        },
        {
          "name": "stderr",
          "output_type": "stream",
          "text": [
            "\n",
            "\n",
            "tqdm() Progress Bar Segments: 1458it [12:49,  1.88it/s]\u001b[A\u001b[A"
          ]
        },
        {
          "name": "stdout",
          "output_type": "stream",
          "text": [
            "[[2.2394773e-02 1.6502939e-01 4.3972419e-03 1.5784513e-04 4.4231061e-02\n",
            "  6.9258368e-01 1.6221573e-03 1.9824791e-03 1.9086316e-03 2.5659721e-04\n",
            "  6.5436132e-02]]\n"
          ]
        },
        {
          "name": "stderr",
          "output_type": "stream",
          "text": [
            "\n",
            "\n",
            "tqdm() Progress Bar Segments: 1459it [12:49,  1.88it/s]\u001b[A\u001b[A"
          ]
        },
        {
          "name": "stdout",
          "output_type": "stream",
          "text": [
            "[[2.0698590e-05 1.4411658e-05 4.8138904e-06 9.6299034e-03 9.0447319e-01\n",
            "  1.5782793e-04 1.2787501e-02 4.1050939e-06 7.1371779e-02 2.0681690e-04\n",
            "  1.3289766e-03]]\n"
          ]
        },
        {
          "name": "stderr",
          "output_type": "stream",
          "text": [
            "\n",
            "\n",
            "tqdm() Progress Bar Segments: 1460it [12:50,  1.89it/s]\u001b[A\u001b[A"
          ]
        },
        {
          "name": "stdout",
          "output_type": "stream",
          "text": [
            "[[2.8624967e-01 4.1571632e-02 3.7128234e-04 4.0868548e-04 6.7913711e-02\n",
            "  4.4066429e-01 6.9335508e-03 4.2819910e-02 2.2829967e-03 8.8973303e-04\n",
            "  1.0989447e-01]]\n"
          ]
        },
        {
          "name": "stderr",
          "output_type": "stream",
          "text": [
            "\n",
            "\n",
            "tqdm() Progress Bar Segments: 1461it [12:50,  1.88it/s]\u001b[A\u001b[A"
          ]
        },
        {
          "name": "stdout",
          "output_type": "stream",
          "text": [
            "[[1.5255011e-06 4.1790718e-05 6.3097820e-09 1.7842885e-05 5.3746771e-06\n",
            "  2.0769223e-06 9.4567660e-08 9.9992168e-01 2.1772685e-06 1.5215956e-06\n",
            "  5.7840698e-06]]\n"
          ]
        },
        {
          "name": "stderr",
          "output_type": "stream",
          "text": [
            "\n",
            "\n",
            "tqdm() Progress Bar Segments: 1462it [12:51,  1.86it/s]\u001b[A\u001b[A"
          ]
        },
        {
          "name": "stdout",
          "output_type": "stream",
          "text": [
            "[[1.4663213e-04 1.8837392e-05 2.5130073e-05 1.9969463e-02 6.7810708e-01\n",
            "  3.2953394e-04 3.7957150e-02 1.4924146e-05 2.5977364e-01 7.0684298e-04\n",
            "  2.9506781e-03]]\n"
          ]
        },
        {
          "name": "stderr",
          "output_type": "stream",
          "text": [
            "\n",
            "\n",
            "tqdm() Progress Bar Segments: 1463it [12:51,  1.89it/s]\u001b[A\u001b[A"
          ]
        },
        {
          "name": "stdout",
          "output_type": "stream",
          "text": [
            "[[5.5756383e-03 1.1730635e-02 5.3812767e-04 2.7125303e-03 2.1738704e-02\n",
            "  1.5184791e-02 1.6720766e-02 6.1953035e-03 2.8797343e-01 1.1732517e-03\n",
            "  6.3045675e-01]]\n"
          ]
        },
        {
          "name": "stderr",
          "output_type": "stream",
          "text": [
            "\n",
            "\n",
            "tqdm() Progress Bar Segments: 1464it [12:52,  1.89it/s]\u001b[A\u001b[A"
          ]
        },
        {
          "name": "stdout",
          "output_type": "stream",
          "text": [
            "[[1.2418983e-04 2.3211485e-05 2.8834313e-05 1.6660003e-03 8.9237237e-01\n",
            "  1.5143961e-04 1.5367819e-03 5.6273561e-06 6.6146016e-02 1.8088953e-05\n",
            "  3.7927542e-02]]\n"
          ]
        },
        {
          "name": "stderr",
          "output_type": "stream",
          "text": [
            "\n",
            "\n",
            "tqdm() Progress Bar Segments: 1465it [12:53,  1.83it/s]\u001b[A\u001b[A"
          ]
        },
        {
          "name": "stdout",
          "output_type": "stream",
          "text": [
            "[[7.5632219e-05 1.8198340e-05 1.1504299e-05 1.6403996e-03 8.5344648e-01\n",
            "  2.4360072e-04 4.0638456e-03 4.4551211e-06 1.1226524e-01 2.0879668e-05\n",
            "  2.8209761e-02]]\n"
          ]
        },
        {
          "name": "stderr",
          "output_type": "stream",
          "text": [
            "\n",
            "\n",
            "tqdm() Progress Bar Segments: 1466it [12:53,  1.79it/s]\u001b[A\u001b[A"
          ]
        },
        {
          "name": "stdout",
          "output_type": "stream",
          "text": [
            "[[1.2801805e-03 4.5783550e-04 1.5449346e-04 4.4529437e-04 5.4440510e-02\n",
            "  9.3204333e-03 5.5842446e-03 1.0004215e-03 3.0901944e-02 1.3118381e-04\n",
            "  8.9628345e-01]]\n"
          ]
        },
        {
          "name": "stderr",
          "output_type": "stream",
          "text": [
            "\n",
            "\n",
            "tqdm() Progress Bar Segments: 1467it [12:54,  1.76it/s]\u001b[A\u001b[A"
          ]
        },
        {
          "name": "stdout",
          "output_type": "stream",
          "text": [
            "[[7.4264233e-04 6.0157236e-05 1.2542808e-04 1.0119313e-02 3.3011267e-01\n",
            "  1.4501157e-03 4.2742614e-02 1.0696629e-04 5.5833286e-01 4.7112748e-04\n",
            "  5.5736165e-02]]\n"
          ]
        },
        {
          "name": "stderr",
          "output_type": "stream",
          "text": [
            "\n",
            "\n",
            "tqdm() Progress Bar Segments: 1468it [12:54,  1.81it/s]\u001b[A\u001b[A"
          ]
        },
        {
          "name": "stdout",
          "output_type": "stream",
          "text": [
            "[[5.8444184e-03 9.0092001e-03 3.3830220e-05 9.9928238e-06 2.1126787e-03\n",
            "  9.7952259e-01 1.9379709e-03 1.8314694e-04 6.3201238e-05 1.1596861e-03\n",
            "  1.2317476e-04]]\n"
          ]
        },
        {
          "name": "stderr",
          "output_type": "stream",
          "text": [
            "\n",
            "\n",
            "tqdm() Progress Bar Segments: 1469it [12:55,  1.85it/s]\u001b[A\u001b[A"
          ]
        },
        {
          "name": "stdout",
          "output_type": "stream",
          "text": [
            "[[1.6141694e-05 3.3129243e-06 4.0528867e-06 2.1132325e-04 9.6687841e-01\n",
            "  9.7420983e-05 2.3849122e-03 4.3025875e-07 1.0677839e-02 1.5817087e-06\n",
            "  1.9724609e-02]]\n"
          ]
        },
        {
          "name": "stderr",
          "output_type": "stream",
          "text": [
            "\n",
            "\n",
            "tqdm() Progress Bar Segments: 1470it [12:55,  1.88it/s]\u001b[A\u001b[A"
          ]
        },
        {
          "name": "stdout",
          "output_type": "stream",
          "text": [
            "[[9.7277652e-06 7.2581370e-06 7.2365336e-09 2.4823537e-06 3.5264758e-05\n",
            "  1.7824163e-05 1.8628769e-07 9.9989700e-01 4.1672738e-06 3.8848339e-06\n",
            "  2.2224156e-05]]\n"
          ]
        },
        {
          "name": "stderr",
          "output_type": "stream",
          "text": [
            "\n",
            "\n",
            "tqdm() Progress Bar Segments: 1471it [12:56,  1.88it/s]\u001b[A\u001b[A"
          ]
        },
        {
          "name": "stdout",
          "output_type": "stream",
          "text": [
            "[[2.6751957e-03 3.7355651e-04 1.8546653e-04 2.4171526e-04 4.0989224e-02\n",
            "  2.0665875e-02 1.9795988e-02 4.0871045e-04 4.4155151e-02 1.4327861e-04\n",
            "  8.7036586e-01]]\n"
          ]
        },
        {
          "name": "stderr",
          "output_type": "stream",
          "text": [
            "\n",
            "\n",
            "tqdm() Progress Bar Segments: 1472it [12:56,  1.90it/s]\u001b[A\u001b[A"
          ]
        },
        {
          "name": "stdout",
          "output_type": "stream",
          "text": [
            "[[5.82521707e-02 6.86005398e-04 1.01510064e-04 2.83315731e-03\n",
            "  3.15573476e-02 8.84339400e-03 2.33327475e-04 1.55531019e-01\n",
            "  1.20554246e-01 3.61652870e-04 6.21046185e-01]]\n"
          ]
        },
        {
          "name": "stderr",
          "output_type": "stream",
          "text": [
            "\n",
            "\n",
            "tqdm() Progress Bar Segments: 1473it [12:57,  1.90it/s]\u001b[A\u001b[A"
          ]
        },
        {
          "name": "stdout",
          "output_type": "stream",
          "text": [
            "[[2.1099873e-02 8.7995559e-02 3.8729308e-03 4.2654130e-05 8.8105476e-01\n",
            "  4.7457595e-03 1.4273201e-04 6.4571132e-04 1.1545432e-05 1.8216129e-05\n",
            "  3.7014473e-04]]\n"
          ]
        },
        {
          "name": "stderr",
          "output_type": "stream",
          "text": [
            "\n",
            "\n",
            "tqdm() Progress Bar Segments: 1474it [12:57,  1.92it/s]\u001b[A\u001b[A"
          ]
        },
        {
          "name": "stdout",
          "output_type": "stream",
          "text": [
            "[[0.04324617 0.1742323  0.00236015 0.00162313 0.05125739 0.18066803\n",
            "  0.00236124 0.11283521 0.056816   0.00267779 0.3719225 ]]\n"
          ]
        },
        {
          "name": "stderr",
          "output_type": "stream",
          "text": [
            "\n",
            "\n",
            "tqdm() Progress Bar Segments: 1475it [12:58,  1.92it/s]\u001b[A\u001b[A"
          ]
        },
        {
          "name": "stdout",
          "output_type": "stream",
          "text": [
            "[[9.3687174e-04 1.1854542e-01 8.9946331e-04 7.4563111e-05 7.4215996e-01\n",
            "  5.9718240e-02 2.1788738e-04 7.6154917e-02 2.6980128e-05 6.2438491e-04\n",
            "  6.4140745e-04]]\n"
          ]
        },
        {
          "name": "stderr",
          "output_type": "stream",
          "text": [
            "\n",
            "\n",
            "tqdm() Progress Bar Segments: 1476it [12:58,  1.92it/s]\u001b[A\u001b[A"
          ]
        },
        {
          "name": "stdout",
          "output_type": "stream",
          "text": [
            "[[1.1057773e-03 7.9778962e-05 1.5029022e-04 2.4078021e-02 4.9154520e-01\n",
            "  2.9672137e-03 6.0463239e-02 6.4261869e-05 2.4388616e-01 3.7673017e-04\n",
            "  1.7528334e-01]]\n"
          ]
        },
        {
          "name": "stderr",
          "output_type": "stream",
          "text": [
            "\n",
            "\n",
            "tqdm() Progress Bar Segments: 1477it [12:59,  1.85it/s]\u001b[A\u001b[A"
          ]
        },
        {
          "name": "stdout",
          "output_type": "stream",
          "text": [
            "[[1.2095146e-03 1.4957227e-04 1.9690533e-04 2.8139961e-04 1.7366761e-02\n",
            "  2.7540410e-03 2.1013222e-03 1.2881964e-04 9.0382174e-03 4.0272800e-05\n",
            "  9.6673310e-01]]\n"
          ]
        },
        {
          "name": "stderr",
          "output_type": "stream",
          "text": [
            "\n",
            "\n",
            "tqdm() Progress Bar Segments: 1478it [13:00,  1.88it/s]\u001b[A\u001b[A"
          ]
        },
        {
          "name": "stdout",
          "output_type": "stream",
          "text": [
            "[[3.0465035e-03 8.2154822e-04 1.7937409e-03 3.7780532e-04 9.9126935e-01\n",
            "  3.8224927e-04 2.8765399e-04 3.9634609e-04 3.3475028e-04 1.0100956e-04\n",
            "  1.1890059e-03]]\n"
          ]
        },
        {
          "name": "stderr",
          "output_type": "stream",
          "text": [
            "\n",
            "\n",
            "tqdm() Progress Bar Segments: 1479it [13:00,  1.89it/s]\u001b[A\u001b[A"
          ]
        },
        {
          "name": "stdout",
          "output_type": "stream",
          "text": [
            "[[0.00502963 0.00123175 0.00065218 0.02285724 0.07571594 0.0201098\n",
            "  0.03347655 0.00139085 0.6240708  0.00468135 0.21078385]]\n"
          ]
        },
        {
          "name": "stderr",
          "output_type": "stream",
          "text": [
            "\n",
            "\n",
            "tqdm() Progress Bar Segments: 1480it [13:01,  1.91it/s]\u001b[A\u001b[A"
          ]
        },
        {
          "name": "stdout",
          "output_type": "stream",
          "text": [
            "[[1.2636897e-03 2.0931331e-04 2.0750100e-04 2.3561288e-02 2.5795084e-01\n",
            "  6.6487826e-03 3.0922441e-02 1.1728011e-04 4.2401737e-01 1.0636221e-03\n",
            "  2.5403792e-01]]\n"
          ]
        },
        {
          "name": "stderr",
          "output_type": "stream",
          "text": [
            "\n",
            "\n",
            "tqdm() Progress Bar Segments: 1481it [13:01,  1.90it/s]\u001b[A\u001b[A"
          ]
        },
        {
          "name": "stdout",
          "output_type": "stream",
          "text": [
            "[[2.0719341e-04 5.5153050e-05 4.3630986e-05 3.3076669e-03 9.3866116e-01\n",
            "  9.5966429e-04 7.0428727e-03 1.5983715e-05 2.6352668e-02 4.7585134e-05\n",
            "  2.3306377e-02]]\n"
          ]
        },
        {
          "name": "stderr",
          "output_type": "stream",
          "text": [
            "\n",
            "\n",
            "tqdm() Progress Bar Segments: 1482it [13:02,  1.92it/s]\u001b[A\u001b[A"
          ]
        },
        {
          "name": "stdout",
          "output_type": "stream",
          "text": [
            "[[7.3726634e-03 4.6490204e-02 5.4184449e-05 1.4965786e-04 3.0116488e-03\n",
            "  9.1643131e-01 2.6480376e-03 1.7570579e-02 8.5143489e-04 4.0754655e-04\n",
            "  5.0127795e-03]]\n"
          ]
        },
        {
          "name": "stderr",
          "output_type": "stream",
          "text": [
            "\n",
            "\n",
            "tqdm() Progress Bar Segments: 1483it [13:02,  1.91it/s]\u001b[A\u001b[A"
          ]
        },
        {
          "name": "stdout",
          "output_type": "stream",
          "text": [
            "[[0.0122123  0.01442888 0.00812004 0.00441449 0.6245432  0.03781732\n",
            "  0.02448697 0.0199157  0.04568414 0.00404732 0.20432955]]\n"
          ]
        },
        {
          "name": "stderr",
          "output_type": "stream",
          "text": [
            "\n",
            "\n",
            "tqdm() Progress Bar Segments: 1484it [13:03,  1.92it/s]\u001b[A\u001b[A"
          ]
        },
        {
          "name": "stdout",
          "output_type": "stream",
          "text": [
            "[[0.00518589 0.00097498 0.00076088 0.03626224 0.30251807 0.04402851\n",
            "  0.06565787 0.00045205 0.3929188  0.00378143 0.14745925]]\n"
          ]
        },
        {
          "name": "stderr",
          "output_type": "stream",
          "text": [
            "\n",
            "\n",
            "tqdm() Progress Bar Segments: 1485it [13:03,  1.92it/s]\u001b[A\u001b[A"
          ]
        },
        {
          "name": "stdout",
          "output_type": "stream",
          "text": [
            "[[1.0250855e-05 8.8830961e-07 5.6553313e-09 1.2730985e-05 2.2175405e-05\n",
            "  7.7458280e-06 4.9711986e-07 9.9979609e-01 8.5377571e-05 2.1190108e-05\n",
            "  4.3122778e-05]]\n"
          ]
        },
        {
          "name": "stderr",
          "output_type": "stream",
          "text": [
            "\n",
            "\n",
            "tqdm() Progress Bar Segments: 1486it [13:04,  1.91it/s]\u001b[A\u001b[A"
          ]
        },
        {
          "name": "stdout",
          "output_type": "stream",
          "text": [
            "[[4.5057903e-03 1.7530002e-03 4.0620391e-04 5.6631619e-04 1.3149098e-01\n",
            "  1.1320492e-02 2.7275090e-03 1.1101566e-02 9.3869917e-02 8.7023625e-04\n",
            "  7.4138802e-01]]\n"
          ]
        },
        {
          "name": "stderr",
          "output_type": "stream",
          "text": [
            "\n",
            "\n",
            "tqdm() Progress Bar Segments: 1487it [13:04,  1.92it/s]\u001b[A\u001b[A"
          ]
        },
        {
          "name": "stdout",
          "output_type": "stream",
          "text": [
            "[[0.19814393 0.16017692 0.01196802 0.00053744 0.07014341 0.48805243\n",
            "  0.00181794 0.00354784 0.00114796 0.0009742  0.06348986]]\n"
          ]
        },
        {
          "name": "stderr",
          "output_type": "stream",
          "text": [
            "\n",
            "\n",
            "tqdm() Progress Bar Segments: 1488it [13:05,  1.92it/s]\u001b[A\u001b[A"
          ]
        },
        {
          "name": "stdout",
          "output_type": "stream",
          "text": [
            "[[5.40580004e-07 1.08186305e-06 4.59248728e-09 4.99241105e-05\n",
            "  2.48337037e-05 1.51612164e-06 4.79449227e-07 9.99871135e-01\n",
            "  3.51135386e-05 1.01686155e-05 5.15326701e-06]]\n"
          ]
        },
        {
          "name": "stderr",
          "output_type": "stream",
          "text": [
            "\n",
            "\n",
            "tqdm() Progress Bar Segments: 1489it [13:05,  1.93it/s]\u001b[A\u001b[A"
          ]
        },
        {
          "name": "stdout",
          "output_type": "stream",
          "text": [
            "[[1.9070171e-01 8.8893129e-03 7.8906503e-04 1.0208125e-03 1.6661899e-02\n",
            "  9.0893963e-03 6.0476555e-04 8.8612527e-02 1.5023229e-02 2.3310486e-04\n",
            "  6.6837406e-01]]\n"
          ]
        },
        {
          "name": "stderr",
          "output_type": "stream",
          "text": [
            "\n",
            "\n",
            "tqdm() Progress Bar Segments: 1490it [13:06,  1.93it/s]\u001b[A\u001b[A"
          ]
        },
        {
          "name": "stdout",
          "output_type": "stream",
          "text": [
            "[[9.3838607e-04 1.4101313e-03 6.3281106e-05 2.1953096e-05 9.9680376e-01\n",
            "  5.2143645e-05 1.9384934e-06 7.0360402e-04 7.0044393e-07 1.1579301e-06\n",
            "  2.8475313e-06]]\n"
          ]
        },
        {
          "name": "stderr",
          "output_type": "stream",
          "text": [
            "\n",
            "\n",
            "tqdm() Progress Bar Segments: 1491it [13:06,  1.91it/s]\u001b[A\u001b[A"
          ]
        },
        {
          "name": "stdout",
          "output_type": "stream",
          "text": [
            "[[1.3857505e-04 2.2693472e-05 6.1792406e-07 2.4317522e-04 1.5448191e-03\n",
            "  2.3050985e-04 1.5650468e-05 9.9603623e-01 7.7555730e-04 7.5488485e-04\n",
            "  2.3725590e-04]]\n"
          ]
        },
        {
          "name": "stderr",
          "output_type": "stream",
          "text": [
            "\n",
            "\n",
            "tqdm() Progress Bar Segments: 1492it [13:07,  1.87it/s]\u001b[A\u001b[A"
          ]
        },
        {
          "name": "stdout",
          "output_type": "stream",
          "text": [
            "[[1.49887735e-02 6.30838517e-03 1.83382635e-05 1.07437190e-04\n",
            "  5.33601129e-03 9.18309033e-01 6.60984498e-03 4.27343436e-02\n",
            "  1.31946363e-04 5.10122720e-03 3.54671414e-04]]\n"
          ]
        },
        {
          "name": "stderr",
          "output_type": "stream",
          "text": [
            "\n",
            "\n",
            "tqdm() Progress Bar Segments: 1493it [13:07,  1.82it/s]\u001b[A\u001b[A"
          ]
        },
        {
          "name": "stdout",
          "output_type": "stream",
          "text": [
            "[[1.0350174e-03 1.0031250e-02 3.3536966e-05 6.1278115e-05 2.6068499e-03\n",
            "  9.7776127e-01 2.3802894e-03 4.2417059e-03 2.3000683e-04 1.3349055e-03\n",
            "  2.8393767e-04]]\n"
          ]
        },
        {
          "name": "stderr",
          "output_type": "stream",
          "text": [
            "\n",
            "\n",
            "tqdm() Progress Bar Segments: 1494it [13:08,  1.85it/s]\u001b[A\u001b[A"
          ]
        },
        {
          "name": "stdout",
          "output_type": "stream",
          "text": [
            "[[0.0396049  0.07777969 0.00162587 0.00150098 0.35860103 0.20160367\n",
            "  0.00172801 0.29983842 0.00176685 0.00229992 0.01365067]]\n"
          ]
        },
        {
          "name": "stderr",
          "output_type": "stream",
          "text": [
            "\n",
            "\n",
            "tqdm() Progress Bar Segments: 1495it [13:08,  1.88it/s]\u001b[A\u001b[A"
          ]
        },
        {
          "name": "stdout",
          "output_type": "stream",
          "text": [
            "[[1.3123592e-02 1.6383431e-04 2.3393492e-05 4.4369665e-03 1.1075514e-02\n",
            "  1.0539709e-03 1.1285136e-03 3.7395090e-01 4.9353868e-01 8.4477425e-02\n",
            "  1.7027181e-02]]\n"
          ]
        },
        {
          "name": "stderr",
          "output_type": "stream",
          "text": [
            "\n",
            "\n",
            "tqdm() Progress Bar Segments: 1496it [13:09,  1.91it/s]\u001b[A\u001b[A"
          ]
        },
        {
          "name": "stdout",
          "output_type": "stream",
          "text": [
            "[[0.03460959 0.58658385 0.02716488 0.00146084 0.11545136 0.13266173\n",
            "  0.00703801 0.06912878 0.00093964 0.00253658 0.02242479]]\n"
          ]
        },
        {
          "name": "stderr",
          "output_type": "stream",
          "text": [
            "\n",
            "\n",
            "tqdm() Progress Bar Segments: 1497it [13:10,  1.91it/s]\u001b[A\u001b[A"
          ]
        },
        {
          "name": "stdout",
          "output_type": "stream",
          "text": [
            "[[1.6619726e-06 1.6272661e-06 3.1172371e-09 1.5730866e-05 6.5014897e-06\n",
            "  5.2093969e-06 8.3353243e-08 9.9993157e-01 8.2893785e-06 2.5786554e-05\n",
            "  3.6490333e-06]]\n"
          ]
        },
        {
          "name": "stderr",
          "output_type": "stream",
          "text": [
            "\n",
            "\n",
            "tqdm() Progress Bar Segments: 1498it [13:10,  1.92it/s]\u001b[A\u001b[A"
          ]
        },
        {
          "name": "stdout",
          "output_type": "stream",
          "text": [
            "[[3.8624567e-05 5.2355085e-06 2.2235913e-06 2.9957684e-04 3.4812841e-01\n",
            "  8.9343011e-05 1.0819731e-03 9.6228484e-07 5.5751616e-01 6.4474671e-06\n",
            "  9.2831090e-02]]\n"
          ]
        },
        {
          "name": "stderr",
          "output_type": "stream",
          "text": [
            "\n",
            "\n",
            "tqdm() Progress Bar Segments: 1499it [13:11,  1.92it/s]\u001b[A\u001b[A"
          ]
        },
        {
          "name": "stdout",
          "output_type": "stream",
          "text": [
            "[[1.3356584e-05 2.4928136e-06 2.2226100e-06 1.7709768e-04 9.6468151e-01\n",
            "  4.4395427e-05 4.2733469e-04 1.9985106e-07 6.9542429e-03 1.0199050e-06\n",
            "  2.7696228e-02]]\n"
          ]
        },
        {
          "name": "stderr",
          "output_type": "stream",
          "text": [
            "\n",
            "\n",
            "tqdm() Progress Bar Segments: 1500it [13:11,  1.92it/s]\u001b[A\u001b[A"
          ]
        },
        {
          "name": "stdout",
          "output_type": "stream",
          "text": [
            "[[8.1833678e-05 1.5265481e-06 4.6909861e-08 2.4992946e-07 3.2516236e-06\n",
            "  3.6380410e-02 9.6351951e-01 7.7209995e-07 9.4471516e-06 2.7900651e-06\n",
            "  2.0018625e-07]]\n"
          ]
        },
        {
          "name": "stderr",
          "output_type": "stream",
          "text": [
            "\n",
            "\n",
            "tqdm() Progress Bar Segments: 1501it [13:12,  1.92it/s]\u001b[A\u001b[A"
          ]
        },
        {
          "name": "stdout",
          "output_type": "stream",
          "text": [
            "[[5.66781819e-01 1.26096152e-03 3.18032471e-05 1.02773825e-04\n",
            "  6.34923810e-04 4.26222980e-01 1.88066461e-03 1.74077915e-03\n",
            "  1.68847400e-04 1.61332107e-04 1.01308338e-03]]\n"
          ]
        },
        {
          "name": "stderr",
          "output_type": "stream",
          "text": [
            "\n",
            "\n",
            "tqdm() Progress Bar Segments: 1502it [13:12,  1.93it/s]\u001b[A\u001b[A"
          ]
        },
        {
          "name": "stdout",
          "output_type": "stream",
          "text": [
            "[[8.4696515e-03 1.8463671e-02 2.1138203e-05 2.7764958e-05 3.9068894e-03\n",
            "  9.6376240e-01 8.8522199e-04 3.6236341e-03 6.0356964e-05 4.2753032e-04\n",
            "  3.5176423e-04]]\n"
          ]
        },
        {
          "name": "stderr",
          "output_type": "stream",
          "text": [
            "\n",
            "\n",
            "tqdm() Progress Bar Segments: 1503it [13:13,  1.92it/s]\u001b[A\u001b[A"
          ]
        },
        {
          "name": "stdout",
          "output_type": "stream",
          "text": [
            "[[3.0247043e-04 9.3524650e-05 1.4762742e-06 1.2491860e-04 9.1147079e-04\n",
            "  8.6292741e-04 1.9115700e-05 9.9570823e-01 2.9678200e-04 1.3061970e-03\n",
            "  3.7286853e-04]]\n"
          ]
        },
        {
          "name": "stderr",
          "output_type": "stream",
          "text": [
            "\n",
            "\n",
            "tqdm() Progress Bar Segments: 1504it [13:13,  1.92it/s]\u001b[A\u001b[A"
          ]
        },
        {
          "name": "stdout",
          "output_type": "stream",
          "text": [
            "[[2.2007219e-04 1.1073849e-03 8.2397630e-05 2.6475461e-06 9.9838543e-01\n",
            "  1.2878598e-04 1.5827867e-06 6.1737577e-05 4.5963202e-07 9.6025667e-07\n",
            "  8.5818865e-06]]\n"
          ]
        },
        {
          "name": "stderr",
          "output_type": "stream",
          "text": [
            "\n",
            "\n",
            "tqdm() Progress Bar Segments: 1505it [13:14,  1.93it/s]\u001b[A\u001b[A"
          ]
        },
        {
          "name": "stdout",
          "output_type": "stream",
          "text": [
            "[[6.8305380e-04 5.6653404e-05 1.2262858e-06 1.7644883e-04 5.8360263e-03\n",
            "  5.7186454e-04 2.0240637e-05 9.8006380e-01 7.0821280e-03 1.9165964e-04\n",
            "  5.3169657e-03]]\n"
          ]
        },
        {
          "name": "stderr",
          "output_type": "stream",
          "text": [
            "\n",
            "\n",
            "tqdm() Progress Bar Segments: 1506it [13:14,  1.94it/s]\u001b[A\u001b[A"
          ]
        },
        {
          "name": "stdout",
          "output_type": "stream",
          "text": [
            "[[7.67434482e-03 1.90106466e-01 2.03089286e-02 1.13518254e-04\n",
            "  7.56530106e-01 1.49071617e-02 1.95717992e-04 4.28449176e-03\n",
            "  1.58456445e-04 1.49010026e-04 5.57182683e-03]]\n"
          ]
        },
        {
          "name": "stderr",
          "output_type": "stream",
          "text": [
            "\n",
            "\n",
            "tqdm() Progress Bar Segments: 1507it [13:15,  1.95it/s]\u001b[A\u001b[A"
          ]
        },
        {
          "name": "stdout",
          "output_type": "stream",
          "text": [
            "[[4.5740453e-06 1.6584456e-03 1.2170020e-07 2.9581741e-05 4.3796470e-05\n",
            "  2.3863788e-05 2.2271703e-07 9.9819916e-01 2.6265877e-06 9.7318900e-07\n",
            "  3.6597648e-05]]\n"
          ]
        },
        {
          "name": "stderr",
          "output_type": "stream",
          "text": [
            "\n",
            "\n",
            "tqdm() Progress Bar Segments: 1508it [13:15,  1.90it/s]\n",
            "tqdm() Progress Bar Files: 0it [14:11, ?it/s]\n",
            "tqdm() Progress Bar Models:   0%|          | 0/1 [14:15<?, ?it/s]\n"
          ]
        },
        {
          "ename": "KeyboardInterrupt",
          "evalue": "ignored",
          "output_type": "error",
          "traceback": [
            "\u001b[0;31m---------------------------------------------------------------------------\u001b[0m",
            "\u001b[0;31mKeyboardInterrupt\u001b[0m                         Traceback (most recent call last)",
            "\u001b[0;32m<ipython-input-25-8f7637ed8021>\u001b[0m in \u001b[0;36m<module>\u001b[0;34m()\u001b[0m\n\u001b[1;32m    227\u001b[0m \u001b[0;32mif\u001b[0m \u001b[0m__name__\u001b[0m \u001b[0;34m==\u001b[0m \u001b[0;34m\"__main__\"\u001b[0m\u001b[0;34m:\u001b[0m\u001b[0;34m\u001b[0m\u001b[0;34m\u001b[0m\u001b[0m\n\u001b[1;32m    228\u001b[0m     \u001b[0mprocess_file\u001b[0m\u001b[0;34m=\u001b[0m \u001b[0mClassfield_segmented\u001b[0m\u001b[0;34m(\u001b[0m\u001b[0;34m)\u001b[0m\u001b[0;34m\u001b[0m\u001b[0;34m\u001b[0m\u001b[0m\n\u001b[0;32m--> 229\u001b[0;31m     \u001b[0mprocess_file\u001b[0m\u001b[0;34m.\u001b[0m\u001b[0mprocess\u001b[0m\u001b[0;34m(\u001b[0m\u001b[0;34m)\u001b[0m\u001b[0;34m\u001b[0m\u001b[0;34m\u001b[0m\u001b[0m\n\u001b[0m\u001b[1;32m    230\u001b[0m \u001b[0;34m\u001b[0m\u001b[0m\n\u001b[1;32m    231\u001b[0m \u001b[0;34m\u001b[0m\u001b[0m\n",
            "\u001b[0;32m<ipython-input-25-8f7637ed8021>\u001b[0m in \u001b[0;36mprocess\u001b[0;34m(self)\u001b[0m\n\u001b[1;32m    197\u001b[0m                 \u001b[0mthreads\u001b[0m\u001b[0;34m=\u001b[0m\u001b[0;34m[\u001b[0m\u001b[0;34m]\u001b[0m\u001b[0;34m\u001b[0m\u001b[0;34m\u001b[0m\u001b[0m\n\u001b[1;32m    198\u001b[0m                 \u001b[0;32mfor\u001b[0m \u001b[0mfilename\u001b[0m \u001b[0;32min\u001b[0m \u001b[0mtqdm\u001b[0m\u001b[0;34m(\u001b[0m\u001b[0mglob\u001b[0m\u001b[0;34m.\u001b[0m\u001b[0miglob\u001b[0m\u001b[0;34m(\u001b[0m\u001b[0mself\u001b[0m\u001b[0;34m.\u001b[0m\u001b[0mlocation_drive\u001b[0m\u001b[0;34m+\u001b[0m\u001b[0;34m'image/*.png'\u001b[0m\u001b[0;34m,\u001b[0m \u001b[0mrecursive\u001b[0m\u001b[0;34m=\u001b[0m\u001b[0;32mTrue\u001b[0m\u001b[0;34m)\u001b[0m\u001b[0;34m,\u001b[0m \u001b[0mdesc\u001b[0m \u001b[0;34m=\u001b[0m \u001b[0;34m'tqdm() Progress Bar Files'\u001b[0m\u001b[0;34m)\u001b[0m\u001b[0;34m:\u001b[0m\u001b[0;34m\u001b[0m\u001b[0;34m\u001b[0m\u001b[0m\n\u001b[0;32m--> 199\u001b[0;31m                    \u001b[0mself\u001b[0m\u001b[0;34m.\u001b[0m\u001b[0mjob_process\u001b[0m\u001b[0;34m(\u001b[0m\u001b[0mmodel_name\u001b[0m\u001b[0;34m,\u001b[0m\u001b[0mfilename\u001b[0m\u001b[0;34m,\u001b[0m\u001b[0mpreprocess_input\u001b[0m\u001b[0;34m,\u001b[0m \u001b[0mdecode_predictions\u001b[0m\u001b[0;34m,\u001b[0m\u001b[0mlist_iou\u001b[0m\u001b[0;34m)\u001b[0m\u001b[0;34m\u001b[0m\u001b[0;34m\u001b[0m\u001b[0m\n\u001b[0m\u001b[1;32m    200\u001b[0m                    \u001b[0;31m#th = threading.Thread(target=self.job_process,args=(model_name,filename,preprocess_input, decode_predictions,list_iou ))\u001b[0m\u001b[0;34m\u001b[0m\u001b[0;34m\u001b[0m\u001b[0;34m\u001b[0m\u001b[0m\n\u001b[1;32m    201\u001b[0m                    \u001b[0;31m#threads.append(th)\u001b[0m\u001b[0;34m\u001b[0m\u001b[0;34m\u001b[0m\u001b[0;34m\u001b[0m\u001b[0m\n",
            "\u001b[0;32m<ipython-input-25-8f7637ed8021>\u001b[0m in \u001b[0;36mjob_process\u001b[0;34m(self, model_name, filename, preprocess_input, decode_predictions, list_iou)\u001b[0m\n\u001b[1;32m     71\u001b[0m             \u001b[0;32mfor\u001b[0m \u001b[0;34m(\u001b[0m\u001b[0mi\u001b[0m\u001b[0;34m,\u001b[0m \u001b[0mseg\u001b[0m\u001b[0;34m)\u001b[0m \u001b[0;32min\u001b[0m \u001b[0mtqdm\u001b[0m\u001b[0;34m(\u001b[0m\u001b[0menumerate\u001b[0m\u001b[0;34m(\u001b[0m\u001b[0mnp\u001b[0m\u001b[0;34m.\u001b[0m\u001b[0munique\u001b[0m\u001b[0;34m(\u001b[0m\u001b[0msegments\u001b[0m \u001b[0;34m)\u001b[0m\u001b[0;34m)\u001b[0m\u001b[0;34m,\u001b[0m \u001b[0mdesc\u001b[0m \u001b[0;34m=\u001b[0m \u001b[0;34m'tqdm() Progress Bar Segments'\u001b[0m\u001b[0;34m)\u001b[0m\u001b[0;34m:\u001b[0m\u001b[0;34m\u001b[0m\u001b[0;34m\u001b[0m\u001b[0m\n\u001b[1;32m     72\u001b[0m               \u001b[0;31m# Create a mask, painting black all pixels outside of segment and white the pixels inside.\u001b[0m\u001b[0;34m\u001b[0m\u001b[0;34m\u001b[0m\u001b[0;34m\u001b[0m\u001b[0m\n\u001b[0;32m---> 73\u001b[0;31m               \u001b[0mmask_segment\u001b[0m \u001b[0;34m=\u001b[0m \u001b[0mnp\u001b[0m\u001b[0;34m.\u001b[0m\u001b[0mzeros\u001b[0m\u001b[0;34m(\u001b[0m  \u001b[0mimg_load\u001b[0m\u001b[0;34m.\u001b[0m\u001b[0mcopy\u001b[0m\u001b[0;34m(\u001b[0m\u001b[0;34m)\u001b[0m\u001b[0;34m.\u001b[0m\u001b[0mshape\u001b[0m\u001b[0;34m[\u001b[0m\u001b[0;34m:\u001b[0m\u001b[0;36m2\u001b[0m\u001b[0;34m]\u001b[0m\u001b[0;34m,\u001b[0m \u001b[0mdtype\u001b[0m\u001b[0;34m=\u001b[0m\u001b[0;34m\"uint8\"\u001b[0m\u001b[0;34m)\u001b[0m\u001b[0;34m\u001b[0m\u001b[0;34m\u001b[0m\u001b[0m\n\u001b[0m\u001b[1;32m     74\u001b[0m               \u001b[0mmask_segment\u001b[0m\u001b[0;34m[\u001b[0m\u001b[0msegments\u001b[0m \u001b[0;34m==\u001b[0m \u001b[0mseg\u001b[0m\u001b[0;34m]\u001b[0m \u001b[0;34m=\u001b[0m \u001b[0;36m255\u001b[0m\u001b[0;34m\u001b[0m\u001b[0;34m\u001b[0m\u001b[0m\n\u001b[1;32m     75\u001b[0m \u001b[0;34m\u001b[0m\u001b[0m\n",
            "\u001b[0;31mKeyboardInterrupt\u001b[0m: "
          ]
        }
      ],
      "source": [
        "def synchronized(wrapped):\n",
        "    lock = threading.Lock()\n",
        "    @functools.wraps(wrapped)\n",
        "    def _wrap(*args, **kwargs):\n",
        "        with lock:\n",
        "            return wrapped(*args, **kwargs)\n",
        "    return _wrap\n",
        "class Classfield_segmented(object):\n",
        "       c = csv.writer(open(\"dados.csv\", \"w\", newline=''))\n",
        "       location_drive='/content/drive/MyDrive/datasets/dataset_anette/data_labelme/' #caminho até onde está a base das pastas\n",
        "       IMG_WIDTH, IMG_HEIGHT = 224,224\n",
        "       dict_classes=['background','Cirsium_arvense','Salix spec','Oenanthe aquatica','Phalaris arundinacea','Urtica dioica','Arctium spec.','Carex riparia live','Salix cinerea','Typha live', 'Phragmites australis live','Phragmites australis mix live and dead','Nymphaeidae','water']\n",
        "        #'01':'background', '02':'Cirsium arvense', '03':'Salix spec', '04':'Oenanthe aquatica', '05': 'Phalaris arundinacea', '06': 'Urtica dioica', '07': 'Arctium spec.', '08': 'Carex riparia live','09': 'Salix cinerea','10': 'Typha live','11': 'Phragmites australis live','12': 'Phragmites australis mix live and dead','13':'Nymphaeidae','14': 'water'\n",
        "        #background,'Cirsium_arvense','Salix spec','Oenanthe aquatica','Phalaris arundinacea','Urtica dioica','Arctium spec.','Carex riparia live','Salix cinerea','Typha live', 'Phragmites australis live','Phragmites australis mix live and dead','Nymphaeidae','water'\n",
        "       color_classes=[(0, 0, 0),(255,192,203),(200, 200, 74 ),(200, 190, 167),(200, 137, 118),(62, 200, 41),(200, 37, 168),(146, 200, 7),(200, 179, 37),(165, 200, 48),(200, 148, 179),(200, 167, 193),(200, 107, 163),(122, 144, 200 )]\n",
        "       model=None  \n",
        "       \n",
        "       def getRAMinfo(self):\n",
        "         p = os.popen('free')\n",
        "         i = 0\n",
        "         while 1:\n",
        "            i = i + 1\n",
        "            line = p.readline()\n",
        "            if i==2:\n",
        "              return(line.split()[1:4])\n",
        "              \n",
        "       @synchronized\n",
        "       \n",
        "       def predict(self,image):\n",
        "          predict=self.model.predict(image)\n",
        "        #   image_path = self.\n",
        "          print(predict)\n",
        "          with open('Refs.txt', 'a',encoding='utf-8') as f:\n",
        "            for line in predict:\n",
        "                f.write(str(line))\n",
        "                f.write('\\n')\n",
        "            \n",
        "            \n",
        "\n",
        "        #   return scipy.special.softmax(predict, axis=1) \n",
        "\n",
        "          return np.argmax(predict, axis=1)\n",
        "\n",
        "    #    print('image: ', image_path)\n",
        "\n",
        "       def job_process(self,model_name,filename, preprocess_input, decode_predictions,list_iou):\n",
        "            print(filename)\n",
        "            im=io.imread(filename)\n",
        "            #plt.imshow(im)\n",
        "            \n",
        "            #plt.show()\n",
        "            \n",
        "            #Create SLIC\n",
        "\n",
        "            img_load=im.copy()\n",
        "            ##create a superpixels\n",
        "            segments = segmentation.slic(img_load, n_segments=4000,compactness=10, sigma=5)\n",
        "            # segments = img_load\n",
        "            #mark boundaries\n",
        "            img_slic=mark_boundaries(img_load, segments)\n",
        "            \n",
        "            mpimg.imsave(self.location_drive + \"result/\"+model_name+\"/slic/\"+filename.split(\"image/\")[1],img_slic) #local do drive\n",
        "\n",
        "            #Classificando os superpixels\n",
        "            #print(segments)\n",
        "            #superpixels=[]\n",
        "            pred_list=[]\n",
        "            qtd=len(np.unique(segments))\n",
        "            print(\"Processando os superpixels da imagem\")\n",
        "            img_paint=im.copy()    \n",
        "            for (i, seg) in tqdm(enumerate(np.unique(segments )), desc = 'tqdm() Progress Bar Segments'):\n",
        "              # Create a mask, painting black all pixels outside of segment and white the pixels inside.\n",
        "              mask_segment = np.zeros(  img_load.copy().shape[:2], dtype=\"uint8\")\n",
        "              mask_segment[segments == seg] = 255\n",
        "\n",
        "              size_segment = mask_segment[segments == seg].size\n",
        "              segment =  img_load.copy() \n",
        "              segment = cv2.bitwise_and(segment, segment, mask=mask_segment)\n",
        "              # Get the countours around the segment\n",
        "              contours, _  = cv2.findContours(mask_segment,cv2.RETR_LIST,cv2.CHAIN_APPROX_SIMPLE)[-2:]\n",
        "         \n",
        "              m = -1\n",
        "              max_contour = None\n",
        "              for cnt in contours:\n",
        "                       if (len(cnt) > m):\n",
        "                          m = len(cnt)\n",
        "                          max_contour = cnt\n",
        "\n",
        "              # Get the rectangle that encompasses the countour\n",
        "              x,y,w,h = cv2.boundingRect(max_contour)\n",
        "              segment = segment[y:y+h, x:x+w]\n",
        "\n",
        "              #superpixels.append(segment)\n",
        "         \n",
        "              # pre-process the image for classification\n",
        "              image = cv2.resize(segment, (self.IMG_HEIGHT, self.IMG_WIDTH))\n",
        "              image = image.astype(\"float\") / 255.0\n",
        "              image = img_to_array(image)\n",
        "              image = np.expand_dims(image, axis=0)\n",
        "           \n",
        "              predict = self.predict(image)\n",
        "              \n",
        "              color=None\n",
        "\n",
        "                 \n",
        "              for cont, name_classs in enumerate(self.dict_classes):  \n",
        "                if(self.dict_classes[predict[0]]==name_classs):\n",
        "                    color=self.color_classes[cont]\n",
        "                    break\n",
        "              #predict = np.argmax(predict, axis=1)\n",
        "              #print(predict)\n",
        "              pred_list.append(self.dict_classes[predict[0]])\n",
        "              #if(idx_segment<4):\n",
        "                #plt.imshow(segment)\n",
        "                #print(dict_classes[predict[0]])\n",
        "                #plt.show()\n",
        "                #break\n",
        "              \n",
        "              #painting  \n",
        "              height, width, channels = img_paint.shape   \n",
        "               \n",
        "              mask_inv = cv2.bitwise_not(mask_segment)\n",
        "               \n",
        "              # Paint all pixels in original image with choosed color\n",
        "              class_color = np.zeros((height,width,3), np.uint8)\n",
        "              class_color[:, :] = color\n",
        "              colored_image = cv2.addWeighted(img_paint, 0.0, class_color, 1.0, 0)\n",
        "               \n",
        "              colored_image = cv2.bitwise_and(colored_image, colored_image, mask=mask_segment)\n",
        "              clear = False\n",
        "              # Create a new image keeping the painting only in pixels inside of segments\n",
        "              new_image =   img_paint\n",
        "              new_image = cv2.bitwise_and(new_image, new_image, mask=mask_inv)\n",
        "              mask_segment[:] = 255\n",
        "              img_paint = cv2.bitwise_or(new_image, colored_image, mask=mask_segment)\n",
        "               \n",
        "             \n",
        "\n",
        "            #/content/drive/MyDrive/datasets/dataset_anette/data_labelme/\n",
        "            mpimg.imsave(self.location_drive + \"result/\"+model_name+\"/paint/\"+filename.split(\"image/\")[1],img_paint)\n",
        "            ##Calcula o IoU\n",
        "            \n",
        "            \"\"\"\n",
        "            im_mask=cv2.imread(self.location_drive+\"sheep_mask/\"+filename.split(\"sheep/\")[1].split(\"_img\")[0]+\"_label.png\")\n",
        "            print(self.location_drive+\"sheep_mask/\"+filename.split(\"sheep/\")[1].split(\"_img\")[0]+\"_label.png\")\n",
        "            #print(im_mask)\n",
        "            im_mask = cv2.cvtColor(im_mask, cv2.COLOR_BGR2GRAY)\n",
        "            ret,im_mask = cv2.threshold(im_mask,25, 255, cv2.THRESH_BINARY)\n",
        "            #im=cv2.cvtColor(im,cv2.COLOR_BGR2RGB)\n",
        "            #plt.imshow(im_mask ,cmap=pylab.gray())\n",
        "            ##target, predition\n",
        "            img_p=cv2.cvtColor(img_paint, cv2.COLOR_BGR2GRAY)\n",
        "            r,img_p = cv2.threshold(img_p, 25, 255, cv2.THRESH_BINARY)\n",
        "            intersection = np.logical_and(np.array(im_mask), np.array(img_p))\n",
        "            union = np.logical_or(im_mask,img_p)\n",
        "            \n",
        "            mpimg.imsave(\"result/\"+model_name+\"/inter/\"+filename.split(\"sheep/\")[1],intersection)\n",
        "            \n",
        "            mpimg.imsave(\"result/\"+model_name+\"/union/\"+filename.split(\"sheep/\")[1],union)\n",
        "            iou_score = np.sum(intersection) / np.sum(union)\n",
        "            print(iou_score)\n",
        "            list_iou.append(iou_score)\n",
        "            \n",
        "            self.c.writerow([str(model_name),str(filename.split(\"sheep/\")[1]),str(iou_score)])             \n",
        "            \"\"\"\n",
        "     \n",
        "       def process(self):       \n",
        "              dict_preprocessing = {}\n",
        "              dict_preprocessing[1] = applications.vgg16.preprocess_input, applications.vgg16.decode_predictions\n",
        "              dict_preprocessing[2] = applications.inception_v3.preprocess_input, applications.inception_v3.decode_predictions\n",
        "              dict_preprocessing[3] = applications.densenet.preprocess_input, applications.densenet.decode_predictions\n",
        "              dict_preprocessing[4] = applications.resnet_v2.preprocess_input, applications.resnet_v2.decode_predictions\n",
        "              dict_preprocessing[5] = applications.xception.preprocess_input, applications.xception.decode_predictions\n",
        "\n",
        "              self.c.writerow([\"Modelo\",\"Arquivo\",\"IOU\"])\n",
        "              #names of models\n",
        "              list_model=[\"Xception\"]#,\"ResNet152V2\" , \"InceptionV3\",\"VGG16\", \"DenseNet201\"]\n",
        "              for model_name in tqdm(list_model, desc = 'tqdm() Progress Bar Models'):\n",
        "                K.clear_session()\n",
        "                self.model = load_model(self.location_drive+\"model/\"+model_name+\"_transfer_learning_adagrad.h5\")\n",
        "                preprocess_input=None\n",
        "                decode_predictions=None\n",
        "                if model_name==\"VGG16\":\n",
        "                   preprocess_input, decode_predictions = dict_preprocessing[1]\n",
        "                if model_name==\"InceptionV3\":\n",
        "                   preprocess_input, decode_predictions = dict_preprocessing[2]\n",
        "                if model_name==\"DenseNet201\":\n",
        "                   preprocess_input, decode_predictions = dict_preprocessing[3]\n",
        "                if model_name==\"ResNet152V2\":\n",
        "                   preprocess_input, decode_predictions = dict_preprocessing[4]\n",
        "                if model_name==\"Xception\":\n",
        "                   preprocess_input, decode_predictions = dict_preprocessing[5]   \n",
        "                list_iou=[]\n",
        "                print(\"Load Model H5:\"+model_name+\"_transfer_learning_adagrad.h5\")\n",
        "                # print(decode_predictions(prediction, top=3)[0])\n",
        "                #Process each image\n",
        "                threads=[]\n",
        "                for filename in tqdm(glob.iglob(self.location_drive+'image/*.png', recursive=True), desc = 'tqdm() Progress Bar Files'):\n",
        "                   self.job_process(model_name,filename,preprocess_input, decode_predictions,list_iou)\n",
        "                   #th = threading.Thread(target=self.job_process,args=(model_name,filename,preprocess_input, decode_predictions,list_iou ))\n",
        "                   #threads.append(th)\n",
        "                \n",
        "                # Output is in kb, here I convert it in Mb for readability\n",
        "                RAM_stats = self.getRAMinfo()\n",
        "                RAM_total = round(int(RAM_stats[0]) / 1000,1)\n",
        "                RAM_used = round(int(RAM_stats[1]) / 1000,1)\n",
        "                print(\"RAM Total : \"+str(RAM_total))\n",
        "                print(\"RAM Used : \"+str(RAM_used))\n",
        "                 \n",
        "                print(\"Wait a moment, the threads are processing \"+str(len(threads)) +\" images, it may be delayed depending on the size or quantity of the images!\")\n",
        "                with tqdm(total=len(threads)) as pbar:\n",
        "                  for  t in threads:\n",
        "                        t.start()\n",
        "                        #t.join()\n",
        "                        if((RAM_total)<33000):#se menor que 10gb\n",
        "                             RAM_stats = self.getRAMinfo()\n",
        "                             RAM_used = round(int(RAM_stats[1]) / 1000,1)\n",
        "                             if((RAM_total-RAM_used)<6000):\n",
        "                               t.join()\n",
        "                             pbar.update(1)\n",
        "                  pbar.close()\n",
        "                for  t in threads:\n",
        "                   t.join()\n",
        "                #print(\"Average IoU\"+ str(np.mean(list_iou)))\n",
        "                #print(\"Model_name:\"+list_iou)\n",
        "\n",
        "if __name__ == \"__main__\":\n",
        "    process_file= Classfield_segmented()\n",
        "    process_file.process()\n",
        "\n",
        "\n"
      ]
    },
    {
      "cell_type": "code",
      "execution_count": null,
      "metadata": {
        "colab": {
          "background_save": true
        },
        "id": "3EEZgFW55Wuw"
      },
      "outputs": [],
      "source": [
        ""
      ]
    },
    {
      "cell_type": "code",
      "execution_count": null,
      "metadata": {
        "colab": {
          "background_save": true
        },
        "id": "A1WGvUuzFW7-"
      },
      "outputs": [],
      "source": [
        ""
      ]
    }
  ],
  "metadata": {
    "accelerator": "TPU",
    "colab": {
      "collapsed_sections": [],
      "machine_shape": "hm",
      "name": "main_segcc_proba1.ipynb",
      "provenance": [],
      "mount_file_id": "1Xv8uGWDLY5rj2cR4anH996SvkkgWm2FH",
      "authorship_tag": "ABX9TyN/CJVqjqrgg5ucFHb5IwDJ",
      "include_colab_link": true
    },
    "kernelspec": {
      "display_name": "Python 3",
      "name": "python3"
    },
    "language_info": {
      "name": "python"
    }
  },
  "nbformat": 4,
  "nbformat_minor": 0
}